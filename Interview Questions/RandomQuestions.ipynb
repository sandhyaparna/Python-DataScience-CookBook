{
  "nbformat": 4,
  "nbformat_minor": 0,
  "metadata": {
    "colab": {
      "name": "RandomQuestions.ipynb",
      "provenance": [],
      "collapsed_sections": [],
      "authorship_tag": "ABX9TyPjA72n+qQFc6Tncn9j0M/n",
      "include_colab_link": true
    },
    "kernelspec": {
      "name": "python3",
      "display_name": "Python 3"
    }
  },
  "cells": [
    {
      "cell_type": "markdown",
      "metadata": {
        "id": "view-in-github",
        "colab_type": "text"
      },
      "source": [
        "<a href=\"https://colab.research.google.com/github/sandhyaparna/Python-DataScience-CookBook/blob/master/Interview%20Questions/RandomQuestions.ipynb\" target=\"_parent\"><img src=\"https://colab.research.google.com/assets/colab-badge.svg\" alt=\"Open In Colab\"/></a>"
      ]
    },
    {
      "cell_type": "code",
      "metadata": {
        "colab": {
          "base_uri": "https://localhost:8080/"
        },
        "id": "kA-cTuYaK5sK",
        "outputId": "34ff8908-54b0-4e4e-ed1b-661091df8a73"
      },
      "source": [
        "# First 5 powers of two\n",
        "powersofTwo = []\n",
        "for i in range(0,5):\n",
        "  x = pow(2,i)\n",
        "  powersofTwo.append(x)\n",
        "\n",
        "powersofTwo"
      ],
      "execution_count": null,
      "outputs": [
        {
          "output_type": "execute_result",
          "data": {
            "text/plain": [
              "[1, 2, 4, 8, 16]"
            ]
          },
          "metadata": {
            "tags": []
          },
          "execution_count": 2
        }
      ]
    },
    {
      "cell_type": "code",
      "metadata": {
        "colab": {
          "base_uri": "https://localhost:8080/"
        },
        "id": "mtjX4epkaXgx",
        "outputId": "bd984c62-40d8-493e-ba77-5964f8aa6280"
      },
      "source": [
        "# Powers of two that are between X & Y\n",
        "import numpy as np\n",
        "import math\n",
        "x = 3\n",
        "y = 19\n",
        "def powersofTwoBetwXY(x,y):\n",
        "  p=np.int(np.ceil(math.log2(x)))\n",
        "  q=np.int(np.ceil(math.log2(y)))\n",
        "  powersofTwo = []\n",
        "  for i in range(p,q):\n",
        "    x = pow(2,i) \n",
        "    powersofTwo.append(x)\n",
        "  print(powersofTwo)\n",
        "\n",
        "powersofTwoBetwXY(3,19)"
      ],
      "execution_count": null,
      "outputs": [
        {
          "output_type": "stream",
          "text": [
            "[4, 8, 16]\n"
          ],
          "name": "stdout"
        }
      ]
    },
    {
      "cell_type": "code",
      "metadata": {
        "colab": {
          "base_uri": "https://localhost:8080/"
        },
        "id": "yLqvFSzsCz6x",
        "outputId": "5af94032-f01e-437e-fcd2-03911c91ecb3"
      },
      "source": [
        "# Check if numbers/elements in a array can be made equal through multiplication\n",
        "# Given an array arr[], write a function to feed in the array elements check whether they can all be made equal by only multiplying the numbers by 2 or 7. (you can multiply by these #s as many times as you like) If all elements can be made equal, return False, otherwise return True.\n",
        "# check for remainder after diving by any power 2 or 7 and see remainder is same in all the elements or not\n",
        "\n",
        "# For eg: [50,75,100] - check if they can be made equal by multiplying with 2 or 3\n",
        "# In this case 50 can be written as 5^2*2, 75 as 5^2*3, 100 as 5^2*2^2. in this case as other that 2 and 3, 5^2=25 is common among the number\n",
        "# so, they can all be made equal. 50*2^2*3, 75*2^2, 100*3 will all be qual to 300\n",
        "# For eg: 10,50. they cannot be made equal as by multiplying only using 2 or 3 prime factors as other part i.e 5 & 5^2 are not equal in this case. \n",
        "# 10=5*2, 50=5^2*2.\n",
        "\n",
        "import math\n",
        "\n",
        "def get_power_of_p(n, p):\n",
        "  ans = 0\n",
        "  while (n % p) == 0:\n",
        "    ans += 1\n",
        "    n /= p\n",
        "  return math.floor(ans)\n",
        "\n",
        "def check_if_array_numbers_can_be_made_equal(a):\n",
        "  n, prev = len(a), 0\n",
        "  for i in range(n):\n",
        "    p2 = get_power_of_p(a[i], 2)\n",
        "    p7 = get_power_of_p(a[i], 7)\n",
        "    a[i] /= ((2**p2) * (7**p7))\n",
        "    print(\"Residual = \" + str(a[i]) + \", Power of 2 = \" + str(p2) + \", Power of 7 = \" + str(p7))\n",
        "    if i > 0:\n",
        "      if a[i] != prev:\n",
        "        return \"No\"\n",
        "    prev = a[i]\n",
        "  return \"Yes\"\n",
        "\n",
        "print(check_if_array_numbers_can_be_made_equal([128, 4, 2]))"
      ],
      "execution_count": null,
      "outputs": [
        {
          "output_type": "stream",
          "text": [
            "Residual = 1.0, Power of 2 = 7, Power of 7 = 0\n",
            "Residual = 1.0, Power of 2 = 2, Power of 7 = 0\n",
            "Residual = 1.0, Power of 2 = 1, Power of 7 = 0\n",
            "Yes\n"
          ],
          "name": "stdout"
        }
      ]
    },
    {
      "cell_type": "code",
      "metadata": {
        "colab": {
          "base_uri": "https://localhost:8080/"
        },
        "id": "RSzAhbkMCz3b",
        "outputId": "b585b947-be4d-4a47-8114-72a2db07a908"
      },
      "source": [
        "# Create a Python function that generates the power set given a set of values. For example, if you're given the following set:\n",
        "# set = {1, 2, 3} Your python function should return the corresponding power set:\n",
        "# power set = { {}, {1}, {2}, {3}, {1, 2}, {2, 3}, {1, 3}, {1, 2, 3} }\n",
        "\n",
        "# A power set will 2^n elements. n is the length of n\n",
        "# so create binary values for 0 to 2^n and extract elements from set based on index position of 1 in binary representation\n",
        "\n",
        "import numpy as np\n",
        "\n",
        "def get_power_set(a):\n",
        "    n = len(a)\n",
        "    x = 2**n\n",
        "    ans = []\n",
        "    for i in range(x):\n",
        "        l = []\n",
        "        index = 0\n",
        "        while i > 0:\n",
        "            if (i % 2) == 1:\n",
        "                l.append(a[index])\n",
        "            i >>= 1\n",
        "            index += 1\n",
        "        ans.append(l)\n",
        "    return sorted(ans, key = len)\n",
        "\n",
        "print(get_power_set([1, 2, 3]))"
      ],
      "execution_count": null,
      "outputs": [
        {
          "output_type": "stream",
          "text": [
            "[[], [1], [2], [3], [1, 2], [1, 3], [2, 3], [1, 2, 3]]\n"
          ],
          "name": "stdout"
        }
      ]
    },
    {
      "cell_type": "code",
      "metadata": {
        "id": "pHrhnX_5GABC"
      },
      "source": [
        "# There's a staircase with N steps, and you can climb 1 or 2 steps at a time. Given N, write a function that returns the number of unique ways you can climb the staircase. The order of the steps matters.\n",
        "# For example, if N is 4, then there are 5 unique ways:\n",
        "# 1, 1, 1, 1\n",
        "# 2, 1, 1\n",
        "# 1, 2, 1\n",
        "# 1, 1, 2\n",
        "# 2, 2\n",
        "# What if, instead of being able to climb 1 or 2 steps at a time, you could climb any number from a set of positive integers X? For example, if X = {1, 3, 5}, you could climb 1, 3, or 5 steps at a time. Generalize your function to take in X.\n",
        "\n",
        "# Logic\n",
        "# N is written as p(a)+q(b) where a=1, b=2\n",
        "# for p in (0,N/a):\n",
        "#   calculate q \n",
        "#   Extract only integers from q\n",
        "#   Now calculate p based on values from q\n",
        "# For each unique combination of (p,q) there will p+q positions for which (a,b) are to be selected\n",
        " "
      ],
      "execution_count": null,
      "outputs": []
    },
    {
      "cell_type": "code",
      "metadata": {
        "id": "Plu1K8o3pPr8",
        "colab": {
          "base_uri": "https://localhost:8080/"
        },
        "outputId": "2c3add62-d2f1-4c8e-912e-724d94559fdf"
      },
      "source": [
        "# Reversing an array \r\n",
        "T = [1,2,3,4,5]\r\n",
        "T1 = []\r\n",
        "for i in T:\r\n",
        "  T1.insert(0,i)\r\n",
        "print(T1)"
      ],
      "execution_count": null,
      "outputs": [
        {
          "output_type": "stream",
          "text": [
            "[5, 4, 3, 2, 1]\n"
          ],
          "name": "stdout"
        }
      ]
    },
    {
      "cell_type": "code",
      "metadata": {
        "id": "mliWEmyFLfY3",
        "colab": {
          "base_uri": "https://localhost:8080/"
        },
        "outputId": "d53e9b56-9587-468b-88a2-77d56b91665f"
      },
      "source": [
        "list1 = [2,7,4,8]\r\n",
        "print(\"range of len of array\")\r\n",
        "for i in range(len(list1)):\r\n",
        "  print(i)\r\n",
        "\r\n",
        "print(\"range of len of array to 0\")\r\n",
        "for i in range(len(list1)-1,-1,-1):\r\n",
        "  print(i)\r\n",
        "\r\n",
        "print(\"get first and corresponding last index\")\r\n",
        "for i in range(len(list1)//2):\r\n",
        "  print(i, \" : \", -i-1)"
      ],
      "execution_count": null,
      "outputs": [
        {
          "output_type": "stream",
          "text": [
            "range of len of array\n",
            "0\n",
            "1\n",
            "2\n",
            "3\n",
            "range of len of array to 0\n",
            "3\n",
            "2\n",
            "1\n",
            "0\n",
            "get first and corresponding last index\n",
            "0  :  -1\n",
            "1  :  -2\n"
          ],
          "name": "stdout"
        }
      ]
    },
    {
      "cell_type": "code",
      "metadata": {
        "id": "VH4SkkyIh9O-",
        "colab": {
          "base_uri": "https://localhost:8080/"
        },
        "outputId": "db811939-5085-4638-c921-444fa3cedf7c"
      },
      "source": [
        "print(\"even numbers\")\r\n",
        "for i in range(5):\r\n",
        "  print(2*i)\r\n",
        "\r\n",
        "print(\"even numbers\")\r\n",
        "for i in range(0,5,2):\r\n",
        "  print(i)\r\n",
        "\r\n",
        "print(\"odd numbers\")\r\n",
        "for i in range(5):\r\n",
        "  print(2*i+1)\r\n",
        "\r\n",
        "print(\"odd numbers\")\r\n",
        "for i in range(1,5,2):\r\n",
        "  print(i)"
      ],
      "execution_count": null,
      "outputs": [
        {
          "output_type": "stream",
          "text": [
            "even numbers\n",
            "0\n",
            "2\n",
            "4\n",
            "6\n",
            "8\n",
            "even numbers\n",
            "0\n",
            "2\n",
            "4\n",
            "odd numbers\n",
            "1\n",
            "3\n",
            "5\n",
            "7\n",
            "9\n",
            "odd numbers\n",
            "1\n",
            "3\n"
          ],
          "name": "stdout"
        }
      ]
    },
    {
      "cell_type": "code",
      "metadata": {
        "id": "qlJ9dA-SiZtb",
        "colab": {
          "base_uri": "https://localhost:8080/"
        },
        "outputId": "eddb58b2-f1f9-4d31-9c9d-1bb4a70c6a6b"
      },
      "source": [
        "sandy =\"sandy\"\r\n",
        "i = 0\r\n",
        "j = len(sandy) - 1;\r\n",
        "print(i,j)\r\n",
        "while (i < j):\r\n",
        "    i += 1\r\n",
        "    j -= 1\r\n",
        "    print(i,j) "
      ],
      "execution_count": null,
      "outputs": [
        {
          "output_type": "stream",
          "text": [
            "0 4\n",
            "1 3\n",
            "2 2\n"
          ],
          "name": "stdout"
        }
      ]
    },
    {
      "cell_type": "code",
      "metadata": {
        "id": "sIwClcXJqClr"
      },
      "source": [
        "# Palindrome problem overview\r\n",
        "# When length of digits is odd number we don't have to check the middle value condition as middle value is always equal to itself\r\n",
        "InputString = \"maddam\"\r\n",
        "for i in range(len(InputString)//2): #int(len(InputString)/2)\r\n",
        "  if InputString[i]==InputString[-1-i]: # i =0, will give -1 when [-1-i]\r\n",
        "    pass\r\n",
        "  else:\r\n",
        "    print(\"It is NOT a palindrome\")"
      ],
      "execution_count": null,
      "outputs": []
    },
    {
      "cell_type": "code",
      "metadata": {
        "colab": {
          "base_uri": "https://localhost:8080/"
        },
        "id": "2DUvnyMD16my",
        "outputId": "5b8ada12-8020-4244-fb3b-7c4abe26a342"
      },
      "source": [
        "class palindromeString():\r\n",
        "  def __init__(self, name):\r\n",
        "    self.name = name\r\n",
        "\r\n",
        "  def palindrome(self):\r\n",
        "    for i in range(int(len(self.name)/2)):\r\n",
        "      if self.name[i]==self.name[-1-i]:\r\n",
        "        pass #Do nothing\r\n",
        "      else:\r\n",
        "        print(\"It is NOT a palindrome\")\r\n",
        "      break\r\n",
        "\r\n",
        "palindromeString(\"John\").palindrome()"
      ],
      "execution_count": null,
      "outputs": [
        {
          "output_type": "stream",
          "text": [
            "It is NOT a palindrome\n"
          ],
          "name": "stdout"
        }
      ]
    },
    {
      "cell_type": "code",
      "metadata": {
        "id": "nZRtvUe45xfC",
        "colab": {
          "base_uri": "https://localhost:8080/",
          "height": 35
        },
        "outputId": "ae548ce5-0b9e-43f0-860a-164f53ed2fdc"
      },
      "source": [
        "InputString ='John'\r\n",
        "InputString[::-1]"
      ],
      "execution_count": null,
      "outputs": [
        {
          "output_type": "execute_result",
          "data": {
            "application/vnd.google.colaboratory.intrinsic+json": {
              "type": "string"
            },
            "text/plain": [
              "'nhoJ'"
            ]
          },
          "metadata": {
            "tags": []
          },
          "execution_count": 1
        }
      ]
    },
    {
      "cell_type": "code",
      "metadata": {
        "colab": {
          "base_uri": "https://localhost:8080/"
        },
        "id": "2PkWEl9H2NYG",
        "outputId": "66300f51-d49a-4e67-e98b-e171e0943f7f"
      },
      "source": [
        "def is_palindrom(Str):\r\n",
        "  original_str=str\r\n",
        "  reversed_str=str[::-1] #Reverse of the input string \r\n",
        "\r\n",
        "  if original_str==reversed_str: # Compare if original string is same as reversed string\r\n",
        "    return True\r\n",
        "  return False\r\n",
        "\r\n",
        "# In python we just compare original string with reverse string\r\n",
        "def is_palindrome_python(str):\r\n",
        "  return str==''.join(str[::-1]) \r\n",
        "\r\n",
        "if __name__ == \"__main__\":\r\n",
        "  str='radar'\r\n",
        "  print(is_palindrome_python(str))\r\n",
        "\r\n",
        "  str='john'\r\n",
        "  print(is_palindrome_python(str))"
      ],
      "execution_count": null,
      "outputs": [
        {
          "output_type": "stream",
          "text": [
            "True\n",
            "False\n"
          ],
          "name": "stdout"
        }
      ]
    },
    {
      "cell_type": "code",
      "metadata": {
        "colab": {
          "base_uri": "https://localhost:8080/"
        },
        "id": "zmL80yF64tIQ",
        "outputId": "a9b2075b-4f8e-4335-f1e1-ddf3e8ebc768"
      },
      "source": [
        "InputString =\"1231\"\r\n",
        "Reversed = InputString[::-1]\r\n",
        "int(Reversed)"
      ],
      "execution_count": null,
      "outputs": [
        {
          "output_type": "execute_result",
          "data": {
            "text/plain": [
              "1321"
            ]
          },
          "metadata": {
            "tags": []
          },
          "execution_count": 109
        }
      ]
    },
    {
      "cell_type": "code",
      "metadata": {
        "colab": {
          "base_uri": "https://localhost:8080/"
        },
        "id": "kvgEd5DnZpnz",
        "outputId": "2bf485a0-3ea4-41bf-8bca-ce658d501b1e"
      },
      "source": [
        "# Integer Reversing\r\n",
        "# Remainder when each digit is divided by 10 and in every iteration we keep removing the last digit\r\n",
        "def reverse_integer(n):\r\n",
        "  reversed = 0\r\n",
        "  remainder = 0\r\n",
        "\r\n",
        "  while n>0:\r\n",
        "    remainder = n%10\r\n",
        "    n = n//10\r\n",
        "    reversed = (reversed*10)+remainder\r\n",
        "  \r\n",
        "  return reversed\r\n",
        "\r\n",
        "print(reverse_integer(1234))"
      ],
      "execution_count": null,
      "outputs": [
        {
          "output_type": "stream",
          "text": [
            "4321\n"
          ],
          "name": "stdout"
        }
      ]
    },
    {
      "cell_type": "code",
      "metadata": {
        "id": "Nsi_rZULOFkX",
        "colab": {
          "base_uri": "https://localhost:8080/"
        },
        "outputId": "17254974-da89-454b-e6f7-445eb94d3fc7"
      },
      "source": [
        "# reverse int if it is treated as a string\r\n",
        "def reverse_integer(n):\r\n",
        "  int_str = str(n)\r\n",
        "  rev_int = 0\r\n",
        "  for i in range(len(int_str)-1,-1,-1):\r\n",
        "    rev_int += int(int_str[i])*pow(10,i)\r\n",
        "  return rev_int\r\n",
        "\r\n",
        "reverse_integer(1234)"
      ],
      "execution_count": null,
      "outputs": [
        {
          "output_type": "execute_result",
          "data": {
            "text/plain": [
              "4321"
            ]
          },
          "metadata": {
            "tags": []
          },
          "execution_count": 19
        }
      ]
    },
    {
      "cell_type": "code",
      "metadata": {
        "id": "gvL_q8qreGsl",
        "colab": {
          "base_uri": "https://localhost:8080/"
        },
        "outputId": "0f1474ab-3075-422e-aec7-f5d2cfd3a8b6"
      },
      "source": [
        "# This is O(N sq) running time\r\n",
        "# if an item is in next set of values, if it is so then add into a new array called duplicates\r\n",
        "# But item is added only if it is in the next set of values but not in the duplicates array\r\n",
        "def array_duplicates(array):\r\n",
        "  duplicates = []\r\n",
        "  for i in range(len(array)-1):\r\n",
        "    if (array[i] in array[i+1:len(array)]) and (array[i] not in duplicates): #Not len(array)-1 \r\n",
        "      duplicates.append(array[i])\r\n",
        "  return duplicates\r\n",
        "\r\n",
        "print(array_duplicates([1,2,3,1,4,3,4,5,6,4,8,6,1,12,2]))"
      ],
      "execution_count": null,
      "outputs": [
        {
          "output_type": "stream",
          "text": [
            "[1, 2, 3, 4, 6]\n"
          ],
          "name": "stdout"
        }
      ]
    },
    {
      "cell_type": "code",
      "metadata": {
        "id": "D56b2QfOlaqU"
      },
      "source": [
        "# Not finished\r\n",
        "# Find the index of n in a sorted array (Recursive algo)\r\n",
        "def find_index(array,n):\r\n",
        "  if n==array[len(array)-1] or n==array[len(array)]:\r\n",
        "    print(array.index(n))\r\n",
        "  while n!=array[len_array-1] or n!=array[len_array]:\r\n",
        "    len_array = len(array)//2\r\n",
        "    l1 = array[:len_array-1]\r\n",
        "    l2 = array[len_array:]\r\n",
        "  \r\n",
        "    if n<=array[len_array-1]:\r\n",
        "      len_array = len_array//2\r\n",
        "      \r\n",
        "    else \r\n",
        "      new_array = array[i-1:]\r\n"
      ],
      "execution_count": null,
      "outputs": []
    },
    {
      "cell_type": "code",
      "metadata": {
        "colab": {
          "base_uri": "https://localhost:8080/"
        },
        "id": "bWJI2EIlqCHg",
        "outputId": "0e211c8d-1226-4415-d976-a8279ecbb8b8"
      },
      "source": [
        "# Find max of an array\r\n",
        "def max_array(array):\r\n",
        "  max = array[0]\r\n",
        "  for i in array:\r\n",
        "    if i > max:\r\n",
        "      max = i\r\n",
        "  return max\r\n",
        "\r\n",
        "max_array([4,7,2,8,4])"
      ],
      "execution_count": null,
      "outputs": [
        {
          "output_type": "execute_result",
          "data": {
            "text/plain": [
              "8"
            ]
          },
          "metadata": {
            "tags": []
          },
          "execution_count": 5
        }
      ]
    },
    {
      "cell_type": "code",
      "metadata": {
        "colab": {
          "base_uri": "https://localhost:8080/"
        },
        "id": "BSyG5dvTrf8R",
        "outputId": "775890ac-9438-4e92-e399-d65c3814f070"
      },
      "source": [
        "# Find sum of an array\r\n",
        "def sum_array(array):\r\n",
        "  sum = array[0]\r\n",
        "  for i in range(1,len(array)):\r\n",
        "    sum += array[i]\r\n",
        "  return sum\r\n",
        "\r\n",
        "sum_array([4,7,2,8,4])"
      ],
      "execution_count": null,
      "outputs": [
        {
          "output_type": "execute_result",
          "data": {
            "text/plain": [
              "25"
            ]
          },
          "metadata": {
            "tags": []
          },
          "execution_count": 11
        }
      ]
    },
    {
      "cell_type": "code",
      "metadata": {
        "colab": {
          "base_uri": "https://localhost:8080/"
        },
        "id": "zAo6t5C0sWJI",
        "outputId": "a291041c-e5db-4c0e-8ad7-549ed048acad"
      },
      "source": [
        "# Check whether an item is present in an array\r\n",
        "# print index of the specific number when it appears for the first time in the array\r\n",
        "def check_item_array(array,n):\r\n",
        "  for i in array:\r\n",
        "    if i==n:\r\n",
        "      return array.index(n)\r\n",
        "    else:\r\n",
        "      pass\r\n",
        "\r\n",
        "print(check_item_array([4,7,2,8,4],5))\r\n",
        "print(check_item_array([4,7,2,8,4],7))\r\n",
        "print(check_item_array([4,7,2,8,4],8))\r\n",
        "print(check_item_array([4,7,2,8,4],4))"
      ],
      "execution_count": null,
      "outputs": [
        {
          "output_type": "stream",
          "text": [
            "None\n",
            "1\n",
            "3\n",
            "0\n"
          ],
          "name": "stdout"
        }
      ]
    },
    {
      "cell_type": "code",
      "metadata": {
        "id": "fWgBDD46n9ir",
        "colab": {
          "base_uri": "https://localhost:8080/"
        },
        "outputId": "5b746dad-f1cf-496c-d1c7-97c968c4917b"
      },
      "source": [
        "x = Counter(\"Dirty room\")\r\n",
        "del x[' ']\r\n",
        "x\r\n",
        "\r\n"
      ],
      "execution_count": null,
      "outputs": [
        {
          "output_type": "execute_result",
          "data": {
            "text/plain": [
              "Counter({'D': 1, 'i': 1, 'm': 1, 'o': 2, 'r': 2, 't': 1, 'y': 1})"
            ]
          },
          "metadata": {
            "tags": []
          },
          "execution_count": 73
        }
      ]
    },
    {
      "cell_type": "code",
      "metadata": {
        "id": "1SfKhPDSs0EN",
        "colab": {
          "base_uri": "https://localhost:8080/"
        },
        "outputId": "2533b69e-133d-4045-c4d3-22bbb3b4b127"
      },
      "source": [
        "\"\"\"An anagram is a word or phrase formed by rearranging the letters of a different word or phrase, \r\n",
        "typically using all the original letters exactly once. For example, the word anagram can be rearranged into nag a ram, \r\n",
        "also the word binary into brainy and the word adobe into abode.\"\"\"\r\n",
        "\r\n",
        "# Check if the words have equal counters but remove spaces\r\n",
        "from collections import Counter\r\n",
        "def anagram(word1,word2):\r\n",
        "  word1_counter = Counter(word1.lower())\r\n",
        "  del word1_counter[' ']\r\n",
        "  word2_counter = Counter(word2.lower())\r\n",
        "  del word2_counter[' ']\r\n",
        "  if word1_counter==word2_counter:\r\n",
        "    print(\"Given words are anagrams\")\r\n",
        "  else:\r\n",
        "    print(\"Given words are NOT anagrams\")\r\n",
        "\r\n",
        "anagram(\"School master\",\"The classroom\")"
      ],
      "execution_count": null,
      "outputs": [
        {
          "output_type": "stream",
          "text": [
            "Given words are anagrams\n"
          ],
          "name": "stdout"
        }
      ]
    },
    {
      "cell_type": "code",
      "metadata": {
        "id": "AjKgPmnsp0iy",
        "colab": {
          "base_uri": "https://localhost:8080/",
          "height": 35
        },
        "outputId": "6e12182d-8803-4078-ed9c-a93ac7b56852"
      },
      "source": [
        "a,b = \"School master\".split()\r\n",
        "a+b"
      ],
      "execution_count": null,
      "outputs": [
        {
          "output_type": "execute_result",
          "data": {
            "application/vnd.google.colaboratory.intrinsic+json": {
              "type": "string"
            },
            "text/plain": [
              "'Schoolmaster'"
            ]
          },
          "metadata": {
            "tags": []
          },
          "execution_count": 82
        }
      ]
    },
    {
      "cell_type": "code",
      "metadata": {
        "id": "8798sNI3qDnK",
        "colab": {
          "base_uri": "https://localhost:8080/"
        },
        "outputId": "d684910c-1cd9-42a7-918d-a4c40955b75d"
      },
      "source": [
        "# Words can still be anagrams if one of them spaces but the other word doesn't\r\n",
        "def anagram_base(word1,word2):\r\n",
        "  word1_dict = {}\r\n",
        "  word2_dict = {}\r\n",
        "  for i in word1.lower():\r\n",
        "    if i!=' ':\r\n",
        "      word1_dict[\"word_{0}\".format(i)] = word1.lower().count(i) #adding new item to a dictionary\r\n",
        "  for i in word2.lower():\r\n",
        "    if i!=' ':\r\n",
        "      word2_dict[\"word_{0}\".format(i)] = word2.lower().count(i)  \r\n",
        "  if word1_dict==word2_dict:\r\n",
        "    print(\"Given words are anagrams\")\r\n",
        "  else:\r\n",
        "    print(\"Given words are NOT anagrams\")\r\n",
        "  return word1_dict,word2_dict\r\n",
        "\r\n",
        "print(anagram_base(\"School master\",\"The classroom\"))\r\n",
        "print(anagram_base(\"restful\",\"flusterr\"))"
      ],
      "execution_count": null,
      "outputs": [
        {
          "output_type": "stream",
          "text": [
            "Given words are anagrams\n",
            "({'word_s': 2, 'word_c': 1, 'word_h': 1, 'word_o': 2, 'word_l': 1, 'word_m': 1, 'word_a': 1, 'word_t': 1, 'word_e': 1, 'word_r': 1}, {'word_t': 1, 'word_h': 1, 'word_e': 1, 'word_c': 1, 'word_l': 1, 'word_a': 1, 'word_s': 2, 'word_r': 1, 'word_o': 2, 'word_m': 1})\n",
            "Given words are NOT anagrams\n",
            "({'word_r': 1, 'word_e': 1, 'word_s': 1, 'word_t': 1, 'word_f': 1, 'word_u': 1, 'word_l': 1}, {'word_f': 1, 'word_l': 1, 'word_u': 1, 'word_s': 1, 'word_t': 1, 'word_e': 1, 'word_r': 2})\n"
          ],
          "name": "stdout"
        }
      ]
    },
    {
      "cell_type": "code",
      "metadata": {
        "id": "1EcFxBLV7zBd",
        "colab": {
          "base_uri": "https://localhost:8080/"
        },
        "outputId": "8b99d119-c95b-4368-aae5-8c78e8503132"
      },
      "source": [
        "def xorOperation (n, start):\r\n",
        "    xor_operator = start\r\n",
        "    for i in range(1,n):\r\n",
        "        xor_operator = (start+(2*i))^xor_operator\r\n",
        "    return xor_operator\r\n",
        "    \r\n",
        "xorOperation(4, 3)\r\n",
        "xorOperation(1, 7)\r\n",
        "xorOperation(10, 5)"
      ],
      "execution_count": null,
      "outputs": [
        {
          "output_type": "execute_result",
          "data": {
            "text/plain": [
              "8"
            ]
          },
          "metadata": {
            "tags": []
          },
          "execution_count": 106
        }
      ]
    },
    {
      "cell_type": "code",
      "metadata": {
        "id": "04HWnO3NAKMy",
        "colab": {
          "base_uri": "https://localhost:8080/"
        },
        "outputId": "ddcb6bc6-6a98-47a5-a3ab-4b446f3c4b02"
      },
      "source": [
        "arr = [1,4,2,5,3]\r\n",
        "for i in range(len(arr)):\r\n",
        "  if i%2==0:\r\n",
        "    for j in range(0,(len(arr)//2)+1):\r\n",
        "      if 2*j+1>=i:\r\n",
        "        print(arr[i:(2*j)+1])\r\n",
        "  else:\r\n",
        "    for j in range(0,(len(arr)//2)+1):\r\n",
        "      if 2*j>i:\r\n",
        "        print(arr[i:(2*j)])"
      ],
      "execution_count": null,
      "outputs": [
        {
          "output_type": "stream",
          "text": [
            "[1]\n",
            "[1, 4, 2]\n",
            "[1, 4, 2, 5, 3]\n",
            "[4]\n",
            "[4, 2, 5]\n",
            "[2]\n",
            "[2, 5, 3]\n",
            "[5]\n",
            "[3]\n"
          ],
          "name": "stdout"
        }
      ]
    },
    {
      "cell_type": "code",
      "metadata": {
        "id": "g1gqU77WQ6kV",
        "colab": {
          "base_uri": "https://localhost:8080/"
        },
        "outputId": "7060d319-3d04-4e88-d71d-66e1304eeac0"
      },
      "source": [
        "# Insert a value in a sorted array, such that the final array is sorted\r\n",
        "value_to_insert =26\r\n",
        "arr = [12, 16, 20, 40, 50, 70]\r\n",
        "# Move values within an array that are greater than value_to_insert each by 1 value such that we insert the value_to_insert where needed\r\n",
        "for i in range(len(arr)):\r\n",
        "  if arr[i]>value_to_insert:\r\n",
        "    arr[i+1:len(arr)+1] = arr[i:len(arr)]\r\n",
        "    arr[i] = value_to_insert\r\n",
        "    break\r\n",
        "print(arr)   "
      ],
      "execution_count": null,
      "outputs": [
        {
          "output_type": "stream",
          "text": [
            "[12, 16, 20, 26, 40, 50, 70]\n"
          ],
          "name": "stdout"
        }
      ]
    },
    {
      "cell_type": "code",
      "metadata": {
        "colab": {
          "base_uri": "https://localhost:8080/"
        },
        "id": "iA4U8sxPFF1f",
        "outputId": "eaa5b337-263a-4c34-d107-9e401116f96b"
      },
      "source": [
        "# Moving average\r\n",
        "def moving_window(input1, val):\r\n",
        "    count=0\r\n",
        "    moving_sum = 0\r\n",
        "    moving_avg = []\r\n",
        "    for i in range(len(input1)):\r\n",
        "        count +=1\r\n",
        "        moving_sum +=input1[i]\r\n",
        "        moving_avg.append(moving_sum/count)\r\n",
        "    return moving_avg\r\n",
        "    \r\n",
        "input1 = [1,2,3,4,5,6]\r\n",
        "val = 3\r\n",
        "print(moving_window(input1, val))\r\n"
      ],
      "execution_count": 1,
      "outputs": [
        {
          "output_type": "stream",
          "text": [
            "[1.0, 1.5, 2.0, 2.5, 3.0, 3.5]\n"
          ],
          "name": "stdout"
        }
      ]
    },
    {
      "cell_type": "code",
      "metadata": {
        "colab": {
          "base_uri": "https://localhost:8080/"
        },
        "id": "4ZlbZPMAFLqy",
        "outputId": "d91cd89a-5ce6-423e-c18b-8a97b544caad"
      },
      "source": [
        "# Write a function that outputs the variance given a list of integers. \r\n",
        "# Example:\r\n",
        "test_list = [6, 7, 3, 9, 10, 15]\r\n",
        "# get_variance(test_list) -> 13.888888888888891\r\n",
        "\r\n",
        "def get_variance(test_list):\r\n",
        "  avg_list = sum(test_list)/len(test_list)\r\n",
        "  variance = 0\r\n",
        "  for i in test_list:\r\n",
        "    variance += (i-avg_list)**2\r\n",
        "  return variance/len(test_list)\r\n",
        "    \r\n",
        "get_variance(test_list)"
      ],
      "execution_count": 13,
      "outputs": [
        {
          "output_type": "execute_result",
          "data": {
            "text/plain": [
              "13.888888888888891"
            ]
          },
          "metadata": {
            "tags": []
          },
          "execution_count": 13
        }
      ]
    },
    {
      "cell_type": "code",
      "metadata": {
        "colab": {
          "base_uri": "https://localhost:8080/",
          "height": 248
        },
        "id": "ccpjS-5KHkuQ",
        "outputId": "30d2a5eb-9803-499a-d8bf-d3c253c0574d"
      },
      "source": [
        "existing_ids = [15234, 20485, 34536, 95342, 94857]\r\n",
        "names = ['Calvin', 'Jason', 'Cindy', 'Kevin']\r\n",
        "urls = [\r\n",
        "    'domain.com/resume/15234', \r\n",
        "    'domain.com/resume/23645', \r\n",
        "    'domain.com/resume/64337', \r\n",
        "    'domain.com/resume/34536']\r\n",
        "\r\n",
        "# We have a list of existing ids that we have already scraped. Let's say we also have two lists, one of names and another of urls that correspond to the names in another list with the id of the names in the url.\r\n",
        "# Write code in Python to return the names and ids that we haven't scraped yet.\r\n",
        "# output = [('Jason', 23645), ('Cindy', 64337)]\r\n",
        "Extracted_ids = []\r\n",
        "Index_ids = []\r\n",
        "for j in urls:\r\n",
        "  Extracted_ids.append(int(j[-5:]))\r\n",
        "DidNotScraped = set(Extracted_ids).difference(set(existing_ids))\r\n",
        "\r\n",
        "print(Extracted_ids)\r\n",
        "print(DidNotScraped)\r\n",
        "index_values = []\r\n",
        "for i in DidNotScraped:\r\n",
        "  for j in urls:\r\n",
        "    if i == int(j[-5:]):\r\n",
        "      index_values.append(urls.index[j])\r\n",
        "print(index_values)"
      ],
      "execution_count": 27,
      "outputs": [
        {
          "output_type": "stream",
          "text": [
            "[15234, 23645, 64337, 34536]\n",
            "{64337, 23645}\n"
          ],
          "name": "stdout"
        },
        {
          "output_type": "error",
          "ename": "TypeError",
          "evalue": "ignored",
          "traceback": [
            "\u001b[0;31m---------------------------------------------------------------------------\u001b[0m",
            "\u001b[0;31mTypeError\u001b[0m                                 Traceback (most recent call last)",
            "\u001b[0;32m<ipython-input-27-df23ceb0fc2e>\u001b[0m in \u001b[0;36m<module>\u001b[0;34m()\u001b[0m\n\u001b[1;32m     22\u001b[0m   \u001b[0;32mfor\u001b[0m \u001b[0mj\u001b[0m \u001b[0;32min\u001b[0m \u001b[0murls\u001b[0m\u001b[0;34m:\u001b[0m\u001b[0;34m\u001b[0m\u001b[0;34m\u001b[0m\u001b[0m\n\u001b[1;32m     23\u001b[0m     \u001b[0;32mif\u001b[0m \u001b[0mi\u001b[0m \u001b[0;34m==\u001b[0m \u001b[0mint\u001b[0m\u001b[0;34m(\u001b[0m\u001b[0mj\u001b[0m\u001b[0;34m[\u001b[0m\u001b[0;34m-\u001b[0m\u001b[0;36m5\u001b[0m\u001b[0;34m:\u001b[0m\u001b[0;34m]\u001b[0m\u001b[0;34m)\u001b[0m\u001b[0;34m:\u001b[0m\u001b[0;34m\u001b[0m\u001b[0;34m\u001b[0m\u001b[0m\n\u001b[0;32m---> 24\u001b[0;31m       \u001b[0mindex_values\u001b[0m\u001b[0;34m.\u001b[0m\u001b[0mappend\u001b[0m\u001b[0;34m(\u001b[0m\u001b[0murls\u001b[0m\u001b[0;34m.\u001b[0m\u001b[0mindex\u001b[0m\u001b[0;34m[\u001b[0m\u001b[0mj\u001b[0m\u001b[0;34m]\u001b[0m\u001b[0;34m)\u001b[0m\u001b[0;34m\u001b[0m\u001b[0;34m\u001b[0m\u001b[0m\n\u001b[0m\u001b[1;32m     25\u001b[0m \u001b[0mprint\u001b[0m\u001b[0;34m(\u001b[0m\u001b[0mindex_values\u001b[0m\u001b[0;34m)\u001b[0m\u001b[0;34m\u001b[0m\u001b[0;34m\u001b[0m\u001b[0m\n",
            "\u001b[0;31mTypeError\u001b[0m: 'builtin_function_or_method' object is not subscriptable"
          ]
        }
      ]
    },
    {
      "cell_type": "code",
      "metadata": {
        "id": "sFlPRXruMp_Z",
        "outputId": "76b8bb5f-e950-4c34-a77e-d5298ffd9969",
        "colab": {
          "base_uri": "https://localhost:8080/"
        }
      },
      "source": [
        "# Given a list of user_ids and tips: Find the user that tipped the most.\r\n",
        "user_ids = [103, 105, 105, 107, 106, 103, 102, 108, 107, 103, 102]\r\n",
        "tips = [2, 5, 1, 0, 2, 1, 1, 0, 0, 2, 5]\r\n",
        "\r\n",
        "print(tips.index(max(tips)))\r\n",
        "\r\n",
        "# get corresponding user_ids\r\n",
        "print(user_ids[tips.index(max(tips))])"
      ],
      "execution_count": 57,
      "outputs": [
        {
          "output_type": "stream",
          "text": [
            "1\n",
            "105\n"
          ],
          "name": "stdout"
        }
      ]
    },
    {
      "cell_type": "code",
      "metadata": {
        "id": "6bE2T-ZwVPKd",
        "outputId": "89776bd5-2715-48ee-fa66-e101f6f619b2",
        "colab": {
          "base_uri": "https://localhost:8080/"
        }
      },
      "source": [
        "print(\"i is index, j is value in that index\")\r\n",
        "[(i,j) for i, j in enumerate(tips)]"
      ],
      "execution_count": 52,
      "outputs": [
        {
          "output_type": "execute_result",
          "data": {
            "text/plain": [
              "[(0, 2),\n",
              " (1, 5),\n",
              " (2, 1),\n",
              " (3, 0),\n",
              " (4, 2),\n",
              " (5, 1),\n",
              " (6, 1),\n",
              " (7, 0),\n",
              " (8, 0),\n",
              " (9, 2),\n",
              " (10, 5)]"
            ]
          },
          "metadata": {
            "tags": []
          },
          "execution_count": 52
        }
      ]
    },
    {
      "cell_type": "code",
      "metadata": {
        "id": "dQ0McvrOVF-3",
        "outputId": "c59f1156-6c1f-4199-c27d-d56f4a2e2cfd",
        "colab": {
          "base_uri": "https://localhost:8080/"
        }
      },
      "source": [
        "# if a value is in the list multiple times extract its index\r\n",
        "tips = [2, 5, 1, 0, 2, 1, 1, 0, 0, 2, 5]\r\n",
        "index_max = []\r\n",
        "for i, j in enumerate(tips):\r\n",
        "  if j==5:\r\n",
        "    index_max.append(i)\r\n",
        "index_max"
      ],
      "execution_count": 54,
      "outputs": [
        {
          "output_type": "execute_result",
          "data": {
            "text/plain": [
              "[1, 10]"
            ]
          },
          "metadata": {
            "tags": []
          },
          "execution_count": 54
        }
      ]
    },
    {
      "cell_type": "code",
      "metadata": {
        "id": "x7Ww29pqU3Um",
        "outputId": "1e983e32-c819-4f17-cafc-eea6d216ea27",
        "colab": {
          "base_uri": "https://localhost:8080/"
        }
      },
      "source": [
        "# RMSE\r\n",
        "# calculate_rmse([3,4,5], [5,4,3]) --> 1.63\r\n",
        "Target =[3,4,5]\r\n",
        "Pred = [5,4,3]\r\n",
        "SSE = 0\r\n",
        "for i in range(len(Target)):\r\n",
        "  SSE += (Pred[i]-Target[i])**2\r\n",
        "RMSE = (SSE/len(Target))**0.5\r\n",
        "RMSE"
      ],
      "execution_count": 59,
      "outputs": [
        {
          "output_type": "execute_result",
          "data": {
            "text/plain": [
              "1.632993161855452"
            ]
          },
          "metadata": {
            "tags": []
          },
          "execution_count": 59
        }
      ]
    },
    {
      "cell_type": "code",
      "metadata": {
        "id": "lboMBDnuWqMa",
        "outputId": "5dfb2d8c-a067-4fd6-d973-1e9cfce05d61",
        "colab": {
          "base_uri": "https://localhost:8080/"
        }
      },
      "source": [
        "# In Counter data is sorted by max freq\r\n",
        "from collections import Counter \r\n",
        "input = \"interviewquery\"\r\n",
        "Counter(input)"
      ],
      "execution_count": 61,
      "outputs": [
        {
          "output_type": "execute_result",
          "data": {
            "text/plain": [
              "Counter({'e': 3,\n",
              "         'i': 2,\n",
              "         'n': 1,\n",
              "         'q': 1,\n",
              "         'r': 2,\n",
              "         't': 1,\n",
              "         'u': 1,\n",
              "         'v': 1,\n",
              "         'w': 1,\n",
              "         'y': 1})"
            ]
          },
          "metadata": {
            "tags": []
          },
          "execution_count": 61
        }
      ]
    },
    {
      "cell_type": "code",
      "metadata": {
        "id": "U9cUZ2x9YYCq",
        "outputId": "aacd77e1-efc9-476c-b1bd-63c9baaab2dd",
        "colab": {
          "base_uri": "https://localhost:8080/"
        }
      },
      "source": [
        "# Given a string, return the first recurring character in it, or None if there is no recurring chracter.\r\n",
        "# input = \"interviewquery\"\r\n",
        "# output = \"i\"\r\n",
        "# input = \"interv\"\r\n",
        "# output = None\r\n",
        "# check if i is in the next set of elements\r\n",
        "input = \"einterviewquery\"\r\n",
        "for i in range(len(input)):\r\n",
        "  if input[i] in input[i+1:]:\r\n",
        "    break\r\n",
        "# print(input[i])\r\n",
        "\r\n",
        "def recurring_chracter(input):\r\n",
        "  for i in range(len(input)):\r\n",
        "    if input[i] in input[i+1:]:\r\n",
        "      return input[i] # return first and then break statement\r\n",
        "      break\r\n",
        "  \r\n",
        "print(recurring_chracter(\"interviewquery\"))\r\n",
        "print(recurring_chracter(\"nterviewquery\"))\r\n",
        "print(recurring_chracter(\"interv\"))"
      ],
      "execution_count": 78,
      "outputs": [
        {
          "output_type": "stream",
          "text": [
            "i\n",
            "e\n",
            "None\n"
          ],
          "name": "stdout"
        }
      ]
    },
    {
      "cell_type": "code",
      "metadata": {
        "id": "IGBBXOSscl_2",
        "outputId": "dc55c8ac-619c-476b-8673-d1e56d3b9c03",
        "colab": {
          "base_uri": "https://localhost:8080/"
        }
      },
      "source": [
        "# outputs by alphabetical order \r\n",
        " set(input)"
      ],
      "execution_count": 84,
      "outputs": [
        {
          "output_type": "execute_result",
          "data": {
            "text/plain": [
              "{'e', 'i', 'n', 'q', 'r', 't', 'u', 'v', 'w', 'y'}"
            ]
          },
          "metadata": {
            "tags": []
          },
          "execution_count": 84
        }
      ]
    },
    {
      "cell_type": "code",
      "metadata": {
        "id": "jr3n7hnUXupn",
        "outputId": "edd7d89f-86e6-408e-da0f-f850ef375788",
        "colab": {
          "base_uri": "https://localhost:8080/"
        }
      },
      "source": [
        "# Identify freq of a character that repeats \r\n",
        "def recurring_times(input):\r\n",
        "  freq_list = []\r\n",
        "  list_uqvalues = list(set(input)) # set for unique values\r\n",
        "  for i in list_uqvalues:\r\n",
        "    if i in input[input.index(i)+1:]:\r\n",
        "      freq_list.append((i, input.count(i))) # count of a value in the list\r\n",
        "  return freq_list\r\n",
        "\r\n",
        "x = \"interviewquery\"\r\n",
        "print(recurring_times(x))"
      ],
      "execution_count": 118,
      "outputs": [
        {
          "output_type": "stream",
          "text": [
            "[('r', 2), ('i', 2), ('e', 3)]\n"
          ],
          "name": "stdout"
        }
      ]
    },
    {
      "cell_type": "code",
      "metadata": {
        "id": "7iM2PJ6xfPtc",
        "outputId": "42b95dd0-93df-4475-8416-e3085210a487",
        "colab": {
          "base_uri": "https://localhost:8080/"
        }
      },
      "source": [
        "print(recurring_times(\"interviewquery\"))"
      ],
      "execution_count": 127,
      "outputs": [
        {
          "output_type": "stream",
          "text": [
            "[('r', 2), ('i', 2), ('e', 3)]\n"
          ],
          "name": "stdout"
        }
      ]
    },
    {
      "cell_type": "code",
      "metadata": {
        "id": "S1oqEuggdoFp",
        "outputId": "6c3048c1-9e03-46fd-9c33-4ca382b752a1",
        "colab": {
          "base_uri": "https://localhost:8080/"
        }
      },
      "source": [
        "# Identify character that repeats max number of times\r\n",
        "for i in recurring_times(\"interviewqueryi\"):\r\n",
        "  print(i)\r\n",
        "  print(i[0])\r\n",
        "  print(i[1])"
      ],
      "execution_count": 128,
      "outputs": [
        {
          "output_type": "stream",
          "text": [
            "('r', 2)\n",
            "r\n",
            "2\n",
            "('i', 3)\n",
            "i\n",
            "3\n",
            "('e', 3)\n",
            "e\n",
            "3\n"
          ],
          "name": "stdout"
        }
      ]
    },
    {
      "cell_type": "code",
      "metadata": {
        "id": "4qK1Rr0Mb4Lw",
        "outputId": "d4048c0c-b0ac-407f-b9dd-3b6bdfaad64a",
        "colab": {
          "base_uri": "https://localhost:8080/"
        }
      },
      "source": [
        "input.count(\"i\")"
      ],
      "execution_count": 80,
      "outputs": [
        {
          "output_type": "execute_result",
          "data": {
            "text/plain": [
              "2"
            ]
          },
          "metadata": {
            "tags": []
          },
          "execution_count": 80
        }
      ]
    },
    {
      "cell_type": "code",
      "metadata": {
        "id": "6BPiI1zEftw3",
        "outputId": "dec9fe09-48ed-4dfb-ca29-8d3ff2fd9a99",
        "colab": {
          "base_uri": "https://localhost:8080/"
        }
      },
      "source": [
        "max = 0\r\n",
        "for i in recurring_times(\"interviewquery\"):\r\n",
        "  if i[1]>max:\r\n",
        "    max = i[1]\r\n",
        "print(max)\r\n",
        "\r\n",
        "# Recurring max number of times\r\n",
        "max = 0\r\n",
        "for i in recurring_times(\"interviewquery\"):\r\n",
        "  if i[1]>max:\r\n",
        "    max = i[1]\r\n",
        "print(i[0])"
      ],
      "execution_count": 134,
      "outputs": [
        {
          "output_type": "stream",
          "text": [
            "3\n",
            "e\n"
          ],
          "name": "stdout"
        }
      ]
    },
    {
      "cell_type": "code",
      "metadata": {
        "id": "AY4q3ndTf-VL",
        "outputId": "8f64d172-caa4-4b72-d180-473c6b943103",
        "colab": {
          "base_uri": "https://localhost:8080/"
        }
      },
      "source": [
        "# Write a function that can take in a word (string) and return a dictionary of n-gram count.\r\n",
        "# string = 'banana' \r\n",
        "# n=2\r\n",
        "# output = {'ba':1, 'an':2, 'na':2} \r\n",
        "# string = 'banana' \r\n",
        "# n=3 \r\n",
        "# output = {'ban':1, 'ana':2, 'nan':1} \r\n",
        "\r\n",
        "string = 'banana'\r\n",
        "n=3\r\n",
        "ngrams = []\r\n",
        "for i in range(len(string)-n+1):\r\n",
        "  ngrams.append(string[i:i+n]) # each time subset string length of n\r\n",
        "print(ngrams)\r\n",
        "\r\n",
        "ngrams_count = []\r\n",
        "for i in list(set(ngrams)):\r\n",
        "  ngrams_count.append((i,ngrams.count(i)))\r\n",
        "print(ngrams_count)\r\n"
      ],
      "execution_count": 140,
      "outputs": [
        {
          "output_type": "stream",
          "text": [
            "['ban', 'ana', 'nan', 'ana']\n",
            "[('nan', 1), ('ana', 2), ('ban', 1)]\n"
          ],
          "name": "stdout"
        }
      ]
    },
    {
      "cell_type": "code",
      "metadata": {
        "id": "7CY_Da3bo3z6",
        "outputId": "ff9a660e-4445-4bcb-f122-792ef09807fb",
        "colab": {
          "base_uri": "https://localhost:8080/"
        }
      },
      "source": [
        "sentence = \"\"\"\r\n",
        "Have free hours and love children? \r\n",
        "Drive kids to school, soccer practice \r\n",
        "and other activities.\r\n",
        "\"\"\"\r\n",
        "for i in sentence.split():\r\n",
        "  print(i)\r\n",
        "\r\n",
        "bigrams = []\r\n",
        "for i in range(len(sentence.split())-1):\r\n",
        "  bigrams.append((sentence.split()[i],sentence.split()[i+1]))\r\n",
        "print(bigrams)"
      ],
      "execution_count": 154,
      "outputs": [
        {
          "output_type": "stream",
          "text": [
            "Have\n",
            "free\n",
            "hours\n",
            "and\n",
            "love\n",
            "children?\n",
            "Drive\n",
            "kids\n",
            "to\n",
            "school,\n",
            "soccer\n",
            "practice\n",
            "and\n",
            "other\n",
            "activities.\n",
            "[('Have', 'free'), ('free', 'hours'), ('hours', 'and'), ('and', 'love'), ('love', 'children?'), ('children?', 'Drive'), ('Drive', 'kids'), ('kids', 'to'), ('to', 'school,'), ('school,', 'soccer'), ('soccer', 'practice'), ('practice', 'and'), ('and', 'other'), ('other', 'activities.')]\n"
          ],
          "name": "stdout"
        }
      ]
    },
    {
      "cell_type": "code",
      "metadata": {
        "id": "DUgSU5h-i5aT",
        "outputId": "633a15db-0eeb-454d-debb-4ffc696db4ea",
        "colab": {
          "base_uri": "https://localhost:8080/"
        }
      },
      "source": [
        "# Write a function to find the minimum number of coins to return for a given amount of change. \r\n",
        "# cents = 73\r\n",
        "# find_change(cents) -> 7\r\n",
        "#(25 + 25 + 10 + 10 + 1 + 1 + 1)\r\n",
        "# cents available are 1,10,25\r\n",
        "cents = 78\r\n",
        "rem_cents =78\r\n",
        "n = 0\r\n",
        "if cents>25:\r\n",
        "  n = cents//25\r\n",
        "  rem_cents = cents%25\r\n",
        "  n += rem_cents//10\r\n",
        "  n += rem_cents%10\r\n",
        "elif rem_cents>10:\r\n",
        "    n += rem_cents//10\r\n",
        "    n += rem_cents%10\r\n",
        "elif rem_cents>1:\r\n",
        "      n+=rem_cents%10\r\n",
        "print(n)"
      ],
      "execution_count": 148,
      "outputs": [
        {
          "output_type": "stream",
          "text": [
            "6\n"
          ],
          "name": "stdout"
        }
      ]
    },
    {
      "cell_type": "code",
      "metadata": {
        "id": "7w8k482Rq2v9",
        "outputId": "1ff9bd28-1b2e-4a3e-8966-6ac285b47e82",
        "colab": {
          "base_uri": "https://localhost:8080/"
        }
      },
      "source": [
        "# Given a list of stop words, write a function that takes a string and returns a string stripped of the stop words.\r\n",
        "stopwords = [ 'I', \r\n",
        "    'as', \r\n",
        "    'to', \r\n",
        "    'you', \r\n",
        "    'your', \r\n",
        "    'but', \r\n",
        "    'be', \r\n",
        "    'a']\r\n",
        "paragraph = 'I want to figure out how I can be a better data scientist'\r\n",
        "# stripped_paragraph = 'want figure out how can better data scientist'\r\n",
        "\r\n",
        "output_paragraph = ''\r\n",
        "for i in range(len(paragraph.split())):\r\n",
        "  if paragraph.split()[i] not in stopwords:\r\n",
        "    output_paragraph += paragraph.split()[i] + ' '\r\n",
        "    # output_paragraph.join(paragraph.split()[i]) \r\n",
        "print(output_paragraph)"
      ],
      "execution_count": 163,
      "outputs": [
        {
          "output_type": "stream",
          "text": [
            "want figure out how can better data scientist \n"
          ],
          "name": "stdout"
        }
      ]
    },
    {
      "cell_type": "code",
      "metadata": {
        "id": "mTpMXO5Ds1-F",
        "outputId": "3711636d-5f07-43f3-ed60-139f6eda17ea",
        "colab": {
          "base_uri": "https://localhost:8080/"
        }
      },
      "source": [
        "# Let's say you're given a huge 100 GB log file. You want to be able to count how many lines are in the file. \r\n",
        "# Write code in Python to count the total number of lines in the file.\r\n",
        "file = \"abjhkbs \\n ajhbkjj\"\r\n",
        "file.count('\\n')+1"
      ],
      "execution_count": 167,
      "outputs": [
        {
          "output_type": "execute_result",
          "data": {
            "text/plain": [
              "2"
            ]
          },
          "metadata": {
            "tags": []
          },
          "execution_count": 167
        }
      ]
    },
    {
      "cell_type": "code",
      "metadata": {
        "id": "0S3DWdkXuV38",
        "outputId": "8eeca43b-f155-4136-b050-b49746de493c",
        "colab": {
          "base_uri": "https://localhost:8080/"
        }
      },
      "source": [
        "# n data science, there exists the concept of stemming, which is the heuristic of chopping off the end of a word to clean and bucket it into an easier feature set. \r\n",
        "# Given a dictionary consisting of many roots and a sentence, stem all the words in the sentence with the root forming it. If a word has many roots can form it, replace it with the root with the shortest length.\r\n",
        "roots = [\"cat\", \"bat\", \"rat\"]\r\n",
        "sentence = \"the cattle was rattled by the battery\"\r\n",
        "root_word = []\r\n",
        "replaced_word = []\r\n",
        "# Output: \"the cat was rat by the bat\"\r\n",
        "for i in sentence.split():\r\n",
        "  for j in range(len(i)-1):\r\n",
        "    if i[0:j+1] in roots:\r\n",
        "      root_word.append(i[0:j+1])\r\n",
        "      replaced_word.append(i)\r\n",
        "      break\r\n",
        "print(root_word)\r\n",
        "print(replaced_word)\r\n",
        "\r\n",
        "output_Sent = ''\r\n",
        "for i in sentence.split():\r\n",
        "  if i not in replaced_word:\r\n",
        "    output_Sent += i + ' '\r\n",
        "  else:\r\n",
        "    output_Sent += root_word[replaced_word.index(i)] + ' '\r\n",
        "print(output_Sent)\r\n"
      ],
      "execution_count": 190,
      "outputs": [
        {
          "output_type": "stream",
          "text": [
            "['cat', 'rat', 'bat']\n",
            "['cattle', 'rattled', 'battery']\n",
            "the cat was rat by the bat \n"
          ],
          "name": "stdout"
        }
      ]
    },
    {
      "cell_type": "code",
      "metadata": {
        "id": "DArWixd0yonI",
        "outputId": "f2028b6f-4e23-4dce-e2e2-923bcaecbaf5",
        "colab": {
          "base_uri": "https://localhost:8080/"
        }
      },
      "source": [
        "['cattle', 'rattled', 'battery'].index('cattle')"
      ],
      "execution_count": 187,
      "outputs": [
        {
          "output_type": "execute_result",
          "data": {
            "text/plain": [
              "0"
            ]
          },
          "metadata": {
            "tags": []
          },
          "execution_count": 187
        }
      ]
    },
    {
      "cell_type": "code",
      "metadata": {
        "id": "Q-G-0OjS1oLu",
        "outputId": "208e2e7c-3b19-4979-ee60-ad2f8a36950e",
        "colab": {
          "base_uri": "https://localhost:8080/"
        }
      },
      "source": [
        "# Given an integer N, write a Python function that returns all of the prime numbers up to N.\r\n",
        "N=25\r\n",
        "primeNumbers =[2]\r\n",
        "for i in range(3,N+1):\r\n",
        "  pointer=[] # is to track number is divisible by any of the prime numbers or not\r\n",
        "  for j in primeNumbers:\r\n",
        "    pointer.append(i%j)\r\n",
        "  if 0 not in pointer:\r\n",
        "    primeNumbers.append(i)\r\n",
        "\r\n",
        "print(list(set(primeNumbers)))"
      ],
      "execution_count": 199,
      "outputs": [
        {
          "output_type": "stream",
          "text": [
            "[2, 3, 5, 7, 11, 13, 17, 19, 23]\n"
          ],
          "name": "stdout"
        }
      ]
    },
    {
      "cell_type": "code",
      "metadata": {
        "id": "-go6TSWI3SZ2",
        "outputId": "9f4cc916-5603-4711-d68c-f61a2e83737d",
        "colab": {
          "base_uri": "https://localhost:8080/"
        }
      },
      "source": [
        "N=25\r\n",
        "for i in range(3,N+1):\r\n",
        "  print(i)"
      ],
      "execution_count": 192,
      "outputs": [
        {
          "output_type": "stream",
          "text": [
            "3\n",
            "4\n",
            "5\n",
            "6\n",
            "7\n",
            "8\n",
            "9\n",
            "10\n",
            "11\n",
            "12\n",
            "13\n",
            "14\n",
            "15\n",
            "16\n",
            "17\n",
            "18\n",
            "19\n",
            "20\n",
            "21\n",
            "22\n",
            "23\n",
            "24\n",
            "25\n"
          ],
          "name": "stdout"
        }
      ]
    },
    {
      "cell_type": "code",
      "metadata": {
        "id": "paWIXcFa50Wj",
        "outputId": "5ba2263e-5a1d-41e9-818b-6daa2bd14128",
        "colab": {
          "base_uri": "https://localhost:8080/"
        }
      },
      "source": [
        "# Given a dictionary with weights, write a function that returns a key at random with a probability proportional to the weights.\r\n",
        "weights = {'A': 1, 'B': 2}\r\n",
        "# random_key(weights) -> return A 33.3%, B 66.6%\r\n",
        "weights = {'A': 1, 'B': 1}\r\n",
        "# random_key(weights) -> return A 50%, B 50%\r\n",
        "weights = {'A': 1, 'B': 2}\r\n",
        "sum_j = 0\r\n",
        "for j in weights.values():\r\n",
        "  sum_j += j\r\n",
        "for i,j in weights.items():\r\n",
        "  print(i,round((j/sum_j)*100,2)) # round function to limit decimal places\r\n",
        "  print(i,f'{(j/sum_j)*100:.2f}')\r\n"
      ],
      "execution_count": 219,
      "outputs": [
        {
          "output_type": "stream",
          "text": [
            "A 33.33\n",
            "A 33.33\n",
            "B 66.67\n",
            "B 66.67\n"
          ],
          "name": "stdout"
        }
      ]
    },
    {
      "cell_type": "code",
      "metadata": {
        "id": "jfVEPcny7O79",
        "outputId": "83a3efdf-529b-4454-ae83-0e876b7db589",
        "colab": {
          "base_uri": "https://localhost:8080/"
        }
      },
      "source": [
        "# Given a list of tuples featuring names and grades on a test, write a function to normalize the values of the grades to a linear scale between 0 and 1.\r\n",
        "tuples = [('Jason', 94),\r\n",
        "    ('Tessa', 80),\r\n",
        "    ('Carla', 38),\r\n",
        "    ('Matt', 43),\r\n",
        "    ('Jessica', 100)]\r\n",
        "# normalize_grades(tuples) - > [\r\n",
        "#     ('Jason', 0.9),\r\n",
        "#     ('Tessa', 0.68),\r\n",
        "#     ('Carla', 0.0),\r\n",
        "#     ('Matt', 0.08),\r\n",
        "#     ('Jessica', 1.0)]\r\n",
        "max = tuples[1][1]\r\n",
        "min = tuples[1][1]\r\n",
        "normalize_grades = []\r\n",
        "for i in tuples:\r\n",
        "  if i[1]>max:\r\n",
        "    max = i[1]\r\n",
        "  if i[1]<min:\r\n",
        "    min = i[1]\r\n",
        "for i in tuples:\r\n",
        "  normalize_grades.append((i[0],round((i[1]-min)/(max-min),2)))\r\n",
        "print(normalize_grades)"
      ],
      "execution_count": 217,
      "outputs": [
        {
          "output_type": "stream",
          "text": [
            "[('Jason', 0.9), ('Tessa', 0.68), ('Carla', 0.0), ('Matt', 0.08), ('Jessica', 1.0)]\n"
          ],
          "name": "stdout"
        }
      ]
    },
    {
      "cell_type": "code",
      "metadata": {
        "id": "m6cqMCxw_upw"
      },
      "source": [
        "integers = [2,3,5], target = 8,\r\n",
        "\r\n",
        "output = [\r\n",
        "  [2,2,2,2],\r\n",
        "  [2,3,3],\r\n",
        "  [3,5]\r\n",
        "]\r\n",
        "\r\n",
        "\r\n"
      ],
      "execution_count": null,
      "outputs": []
    },
    {
      "cell_type": "code",
      "metadata": {
        "id": "8FgHacEat2t2"
      },
      "source": [
        "# Given two parameters, a size N and a mean M, write a function to generate a gaussian distribution.\r\n",
        "N = 9\r\n",
        "M = 3\r\n",
        "generate_distribution(N, M)\r\n",
        "# output -> [1,2,2,3,3,3,4,4,5]\r\n",
        "for i in range(M):\r\n",
        "  "
      ],
      "execution_count": null,
      "outputs": []
    },
    {
      "cell_type": "code",
      "metadata": {
        "id": "Q0QIsnJY9rTk",
        "colab": {
          "base_uri": "https://localhost:8080/",
          "height": 226
        },
        "outputId": "56041ed1-5e6c-410d-fb60-37729e2a6bf7"
      },
      "source": [
        "sum = 0\r\n",
        "arr = [1,4,2,5,3]\r\n",
        "for x in range(len(arr)):\r\n",
        "  for j in range(i,len(arr)//2 ):\r\n",
        "    for z in range(x,2j+1):\r\n",
        "      sum += arr[z]\r\n",
        "return sum"
      ],
      "execution_count": null,
      "outputs": [
        {
          "output_type": "error",
          "ename": "TypeError",
          "evalue": "ignored",
          "traceback": [
            "\u001b[0;31m---------------------------------------------------------------------------\u001b[0m",
            "\u001b[0;31mTypeError\u001b[0m                                 Traceback (most recent call last)",
            "\u001b[0;32m<ipython-input-118-b73aec6213b8>\u001b[0m in \u001b[0;36m<module>\u001b[0;34m()\u001b[0m\n\u001b[1;32m      3\u001b[0m \u001b[0;32mfor\u001b[0m \u001b[0mx\u001b[0m \u001b[0;32min\u001b[0m \u001b[0mrange\u001b[0m\u001b[0;34m(\u001b[0m\u001b[0mlen\u001b[0m\u001b[0;34m(\u001b[0m\u001b[0marr\u001b[0m\u001b[0;34m)\u001b[0m\u001b[0;34m)\u001b[0m\u001b[0;34m:\u001b[0m\u001b[0;34m\u001b[0m\u001b[0;34m\u001b[0m\u001b[0m\n\u001b[1;32m      4\u001b[0m   \u001b[0;32mfor\u001b[0m \u001b[0mj\u001b[0m \u001b[0;32min\u001b[0m \u001b[0mrange\u001b[0m\u001b[0;34m(\u001b[0m\u001b[0;36m0\u001b[0m\u001b[0;34m,\u001b[0m\u001b[0mlen\u001b[0m\u001b[0;34m(\u001b[0m\u001b[0marr\u001b[0m\u001b[0;34m)\u001b[0m\u001b[0;34m//\u001b[0m\u001b[0;36m2\u001b[0m\u001b[0;34m)\u001b[0m\u001b[0;34m:\u001b[0m\u001b[0;34m\u001b[0m\u001b[0;34m\u001b[0m\u001b[0m\n\u001b[0;32m----> 5\u001b[0;31m     \u001b[0;32mfor\u001b[0m \u001b[0mz\u001b[0m \u001b[0;32min\u001b[0m \u001b[0mrange\u001b[0m\u001b[0;34m(\u001b[0m\u001b[0mx\u001b[0m\u001b[0;34m,\u001b[0m\u001b[0;36m2j\u001b[0m\u001b[0;34m+\u001b[0m\u001b[0;36m1\u001b[0m\u001b[0;34m)\u001b[0m\u001b[0;34m:\u001b[0m\u001b[0;34m\u001b[0m\u001b[0;34m\u001b[0m\u001b[0m\n\u001b[0m\u001b[1;32m      6\u001b[0m       \u001b[0msum\u001b[0m \u001b[0;34m+=\u001b[0m \u001b[0marr\u001b[0m\u001b[0;34m[\u001b[0m\u001b[0mz\u001b[0m\u001b[0;34m]\u001b[0m\u001b[0;34m\u001b[0m\u001b[0;34m\u001b[0m\u001b[0m\n\u001b[1;32m      7\u001b[0m \u001b[0;32mreturn\u001b[0m \u001b[0msum\u001b[0m\u001b[0;34m\u001b[0m\u001b[0;34m\u001b[0m\u001b[0m\n",
            "\u001b[0;31mTypeError\u001b[0m: 'complex' object cannot be interpreted as an integer"
          ]
        }
      ]
    }
  ]
}