{
  "nbformat": 4,
  "nbformat_minor": 0,
  "metadata": {
    "colab": {
      "name": "RandomQuestions.ipynb",
      "provenance": [],
      "collapsed_sections": [],
      "authorship_tag": "ABX9TyNUF5WCbNQBrehZKi48liBh",
      "include_colab_link": true
    },
    "kernelspec": {
      "name": "python3",
      "display_name": "Python 3"
    }
  },
  "cells": [
    {
      "cell_type": "markdown",
      "metadata": {
        "id": "view-in-github",
        "colab_type": "text"
      },
      "source": [
        "<a href=\"https://colab.research.google.com/github/sandhyaparna/Python-DataScience-CookBook/blob/master/Interview%20Questions/RandomQuestions.ipynb\" target=\"_parent\"><img src=\"https://colab.research.google.com/assets/colab-badge.svg\" alt=\"Open In Colab\"/></a>"
      ]
    },
    {
      "cell_type": "code",
      "metadata": {
        "colab": {
          "base_uri": "https://localhost:8080/"
        },
        "id": "kA-cTuYaK5sK",
        "outputId": "34ff8908-54b0-4e4e-ed1b-661091df8a73"
      },
      "source": [
        "# First 5 powers of two\n",
        "powersofTwo = []\n",
        "for i in range(0,5):\n",
        "  x = pow(2,i)\n",
        "  powersofTwo.append(x)\n",
        "\n",
        "powersofTwo"
      ],
      "execution_count": null,
      "outputs": [
        {
          "output_type": "execute_result",
          "data": {
            "text/plain": [
              "[1, 2, 4, 8, 16]"
            ]
          },
          "metadata": {
            "tags": []
          },
          "execution_count": 2
        }
      ]
    },
    {
      "cell_type": "code",
      "metadata": {
        "colab": {
          "base_uri": "https://localhost:8080/"
        },
        "id": "mtjX4epkaXgx",
        "outputId": "bd984c62-40d8-493e-ba77-5964f8aa6280"
      },
      "source": [
        "# Powers of two that are between X & Y\n",
        "import numpy as np\n",
        "import math\n",
        "x = 3\n",
        "y = 19\n",
        "def powersofTwoBetwXY(x,y):\n",
        "  p=np.int(np.ceil(math.log2(x)))\n",
        "  q=np.int(np.ceil(math.log2(y)))\n",
        "  powersofTwo = []\n",
        "  for i in range(p,q):\n",
        "    x = pow(2,i) \n",
        "    powersofTwo.append(x)\n",
        "  print(powersofTwo)\n",
        "\n",
        "powersofTwoBetwXY(3,19)"
      ],
      "execution_count": null,
      "outputs": [
        {
          "output_type": "stream",
          "text": [
            "[4, 8, 16]\n"
          ],
          "name": "stdout"
        }
      ]
    },
    {
      "cell_type": "code",
      "metadata": {
        "colab": {
          "base_uri": "https://localhost:8080/"
        },
        "id": "yLqvFSzsCz6x",
        "outputId": "5af94032-f01e-437e-fcd2-03911c91ecb3"
      },
      "source": [
        "# Check if numbers/elements in a array can be made equal through multiplication\n",
        "# Given an array arr[], write a function to feed in the array elements check whether they can all be made equal by only multiplying the numbers by 2 or 7. (you can multiply by these #s as many times as you like) If all elements can be made equal, return False, otherwise return True.\n",
        "# check for remainder after diving by any power 2 or 7 and see remainder is same in all the elements or not\n",
        "\n",
        "# For eg: [50,75,100] - check if they can be made equal by multiplying with 2 or 3\n",
        "# In this case 50 can be written as 5^2*2, 75 as 5^2*3, 100 as 5^2*2^2. in this case as other that 2 and 3, 5^2=25 is common among the number\n",
        "# so, they can all be made equal. 50*2^2*3, 75*2^2, 100*3 will all be qual to 300\n",
        "# For eg: 10,50. they cannot be made equal as by multiplying only using 2 or 3 prime factors as other part i.e 5 & 5^2 are not equal in this case. \n",
        "# 10=5*2, 50=5^2*2.\n",
        "\n",
        "import math\n",
        "\n",
        "def get_power_of_p(n, p):\n",
        "  ans = 0\n",
        "  while (n % p) == 0:\n",
        "    ans += 1\n",
        "    n /= p\n",
        "  return math.floor(ans)\n",
        "\n",
        "def check_if_array_numbers_can_be_made_equal(a):\n",
        "  n, prev = len(a), 0\n",
        "  for i in range(n):\n",
        "    p2 = get_power_of_p(a[i], 2)\n",
        "    p7 = get_power_of_p(a[i], 7)\n",
        "    a[i] /= ((2**p2) * (7**p7))\n",
        "    print(\"Residual = \" + str(a[i]) + \", Power of 2 = \" + str(p2) + \", Power of 7 = \" + str(p7))\n",
        "    if i > 0:\n",
        "      if a[i] != prev:\n",
        "        return \"No\"\n",
        "    prev = a[i]\n",
        "  return \"Yes\"\n",
        "\n",
        "print(check_if_array_numbers_can_be_made_equal([128, 4, 2]))"
      ],
      "execution_count": null,
      "outputs": [
        {
          "output_type": "stream",
          "text": [
            "Residual = 1.0, Power of 2 = 7, Power of 7 = 0\n",
            "Residual = 1.0, Power of 2 = 2, Power of 7 = 0\n",
            "Residual = 1.0, Power of 2 = 1, Power of 7 = 0\n",
            "Yes\n"
          ],
          "name": "stdout"
        }
      ]
    },
    {
      "cell_type": "code",
      "metadata": {
        "colab": {
          "base_uri": "https://localhost:8080/"
        },
        "id": "RSzAhbkMCz3b",
        "outputId": "b585b947-be4d-4a47-8114-72a2db07a908"
      },
      "source": [
        "# Create a Python function that generates the power set given a set of values. For example, if you're given the following set:\n",
        "# set = {1, 2, 3} Your python function should return the corresponding power set:\n",
        "# power set = { {}, {1}, {2}, {3}, {1, 2}, {2, 3}, {1, 3}, {1, 2, 3} }\n",
        "\n",
        "# A power set will 2^n elements. n is the length of n\n",
        "# so create binary values for 0 to 2^n and extract elements from set based on index position of 1 in binary representation\n",
        "\n",
        "import numpy as np\n",
        "\n",
        "def get_power_set(a):\n",
        "    n = len(a)\n",
        "    x = 2**n\n",
        "    ans = []\n",
        "    for i in range(x):\n",
        "        l = []\n",
        "        index = 0\n",
        "        while i > 0:\n",
        "            if (i % 2) == 1:\n",
        "                l.append(a[index])\n",
        "            i >>= 1\n",
        "            index += 1\n",
        "        ans.append(l)\n",
        "    return sorted(ans, key = len)\n",
        "\n",
        "print(get_power_set([1, 2, 3]))"
      ],
      "execution_count": null,
      "outputs": [
        {
          "output_type": "stream",
          "text": [
            "[[], [1], [2], [3], [1, 2], [1, 3], [2, 3], [1, 2, 3]]\n"
          ],
          "name": "stdout"
        }
      ]
    },
    {
      "cell_type": "code",
      "metadata": {
        "id": "pHrhnX_5GABC"
      },
      "source": [
        "# There's a staircase with N steps, and you can climb 1 or 2 steps at a time. Given N, write a function that returns the number of unique ways you can climb the staircase. The order of the steps matters.\n",
        "# For example, if N is 4, then there are 5 unique ways:\n",
        "# 1, 1, 1, 1\n",
        "# 2, 1, 1\n",
        "# 1, 2, 1\n",
        "# 1, 1, 2\n",
        "# 2, 2\n",
        "# What if, instead of being able to climb 1 or 2 steps at a time, you could climb any number from a set of positive integers X? For example, if X = {1, 3, 5}, you could climb 1, 3, or 5 steps at a time. Generalize your function to take in X.\n",
        "\n",
        "# Logic\n",
        "# N is written as p(a)+q(b) where a=1, b=2\n",
        "# for p in (0,N/a):\n",
        "#   calculate q \n",
        "#   Extract only integers from q\n",
        "#   Now calculate p based on values from q\n",
        "# For each unique combination of (p,q) there will p+q positions for which (a,b) are to be selected\n",
        " "
      ],
      "execution_count": null,
      "outputs": []
    },
    {
      "cell_type": "code",
      "metadata": {
        "id": "Plu1K8o3pPr8",
        "colab": {
          "base_uri": "https://localhost:8080/"
        },
        "outputId": "2c3add62-d2f1-4c8e-912e-724d94559fdf"
      },
      "source": [
        "# Reversing an array \r\n",
        "T = [1,2,3,4,5]\r\n",
        "T1 = []\r\n",
        "for i in T:\r\n",
        "  T1.insert(0,i)\r\n",
        "print(T1)"
      ],
      "execution_count": null,
      "outputs": [
        {
          "output_type": "stream",
          "text": [
            "[5, 4, 3, 2, 1]\n"
          ],
          "name": "stdout"
        }
      ]
    },
    {
      "cell_type": "code",
      "metadata": {
        "id": "sIwClcXJqClr"
      },
      "source": [
        "# Palindrome problem overview\r\n",
        "# When length of digits is odd number we don't have to check the middle value condition as middle value is always equal to itself\r\n",
        "InputString = \"madam\"\r\n",
        "for i in range(int(len(InputString)/2)):\r\n",
        "  if InputString[i]==InputString[len(InputString)-1-i]:\r\n",
        "    pass\r\n",
        "  else:\r\n",
        "    print(\"It is NOT a palindrome\")"
      ],
      "execution_count": null,
      "outputs": []
    },
    {
      "cell_type": "code",
      "metadata": {
        "colab": {
          "base_uri": "https://localhost:8080/"
        },
        "id": "2DUvnyMD16my",
        "outputId": "5b8ada12-8020-4244-fb3b-7c4abe26a342"
      },
      "source": [
        "class palindromeString():\r\n",
        "  def __init__(self, name):\r\n",
        "    self.name = name\r\n",
        "\r\n",
        "  def palindrome(self):\r\n",
        "    for i in range(int(len(self.name)/2)):\r\n",
        "      if self.name[i]==self.name[len(self.name)-1-i]:\r\n",
        "        pass #Do nothing\r\n",
        "      else:\r\n",
        "        print(\"It is NOT a palindrome\")\r\n",
        "      break\r\n",
        "\r\n",
        "palindromeString(\"John\").palindrome()"
      ],
      "execution_count": null,
      "outputs": [
        {
          "output_type": "stream",
          "text": [
            "It is NOT a palindrome\n"
          ],
          "name": "stdout"
        }
      ]
    },
    {
      "cell_type": "code",
      "metadata": {
        "id": "nZRtvUe45xfC"
      },
      "source": [
        "InputString ='John'\r\n",
        "InputString[::-1]"
      ],
      "execution_count": null,
      "outputs": []
    },
    {
      "cell_type": "code",
      "metadata": {
        "colab": {
          "base_uri": "https://localhost:8080/"
        },
        "id": "2PkWEl9H2NYG",
        "outputId": "66300f51-d49a-4e67-e98b-e171e0943f7f"
      },
      "source": [
        "def is_palindrom(Str):\r\n",
        "  original_str=str\r\n",
        "  reversed_str=str[::-1] #Reverse of the input string \r\n",
        "\r\n",
        "  if original_str==reversed_str: # Compare if original string is same as reversed string\r\n",
        "    return True\r\n",
        "  return False\r\n",
        "\r\n",
        "# In python we just compare original string with reverse string\r\n",
        "def is_palindrome_python(str):\r\n",
        "  return str==''.join(str[::-1]) \r\n",
        "\r\n",
        "if __name__ == \"__main__\":\r\n",
        "  str='radar'\r\n",
        "  print(is_palindrome_python(str))\r\n",
        "\r\n",
        "  str='john'\r\n",
        "  print(is_palindrome_python(str))"
      ],
      "execution_count": null,
      "outputs": [
        {
          "output_type": "stream",
          "text": [
            "True\n",
            "False\n"
          ],
          "name": "stdout"
        }
      ]
    },
    {
      "cell_type": "code",
      "metadata": {
        "colab": {
          "base_uri": "https://localhost:8080/"
        },
        "id": "zmL80yF64tIQ",
        "outputId": "a9b2075b-4f8e-4335-f1e1-ddf3e8ebc768"
      },
      "source": [
        "InputString =\"1231\"\r\n",
        "Reversed = InputString[::-1]\r\n",
        "int(Reversed)"
      ],
      "execution_count": null,
      "outputs": [
        {
          "output_type": "execute_result",
          "data": {
            "text/plain": [
              "1321"
            ]
          },
          "metadata": {
            "tags": []
          },
          "execution_count": 109
        }
      ]
    },
    {
      "cell_type": "code",
      "metadata": {
        "colab": {
          "base_uri": "https://localhost:8080/"
        },
        "id": "kvgEd5DnZpnz",
        "outputId": "2bf485a0-3ea4-41bf-8bca-ce658d501b1e"
      },
      "source": [
        "# Integer Reversing\r\n",
        "# Remainder when each digit is divided by 10 and in every iteration we keep removing the last digit\r\n",
        "def reverse_integer(n):\r\n",
        "  reversed = 0\r\n",
        "  remainder = 0\r\n",
        "\r\n",
        "  while n>0:\r\n",
        "    remainder = n%10\r\n",
        "    n = n//10\r\n",
        "    reversed = (reversed*10)+remainder\r\n",
        "  \r\n",
        "  return reversed\r\n",
        "\r\n",
        "print(reverse_integer(1234))"
      ],
      "execution_count": null,
      "outputs": [
        {
          "output_type": "stream",
          "text": [
            "4321\n"
          ],
          "name": "stdout"
        }
      ]
    },
    {
      "cell_type": "code",
      "metadata": {
        "id": "gvL_q8qreGsl"
      },
      "source": [
        "def array_duplicates(array):\r\n",
        "  duplicates = []\r\n",
        "  for i in array:\r\n",
        "    if i in array[]:\r\n",
        "      array.remove(array[i])\r\n",
        "      duplicates.append(array[i])\r\n",
        "  return duplicates\r\n",
        "\r\n",
        "print(array_duplicates([1,2,3,1,4,3,4,6,4,6,1,2]))"
      ],
      "execution_count": null,
      "outputs": []
    },
    {
      "cell_type": "code",
      "metadata": {
        "colab": {
          "base_uri": "https://localhost:8080/"
        },
        "id": "7yk_yzIIeOL0",
        "outputId": "44b3da88-bd7e-4902-aad9-db4a32592a03"
      },
      "source": [
        "array = [1,2,3,1,4,3,4,6,4,6,1,2]\r\n",
        "array.remove(1)\r\n",
        "array"
      ],
      "execution_count": null,
      "outputs": [
        {
          "output_type": "execute_result",
          "data": {
            "text/plain": [
              "[2, 3, 1, 4, 3, 4, 6, 4, 6, 1, 2]"
            ]
          },
          "metadata": {
            "tags": []
          },
          "execution_count": 24
        }
      ]
    },
    {
      "cell_type": "code",
      "metadata": {
        "colab": {
          "base_uri": "https://localhost:8080/",
          "height": 335
        },
        "id": "hDrmqSOVbZ--",
        "outputId": "35807a99-95b6-4c7f-8bce-13fff043fe5a"
      },
      "source": [
        "def array_duplicates(array):\r\n",
        "  duplicates = []\r\n",
        "  for i in range(len(array)-1):\r\n",
        "    if array[i] in array[i+1:len(array)]:\r\n",
        "      array.remove(array[i])\r\n",
        "      duplicates.append(array[i])\r\n",
        "  return duplicates\r\n",
        "\r\n",
        "print(array_duplicates([1,2,3,1,4,3,4,6,4,6,1,2]))"
      ],
      "execution_count": null,
      "outputs": [
        {
          "output_type": "error",
          "ename": "IndexError",
          "evalue": "ignored",
          "traceback": [
            "\u001b[0;31m---------------------------------------------------------------------------\u001b[0m",
            "\u001b[0;31mIndexError\u001b[0m                                Traceback (most recent call last)",
            "\u001b[0;32m<ipython-input-19-03a8b6a5ea35>\u001b[0m in \u001b[0;36m<module>\u001b[0;34m()\u001b[0m\n\u001b[1;32m      7\u001b[0m   \u001b[0;32mreturn\u001b[0m \u001b[0mduplicates\u001b[0m\u001b[0;34m\u001b[0m\u001b[0;34m\u001b[0m\u001b[0m\n\u001b[1;32m      8\u001b[0m \u001b[0;34m\u001b[0m\u001b[0m\n\u001b[0;32m----> 9\u001b[0;31m \u001b[0mprint\u001b[0m\u001b[0;34m(\u001b[0m\u001b[0marray_duplicates\u001b[0m\u001b[0;34m(\u001b[0m\u001b[0;34m[\u001b[0m\u001b[0;36m1\u001b[0m\u001b[0;34m,\u001b[0m\u001b[0;36m2\u001b[0m\u001b[0;34m,\u001b[0m\u001b[0;36m3\u001b[0m\u001b[0;34m,\u001b[0m\u001b[0;36m1\u001b[0m\u001b[0;34m,\u001b[0m\u001b[0;36m4\u001b[0m\u001b[0;34m,\u001b[0m\u001b[0;36m3\u001b[0m\u001b[0;34m,\u001b[0m\u001b[0;36m4\u001b[0m\u001b[0;34m,\u001b[0m\u001b[0;36m6\u001b[0m\u001b[0;34m,\u001b[0m\u001b[0;36m4\u001b[0m\u001b[0;34m,\u001b[0m\u001b[0;36m6\u001b[0m\u001b[0;34m,\u001b[0m\u001b[0;36m1\u001b[0m\u001b[0;34m,\u001b[0m\u001b[0;36m2\u001b[0m\u001b[0;34m]\u001b[0m\u001b[0;34m)\u001b[0m\u001b[0;34m)\u001b[0m\u001b[0;34m\u001b[0m\u001b[0;34m\u001b[0m\u001b[0m\n\u001b[0m",
            "\u001b[0;32m<ipython-input-19-03a8b6a5ea35>\u001b[0m in \u001b[0;36marray_duplicates\u001b[0;34m(array)\u001b[0m\n\u001b[1;32m      2\u001b[0m   \u001b[0mduplicates\u001b[0m \u001b[0;34m=\u001b[0m \u001b[0;34m[\u001b[0m\u001b[0;34m]\u001b[0m\u001b[0;34m\u001b[0m\u001b[0;34m\u001b[0m\u001b[0m\n\u001b[1;32m      3\u001b[0m   \u001b[0;32mfor\u001b[0m \u001b[0mi\u001b[0m \u001b[0;32min\u001b[0m \u001b[0mrange\u001b[0m\u001b[0;34m(\u001b[0m\u001b[0mlen\u001b[0m\u001b[0;34m(\u001b[0m\u001b[0marray\u001b[0m\u001b[0;34m)\u001b[0m\u001b[0;34m-\u001b[0m\u001b[0;36m1\u001b[0m\u001b[0;34m)\u001b[0m\u001b[0;34m:\u001b[0m\u001b[0;34m\u001b[0m\u001b[0;34m\u001b[0m\u001b[0m\n\u001b[0;32m----> 4\u001b[0;31m     \u001b[0;32mif\u001b[0m \u001b[0marray\u001b[0m\u001b[0;34m[\u001b[0m\u001b[0mi\u001b[0m\u001b[0;34m]\u001b[0m \u001b[0;32min\u001b[0m \u001b[0marray\u001b[0m\u001b[0;34m[\u001b[0m\u001b[0mi\u001b[0m\u001b[0;34m+\u001b[0m\u001b[0;36m1\u001b[0m\u001b[0;34m:\u001b[0m\u001b[0mlen\u001b[0m\u001b[0;34m(\u001b[0m\u001b[0marray\u001b[0m\u001b[0;34m)\u001b[0m\u001b[0;34m]\u001b[0m\u001b[0;34m:\u001b[0m\u001b[0;34m\u001b[0m\u001b[0;34m\u001b[0m\u001b[0m\n\u001b[0m\u001b[1;32m      5\u001b[0m       \u001b[0marray\u001b[0m\u001b[0;34m.\u001b[0m\u001b[0mremove\u001b[0m\u001b[0;34m(\u001b[0m\u001b[0marray\u001b[0m\u001b[0;34m[\u001b[0m\u001b[0mi\u001b[0m\u001b[0;34m]\u001b[0m\u001b[0;34m)\u001b[0m\u001b[0;34m\u001b[0m\u001b[0;34m\u001b[0m\u001b[0m\n\u001b[1;32m      6\u001b[0m       \u001b[0mduplicates\u001b[0m\u001b[0;34m.\u001b[0m\u001b[0mappend\u001b[0m\u001b[0;34m(\u001b[0m\u001b[0marray\u001b[0m\u001b[0;34m[\u001b[0m\u001b[0mi\u001b[0m\u001b[0;34m]\u001b[0m\u001b[0;34m)\u001b[0m\u001b[0;34m\u001b[0m\u001b[0;34m\u001b[0m\u001b[0m\n",
            "\u001b[0;31mIndexError\u001b[0m: list index out of range"
          ]
        }
      ]
    },
    {
      "cell_type": "code",
      "metadata": {
        "id": "D56b2QfOlaqU"
      },
      "source": [
        "# Find the index of n in a sorted array (Recursive algo)\r\n",
        "def find_index(array,n):\r\n",
        "  if n==array[len(array)-1] or n==array[len(array)]:\r\n",
        "    print(array.index(n))\r\n",
        "  while n!=array[len_array-1] or n!=array[len_array]:\r\n",
        "    len_array = len(array)//2\r\n",
        "    l1 = array[:len_array-1]\r\n",
        "    l2 = array[len_array:]\r\n",
        "  \r\n",
        "    if n<=array[len_array-1]:\r\n",
        "      len_array = len_array//2\r\n",
        "      \r\n",
        "    else \r\n",
        "      new_array = array[i-1:]\r\n"
      ],
      "execution_count": null,
      "outputs": []
    },
    {
      "cell_type": "code",
      "metadata": {
        "colab": {
          "base_uri": "https://localhost:8080/"
        },
        "id": "bWJI2EIlqCHg",
        "outputId": "0e211c8d-1226-4415-d976-a8279ecbb8b8"
      },
      "source": [
        "# Find max of an array\r\n",
        "def max_array(array):\r\n",
        "  max = array[0]\r\n",
        "  for i in array:\r\n",
        "    if i > max:\r\n",
        "      max = i\r\n",
        "  return max\r\n",
        "\r\n",
        "max_array([4,7,2,8,4])"
      ],
      "execution_count": 5,
      "outputs": [
        {
          "output_type": "execute_result",
          "data": {
            "text/plain": [
              "8"
            ]
          },
          "metadata": {
            "tags": []
          },
          "execution_count": 5
        }
      ]
    },
    {
      "cell_type": "code",
      "metadata": {
        "colab": {
          "base_uri": "https://localhost:8080/"
        },
        "id": "BSyG5dvTrf8R",
        "outputId": "775890ac-9438-4e92-e399-d65c3814f070"
      },
      "source": [
        "# Find sum of an array\r\n",
        "def sum_array(array):\r\n",
        "  sum = array[0]\r\n",
        "  for i in range(1,len(array)):\r\n",
        "    sum += array[i]\r\n",
        "  return sum\r\n",
        "\r\n",
        "sum_array([4,7,2,8,4])"
      ],
      "execution_count": 11,
      "outputs": [
        {
          "output_type": "execute_result",
          "data": {
            "text/plain": [
              "25"
            ]
          },
          "metadata": {
            "tags": []
          },
          "execution_count": 11
        }
      ]
    },
    {
      "cell_type": "code",
      "metadata": {
        "colab": {
          "base_uri": "https://localhost:8080/"
        },
        "id": "zAo6t5C0sWJI",
        "outputId": "a291041c-e5db-4c0e-8ad7-549ed048acad"
      },
      "source": [
        "# Check whether an item is present in an array\r\n",
        "# print index of the specific number\r\n",
        "def check_item_array(array,n):\r\n",
        "  for i in array:\r\n",
        "    if i==n:\r\n",
        "      return array.index(n)\r\n",
        "    else:\r\n",
        "      pass\r\n",
        "\r\n",
        "print(check_item_array([4,7,2,8,4],5))\r\n",
        "print(check_item_array([4,7,2,8,4],7))\r\n",
        "print(check_item_array([4,7,2,8,4],8))\r\n",
        "print(check_item_array([4,7,2,8,4],4))"
      ],
      "execution_count": 19,
      "outputs": [
        {
          "output_type": "stream",
          "text": [
            "None\n",
            "1\n",
            "3\n",
            "0\n"
          ],
          "name": "stdout"
        }
      ]
    },
    {
      "cell_type": "code",
      "metadata": {
        "id": "1SfKhPDSs0EN"
      },
      "source": [
        ""
      ],
      "execution_count": null,
      "outputs": []
    }
  ]
}