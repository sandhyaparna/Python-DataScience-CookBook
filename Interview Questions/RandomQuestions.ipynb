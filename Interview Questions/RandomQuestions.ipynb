{
  "nbformat": 4,
  "nbformat_minor": 0,
  "metadata": {
    "colab": {
      "name": "Untitled1.ipynb",
      "provenance": [],
      "authorship_tag": "ABX9TyOvQs6RDkAFyTQrP1sMHTc1",
      "include_colab_link": true
    },
    "kernelspec": {
      "name": "python3",
      "display_name": "Python 3"
    }
  },
  "cells": [
    {
      "cell_type": "markdown",
      "metadata": {
        "id": "view-in-github",
        "colab_type": "text"
      },
      "source": [
        "<a href=\"https://colab.research.google.com/github/sandhyaparna/Python-DataScience-CookBook/blob/master/Interview%20Questions/RandomQuestions.ipynb\" target=\"_parent\"><img src=\"https://colab.research.google.com/assets/colab-badge.svg\" alt=\"Open In Colab\"/></a>"
      ]
    },
    {
      "cell_type": "code",
      "metadata": {
        "colab": {
          "base_uri": "https://localhost:8080/"
        },
        "id": "kA-cTuYaK5sK",
        "outputId": "34ff8908-54b0-4e4e-ed1b-661091df8a73"
      },
      "source": [
        "# First 5 powers of two\n",
        "powersofTwo = []\n",
        "for i in range(0,5):\n",
        "  x = pow(2,i)\n",
        "  powersofTwo.append(x)\n",
        "\n",
        "powersofTwo"
      ],
      "execution_count": 2,
      "outputs": [
        {
          "output_type": "execute_result",
          "data": {
            "text/plain": [
              "[1, 2, 4, 8, 16]"
            ]
          },
          "metadata": {
            "tags": []
          },
          "execution_count": 2
        }
      ]
    },
    {
      "cell_type": "code",
      "metadata": {
        "colab": {
          "base_uri": "https://localhost:8080/"
        },
        "id": "mtjX4epkaXgx",
        "outputId": "bd984c62-40d8-493e-ba77-5964f8aa6280"
      },
      "source": [
        "# Powers of two that are between X & Y\n",
        "import numpy as np\n",
        "import math\n",
        "x = 3\n",
        "y = 19\n",
        "def powersofTwoBetwXY(x,y):\n",
        "  p=np.int(np.ceil(math.log2(x)))\n",
        "  q=np.int(np.ceil(math.log2(y)))\n",
        "  powersofTwo = []\n",
        "  for i in range(p,q):\n",
        "    x = pow(2,i) \n",
        "    powersofTwo.append(x)\n",
        "  print(powersofTwo)\n",
        "\n",
        "powersofTwoBetwXY(3,19)"
      ],
      "execution_count": 1,
      "outputs": [
        {
          "output_type": "stream",
          "text": [
            "[4, 8, 16]\n"
          ],
          "name": "stdout"
        }
      ]
    }
  ]
}