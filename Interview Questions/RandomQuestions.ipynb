{
  "nbformat": 4,
  "nbformat_minor": 0,
  "metadata": {
    "colab": {
      "name": "Untitled1.ipynb",
      "provenance": [],
      "authorship_tag": "ABX9TyP/Tu7rVeVlaDAzRZAmtw2O",
      "include_colab_link": true
    },
    "kernelspec": {
      "name": "python3",
      "display_name": "Python 3"
    }
  },
  "cells": [
    {
      "cell_type": "markdown",
      "metadata": {
        "id": "view-in-github",
        "colab_type": "text"
      },
      "source": [
        "<a href=\"https://colab.research.google.com/github/sandhyaparna/Python-DataScience-CookBook/blob/master/Interview%20Questions/RandomQuestions.ipynb\" target=\"_parent\"><img src=\"https://colab.research.google.com/assets/colab-badge.svg\" alt=\"Open In Colab\"/></a>"
      ]
    },
    {
      "cell_type": "code",
      "metadata": {
        "colab": {
          "base_uri": "https://localhost:8080/"
        },
        "id": "kA-cTuYaK5sK",
        "outputId": "34ff8908-54b0-4e4e-ed1b-661091df8a73"
      },
      "source": [
        "# First 5 powers of two\n",
        "powersofTwo = []\n",
        "for i in range(0,5):\n",
        "  x = pow(2,i)\n",
        "  powersofTwo.append(x)\n",
        "\n",
        "powersofTwo"
      ],
      "execution_count": null,
      "outputs": [
        {
          "output_type": "execute_result",
          "data": {
            "text/plain": [
              "[1, 2, 4, 8, 16]"
            ]
          },
          "metadata": {
            "tags": []
          },
          "execution_count": 2
        }
      ]
    },
    {
      "cell_type": "code",
      "metadata": {
        "colab": {
          "base_uri": "https://localhost:8080/"
        },
        "id": "mtjX4epkaXgx",
        "outputId": "bd984c62-40d8-493e-ba77-5964f8aa6280"
      },
      "source": [
        "# Powers of two that are between X & Y\n",
        "import numpy as np\n",
        "import math\n",
        "x = 3\n",
        "y = 19\n",
        "def powersofTwoBetwXY(x,y):\n",
        "  p=np.int(np.ceil(math.log2(x)))\n",
        "  q=np.int(np.ceil(math.log2(y)))\n",
        "  powersofTwo = []\n",
        "  for i in range(p,q):\n",
        "    x = pow(2,i) \n",
        "    powersofTwo.append(x)\n",
        "  print(powersofTwo)\n",
        "\n",
        "powersofTwoBetwXY(3,19)"
      ],
      "execution_count": null,
      "outputs": [
        {
          "output_type": "stream",
          "text": [
            "[4, 8, 16]\n"
          ],
          "name": "stdout"
        }
      ]
    },
    {
      "cell_type": "code",
      "metadata": {
        "colab": {
          "base_uri": "https://localhost:8080/"
        },
        "id": "yLqvFSzsCz6x",
        "outputId": "5af94032-f01e-437e-fcd2-03911c91ecb3"
      },
      "source": [
        "# Check if numbers/elements in a array can be made equal through multiplication\n",
        "# Given an array arr[], write a function to feed in the array elements check whether they can all be made equal by only multiplying the numbers by 2 or 7. (you can multiply by these #s as many times as you like) If all elements can be made equal, return False, otherwise return True.\n",
        "# check for remainder after diving by any power 2 or 7 and see remainder is same in all the elements or not\n",
        "\n",
        "# For eg: [50,75,100] - check if they can be made equal by multiplying with 2 or 3\n",
        "# In this case 50 can be written as 5^2*2, 75 as 5^2*3, 100 as 5^2*2^2. in this case as other that 2 and 3, 5^2=25 is common among the number\n",
        "# so, they can all be made equal. 50*2^2*3, 75*2^2, 100*3 will all be qual to 300\n",
        "# For eg: 10,50. they cannot be made equal as by multiplying only using 2 or 3 prime factors as other part i.e 5 & 5^2 are not equal in this case. \n",
        "# 10=5*2, 50=5^2*2.\n",
        "\n",
        "import math\n",
        "\n",
        "def get_power_of_p(n, p):\n",
        "  ans = 0\n",
        "  while (n % p) == 0:\n",
        "    ans += 1\n",
        "    n /= p\n",
        "  return math.floor(ans)\n",
        "\n",
        "def check_if_array_numbers_can_be_made_equal(a):\n",
        "  n, prev = len(a), 0\n",
        "  for i in range(n):\n",
        "    p2 = get_power_of_p(a[i], 2)\n",
        "    p7 = get_power_of_p(a[i], 7)\n",
        "    a[i] /= ((2**p2) * (7**p7))\n",
        "    print(\"Residual = \" + str(a[i]) + \", Power of 2 = \" + str(p2) + \", Power of 7 = \" + str(p7))\n",
        "    if i > 0:\n",
        "      if a[i] != prev:\n",
        "        return \"No\"\n",
        "    prev = a[i]\n",
        "  return \"Yes\"\n",
        "\n",
        "print(check_if_array_numbers_can_be_made_equal([128, 4, 2]))"
      ],
      "execution_count": null,
      "outputs": [
        {
          "output_type": "stream",
          "text": [
            "Residual = 1.0, Power of 2 = 7, Power of 7 = 0\n",
            "Residual = 1.0, Power of 2 = 2, Power of 7 = 0\n",
            "Residual = 1.0, Power of 2 = 1, Power of 7 = 0\n",
            "Yes\n"
          ],
          "name": "stdout"
        }
      ]
    },
    {
      "cell_type": "code",
      "metadata": {
        "colab": {
          "base_uri": "https://localhost:8080/"
        },
        "id": "RSzAhbkMCz3b",
        "outputId": "b585b947-be4d-4a47-8114-72a2db07a908"
      },
      "source": [
        "# Create a Python function that generates the power set given a set of values. For example, if you're given the following set:\n",
        "# set = {1, 2, 3} Your python function should return the corresponding power set:\n",
        "# power set = { {}, {1}, {2}, {3}, {1, 2}, {2, 3}, {1, 3}, {1, 2, 3} }\n",
        "\n",
        "# A power set will 2^n elements. n is the length of n\n",
        "# so create binary values for 0 to 2^n and extract elements from set based on index position of 1 in binary representation\n",
        "\n",
        "import numpy as np\n",
        "\n",
        "def get_power_set(a):\n",
        "    n = len(a)\n",
        "    x = 2**n\n",
        "    ans = []\n",
        "    for i in range(x):\n",
        "        l = []\n",
        "        index = 0\n",
        "        while i > 0:\n",
        "            if (i % 2) == 1:\n",
        "                l.append(a[index])\n",
        "            i >>= 1\n",
        "            index += 1\n",
        "        ans.append(l)\n",
        "    return sorted(ans, key = len)\n",
        "\n",
        "print(get_power_set([1, 2, 3]))"
      ],
      "execution_count": null,
      "outputs": [
        {
          "output_type": "stream",
          "text": [
            "[[], [1], [2], [3], [1, 2], [1, 3], [2, 3], [1, 2, 3]]\n"
          ],
          "name": "stdout"
        }
      ]
    },
    {
      "cell_type": "code",
      "metadata": {
        "id": "pHrhnX_5GABC"
      },
      "source": [
        "# There's a staircase with N steps, and you can climb 1 or 2 steps at a time. Given N, write a function that returns the number of unique ways you can climb the staircase. The order of the steps matters.\n",
        "# For example, if N is 4, then there are 5 unique ways:\n",
        "# 1, 1, 1, 1\n",
        "# 2, 1, 1\n",
        "# 1, 2, 1\n",
        "# 1, 1, 2\n",
        "# 2, 2\n",
        "# What if, instead of being able to climb 1 or 2 steps at a time, you could climb any number from a set of positive integers X? For example, if X = {1, 3, 5}, you could climb 1, 3, or 5 steps at a time. Generalize your function to take in X.\n",
        "\n",
        "# Logic\n",
        "# N is written as p(a)+q(b) where a=1, b=2\n",
        "# for p in (0,N/a):\n",
        "#   calculate q \n",
        "#   Extract only integers from q\n",
        "#   Now calculate p based on values from q\n",
        "# For each unique combination of (p,q) there will p+q positions for which (a,b) are to be selected\n",
        " "
      ],
      "execution_count": 1,
      "outputs": []
    }
  ]
}