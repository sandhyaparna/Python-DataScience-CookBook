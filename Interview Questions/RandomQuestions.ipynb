{
  "nbformat": 4,
  "nbformat_minor": 0,
  "metadata": {
    "colab": {
      "name": "RandomQuestions.ipynb",
      "provenance": [],
      "collapsed_sections": [],
      "authorship_tag": "ABX9TyP1nHWfDf2RPVX3UXX3k6pT",
      "include_colab_link": true
    },
    "kernelspec": {
      "name": "python3",
      "display_name": "Python 3"
    }
  },
  "cells": [
    {
      "cell_type": "markdown",
      "metadata": {
        "id": "view-in-github",
        "colab_type": "text"
      },
      "source": [
        "<a href=\"https://colab.research.google.com/github/sandhyaparna/Python-DataScience-CookBook/blob/master/Interview%20Questions/RandomQuestions.ipynb\" target=\"_parent\"><img src=\"https://colab.research.google.com/assets/colab-badge.svg\" alt=\"Open In Colab\"/></a>"
      ]
    },
    {
      "cell_type": "code",
      "metadata": {
        "colab": {
          "base_uri": "https://localhost:8080/"
        },
        "id": "kA-cTuYaK5sK",
        "outputId": "34ff8908-54b0-4e4e-ed1b-661091df8a73"
      },
      "source": [
        "# First 5 powers of two\n",
        "powersofTwo = []\n",
        "for i in range(0,5):\n",
        "  x = pow(2,i)\n",
        "  powersofTwo.append(x)\n",
        "\n",
        "powersofTwo"
      ],
      "execution_count": null,
      "outputs": [
        {
          "output_type": "execute_result",
          "data": {
            "text/plain": [
              "[1, 2, 4, 8, 16]"
            ]
          },
          "metadata": {
            "tags": []
          },
          "execution_count": 2
        }
      ]
    },
    {
      "cell_type": "code",
      "metadata": {
        "colab": {
          "base_uri": "https://localhost:8080/"
        },
        "id": "mtjX4epkaXgx",
        "outputId": "bd984c62-40d8-493e-ba77-5964f8aa6280"
      },
      "source": [
        "# Powers of two that are between X & Y\n",
        "import numpy as np\n",
        "import math\n",
        "x = 3\n",
        "y = 19\n",
        "def powersofTwoBetwXY(x,y):\n",
        "  p=np.int(np.ceil(math.log2(x)))\n",
        "  q=np.int(np.ceil(math.log2(y)))\n",
        "  powersofTwo = []\n",
        "  for i in range(p,q):\n",
        "    x = pow(2,i) \n",
        "    powersofTwo.append(x)\n",
        "  print(powersofTwo)\n",
        "\n",
        "powersofTwoBetwXY(3,19)"
      ],
      "execution_count": null,
      "outputs": [
        {
          "output_type": "stream",
          "text": [
            "[4, 8, 16]\n"
          ],
          "name": "stdout"
        }
      ]
    },
    {
      "cell_type": "code",
      "metadata": {
        "colab": {
          "base_uri": "https://localhost:8080/"
        },
        "id": "yLqvFSzsCz6x",
        "outputId": "5af94032-f01e-437e-fcd2-03911c91ecb3"
      },
      "source": [
        "# Check if numbers/elements in a array can be made equal through multiplication\n",
        "# Given an array arr[], write a function to feed in the array elements check whether they can all be made equal by only multiplying the numbers by 2 or 7. (you can multiply by these #s as many times as you like) If all elements can be made equal, return False, otherwise return True.\n",
        "# check for remainder after diving by any power 2 or 7 and see remainder is same in all the elements or not\n",
        "\n",
        "# For eg: [50,75,100] - check if they can be made equal by multiplying with 2 or 3\n",
        "# In this case 50 can be written as 5^2*2, 75 as 5^2*3, 100 as 5^2*2^2. in this case as other that 2 and 3, 5^2=25 is common among the number\n",
        "# so, they can all be made equal. 50*2^2*3, 75*2^2, 100*3 will all be qual to 300\n",
        "# For eg: 10,50. they cannot be made equal as by multiplying only using 2 or 3 prime factors as other part i.e 5 & 5^2 are not equal in this case. \n",
        "# 10=5*2, 50=5^2*2.\n",
        "\n",
        "import math\n",
        "\n",
        "def get_power_of_p(n, p):\n",
        "  ans = 0\n",
        "  while (n % p) == 0:\n",
        "    ans += 1\n",
        "    n /= p\n",
        "  return math.floor(ans)\n",
        "\n",
        "def check_if_array_numbers_can_be_made_equal(a):\n",
        "  n, prev = len(a), 0\n",
        "  for i in range(n):\n",
        "    p2 = get_power_of_p(a[i], 2)\n",
        "    p7 = get_power_of_p(a[i], 7)\n",
        "    a[i] /= ((2**p2) * (7**p7))\n",
        "    print(\"Residual = \" + str(a[i]) + \", Power of 2 = \" + str(p2) + \", Power of 7 = \" + str(p7))\n",
        "    if i > 0:\n",
        "      if a[i] != prev:\n",
        "        return \"No\"\n",
        "    prev = a[i]\n",
        "  return \"Yes\"\n",
        "\n",
        "print(check_if_array_numbers_can_be_made_equal([128, 4, 2]))"
      ],
      "execution_count": null,
      "outputs": [
        {
          "output_type": "stream",
          "text": [
            "Residual = 1.0, Power of 2 = 7, Power of 7 = 0\n",
            "Residual = 1.0, Power of 2 = 2, Power of 7 = 0\n",
            "Residual = 1.0, Power of 2 = 1, Power of 7 = 0\n",
            "Yes\n"
          ],
          "name": "stdout"
        }
      ]
    },
    {
      "cell_type": "code",
      "metadata": {
        "colab": {
          "base_uri": "https://localhost:8080/"
        },
        "id": "RSzAhbkMCz3b",
        "outputId": "b585b947-be4d-4a47-8114-72a2db07a908"
      },
      "source": [
        "# Create a Python function that generates the power set given a set of values. For example, if you're given the following set:\n",
        "# set = {1, 2, 3} Your python function should return the corresponding power set:\n",
        "# power set = { {}, {1}, {2}, {3}, {1, 2}, {2, 3}, {1, 3}, {1, 2, 3} }\n",
        "\n",
        "# A power set will 2^n elements. n is the length of n\n",
        "# so create binary values for 0 to 2^n and extract elements from set based on index position of 1 in binary representation\n",
        "\n",
        "import numpy as np\n",
        "\n",
        "def get_power_set(a):\n",
        "    n = len(a)\n",
        "    x = 2**n\n",
        "    ans = []\n",
        "    for i in range(x):\n",
        "        l = []\n",
        "        index = 0\n",
        "        while i > 0:\n",
        "            if (i % 2) == 1:\n",
        "                l.append(a[index])\n",
        "            i >>= 1\n",
        "            index += 1\n",
        "        ans.append(l)\n",
        "    return sorted(ans, key = len)\n",
        "\n",
        "print(get_power_set([1, 2, 3]))"
      ],
      "execution_count": null,
      "outputs": [
        {
          "output_type": "stream",
          "text": [
            "[[], [1], [2], [3], [1, 2], [1, 3], [2, 3], [1, 2, 3]]\n"
          ],
          "name": "stdout"
        }
      ]
    },
    {
      "cell_type": "code",
      "metadata": {
        "id": "pHrhnX_5GABC"
      },
      "source": [
        "# There's a staircase with N steps, and you can climb 1 or 2 steps at a time. Given N, write a function that returns the number of unique ways you can climb the staircase. The order of the steps matters.\n",
        "# For example, if N is 4, then there are 5 unique ways:\n",
        "# 1, 1, 1, 1\n",
        "# 2, 1, 1\n",
        "# 1, 2, 1\n",
        "# 1, 1, 2\n",
        "# 2, 2\n",
        "# What if, instead of being able to climb 1 or 2 steps at a time, you could climb any number from a set of positive integers X? For example, if X = {1, 3, 5}, you could climb 1, 3, or 5 steps at a time. Generalize your function to take in X.\n",
        "\n",
        "# Logic\n",
        "# N is written as p(a)+q(b) where a=1, b=2\n",
        "# for p in (0,N/a):\n",
        "#   calculate q \n",
        "#   Extract only integers from q\n",
        "#   Now calculate p based on values from q\n",
        "# For each unique combination of (p,q) there will p+q positions for which (a,b) are to be selected\n",
        " "
      ],
      "execution_count": null,
      "outputs": []
    },
    {
      "cell_type": "code",
      "metadata": {
        "id": "Plu1K8o3pPr8",
        "colab": {
          "base_uri": "https://localhost:8080/"
        },
        "outputId": "2c3add62-d2f1-4c8e-912e-724d94559fdf"
      },
      "source": [
        "# Reversing an array \r\n",
        "T = [1,2,3,4,5]\r\n",
        "T1 = []\r\n",
        "for i in T:\r\n",
        "  T1.insert(0,i)\r\n",
        "print(T1)"
      ],
      "execution_count": null,
      "outputs": [
        {
          "output_type": "stream",
          "text": [
            "[5, 4, 3, 2, 1]\n"
          ],
          "name": "stdout"
        }
      ]
    },
    {
      "cell_type": "code",
      "metadata": {
        "id": "mliWEmyFLfY3",
        "outputId": "d53e9b56-9587-468b-88a2-77d56b91665f",
        "colab": {
          "base_uri": "https://localhost:8080/"
        }
      },
      "source": [
        "list1 = [2,7,4,8]\r\n",
        "print(\"range of len of array\")\r\n",
        "for i in range(len(list1)):\r\n",
        "  print(i)\r\n",
        "\r\n",
        "print(\"range of len of array to 0\")\r\n",
        "for i in range(len(list1)-1,-1,-1):\r\n",
        "  print(i)\r\n",
        "\r\n",
        "print(\"get first and corresponding last index\")\r\n",
        "for i in range(len(list1)//2):\r\n",
        "  print(i, \" : \", -i-1)"
      ],
      "execution_count": 12,
      "outputs": [
        {
          "output_type": "stream",
          "text": [
            "range of len of array\n",
            "0\n",
            "1\n",
            "2\n",
            "3\n",
            "range of len of array to 0\n",
            "3\n",
            "2\n",
            "1\n",
            "0\n",
            "get first and corresponding last index\n",
            "0  :  -1\n",
            "1  :  -2\n"
          ],
          "name": "stdout"
        }
      ]
    },
    {
      "cell_type": "code",
      "metadata": {
        "id": "VH4SkkyIh9O-",
        "outputId": "db811939-5085-4638-c921-444fa3cedf7c",
        "colab": {
          "base_uri": "https://localhost:8080/"
        }
      },
      "source": [
        "print(\"even numbers\")\r\n",
        "for i in range(5):\r\n",
        "  print(2*i)\r\n",
        "\r\n",
        "print(\"even numbers\")\r\n",
        "for i in range(0,5,2):\r\n",
        "  print(i)\r\n",
        "\r\n",
        "print(\"odd numbers\")\r\n",
        "for i in range(5):\r\n",
        "  print(2*i+1)\r\n",
        "\r\n",
        "print(\"odd numbers\")\r\n",
        "for i in range(1,5,2):\r\n",
        "  print(i)"
      ],
      "execution_count": 6,
      "outputs": [
        {
          "output_type": "stream",
          "text": [
            "even numbers\n",
            "0\n",
            "2\n",
            "4\n",
            "6\n",
            "8\n",
            "even numbers\n",
            "0\n",
            "2\n",
            "4\n",
            "odd numbers\n",
            "1\n",
            "3\n",
            "5\n",
            "7\n",
            "9\n",
            "odd numbers\n",
            "1\n",
            "3\n"
          ],
          "name": "stdout"
        }
      ]
    },
    {
      "cell_type": "code",
      "metadata": {
        "id": "qlJ9dA-SiZtb",
        "outputId": "eddb58b2-f1f9-4d31-9c9d-1bb4a70c6a6b",
        "colab": {
          "base_uri": "https://localhost:8080/"
        }
      },
      "source": [
        "sandy =\"sandy\"\r\n",
        "i = 0\r\n",
        "j = len(sandy) - 1;\r\n",
        "print(i,j)\r\n",
        "while (i < j):\r\n",
        "    i += 1\r\n",
        "    j -= 1\r\n",
        "    print(i,j) "
      ],
      "execution_count": 20,
      "outputs": [
        {
          "output_type": "stream",
          "text": [
            "0 4\n",
            "1 3\n",
            "2 2\n"
          ],
          "name": "stdout"
        }
      ]
    },
    {
      "cell_type": "code",
      "metadata": {
        "id": "sIwClcXJqClr"
      },
      "source": [
        "# Palindrome problem overview\r\n",
        "# When length of digits is odd number we don't have to check the middle value condition as middle value is always equal to itself\r\n",
        "InputString = \"maddam\"\r\n",
        "for i in range(len(InputString)//2): #int(len(InputString)/2)\r\n",
        "  if InputString[i]==InputString[-1-i]: # i =0, will give -1 when [-1-i]\r\n",
        "    pass\r\n",
        "  else:\r\n",
        "    print(\"It is NOT a palindrome\")"
      ],
      "execution_count": 6,
      "outputs": []
    },
    {
      "cell_type": "code",
      "metadata": {
        "colab": {
          "base_uri": "https://localhost:8080/"
        },
        "id": "2DUvnyMD16my",
        "outputId": "5b8ada12-8020-4244-fb3b-7c4abe26a342"
      },
      "source": [
        "class palindromeString():\r\n",
        "  def __init__(self, name):\r\n",
        "    self.name = name\r\n",
        "\r\n",
        "  def palindrome(self):\r\n",
        "    for i in range(int(len(self.name)/2)):\r\n",
        "      if self.name[i]==self.name[-1-i]:\r\n",
        "        pass #Do nothing\r\n",
        "      else:\r\n",
        "        print(\"It is NOT a palindrome\")\r\n",
        "      break\r\n",
        "\r\n",
        "palindromeString(\"John\").palindrome()"
      ],
      "execution_count": null,
      "outputs": [
        {
          "output_type": "stream",
          "text": [
            "It is NOT a palindrome\n"
          ],
          "name": "stdout"
        }
      ]
    },
    {
      "cell_type": "code",
      "metadata": {
        "id": "nZRtvUe45xfC",
        "outputId": "ae548ce5-0b9e-43f0-860a-164f53ed2fdc",
        "colab": {
          "base_uri": "https://localhost:8080/",
          "height": 35
        }
      },
      "source": [
        "InputString ='John'\r\n",
        "InputString[::-1]"
      ],
      "execution_count": 1,
      "outputs": [
        {
          "output_type": "execute_result",
          "data": {
            "application/vnd.google.colaboratory.intrinsic+json": {
              "type": "string"
            },
            "text/plain": [
              "'nhoJ'"
            ]
          },
          "metadata": {
            "tags": []
          },
          "execution_count": 1
        }
      ]
    },
    {
      "cell_type": "code",
      "metadata": {
        "colab": {
          "base_uri": "https://localhost:8080/"
        },
        "id": "2PkWEl9H2NYG",
        "outputId": "66300f51-d49a-4e67-e98b-e171e0943f7f"
      },
      "source": [
        "def is_palindrom(Str):\r\n",
        "  original_str=str\r\n",
        "  reversed_str=str[::-1] #Reverse of the input string \r\n",
        "\r\n",
        "  if original_str==reversed_str: # Compare if original string is same as reversed string\r\n",
        "    return True\r\n",
        "  return False\r\n",
        "\r\n",
        "# In python we just compare original string with reverse string\r\n",
        "def is_palindrome_python(str):\r\n",
        "  return str==''.join(str[::-1]) \r\n",
        "\r\n",
        "if __name__ == \"__main__\":\r\n",
        "  str='radar'\r\n",
        "  print(is_palindrome_python(str))\r\n",
        "\r\n",
        "  str='john'\r\n",
        "  print(is_palindrome_python(str))"
      ],
      "execution_count": null,
      "outputs": [
        {
          "output_type": "stream",
          "text": [
            "True\n",
            "False\n"
          ],
          "name": "stdout"
        }
      ]
    },
    {
      "cell_type": "code",
      "metadata": {
        "colab": {
          "base_uri": "https://localhost:8080/"
        },
        "id": "zmL80yF64tIQ",
        "outputId": "a9b2075b-4f8e-4335-f1e1-ddf3e8ebc768"
      },
      "source": [
        "InputString =\"1231\"\r\n",
        "Reversed = InputString[::-1]\r\n",
        "int(Reversed)"
      ],
      "execution_count": null,
      "outputs": [
        {
          "output_type": "execute_result",
          "data": {
            "text/plain": [
              "1321"
            ]
          },
          "metadata": {
            "tags": []
          },
          "execution_count": 109
        }
      ]
    },
    {
      "cell_type": "code",
      "metadata": {
        "colab": {
          "base_uri": "https://localhost:8080/"
        },
        "id": "kvgEd5DnZpnz",
        "outputId": "2bf485a0-3ea4-41bf-8bca-ce658d501b1e"
      },
      "source": [
        "# Integer Reversing\r\n",
        "# Remainder when each digit is divided by 10 and in every iteration we keep removing the last digit\r\n",
        "def reverse_integer(n):\r\n",
        "  reversed = 0\r\n",
        "  remainder = 0\r\n",
        "\r\n",
        "  while n>0:\r\n",
        "    remainder = n%10\r\n",
        "    n = n//10\r\n",
        "    reversed = (reversed*10)+remainder\r\n",
        "  \r\n",
        "  return reversed\r\n",
        "\r\n",
        "print(reverse_integer(1234))"
      ],
      "execution_count": null,
      "outputs": [
        {
          "output_type": "stream",
          "text": [
            "4321\n"
          ],
          "name": "stdout"
        }
      ]
    },
    {
      "cell_type": "code",
      "metadata": {
        "id": "Nsi_rZULOFkX",
        "outputId": "17254974-da89-454b-e6f7-445eb94d3fc7",
        "colab": {
          "base_uri": "https://localhost:8080/"
        }
      },
      "source": [
        "# reverse int if it is treated as a string\r\n",
        "def reverse_integer(n):\r\n",
        "  int_str = str(n)\r\n",
        "  rev_int = 0\r\n",
        "  for i in range(len(int_str)-1,-1,-1):\r\n",
        "    rev_int += int(int_str[i])*pow(10,i)\r\n",
        "  return rev_int\r\n",
        "\r\n",
        "reverse_integer(1234)"
      ],
      "execution_count": 19,
      "outputs": [
        {
          "output_type": "execute_result",
          "data": {
            "text/plain": [
              "4321"
            ]
          },
          "metadata": {
            "tags": []
          },
          "execution_count": 19
        }
      ]
    },
    {
      "cell_type": "code",
      "metadata": {
        "id": "gvL_q8qreGsl",
        "outputId": "0f1474ab-3075-422e-aec7-f5d2cfd3a8b6",
        "colab": {
          "base_uri": "https://localhost:8080/"
        }
      },
      "source": [
        "# This is O(N sq) running time\r\n",
        "# if an item is in next set of values, if it is so then add into a new array called duplicates\r\n",
        "# But item is added only if it is in the next set of values but not in the duplicates array\r\n",
        "def array_duplicates(array):\r\n",
        "  duplicates = []\r\n",
        "  for i in range(len(array)-1):\r\n",
        "    if (array[i] in array[i+1:len(array)]) and (array[i] not in duplicates): #Not len(array)-1 \r\n",
        "      duplicates.append(array[i])\r\n",
        "  return duplicates\r\n",
        "\r\n",
        "print(array_duplicates([1,2,3,1,4,3,4,5,6,4,8,6,1,12,2]))"
      ],
      "execution_count": 62,
      "outputs": [
        {
          "output_type": "stream",
          "text": [
            "[1, 2, 3, 4, 6]\n"
          ],
          "name": "stdout"
        }
      ]
    },
    {
      "cell_type": "code",
      "metadata": {
        "id": "D56b2QfOlaqU"
      },
      "source": [
        "# Not finished\r\n",
        "# Find the index of n in a sorted array (Recursive algo)\r\n",
        "def find_index(array,n):\r\n",
        "  if n==array[len(array)-1] or n==array[len(array)]:\r\n",
        "    print(array.index(n))\r\n",
        "  while n!=array[len_array-1] or n!=array[len_array]:\r\n",
        "    len_array = len(array)//2\r\n",
        "    l1 = array[:len_array-1]\r\n",
        "    l2 = array[len_array:]\r\n",
        "  \r\n",
        "    if n<=array[len_array-1]:\r\n",
        "      len_array = len_array//2\r\n",
        "      \r\n",
        "    else \r\n",
        "      new_array = array[i-1:]\r\n"
      ],
      "execution_count": null,
      "outputs": []
    },
    {
      "cell_type": "code",
      "metadata": {
        "colab": {
          "base_uri": "https://localhost:8080/"
        },
        "id": "bWJI2EIlqCHg",
        "outputId": "0e211c8d-1226-4415-d976-a8279ecbb8b8"
      },
      "source": [
        "# Find max of an array\r\n",
        "def max_array(array):\r\n",
        "  max = array[0]\r\n",
        "  for i in array:\r\n",
        "    if i > max:\r\n",
        "      max = i\r\n",
        "  return max\r\n",
        "\r\n",
        "max_array([4,7,2,8,4])"
      ],
      "execution_count": null,
      "outputs": [
        {
          "output_type": "execute_result",
          "data": {
            "text/plain": [
              "8"
            ]
          },
          "metadata": {
            "tags": []
          },
          "execution_count": 5
        }
      ]
    },
    {
      "cell_type": "code",
      "metadata": {
        "colab": {
          "base_uri": "https://localhost:8080/"
        },
        "id": "BSyG5dvTrf8R",
        "outputId": "775890ac-9438-4e92-e399-d65c3814f070"
      },
      "source": [
        "# Find sum of an array\r\n",
        "def sum_array(array):\r\n",
        "  sum = array[0]\r\n",
        "  for i in range(1,len(array)):\r\n",
        "    sum += array[i]\r\n",
        "  return sum\r\n",
        "\r\n",
        "sum_array([4,7,2,8,4])"
      ],
      "execution_count": null,
      "outputs": [
        {
          "output_type": "execute_result",
          "data": {
            "text/plain": [
              "25"
            ]
          },
          "metadata": {
            "tags": []
          },
          "execution_count": 11
        }
      ]
    },
    {
      "cell_type": "code",
      "metadata": {
        "colab": {
          "base_uri": "https://localhost:8080/"
        },
        "id": "zAo6t5C0sWJI",
        "outputId": "a291041c-e5db-4c0e-8ad7-549ed048acad"
      },
      "source": [
        "# Check whether an item is present in an array\r\n",
        "# print index of the specific number when it appears for the first time in the array\r\n",
        "def check_item_array(array,n):\r\n",
        "  for i in array:\r\n",
        "    if i==n:\r\n",
        "      return array.index(n)\r\n",
        "    else:\r\n",
        "      pass\r\n",
        "\r\n",
        "print(check_item_array([4,7,2,8,4],5))\r\n",
        "print(check_item_array([4,7,2,8,4],7))\r\n",
        "print(check_item_array([4,7,2,8,4],8))\r\n",
        "print(check_item_array([4,7,2,8,4],4))"
      ],
      "execution_count": null,
      "outputs": [
        {
          "output_type": "stream",
          "text": [
            "None\n",
            "1\n",
            "3\n",
            "0\n"
          ],
          "name": "stdout"
        }
      ]
    },
    {
      "cell_type": "code",
      "metadata": {
        "id": "fWgBDD46n9ir",
        "outputId": "5b746dad-f1cf-496c-d1c7-97c968c4917b",
        "colab": {
          "base_uri": "https://localhost:8080/"
        }
      },
      "source": [
        "x = Counter(\"Dirty room\")\r\n",
        "del x[' ']\r\n",
        "x\r\n",
        "\r\n"
      ],
      "execution_count": 73,
      "outputs": [
        {
          "output_type": "execute_result",
          "data": {
            "text/plain": [
              "Counter({'D': 1, 'i': 1, 'm': 1, 'o': 2, 'r': 2, 't': 1, 'y': 1})"
            ]
          },
          "metadata": {
            "tags": []
          },
          "execution_count": 73
        }
      ]
    },
    {
      "cell_type": "code",
      "metadata": {
        "id": "1SfKhPDSs0EN",
        "outputId": "2533b69e-133d-4045-c4d3-22bbb3b4b127",
        "colab": {
          "base_uri": "https://localhost:8080/"
        }
      },
      "source": [
        "\"\"\"An anagram is a word or phrase formed by rearranging the letters of a different word or phrase, \r\n",
        "typically using all the original letters exactly once. For example, the word anagram can be rearranged into nag a ram, \r\n",
        "also the word binary into brainy and the word adobe into abode.\"\"\"\r\n",
        "\r\n",
        "# Check if the words have equal counters but remove spaces\r\n",
        "from collections import Counter\r\n",
        "def anagram(word1,word2):\r\n",
        "  word1_counter = Counter(word1.lower())\r\n",
        "  del word1_counter[' ']\r\n",
        "  word2_counter = Counter(word2.lower())\r\n",
        "  del word2_counter[' ']\r\n",
        "  if word1_counter==word2_counter:\r\n",
        "    print(\"Given words are anagrams\")\r\n",
        "  else:\r\n",
        "    print(\"Given words are NOT anagrams\")\r\n",
        "\r\n",
        "anagram(\"School master\",\"The classroom\")"
      ],
      "execution_count": 79,
      "outputs": [
        {
          "output_type": "stream",
          "text": [
            "Given words are anagrams\n"
          ],
          "name": "stdout"
        }
      ]
    },
    {
      "cell_type": "code",
      "metadata": {
        "id": "AjKgPmnsp0iy",
        "outputId": "6e12182d-8803-4078-ed9c-a93ac7b56852",
        "colab": {
          "base_uri": "https://localhost:8080/",
          "height": 35
        }
      },
      "source": [
        "a,b = \"School master\".split()\r\n",
        "a+b"
      ],
      "execution_count": 82,
      "outputs": [
        {
          "output_type": "execute_result",
          "data": {
            "application/vnd.google.colaboratory.intrinsic+json": {
              "type": "string"
            },
            "text/plain": [
              "'Schoolmaster'"
            ]
          },
          "metadata": {
            "tags": []
          },
          "execution_count": 82
        }
      ]
    },
    {
      "cell_type": "code",
      "metadata": {
        "id": "8798sNI3qDnK",
        "outputId": "d684910c-1cd9-42a7-918d-a4c40955b75d",
        "colab": {
          "base_uri": "https://localhost:8080/"
        }
      },
      "source": [
        "# Words can still be anagrams if one of them spaces but the other word doesn't\r\n",
        "def anagram_base(word1,word2):\r\n",
        "  word1_dict = {}\r\n",
        "  word2_dict = {}\r\n",
        "  for i in word1.lower():\r\n",
        "    if i!=' ':\r\n",
        "      word1_dict[\"word_{0}\".format(i)] = word1.lower().count(i) #adding new item to a dictionary\r\n",
        "  for i in word2.lower():\r\n",
        "    if i!=' ':\r\n",
        "      word2_dict[\"word_{0}\".format(i)] = word2.lower().count(i)  \r\n",
        "  if word1_dict==word2_dict:\r\n",
        "    print(\"Given words are anagrams\")\r\n",
        "  else:\r\n",
        "    print(\"Given words are NOT anagrams\")\r\n",
        "  return word1_dict,word2_dict\r\n",
        "\r\n",
        "print(anagram_base(\"School master\",\"The classroom\"))\r\n",
        "print(anagram_base(\"restful\",\"flusterr\"))"
      ],
      "execution_count": 95,
      "outputs": [
        {
          "output_type": "stream",
          "text": [
            "Given words are anagrams\n",
            "({'word_s': 2, 'word_c': 1, 'word_h': 1, 'word_o': 2, 'word_l': 1, 'word_m': 1, 'word_a': 1, 'word_t': 1, 'word_e': 1, 'word_r': 1}, {'word_t': 1, 'word_h': 1, 'word_e': 1, 'word_c': 1, 'word_l': 1, 'word_a': 1, 'word_s': 2, 'word_r': 1, 'word_o': 2, 'word_m': 1})\n",
            "Given words are NOT anagrams\n",
            "({'word_r': 1, 'word_e': 1, 'word_s': 1, 'word_t': 1, 'word_f': 1, 'word_u': 1, 'word_l': 1}, {'word_f': 1, 'word_l': 1, 'word_u': 1, 'word_s': 1, 'word_t': 1, 'word_e': 1, 'word_r': 2})\n"
          ],
          "name": "stdout"
        }
      ]
    },
    {
      "cell_type": "code",
      "metadata": {
        "id": "1EcFxBLV7zBd",
        "outputId": "8b99d119-c95b-4368-aae5-8c78e8503132",
        "colab": {
          "base_uri": "https://localhost:8080/"
        }
      },
      "source": [
        "def xorOperation (n, start):\r\n",
        "    xor_operator = start\r\n",
        "    for i in range(1,n):\r\n",
        "        xor_operator = (start+(2*i))^xor_operator\r\n",
        "    return xor_operator\r\n",
        "    \r\n",
        "xorOperation(4, 3)\r\n",
        "xorOperation(1, 7)\r\n",
        "xorOperation(10, 5)"
      ],
      "execution_count": 106,
      "outputs": [
        {
          "output_type": "execute_result",
          "data": {
            "text/plain": [
              "8"
            ]
          },
          "metadata": {
            "tags": []
          },
          "execution_count": 106
        }
      ]
    },
    {
      "cell_type": "code",
      "metadata": {
        "id": "04HWnO3NAKMy",
        "outputId": "ddcb6bc6-6a98-47a5-a3ab-4b446f3c4b02",
        "colab": {
          "base_uri": "https://localhost:8080/"
        }
      },
      "source": [
        "arr = [1,4,2,5,3]\r\n",
        "for i in range(len(arr)):\r\n",
        "  if i%2==0:\r\n",
        "    for j in range(0,(len(arr)//2)+1):\r\n",
        "      if 2*j+1>=i:\r\n",
        "        print(arr[i:(2*j)+1])\r\n",
        "  else:\r\n",
        "    for j in range(0,(len(arr)//2)+1):\r\n",
        "      if 2*j>i:\r\n",
        "        print(arr[i:(2*j)])"
      ],
      "execution_count": 146,
      "outputs": [
        {
          "output_type": "stream",
          "text": [
            "[1]\n",
            "[1, 4, 2]\n",
            "[1, 4, 2, 5, 3]\n",
            "[4]\n",
            "[4, 2, 5]\n",
            "[2]\n",
            "[2, 5, 3]\n",
            "[5]\n",
            "[3]\n"
          ],
          "name": "stdout"
        }
      ]
    },
    {
      "cell_type": "code",
      "metadata": {
        "id": "g1gqU77WQ6kV",
        "outputId": "7060d319-3d04-4e88-d71d-66e1304eeac0",
        "colab": {
          "base_uri": "https://localhost:8080/"
        }
      },
      "source": [
        "# Insert a value in a sorted array, such that the final array is sorted\r\n",
        "value_to_insert =26\r\n",
        "arr = [12, 16, 20, 40, 50, 70]\r\n",
        "# Move values within an array that are greater than value_to_insert each by 1 value such that we insert the value_to_insert where needed\r\n",
        "for i in range(len(arr)):\r\n",
        "  if arr[i]>value_to_insert:\r\n",
        "    arr[i+1:len(arr)+1] = arr[i:len(arr)]\r\n",
        "    arr[i] = value_to_insert\r\n",
        "    break\r\n",
        "print(arr)   "
      ],
      "execution_count": 2,
      "outputs": [
        {
          "output_type": "stream",
          "text": [
            "[12, 16, 20, 26, 40, 50, 70]\n"
          ],
          "name": "stdout"
        }
      ]
    },
    {
      "cell_type": "code",
      "metadata": {
        "id": "Q0QIsnJY9rTk",
        "outputId": "56041ed1-5e6c-410d-fb60-37729e2a6bf7",
        "colab": {
          "base_uri": "https://localhost:8080/",
          "height": 226
        }
      },
      "source": [
        "sum = 0\r\n",
        "arr = [1,4,2,5,3]\r\n",
        "for x in range(len(arr)):\r\n",
        "  for j in range(i,len(arr)//2 ):\r\n",
        "    for z in range(x,2j+1):\r\n",
        "      sum += arr[z]\r\n",
        "return sum"
      ],
      "execution_count": 118,
      "outputs": [
        {
          "output_type": "error",
          "ename": "TypeError",
          "evalue": "ignored",
          "traceback": [
            "\u001b[0;31m---------------------------------------------------------------------------\u001b[0m",
            "\u001b[0;31mTypeError\u001b[0m                                 Traceback (most recent call last)",
            "\u001b[0;32m<ipython-input-118-b73aec6213b8>\u001b[0m in \u001b[0;36m<module>\u001b[0;34m()\u001b[0m\n\u001b[1;32m      3\u001b[0m \u001b[0;32mfor\u001b[0m \u001b[0mx\u001b[0m \u001b[0;32min\u001b[0m \u001b[0mrange\u001b[0m\u001b[0;34m(\u001b[0m\u001b[0mlen\u001b[0m\u001b[0;34m(\u001b[0m\u001b[0marr\u001b[0m\u001b[0;34m)\u001b[0m\u001b[0;34m)\u001b[0m\u001b[0;34m:\u001b[0m\u001b[0;34m\u001b[0m\u001b[0;34m\u001b[0m\u001b[0m\n\u001b[1;32m      4\u001b[0m   \u001b[0;32mfor\u001b[0m \u001b[0mj\u001b[0m \u001b[0;32min\u001b[0m \u001b[0mrange\u001b[0m\u001b[0;34m(\u001b[0m\u001b[0;36m0\u001b[0m\u001b[0;34m,\u001b[0m\u001b[0mlen\u001b[0m\u001b[0;34m(\u001b[0m\u001b[0marr\u001b[0m\u001b[0;34m)\u001b[0m\u001b[0;34m//\u001b[0m\u001b[0;36m2\u001b[0m\u001b[0;34m)\u001b[0m\u001b[0;34m:\u001b[0m\u001b[0;34m\u001b[0m\u001b[0;34m\u001b[0m\u001b[0m\n\u001b[0;32m----> 5\u001b[0;31m     \u001b[0;32mfor\u001b[0m \u001b[0mz\u001b[0m \u001b[0;32min\u001b[0m \u001b[0mrange\u001b[0m\u001b[0;34m(\u001b[0m\u001b[0mx\u001b[0m\u001b[0;34m,\u001b[0m\u001b[0;36m2j\u001b[0m\u001b[0;34m+\u001b[0m\u001b[0;36m1\u001b[0m\u001b[0;34m)\u001b[0m\u001b[0;34m:\u001b[0m\u001b[0;34m\u001b[0m\u001b[0;34m\u001b[0m\u001b[0m\n\u001b[0m\u001b[1;32m      6\u001b[0m       \u001b[0msum\u001b[0m \u001b[0;34m+=\u001b[0m \u001b[0marr\u001b[0m\u001b[0;34m[\u001b[0m\u001b[0mz\u001b[0m\u001b[0;34m]\u001b[0m\u001b[0;34m\u001b[0m\u001b[0;34m\u001b[0m\u001b[0m\n\u001b[1;32m      7\u001b[0m \u001b[0;32mreturn\u001b[0m \u001b[0msum\u001b[0m\u001b[0;34m\u001b[0m\u001b[0;34m\u001b[0m\u001b[0m\n",
            "\u001b[0;31mTypeError\u001b[0m: 'complex' object cannot be interpreted as an integer"
          ]
        }
      ]
    }
  ]
}