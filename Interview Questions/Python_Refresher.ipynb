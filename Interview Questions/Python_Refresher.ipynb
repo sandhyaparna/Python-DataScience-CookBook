{
  "nbformat": 4,
  "nbformat_minor": 0,
  "metadata": {
    "colab": {
      "name": "Python Refresher.ipynb",
      "provenance": [],
      "collapsed_sections": [],
      "include_colab_link": true
    },
    "kernelspec": {
      "name": "python3",
      "display_name": "Python 3"
    }
  },
  "cells": [
    {
      "cell_type": "markdown",
      "metadata": {
        "id": "view-in-github",
        "colab_type": "text"
      },
      "source": [
        "<a href=\"https://colab.research.google.com/github/sandhyaparna/Python-DataScience-CookBook/blob/master/Interview%20Questions/Python_Refresher.ipynb\" target=\"_parent\"><img src=\"https://colab.research.google.com/assets/colab-badge.svg\" alt=\"Open In Colab\"/></a>"
      ]
    },
    {
      "cell_type": "code",
      "metadata": {
        "id": "DD2B6a7zj7Cy"
      },
      "source": [
        "### Regular Expressions\r\n",
        "s1 = 'Python is an excellent language'\r\n",
        "s2 = 'I love the Python language. I also use Python to build applications at work!'\r\n",
        "\r\n",
        "import re\r\n",
        "pattern = 'python'\r\n",
        "# match only returns a match if regex match is found at the beginning of the string\r\n",
        "re.match(pattern, s1)\r\n",
        "\r\n",
        "# pattern is in lower case hence ignore case flag helps\r\n",
        "# in matching same pattern with different cases\r\n",
        "re.match(pattern, s1, flags=re.IGNORECASE)\r\n",
        "\r\n",
        "# printing matched string and its indices in the original string\r\n",
        "m = re.match(pattern, s1, flags=re.IGNORECASE)\r\n",
        "print('Found match {} ranging from index {} - {} in the string \"{}\"'.format(m.group(0), \r\n",
        "                                                                            m.start(), \r\n",
        "                                                                            m.end(), s1))\r\n",
        "                                                                            \r\n",
        "# match does not work when pattern is not there in the beginning of string s2\r\n",
        "re.match(pattern, s2, re.IGNORECASE)"
      ],
      "execution_count": null,
      "outputs": []
    },
    {
      "cell_type": "code",
      "metadata": {
        "id": "thb3h8fbkes8"
      },
      "source": [
        "name = \"Rolf\"\r\n",
        "\r\n",
        "print(name)\r\n",
        "print(name * 2)"
      ],
      "execution_count": null,
      "outputs": []
    },
    {
      "cell_type": "code",
      "metadata": {
        "id": "UQef3JTrRYyg",
        "colab": {
          "base_uri": "https://localhost:8080/",
          "height": 51
        },
        "outputId": "6b44fe4a-70f6-4f14-a091-37dda81b293d"
      },
      "source": [
        "print(\" f-strings are used to use dynamic variables \")\n",
        "\n",
        "name = \"Sandy\"\n",
        "print(f\"Hello, {name}\")"
      ],
      "execution_count": null,
      "outputs": [
        {
          "output_type": "stream",
          "text": [
            " f-strings are used to use dynamic variables \n",
            "Hello Sandy\n"
          ],
          "name": "stdout"
        }
      ]
    },
    {
      "cell_type": "code",
      "metadata": {
        "id": "6N4CIxGOkkQW",
        "colab": {
          "base_uri": "https://localhost:8080/",
          "height": 51
        },
        "outputId": "a07ca0a2-314c-4780-987c-f4b9ec457974"
      },
      "source": [
        "print(\"Use format function\")\n",
        "name = \"Sandhya\"\n",
        "print(\"Hello, {}\".format(name))\n",
        "print(\"Hello, {}\".format(\"Aparna\"))"
      ],
      "execution_count": null,
      "outputs": [
        {
          "output_type": "stream",
          "text": [
            "Hello Sandhya\n",
            "Hello Aparna\n"
          ],
          "name": "stdout"
        }
      ]
    },
    {
      "cell_type": "code",
      "metadata": {
        "id": "EfA2JULIklTD",
        "colab": {
          "base_uri": "https://localhost:8080/",
          "height": 34
        },
        "outputId": "42ae2a2f-e5a8-4e00-d1f0-43fcd1aa2061"
      },
      "source": [
        "print(\"Use 2 dynamic variables\")\n",
        "print(\"Hello {} {}\".format(\"Sandhya\",\"Aparna\"))"
      ],
      "execution_count": null,
      "outputs": [
        {
          "output_type": "stream",
          "text": [
            "Hello Sandhya Aparna\n"
          ],
          "name": "stdout"
        }
      ]
    },
    {
      "cell_type": "code",
      "metadata": {
        "id": "crWXH5KSkloG",
        "colab": {
          "base_uri": "https://localhost:8080/"
        },
        "outputId": "19b12e13-11b1-41db-9ae5-8e88241f1369"
      },
      "source": [
        "print(\"Based on user input -  Strings\")\n",
        "name = input(\"What is your name? : \")\n",
        "print(\"Hello {}\".format(name))"
      ],
      "execution_count": 6,
      "outputs": [
        {
          "output_type": "stream",
          "text": [
            "Based on user input -  Strings\n",
            "What is your name? : SandhyaAparna\n",
            "Hello SandhyaAparna\n"
          ],
          "name": "stdout"
        }
      ]
    },
    {
      "cell_type": "code",
      "metadata": {
        "colab": {
          "base_uri": "https://localhost:8080/"
        },
        "id": "zCEeLXh5k2JU",
        "outputId": "5b157778-ea9b-4834-9097-33eddc921a5f"
      },
      "source": [
        "### New Style\r\n",
        "print('Hello {} {}, it is a great {} to meet you at {}'.format('Mr.', 'Jones', 'pleasure', 5))\r\n",
        "print('Hello {} {}, it is a great {} to meet you at {} o\\' clock'.format('Sir', 'Arthur', 'honor', 9))\r\n",
        "print('I have a {food_item} and a {drink_item} with me'.format(drink_item='soda', food_item='sandwich'))\r\n",
        "print('The {animal} has the following attributes: {attributes}'.format(animal='dog', attributes=['lazy', 'loyal']))"
      ],
      "execution_count": 4,
      "outputs": [
        {
          "output_type": "stream",
          "text": [
            "Hello Mr. Jones, it is a great pleasure to meet you at 5\n",
            "Hello Sir Arthur, it is a great honor to meet you at 9 o' clock\n",
            "I have a sandwich and a soda with me\n",
            "The dog has the following attributes: ['lazy', 'loyal']\n"
          ],
          "name": "stdout"
        }
      ]
    },
    {
      "cell_type": "code",
      "metadata": {
        "id": "yIzId0Izklhq",
        "colab": {
          "base_uri": "https://localhost:8080/",
          "height": 68
        },
        "outputId": "a37464a6-c37b-4072-c770-44d18f633f80"
      },
      "source": [
        "print(\"Based on user input -  Numeric\")\n",
        "size = input(\"What is size of your house in sq ft : \") # Taken as string\n",
        "print(\"Sq meters =\",float(size)/10.8)"
      ],
      "execution_count": null,
      "outputs": [
        {
          "output_type": "stream",
          "text": [
            "Based on user input -  Numeric\n",
            "What is size of your house in sq ft : 502\n",
            "Sq meters = 46.48148148148148\n"
          ],
          "name": "stdout"
        }
      ]
    },
    {
      "cell_type": "code",
      "metadata": {
        "id": "lmDQqJP5klNV",
        "colab": {
          "base_uri": "https://localhost:8080/",
          "height": 51
        },
        "outputId": "079192ce-1c03-4c3a-cbec-7b11998de993"
      },
      "source": [
        "print(\"Restrict decimal places\")\n",
        "size = input(\"What is size of your house in sq ft : \")\n",
        "x = float(size)/10.8\n",
        "print(f\"Sq meters = {x:.2f}\")"
      ],
      "execution_count": null,
      "outputs": [
        {
          "output_type": "stream",
          "text": [
            "What is size of your house in sq ft : 500\n",
            "Sq meters = 46.30\n"
          ],
          "name": "stdout"
        }
      ]
    },
    {
      "cell_type": "code",
      "metadata": {
        "id": "XzLr4lMiklI_",
        "colab": {
          "base_uri": "https://localhost:8080/",
          "height": 68
        },
        "outputId": "a9760c1c-a7a4-475f-9b86-f6b9791ad4d2"
      },
      "source": [
        "print(\"Restrict decimal places -Without creating a variable\")\n",
        "size = float(input(\"What is size of your house in sq ft : \"))\n",
        "print(f\"Sq meters = {size/10.8:.2f}\")"
      ],
      "execution_count": null,
      "outputs": [
        {
          "output_type": "stream",
          "text": [
            "Without creating a variable\n",
            "What is size of your house in sq ft : 500\n",
            "Sq meters = 46.30\n"
          ],
          "name": "stdout"
        }
      ]
    },
    {
      "cell_type": "code",
      "metadata": {
        "colab": {
          "base_uri": "https://localhost:8080/"
        },
        "id": "dxNtJMVRlGZ0",
        "outputId": "bdb006b4-6a73-4577-808a-b5d398b87aa2"
      },
      "source": [
        "### Old style\r\n",
        "print('We have %d %s containing %.2f gallons of %s' %(2, 'bottles', 2.5, 'milk'))\r\n",
        "print('We have %d %s containing %.2f gallons of %s' %(5.21, 'jugs', 10.86763, 'juice'))"
      ],
      "execution_count": 5,
      "outputs": [
        {
          "output_type": "stream",
          "text": [
            "We have 2 bottles containing 2.50 gallons of milk\n",
            "We have 5 jugs containing 10.87 gallons of juice\n"
          ],
          "name": "stdout"
        }
      ]
    },
    {
      "cell_type": "markdown",
      "metadata": {
        "id": "pmdjK6hVw-Vk"
      },
      "source": [
        "Difference between a list, a set, and a tuple.\r\n",
        "* Lists are enclosed in brackets: l = [1, 2, \"a\"]\r\n",
        "* Tuples are enclosed in parentheses: t = (1, 2, \"a\") - Tuples are faster and consume less memory. \r\n",
        "* Dictionaries are built with curly brackets:d = {\"a\":1, \"b\":2} - To initialize dict use dict() or {}\r\n",
        "* Sets are made using the set() builtin function - To initialize empty set using set function"
      ]
    },
    {
      "cell_type": "code",
      "metadata": {
        "id": "8WxfCMYPklEX",
        "colab": {
          "base_uri": "https://localhost:8080/"
        },
        "outputId": "66643f42-4ad2-4403-92c0-6a3abad3057a"
      },
      "source": [
        "list = [\"A\",\"B\",\"C\"] # Order is maintained\n",
        "Tuple = (\"A\",\"B\",\"C\") # Cannot add elements to Tuples or elements cannot be modified; Order is maintained\n",
        "Set = {\"A\",\"B\",\"C\"} # Set cannot have duplicate values, Order may or maynot be maintained\n",
        "\n",
        "print(list[0])\n",
        "print(Tuple[0])\n",
        "# print(set[0]) # Wrong becoz order is not maintained\n",
        "\n",
        "list[0] = \"E\" #One of its element can be modified\n",
        "print(list)\n",
        "# Tuple[0] = \"S\"  # This gives an error because tuples are \"immutable\". Tuples cannot be appended to because they are immutable.\n",
        "\n",
        "list.append(\"D\") #Adds at the end\n",
        "print(list)\n",
        "list.remove(\"B\")\n",
        "print(list)\n",
        "# Tuple[0] = \"D\" # Wrong becoz u cannot modify Tuple\n",
        "list.insert(1,\"B\") # Insert at index=1\n",
        "print(list)\n",
        "\n",
        "Set.add(\"D\")\n",
        "print(Set)"
      ],
      "execution_count": 9,
      "outputs": [
        {
          "output_type": "stream",
          "text": [
            "A\n",
            "A\n",
            "['E', 'B', 'C']\n",
            "['E', 'B', 'C', 'D']\n",
            "['E', 'C', 'D']\n",
            "['E', 'B', 'C', 'D']\n",
            "{'D', 'B', 'A', 'C'}\n"
          ],
          "name": "stdout"
        }
      ]
    },
    {
      "cell_type": "code",
      "metadata": {
        "id": "yMl43uFvxG6_"
      },
      "source": [
        "### Set Operations ###\n",
        "# Both variables should be of same data type\n",
        "# x UNION y\n",
        "x.union(y)\n",
        "# x INTERSECTION y\n",
        "x.intersection(y)\n",
        "# x members not in y\n",
        "x.difference(y)\n",
        "# y members not in x\n",
        "y.difference(x)\n",
        "\n",
        "## Difference of two sets or lists\n",
        "x = set(pd.unique(df['Var']))\n",
        "y = set(pd.unique(df['Var1']))\n",
        "z = x-y (or) x.difference(y)"
      ],
      "execution_count": null,
      "outputs": []
    },
    {
      "cell_type": "code",
      "metadata": {
        "id": "SPSqOzFaxGwT",
        "colab": {
          "base_uri": "https://localhost:8080/"
        },
        "outputId": "9322072b-af96-401c-9540-e1e361a2a2a7"
      },
      "source": [
        "# -- Comparisons --\r\n",
        "print(5 == 5)  # True\r\n",
        "print(5 > 5)  # False\r\n",
        "print(10 != 10)  # False\r\n",
        "\r\n",
        "print(\"Comparisons operators: ==, !=, >, <, >=, <=\")"
      ],
      "execution_count": 15,
      "outputs": [
        {
          "output_type": "stream",
          "text": [
            "True\n",
            "False\n",
            "False\n",
            "Comparisons operators: ==, !=, >, <, >=, <=\n"
          ],
          "name": "stdout"
        }
      ]
    },
    {
      "cell_type": "code",
      "metadata": {
        "id": "IHQDGeGKxGs9",
        "colab": {
          "base_uri": "https://localhost:8080/",
          "height": 51
        },
        "outputId": "9a0005ee-ff13-4beb-9bff-f0c29837366a"
      },
      "source": [
        "print(\"if else statement\")\n",
        "x = input(\"give a value to x:\")\n",
        "\n",
        "if x=='5':   # if x in {'4','5','6'}\n",
        "  print(f\"it is {x}\")\n",
        "elif x=='10':\n",
        "  print(f\"it is ({x}/2)\")\n",
        "else:\n",
        "  print(\"Nothing\")\n",
        "  \n",
        "day_of_week = input(\"What day of the week is it today? \").lower()\n",
        "if day_of_week == \"monday\":\n",
        "    print(\"Have a great start to your week!\")\n",
        "elif day_of_week == \"friday\":\n",
        "    print(\"It's ok to finish a bit early!\")\n",
        "else:\n",
        "    print(\"Full speed ahead!\")"
      ],
      "execution_count": null,
      "outputs": [
        {
          "output_type": "stream",
          "text": [
            "give a value to x:14\n",
            "Nothing\n"
          ],
          "name": "stdout"
        }
      ]
    },
    {
      "cell_type": "code",
      "metadata": {
        "colab": {
          "base_uri": "https://localhost:8080/"
        },
        "id": "wt4mO2B_0evS",
        "outputId": "00d64526-149f-4cc5-b5b2-0b490dacdf81"
      },
      "source": [
        "number = 7\r\n",
        "user_input = input(\"Enter 'y' if you would like to play: \")\r\n",
        "\r\n",
        "if user_input.lower() == \"y\":\r\n",
        "    user_number = int(input(\"Guess our number: \"))\r\n",
        "    if user_number == number:\r\n",
        "        print(\"You guessed correctly!\")\r\n",
        "    elif abs(number - user_number) == 1:\r\n",
        "        print(\"You were off by 1.\")\r\n",
        "    else:\r\n",
        "        print(\"Sorry, it's wrong!\")"
      ],
      "execution_count": 19,
      "outputs": [
        {
          "output_type": "stream",
          "text": [
            "Enter 'y' if you would like to play: y\n",
            "Guess our number: 6\n",
            "You were off by 1.\n"
          ],
          "name": "stdout"
        }
      ]
    },
    {
      "cell_type": "markdown",
      "metadata": {
        "id": "9SuxwqFh09HU"
      },
      "source": [
        "Loops in Python\r\n",
        "* While loop - With the while loop we can execute a set of statements as long as a condition is true - https://www.w3schools.com/python/python_while_loops.asp </br>\r\n",
        "https://healthedge.udemy.com/course/rest-api-flask-and-python/learn/lecture/5960068#overview </br>\r\n",
        "  * Break, continue, else statements - https://www.w3schools.com/python/python_for_loops.asp\r\n",
        "* For Loop -     \r\n",
        "    \r\n",
        "Return error and keep continuing in for loop \r\n",
        "https://www.digitalocean.com/community/tutorials/how-to-use-break-continue-and-pass-statements-when-working-with-loops-in-python-3\r\n"
      ]
    },
    {
      "cell_type": "code",
      "metadata": {
        "colab": {
          "base_uri": "https://localhost:8080/"
        },
        "id": "7DMm4LFz13gU",
        "outputId": "4e328977-fa30-4408-a5e6-ce721776f5bf"
      },
      "source": [
        "# -- While loop --\r\n",
        "\r\n",
        "number = 7\r\n",
        "play = input(\"Would you like to play? (Y/n) \")\r\n",
        "\r\n",
        "while play != \"n\":\r\n",
        "    user_number = int(input(\"Guess our number: \"))\r\n",
        "    if user_number == number:\r\n",
        "        print(\"You guessed correctly!\")\r\n",
        "    elif abs(number - user_number) == 1:\r\n",
        "        print(\"You were off by 1.\")\r\n",
        "    else:\r\n",
        "        print(\"Sorry, it's wrong!\")\r\n",
        "\r\n",
        "    play = input(\"Would you like to play? (Y/n) \")\r\n"
      ],
      "execution_count": 20,
      "outputs": [
        {
          "output_type": "stream",
          "text": [
            "Would you like to play? (Y/n) y\n",
            "Guess our number: 10\n",
            "Sorry, it's wrong!\n",
            "Would you like to play? (Y/n) n\n"
          ],
          "name": "stdout"
        }
      ]
    },
    {
      "cell_type": "code",
      "metadata": {
        "colab": {
          "base_uri": "https://localhost:8080/"
        },
        "id": "iIQUvqtB2Hzl",
        "outputId": "7a8e2f5f-5e71-4480-90dd-38b1c07d0ded"
      },
      "source": [
        "# -- The break keyword --\r\n",
        "\r\n",
        "while True:\r\n",
        "    play = input(\"Would you like to play? (Y/n) \")\r\n",
        "\r\n",
        "    if play == \"n\":\r\n",
        "        break  # Exit the loop\r\n",
        "\r\n",
        "    user_number = int(input(\"Guess our number: \"))\r\n",
        "    if user_number == number:\r\n",
        "        print(\"You guessed correctly!\")\r\n",
        "    elif abs(number - user_number) == 1:\r\n",
        "        print(\"You were off by 1.\")\r\n",
        "    else:\r\n",
        "        print(\"Sorry, it's wrong!\")"
      ],
      "execution_count": 21,
      "outputs": [
        {
          "output_type": "stream",
          "text": [
            "Would you like to play? (Y/n) y\n",
            "Guess our number: 8\n",
            "You were off by 1.\n",
            "Would you like to play? (Y/n) n\n"
          ],
          "name": "stdout"
        }
      ]
    },
    {
      "cell_type": "code",
      "metadata": {
        "id": "J6qt-I_2xGe9",
        "colab": {
          "base_uri": "https://localhost:8080/"
        },
        "outputId": "2033c317-6aa2-44f6-c7a0-5236b5f8ec8e"
      },
      "source": [
        "# -- For loop --\n",
        "friends = [\"Rolf\", \"Jen\", \"Bob\", \"Anne\"]\n",
        "for friend in friends:\n",
        "    print(f\"{friend} is my friend.\")"
      ],
      "execution_count": 16,
      "outputs": [
        {
          "output_type": "stream",
          "text": [
            "A is my friend\n",
            "B is my friend\n",
            "C is my friend\n"
          ],
          "name": "stdout"
        }
      ]
    },
    {
      "cell_type": "code",
      "metadata": {
        "id": "baEgZaO_OtGF",
        "colab": {
          "base_uri": "https://localhost:8080/"
        },
        "outputId": "240f5493-7640-4b3d-ddec-9e2001e91165"
      },
      "source": [
        "# -- For loop 2 -- Average\n",
        "grades = [35, 67, 98, 100, 100]\n",
        "total = 0\n",
        "amount = len(grades)\n",
        "\n",
        "for grade in grades:\n",
        "    total += grade\n",
        "\n",
        "print(total)\n",
        "print(total / amount)"
      ],
      "execution_count": 24,
      "outputs": [
        {
          "output_type": "stream",
          "text": [
            "400\n",
            "80.0\n"
          ],
          "name": "stdout"
        }
      ]
    },
    {
      "cell_type": "code",
      "metadata": {
        "id": "D82VEKCUPWnY",
        "colab": {
          "base_uri": "https://localhost:8080/"
        },
        "outputId": "ffcef9e7-7535-4a48-c324-5cb9d7518789"
      },
      "source": [
        "# -- Rewritten using sum() --\r\n",
        "grades = [35, 67, 98, 100, 100]\r\n",
        "total = sum(grades)\r\n",
        "amount = len(grades)\r\n",
        "print(total)\r\n",
        "print(total / amount)"
      ],
      "execution_count": 23,
      "outputs": [
        {
          "output_type": "stream",
          "text": [
            "400\n",
            "80.0\n"
          ],
          "name": "stdout"
        }
      ]
    },
    {
      "cell_type": "code",
      "metadata": {
        "id": "wYd9LS7B7U96",
        "colab": {
          "base_uri": "https://localhost:8080/",
          "height": 52
        },
        "outputId": "cdca1be1-dee8-4bba-cea2-1401e32257da"
      },
      "source": [
        "print(\"List Comprehension\")\n",
        "numbers = [1,3,5]\n",
        "doubled = [x*2 for x in numbers]\n",
        "doubled"
      ],
      "execution_count": null,
      "outputs": [
        {
          "output_type": "stream",
          "text": [
            "List Comprehension\n"
          ],
          "name": "stdout"
        },
        {
          "output_type": "execute_result",
          "data": {
            "text/plain": [
              "[2, 6, 10]"
            ]
          },
          "metadata": {
            "tags": []
          },
          "execution_count": 2
        }
      ]
    },
    {
      "cell_type": "code",
      "metadata": {
        "id": "yw8fApd37VAw",
        "colab": {
          "base_uri": "https://localhost:8080/",
          "height": 52
        },
        "outputId": "e8445360-f7ea-4d92-9457-0b71a92c5273"
      },
      "source": [
        "print(\"Extract words that start with S in the list\")\n",
        "friends = [\"Roy\" , \"Sandy\" , \"Sam\" ,\"Gau\"]\n",
        "starts_s = [x for x in friends if x.startswith(\"S\")]\n",
        "starts_s"
      ],
      "execution_count": null,
      "outputs": [
        {
          "output_type": "stream",
          "text": [
            "Extract words that start with S in the list\n"
          ],
          "name": "stdout"
        },
        {
          "output_type": "execute_result",
          "data": {
            "text/plain": [
              "['Sandy', 'Sam']"
            ]
          },
          "metadata": {
            "tags": []
          },
          "execution_count": 3
        }
      ]
    },
    {
      "cell_type": "code",
      "metadata": {
        "id": "XAZzoRUd7VD-",
        "colab": {
          "base_uri": "https://localhost:8080/"
        },
        "outputId": "f0208f02-c62e-46ba-97df-2080b4598d5b"
      },
      "source": [
        "print(\"Dictionaries\")\n",
        "friend_ages = {\"Rolf\":24, \"Sandy\":27, \"Sam\": 30}\n",
        "print(friend_ages[\"Sandy\"])\n",
        "\n",
        "friend_ages[\"Bob\"] =25 #Modify or add an element to the dictionary"
      ],
      "execution_count": 26,
      "outputs": [
        {
          "output_type": "stream",
          "text": [
            "Dictionaries\n",
            "27\n"
          ],
          "name": "stdout"
        }
      ]
    },
    {
      "cell_type": "code",
      "metadata": {
        "colab": {
          "base_uri": "https://localhost:8080/"
        },
        "id": "6mDWHeb4Oz5R",
        "outputId": "19b51ce8-e6ff-4259-ba6e-82bfd09db38a"
      },
      "source": [
        "student = {'name':'Jose', 'school':'Computing','grades':(66, 77, 88)}\r\n",
        "\r\n",
        "# Assume the argument, data, is a dictionary.\r\n",
        "# Modify the grades variable so it accesses the 'grades' key of the data dictionary.\r\n",
        "def average_grade(data):\r\n",
        "    grades = data['grades']\r\n",
        "    return sum(grades) / len(grades)\r\n",
        "\r\n",
        "average_grade(student)\r\n"
      ],
      "execution_count": 77,
      "outputs": [
        {
          "output_type": "execute_result",
          "data": {
            "text/plain": [
              "77.0"
            ]
          },
          "metadata": {
            "tags": []
          },
          "execution_count": 77
        }
      ]
    },
    {
      "cell_type": "code",
      "metadata": {
        "id": "1nY-fifbPxCi"
      },
      "source": [
        "def average_grade_all_students(student_list):\r\n",
        "    total = 0\r\n",
        "    count = 0\r\n",
        "    for student in student_list:\r\n",
        "        grades = student['grades']\r\n",
        "        count += len(grades)\r\n",
        "        total += sum(grades)\r\n",
        "\r\n",
        "    return total / count"
      ],
      "execution_count": 78,
      "outputs": []
    },
    {
      "cell_type": "code",
      "metadata": {
        "id": "akqhBM4r7VHC",
        "colab": {
          "base_uri": "https://localhost:8080/",
          "height": 34
        },
        "outputId": "c7ed50c0-5b73-4b77-80bd-6122cce91252"
      },
      "source": [
        "friends = [\n",
        "           {\"name\": \"Rolf\", \"age\": 24},\n",
        "           {\"name\": \"Sandy\", \"age\": 27},\n",
        "           {\"name\": \"Sam\", \"age\": 30},\n",
        "]\n",
        "friends[1][\"name\"]"
      ],
      "execution_count": null,
      "outputs": [
        {
          "output_type": "execute_result",
          "data": {
            "text/plain": [
              "'Sandy'"
            ]
          },
          "metadata": {
            "tags": []
          },
          "execution_count": 3
        }
      ]
    },
    {
      "cell_type": "code",
      "metadata": {
        "id": "vBPGr23A7VKB",
        "colab": {
          "base_uri": "https://localhost:8080/"
        },
        "outputId": "b59850bc-c0c9-42c0-92d9-1f9baa6ca4ad"
      },
      "source": [
        "friend_ages = {\"Rolf\":24, \"Sandy\":27, \"Sam\": 30}\n",
        "\n",
        "for x in friend_ages:\n",
        "  print(x)"
      ],
      "execution_count": 27,
      "outputs": [
        {
          "output_type": "stream",
          "text": [
            "Rolf\n",
            "Sandy\n",
            "Sam\n"
          ],
          "name": "stdout"
        }
      ]
    },
    {
      "cell_type": "code",
      "metadata": {
        "id": "d0OHcNIJ7VNE",
        "colab": {
          "base_uri": "https://localhost:8080/"
        },
        "outputId": "07525bdb-061b-4707-dcb3-ad0adbe0aab5"
      },
      "source": [
        "friend_ages = {\"Rolf\":24, \"Sandy\":27, \"Sam\": 30}\n",
        "\n",
        "for x in friend_ages:\n",
        "  print(f\"{x}: {friend_ages[x]}\")\n",
        "\n",
        "print(\"Same result\")\n",
        "for x,y in friend_ages.items():\n",
        "  print(f\"{x}: {y}\")\n",
        "\n",
        "print(friend_ages.keys())\n",
        "\n",
        "print(friend_ages.values())\n",
        "print(sum(friend_ages.values()))\n",
        "\n",
        "print(friend_ages.items())"
      ],
      "execution_count": 33,
      "outputs": [
        {
          "output_type": "stream",
          "text": [
            "Rolf: 24\n",
            "Sandy: 27\n",
            "Sam: 30\n",
            "Same result\n",
            "Rolf: 24\n",
            "Sandy: 27\n",
            "Sam: 30\n",
            "dict_keys(['Rolf', 'Sandy', 'Sam'])\n",
            "dict_values([24, 27, 30])\n",
            "81\n",
            "dict_items([('Rolf', 24), ('Sandy', 27), ('Sam', 30)])\n"
          ],
          "name": "stdout"
        }
      ]
    },
    {
      "cell_type": "code",
      "metadata": {
        "colab": {
          "base_uri": "https://localhost:8080/"
        },
        "id": "BWbivM0qOd38",
        "outputId": "f2bad1bd-9335-472a-8d48-fc319a9000d7"
      },
      "source": [
        "friend_ages"
      ],
      "execution_count": 68,
      "outputs": [
        {
          "output_type": "execute_result",
          "data": {
            "text/plain": [
              "{'Rolf': 24, 'Sam': 30, 'Sandy': 27}"
            ]
          },
          "metadata": {
            "tags": []
          },
          "execution_count": 68
        }
      ]
    },
    {
      "cell_type": "code",
      "metadata": {
        "id": "vipjGOo07VQc",
        "colab": {
          "base_uri": "https://localhost:8080/",
          "height": 34
        },
        "outputId": "264e5720-bdcd-4e2d-ef57-172993c08c50"
      },
      "source": [
        "# To ignore a variable - use underscore - https://healthedge.udemy.com/course/rest-api-flask-and-python/learn/lecture/15927666#overview\n",
        "person = (\"Sandy\", 27, \"DS\")\n",
        "name, _, profession = person\n",
        "print(name, profession)\n"
      ],
      "execution_count": null,
      "outputs": [
        {
          "output_type": "stream",
          "text": [
            "Sandy DS\n"
          ],
          "name": "stdout"
        }
      ]
    },
    {
      "cell_type": "code",
      "metadata": {
        "id": "Ln0ksYls7VTQ",
        "colab": {
          "base_uri": "https://localhost:8080/",
          "height": 51
        },
        "outputId": "b6530e44-c4b2-4731-f87b-fb7555d957a0"
      },
      "source": [
        "# Seperate a list into 2 elements: 1st and all other into 1\n",
        "# * is used for collectiong\n",
        "head, *tail = [1,2,3,4,5]\n",
        "print(head)\n",
        "print(tail)"
      ],
      "execution_count": null,
      "outputs": [
        {
          "output_type": "stream",
          "text": [
            "1\n",
            "[2, 3, 4, 5]\n"
          ],
          "name": "stdout"
        }
      ]
    },
    {
      "cell_type": "code",
      "metadata": {
        "id": "XDALFW606sf2",
        "colab": {
          "base_uri": "https://localhost:8080/",
          "height": 68
        },
        "outputId": "9e00ce4e-e236-40f3-a47c-0434dea12ee3"
      },
      "source": [
        "head, *tail, y = [1,2,3,4,5]\n",
        "print(head)\n",
        "print(tail)\n",
        "print(y)"
      ],
      "execution_count": null,
      "outputs": [
        {
          "output_type": "stream",
          "text": [
            "1\n",
            "[2, 3, 4]\n",
            "5\n"
          ],
          "name": "stdout"
        }
      ]
    },
    {
      "cell_type": "markdown",
      "metadata": {
        "id": "QZyIYdkw7Dzs"
      },
      "source": [
        "Functions\n"
      ]
    },
    {
      "cell_type": "code",
      "metadata": {
        "id": "UAGrZGQa6sca"
      },
      "source": [
        "def hello():\n",
        "  print(\"Hello!\")"
      ],
      "execution_count": null,
      "outputs": []
    },
    {
      "cell_type": "code",
      "metadata": {
        "id": "4sk1g34Q6_3X"
      },
      "source": [
        "def age_in_secs():\n",
        "  age = int(input(\"Enter your age:\"))\n",
        "  age_secs = age*365*24*60*60\n",
        "  print(f\"Your age in seconds is {age_secs}\")"
      ],
      "execution_count": null,
      "outputs": []
    },
    {
      "cell_type": "code",
      "metadata": {
        "id": "PaSRgZpp7ADG",
        "colab": {
          "base_uri": "https://localhost:8080/",
          "height": 51
        },
        "outputId": "b11d2ed0-3c97-4a13-8cfc-d01e5a41fd11"
      },
      "source": [
        "age_in_secs()"
      ],
      "execution_count": null,
      "outputs": [
        {
          "output_type": "stream",
          "text": [
            "Enter your age:27\n",
            "Your age in seconds is 851472000\n"
          ],
          "name": "stdout"
        }
      ]
    },
    {
      "cell_type": "code",
      "metadata": {
        "id": "Ke5VL-EJ6sZM",
        "colab": {
          "base_uri": "https://localhost:8080/",
          "height": 34
        },
        "outputId": "c86f535c-53ed-4847-e7c4-fa90073b44d3"
      },
      "source": [
        "# positional Arguments\n",
        "def say_hello():\n",
        "  print(\"Hello Sandy!\")\n",
        "\n",
        "say_hello()"
      ],
      "execution_count": null,
      "outputs": [
        {
          "output_type": "stream",
          "text": [
            "Hello Sandy!\n"
          ],
          "name": "stdout"
        }
      ]
    },
    {
      "cell_type": "code",
      "metadata": {
        "id": "heCAEo2t6sWA",
        "colab": {
          "base_uri": "https://localhost:8080/",
          "height": 34
        },
        "outputId": "3d0e1356-22a4-4315-945e-d21cbbf246e3"
      },
      "source": [
        "def say_hello(name):\n",
        "  print(f\"Hello {name}\")\n",
        "\n",
        "say_hello(\"sandy\")"
      ],
      "execution_count": null,
      "outputs": [
        {
          "output_type": "stream",
          "text": [
            "Hello sandy\n"
          ],
          "name": "stdout"
        }
      ]
    },
    {
      "cell_type": "code",
      "metadata": {
        "id": "gIHDno_76sPu",
        "colab": {
          "base_uri": "https://localhost:8080/",
          "height": 34
        },
        "outputId": "0f21e6ee-b577-46c0-9f31-665234f2a654"
      },
      "source": [
        "def say_hello(name, surname):\n",
        "  print(f\"Hello {name} {surname}\")\n",
        "\n",
        "say_hello(\"sandy\", \"pashikanti\")"
      ],
      "execution_count": null,
      "outputs": [
        {
          "output_type": "stream",
          "text": [
            "Hello sandy pashikanti\n"
          ],
          "name": "stdout"
        }
      ]
    },
    {
      "cell_type": "code",
      "metadata": {
        "id": "h6A8x1oZ6sHJ",
        "colab": {
          "base_uri": "https://localhost:8080/",
          "height": 34
        },
        "outputId": "288744af-4151-421c-d048-bbfc17faa9e3"
      },
      "source": [
        "# When variables are mentioned, then \n",
        "def say_hello(name, surname):\n",
        "  print(f\"Hello {name} {surname}\")\n",
        "\n",
        "say_hello(surname=\"pashikanti\" , name=\"sandy\" )"
      ],
      "execution_count": null,
      "outputs": [
        {
          "output_type": "stream",
          "text": [
            "Hello sandy pashikanti\n"
          ],
          "name": "stdout"
        }
      ]
    },
    {
      "cell_type": "code",
      "metadata": {
        "id": "Br8W1Q-S6sC-"
      },
      "source": [
        "def addtwo(x, y=5): #Here y is default parameter, it takes the value mentioned \n",
        "\n",
        "def addtwo(x=5, y): # Gives ERROR as default parameters must be mentioned at the end\n",
        "\n",
        "def addtwo(y, x-3): # x is mentioned as a default parameter - and specified at the end"
      ],
      "execution_count": null,
      "outputs": []
    },
    {
      "cell_type": "code",
      "metadata": {
        "colab": {
          "base_uri": "https://localhost:8080/"
        },
        "id": "57v8fWrO40pH",
        "outputId": "12156109-fe10-4f19-f85b-1691dac62d50"
      },
      "source": [
        "def add2(x,y):\r\n",
        "  print(x+y)\r\n",
        "\r\n",
        "add2(5,8)"
      ],
      "execution_count": 35,
      "outputs": [
        {
          "output_type": "stream",
          "text": [
            "13\n"
          ],
          "name": "stdout"
        }
      ]
    },
    {
      "cell_type": "code",
      "metadata": {
        "colab": {
          "base_uri": "https://localhost:8080/"
        },
        "id": "bslRl7hv5Y6u",
        "outputId": "8fedb176-6078-4b26-d990-06a8d61b55be"
      },
      "source": [
        "def add2(x,y):\r\n",
        "  return x+y\r\n",
        "\r\n",
        "add2(5,8)"
      ],
      "execution_count": 38,
      "outputs": [
        {
          "output_type": "execute_result",
          "data": {
            "text/plain": [
              "13"
            ]
          },
          "metadata": {
            "tags": []
          },
          "execution_count": 38
        }
      ]
    },
    {
      "cell_type": "code",
      "metadata": {
        "id": "3GndwUiU6r7D",
        "colab": {
          "base_uri": "https://localhost:8080/"
        },
        "outputId": "c1a5814d-499d-4d44-cdb3-050b04118a18"
      },
      "source": [
        "def add2(x,y):\n",
        "  print(x+y)\n",
        "\n",
        "add2(5,8)\n",
        "print(add2(5,8)) # Here add2(5,8) is called and then the function returns None"
      ],
      "execution_count": 36,
      "outputs": [
        {
          "output_type": "stream",
          "text": [
            "13\n",
            "13\n",
            "None\n"
          ],
          "name": "stdout"
        }
      ]
    },
    {
      "cell_type": "code",
      "metadata": {
        "id": "KphFFF5dxKY0",
        "colab": {
          "base_uri": "https://localhost:8080/",
          "height": 34
        },
        "outputId": "27cf26a4-38a3-4416-c7e0-398ce1c4f695"
      },
      "source": [
        "# Return statement in a function returns a value after the function is executed\n",
        "# Print statement in a function returns NONE after the function is executed\n",
        "def addtwo(x,y):\n",
        "  return x+y\n",
        "\n",
        "addtwo(5,8)\n",
        "print(addtwo(5,8))"
      ],
      "execution_count": null,
      "outputs": [
        {
          "output_type": "stream",
          "text": [
            "13\n"
          ],
          "name": "stdout"
        }
      ]
    },
    {
      "cell_type": "code",
      "metadata": {
        "id": "fQU8LAddxJov"
      },
      "source": [
        "def addtwo(x,y):\n",
        "  return x+y\n",
        "  print(x+y) # Print statement is not executed because it is after the return statement"
      ],
      "execution_count": 37,
      "outputs": []
    },
    {
      "cell_type": "code",
      "metadata": {
        "id": "V_BvbeJn-IRt",
        "colab": {
          "base_uri": "https://localhost:8080/",
          "height": 34
        },
        "outputId": "2dd90232-0929-4279-8d87-9b1d960c93ec"
      },
      "source": [
        "# lambda function - Get input and return output\n",
        "addtwoNum = lambda x, y: x+y \n",
        "print(addtwoNum(5,7))"
      ],
      "execution_count": null,
      "outputs": [
        {
          "output_type": "stream",
          "text": [
            "12\n"
          ],
          "name": "stdout"
        }
      ]
    },
    {
      "cell_type": "code",
      "metadata": {
        "id": "9R6vzO-2-IFf",
        "colab": {
          "base_uri": "https://localhost:8080/",
          "height": 34
        },
        "outputId": "204f5529-ad5f-4189-f83a-3e1dad0d6b5c"
      },
      "source": [
        "# Calling 5,7 as x,y on lambda functions\n",
        "(lambda x, y: x+y)(5,7)"
      ],
      "execution_count": null,
      "outputs": [
        {
          "output_type": "execute_result",
          "data": {
            "text/plain": [
              "12"
            ]
          },
          "metadata": {
            "tags": []
          },
          "execution_count": 5
        }
      ]
    },
    {
      "cell_type": "code",
      "metadata": {
        "colab": {
          "base_uri": "https://localhost:8080/"
        },
        "id": "ez6yM5zVIQPK",
        "outputId": "4dc9bf71-af60-414f-aed0-6815c4a3dfbd"
      },
      "source": [
        "sequence = [1, 3, 5, 9]\r\n",
        "\r\n",
        "doubled = set(map(lambda x: x * 2,sequence)) # Order is lost in sets\r\n",
        "print(doubled) \r\n",
        "print([*doubled])\r\n",
        "\r\n",
        "doubled = map(lambda x: x * 2,sequence) \r\n",
        "print([*doubled]) # Convert map to list"
      ],
      "execution_count": 65,
      "outputs": [
        {
          "output_type": "stream",
          "text": [
            "{18, 2, 10, 6}\n",
            "[18, 2, 10, 6]\n",
            "[2, 6, 10, 18]\n"
          ],
          "name": "stdout"
        }
      ]
    },
    {
      "cell_type": "code",
      "metadata": {
        "id": "jN60gLjk-Hyk",
        "colab": {
          "base_uri": "https://localhost:8080/"
        },
        "outputId": "68ebf306-fad2-4e9c-fa0a-488e39d26af8"
      },
      "source": [
        "# Applying function on a sequence\n",
        "def double(x):\n",
        "  return x*2\n",
        "\n",
        "sequence = [1,3,5,9]\n",
        "\n",
        "# 1st way\n",
        "DoubledSequence = [double(x) for x in sequence]\n",
        "print(DoubledSequence)\n",
        "\n",
        "# 2nd way - map(function,array)\n",
        "# Convert map object to set and then to list\n",
        "DoubledSequence = map(double, sequence) \n",
        "print([*DoubledSequence]) # Convert map to list\n",
        "\n",
        "# 3rd way - lambda\n",
        "DoubledSequence = [(lambda x: x*2)(x) for x in sequence]\n",
        "print(DoubledSequence)\n",
        "DoubledSequence = map(lambda x: x*2, sequence) # Order is lost in sets\n",
        "print([*DoubledSequence]) # Convert map to list "
      ],
      "execution_count": 66,
      "outputs": [
        {
          "output_type": "stream",
          "text": [
            "[2, 6, 10, 18]\n",
            "[2, 6, 10, 18]\n",
            "[2, 6, 10, 18]\n",
            "[2, 6, 10, 18]\n"
          ],
          "name": "stdout"
        }
      ]
    },
    {
      "cell_type": "code",
      "metadata": {
        "id": "gcGdgMvDC8kR",
        "colab": {
          "base_uri": "https://localhost:8080/",
          "height": 34
        },
        "outputId": "c5028b90-54b2-46de-a943-79767834532e"
      },
      "source": [
        "# Multiple arguments - iterating more the previous value\n",
        "def multiply(*args):\n",
        "  print(args)\n",
        "\n",
        "multiply(1,3,5)"
      ],
      "execution_count": null,
      "outputs": [
        {
          "output_type": "stream",
          "text": [
            "(1, 3, 5)\n"
          ],
          "name": "stdout"
        }
      ]
    },
    {
      "cell_type": "code",
      "metadata": {
        "id": "MvLUfHFBC8nM",
        "colab": {
          "base_uri": "https://localhost:8080/",
          "height": 34
        },
        "outputId": "e85088d8-8364-433b-932c-1ceeb856475e"
      },
      "source": [
        "# Multiple arguments - iterating more the previous value\n",
        "def multiply(*args):\n",
        "  total=1\n",
        "  for arg in args:\n",
        "    total = total*arg\n",
        "  return total\n",
        "\n",
        "multiply(1,3,5)"
      ],
      "execution_count": null,
      "outputs": [
        {
          "output_type": "execute_result",
          "data": {
            "text/plain": [
              "15"
            ]
          },
          "metadata": {
            "tags": []
          },
          "execution_count": 15
        }
      ]
    },
    {
      "cell_type": "code",
      "metadata": {
        "id": "VC2mHa_OxJfu",
        "colab": {
          "base_uri": "https://localhost:8080/",
          "height": 34
        },
        "outputId": "5189f43d-fcab-4af6-b017-9e201c19133d"
      },
      "source": [
        "nums = [3,5]\n",
        "print(*nums)"
      ],
      "execution_count": null,
      "outputs": [
        {
          "output_type": "stream",
          "text": [
            "3 5\n"
          ],
          "name": "stdout"
        }
      ]
    },
    {
      "cell_type": "code",
      "metadata": {
        "id": "n9C9WoVKxJQs",
        "colab": {
          "base_uri": "https://localhost:8080/",
          "height": 34
        },
        "outputId": "3a00529c-0b51-499c-fc5d-da1a75b237f8"
      },
      "source": [
        "# Create dictionary\n",
        "def names(**kwargs):\n",
        "  print(kwargs)\n",
        "\n",
        "names(name=\"Sandy\", age=27)"
      ],
      "execution_count": null,
      "outputs": [
        {
          "output_type": "stream",
          "text": [
            "{'name': 'Sandy', 'age': 27}\n"
          ],
          "name": "stdout"
        }
      ]
    },
    {
      "cell_type": "code",
      "metadata": {
        "colab": {
          "base_uri": "https://localhost:8080/"
        },
        "id": "16AYXyrXQuA4",
        "outputId": "24074bff-63d7-4dbb-e907-a0f75f4c23d8"
      },
      "source": [
        "class Student:\r\n",
        "    def __init__(self):\r\n",
        "        self.name = \"Rolf\"\r\n",
        "        self.grades = (89, 90, 93, 78, 90)\r\n",
        "\r\n",
        "print(Student().name)\r\n",
        "print(Student().grades)"
      ],
      "execution_count": 86,
      "outputs": [
        {
          "output_type": "stream",
          "text": [
            "Rolf\n",
            "(89, 90, 93, 78, 90)\n"
          ],
          "name": "stdout"
        }
      ]
    },
    {
      "cell_type": "code",
      "metadata": {
        "id": "439HML7P_Ekj",
        "colab": {
          "base_uri": "https://localhost:8080/"
        },
        "outputId": "0bf20c07-1b21-4471-b5bc-e2e6c52d95c2"
      },
      "source": [
        "student = {\"name\": \"Rolf\", \"grades\": (89, 90, 93, 78, 90)}\r\n",
        "\r\n",
        "def average(sequence):\r\n",
        "    return sum(sequence) / len(sequence)\r\n",
        "\r\n",
        "print(average(student[\"grades\"]))"
      ],
      "execution_count": 87,
      "outputs": [
        {
          "output_type": "stream",
          "text": [
            "88.0\n"
          ],
          "name": "stdout"
        }
      ]
    },
    {
      "cell_type": "code",
      "metadata": {
        "colab": {
          "base_uri": "https://localhost:8080/"
        },
        "id": "7izNS43aSH-e",
        "outputId": "2b7f4062-34e8-4bac-f6d7-053dc21d3abe"
      },
      "source": [
        "# But wouldn't it be nice if we could...\r\n",
        "# print(student.average()) ?\r\n",
        "\r\n",
        "class Student:\r\n",
        "    def __init__(self):\r\n",
        "        self.name = \"Rolf\"\r\n",
        "        self.grades = (89, 90, 93, 78, 90)\r\n",
        "\r\n",
        "    def average(self): #self is Student()\r\n",
        "        return sum(self.grades) / len(self.grades)\r\n",
        "\r\n",
        "student = Student()\r\n",
        "print(student.average())\r\n",
        "# Identical to Student.average(student)"
      ],
      "execution_count": 88,
      "outputs": [
        {
          "output_type": "stream",
          "text": [
            "88.0\n"
          ],
          "name": "stdout"
        }
      ]
    },
    {
      "cell_type": "code",
      "metadata": {
        "colab": {
          "base_uri": "https://localhost:8080/"
        },
        "id": "_yuLFbxdSMSa",
        "outputId": "62f1c575-66b6-4a86-80ee-1691b70fbb78"
      },
      "source": [
        "# -- Parameters in __init__ --\r\n",
        "class Student:\r\n",
        "    def __init__(self, name, grades):\r\n",
        "        self.name = name\r\n",
        "        self.grades = grades\r\n",
        "\r\n",
        "    def average(self):\r\n",
        "        return sum(self.grades) / len(self.grades)\r\n",
        "\r\n",
        "\r\n",
        "student = Student(\"Bob\", (36, 67, 90, 100, 100))\r\n",
        "print(student.average())"
      ],
      "execution_count": 89,
      "outputs": [
        {
          "output_type": "stream",
          "text": [
            "78.6\n"
          ],
          "name": "stdout"
        }
      ]
    },
    {
      "cell_type": "code",
      "metadata": {
        "colab": {
          "base_uri": "https://localhost:8080/"
        },
        "id": "v3QvMuD1SOos",
        "outputId": "4d5e7713-ecb7-4f8a-b9e6-284525b7e777"
      },
      "source": [
        "# -- Remember *args ? --\r\n",
        "class Student:\r\n",
        "    def __init__(self, name, *grades):\r\n",
        "        self.name = name\r\n",
        "        self.grades = grades\r\n",
        "\r\n",
        "    def average(self):\r\n",
        "        return sum(self.grades) / len(self.grades)\r\n",
        "\r\n",
        "\r\n",
        "student = Student(\"Bob\", 36, 67, 90, 100, 100)\r\n",
        "print(student.average())"
      ],
      "execution_count": 90,
      "outputs": [
        {
          "output_type": "stream",
          "text": [
            "78.6\n"
          ],
          "name": "stdout"
        }
      ]
    },
    {
      "cell_type": "code",
      "metadata": {
        "id": "oJO578IWRuSC"
      },
      "source": [
        "# A function that lives inside a class is called a method.\r\n",
        "# So, methods are functions, but not all functions are methods.\r\n",
        "def average(sequence):\r\n",
        "    return sum(sequence) / len(sequence)\r\n",
        "\r\n",
        "class Student:\r\n",
        "    def __init__(self):  # method\r\n",
        "        self.name = \"Rolf\"\r\n",
        "        self.grades = (79, 90, 95, 99)\r\n",
        "    \r\n",
        "    def average(self):  # method\r\n",
        "        return sum(self.grades) / len(self.grades)  "
      ],
      "execution_count": 91,
      "outputs": []
    },
    {
      "cell_type": "code",
      "metadata": {
        "colab": {
          "base_uri": "https://localhost:8080/"
        },
        "id": "ql0cR-iFR8cU",
        "outputId": "dff8cef6-a4f4-4bfa-8a6d-be5878430e2e"
      },
      "source": [
        "class Person:\r\n",
        "    def __init__(self, name, age):\r\n",
        "        self.name = name\r\n",
        "        self.age = age\r\n",
        "\r\n",
        "\r\n",
        "bob = Person(\"Bob\", 35)\r\n",
        "print(bob)  # Not the nicest thing to read!"
      ],
      "execution_count": 92,
      "outputs": [
        {
          "output_type": "stream",
          "text": [
            "<__main__.Person object at 0x7fa07f0cec50>\n"
          ],
          "name": "stdout"
        }
      ]
    },
    {
      "cell_type": "code",
      "metadata": {
        "colab": {
          "base_uri": "https://localhost:8080/"
        },
        "id": "N4KuaSGKSgKT",
        "outputId": "2fccecd4-b43c-4619-f837-8acef3e11b3b"
      },
      "source": [
        "# -- __str__ --\r\n",
        "# The goal of __str__ is to return a nice, easy to read string for end users.\r\n",
        "class Person:\r\n",
        "    def __init__(self, name, age):\r\n",
        "        self.name = name\r\n",
        "        self.age = age\r\n",
        "\r\n",
        "    def __str__(self):\r\n",
        "        return f\"Person {self.name}, {self.age} years old\"\r\n",
        "\r\n",
        "\r\n",
        "bob = Person(\"Bob\", 35)\r\n",
        "print(bob)  # Much nicer"
      ],
      "execution_count": 93,
      "outputs": [
        {
          "output_type": "stream",
          "text": [
            "Person Bob, 35 years old\n"
          ],
          "name": "stdout"
        }
      ]
    },
    {
      "cell_type": "code",
      "metadata": {
        "colab": {
          "base_uri": "https://localhost:8080/"
        },
        "id": "eiYqgejwSkNz",
        "outputId": "e350c0bc-05af-48af-c789-ba1136d87942"
      },
      "source": [
        "# -- __repr__ --\r\n",
        "# The goal of __repr__ is to be unambiguous, and if possible what it outputs should allow us to re-create an identical object.\r\n",
        "class Person:\r\n",
        "    def __init__(self, name, age):\r\n",
        "        self.name = name\r\n",
        "        self.age = age\r\n",
        "\r\n",
        "    def __repr__(self):\r\n",
        "        # I'm adding the < > just so it's clear that this is an object we're printing out!\r\n",
        "        return (\r\n",
        "            f\"<Person({self.name!r}, {self.age})>\"\r\n",
        "        )  # !r calls the __repr__ method of the thing.\r\n",
        "\r\n",
        "\r\n",
        "bob = Person(\"Bob\", 35)\r\n",
        "print(bob)  # Not as nice, but we could re-create \"Bob\" very easily."
      ],
      "execution_count": 94,
      "outputs": [
        {
          "output_type": "stream",
          "text": [
            "<Person('Bob', 35)>\n"
          ],
          "name": "stdout"
        }
      ]
    },
    {
      "cell_type": "code",
      "metadata": {
        "colab": {
          "base_uri": "https://localhost:8080/"
        },
        "id": "DVjxKeBHS4FU",
        "outputId": "c36537ac-e5b4-4573-a7e7-a9c4cbda22c9"
      },
      "source": [
        "class ClassTest:\r\n",
        "    def instance_method(self):\r\n",
        "        print(f\"Called instance_method of {self}\")\r\n",
        "\r\n",
        "    @classmethod\r\n",
        "    def class_method(cls):\r\n",
        "        print(f\"Called class_method of {cls}\")\r\n",
        "\r\n",
        "    @staticmethod\r\n",
        "    def static_method():\r\n",
        "        print(f\"Called static_method. We don't get any object or class info here.\")\r\n",
        "\r\n",
        "\r\n",
        "instance = ClassTest()\r\n",
        "instance.instance_method()\r\n",
        "\r\n",
        "ClassTest.class_method()\r\n",
        "ClassTest.static_method()"
      ],
      "execution_count": 95,
      "outputs": [
        {
          "output_type": "stream",
          "text": [
            "Called instance_method of <__main__.ClassTest object at 0x7fa07f0ceda0>\n",
            "Called class_method of <class '__main__.ClassTest'>\n",
            "Called static_method. We don't get any object or class info here.\n"
          ],
          "name": "stdout"
        }
      ]
    },
    {
      "cell_type": "code",
      "metadata": {
        "colab": {
          "base_uri": "https://localhost:8080/"
        },
        "id": "ci1ARYVlTAGP",
        "outputId": "28b04f43-286e-4f6c-a33b-e10faea48250"
      },
      "source": [
        "# -- What are they used for? --\r\n",
        "# Instance methods are used for most things. When you want to produce an action that uses the data stored in an object.\r\n",
        "# Static methods are used to just place a method inside a class because you feel it belongs there (i.e. for code organisation, mostly!)\r\n",
        "# Class methods are often used as factories.\r\n",
        "class Book:\r\n",
        "    TYPES = (\"hardcover\", \"paperback\")\r\n",
        "\r\n",
        "    def __init__(self, name, book_type, weight):\r\n",
        "        self.name = name\r\n",
        "        self.book_type = book_type\r\n",
        "        self.weight = weight\r\n",
        "\r\n",
        "    def __repr__(self):\r\n",
        "        return f\"<Book {self.name}, {self.book_type}, weighing {self.weight}g>\"\r\n",
        "\r\n",
        "    @classmethod\r\n",
        "    def hardcover(cls, name, page_weight):\r\n",
        "        return cls(name, cls.TYPES[0], page_weight + 100)\r\n",
        "\r\n",
        "    @classmethod\r\n",
        "    def paperback(cls, name, page_weight):\r\n",
        "        return cls(name, cls.TYPES[1], page_weight)\r\n",
        "\r\n",
        "\r\n",
        "heavy = Book.hardcover(\"Harry Potter\", 1500)\r\n",
        "light = Book.paperback(\"Python 101\", 600)\r\n",
        "\r\n",
        "print(heavy)\r\n",
        "print(light)"
      ],
      "execution_count": 96,
      "outputs": [
        {
          "output_type": "stream",
          "text": [
            "<Book Harry Potter, hardcover, weighing 1600g>\n",
            "<Book Python 101, paperback, weighing 600g>\n"
          ],
          "name": "stdout"
        }
      ]
    },
    {
      "cell_type": "code",
      "metadata": {
        "id": "syn08A5bTM7B"
      },
      "source": [
        "class Device:\r\n",
        "    def __init__(self, name, connected_by):\r\n",
        "        self.name = name\r\n",
        "        self.connected_by = connected_by\r\n",
        "        self.connected = True\r\n",
        "\r\n",
        "    def __str__(self):\r\n",
        "        return f\"Device {self.name!r} ({self.connected_by})\"\r\n",
        "\r\n",
        "    def disconnect(self):\r\n",
        "        self.connected = False\r\n",
        "\r\n",
        "\r\n",
        "# printer = Device(\"Printer\", \"USB\")\r\n",
        "# print(printer)\r\n",
        "\r\n",
        "# We don't want to add printer-specific stuff to Device, so..."
      ],
      "execution_count": 97,
      "outputs": []
    },
    {
      "cell_type": "code",
      "metadata": {
        "colab": {
          "base_uri": "https://localhost:8080/",
          "height": 407
        },
        "id": "zB8y4mCXTOaU",
        "outputId": "b5ed7f18-fd52-435f-ca5f-4e8162df8fd0"
      },
      "source": [
        "class Printer(Device):\r\n",
        "    def __init__(self, name, connected_by, capacity):\r\n",
        "        # super(Printer, self).__init__(name, connected_by)  - Python2.7\r\n",
        "        super().__init__(name, connected_by)  # Python3+\r\n",
        "        self.capacity = capacity\r\n",
        "        self.remaining_pages = capacity\r\n",
        "\r\n",
        "    def __str__(self):\r\n",
        "        return f\"{super().__str__()} ({self.remaining_pages} pages remaining)\"\r\n",
        "\r\n",
        "    def print(self, pages):\r\n",
        "        if not self.connected:\r\n",
        "            raise TypeError(\"Device is disconnected at this time, cannot print.\")\r\n",
        "        print(f\"Printing {pages} pages.\")\r\n",
        "        self.remaining_pages -= pages\r\n",
        "\r\n",
        "\r\n",
        "printer = Printer(\"Printer\", \"USB\", 500)\r\n",
        "printer.print(20)\r\n",
        "print(printer)\r\n",
        "printer.print(50)\r\n",
        "print(printer)\r\n",
        "printer.disconnect()\r\n",
        "printer.print(30)  # Error"
      ],
      "execution_count": 98,
      "outputs": [
        {
          "output_type": "stream",
          "text": [
            "Printing 20 pages.\n",
            "Device 'Printer' (USB) (480 pages remaining)\n",
            "Printing 50 pages.\n",
            "Device 'Printer' (USB) (430 pages remaining)\n"
          ],
          "name": "stdout"
        },
        {
          "output_type": "error",
          "ename": "TypeError",
          "evalue": "ignored",
          "traceback": [
            "\u001b[0;31m---------------------------------------------------------------------------\u001b[0m",
            "\u001b[0;31mTypeError\u001b[0m                                 Traceback (most recent call last)",
            "\u001b[0;32m<ipython-input-98-40daf33683f0>\u001b[0m in \u001b[0;36m<module>\u001b[0;34m()\u001b[0m\n\u001b[1;32m     22\u001b[0m \u001b[0mprint\u001b[0m\u001b[0;34m(\u001b[0m\u001b[0mprinter\u001b[0m\u001b[0;34m)\u001b[0m\u001b[0;34m\u001b[0m\u001b[0;34m\u001b[0m\u001b[0m\n\u001b[1;32m     23\u001b[0m \u001b[0mprinter\u001b[0m\u001b[0;34m.\u001b[0m\u001b[0mdisconnect\u001b[0m\u001b[0;34m(\u001b[0m\u001b[0;34m)\u001b[0m\u001b[0;34m\u001b[0m\u001b[0;34m\u001b[0m\u001b[0m\n\u001b[0;32m---> 24\u001b[0;31m \u001b[0mprinter\u001b[0m\u001b[0;34m.\u001b[0m\u001b[0mprint\u001b[0m\u001b[0;34m(\u001b[0m\u001b[0;36m30\u001b[0m\u001b[0;34m)\u001b[0m  \u001b[0;31m# Error\u001b[0m\u001b[0;34m\u001b[0m\u001b[0;34m\u001b[0m\u001b[0m\n\u001b[0m",
            "\u001b[0;32m<ipython-input-98-40daf33683f0>\u001b[0m in \u001b[0;36mprint\u001b[0;34m(self, pages)\u001b[0m\n\u001b[1;32m     11\u001b[0m     \u001b[0;32mdef\u001b[0m \u001b[0mprint\u001b[0m\u001b[0;34m(\u001b[0m\u001b[0mself\u001b[0m\u001b[0;34m,\u001b[0m \u001b[0mpages\u001b[0m\u001b[0;34m)\u001b[0m\u001b[0;34m:\u001b[0m\u001b[0;34m\u001b[0m\u001b[0;34m\u001b[0m\u001b[0m\n\u001b[1;32m     12\u001b[0m         \u001b[0;32mif\u001b[0m \u001b[0;32mnot\u001b[0m \u001b[0mself\u001b[0m\u001b[0;34m.\u001b[0m\u001b[0mconnected\u001b[0m\u001b[0;34m:\u001b[0m\u001b[0;34m\u001b[0m\u001b[0;34m\u001b[0m\u001b[0m\n\u001b[0;32m---> 13\u001b[0;31m             \u001b[0;32mraise\u001b[0m \u001b[0mTypeError\u001b[0m\u001b[0;34m(\u001b[0m\u001b[0;34m\"Device is disconnected at this time, cannot print.\"\u001b[0m\u001b[0;34m)\u001b[0m\u001b[0;34m\u001b[0m\u001b[0;34m\u001b[0m\u001b[0m\n\u001b[0m\u001b[1;32m     14\u001b[0m         \u001b[0mprint\u001b[0m\u001b[0;34m(\u001b[0m\u001b[0;34mf\"Printing {pages} pages.\"\u001b[0m\u001b[0;34m)\u001b[0m\u001b[0;34m\u001b[0m\u001b[0;34m\u001b[0m\u001b[0m\n\u001b[1;32m     15\u001b[0m         \u001b[0mself\u001b[0m\u001b[0;34m.\u001b[0m\u001b[0mremaining_pages\u001b[0m \u001b[0;34m-=\u001b[0m \u001b[0mpages\u001b[0m\u001b[0;34m\u001b[0m\u001b[0;34m\u001b[0m\u001b[0m\n",
            "\u001b[0;31mTypeError\u001b[0m: Device is disconnected at this time, cannot print."
          ]
        }
      ]
    },
    {
      "cell_type": "code",
      "metadata": {
        "colab": {
          "base_uri": "https://localhost:8080/"
        },
        "id": "vRPwVdeikE-z",
        "outputId": "9eddb78f-6a88-4618-82ae-76fef6e1232a"
      },
      "source": [
        "### Dictionaries\r\n",
        "### Min and Max values frm Dictionaries:\r\n",
        "prices = {\r\n",
        "   'ACME': 45.23,\r\n",
        "   'AAPL': 612.78,\r\n",
        "   'IBM': 205.55,\r\n",
        "   'HPQ': 37.20,\r\n",
        "   'FB': 10.75\r\n",
        "}\r\n",
        "# Find min and max price\r\n",
        "min_price = min(zip(prices.values(), prices.keys()))\r\n",
        "max_price = max(zip(prices.values(), prices.keys()))\r\n",
        "print('min price:', min_price)\r\n",
        "print('max price:', max_price)\r\n",
        "# Sorted prices\r\n",
        "print('sorted prices:')\r\n",
        "prices_sorted = sorted(zip(prices.values(), prices.keys()))\r\n",
        "for price, name in prices_sorted:\r\n",
        "    print('    ', name, price)\r\n",
        "\r\n",
        "### Determine the most/top common words in a list\r\n",
        "words = [\r\n",
        "   'look', 'into', 'my', 'eyes', 'look', 'into', 'my', 'eyes',\r\n",
        "   'the', 'eyes', 'the', 'eyes', 'the', 'eyes', 'not', 'around', 'the',\r\n",
        "   'eyes', \"don't\", 'look', 'around', 'the', 'eyes', 'look', 'into',\r\n",
        "   'my', 'eyes', \"you're\", 'under']\r\n",
        "from collections import Counter\r\n",
        "word_counts = Counter(words)\r\n",
        "top_three = word_counts.most_common(3)\r\n",
        "print(top_three)\r\n",
        "# outputs [('eyes', 8), ('the', 5), ('look', 4)]\r\n",
        "# Example of merging in more words\r\n",
        "morewords = ['why','are','you','not','looking','in','my','eyes']\r\n",
        "word_counts.update(morewords)\r\n",
        "print(word_counts.most_common(3))\r\n",
        "\r\n",
        "### Extracting a subset from dictionary based on values or keys\r\n",
        "# example of extracting a subset from a dictionary\r\n",
        "from pprint import pprint\r\n",
        "prices = {\r\n",
        "   'ACME': 45.23,\r\n",
        "   'AAPL': 612.78,\r\n",
        "   'IBM': 205.55,\r\n",
        "   'HPQ': 37.20,\r\n",
        "   'FB': 10.75}\r\n",
        "# Make a dictionary of all prices over 200\r\n",
        "p1 = { key:value for key, value in prices.items() if value > 200 }\r\n",
        "print(\"All prices over 200\")\r\n",
        "pprint(p1)\r\n",
        "# Make a dictionary of tech stocks\r\n",
        "tech_names = { 'AAPL', 'IBM', 'HPQ', 'MSFT' }\r\n",
        "p2 = { key:value for key,value in prices.items() if key in tech_names }\r\n",
        "print(\"All techs\")\r\n",
        "pprint(p2)"
      ],
      "execution_count": 99,
      "outputs": [
        {
          "output_type": "stream",
          "text": [
            "min price: (10.75, 'FB')\n",
            "max price: (612.78, 'AAPL')\n",
            "sorted prices:\n",
            "     FB 10.75\n",
            "     HPQ 37.2\n",
            "     ACME 45.23\n",
            "     IBM 205.55\n",
            "     AAPL 612.78\n",
            "[('eyes', 8), ('the', 5), ('look', 4)]\n",
            "[('eyes', 9), ('the', 5), ('look', 4)]\n",
            "All prices over 200\n",
            "{'AAPL': 612.78, 'IBM': 205.55}\n",
            "All techs\n",
            "{'AAPL': 612.78, 'HPQ': 37.2, 'IBM': 205.55}\n"
          ],
          "name": "stdout"
        }
      ]
    }
  ]
}