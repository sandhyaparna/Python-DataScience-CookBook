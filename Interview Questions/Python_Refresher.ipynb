{
  "nbformat": 4,
  "nbformat_minor": 0,
  "metadata": {
    "colab": {
      "name": "Python Refresher.ipynb",
      "provenance": [],
      "collapsed_sections": [],
      "include_colab_link": true
    },
    "kernelspec": {
      "name": "python3",
      "display_name": "Python 3"
    }
  },
  "cells": [
    {
      "cell_type": "markdown",
      "metadata": {
        "id": "view-in-github",
        "colab_type": "text"
      },
      "source": [
        "<a href=\"https://colab.research.google.com/github/sandhyaparna/Python-DataScience-CookBook/blob/master/Interview%20Questions/Python_Refresher.ipynb\" target=\"_parent\"><img src=\"https://colab.research.google.com/assets/colab-badge.svg\" alt=\"Open In Colab\"/></a>"
      ]
    },
    {
      "cell_type": "markdown",
      "metadata": {
        "id": "aBzFhCO_mIpM"
      },
      "source": [
        "### Functions"
      ]
    },
    {
      "cell_type": "code",
      "metadata": {
        "colab": {
          "base_uri": "https://localhost:8080/"
        },
        "id": "Ib_keKu7mIAl",
        "outputId": "93c18c35-d619-4556-f1b0-6ccb045bff62"
      },
      "source": [
        "import pandas as pd\r\n",
        "import numpy as np\r\n",
        "df = pd.DataFrame(np.random.binomial(n=10, p=0.2, size=(100,3)), columns=list('xyz'))\r\n",
        "\r\n",
        "def sum_square(a,b):\r\n",
        "  return (a+b)**2\r\n",
        "\r\n",
        "print(df.head())\r\n",
        "\r\n",
        "# apply() performs the Lambda function along an axis of a DataFrame\r\n",
        "\r\n",
        "# Apply function on df where the function uses all the columns of the dataframe\r\n",
        "# When there are 3 columns but sum_square uses only 2 variables, it is applied on only first 2 columns of df\r\n",
        "print(\"sum sq on first 2 columns \\n\",df.apply(lambda row: sum_square(row[0], row[1]), raw=True, axis=1).head())\r\n",
        "\r\n",
        "# Apply on 1st and 3rd  columns\r\n",
        "print(\"sum sq on 1st & 3rd columns \\n\",df.apply(lambda row: sum_square(row[0], row[2]), raw=True, axis=1).head())\r\n",
        "\r\n",
        "# Apply a function on ONLY single variable\r\n",
        "print(\"sq on 1st column \\n\",df['x'].map(lambda p: p**2).head())"
      ],
      "execution_count": null,
      "outputs": [
        {
          "output_type": "stream",
          "text": [
            "   x  y  z\n",
            "0  3  1  7\n",
            "1  3  2  2\n",
            "2  2  1  4\n",
            "3  1  1  0\n",
            "4  1  2  1\n",
            "sum sq on first 2 columns \n",
            " 0    16\n",
            "1    25\n",
            "2     9\n",
            "3     4\n",
            "4     9\n",
            "dtype: int64\n",
            "sum sq on 1st & 3rd columns \n",
            " 0    100\n",
            "1     25\n",
            "2     36\n",
            "3      1\n",
            "4      4\n",
            "dtype: int64\n",
            "sq on 1st column \n",
            " 0    9\n",
            "1    9\n",
            "2    4\n",
            "3    1\n",
            "4    1\n",
            "Name: x, dtype: int64\n"
          ],
          "name": "stdout"
        }
      ]
    },
    {
      "cell_type": "code",
      "metadata": {
        "colab": {
          "base_uri": "https://localhost:8080/",
          "height": 198
        },
        "id": "c6tMk5I9sYU_",
        "outputId": "d7cbf01f-31fa-4a4b-ce85-383fe925d67b"
      },
      "source": [
        "df.apply(lambda x: x*10).head()"
      ],
      "execution_count": null,
      "outputs": [
        {
          "output_type": "execute_result",
          "data": {
            "text/html": [
              "<div>\n",
              "<style scoped>\n",
              "    .dataframe tbody tr th:only-of-type {\n",
              "        vertical-align: middle;\n",
              "    }\n",
              "\n",
              "    .dataframe tbody tr th {\n",
              "        vertical-align: top;\n",
              "    }\n",
              "\n",
              "    .dataframe thead th {\n",
              "        text-align: right;\n",
              "    }\n",
              "</style>\n",
              "<table border=\"1\" class=\"dataframe\">\n",
              "  <thead>\n",
              "    <tr style=\"text-align: right;\">\n",
              "      <th></th>\n",
              "      <th>x</th>\n",
              "      <th>y</th>\n",
              "      <th>z</th>\n",
              "    </tr>\n",
              "  </thead>\n",
              "  <tbody>\n",
              "    <tr>\n",
              "      <th>0</th>\n",
              "      <td>30</td>\n",
              "      <td>10</td>\n",
              "      <td>70</td>\n",
              "    </tr>\n",
              "    <tr>\n",
              "      <th>1</th>\n",
              "      <td>30</td>\n",
              "      <td>20</td>\n",
              "      <td>20</td>\n",
              "    </tr>\n",
              "    <tr>\n",
              "      <th>2</th>\n",
              "      <td>20</td>\n",
              "      <td>10</td>\n",
              "      <td>40</td>\n",
              "    </tr>\n",
              "    <tr>\n",
              "      <th>3</th>\n",
              "      <td>10</td>\n",
              "      <td>10</td>\n",
              "      <td>0</td>\n",
              "    </tr>\n",
              "    <tr>\n",
              "      <th>4</th>\n",
              "      <td>10</td>\n",
              "      <td>20</td>\n",
              "      <td>10</td>\n",
              "    </tr>\n",
              "  </tbody>\n",
              "</table>\n",
              "</div>"
            ],
            "text/plain": [
              "    x   y   z\n",
              "0  30  10  70\n",
              "1  30  20  20\n",
              "2  20  10  40\n",
              "3  10  10   0\n",
              "4  10  20  10"
            ]
          },
          "metadata": {
            "tags": []
          },
          "execution_count": 41
        }
      ]
    },
    {
      "cell_type": "code",
      "metadata": {
        "colab": {
          "base_uri": "https://localhost:8080/"
        },
        "id": "jhP_aku0tJJH",
        "outputId": "660a18be-df1e-4943-c3d0-00792b118143"
      },
      "source": [
        "# Column wise\r\n",
        "df.apply(lambda x: x.sum(), axis=0)"
      ],
      "execution_count": null,
      "outputs": [
        {
          "output_type": "execute_result",
          "data": {
            "text/plain": [
              "x    172\n",
              "y    202\n",
              "z    203\n",
              "dtype: int64"
            ]
          },
          "metadata": {
            "tags": []
          },
          "execution_count": 43
        }
      ]
    },
    {
      "cell_type": "code",
      "metadata": {
        "colab": {
          "base_uri": "https://localhost:8080/",
          "height": 198
        },
        "id": "Ztatqa8esyKa",
        "outputId": "da97fab0-0f20-4cf1-f3da-66f7a54196da"
      },
      "source": [
        "#  performs the Lambda function on the DataFrame elementwise\r\n",
        "df.applymap(lambda x: x*10).head()"
      ],
      "execution_count": null,
      "outputs": [
        {
          "output_type": "execute_result",
          "data": {
            "text/html": [
              "<div>\n",
              "<style scoped>\n",
              "    .dataframe tbody tr th:only-of-type {\n",
              "        vertical-align: middle;\n",
              "    }\n",
              "\n",
              "    .dataframe tbody tr th {\n",
              "        vertical-align: top;\n",
              "    }\n",
              "\n",
              "    .dataframe thead th {\n",
              "        text-align: right;\n",
              "    }\n",
              "</style>\n",
              "<table border=\"1\" class=\"dataframe\">\n",
              "  <thead>\n",
              "    <tr style=\"text-align: right;\">\n",
              "      <th></th>\n",
              "      <th>x</th>\n",
              "      <th>y</th>\n",
              "      <th>z</th>\n",
              "    </tr>\n",
              "  </thead>\n",
              "  <tbody>\n",
              "    <tr>\n",
              "      <th>0</th>\n",
              "      <td>30</td>\n",
              "      <td>10</td>\n",
              "      <td>70</td>\n",
              "    </tr>\n",
              "    <tr>\n",
              "      <th>1</th>\n",
              "      <td>30</td>\n",
              "      <td>20</td>\n",
              "      <td>20</td>\n",
              "    </tr>\n",
              "    <tr>\n",
              "      <th>2</th>\n",
              "      <td>20</td>\n",
              "      <td>10</td>\n",
              "      <td>40</td>\n",
              "    </tr>\n",
              "    <tr>\n",
              "      <th>3</th>\n",
              "      <td>10</td>\n",
              "      <td>10</td>\n",
              "      <td>0</td>\n",
              "    </tr>\n",
              "    <tr>\n",
              "      <th>4</th>\n",
              "      <td>10</td>\n",
              "      <td>20</td>\n",
              "      <td>10</td>\n",
              "    </tr>\n",
              "  </tbody>\n",
              "</table>\n",
              "</div>"
            ],
            "text/plain": [
              "    x   y   z\n",
              "0  30  10  70\n",
              "1  30  20  20\n",
              "2  20  10  40\n",
              "3  10  10   0\n",
              "4  10  20  10"
            ]
          },
          "metadata": {
            "tags": []
          },
          "execution_count": 42
        }
      ]
    },
    {
      "cell_type": "code",
      "metadata": {
        "colab": {
          "base_uri": "https://localhost:8080/",
          "height": 198
        },
        "id": "ODc7Q5ceoGhi",
        "outputId": "6a7c6322-92cf-4e92-abbf-cdc6a387f50b"
      },
      "source": [
        "def cm_to_mm(cm):\r\n",
        "    mm = cm * 10\r\n",
        "    return mm\r\n",
        "df.apply(cm_to_mm).head()"
      ],
      "execution_count": null,
      "outputs": [
        {
          "output_type": "execute_result",
          "data": {
            "text/html": [
              "<div>\n",
              "<style scoped>\n",
              "    .dataframe tbody tr th:only-of-type {\n",
              "        vertical-align: middle;\n",
              "    }\n",
              "\n",
              "    .dataframe tbody tr th {\n",
              "        vertical-align: top;\n",
              "    }\n",
              "\n",
              "    .dataframe thead th {\n",
              "        text-align: right;\n",
              "    }\n",
              "</style>\n",
              "<table border=\"1\" class=\"dataframe\">\n",
              "  <thead>\n",
              "    <tr style=\"text-align: right;\">\n",
              "      <th></th>\n",
              "      <th>x</th>\n",
              "      <th>y</th>\n",
              "      <th>z</th>\n",
              "    </tr>\n",
              "  </thead>\n",
              "  <tbody>\n",
              "    <tr>\n",
              "      <th>0</th>\n",
              "      <td>30</td>\n",
              "      <td>10</td>\n",
              "      <td>70</td>\n",
              "    </tr>\n",
              "    <tr>\n",
              "      <th>1</th>\n",
              "      <td>30</td>\n",
              "      <td>20</td>\n",
              "      <td>20</td>\n",
              "    </tr>\n",
              "    <tr>\n",
              "      <th>2</th>\n",
              "      <td>20</td>\n",
              "      <td>10</td>\n",
              "      <td>40</td>\n",
              "    </tr>\n",
              "    <tr>\n",
              "      <th>3</th>\n",
              "      <td>10</td>\n",
              "      <td>10</td>\n",
              "      <td>0</td>\n",
              "    </tr>\n",
              "    <tr>\n",
              "      <th>4</th>\n",
              "      <td>10</td>\n",
              "      <td>20</td>\n",
              "      <td>10</td>\n",
              "    </tr>\n",
              "  </tbody>\n",
              "</table>\n",
              "</div>"
            ],
            "text/plain": [
              "    x   y   z\n",
              "0  30  10  70\n",
              "1  30  20  20\n",
              "2  20  10  40\n",
              "3  10  10   0\n",
              "4  10  20  10"
            ]
          },
          "metadata": {
            "tags": []
          },
          "execution_count": 40
        }
      ]
    },
    {
      "cell_type": "markdown",
      "metadata": {
        "id": "yzhmL_YuUM0B"
      },
      "source": [
        "While loops: https://www.w3schools.com/python/python_while_loops.asp\r\n",
        "\r\n",
        "For loops: https://www.w3schools.com/python/python_for_loops.asp\r\n",
        "\r\n",
        "Regex: https://www.rexegg.com/regex-quickstart.html </br>\r\n",
        "http://www.pyregex.com/\r\n",
        "\r\n",
        "DataTime: https://strftime.org/\r\n"
      ]
    },
    {
      "cell_type": "markdown",
      "metadata": {
        "id": "el6H1Fq97IqF"
      },
      "source": [
        "* key words: True, False, None, and, or, not\r\n",
        "  * break (break out of the loop and passes the control to the statement following immediately after loop)\r\n",
        "  * pass (null statement, do nothing in a if statement)\r\n",
        "  * continue (skips the current iteration of the loop, but does not end the loop)\r\n",
        "  * class (to declare user defined classes)\r\n",
        "  * def (declare user defined functions)\r\n",
        "  * if, elif, else\r\n",
        "  * del (used to delete a reference to an object)\r\n",
        "  * try (used for exception handling)\r\n",
        "  * except, raise, finally\r\n",
        "\r\n",
        "\r\n",
        "* Logical operators: and (&), or (|), not (~), XOR (^), in , not in, == checks for value, is checks whether they refer to the same object or not eg:type\r\n",
        "* Output formatting d for int, f for float values, o for octal values, E for exponential. General syntax is %[flags][width][.precision]type\r\n",
        "  * %2d if used on int=1, will be printed with a leading blank\r\n",
        "* Ternanry operator: \r\n",
        "  * [on_true] if [expression] else [on_false] \r\n",
        "  * print((lambda: b, lambda: a)[a < b]()) \r\n",
        "* Assign multiple values\r\n",
        "  * x, y, z = \"Orange\", \"Banana\", \"Cherry\"\r\n",
        "  * Unpack a list: fruits = [\"apple\", \"banana\", \"cherry\"]; x, y, z = fruits\r\n",
        "  * Asterix usage: (green, yellow, *red = (\"apple\", \"banana\", \"cherry\", \"strawberry\", \"raspberry\")\r\n",
        "* Escape characters to give the desired result\r\n",
        "  * \\' : Single Quote\r\n",
        "  * \\\\ :Backslash\r\n",
        "  * \\n: new line\r\n",
        "  * \\t : tab\r\n",
        "\r\n"
      ]
    },
    {
      "cell_type": "code",
      "metadata": {
        "id": "3hUIMmxmZZZe",
        "outputId": "7b3ff26d-5775-4f30-e95c-5d1753f28ec1",
        "colab": {
          "base_uri": "https://localhost:8080/"
        }
      },
      "source": [
        "# continue forces the loop to start at the next iteration while pass means \"there is no code to execute here\" and will continue through the remainder or the loop body. \r\n",
        "# continue will jump back to the top of the loop. pass will continue processing\r\n",
        "a = [1,2,3,4,5]\r\n",
        "for i in a:\r\n",
        "    if i > 3:\r\n",
        "        pass\r\n",
        "    print(i)"
      ],
      "execution_count": 11,
      "outputs": [
        {
          "output_type": "stream",
          "text": [
            "1\n",
            "2\n",
            "3\n",
            "4\n",
            "5\n"
          ],
          "name": "stdout"
        }
      ]
    },
    {
      "cell_type": "code",
      "metadata": {
        "id": "RG8L7bahZdCw",
        "outputId": "e8c2e647-c4d3-416e-dbc4-9f8c4e7f92b6",
        "colab": {
          "base_uri": "https://localhost:8080/"
        }
      },
      "source": [
        "for i in a:\r\n",
        "    if i < 3:\r\n",
        "        continue\r\n",
        "    print(i)"
      ],
      "execution_count": 12,
      "outputs": [
        {
          "output_type": "stream",
          "text": [
            "3\n",
            "4\n",
            "5\n"
          ],
          "name": "stdout"
        }
      ]
    },
    {
      "cell_type": "code",
      "metadata": {
        "id": "XrqGWU7sZflk",
        "outputId": "47c98a10-c282-43e6-d5e9-72ad6ef3b399",
        "colab": {
          "base_uri": "https://localhost:8080/"
        }
      },
      "source": [
        "for i in a:\r\n",
        "    if i == 3:\r\n",
        "        break\r\n",
        "    print(i)  "
      ],
      "execution_count": 13,
      "outputs": [
        {
          "output_type": "stream",
          "text": [
            "1\n",
            "2\n"
          ],
          "name": "stdout"
        }
      ]
    },
    {
      "cell_type": "markdown",
      "metadata": {
        "id": "im2chaBkdyVn"
      },
      "source": [
        "  ### Lists:\r\n",
        "  * list.append(x) - add item at the end\r\n",
        "  * list.insert(at index, x)\r\n",
        "  * list.extend(list2) : To append elements from another list to the current list\r\n",
        "  * list1 + list2 : combines two lists, similar to extend but creates a new list instead of modifying list1\r\n",
        "  * list.remove(item) : removes item when it appears for the first time\r\n",
        "  * list.pop(index) : pop(2) removes the specified index i.e. 2 in this case\r\n",
        "  * list.pop(): removes last item\r\n",
        "  * del list[2] : removes the item at specified index\r\n",
        "  * del list[2:5]\r\n",
        "  * del list : del the entire list\r\n",
        "  * list.clear() : empties the list similar to del list[:]\r\n",
        "  * list.sort() : ascending\r\n",
        "  * list.sort(reverse = True) : descending\r\n",
        "  * list.sort() on string avlues gives all capital letter sorted first before lower case letters\r\n",
        "  * list.sort(key = str.lower) : To perform case-insensitive sort of the list. lower cased and upper cased are sorted by the letter but for same letter lower case comes before upper case\r\n",
        "  * sorted(list)\r\n",
        "  * list.reverse() : Reverse the order of the list items. similar to List[::-1]\r\n",
        "  * list.copy() : to copy lists, shallow copy\r\n",
        "  * list.count(item): returns number of elements with the specified values\r\n",
        "  * list.index(\"sam\") : returns index of the item, list.index(x[, start[, end]])\r\n",
        "  * list[start index : end index : step]\r\n",
        "  * len(list)\r\n",
        "  * set(list) - Remove duplicates from list\r\n",
        "  * sum(list) - adds numbers within the list\r\n",
        "  * max(list)\r\n",
        "  * min(list)\r\n",
        "  * list[0] = list[-n] , where n is len(list). positive indexes of a list are from 0 to n-1. negative indexes of a list are from -1 to -n\r\n",
        "  * list[n-1] = list[-1]\r\n",
        "  * Modify values with assignment list[1:3] = [11,12], list[3] = 13\r\n",
        "  * list1 = ['a','b','c'], list2 = [1,2,3], \r\n",
        "  lst = list(zip(list1,list2)) = [('a', 1), ('b', 2), ('c', 3)]\r\n",
        "  * enumerate(list) gives index and value at that respective index : for index,val in enumerate(list)\r\n",
        "  * \",\".join(list) : returns a string with list elements seperated by comma\r\n",
        "\r\n"
      ]
    },
    {
      "cell_type": "markdown",
      "metadata": {
        "id": "JK9PsU8dH4UY"
      },
      "source": [
        "### operations  https://www.geeksforgeeks.org/python-operators/\r\n",
        "* // : Floor division : 124 //100 =1\r\n",
        "* % : Remainder\r\n",
        "* ** : Exponentiation \r\n",
        "* abs(-5)\r\n",
        "* round(3.57,1)\r\n",
        "* pow(4,3) : 4**3: 4 power of 3\r\n",
        "* sin(pi/4)\r\n",
        "* sqrt(81)\r\n",
        "* log(e**2)\r\n",
        "* ceil(12.4) = 13\r\n",
        "* floor(12.4) = 12\r\n",
        "\r\n",
        "* !=\r\n",
        "* and, or, not\r\n",
        "* in, not in\r\n",
        "* a,b = b,a : swapping\r\n"
      ]
    },
    {
      "cell_type": "markdown",
      "metadata": {
        "id": "VuB1h1aXQW7r"
      },
      "source": [
        "### Conversion\r\n",
        "* type(expression)\r\n",
        "* int(\"15\") : 15\r\n",
        "* float(\"-13\") \" -13.0\r\n",
        "* str(x) : \"..\"\r\n",
        "* list(\"abc\") : ['a','b','c']\r\n",
        "* string.split() : split string by whitespace and generates each word as item in a list\r\n",
        "* string.split(\",\") : split string by comma and generates list\r\n",
        "* \",\".join(list)"
      ]
    },
    {
      "cell_type": "markdown",
      "metadata": {
        "id": "hbVAvvy4T4dY"
      },
      "source": [
        "### String Operations\r\n",
        "* s*5 : sssss\r\n",
        "* s1+s2 : concatenate\r\n",
        "* s.find('x')\r\n",
        "* s.index('x')\r\n",
        "* s.count('x')\r\n",
        "* s.split(\",\")\r\n",
        "* s.replace(\"word\",\"replacementword\")\r\n",
        "* s.strip()\r\n",
        "* s.lstrip()\r\n",
        "* s.rstrip()\r\n",
        "* s.upper()\r\n",
        "* s.lower()\r\n",
        "* s.title()\r\n",
        "* s.capitalize()\r\n",
        "* s.join()\r\n",
        "* '''sfj /n sdvb''' : multi line string\r\n",
        "* \\ is escape character\r\n"
      ]
    },
    {
      "cell_type": "code",
      "metadata": {
        "id": "eMOiQLAkOpNz",
        "outputId": "834112cf-b7ff-4831-a638-de9c12e05963",
        "colab": {
          "base_uri": "https://localhost:8080/"
        }
      },
      "source": [
        "print(\"Floor division: \",124 // 100)\r\n",
        "print(\"Floor division: \",124 // 10)  \r\n",
        "\r\n",
        "print(\"Modulus or Remainder: \",124 % 10)  \r\n",
        "print(\"Modulus or Remainder: \",124 % 3)  \r\n",
        "\r\n",
        "print(\"Exponentiation: \",7 ** 3)  \r\n",
        "\r\n",
        "print('We have %2d %s containing %.2f gallons of %s' %(2, 'bottles', 2.5, 'milk'))\r\n",
        "\r\n",
        "print(\"Ternanry operator\")\r\n",
        "a, b = 10, 20\r\n",
        "min = a if a < b else b \r\n",
        "print(min) \r\n",
        "print((lambda: b, lambda: a)[a < b]()) #Format: (if condition is False, if condition is True)\r\n",
        "\r\n",
        "print(\"concatenate 2 strings: \",\"Geeks\"+\"For\")\r\n",
        "print(\"Repeat the String: \",\"Geeks\"*4)"
      ],
      "execution_count": 10,
      "outputs": [
        {
          "output_type": "stream",
          "text": [
            "Floor division:  1\n",
            "Floor division:  12\n",
            "Modulus or Remainder:  4\n",
            "Modulus or Remainder:  1\n",
            "Exponentiation:  343\n",
            "We have  2 bottles containing 2.50 gallons of milk\n",
            "Ternanry operator\n",
            "10\n",
            "10\n",
            "concatenate 2 strings:  GeeksFor\n",
            "Repeat the String:  GeeksGeeksGeeksGeeks\n"
          ],
          "name": "stdout"
        }
      ]
    },
    {
      "cell_type": "markdown",
      "metadata": {
        "id": "GfrcCp95Xahg"
      },
      "source": [
        "### Sets \r\n",
        "Set items are unordered, unchangeable, and do not allow duplicate values.\r\n",
        "* len(set)\r\n",
        "* type(set)\r\n",
        "* set.add(\"item\")\r\n",
        "* set1.update(set2) : Add elements from set2 to set1\r\n",
        "* set1.remove(\"item\")\r\n",
        "* set1.discard(\"item\")\r\n",
        "* set.pop() : Remove last item\r\n",
        "* set.clear()\" empties the list\r\n",
        "* del set : will delete the set completely\r\n",
        "* set3 = set1.union(set2) \r\n",
        "* set1.update(set2) # modifies set1\r\n",
        "* set1.intersection_update(set2) # modifies set1\r\n",
        "* set3 = set1.intersection(set2) \r\n",
        "* set1.symmetric_difference_update(set2) # keep only the elements that are NOT present in both sets\r\n",
        "* set3 = set1.symmetric_difference_update(set2) # contains only the elements that are NOT present in both sets\r\n",
        "\r\n",
        "Set Operations: Both variables should be of same data type\r\n",
        "* x.union(y)\r\n",
        "* x.intersection(y)\r\n",
        "* x.difference(y)\r\n",
        "* y.difference(x)\r\n",
        "\r\n",
        "Difference of two sets or lists\r\n",
        "* x = set(pd.unique(df['Var']))\r\n",
        "* y = set(pd.unique(df['Var1']))\r\n",
        "* z = x-y \r\n",
        "* x.difference(y)"
      ]
    },
    {
      "cell_type": "markdown",
      "metadata": {
        "id": "bqkNk6LSLi7T"
      },
      "source": [
        "### Dictionary\r\n",
        "* dict(zip(list1,list2)) : returns dictionary\r\n"
      ]
    },
    {
      "cell_type": "code",
      "metadata": {
        "id": "jHJFIwc_ZWeA",
        "outputId": "4bdd99d0-5486-45c0-f35a-8302028343ec",
        "colab": {
          "base_uri": "https://localhost:8080/",
          "height": 103
        }
      },
      "source": [
        "for key, value in enumerate(['The', 'Big', 'Bang', 'Theory']): \r\n",
        "    print(key, value) \r\n",
        "\r\n",
        "\",\".join(['The', 'Big', 'Bang', 'Theory'])"
      ],
      "execution_count": 8,
      "outputs": [
        {
          "output_type": "stream",
          "text": [
            "0 The\n",
            "1 Big\n",
            "2 Bang\n",
            "3 Theory\n"
          ],
          "name": "stdout"
        },
        {
          "output_type": "execute_result",
          "data": {
            "application/vnd.google.colaboratory.intrinsic+json": {
              "type": "string"
            },
            "text/plain": [
              "'The,Big,Bang,Theory'"
            ]
          },
          "metadata": {
            "tags": []
          },
          "execution_count": 8
        }
      ]
    },
    {
      "cell_type": "code",
      "metadata": {
        "colab": {
          "base_uri": "https://localhost:8080/"
        },
        "id": "DBbI8T7WI-3J",
        "outputId": "eb6b4404-e3e1-47c1-8d07-281fa53f98c7"
      },
      "source": [
        "lst = [1,2,3]\r\n",
        "lst.extend([4,5])\r\n",
        "print(lst)\r\n",
        "print(lst[:-1])\r\n",
        "print(lst[1:-1])\r\n",
        "print(lst[::2])\r\n",
        "print(lst[::-1]) # step size is -1\r\n",
        "print(lst[::-2]) # step size is -2\r\n",
        "print(lst[:])\r\n",
        "\r\n",
        "word = 'aeioubcdfg'\r\n",
        "print(word [:3]) #indexes 0,1&2\r\n",
        "print(word[0:3])\r\n",
        "print(word [3:])\r\n",
        "\r\n",
        "a = [0,1,2,3,4,5,6,7,8,9]\r\n",
        "print(a[:2])\r\n",
        "print(a[8:])\r\n",
        "print(a[2:8])\r\n",
        "print(a[2:8:2]) #list[start:stop:step]\r\n",
        "\r\n",
        "print([i for i in range(10)])\r\n",
        "print([i for i in range(2,10)])\r\n",
        "print([i for i in range(2,10,2)])"
      ],
      "execution_count": 6,
      "outputs": [
        {
          "output_type": "stream",
          "text": [
            "[1, 2, 3, 4, 5]\n",
            "[1, 2, 3, 4]\n",
            "[2, 3, 4]\n",
            "[1, 3, 5]\n",
            "[5, 4, 3, 2, 1]\n",
            "[5, 3, 1]\n",
            "[1, 2, 3, 4, 5]\n"
          ],
          "name": "stdout"
        }
      ]
    },
    {
      "cell_type": "code",
      "metadata": {
        "colab": {
          "base_uri": "https://localhost:8080/"
        },
        "id": "lOk91aTy8QB2",
        "outputId": "1baa9cae-ef96-4443-87d4-9c0fa6ae50d4"
      },
      "source": [
        "def foo (i= []):\r\n",
        "    i.append (1)\r\n",
        "    return i\r\n",
        "print(foo ()) # appends 1 first time\r\n",
        "print(foo ()) # appends 1 again"
      ],
      "execution_count": null,
      "outputs": [
        {
          "output_type": "stream",
          "text": [
            "[1]\n",
            "[1, 1]\n"
          ],
          "name": "stdout"
        }
      ]
    },
    {
      "cell_type": "code",
      "metadata": {
        "colab": {
          "base_uri": "https://localhost:8080/"
        },
        "id": "JCmF9Svl8jFz",
        "outputId": "e87d4a3e-4513-45da-8095-287a62a0d8a9"
      },
      "source": [
        "def add_three(x):\r\n",
        "    return x + 3\r\n",
        "li = [1,2,3]\r\n",
        "print([i for i in map(add_three, li)])\r\n",
        "\r\n",
        "def add_three(x):\r\n",
        "    if x % 2 == 0:\r\n",
        "        return True        \r\n",
        "    else:\r\n",
        "        return False\r\n",
        "li = [1,2,3,4,5,6,7,8]\r\n",
        "print([i for i in filter(add_three, li)])"
      ],
      "execution_count": 2,
      "outputs": [
        {
          "output_type": "stream",
          "text": [
            "[4, 5, 6]\n"
          ],
          "name": "stdout"
        },
        {
          "output_type": "execute_result",
          "data": {
            "text/plain": [
              "[2, 4, 6, 8]"
            ]
          },
          "metadata": {
            "tags": []
          },
          "execution_count": 2
        }
      ]
    },
    {
      "cell_type": "code",
      "metadata": {
        "id": "4A-EmWjhZUmu",
        "outputId": "b20d054d-155b-4b10-9731-f7145cbba11d",
        "colab": {
          "base_uri": "https://localhost:8080/"
        }
      },
      "source": [
        "d = {'id':7, 'name':'Shiba', 'color':'brown', 'speed':'very slow'}\r\n",
        "list(d) # Extracting only keys"
      ],
      "execution_count": 14,
      "outputs": [
        {
          "output_type": "execute_result",
          "data": {
            "text/plain": [
              "['id', 'name', 'color', 'speed']"
            ]
          },
          "metadata": {
            "tags": []
          },
          "execution_count": 14
        }
      ]
    },
    {
      "cell_type": "code",
      "metadata": {
        "colab": {
          "base_uri": "https://localhost:8080/"
        },
        "id": "rPffSEXI9nxS",
        "outputId": "e683862f-5de8-4b6a-fef3-1bee01d18e15"
      },
      "source": [
        "d = {'z':3, 'd':4, 'b':2, 'x':1}\r\n",
        "sorted(d.items()) # Sorted based on keys"
      ],
      "execution_count": 18,
      "outputs": [
        {
          "output_type": "execute_result",
          "data": {
            "text/plain": [
              "[('b', 2), ('d', 4), ('x', 1), ('z', 3)]"
            ]
          },
          "metadata": {
            "tags": []
          },
          "execution_count": 18
        }
      ]
    },
    {
      "cell_type": "code",
      "metadata": {
        "colab": {
          "base_uri": "https://localhost:8080/"
        },
        "id": "8PwLDm909n6H",
        "outputId": "7bfc97b7-c443-4969-c8cd-848b10bd9d0f"
      },
      "source": [
        "a = ['a','b','c']\r\n",
        "b = [1,2,3]\r\n",
        "[(k,v) for k,v in zip(a,b)]"
      ],
      "execution_count": 15,
      "outputs": [
        {
          "output_type": "execute_result",
          "data": {
            "text/plain": [
              "[('a', 1), ('b', 2), ('c', 3)]"
            ]
          },
          "metadata": {
            "tags": []
          },
          "execution_count": 15
        }
      ]
    },
    {
      "cell_type": "code",
      "metadata": {
        "colab": {
          "base_uri": "https://localhost:8080/",
          "height": 35
        },
        "id": "mAd2fZWl9wsS",
        "outputId": "66bdc3b7-1bcd-46f9-974b-16416327729e"
      },
      "source": [
        "s = 'A string with     white space'\r\n",
        "''.join(s.split())"
      ],
      "execution_count": 6,
      "outputs": [
        {
          "output_type": "execute_result",
          "data": {
            "application/vnd.google.colaboratory.intrinsic+json": {
              "type": "string"
            },
            "text/plain": [
              "'Astringwithwhitespace'"
            ]
          },
          "metadata": {
            "tags": []
          },
          "execution_count": 6
        }
      ]
    },
    {
      "cell_type": "code",
      "metadata": {
        "colab": {
          "base_uri": "https://localhost:8080/",
          "height": 35
        },
        "id": "tcgWitkT9yro",
        "outputId": "5b708b0a-eeb4-4b43-ccec-77dc308302e1"
      },
      "source": [
        "s = 'A string with     white space'\r\n",
        "s.replace(' ', '')"
      ],
      "execution_count": null,
      "outputs": [
        {
          "output_type": "execute_result",
          "data": {
            "application/vnd.google.colaboratory.intrinsic+json": {
              "type": "string"
            },
            "text/plain": [
              "'Astringwithwhitespace'"
            ]
          },
          "metadata": {
            "tags": []
          },
          "execution_count": 20
        }
      ]
    },
    {
      "cell_type": "code",
      "metadata": {
        "id": "jroZ2xLIeUvz",
        "colab": {
          "base_uri": "https://localhost:8080/"
        },
        "outputId": "f5e5bba6-d6da-45d8-f1f5-bacf90ef6cdc"
      },
      "source": [
        "# Loop Through a List\r\n",
        "thislist = [\"apple\", \"banana\", \"cherry\"]\r\n",
        "for x in thislist:\r\n",
        "  print(x)"
      ],
      "execution_count": null,
      "outputs": [
        {
          "output_type": "stream",
          "text": [
            "apple\n",
            "banana\n",
            "cherry\n"
          ],
          "name": "stdout"
        }
      ]
    },
    {
      "cell_type": "code",
      "metadata": {
        "id": "d49_B02IeX8I",
        "colab": {
          "base_uri": "https://localhost:8080/"
        },
        "outputId": "cb7c2c33-4ad4-4e77-d3ba-966961064982"
      },
      "source": [
        "# Loop Through the Index Numbers\r\n",
        "thislist = [\"apple\", \"banana\", \"cherry\"]\r\n",
        "for i in range(len(thislist)):\r\n",
        "  print(thislist[i])"
      ],
      "execution_count": null,
      "outputs": [
        {
          "output_type": "stream",
          "text": [
            "apple\n",
            "banana\n",
            "cherry\n"
          ],
          "name": "stdout"
        }
      ]
    },
    {
      "cell_type": "code",
      "metadata": {
        "id": "hpi7GPjhekjE",
        "colab": {
          "base_uri": "https://localhost:8080/"
        },
        "outputId": "49bfd03b-ec9c-419c-f163-f3eb750712d9"
      },
      "source": [
        "# While loop to go through all the index numbers\r\n",
        "thislist = [\"apple\", \"banana\", \"cherry\"]\r\n",
        "i = 0\r\n",
        "while i < len(thislist):\r\n",
        "  print(thislist[i])\r\n",
        "  i = i + 1"
      ],
      "execution_count": null,
      "outputs": [
        {
          "output_type": "stream",
          "text": [
            "apple\n",
            "banana\n",
            "cherry\n"
          ],
          "name": "stdout"
        }
      ]
    },
    {
      "cell_type": "code",
      "metadata": {
        "colab": {
          "base_uri": "https://localhost:8080/"
        },
        "id": "AIkFBCbne69X",
        "outputId": "94b9f177-f672-4152-8590-081e5ab62a3a"
      },
      "source": [
        "# List compreshension\r\n",
        "fruits = [\"apple\", \"banana\", \"cherry\", \"kiwi\", \"mango\"]\r\n",
        "newlist = [x for x in fruits if \"a\" in x]\r\n",
        "print(newlist)\r\n",
        "\r\n",
        "# Bigger version of the the above\r\n",
        "fruits = [\"apple\", \"banana\", \"cherry\", \"kiwi\", \"mango\"]\r\n",
        "newlist = []\r\n",
        "for x in fruits:\r\n",
        "  if \"a\" in x:\r\n",
        "    newlist.append(x)\r\n",
        "\r\n",
        "print(newlist)"
      ],
      "execution_count": null,
      "outputs": [
        {
          "output_type": "stream",
          "text": [
            "['apple', 'banana', 'mango']\n",
            "['apple', 'banana', 'mango']\n"
          ],
          "name": "stdout"
        }
      ]
    },
    {
      "cell_type": "code",
      "metadata": {
        "id": "OUhYbFbV-Amb",
        "colab": {
          "base_uri": "https://localhost:8080/"
        },
        "outputId": "302cf8c8-4e15-4a80-f77c-de865f766ac1"
      },
      "source": [
        "a = 200\r\n",
        "b = 33\r\n",
        "if b > a:\r\n",
        "  print(\"b is greater than a\")\r\n",
        "elif a == b:\r\n",
        "  print(\"a and b are equal\")\r\n",
        "else:\r\n",
        "  print(\"a is greater than b\")"
      ],
      "execution_count": null,
      "outputs": [
        {
          "output_type": "stream",
          "text": [
            "a is greater than b\n"
          ],
          "name": "stdout"
        }
      ]
    },
    {
      "cell_type": "code",
      "metadata": {
        "id": "t__FkO9_-Hzo",
        "colab": {
          "base_uri": "https://localhost:8080/"
        },
        "outputId": "599d8bc7-36df-4bef-fcd8-29add07c528b"
      },
      "source": [
        "x = 41\r\n",
        "if x > 10:\r\n",
        "  print(\"Above ten,\")\r\n",
        "  if x > 20:\r\n",
        "    print(\"and also above 20!\")\r\n",
        "  else:\r\n",
        "    print(\"but not above 20.\")\r\n",
        "else:\r\n",
        "  print(\"Below ten\")"
      ],
      "execution_count": null,
      "outputs": [
        {
          "output_type": "stream",
          "text": [
            "Below ten\n"
          ],
          "name": "stdout"
        }
      ]
    },
    {
      "cell_type": "code",
      "metadata": {
        "id": "DZKUi5Ku-J7j"
      },
      "source": [
        "# if statements cannot be empty, but if you for some reason have an if statement with no content, put in the pass statement to avoid getting an error\r\n",
        "a = 33\r\n",
        "b = 200\r\n",
        "if b > a:\r\n",
        "  pass"
      ],
      "execution_count": 19,
      "outputs": []
    },
    {
      "cell_type": "code",
      "metadata": {
        "id": "EzC_eQLO-ygG",
        "colab": {
          "base_uri": "https://localhost:8080/"
        },
        "outputId": "f5921d4e-b223-4ea7-c9a1-3601f08f98d1"
      },
      "source": [
        "# With the break statement we can stop the loop even if the while condition is true:\r\n",
        "i = 1\r\n",
        "while i < 6:\r\n",
        "  print(i)\r\n",
        "  if i == 3:\r\n",
        "    break\r\n",
        "  i += 1"
      ],
      "execution_count": null,
      "outputs": [
        {
          "output_type": "stream",
          "text": [
            "1\n",
            "2\n",
            "3\n"
          ],
          "name": "stdout"
        }
      ]
    },
    {
      "cell_type": "code",
      "metadata": {
        "id": "PMk0vfB6_WIm",
        "colab": {
          "base_uri": "https://localhost:8080/"
        },
        "outputId": "6252f876-d3b2-4a8f-ae2b-6403ec1f288f"
      },
      "source": [
        "fruits = [\"apple\", \"banana\", \"cherry\"]\r\n",
        "for x in fruits:\r\n",
        "  print(x)\r\n",
        "  if x == \"banana\":\r\n",
        "    break"
      ],
      "execution_count": null,
      "outputs": [
        {
          "output_type": "stream",
          "text": [
            "apple\n",
            "banana\n"
          ],
          "name": "stdout"
        }
      ]
    },
    {
      "cell_type": "code",
      "metadata": {
        "id": "m28kB5g8_BQY",
        "colab": {
          "base_uri": "https://localhost:8080/"
        },
        "outputId": "1ed5c6c9-786f-4bfd-c249-f21504b7b077"
      },
      "source": [
        "# With the continue statement we can stop the current iteration, and continue with the next:\r\n",
        "# Continue to the next iteration if i is 3\r\n",
        "i = 0\r\n",
        "while i < 6:\r\n",
        "  i += 1\r\n",
        "  if i == 3:\r\n",
        "    continue\r\n",
        "  print(i)"
      ],
      "execution_count": null,
      "outputs": [
        {
          "output_type": "stream",
          "text": [
            "1\n",
            "2\n",
            "4\n",
            "5\n",
            "6\n"
          ],
          "name": "stdout"
        }
      ]
    },
    {
      "cell_type": "code",
      "metadata": {
        "id": "adshB3cH_bEQ",
        "colab": {
          "base_uri": "https://localhost:8080/"
        },
        "outputId": "2f92f838-af32-4e3a-8852-d90ccc597ce4"
      },
      "source": [
        "fruits = [\"apple\", \"banana\", \"cherry\"]\r\n",
        "for x in fruits:\r\n",
        "  if x == \"banana\":\r\n",
        "    continue\r\n",
        "  print(x)"
      ],
      "execution_count": null,
      "outputs": [
        {
          "output_type": "stream",
          "text": [
            "apple\n",
            "cherry\n"
          ],
          "name": "stdout"
        }
      ]
    },
    {
      "cell_type": "code",
      "metadata": {
        "colab": {
          "base_uri": "https://localhost:8080/"
        },
        "id": "iyq7fhru_OB5",
        "outputId": "b8b89389-5a7c-4bba-dbaf-ef51a588f02a"
      },
      "source": [
        "i = 1\r\n",
        "while i < 6:\r\n",
        "  print(i)\r\n",
        "  i += 1\r\n",
        "else:\r\n",
        "  print(\"i is no longer less than 6\")"
      ],
      "execution_count": null,
      "outputs": [
        {
          "output_type": "stream",
          "text": [
            "1\n",
            "2\n",
            "3\n",
            "4\n",
            "5\n",
            "i is no longer less than 6\n"
          ],
          "name": "stdout"
        }
      ]
    },
    {
      "cell_type": "code",
      "metadata": {
        "colab": {
          "base_uri": "https://localhost:8080/"
        },
        "id": "dSjXTu96_Qik",
        "outputId": "1e76a919-e784-4154-cfed-85d720c06840"
      },
      "source": [
        "# Increment in sequence of 3 from 2 to 30\r\n",
        "for x in range(2, 30, 3):\r\n",
        "  print(x)"
      ],
      "execution_count": null,
      "outputs": [
        {
          "output_type": "stream",
          "text": [
            "2\n",
            "5\n",
            "8\n",
            "11\n",
            "14\n",
            "17\n",
            "20\n",
            "23\n",
            "26\n",
            "29\n"
          ],
          "name": "stdout"
        }
      ]
    },
    {
      "cell_type": "code",
      "metadata": {
        "id": "1WJpzZZSencr",
        "colab": {
          "base_uri": "https://localhost:8080/"
        },
        "outputId": "8dad158d-43ca-420d-dc3f-833ae61884fe"
      },
      "source": [
        "for x in range(5):\r\n",
        "  print(x)"
      ],
      "execution_count": null,
      "outputs": [
        {
          "output_type": "stream",
          "text": [
            "0\n",
            "1\n",
            "2\n",
            "3\n",
            "4\n"
          ],
          "name": "stdout"
        }
      ]
    },
    {
      "cell_type": "code",
      "metadata": {
        "colab": {
          "base_uri": "https://localhost:8080/"
        },
        "id": "67Pt1Vlacjo0",
        "outputId": "a1d35cb6-a551-4bf9-a4b7-0d72dcfbc72f"
      },
      "source": [
        "# python code to demonstrate working of enumerate() \r\n",
        "# Using enumerate():  enumerate() is used to loop through the containers printing the index number along with the value present in that particular index.\r\n",
        "# enumerate() is used to create index and its corresponding value of a list\r\n",
        "for key, value in enumerate(['The', 'Big', 'Bang', 'Theory']): \r\n",
        "    print(key, value) \r\n",
        "\r\n",
        "for key, value in enumerate(['Geeks', 'for', 'Geeks', 'is', 'the', 'Best', 'Coding', 'Platform']): \r\n",
        "    print(value, end=' ') "
      ],
      "execution_count": null,
      "outputs": [
        {
          "output_type": "stream",
          "text": [
            "0 The\n",
            "1 Big\n",
            "2 Bang\n",
            "3 Theory\n",
            "Geeks for Geeks is the Best Coding Platform "
          ],
          "name": "stdout"
        }
      ]
    },
    {
      "cell_type": "code",
      "metadata": {
        "colab": {
          "base_uri": "https://localhost:8080/"
        },
        "id": "t_zjCb6Icx54",
        "outputId": "7d702d63-6750-45ce-b786-da87ab97e39b"
      },
      "source": [
        "# Using zip(): zip() is used to combine 2 similar containers(list-list or dict-dict) printing the values sequentially. The loop exists only till the smaller container ends.\r\n",
        "# zip is used when one list is used a key pair and another list as value pair\r\n",
        "# initializing list \r\n",
        "questions = ['name', 'colour', 'shape'] \r\n",
        "answers = ['apple', 'red', 'a circle'] \r\n",
        "  \r\n",
        "# using zip() to combine two containers  \r\n",
        "# and print values \r\n",
        "for question, answer in zip(questions, answers): \r\n",
        "    print('What is your {0}?  I am {1}.'.format(question, answer)) "
      ],
      "execution_count": null,
      "outputs": [
        {
          "output_type": "stream",
          "text": [
            "What is your name?  I am apple.\n",
            "What is your colour?  I am red.\n",
            "What is your shape?  I am a circle.\n"
          ],
          "name": "stdout"
        }
      ]
    },
    {
      "cell_type": "code",
      "metadata": {
        "colab": {
          "base_uri": "https://localhost:8080/"
        },
        "id": "6nbLMYJSdDxJ",
        "outputId": "5b6c7fad-bb0f-4aff-a058-df57c84485ca"
      },
      "source": [
        "d = { \"geeks\" : \"for\", \"only\" : \"geeks\" }\r\n",
        "      \r\n",
        "# using items to print the dictionary key-value pair \r\n",
        "print (\"The key value pair using items is : \") \r\n",
        "for i,j in d.items(): \r\n",
        "    print(i,j)"
      ],
      "execution_count": null,
      "outputs": [
        {
          "output_type": "stream",
          "text": [
            "The key value pair using items is : \n",
            "geeks for\n",
            "only geeks\n"
          ],
          "name": "stdout"
        }
      ]
    },
    {
      "cell_type": "markdown",
      "metadata": {
        "id": "nq38GRB6Hzst"
      },
      "source": [
        "Collections package\r\n"
      ]
    },
    {
      "cell_type": "code",
      "metadata": {
        "colab": {
          "base_uri": "https://localhost:8080/"
        },
        "id": "CISVeSR3HzVY",
        "outputId": "3ec3fc10-64ec-458e-c581-3da69f33b0f8"
      },
      "source": [
        "# A Python program to show different ways to create \r\n",
        "# Counter \r\n",
        "from collections import Counter \r\n",
        "  \r\n",
        "# With sequence of items  \r\n",
        "print(Counter(['B','B','A','B','C','A','B','B','A','C'])) \r\n",
        "  \r\n",
        "# with dictionary \r\n",
        "print(Counter({'A':3, 'B':5, 'C':2})) \r\n",
        "  \r\n",
        "# with keyword arguments \r\n",
        "print(Counter(A=3, B=5, C=2)) "
      ],
      "execution_count": null,
      "outputs": [
        {
          "output_type": "stream",
          "text": [
            "Counter({'B': 5, 'A': 3, 'C': 2})\n",
            "Counter({'B': 5, 'A': 3, 'C': 2})\n",
            "Counter({'B': 5, 'A': 3, 'C': 2})\n"
          ],
          "name": "stdout"
        }
      ]
    },
    {
      "cell_type": "code",
      "metadata": {
        "colab": {
          "base_uri": "https://localhost:8080/"
        },
        "id": "JB03pZ-xfCHz",
        "outputId": "47bd334b-b772-4257-eb77-b77ae88528b3"
      },
      "source": [
        "# A Python program to demonstrate working of OrderedDict \r\n",
        "\"\"\"An OrderedDict is a dictionary subclass that remembers the order that keys were first inserted. The only difference between dict() and OrderedDict() is that:\r\n",
        "\r\n",
        "OrderedDict preserves the order in which the keys are inserted. A regular dict doesn’t track the insertion order, and iterating it gives the values in an arbitrary order. By contrast, the order the items are inserted is remembered by OrderedDict.\"\"\"\r\n",
        "from collections import OrderedDict \r\n",
        "  \r\n",
        "print(\"This is a Dict:\\n\") \r\n",
        "d = {} \r\n",
        "d['a'] = 1\r\n",
        "d['b'] = 2\r\n",
        "d['c'] = 3\r\n",
        "d['d'] = 4\r\n",
        "  \r\n",
        "for key, value in d.items(): \r\n",
        "    print(key, value) "
      ],
      "execution_count": null,
      "outputs": [
        {
          "output_type": "stream",
          "text": [
            "This is a Dict:\n",
            "\n",
            "a 1\n",
            "b 2\n",
            "c 3\n",
            "d 4\n"
          ],
          "name": "stdout"
        }
      ]
    },
    {
      "cell_type": "code",
      "metadata": {
        "colab": {
          "base_uri": "https://localhost:8080/"
        },
        "id": "CpIoAxUnfCEd",
        "outputId": "3cf52b7f-6055-44d2-f15a-4f42df5ded28"
      },
      "source": [
        "# A Python program to demonstrate working of key  \r\n",
        "# value change in OrderedDict \r\n",
        "from collections import OrderedDict \r\n",
        "  \r\n",
        "print(\"Before:\\n\") \r\n",
        "od = OrderedDict() \r\n",
        "od['a'] = 1\r\n",
        "od['b'] = 2\r\n",
        "od['c'] = 3\r\n",
        "od['d'] = 4\r\n",
        "for key, value in od.items(): \r\n",
        "    print(key, value) \r\n",
        "  \r\n",
        "print(\"\\nAfter:\\n\") \r\n",
        "od['c'] = 5\r\n",
        "for key, value in od.items(): \r\n",
        "    print(key, value) "
      ],
      "execution_count": null,
      "outputs": [
        {
          "output_type": "stream",
          "text": [
            "Before:\n",
            "\n",
            "a 1\n",
            "b 2\n",
            "c 3\n",
            "d 4\n",
            "\n",
            "After:\n",
            "\n",
            "a 1\n",
            "b 2\n",
            "c 5\n",
            "d 4\n"
          ],
          "name": "stdout"
        }
      ]
    },
    {
      "cell_type": "code",
      "metadata": {
        "colab": {
          "base_uri": "https://localhost:8080/"
        },
        "id": "2yfMXYZLfXLN",
        "outputId": "def9db78-c81a-41e6-bc38-06ab26dffc33"
      },
      "source": [
        "# A Python program to demonstrate working of deletion  \r\n",
        "# re-inserion in OrderedDict \r\n",
        "from collections import OrderedDict \r\n",
        "  \r\n",
        "print(\"Before deleting:\\n\") \r\n",
        "od = OrderedDict() \r\n",
        "od['a'] = 1\r\n",
        "od['b'] = 2\r\n",
        "od['c'] = 3\r\n",
        "od['d'] = 4\r\n",
        "  \r\n",
        "for key, value in od.items(): \r\n",
        "    print(key, value) \r\n",
        "  \r\n",
        "print(\"\\nAfter deleting:\\n\") \r\n",
        "od.pop('c') \r\n",
        "for key, value in od.items(): \r\n",
        "    print(key, value) \r\n",
        "  \r\n",
        "print(\"\\nAfter re-inserting:\\n\") \r\n",
        "od['c'] = 3\r\n",
        "for key, value in od.items(): \r\n",
        "    print(key, value) "
      ],
      "execution_count": null,
      "outputs": [
        {
          "output_type": "stream",
          "text": [
            "Before deleting:\n",
            "\n",
            "a 1\n",
            "b 2\n",
            "c 3\n",
            "d 4\n",
            "\n",
            "After deleting:\n",
            "\n",
            "a 1\n",
            "b 2\n",
            "d 4\n",
            "\n",
            "After re-inserting:\n",
            "\n",
            "a 1\n",
            "b 2\n",
            "d 4\n",
            "c 3\n"
          ],
          "name": "stdout"
        }
      ]
    },
    {
      "cell_type": "code",
      "metadata": {
        "colab": {
          "base_uri": "https://localhost:8080/"
        },
        "id": "iJYxmtpyjNNI",
        "outputId": "0c7d95f2-f0f7-425f-be8a-cdb9b10d7bb6"
      },
      "source": [
        "# ChainMap:Python contains a container called “ChainMap” which encapsulates many dictionaries into one unit. \r\n",
        "# importing collections for ChainMap operations \r\n",
        "import collections \r\n",
        "  \r\n",
        "# initializing dictionaries \r\n",
        "dic1 = { 'a' : 1, 'b' : 2 } \r\n",
        "dic2 = { 'b' : 3, 'c' : 4 } \r\n",
        "  \r\n",
        "# initializing ChainMap \r\n",
        "chain = collections.ChainMap(dic1, dic2) \r\n",
        "  \r\n",
        "# printing chainMap using maps \r\n",
        "print (\"All the ChainMap contents are : \") \r\n",
        "print (chain.maps) \r\n",
        "  \r\n",
        "# printing keys using keys() \r\n",
        "print (\"All keys of ChainMap are : \") \r\n",
        "print (list(chain.keys())) \r\n",
        "  \r\n",
        "# printing keys using keys() \r\n",
        "print (\"All values of ChainMap are : \") \r\n",
        "print (list(chain.values())) "
      ],
      "execution_count": null,
      "outputs": [
        {
          "output_type": "stream",
          "text": [
            "All the ChainMap contents are : \n",
            "[{'a': 1, 'b': 2}, {'b': 3, 'c': 4}]\n",
            "All keys of ChainMap are : \n",
            "['b', 'a', 'c']\n",
            "All values of ChainMap are : \n",
            "[2, 1, 4]\n"
          ],
          "name": "stdout"
        }
      ]
    },
    {
      "cell_type": "code",
      "metadata": {
        "colab": {
          "base_uri": "https://localhost:8080/"
        },
        "id": "ugx-ZGdHfTCD",
        "outputId": "c962a7ae-7d65-4347-8b73-38e5887a4bac"
      },
      "source": [
        "# new_child() :- This function adds a new dictionary in the beginning of the ChainMap\r\n",
        "print(chain.new_child({ 'f' : 5 }))\r\n",
        "\r\n",
        "print(reversed(chain.maps))"
      ],
      "execution_count": null,
      "outputs": [
        {
          "output_type": "stream",
          "text": [
            "ChainMap({'f': 5}, {'a': 1, 'b': 2}, {'b': 3, 'c': 4})\n",
            "<list_reverseiterator object at 0x7efd03fe5fd0>\n"
          ],
          "name": "stdout"
        }
      ]
    },
    {
      "cell_type": "code",
      "metadata": {
        "colab": {
          "base_uri": "https://localhost:8080/"
        },
        "id": "f8L6BIptfS-p",
        "outputId": "37ad4cf0-46d8-489f-85a0-accf1d954d28"
      },
      "source": [
        "# Deque: Deque (Doubly Ended Queue) in Python is implemented using the module “collections“.\r\n",
        "# Deque is preferred over list in the cases where we need quicker append and pop operations from both the ends of container, as deque provides an O(1) time complexity for append and pop operations \r\n",
        "# as compared to list which provides O(n) time complexity\r\n",
        "from collections import deque  \r\n",
        "      \r\n",
        "# Declaring deque  \r\n",
        "queue = deque(['name','age','DOB'])   \r\n",
        "      \r\n",
        "print(queue) \r\n",
        "\r\n",
        "# Python code to demonstrate working of  \r\n",
        "# append(), appendleft(), pop(), and popleft() \r\n",
        "  \r\n",
        "# importing \"collections\" for deque operations \r\n",
        "import collections \r\n",
        "  \r\n",
        "# initializing deque \r\n",
        "de = collections.deque([1,2,3]) \r\n",
        "  \r\n",
        "# using append() to insert element at right end  \r\n",
        "# inserts 4 at the end of deque \r\n",
        "de.append(4) \r\n",
        "  \r\n",
        "# printing modified deque \r\n",
        "print (\"The deque after appending at right is : \") \r\n",
        "print (de) \r\n",
        "  \r\n",
        "# using appendleft() to insert element at right end  \r\n",
        "# inserts 6 at the beginning of deque \r\n",
        "de.appendleft(6) \r\n",
        "  \r\n",
        "# printing modified deque \r\n",
        "print (\"The deque after appending at left is : \") \r\n",
        "print (de) \r\n",
        "  \r\n",
        "# using pop() to delete element from right end  \r\n",
        "# deletes 4 from the right end of deque \r\n",
        "de.pop() \r\n",
        "  \r\n",
        "# printing modified deque \r\n",
        "print (\"The deque after deleting from right is : \") \r\n",
        "print (de) \r\n",
        "  \r\n",
        "# using popleft() to delete element from left end  \r\n",
        "# deletes 6 from the left end of deque \r\n",
        "de.popleft() \r\n",
        "  \r\n",
        "# printing modified deque \r\n",
        "print (\"The deque after deleting from left is : \") \r\n",
        "print (de) \r\n"
      ],
      "execution_count": null,
      "outputs": [
        {
          "output_type": "stream",
          "text": [
            "deque(['name', 'age', 'DOB'])\n",
            "The deque after appending at right is : \n",
            "deque([1, 2, 3, 4])\n",
            "The deque after appending at left is : \n",
            "deque([6, 1, 2, 3, 4])\n",
            "The deque after deleting from right is : \n",
            "deque([6, 1, 2, 3])\n",
            "The deque after deleting from left is : \n",
            "deque([1, 2, 3])\n"
          ],
          "name": "stdout"
        }
      ]
    },
    {
      "cell_type": "code",
      "metadata": {
        "colab": {
          "base_uri": "https://localhost:8080/"
        },
        "id": "6tfgdloykkd2",
        "outputId": "d3bf1cc0-fd23-416c-cfae-df9902ad3922"
      },
      "source": [
        "# Python code to demonstrate working of  \r\n",
        "# insert(), index(), remove(), count() \r\n",
        "  \r\n",
        "# importing \"collections\" for deque operations \r\n",
        "import collections \r\n",
        "  \r\n",
        "# initializing deque \r\n",
        "de = collections.deque([1, 2, 3, 3, 4, 2, 4]) \r\n",
        "  \r\n",
        "# using index() to print the first occurrence of 4 \r\n",
        "print (\"The number 4 first occurs at a position : \") \r\n",
        "print (de.index(4,2,5))  # index(ele, beg, end)\r\n",
        "  \r\n",
        "# using insert() to insert the value 3 at 5th position \r\n",
        "de.insert(4,3) #index,value\r\n",
        "  \r\n",
        "# printing modified deque \r\n",
        "print (\"The deque after inserting 3 at 5th position is : \") \r\n",
        "print (de) \r\n",
        "  \r\n",
        "# using count() to count the occurrences of 3 \r\n",
        "print (\"The count of 3 in deque is : \") \r\n",
        "print (de.count(3)) \r\n",
        "  \r\n",
        "# using remove() to remove the first occurrence of 3 \r\n",
        "de.remove(3) \r\n",
        "  \r\n",
        "# printing modified deque \r\n",
        "print (\"The deque after deleting first occurrence of 3 is : \") \r\n",
        "print (de) "
      ],
      "execution_count": null,
      "outputs": [
        {
          "output_type": "stream",
          "text": [
            "The number 4 first occurs at a position : \n",
            "4\n",
            "The deque after inserting 3 at 5th position is : \n",
            "deque([1, 2, 3, 3, 3, 4, 2, 4])\n",
            "The count of 3 in deque is : \n",
            "3\n",
            "The deque after deleting first occurrence of 3 is : \n",
            "deque([1, 2, 3, 3, 4, 2, 4])\n"
          ],
          "name": "stdout"
        }
      ]
    },
    {
      "cell_type": "code",
      "metadata": {
        "id": "9hHbqrRvfS7K",
        "colab": {
          "base_uri": "https://localhost:8080/"
        },
        "outputId": "414580ca-dae3-45f3-e9a2-36fa4ccd8c88"
      },
      "source": [
        "# Python code to demonstrate working of  \r\n",
        "# extend(), extendleft(), rotate(), reverse() \r\n",
        "  \r\n",
        "# importing \"collections\" for deque operations \r\n",
        "import collections \r\n",
        "  \r\n",
        "# initializing deque \r\n",
        "de = collections.deque([1, 2, 3,]) \r\n",
        "  \r\n",
        "# using extend() to add numbers to right end  \r\n",
        "# adds 4,5,6 to right end \r\n",
        "de.extend([4,5,6]) \r\n",
        "  \r\n",
        "# printing modified deque \r\n",
        "print (\"The deque after extending deque at end is : \") \r\n",
        "print (de) \r\n",
        "  \r\n",
        "# using extendleft() to add numbers to left end  \r\n",
        "# adds 7,8,9 to right end \r\n",
        "de.extendleft([7,8,9]) \r\n",
        "  \r\n",
        "# printing modified deque \r\n",
        "print (\"The deque after extending deque at beginning is : \") \r\n",
        "print (de) \r\n",
        "  \r\n",
        "# using rotate() to rotate the deque \r\n",
        "# rotates by 3 to left \r\n",
        "de.rotate(-3) \r\n",
        "  \r\n",
        "# printing modified deque \r\n",
        "print (\"The deque after rotating deque is : \") \r\n",
        "print (de) \r\n",
        "  \r\n",
        "# using reverse() to reverse the deque \r\n",
        "de.reverse() \r\n",
        "  \r\n",
        "# printing modified deque \r\n",
        "print (\"The deque after reversing deque is : \") \r\n",
        "print (de) "
      ],
      "execution_count": null,
      "outputs": [
        {
          "output_type": "stream",
          "text": [
            "The deque after extending deque at end is : \n",
            "deque([1, 2, 3, 4, 5, 6])\n",
            "The deque after extending deque at beginning is : \n",
            "deque([9, 8, 7, 1, 2, 3, 4, 5, 6])\n",
            "The deque after rotating deque is : \n",
            "deque([1, 2, 3, 4, 5, 6, 9, 8, 7])\n",
            "The deque after reversing deque is : \n",
            "deque([7, 8, 9, 6, 5, 4, 3, 2, 1])\n"
          ],
          "name": "stdout"
        }
      ]
    },
    {
      "cell_type": "code",
      "metadata": {
        "colab": {
          "base_uri": "https://localhost:8080/"
        },
        "id": "CKibU_nanrjb",
        "outputId": "6b91c142-3aea-41f6-ee36-f5b2335ae6f0"
      },
      "source": [
        "\"\"\" Heap queue (or heapq) in Python\r\n",
        "Heap data structure is mainly used to represent a priority queue. \r\n",
        "In Python, it is available using “heapq” module.\r\n",
        " The property of this data structure in Python is that each time the smallest of heap element is popped(min heap). \r\n",
        "Whenever elements are pushed or popped, heap structure in maintained. \r\n",
        "The heap[0] element also returns the smallest element each time.\"\"\"\r\n",
        "# Building heap structure: https://towardsdatascience.com/data-structure-heap-23d4c78a6962\r\n",
        "\r\n",
        "# heapify(iterable) :- This function is used to convert the iterable into a heap data structure. i.e. in heap order.\r\n",
        "\r\n",
        "# heappush(heap, ele) :- This function is used to insert the element mentioned in its arguments into heap. The order is adjusted, so as heap structure is maintained.\r\n",
        "\r\n",
        "# heappop(heap) :- This function is used to remove and return the smallest element from heap. The order is adjusted, so as heap structure is maintained.\r\n",
        "\r\n",
        "# importing \"heapq\" to implement heap queue \r\n",
        "import heapq \r\n",
        "  \r\n",
        "# initializing list \r\n",
        "li = [5, 7, 9, 1, 3] \r\n",
        "  \r\n",
        "# using heapify to convert list into heap \r\n",
        "heapq.heapify(li) \r\n",
        "  \r\n",
        "# printing created heap \r\n",
        "print (\"The created heap is : \",end=\"\") \r\n",
        "print (list(li)) \r\n",
        "  \r\n",
        "# using heappush() to push elements into heap \r\n",
        "# pushes 4 \r\n",
        "heapq.heappush(li,4) \r\n",
        "  \r\n",
        "# printing modified heap \r\n",
        "print (\"The modified heap after push is : \",end=\"\") \r\n",
        "print (list(li)) \r\n",
        "  \r\n",
        "# using heappop() to pop smallest element \r\n",
        "print (\"The popped and smallest element is : \",end=\"\") \r\n",
        "print (heapq.heappop(li)) "
      ],
      "execution_count": null,
      "outputs": [
        {
          "output_type": "stream",
          "text": [
            "The created heap is : [1, 3, 9, 7, 5]\n",
            "The modified heap after push is : [1, 3, 4, 7, 5, 9]\n",
            "The popped and smallest element is : 1\n"
          ],
          "name": "stdout"
        }
      ]
    },
    {
      "cell_type": "code",
      "metadata": {
        "id": "rJedqNzCnrf2"
      },
      "source": [
        "# heappushpop(heap, ele) :- This function combines the functioning of both push and pop operations in one statement, increasing efficiency. Heap order is maintained after this operation.\r\n",
        "\r\n",
        "# heapreplace(heap, ele) :- This function also inserts and pops element in one statement, but it is different from above function. In this, element is first popped, then the element is pushed.i.e, the value larger than the pushed value can be returned. heapreplace() returns the smallest value originally in heap regardless of the pushed element as opposed to heappushpop().\r\n",
        "# importing \"heapq\" to implement heap queue \r\n",
        "import heapq \r\n",
        "  \r\n",
        "# initializing list 1 \r\n",
        "li1 = [5, 7, 9, 4, 3] \r\n",
        "  \r\n",
        "# initializing list 2 \r\n",
        "li2 = [5, 7, 9, 4, 3] \r\n",
        "  \r\n",
        "# using heapify() to convert list into heap \r\n",
        "heapq.heapify(li1) \r\n",
        "heapq.heapify(li2) "
      ],
      "execution_count": null,
      "outputs": []
    },
    {
      "cell_type": "code",
      "metadata": {
        "id": "17IscmO_nrcU",
        "colab": {
          "base_uri": "https://localhost:8080/"
        },
        "outputId": "f025bf50-bd34-47de-c53a-db8d7b983c33"
      },
      "source": [
        "# nlargest(k, iterable, key = fun) :- This function is used to return the k largest elements from the iterable specified and satisfying the key if mentioned.\r\n",
        "\r\n",
        "# nsmallest(k, iterable, key = fun) :- This function is used to return the k smallest elements from the iterable specified and satisfying the key if mentioned.\r\n",
        "\r\n",
        "# importing \"heapq\" to implement heap queue \r\n",
        "import heapq \r\n",
        "  \r\n",
        "# initializing list  \r\n",
        "li1 = [6, 7, 9, 4, 3, 5, 8, 10, 1] \r\n",
        "  \r\n",
        "# using heapify() to convert list into heap \r\n",
        "heapq.heapify(li1) \r\n",
        "  \r\n",
        "# using nlargest to print 3 largest numbers \r\n",
        "# prints 10, 9 and 8 \r\n",
        "print(\"The 3 largest numbers in list are : \",end=\"\") \r\n",
        "print(heapq.nlargest(3, li1)) \r\n",
        "  \r\n",
        "# using nsmallest to print 3 smallest numbers \r\n",
        "# prints 1, 3 and 4 \r\n",
        "print(\"The 3 smallest numbers in list are : \",end=\"\") \r\n",
        "print(heapq.nsmallest(3, li1)) "
      ],
      "execution_count": null,
      "outputs": [
        {
          "output_type": "stream",
          "text": [
            "The 3 largest numbers in list are : [10, 9, 8]\n",
            "The 3 smallest numbers in list are : [1, 3, 4]\n"
          ],
          "name": "stdout"
        }
      ]
    },
    {
      "cell_type": "code",
      "metadata": {
        "id": "seDWJbA_fCBP"
      },
      "source": [
        ""
      ],
      "execution_count": null,
      "outputs": []
    },
    {
      "cell_type": "code",
      "metadata": {
        "colab": {
          "base_uri": "https://localhost:8080/"
        },
        "id": "Apu6FYlBDhsN",
        "outputId": "630b12ca-e1a1-4174-f727-1de00cc2fac0"
      },
      "source": [
        "\"\"\"If you do not know how many arguments that will be passed into your function, add a * before the parameter name in the function definition.\r\n",
        "This way the function will receive a tuple of arguments, and can access the items accordingly:\"\"\"\r\n",
        "def my_function(*kids):\r\n",
        "  print(\"The youngest child is \" + kids[2])\r\n",
        "my_function(\"Emil\", \"Tobias\", \"Linus\")"
      ],
      "execution_count": null,
      "outputs": [
        {
          "output_type": "stream",
          "text": [
            "The youngest child is Linus\n"
          ],
          "name": "stdout"
        }
      ]
    },
    {
      "cell_type": "code",
      "metadata": {
        "colab": {
          "base_uri": "https://localhost:8080/"
        },
        "id": "ldGOUU1PD5pV",
        "outputId": "30942de9-dd4f-4772-bcda-cdd96f4eaeb4"
      },
      "source": [
        "\"\"\"If you do not know how many keyword arguments that will be passed into your function, add two asterisk: ** before the parameter name in the function definition.\r\n",
        "This way the function will receive a dictionary of arguments, and can access the items accordingly:\"\"\"\r\n",
        "def my_function(**kid):\r\n",
        "  print(\"His last name is \" + kid[\"lname\"])\r\n",
        "my_function(fname = \"Tobias\", lname = \"Refsnes\")"
      ],
      "execution_count": null,
      "outputs": [
        {
          "output_type": "stream",
          "text": [
            "His last name is Refsnes\n"
          ],
          "name": "stdout"
        }
      ]
    },
    {
      "cell_type": "code",
      "metadata": {
        "id": "2-bj0vqjEHYh",
        "colab": {
          "base_uri": "https://localhost:8080/"
        },
        "outputId": "dc4aa74f-c0a3-43be-a027-58759479bd8c"
      },
      "source": [
        "# Passing a list as an argument\r\n",
        "def my_function(food):\r\n",
        "  for x in food:\r\n",
        "    print(x)\r\n",
        "\r\n",
        "fruits = [\"apple\", \"banana\", \"cherry\"]\r\n",
        "my_function(fruits)"
      ],
      "execution_count": null,
      "outputs": [
        {
          "output_type": "stream",
          "text": [
            "apple\n",
            "banana\n",
            "cherry\n"
          ],
          "name": "stdout"
        }
      ]
    },
    {
      "cell_type": "code",
      "metadata": {
        "id": "Q3623irDEUnE",
        "colab": {
          "base_uri": "https://localhost:8080/"
        },
        "outputId": "5b6fcb20-aafc-4719-f516-25a8d325ae02"
      },
      "source": [
        "# Recursion\r\n",
        "def tri_recursion(k):\r\n",
        "  if(k > 0):\r\n",
        "    result = k + tri_recursion(k - 1)\r\n",
        "    print(result)\r\n",
        "  else:\r\n",
        "    result = 0\r\n",
        "  return result\r\n",
        "\r\n",
        "print(\"\\n\\nRecursion Example Results\")\r\n",
        "tri_recursion(6)"
      ],
      "execution_count": null,
      "outputs": [
        {
          "output_type": "stream",
          "text": [
            "\n",
            "\n",
            "Recursion Example Results\n",
            "1\n",
            "3\n",
            "6\n",
            "10\n",
            "15\n",
            "21\n"
          ],
          "name": "stdout"
        },
        {
          "output_type": "execute_result",
          "data": {
            "text/plain": [
              "21"
            ]
          },
          "metadata": {
            "tags": []
          },
          "execution_count": 1
        }
      ]
    },
    {
      "cell_type": "code",
      "metadata": {
        "id": "XbNgHEtREfol",
        "colab": {
          "base_uri": "https://localhost:8080/"
        },
        "outputId": "90c19619-b277-42f5-e357-f3d52e5e3ba9"
      },
      "source": [
        "# Lambda: A lambda function can take any number of arguments, but can only have one expression\r\n",
        "x = lambda a : a + 10\r\n",
        "print(x(5))\r\n",
        "\r\n",
        "x = lambda a, b : a * b\r\n",
        "print(x(5, 6))"
      ],
      "execution_count": null,
      "outputs": [
        {
          "output_type": "stream",
          "text": [
            "15\n",
            "30\n"
          ],
          "name": "stdout"
        }
      ]
    },
    {
      "cell_type": "code",
      "metadata": {
        "colab": {
          "base_uri": "https://localhost:8080/"
        },
        "id": "R_LOMHOAFRoV",
        "outputId": "8968b827-ef68-4286-d772-239f59c8c7ca"
      },
      "source": [
        "def myfunc(n):\r\n",
        "  return lambda a : a * n\r\n",
        "\r\n",
        "mydoubler = myfunc(2)\r\n",
        "\r\n",
        "print(mydoubler(11))\r\n",
        "print(myfunc(2))"
      ],
      "execution_count": null,
      "outputs": [
        {
          "output_type": "stream",
          "text": [
            "22\n",
            "<function myfunc.<locals>.<lambda> at 0x7efd037957b8>\n"
          ],
          "name": "stdout"
        }
      ]
    },
    {
      "cell_type": "code",
      "metadata": {
        "colab": {
          "base_uri": "https://localhost:8080/"
        },
        "id": "uoq8Qmjf0WZ8",
        "outputId": "63444056-b8ac-4930-98b7-f8bf2e7f6682"
      },
      "source": [
        "thisdict = {\r\n",
        "  \"brand\": \"Ford\",\r\n",
        "  \"model\": \"Mustang\",\r\n",
        "  \"year\": 1964\r\n",
        "}\r\n",
        "\r\n",
        "print(thisdict[\"model\"])\r\n",
        "print(thisdict.get(\"model\"))\r\n",
        "print(thisdict.keys())\r\n",
        "print(thisdict.values())\r\n",
        "print(thisdict.items())\r\n",
        "\r\n",
        "thisdict.update({\"year\": 2020}) #update values for keys\r\n",
        "print(thisdict)\r\n",
        "\r\n",
        "thisdict[\"year\"] = 2018\r\n",
        "print(thisdict)\r\n",
        "\r\n",
        "thisdict.update({\"color\": \"red\"})\r\n",
        "print(thisdict)\r\n",
        "\r\n",
        "thisdict.pop(\"model\") # Remove item with the mentioned key name\r\n",
        "print(thisdict)\r\n",
        "\r\n",
        "thisdict.popitem() # Removes the last inserted item\r\n",
        "print(thisdict)"
      ],
      "execution_count": null,
      "outputs": [
        {
          "output_type": "stream",
          "text": [
            "Mustang\n",
            "Mustang\n",
            "dict_keys(['brand', 'model', 'year'])\n",
            "dict_values(['Ford', 'Mustang', 1964])\n",
            "dict_items([('brand', 'Ford'), ('model', 'Mustang'), ('year', 1964)])\n",
            "{'brand': 'Ford', 'model': 'Mustang', 'year': 2020}\n",
            "{'brand': 'Ford', 'model': 'Mustang', 'year': 2018}\n",
            "{'brand': 'Ford', 'model': 'Mustang', 'year': 2018, 'color': 'red'}\n",
            "{'brand': 'Ford', 'year': 2018, 'color': 'red'}\n",
            "{'brand': 'Ford', 'year': 2018}\n"
          ],
          "name": "stdout"
        }
      ]
    },
    {
      "cell_type": "code",
      "metadata": {
        "colab": {
          "base_uri": "https://localhost:8080/"
        },
        "id": "pJ7azfWD7S31",
        "outputId": "21754e13-08bd-4c0b-9537-f62194e8903d"
      },
      "source": [
        "for x in thisdict:\r\n",
        "  print(thisdict[x])"
      ],
      "execution_count": null,
      "outputs": [
        {
          "output_type": "stream",
          "text": [
            "Ford\n",
            "2018\n"
          ],
          "name": "stdout"
        }
      ]
    },
    {
      "cell_type": "code",
      "metadata": {
        "colab": {
          "base_uri": "https://localhost:8080/"
        },
        "id": "blF0r23I7WKd",
        "outputId": "e9a5a334-301f-4756-b5e2-760ad967baaa"
      },
      "source": [
        "for x in thisdict.values():\r\n",
        "  print(x)"
      ],
      "execution_count": null,
      "outputs": [
        {
          "output_type": "stream",
          "text": [
            "Ford\n",
            "2018\n"
          ],
          "name": "stdout"
        }
      ]
    },
    {
      "cell_type": "code",
      "metadata": {
        "colab": {
          "base_uri": "https://localhost:8080/"
        },
        "id": "Ihl4HZ6e7ZAH",
        "outputId": "238ba1f6-4605-4c2e-f4ae-bb94dbcdcd47"
      },
      "source": [
        "for x in thisdict.keys():\r\n",
        "  print(x)"
      ],
      "execution_count": null,
      "outputs": [
        {
          "output_type": "stream",
          "text": [
            "brand\n",
            "year\n"
          ],
          "name": "stdout"
        }
      ]
    },
    {
      "cell_type": "code",
      "metadata": {
        "colab": {
          "base_uri": "https://localhost:8080/"
        },
        "id": "uxtOMxGT7a5u",
        "outputId": "428ca194-f603-411a-edbd-fd98dcee4d7e"
      },
      "source": [
        "for x, y in thisdict.items():\r\n",
        "  print(x, y)"
      ],
      "execution_count": null,
      "outputs": [
        {
          "output_type": "stream",
          "text": [
            "brand Ford\n",
            "year 2018\n"
          ],
          "name": "stdout"
        }
      ]
    },
    {
      "cell_type": "code",
      "metadata": {
        "colab": {
          "base_uri": "https://localhost:8080/"
        },
        "id": "iaUnGBuf81rd",
        "outputId": "5fcfe909-f4cd-4c95-afbb-2b2bf7ddae0f"
      },
      "source": [
        "myfamily = {\r\n",
        "  \"child1\" : {\r\n",
        "    \"name\" : \"Emil\",\r\n",
        "    \"year\" : 2004\r\n",
        "  },\r\n",
        "  \"child2\" : {\r\n",
        "    \"name\" : \"Tobias\",\r\n",
        "    \"year\" : 2007\r\n",
        "  },\r\n",
        "  \"child3\" : {\r\n",
        "    \"name\" : \"Linus\",\r\n",
        "    \"year\" : 2011\r\n",
        "  }\r\n",
        "}\r\n",
        "print(myfamily[\"child1\"]['year'])\r\n",
        "print(myfamily[\"child1\"])"
      ],
      "execution_count": null,
      "outputs": [
        {
          "output_type": "stream",
          "text": [
            "2004\n",
            "{'name': 'Emil', 'year': 2004}\n"
          ],
          "name": "stdout"
        }
      ]
    },
    {
      "cell_type": "code",
      "metadata": {
        "colab": {
          "base_uri": "https://localhost:8080/"
        },
        "id": "tSFXYj1j83am",
        "outputId": "6a88c5eb-7c53-4e2f-ac6f-6dbb4c8a0d34"
      },
      "source": [
        "List = ['G','E','E','K','S','F', 'O','R','G','E','E','K','S']\r\n",
        "print(\"\\nPrinting List in reverse: \",List[::-1]) "
      ],
      "execution_count": null,
      "outputs": [
        {
          "output_type": "stream",
          "text": [
            "\n",
            "Printing List in reverse:  ['S', 'K', 'E', 'E', 'G', 'R', 'O', 'F', 'S', 'K', 'E', 'E', 'G']\n"
          ],
          "name": "stdout"
        }
      ]
    },
    {
      "cell_type": "code",
      "metadata": {
        "colab": {
          "base_uri": "https://localhost:8080/"
        },
        "id": "3eo-sBAj6lwG",
        "outputId": "bbcb0a57-7c34-44a5-890b-4cb0d72f97d4"
      },
      "source": [
        "### Operators in Python https://www.geeksforgeeks.org/python-operators/\r\n",
        "\r\n",
        "print(\"Floor division: \",124 // 100)\r\n",
        "print(\"Floor division: \",124 // 10)  \r\n",
        "\r\n",
        "print(\"Modulus or Remainder: \",124 % 10)  \r\n",
        "print(\"Modulus or Remainder: \",124 % 3)  \r\n",
        "\r\n",
        "print(\"Exponentiation: \",7 ** 3)  \r\n",
        "\r\n",
        "print('We have %2d %s containing %.2f gallons of %s' %(2, 'bottles', 2.5, 'milk'))\r\n",
        "\r\n",
        "print(\"Ternanry operator\")\r\n",
        "a, b = 10, 20\r\n",
        "min = a if a < b else b \r\n",
        "print(min) \r\n",
        "print((lambda: b, lambda: a)[a < b]()) #Format: (if condition is False, if condition is True)\r\n",
        "\r\n",
        "print(\"concatenate 2 strings: \",\"Geeks\"+\"For\")\r\n",
        "print(\"Repeat the String: \",\"Geeks\"*4)"
      ],
      "execution_count": null,
      "outputs": [
        {
          "output_type": "stream",
          "text": [
            "Floor division:  1\n",
            "Floor division:  12\n",
            "Modulus or Remainder:  4\n",
            "Modulus or Remainder:  1\n",
            "Exponentiation:  343\n",
            "We have  2 bottles containing 2.50 gallons of milk\n",
            "Ternanry operator\n",
            "10\n",
            "10\n",
            "concatenate 2 strings:  GeeksFor\n",
            "Repeat the String:  GeeksGeeksGeeksGeeks\n"
          ],
          "name": "stdout"
        }
      ]
    },
    {
      "cell_type": "code",
      "metadata": {
        "id": "ip1n3foW6pZ_",
        "colab": {
          "base_uri": "https://localhost:8080/"
        },
        "outputId": "36786b00-1e49-43b1-f389-3c86a094bbb7"
      },
      "source": [
        "# simple ifelse statement\r\n",
        "def __gt__(self, other): \r\n",
        "    if(self.a>other.a): \r\n",
        "        return True\r\n",
        "    else: \r\n",
        "        return False\r\n",
        "\r\n",
        "print(\"Any Returns true if any of the items is True\",any([False, False, False, False]))\r\n",
        "print(\"Any Returns true if any of the items is True\",any([False, True, False, False]))\r\n",
        "\r\n",
        "print(\"All Returns true if all of the items are True\",any([False, True, False, False]))\r\n",
        "print(\"All Returns true if all of the items are True\",all([True, True, True, True]))\r\n",
        "\r\n",
        "print(str(3))\r\n",
        "print(int(3))\r\n",
        "print(float(3))\r\n",
        "\r\n",
        "print(\"Multi word naming\")\r\n",
        "print(\"Camel Case:Each word, except the first, starts with a capital letter:\",\"myVariableName\")\r\n",
        "print(\"Pascal Case:Each word starts with a capital letter:\",\"MyVariableName\")\r\n",
        "print(\"Snake Case:Each word is separated by an underscore character:\",\"my_variable_name\")"
      ],
      "execution_count": null,
      "outputs": [
        {
          "output_type": "stream",
          "text": [
            "Any Returns true if any of the items is True False\n",
            "Any Returns true if any of the items is True True\n",
            "All Returns true if all of the items are True True\n",
            "All Returns true if all of the items are True True\n",
            "3\n",
            "3\n",
            "3.0\n",
            "Multi word naming\n",
            "Camel Case:Each word, except the first, starts with a capital letter: myVariableName\n",
            "Pascal Case:Each word starts with a capital letter: MyVariableName\n",
            "Snake Case:Each word is separated by an underscore character: my_variable_name\n"
          ],
          "name": "stdout"
        }
      ]
    },
    {
      "cell_type": "code",
      "metadata": {
        "id": "jL_TKW-d6pRI",
        "colab": {
          "base_uri": "https://localhost:8080/"
        },
        "outputId": "38d53ef2-f06b-4cd6-e93e-7b3e46e4bd0b"
      },
      "source": [
        "import datetime\r\n",
        "\r\n",
        "x = datetime.datetime.now()\r\n",
        "print(x)\r\n",
        "print(x.year)\r\n",
        "print(x.strftime(\"%A\"))"
      ],
      "execution_count": null,
      "outputs": [
        {
          "output_type": "stream",
          "text": [
            "2020-12-23 02:20:59.377813\n",
            "2020\n",
            "Wednesday\n"
          ],
          "name": "stdout"
        }
      ]
    },
    {
      "cell_type": "code",
      "metadata": {
        "id": "jfW8o39n6pFP"
      },
      "source": [
        ""
      ],
      "execution_count": null,
      "outputs": []
    },
    {
      "cell_type": "code",
      "metadata": {
        "id": "DD2B6a7zj7Cy",
        "colab": {
          "base_uri": "https://localhost:8080/"
        },
        "outputId": "9eca0cb6-7394-4f5a-c6ba-01390c841968"
      },
      "source": [
        "### Regular Expressions\r\n",
        "s1 = 'Python is an excellent language'\r\n",
        "s2 = 'I love the Python language. I also use Python to build applications at work!'\r\n",
        "\r\n",
        "import re\r\n",
        "pattern = 'python'\r\n",
        "# match only returns a match if regex match is found at the beginning of the string\r\n",
        "re.match(pattern, s1)\r\n",
        "\r\n",
        "# pattern is in lower case hence ignore case flag helps\r\n",
        "# in matching same pattern with different cases\r\n",
        "re.match(pattern, s1, flags=re.IGNORECASE)\r\n",
        "\r\n",
        "# printing matched string and its indices in the original string\r\n",
        "m = re.match(pattern, s1, flags=re.IGNORECASE)\r\n",
        "print('Found match {} ranging from index {} - {} in the string \"{}\"'.format(m.group(0), \r\n",
        "                                                                            m.start(), \r\n",
        "                                                                            m.end(), s1))\r\n",
        "                                                                            \r\n",
        "# match does not work when pattern is not there in the beginning of string s2\r\n",
        "re.match(pattern, s2, re.IGNORECASE)"
      ],
      "execution_count": null,
      "outputs": [
        {
          "output_type": "stream",
          "text": [
            "Found match Python ranging from index 0 - 6 in the string \"Python is an excellent language\"\n"
          ],
          "name": "stdout"
        }
      ]
    },
    {
      "cell_type": "code",
      "metadata": {
        "id": "thb3h8fbkes8",
        "colab": {
          "base_uri": "https://localhost:8080/"
        },
        "outputId": "929a268e-2d6c-40cf-c92d-9bf09db2f651"
      },
      "source": [
        "name = \"Rolf\"\r\n",
        "\r\n",
        "print(name)\r\n",
        "print(name * 2)"
      ],
      "execution_count": null,
      "outputs": [
        {
          "output_type": "stream",
          "text": [
            "Rolf\n",
            "RolfRolf\n"
          ],
          "name": "stdout"
        }
      ]
    },
    {
      "cell_type": "code",
      "metadata": {
        "id": "UQef3JTrRYyg",
        "colab": {
          "base_uri": "https://localhost:8080/"
        },
        "outputId": "c543718a-c839-4dfe-983a-2d3da294f622"
      },
      "source": [
        "print(\" f-strings are used to use dynamic variables \")\n",
        "\n",
        "name = \"Sandy\"\n",
        "print(f\"Hello, {name}\")"
      ],
      "execution_count": null,
      "outputs": [
        {
          "output_type": "stream",
          "text": [
            " f-strings are used to use dynamic variables \n",
            "Hello, Sandy\n"
          ],
          "name": "stdout"
        }
      ]
    },
    {
      "cell_type": "code",
      "metadata": {
        "id": "6N4CIxGOkkQW",
        "colab": {
          "base_uri": "https://localhost:8080/"
        },
        "outputId": "597f1fcf-e02d-41c5-dc17-adbc34483ba9"
      },
      "source": [
        "print(\"Use format function\")\n",
        "name = \"Sandhya\"\n",
        "print(\"Hello, {}\".format(name))\n",
        "print(\"Hello, {}\".format(\"Aparna\"))"
      ],
      "execution_count": null,
      "outputs": [
        {
          "output_type": "stream",
          "text": [
            "Use format function\n",
            "Hello, Sandhya\n",
            "Hello, Aparna\n"
          ],
          "name": "stdout"
        }
      ]
    },
    {
      "cell_type": "code",
      "metadata": {
        "id": "EfA2JULIklTD",
        "colab": {
          "base_uri": "https://localhost:8080/"
        },
        "outputId": "b2323424-de85-4ba0-b800-ddb637d317fa"
      },
      "source": [
        "print(\"Use 2 dynamic variables\")\n",
        "print(\"Hello {} {}\".format(\"Sandhya\",\"Aparna\"))"
      ],
      "execution_count": null,
      "outputs": [
        {
          "output_type": "stream",
          "text": [
            "Use 2 dynamic variables\n",
            "Hello Sandhya Aparna\n"
          ],
          "name": "stdout"
        }
      ]
    },
    {
      "cell_type": "code",
      "metadata": {
        "id": "crWXH5KSkloG",
        "colab": {
          "base_uri": "https://localhost:8080/"
        },
        "outputId": "a5791762-dbf5-430c-982e-4dd22c2aba62"
      },
      "source": [
        "print(\"Based on user input -  Strings\")\n",
        "name = input(\"What is your name? : \")\n",
        "print(\"Hello {}\".format(name))"
      ],
      "execution_count": null,
      "outputs": [
        {
          "output_type": "stream",
          "text": [
            "Based on user input -  Strings\n",
            "What is your name? : sandy\n",
            "Hello sandy\n"
          ],
          "name": "stdout"
        }
      ]
    },
    {
      "cell_type": "code",
      "metadata": {
        "colab": {
          "base_uri": "https://localhost:8080/"
        },
        "id": "L7AQTSx9BTDf",
        "outputId": "3e56d3a3-f6ee-48c8-c7b1-8a155e7b8a52"
      },
      "source": [
        "# Multiple inputs: split(), numbers are inputed using space\r\n",
        "x, y = input(\"Enter a two value: \").split()\r\n",
        "print(\"Number of boys: \", x)\r\n",
        "print(\"Number of girls: \", y)\r\n"
      ],
      "execution_count": null,
      "outputs": [
        {
          "output_type": "stream",
          "text": [
            "Enter a two value: 2 3\n",
            "Number of boys:  2\n",
            "Number of girls:  3\n"
          ],
          "name": "stdout"
        }
      ]
    },
    {
      "cell_type": "code",
      "metadata": {
        "colab": {
          "base_uri": "https://localhost:8080/"
        },
        "id": "zCEeLXh5k2JU",
        "outputId": "bf805675-16d5-49f0-ba7f-43baa7237f5e"
      },
      "source": [
        "### New Style - To combine string & numbers\r\n",
        "print('Hello {} {}, it is a great {} to meet you at {}'.format('Mr.', 'Jones', 'pleasure', 5))\r\n",
        "print('Hello {} {}, it is a great {} to meet you at {} o\\' clock'.format('Sir', 'Arthur', 'honor', 9))\r\n",
        "print('I have a {food_item} and a {drink_item} with me'.format(drink_item='soda', food_item='sandwich'))\r\n",
        "print('The {animal} has the following attributes: {attributes}'.format(animal='dog', attributes=['lazy', 'loyal']))"
      ],
      "execution_count": null,
      "outputs": [
        {
          "output_type": "stream",
          "text": [
            "Hello Mr. Jones, it is a great pleasure to meet you at 5\n",
            "Hello Sir Arthur, it is a great honor to meet you at 9 o' clock\n",
            "I have a sandwich and a soda with me\n",
            "The dog has the following attributes: ['lazy', 'loyal']\n"
          ],
          "name": "stdout"
        }
      ]
    },
    {
      "cell_type": "code",
      "metadata": {
        "id": "yIzId0Izklhq",
        "colab": {
          "base_uri": "https://localhost:8080/"
        },
        "outputId": "b8ec2d82-e67b-4e22-fbcb-f44aa566120f"
      },
      "source": [
        "print(\"Based on user input -  Numeric\")\n",
        "size = input(\"What is size of your house in sq ft : \") # Taken as string\n",
        "print(\"Sq meters =\",float(size)/10.8)"
      ],
      "execution_count": null,
      "outputs": [
        {
          "output_type": "stream",
          "text": [
            "Based on user input -  Numeric\n",
            "What is size of your house in sq ft : 45\n",
            "Sq meters = 4.166666666666666\n"
          ],
          "name": "stdout"
        }
      ]
    },
    {
      "cell_type": "code",
      "metadata": {
        "id": "lmDQqJP5klNV",
        "colab": {
          "base_uri": "https://localhost:8080/"
        },
        "outputId": "5f56441c-b71d-42e8-8490-2bddaa42783a"
      },
      "source": [
        "print(\"Restrict decimal places\")\n",
        "size = input(\"What is size of your house in sq ft : \")\n",
        "x = float(size)/10.8\n",
        "print(f\"Sq meters = {x:.2f}\")"
      ],
      "execution_count": null,
      "outputs": [
        {
          "output_type": "stream",
          "text": [
            "Restrict decimal places\n",
            "What is size of your house in sq ft : 76\n",
            "Sq meters = 7.04\n"
          ],
          "name": "stdout"
        }
      ]
    },
    {
      "cell_type": "code",
      "metadata": {
        "id": "XzLr4lMiklI_",
        "colab": {
          "base_uri": "https://localhost:8080/"
        },
        "outputId": "ad6b1da8-b0f5-4160-cf3e-e6b01ad30cd3"
      },
      "source": [
        "print(\"Restrict decimal places -Without creating a variable\")\n",
        "size = float(input(\"What is size of your house in sq ft : \"))\n",
        "print(f\"Sq meters = {size/10.8:.2f}\")"
      ],
      "execution_count": null,
      "outputs": [
        {
          "output_type": "stream",
          "text": [
            "Restrict decimal places -Without creating a variable\n",
            "What is size of your house in sq ft : 977\n",
            "Sq meters = 90.46\n"
          ],
          "name": "stdout"
        }
      ]
    },
    {
      "cell_type": "code",
      "metadata": {
        "colab": {
          "base_uri": "https://localhost:8080/"
        },
        "id": "dxNtJMVRlGZ0",
        "outputId": "edd2bee9-02c0-4adc-ca56-36d18373c777"
      },
      "source": [
        "### Old style\r\n",
        "print('We have %d %s containing %.2f gallons of %s' %(2, 'bottles', 2.5, 'milk'))\r\n",
        "print('We have %d %s containing %.2f gallons of %s' %(5.21, 'jugs', 10.86763, 'juice'))"
      ],
      "execution_count": null,
      "outputs": [
        {
          "output_type": "stream",
          "text": [
            "We have 2 bottles containing 2.50 gallons of milk\n",
            "We have 5 jugs containing 10.87 gallons of juice\n"
          ],
          "name": "stdout"
        }
      ]
    },
    {
      "cell_type": "markdown",
      "metadata": {
        "id": "pmdjK6hVw-Vk"
      },
      "source": [
        "Difference between a list, a set, and a tuple.\r\n",
        "* Lists are enclosed in brackets: l = [1, 2, \"a\"]\r\n",
        "* Tuples are enclosed in parentheses: t = (1, 2, \"a\") - Tuples are faster and consume less memory. \r\n",
        "* Dictionaries are built with curly brackets:d = {\"a\":1, \"b\":2} - To initialize dict use dict() or {}\r\n",
        "* Sets are made using the set() builtin function - To initialize empty set using set function"
      ]
    },
    {
      "cell_type": "code",
      "metadata": {
        "id": "8WxfCMYPklEX",
        "colab": {
          "base_uri": "https://localhost:8080/"
        },
        "outputId": "581c34b1-38ee-459d-b8fe-359d52fb599a"
      },
      "source": [
        "list = [\"A\",\"B\",\"C\"] # Order is maintained\n",
        "Tuple = (\"A\",\"B\",\"C\") # Cannot add elements to Tuples or elements cannot be modified; Order is maintained\n",
        "Set = {\"A\",\"B\",\"C\"} # Set cannot have duplicate values, Order may or maynot be maintained\n",
        "\n",
        "print(list[0])\n",
        "print(Tuple[0])\n",
        "# print(set[0]) # Wrong becoz order is not maintained\n",
        "\n",
        "list[0] = \"E\" #One of its element can be modified\n",
        "print(list)\n",
        "# Tuple[0] = \"S\"  # This gives an error because tuples are \"immutable\". Tuples cannot be appended to because they are immutable.\n",
        "\n",
        "list.append(\"D\") #Adds at the end\n",
        "print(list)\n",
        "list.remove(\"B\")\n",
        "print(list)\n",
        "# Tuple[0] = \"D\" # Wrong becoz u cannot modify Tuple\n",
        "list.insert(1,\"B\") # Insert at index=1\n",
        "print(list)\n",
        "\n",
        "Set.add(\"D\")\n",
        "print(Set)"
      ],
      "execution_count": null,
      "outputs": [
        {
          "output_type": "stream",
          "text": [
            "A\n",
            "A\n",
            "['E', 'B', 'C']\n",
            "['E', 'B', 'C', 'D']\n",
            "['E', 'C', 'D']\n",
            "['E', 'B', 'C', 'D']\n",
            "{'C', 'D', 'B', 'A'}\n"
          ],
          "name": "stdout"
        }
      ]
    },
    {
      "cell_type": "code",
      "metadata": {
        "id": "SPSqOzFaxGwT",
        "colab": {
          "base_uri": "https://localhost:8080/"
        },
        "outputId": "1170fd40-cda3-4809-ab82-5c365af11163"
      },
      "source": [
        "# -- Comparisons --\r\n",
        "print(5 == 5)  # True\r\n",
        "print(5 > 5)  # False\r\n",
        "print(10 != 10)  # False\r\n",
        "\r\n",
        "print(\"Comparisons operators: ==, !=, >, <, >=, <=\")"
      ],
      "execution_count": null,
      "outputs": [
        {
          "output_type": "stream",
          "text": [
            "True\n",
            "False\n",
            "False\n",
            "Comparisons operators: ==, !=, >, <, >=, <=\n"
          ],
          "name": "stdout"
        }
      ]
    },
    {
      "cell_type": "code",
      "metadata": {
        "id": "IHQDGeGKxGs9",
        "colab": {
          "base_uri": "https://localhost:8080/"
        },
        "outputId": "5eb5fb65-8921-4a93-d604-4a6888799df5"
      },
      "source": [
        "print(\"if else statement\")\n",
        "x = input(\"give a value to x:\")\n",
        "\n",
        "if x=='5':   # if x in {'4','5','6'}\n",
        "  print(f\"it is {x}\")\n",
        "elif x=='10':\n",
        "  print(f\"it is ({x}/2)\")\n",
        "else:\n",
        "  print(\"Nothing\")\n",
        "  \n",
        "day_of_week = input(\"What day of the week is it today? \").lower()\n",
        "if day_of_week == \"monday\":\n",
        "    print(\"Have a great start to your week!\")\n",
        "elif day_of_week == \"friday\":\n",
        "    print(\"It's ok to finish a bit early!\")\n",
        "else:\n",
        "    print(\"Full speed ahead!\")"
      ],
      "execution_count": null,
      "outputs": [
        {
          "output_type": "stream",
          "text": [
            "if else statement\n",
            "give a value to x:7\n",
            "Nothing\n",
            "What day of the week is it today? monday\n",
            "Have a great start to your week!\n"
          ],
          "name": "stdout"
        }
      ]
    },
    {
      "cell_type": "code",
      "metadata": {
        "colab": {
          "base_uri": "https://localhost:8080/"
        },
        "id": "wt4mO2B_0evS",
        "outputId": "7cd2f565-d29e-4c1e-e4d5-1035fed28a0b"
      },
      "source": [
        "number = 7\r\n",
        "user_input = input(\"Enter 'y' if you would like to play: \")\r\n",
        "\r\n",
        "if user_input.lower() == \"y\":\r\n",
        "    user_number = int(input(\"Guess our number: \"))\r\n",
        "    if user_number == number:\r\n",
        "        print(\"You guessed correctly!\")\r\n",
        "    elif abs(number - user_number) == 1:\r\n",
        "        print(\"You were off by 1.\")\r\n",
        "    else:\r\n",
        "        print(\"Sorry, it's wrong!\")"
      ],
      "execution_count": null,
      "outputs": [
        {
          "output_type": "stream",
          "text": [
            "Enter 'y' if you would like to play: y\n",
            "Guess our number: 7\n",
            "You guessed correctly!\n"
          ],
          "name": "stdout"
        }
      ]
    },
    {
      "cell_type": "markdown",
      "metadata": {
        "id": "9SuxwqFh09HU"
      },
      "source": [
        "Loops in Python\r\n",
        "* While loop - With the while loop we can execute a set of statements as long as a condition is true - https://www.w3schools.com/python/python_while_loops.asp </br>\r\n",
        "https://healthedge.udemy.com/course/rest-api-flask-and-python/learn/lecture/5960068#overview </br>\r\n",
        "  * Break, continue, else statements - https://www.w3schools.com/python/python_for_loops.asp \r\n",
        "    \r\n",
        "Return error and keep continuing in for loop \r\n",
        "https://www.digitalocean.com/community/tutorials/how-to-use-break-continue-and-pass-statements-when-working-with-loops-in-python-3\r\n"
      ]
    },
    {
      "cell_type": "code",
      "metadata": {
        "colab": {
          "base_uri": "https://localhost:8080/"
        },
        "id": "7DMm4LFz13gU",
        "outputId": "80d39b7f-9e0d-41e0-b031-5c3fe8843f30"
      },
      "source": [
        "# -- While loop --\r\n",
        "\r\n",
        "number = 7\r\n",
        "play = input(\"Would you like to play? (Y/n) \")\r\n",
        "\r\n",
        "while play != \"n\":\r\n",
        "    user_number = int(input(\"Guess our number: \"))\r\n",
        "    if user_number == number:\r\n",
        "        print(\"You guessed correctly!\")\r\n",
        "    elif abs(number - user_number) == 1:\r\n",
        "        print(\"You were off by 1.\")\r\n",
        "    else:\r\n",
        "        print(\"Sorry, it's wrong!\")\r\n",
        "\r\n",
        "    play = input(\"Would you like to play? (Y/n) \")\r\n"
      ],
      "execution_count": null,
      "outputs": [
        {
          "output_type": "stream",
          "text": [
            "Would you like to play? (Y/n) n\n"
          ],
          "name": "stdout"
        }
      ]
    },
    {
      "cell_type": "code",
      "metadata": {
        "colab": {
          "base_uri": "https://localhost:8080/"
        },
        "id": "iIQUvqtB2Hzl",
        "outputId": "571393b4-b4e9-4ad5-8457-9c3a8b12438b"
      },
      "source": [
        "# -- The break keyword --\r\n",
        "\r\n",
        "while True:\r\n",
        "    play = input(\"Would you like to play? (Y/n) \")\r\n",
        "\r\n",
        "    if play == \"n\":\r\n",
        "        break  # Exit the loop\r\n",
        "\r\n",
        "    user_number = int(input(\"Guess our number: \"))\r\n",
        "    if user_number == number:\r\n",
        "        print(\"You guessed correctly!\")\r\n",
        "    elif abs(number - user_number) == 1:\r\n",
        "        print(\"You were off by 1.\")\r\n",
        "    else:\r\n",
        "        print(\"Sorry, it's wrong!\")"
      ],
      "execution_count": null,
      "outputs": [
        {
          "output_type": "stream",
          "text": [
            "Would you like to play? (Y/n) n\n"
          ],
          "name": "stdout"
        }
      ]
    },
    {
      "cell_type": "code",
      "metadata": {
        "id": "J6qt-I_2xGe9",
        "colab": {
          "base_uri": "https://localhost:8080/"
        },
        "outputId": "7a95287b-2838-4cc6-c683-aff9acd658da"
      },
      "source": [
        "# -- For loop --\n",
        "friends = [\"Rolf\", \"Jen\", \"Bob\", \"Anne\"]\n",
        "for friend in friends:\n",
        "    print(f\"{friend} is my friend.\")"
      ],
      "execution_count": null,
      "outputs": [
        {
          "output_type": "stream",
          "text": [
            "Rolf is my friend.\n",
            "Jen is my friend.\n",
            "Bob is my friend.\n",
            "Anne is my friend.\n"
          ],
          "name": "stdout"
        }
      ]
    },
    {
      "cell_type": "code",
      "metadata": {
        "id": "baEgZaO_OtGF",
        "colab": {
          "base_uri": "https://localhost:8080/"
        },
        "outputId": "ec8f5fad-5a7b-4174-bd57-3c704e190374"
      },
      "source": [
        "# -- For loop 2 -- Average\n",
        "grades = [35, 67, 98, 100, 100]\n",
        "total = 0\n",
        "amount = len(grades)\n",
        "\n",
        "for grade in grades:\n",
        "    total += grade\n",
        "\n",
        "print(total)\n",
        "print(total / amount)"
      ],
      "execution_count": null,
      "outputs": [
        {
          "output_type": "stream",
          "text": [
            "400\n",
            "80.0\n"
          ],
          "name": "stdout"
        }
      ]
    },
    {
      "cell_type": "code",
      "metadata": {
        "id": "D82VEKCUPWnY",
        "colab": {
          "base_uri": "https://localhost:8080/"
        },
        "outputId": "ef595363-d250-4511-eb82-cab9f2418c1f"
      },
      "source": [
        "# -- Rewritten using sum() --\r\n",
        "grades = [35, 67, 98, 100, 100]\r\n",
        "total = sum(grades)\r\n",
        "amount = len(grades)\r\n",
        "print(total)\r\n",
        "print(total / amount)"
      ],
      "execution_count": null,
      "outputs": [
        {
          "output_type": "stream",
          "text": [
            "400\n",
            "80.0\n"
          ],
          "name": "stdout"
        }
      ]
    },
    {
      "cell_type": "code",
      "metadata": {
        "id": "wYd9LS7B7U96",
        "colab": {
          "base_uri": "https://localhost:8080/"
        },
        "outputId": "ce4e9ba9-0b09-43d9-f494-fe7d14e3bfec"
      },
      "source": [
        "print(\"List Comprehension\")\n",
        "numbers = [1,3,5]\n",
        "doubled = [x*2 for x in numbers]\n",
        "doubled"
      ],
      "execution_count": null,
      "outputs": [
        {
          "output_type": "stream",
          "text": [
            "List Comprehension\n"
          ],
          "name": "stdout"
        },
        {
          "output_type": "execute_result",
          "data": {
            "text/plain": [
              "[2, 6, 10]"
            ]
          },
          "metadata": {
            "tags": []
          },
          "execution_count": 68
        }
      ]
    },
    {
      "cell_type": "code",
      "metadata": {
        "id": "yw8fApd37VAw",
        "colab": {
          "base_uri": "https://localhost:8080/"
        },
        "outputId": "dddaada9-e231-4e5a-83ef-6209dbabf43b"
      },
      "source": [
        "print(\"Extract words that start with S in the list\")\n",
        "friends = [\"Roy\" , \"Sandy\" , \"Sam\" ,\"Gau\"]\n",
        "starts_s = [x for x in friends if x.startswith(\"S\")]\n",
        "starts_s"
      ],
      "execution_count": null,
      "outputs": [
        {
          "output_type": "stream",
          "text": [
            "Extract words that start with S in the list\n"
          ],
          "name": "stdout"
        },
        {
          "output_type": "execute_result",
          "data": {
            "text/plain": [
              "['Sandy', 'Sam']"
            ]
          },
          "metadata": {
            "tags": []
          },
          "execution_count": 69
        }
      ]
    },
    {
      "cell_type": "code",
      "metadata": {
        "id": "XAZzoRUd7VD-",
        "colab": {
          "base_uri": "https://localhost:8080/"
        },
        "outputId": "51ffcc33-1903-41c7-ea6d-2ee0af9bcfdf"
      },
      "source": [
        "print(\"Dictionaries\")\n",
        "friend_ages = {\"Rolf\":24, \"Sandy\":27, \"Sam\": 30}\n",
        "print(friend_ages[\"Sandy\"])\n",
        "\n",
        "friend_ages[\"Bob\"] =25 #Modify or add an element to the dictionary"
      ],
      "execution_count": null,
      "outputs": [
        {
          "output_type": "stream",
          "text": [
            "Dictionaries\n",
            "27\n"
          ],
          "name": "stdout"
        }
      ]
    },
    {
      "cell_type": "code",
      "metadata": {
        "colab": {
          "base_uri": "https://localhost:8080/"
        },
        "id": "6mDWHeb4Oz5R",
        "outputId": "338c067e-cfd2-45a1-e883-ef1c545dd6fb"
      },
      "source": [
        "student = {'name':'Jose', 'school':'Computing','grades':(66, 77, 88)}\r\n",
        "\r\n",
        "# Assume the argument, data, is a dictionary.\r\n",
        "# Modify the grades variable so it accesses the 'grades' key of the data dictionary.\r\n",
        "def average_grade(data):\r\n",
        "    grades = data['grades']\r\n",
        "    return sum(grades) / len(grades)\r\n",
        "\r\n",
        "average_grade(student)\r\n"
      ],
      "execution_count": null,
      "outputs": [
        {
          "output_type": "execute_result",
          "data": {
            "text/plain": [
              "77.0"
            ]
          },
          "metadata": {
            "tags": []
          },
          "execution_count": 71
        }
      ]
    },
    {
      "cell_type": "code",
      "metadata": {
        "id": "1nY-fifbPxCi"
      },
      "source": [
        "def average_grade_all_students(student_list):\r\n",
        "    total = 0\r\n",
        "    count = 0\r\n",
        "    for student in student_list:\r\n",
        "        grades = student['grades']\r\n",
        "        count += len(grades)\r\n",
        "        total += sum(grades)\r\n",
        "\r\n",
        "    return total / count"
      ],
      "execution_count": null,
      "outputs": []
    },
    {
      "cell_type": "code",
      "metadata": {
        "id": "akqhBM4r7VHC",
        "colab": {
          "base_uri": "https://localhost:8080/",
          "height": 35
        },
        "outputId": "6311cdfa-b8f5-4bec-a2b9-d8ff51e496e9"
      },
      "source": [
        "friends = [\n",
        "           {\"name\": \"Rolf\", \"age\": 24},\n",
        "           {\"name\": \"Sandy\", \"age\": 27},\n",
        "           {\"name\": \"Sam\", \"age\": 30},\n",
        "]\n",
        "friends[1][\"name\"]"
      ],
      "execution_count": null,
      "outputs": [
        {
          "output_type": "execute_result",
          "data": {
            "application/vnd.google.colaboratory.intrinsic+json": {
              "type": "string"
            },
            "text/plain": [
              "'Sandy'"
            ]
          },
          "metadata": {
            "tags": []
          },
          "execution_count": 73
        }
      ]
    },
    {
      "cell_type": "code",
      "metadata": {
        "id": "vBPGr23A7VKB",
        "colab": {
          "base_uri": "https://localhost:8080/"
        },
        "outputId": "89c8b27f-c0e7-424b-8748-709bbaca7191"
      },
      "source": [
        "friend_ages = {\"Rolf\":24, \"Sandy\":27, \"Sam\": 30}\n",
        "\n",
        "for x in friend_ages:\n",
        "  print(x)"
      ],
      "execution_count": null,
      "outputs": [
        {
          "output_type": "stream",
          "text": [
            "Rolf\n",
            "Sandy\n",
            "Sam\n"
          ],
          "name": "stdout"
        }
      ]
    },
    {
      "cell_type": "code",
      "metadata": {
        "id": "d0OHcNIJ7VNE",
        "colab": {
          "base_uri": "https://localhost:8080/"
        },
        "outputId": "cfbc95f2-6717-4534-bdb5-62dcc506707d"
      },
      "source": [
        "friend_ages = {\"Rolf\":24, \"Sandy\":27, \"Sam\": 30}\n",
        "\n",
        "for x in friend_ages:\n",
        "  print(f\"{x}: {friend_ages[x]}\")\n",
        "\n",
        "print(\"Same result\")\n",
        "for x,y in friend_ages.items():\n",
        "  print(f\"{x}: {y}\")\n",
        "\n",
        "print(friend_ages.keys())\n",
        "\n",
        "print(friend_ages.values())\n",
        "print(sum(friend_ages.values()))\n",
        "\n",
        "print(friend_ages.items())"
      ],
      "execution_count": null,
      "outputs": [
        {
          "output_type": "stream",
          "text": [
            "Rolf: 24\n",
            "Sandy: 27\n",
            "Sam: 30\n",
            "Same result\n",
            "Rolf: 24\n",
            "Sandy: 27\n",
            "Sam: 30\n",
            "dict_keys(['Rolf', 'Sandy', 'Sam'])\n",
            "dict_values([24, 27, 30])\n",
            "81\n",
            "dict_items([('Rolf', 24), ('Sandy', 27), ('Sam', 30)])\n"
          ],
          "name": "stdout"
        }
      ]
    },
    {
      "cell_type": "code",
      "metadata": {
        "colab": {
          "base_uri": "https://localhost:8080/"
        },
        "id": "BWbivM0qOd38",
        "outputId": "36feba2f-77d3-488b-96d1-c6f51432b6d0"
      },
      "source": [
        "friend_ages"
      ],
      "execution_count": null,
      "outputs": [
        {
          "output_type": "execute_result",
          "data": {
            "text/plain": [
              "{'Rolf': 24, 'Sam': 30, 'Sandy': 27}"
            ]
          },
          "metadata": {
            "tags": []
          },
          "execution_count": 76
        }
      ]
    },
    {
      "cell_type": "code",
      "metadata": {
        "id": "vipjGOo07VQc",
        "colab": {
          "base_uri": "https://localhost:8080/"
        },
        "outputId": "9ce379d3-1197-42c5-c409-3854d50a05f2"
      },
      "source": [
        "# To ignore a variable - use underscore - https://healthedge.udemy.com/course/rest-api-flask-and-python/learn/lecture/15927666#overview\n",
        "person = (\"Sandy\", 27, \"DS\")\n",
        "name, _, profession = person\n",
        "print(name, profession)\n"
      ],
      "execution_count": null,
      "outputs": [
        {
          "output_type": "stream",
          "text": [
            "Sandy DS\n"
          ],
          "name": "stdout"
        }
      ]
    },
    {
      "cell_type": "code",
      "metadata": {
        "id": "Ln0ksYls7VTQ",
        "colab": {
          "base_uri": "https://localhost:8080/"
        },
        "outputId": "971e49f4-3fc6-48a5-e2c3-65c9ab117748"
      },
      "source": [
        "# Seperate a list into 2 elements: 1st and all other into 1\n",
        "# * is used for collectiong\n",
        "head, *tail = [1,2,3,4,5]\n",
        "print(head)\n",
        "print(tail)"
      ],
      "execution_count": null,
      "outputs": [
        {
          "output_type": "stream",
          "text": [
            "1\n",
            "[2, 3, 4, 5]\n"
          ],
          "name": "stdout"
        }
      ]
    },
    {
      "cell_type": "code",
      "metadata": {
        "id": "XDALFW606sf2",
        "colab": {
          "base_uri": "https://localhost:8080/"
        },
        "outputId": "4e74787f-a102-4bb5-e63a-75c0d56b83b7"
      },
      "source": [
        "head, *tail, y = [1,2,3,4,5]\n",
        "print(head)\n",
        "print(tail)\n",
        "print(y)"
      ],
      "execution_count": null,
      "outputs": [
        {
          "output_type": "stream",
          "text": [
            "1\n",
            "[2, 3, 4]\n",
            "5\n"
          ],
          "name": "stdout"
        }
      ]
    },
    {
      "cell_type": "markdown",
      "metadata": {
        "id": "QZyIYdkw7Dzs"
      },
      "source": [
        "Functions\n"
      ]
    },
    {
      "cell_type": "code",
      "metadata": {
        "id": "UAGrZGQa6sca"
      },
      "source": [
        "def hello():\n",
        "  print(\"Hello!\")"
      ],
      "execution_count": null,
      "outputs": []
    },
    {
      "cell_type": "code",
      "metadata": {
        "id": "4sk1g34Q6_3X"
      },
      "source": [
        "def age_in_secs():\n",
        "  age = int(input(\"Enter your age:\"))\n",
        "  age_secs = age*365*24*60*60\n",
        "  print(f\"Your age in seconds is {age_secs}\")"
      ],
      "execution_count": null,
      "outputs": []
    },
    {
      "cell_type": "code",
      "metadata": {
        "id": "PaSRgZpp7ADG",
        "colab": {
          "base_uri": "https://localhost:8080/"
        },
        "outputId": "c68d1b60-f5d4-4521-e26b-c2c4a5b0bed4"
      },
      "source": [
        "age_in_secs()"
      ],
      "execution_count": null,
      "outputs": [
        {
          "output_type": "stream",
          "text": [
            "Enter your age:28\n",
            "Your age in seconds is 883008000\n"
          ],
          "name": "stdout"
        }
      ]
    },
    {
      "cell_type": "code",
      "metadata": {
        "id": "Ke5VL-EJ6sZM",
        "colab": {
          "base_uri": "https://localhost:8080/"
        },
        "outputId": "ec1c9152-1cc9-423a-f4de-907460cfb941"
      },
      "source": [
        "# positional Arguments\n",
        "def say_hello():\n",
        "  print(\"Hello Sandy!\")\n",
        "\n",
        "say_hello()"
      ],
      "execution_count": null,
      "outputs": [
        {
          "output_type": "stream",
          "text": [
            "Hello Sandy!\n"
          ],
          "name": "stdout"
        }
      ]
    },
    {
      "cell_type": "code",
      "metadata": {
        "id": "heCAEo2t6sWA",
        "colab": {
          "base_uri": "https://localhost:8080/"
        },
        "outputId": "82375392-fec7-4293-f14c-87c4030d22d9"
      },
      "source": [
        "def say_hello(name):\n",
        "  print(f\"Hello {name}\")\n",
        "\n",
        "say_hello(\"sandy\")"
      ],
      "execution_count": null,
      "outputs": [
        {
          "output_type": "stream",
          "text": [
            "Hello sandy\n"
          ],
          "name": "stdout"
        }
      ]
    },
    {
      "cell_type": "code",
      "metadata": {
        "id": "gIHDno_76sPu",
        "colab": {
          "base_uri": "https://localhost:8080/"
        },
        "outputId": "894297d9-0757-4fad-b49e-618d3d51771a"
      },
      "source": [
        "def say_hello(name, surname):\n",
        "  print(f\"Hello {name} {surname}\")\n",
        "\n",
        "say_hello(\"sandy\", \"pashikanti\")"
      ],
      "execution_count": null,
      "outputs": [
        {
          "output_type": "stream",
          "text": [
            "Hello sandy pashikanti\n"
          ],
          "name": "stdout"
        }
      ]
    },
    {
      "cell_type": "code",
      "metadata": {
        "id": "h6A8x1oZ6sHJ",
        "colab": {
          "base_uri": "https://localhost:8080/"
        },
        "outputId": "66add545-f642-421c-81a6-38d66ab4be8a"
      },
      "source": [
        "# When variables are mentioned, then \n",
        "def say_hello(name, surname):\n",
        "  print(f\"Hello {name} {surname}\")\n",
        "\n",
        "say_hello(surname=\"pashikanti\" , name=\"sandy\" )"
      ],
      "execution_count": null,
      "outputs": [
        {
          "output_type": "stream",
          "text": [
            "Hello sandy pashikanti\n"
          ],
          "name": "stdout"
        }
      ]
    },
    {
      "cell_type": "code",
      "metadata": {
        "id": "Br8W1Q-S6sC-"
      },
      "source": [
        "# def addtwo(x, y=5): #Here y is default parameter, it takes the value mentioned \n",
        "\n",
        "# def addtwo(x=5, y): # Gives ERROR as default parameters must be mentioned at the end\n",
        "\n",
        "# def addtwo(y, x-3): # x is mentioned as a default parameter - and specified at the end"
      ],
      "execution_count": null,
      "outputs": []
    },
    {
      "cell_type": "code",
      "metadata": {
        "colab": {
          "base_uri": "https://localhost:8080/"
        },
        "id": "57v8fWrO40pH",
        "outputId": "5fd2df61-32d2-48af-caaa-762f6877d3e7"
      },
      "source": [
        "def add2(x,y):\r\n",
        "  print(x+y)\r\n",
        "\r\n",
        "add2(5,8)"
      ],
      "execution_count": null,
      "outputs": [
        {
          "output_type": "stream",
          "text": [
            "13\n"
          ],
          "name": "stdout"
        }
      ]
    },
    {
      "cell_type": "code",
      "metadata": {
        "colab": {
          "base_uri": "https://localhost:8080/"
        },
        "id": "bslRl7hv5Y6u",
        "outputId": "47c97396-f0bc-4d69-ae70-60eac1a08aa5"
      },
      "source": [
        "def add2(x,y):\r\n",
        "  return x+y\r\n",
        "\r\n",
        "add2(5,8)"
      ],
      "execution_count": null,
      "outputs": [
        {
          "output_type": "execute_result",
          "data": {
            "text/plain": [
              "13"
            ]
          },
          "metadata": {
            "tags": []
          },
          "execution_count": 90
        }
      ]
    },
    {
      "cell_type": "code",
      "metadata": {
        "id": "3GndwUiU6r7D",
        "colab": {
          "base_uri": "https://localhost:8080/"
        },
        "outputId": "6b2836e2-39bc-4b38-c651-b2058fed6f18"
      },
      "source": [
        "def add2(x,y):\n",
        "  print(x+y)\n",
        "\n",
        "add2(5,8)\n",
        "print(add2(5,8)) # Here add2(5,8) is called and then the function returns None"
      ],
      "execution_count": null,
      "outputs": [
        {
          "output_type": "stream",
          "text": [
            "13\n",
            "13\n",
            "None\n"
          ],
          "name": "stdout"
        }
      ]
    },
    {
      "cell_type": "code",
      "metadata": {
        "id": "KphFFF5dxKY0",
        "colab": {
          "base_uri": "https://localhost:8080/"
        },
        "outputId": "a72acb21-6aa1-4fa5-9cbc-5de209e96248"
      },
      "source": [
        "# Return statement in a function returns a value after the function is executed\n",
        "# Print statement in a function returns NONE after the function is executed\n",
        "def addtwo(x,y):\n",
        "  return x+y\n",
        "\n",
        "addtwo(5,8)\n",
        "print(addtwo(5,8))"
      ],
      "execution_count": null,
      "outputs": [
        {
          "output_type": "stream",
          "text": [
            "13\n"
          ],
          "name": "stdout"
        }
      ]
    },
    {
      "cell_type": "code",
      "metadata": {
        "id": "fQU8LAddxJov"
      },
      "source": [
        "def addtwo(x,y):\n",
        "  return x+y\n",
        "  print(x+y) # Print statement is not executed because it is after the return statement"
      ],
      "execution_count": null,
      "outputs": []
    },
    {
      "cell_type": "code",
      "metadata": {
        "id": "V_BvbeJn-IRt",
        "colab": {
          "base_uri": "https://localhost:8080/"
        },
        "outputId": "85596a5a-1515-43c9-844a-1d8448ccef1c"
      },
      "source": [
        "# lambda function - Get input and return output\n",
        "addtwoNum = lambda x, y: x+y \n",
        "print(addtwoNum(5,7))"
      ],
      "execution_count": null,
      "outputs": [
        {
          "output_type": "stream",
          "text": [
            "12\n"
          ],
          "name": "stdout"
        }
      ]
    },
    {
      "cell_type": "code",
      "metadata": {
        "id": "9R6vzO-2-IFf",
        "colab": {
          "base_uri": "https://localhost:8080/"
        },
        "outputId": "d43d2e69-a461-48d9-b630-6c35cca5b8ea"
      },
      "source": [
        "# Calling 5,7 as x,y on lambda functions\n",
        "(lambda x, y: x+y)(5,7)"
      ],
      "execution_count": null,
      "outputs": [
        {
          "output_type": "execute_result",
          "data": {
            "text/plain": [
              "12"
            ]
          },
          "metadata": {
            "tags": []
          },
          "execution_count": 95
        }
      ]
    },
    {
      "cell_type": "code",
      "metadata": {
        "colab": {
          "base_uri": "https://localhost:8080/"
        },
        "id": "ez6yM5zVIQPK",
        "outputId": "22226f96-8c29-4352-9483-2edda7d9f548"
      },
      "source": [
        "sequence = [1, 3, 5, 9]\r\n",
        "\r\n",
        "doubled = set(map(lambda x: x * 2,sequence)) # Order is lost in sets\r\n",
        "print(doubled) \r\n",
        "print([*doubled])\r\n",
        "\r\n",
        "doubled = map(lambda x: x * 2,sequence) \r\n",
        "print([*doubled]) # Convert map to list"
      ],
      "execution_count": null,
      "outputs": [
        {
          "output_type": "stream",
          "text": [
            "{18, 2, 10, 6}\n",
            "[18, 2, 10, 6]\n",
            "[2, 6, 10, 18]\n"
          ],
          "name": "stdout"
        }
      ]
    },
    {
      "cell_type": "code",
      "metadata": {
        "id": "jN60gLjk-Hyk",
        "colab": {
          "base_uri": "https://localhost:8080/"
        },
        "outputId": "e7cbe41a-e342-46a0-8f74-13ab337cdd3e"
      },
      "source": [
        "# Applying function on a sequence\n",
        "def double(x):\n",
        "  return x*2\n",
        "\n",
        "sequence = [1,3,5,9]\n",
        "\n",
        "# 1st way\n",
        "DoubledSequence = [double(x) for x in sequence]\n",
        "print(DoubledSequence)\n",
        "\n",
        "# 2nd way - map(function,array)\n",
        "# Convert map object to set and then to list\n",
        "DoubledSequence = map(double, sequence) \n",
        "print([*DoubledSequence]) # Convert map to list\n",
        "\n",
        "# 3rd way - lambda\n",
        "DoubledSequence = [(lambda x: x*2)(x) for x in sequence]\n",
        "print(DoubledSequence)\n",
        "DoubledSequence = map(lambda x: x*2, sequence) # Order is lost in sets\n",
        "print([*DoubledSequence]) # Convert map to list "
      ],
      "execution_count": null,
      "outputs": [
        {
          "output_type": "stream",
          "text": [
            "[2, 6, 10, 18]\n",
            "[2, 6, 10, 18]\n",
            "[2, 6, 10, 18]\n",
            "[2, 6, 10, 18]\n"
          ],
          "name": "stdout"
        }
      ]
    },
    {
      "cell_type": "code",
      "metadata": {
        "id": "gcGdgMvDC8kR",
        "colab": {
          "base_uri": "https://localhost:8080/"
        },
        "outputId": "ba299365-578d-412e-b1e8-a05fbc66b95d"
      },
      "source": [
        "# Multiple arguments - iterating more the previous value\n",
        "def multiply(*args):\n",
        "  print(args)\n",
        "\n",
        "multiply(1,3,5)"
      ],
      "execution_count": null,
      "outputs": [
        {
          "output_type": "stream",
          "text": [
            "(1, 3, 5)\n"
          ],
          "name": "stdout"
        }
      ]
    },
    {
      "cell_type": "code",
      "metadata": {
        "id": "MvLUfHFBC8nM",
        "colab": {
          "base_uri": "https://localhost:8080/"
        },
        "outputId": "d59b785e-88fc-4ac3-fcae-a5bcb4451427"
      },
      "source": [
        "# Multiple arguments - iterating more the previous value\n",
        "def multiply(*args):\n",
        "  total=1\n",
        "  for arg in args:\n",
        "    total = total*arg\n",
        "  return total\n",
        "\n",
        "multiply(1,3,5)"
      ],
      "execution_count": null,
      "outputs": [
        {
          "output_type": "execute_result",
          "data": {
            "text/plain": [
              "15"
            ]
          },
          "metadata": {
            "tags": []
          },
          "execution_count": 99
        }
      ]
    },
    {
      "cell_type": "code",
      "metadata": {
        "id": "VC2mHa_OxJfu",
        "colab": {
          "base_uri": "https://localhost:8080/"
        },
        "outputId": "cf319630-63b0-4caf-8e0e-e31c3a317f0f"
      },
      "source": [
        "nums = [3,5]\n",
        "print(*nums)"
      ],
      "execution_count": null,
      "outputs": [
        {
          "output_type": "stream",
          "text": [
            "3 5\n"
          ],
          "name": "stdout"
        }
      ]
    },
    {
      "cell_type": "code",
      "metadata": {
        "id": "n9C9WoVKxJQs",
        "colab": {
          "base_uri": "https://localhost:8080/"
        },
        "outputId": "f396b1bb-7a21-46ae-d01d-0121985b7aa3"
      },
      "source": [
        "# Create dictionary\n",
        "def names(**kwargs):\n",
        "  print(kwargs)\n",
        "\n",
        "names(name=\"Sandy\", age=27)"
      ],
      "execution_count": null,
      "outputs": [
        {
          "output_type": "stream",
          "text": [
            "{'name': 'Sandy', 'age': 27}\n"
          ],
          "name": "stdout"
        }
      ]
    },
    {
      "cell_type": "code",
      "metadata": {
        "colab": {
          "base_uri": "https://localhost:8080/"
        },
        "id": "16AYXyrXQuA4",
        "outputId": "024e5c26-cb85-46d7-eaf6-9865cee0bdbc"
      },
      "source": [
        "class Student:\r\n",
        "    def __init__(self):\r\n",
        "        self.name = \"Rolf\"\r\n",
        "        self.grades = (89, 90, 93, 78, 90)\r\n",
        "\r\n",
        "print(Student().name)\r\n",
        "print(Student().grades)"
      ],
      "execution_count": null,
      "outputs": [
        {
          "output_type": "stream",
          "text": [
            "Rolf\n",
            "(89, 90, 93, 78, 90)\n"
          ],
          "name": "stdout"
        }
      ]
    },
    {
      "cell_type": "code",
      "metadata": {
        "id": "439HML7P_Ekj",
        "colab": {
          "base_uri": "https://localhost:8080/"
        },
        "outputId": "d2648f53-66c6-40ae-81a6-3bf6de066157"
      },
      "source": [
        "student = {\"name\": \"Rolf\", \"grades\": (89, 90, 93, 78, 90)}\r\n",
        "\r\n",
        "def average(sequence):\r\n",
        "    return sum(sequence) / len(sequence)\r\n",
        "\r\n",
        "print(average(student[\"grades\"]))"
      ],
      "execution_count": null,
      "outputs": [
        {
          "output_type": "stream",
          "text": [
            "88.0\n"
          ],
          "name": "stdout"
        }
      ]
    },
    {
      "cell_type": "code",
      "metadata": {
        "colab": {
          "base_uri": "https://localhost:8080/"
        },
        "id": "7izNS43aSH-e",
        "outputId": "d1dbf89e-44e6-4b55-ad5a-165620f8c173"
      },
      "source": [
        "# But wouldn't it be nice if we could...\r\n",
        "# print(student.average()) ?\r\n",
        "\r\n",
        "class Student:\r\n",
        "    def __init__(self):\r\n",
        "        self.name = \"Rolf\"\r\n",
        "        self.grades = (89, 90, 93, 78, 90)\r\n",
        "\r\n",
        "    def average(self): #self is Student()\r\n",
        "        return sum(self.grades) / len(self.grades)\r\n",
        "\r\n",
        "student = Student()\r\n",
        "print(student.average())\r\n",
        "# Identical to Student.average(student)"
      ],
      "execution_count": null,
      "outputs": [
        {
          "output_type": "stream",
          "text": [
            "88.0\n"
          ],
          "name": "stdout"
        }
      ]
    },
    {
      "cell_type": "code",
      "metadata": {
        "colab": {
          "base_uri": "https://localhost:8080/"
        },
        "id": "_yuLFbxdSMSa",
        "outputId": "8ab43063-9cec-43ff-c1cb-840e610e87a1"
      },
      "source": [
        "# -- Parameters in __init__ --\r\n",
        "class Student:\r\n",
        "    def __init__(self, name, grades):\r\n",
        "        self.name = name\r\n",
        "        self.grades = grades\r\n",
        "\r\n",
        "    def average(self):\r\n",
        "        return sum(self.grades) / len(self.grades)\r\n",
        "\r\n",
        "\r\n",
        "student = Student(\"Bob\", (36, 67, 90, 100, 100))\r\n",
        "print(student.average())"
      ],
      "execution_count": null,
      "outputs": [
        {
          "output_type": "stream",
          "text": [
            "78.6\n"
          ],
          "name": "stdout"
        }
      ]
    },
    {
      "cell_type": "code",
      "metadata": {
        "colab": {
          "base_uri": "https://localhost:8080/"
        },
        "id": "v3QvMuD1SOos",
        "outputId": "231778c7-b730-40fe-9bb6-f3746e678e74"
      },
      "source": [
        "# -- Remember *args ? --\r\n",
        "class Student:\r\n",
        "    def __init__(self, name, *grades):\r\n",
        "        self.name = name\r\n",
        "        self.grades = grades\r\n",
        "\r\n",
        "    def average(self):\r\n",
        "        return sum(self.grades) / len(self.grades)\r\n",
        "\r\n",
        "\r\n",
        "student = Student(\"Bob\", 36, 67, 90, 100, 100)\r\n",
        "print(student.average())"
      ],
      "execution_count": null,
      "outputs": [
        {
          "output_type": "stream",
          "text": [
            "78.6\n"
          ],
          "name": "stdout"
        }
      ]
    },
    {
      "cell_type": "code",
      "metadata": {
        "id": "oJO578IWRuSC"
      },
      "source": [
        "# A function that lives inside a class is called a method.\r\n",
        "# So, methods are functions, but not all functions are methods.\r\n",
        "def average(sequence):\r\n",
        "    return sum(sequence) / len(sequence)\r\n",
        "\r\n",
        "class Student:\r\n",
        "    def __init__(self):  # method\r\n",
        "        self.name = \"Rolf\"\r\n",
        "        self.grades = (79, 90, 95, 99)\r\n",
        "    \r\n",
        "    def average(self):  # method\r\n",
        "        return sum(self.grades) / len(self.grades)  "
      ],
      "execution_count": null,
      "outputs": []
    },
    {
      "cell_type": "code",
      "metadata": {
        "colab": {
          "base_uri": "https://localhost:8080/"
        },
        "id": "ql0cR-iFR8cU",
        "outputId": "7b866caa-63c5-481d-ef7c-b80859d8a8a3"
      },
      "source": [
        "class Person:\r\n",
        "    def __init__(self, name, age):\r\n",
        "        self.name = name\r\n",
        "        self.age = age\r\n",
        "\r\n",
        "\r\n",
        "bob = Person(\"Bob\", 35)\r\n",
        "print(bob)  # Not the nicest thing to read!"
      ],
      "execution_count": null,
      "outputs": [
        {
          "output_type": "stream",
          "text": [
            "<__main__.Person object at 0x7efd037787f0>\n"
          ],
          "name": "stdout"
        }
      ]
    },
    {
      "cell_type": "code",
      "metadata": {
        "colab": {
          "base_uri": "https://localhost:8080/"
        },
        "id": "N4KuaSGKSgKT",
        "outputId": "230e6865-5538-4883-9b35-66e34f8e23ee"
      },
      "source": [
        "# -- __str__ --\r\n",
        "# The goal of __str__ is to return a nice, easy to read string for end users.\r\n",
        "class Person:\r\n",
        "    def __init__(self, name, age):\r\n",
        "        self.name = name\r\n",
        "        self.age = age\r\n",
        "\r\n",
        "    def __str__(self):\r\n",
        "        return f\"Person {self.name}, {self.age} years old\"\r\n",
        "\r\n",
        "\r\n",
        "bob = Person(\"Bob\", 35)\r\n",
        "print(bob)  # Much nicer"
      ],
      "execution_count": null,
      "outputs": [
        {
          "output_type": "stream",
          "text": [
            "Person Bob, 35 years old\n"
          ],
          "name": "stdout"
        }
      ]
    },
    {
      "cell_type": "code",
      "metadata": {
        "colab": {
          "base_uri": "https://localhost:8080/"
        },
        "id": "eiYqgejwSkNz",
        "outputId": "0fcbd64f-f011-4b41-813c-8f6612056280"
      },
      "source": [
        "# -- __repr__ --\r\n",
        "# The goal of __repr__ is to be unambiguous, and if possible what it outputs should allow us to re-create an identical object.\r\n",
        "class Person:\r\n",
        "    def __init__(self, name, age):\r\n",
        "        self.name = name\r\n",
        "        self.age = age\r\n",
        "\r\n",
        "    def __repr__(self):\r\n",
        "        # I'm adding the < > just so it's clear that this is an object we're printing out!\r\n",
        "        return (\r\n",
        "            f\"<Person({self.name!r}, {self.age})>\"\r\n",
        "        )  # !r calls the __repr__ method of the thing.\r\n",
        "\r\n",
        "\r\n",
        "bob = Person(\"Bob\", 35)\r\n",
        "print(bob)  # Not as nice, but we could re-create \"Bob\" very easily."
      ],
      "execution_count": null,
      "outputs": [
        {
          "output_type": "stream",
          "text": [
            "<Person('Bob', 35)>\n"
          ],
          "name": "stdout"
        }
      ]
    },
    {
      "cell_type": "code",
      "metadata": {
        "colab": {
          "base_uri": "https://localhost:8080/"
        },
        "id": "DVjxKeBHS4FU",
        "outputId": "ceed41ae-59db-4e30-bc4d-9fd2d011a88e"
      },
      "source": [
        "class ClassTest:\r\n",
        "    def instance_method(self):\r\n",
        "        print(f\"Called instance_method of {self}\")\r\n",
        "\r\n",
        "    @classmethod\r\n",
        "    def class_method(cls):\r\n",
        "        print(f\"Called class_method of {cls}\")\r\n",
        "\r\n",
        "    @staticmethod\r\n",
        "    def static_method():\r\n",
        "        print(f\"Called static_method. We don't get any object or class info here.\")\r\n",
        "\r\n",
        "\r\n",
        "instance = ClassTest()\r\n",
        "instance.instance_method()\r\n",
        "\r\n",
        "ClassTest.class_method()\r\n",
        "ClassTest.static_method()"
      ],
      "execution_count": null,
      "outputs": [
        {
          "output_type": "stream",
          "text": [
            "Called instance_method of <__main__.ClassTest object at 0x7efd03718940>\n",
            "Called class_method of <class '__main__.ClassTest'>\n",
            "Called static_method. We don't get any object or class info here.\n"
          ],
          "name": "stdout"
        }
      ]
    },
    {
      "cell_type": "code",
      "metadata": {
        "colab": {
          "base_uri": "https://localhost:8080/"
        },
        "id": "ci1ARYVlTAGP",
        "outputId": "55d41e7c-053f-45b4-f8eb-3403f36d674f"
      },
      "source": [
        "# -- What are they used for? --\r\n",
        "# Instance methods are used for most things. When you want to produce an action that uses the data stored in an object.\r\n",
        "# Static methods are used to just place a method inside a class because you feel it belongs there (i.e. for code organisation, mostly!)\r\n",
        "# Class methods are often used as factories.\r\n",
        "class Book:\r\n",
        "    TYPES = (\"hardcover\", \"paperback\")\r\n",
        "\r\n",
        "    def __init__(self, name, book_type, weight):\r\n",
        "        self.name = name\r\n",
        "        self.book_type = book_type\r\n",
        "        self.weight = weight\r\n",
        "\r\n",
        "    def __repr__(self):\r\n",
        "        return f\"<Book {self.name}, {self.book_type}, weighing {self.weight}g>\"\r\n",
        "\r\n",
        "    @classmethod\r\n",
        "    def hardcover(cls, name, page_weight):\r\n",
        "        return cls(name, cls.TYPES[0], page_weight + 100)\r\n",
        "\r\n",
        "    @classmethod\r\n",
        "    def paperback(cls, name, page_weight):\r\n",
        "        return cls(name, cls.TYPES[1], page_weight)\r\n",
        "\r\n",
        "\r\n",
        "heavy = Book.hardcover(\"Harry Potter\", 1500)\r\n",
        "light = Book.paperback(\"Python 101\", 600)\r\n",
        "\r\n",
        "print(heavy)\r\n",
        "print(light)"
      ],
      "execution_count": null,
      "outputs": [
        {
          "output_type": "stream",
          "text": [
            "<Book Harry Potter, hardcover, weighing 1600g>\n",
            "<Book Python 101, paperback, weighing 600g>\n"
          ],
          "name": "stdout"
        }
      ]
    },
    {
      "cell_type": "code",
      "metadata": {
        "id": "syn08A5bTM7B"
      },
      "source": [
        "class Device:\r\n",
        "    def __init__(self, name, connected_by):\r\n",
        "        self.name = name\r\n",
        "        self.connected_by = connected_by\r\n",
        "        self.connected = True\r\n",
        "\r\n",
        "    def __str__(self):\r\n",
        "        return f\"Device {self.name!r} ({self.connected_by})\"\r\n",
        "\r\n",
        "    def disconnect(self):\r\n",
        "        self.connected = False\r\n",
        "\r\n",
        "\r\n",
        "# printer = Device(\"Printer\", \"USB\")\r\n",
        "# print(printer)\r\n",
        "\r\n",
        "# We don't want to add printer-specific stuff to Device, so..."
      ],
      "execution_count": null,
      "outputs": []
    },
    {
      "cell_type": "code",
      "metadata": {
        "id": "vRPwVdeikE-z"
      },
      "source": [
        "### Dictionaries\r\n",
        "### Min and Max values frm Dictionaries:\r\n",
        "prices = {\r\n",
        "   'ACME': 45.23,\r\n",
        "   'AAPL': 612.78,\r\n",
        "   'IBM': 205.55,\r\n",
        "   'HPQ': 37.20,\r\n",
        "   'FB': 10.75\r\n",
        "}\r\n",
        "# Find min and max price\r\n",
        "# min_price = min(prices.keys())\r\n",
        "# max_price = max(prices.keys())\r\n",
        "# print('min price:', min_price)\r\n",
        "# print('max price:', max_price)"
      ],
      "execution_count": null,
      "outputs": []
    },
    {
      "cell_type": "code",
      "metadata": {
        "id": "fiag7xz3cufU",
        "colab": {
          "base_uri": "https://localhost:8080/"
        },
        "outputId": "693a1135-42a8-4041-a776-3bd781b2e954"
      },
      "source": [
        "# Sorted prices\r\n",
        "print('sorted prices:')\r\n",
        "prices_sorted = sorted(zip(prices.values(), prices.keys()))\r\n",
        "for price, name in prices_sorted:\r\n",
        "    print('    ', name, price)\r\n",
        "    \r\n",
        "### Determine the most/top common words in a list\r\n",
        "words = [\r\n",
        "   'look', 'into', 'my', 'eyes', 'look', 'into', 'my', 'eyes',\r\n",
        "   'the', 'eyes', 'the', 'eyes', 'the', 'eyes', 'not', 'around', 'the',\r\n",
        "   'eyes', \"don't\", 'look', 'around', 'the', 'eyes', 'look', 'into',\r\n",
        "   'my', 'eyes', \"you're\", 'under']\r\n",
        "from collections import Counter\r\n",
        "word_counts = Counter(words)\r\n",
        "top_three = word_counts.most_common(3)\r\n",
        "print(top_three)\r\n",
        "# outputs [('eyes', 8), ('the', 5), ('look', 4)]\r\n",
        "# Example of merging in more words\r\n",
        "morewords = ['why','are','you','not','looking','in','my','eyes']\r\n",
        "word_counts.update(morewords)\r\n",
        "print(word_counts.most_common(3))\r\n",
        "\r\n",
        "### Extracting a subset from dictionary based on values or keys\r\n",
        "# example of extracting a subset from a dictionary\r\n",
        "from pprint import pprint\r\n",
        "prices = {\r\n",
        "   'ACME': 45.23,\r\n",
        "   'AAPL': 612.78,\r\n",
        "   'IBM': 205.55,\r\n",
        "   'HPQ': 37.20,\r\n",
        "   'FB': 10.75}\r\n",
        "# Make a dictionary of all prices over 200\r\n",
        "p1 = { key:value for key, value in prices.items() if value > 200 }\r\n",
        "print(\"All prices over 200\")\r\n",
        "pprint(p1)\r\n",
        "# Make a dictionary of tech stocks\r\n",
        "tech_names = { 'AAPL', 'IBM', 'HPQ', 'MSFT' }\r\n",
        "p2 = { key:value for key,value in prices.items() if key in tech_names }\r\n",
        "print(\"All techs\")\r\n",
        "pprint(p2)"
      ],
      "execution_count": null,
      "outputs": [
        {
          "output_type": "stream",
          "text": [
            "sorted prices:\n",
            "     FB 10.75\n",
            "     HPQ 37.2\n",
            "     ACME 45.23\n",
            "     IBM 205.55\n",
            "     AAPL 612.78\n",
            "[('eyes', 8), ('the', 5), ('look', 4)]\n",
            "[('eyes', 9), ('the', 5), ('look', 4)]\n",
            "All prices over 200\n",
            "{'AAPL': 612.78, 'IBM': 205.55}\n",
            "All techs\n",
            "{'AAPL': 612.78, 'HPQ': 37.2, 'IBM': 205.55}\n"
          ],
          "name": "stdout"
        }
      ]
    }
  ]
}