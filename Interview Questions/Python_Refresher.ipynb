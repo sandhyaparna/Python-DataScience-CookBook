{
  "nbformat": 4,
  "nbformat_minor": 0,
  "metadata": {
    "colab": {
      "name": "Python Refresher.ipynb",
      "provenance": [],
      "collapsed_sections": [],
      "include_colab_link": true
    },
    "kernelspec": {
      "name": "python3",
      "display_name": "Python 3"
    }
  },
  "cells": [
    {
      "cell_type": "markdown",
      "metadata": {
        "id": "view-in-github",
        "colab_type": "text"
      },
      "source": [
        "<a href=\"https://colab.research.google.com/github/sandhyaparna/Python-DataScience-CookBook/blob/master/Interview%20Questions/Python_Refresher.ipynb\" target=\"_parent\"><img src=\"https://colab.research.google.com/assets/colab-badge.svg\" alt=\"Open In Colab\"/></a>"
      ]
    },
    {
      "cell_type": "markdown",
      "metadata": {
        "id": "Y-3pKryhwsXE"
      },
      "source": [
        "### String formatting in Python https://healthedge.udemy.com/course/rest-api-flask-and-python/learn/lecture/15927434#overview"
      ]
    },
    {
      "cell_type": "code",
      "metadata": {
        "id": "UQef3JTrRYyg",
        "colab": {
          "base_uri": "https://localhost:8080/",
          "height": 51
        },
        "outputId": "6b44fe4a-70f6-4f14-a091-37dda81b293d"
      },
      "source": [
        "print(\" f-strings are used to use dynamic variables \")\n",
        "\n",
        "name = \"Sandy\"\n",
        "print(f\"Hello {name}\")"
      ],
      "execution_count": null,
      "outputs": [
        {
          "output_type": "stream",
          "text": [
            " f-strings are used to use dynamic variables \n",
            "Hello Sandy\n"
          ],
          "name": "stdout"
        }
      ]
    },
    {
      "cell_type": "code",
      "metadata": {
        "id": "6N4CIxGOkkQW",
        "colab": {
          "base_uri": "https://localhost:8080/",
          "height": 51
        },
        "outputId": "a07ca0a2-314c-4780-987c-f4b9ec457974"
      },
      "source": [
        "print(\"Use format function\")\n",
        "name = \"Sandhya\"\n",
        "print(\"Hello {}\".format(name))\n",
        "print(\"Hello {}\".format(\"Aparna\"))"
      ],
      "execution_count": null,
      "outputs": [
        {
          "output_type": "stream",
          "text": [
            "Hello Sandhya\n",
            "Hello Aparna\n"
          ],
          "name": "stdout"
        }
      ]
    },
    {
      "cell_type": "code",
      "metadata": {
        "id": "EfA2JULIklTD",
        "colab": {
          "base_uri": "https://localhost:8080/",
          "height": 34
        },
        "outputId": "42ae2a2f-e5a8-4e00-d1f0-43fcd1aa2061"
      },
      "source": [
        "print(\"Use 2 dynamic variables\")\n",
        "print(\"Hello {} {}\".format(\"Sandhya\",\"Aparna\"))"
      ],
      "execution_count": null,
      "outputs": [
        {
          "output_type": "stream",
          "text": [
            "Hello Sandhya Aparna\n"
          ],
          "name": "stdout"
        }
      ]
    },
    {
      "cell_type": "code",
      "metadata": {
        "id": "crWXH5KSkloG",
        "colab": {
          "base_uri": "https://localhost:8080/",
          "height": 51
        },
        "outputId": "aeb2c8c9-c53c-48c1-9fe7-27c7ed65c57a"
      },
      "source": [
        "print(\"Based on user input -  Strings\")\n",
        "name = input(\"What is your name? : \")\n",
        "print(\"Hello {}\".format(name))"
      ],
      "execution_count": null,
      "outputs": [
        {
          "output_type": "stream",
          "text": [
            "What is your name? : SandhyaA\n",
            "Hello SandhyaA\n"
          ],
          "name": "stdout"
        }
      ]
    },
    {
      "cell_type": "code",
      "metadata": {
        "id": "yIzId0Izklhq",
        "colab": {
          "base_uri": "https://localhost:8080/",
          "height": 68
        },
        "outputId": "a37464a6-c37b-4072-c770-44d18f633f80"
      },
      "source": [
        "print(\"Based on user input -  Numeric\")\n",
        "size = input(\"What is size of your house in sq ft : \") # Taken as string\n",
        "print(\"Sq meters =\",float(size)/10.8)"
      ],
      "execution_count": null,
      "outputs": [
        {
          "output_type": "stream",
          "text": [
            "Based on user input -  Numeric\n",
            "What is size of your house in sq ft : 502\n",
            "Sq meters = 46.48148148148148\n"
          ],
          "name": "stdout"
        }
      ]
    },
    {
      "cell_type": "code",
      "metadata": {
        "id": "lmDQqJP5klNV",
        "colab": {
          "base_uri": "https://localhost:8080/",
          "height": 51
        },
        "outputId": "079192ce-1c03-4c3a-cbec-7b11998de993"
      },
      "source": [
        "print(\"Restrict decimal places\")\n",
        "size = input(\"What is size of your house in sq ft : \")\n",
        "x = float(size)/10.8\n",
        "print(f\"Sq meters = {x:.2f}\")"
      ],
      "execution_count": null,
      "outputs": [
        {
          "output_type": "stream",
          "text": [
            "What is size of your house in sq ft : 500\n",
            "Sq meters = 46.30\n"
          ],
          "name": "stdout"
        }
      ]
    },
    {
      "cell_type": "code",
      "metadata": {
        "id": "XzLr4lMiklI_",
        "colab": {
          "base_uri": "https://localhost:8080/",
          "height": 68
        },
        "outputId": "a9760c1c-a7a4-475f-9b86-f6b9791ad4d2"
      },
      "source": [
        "print(\"Restrict decimal places -Without creating a variable\")\n",
        "size = float(input(\"What is size of your house in sq ft : \"))\n",
        "print(f\"Sq meters = {size/10.8:.2f}\")"
      ],
      "execution_count": null,
      "outputs": [
        {
          "output_type": "stream",
          "text": [
            "Without creating a variable\n",
            "What is size of your house in sq ft : 500\n",
            "Sq meters = 46.30\n"
          ],
          "name": "stdout"
        }
      ]
    },
    {
      "cell_type": "markdown",
      "metadata": {
        "id": "pmdjK6hVw-Vk"
      },
      "source": [
        "### List, Tuples & sets https://healthedge.udemy.com/course/rest-api-flask-and-python/learn/lecture/5960062#overview"
      ]
    },
    {
      "cell_type": "code",
      "metadata": {
        "id": "8WxfCMYPklEX",
        "colab": {
          "base_uri": "https://localhost:8080/",
          "height": 119
        },
        "outputId": "79c45914-eaa0-4329-d214-331f2010af1f"
      },
      "source": [
        "list = [\"A\",\"B\",\"C\"] # Order is maintained\n",
        "Tuple = (\"A\",\"B\",\"C\") # Cannot add elements to Tuples or elements cannot be modified; Order is maintained\n",
        "Set = {\"A\",\"B\",\"C\"} # Set cannot have duplicate values, Order may or maynot be maintained\n",
        "\n",
        "print(list[0])\n",
        "print(Tuple[0])\n",
        "# print(set[0]) # Wrong becoz order is not maintained\n",
        "\n",
        "list[0] = \"E\" #One of its element can be modified\n",
        "print(list)\n",
        "list.append(\"D\") #Add\n",
        "print(list)\n",
        "list.remove(\"B\")\n",
        "print(list)\n",
        "# Tuple[0] = \"D\" # Wrong becoz u cannot modify Tuple\n",
        "\n",
        "Set.add(\"D\")\n",
        "print(Set)"
      ],
      "execution_count": null,
      "outputs": [
        {
          "output_type": "stream",
          "text": [
            "A\n",
            "A\n",
            "['E', 'B', 'C']\n",
            "['E', 'B', 'C', 'D']\n",
            "['E', 'C', 'D']\n",
            "{'D', 'A', 'B', 'C'}\n"
          ],
          "name": "stdout"
        }
      ]
    },
    {
      "cell_type": "code",
      "metadata": {
        "id": "yMl43uFvxG6_"
      },
      "source": [
        "### Set Operations ###\n",
        "# Both variables should be of same data type\n",
        "# x UNION y\n",
        "x.union(y)\n",
        "# x INTERSECTION y\n",
        "x.intersection(y)\n",
        "# x members not in y\n",
        "x.difference(y)\n",
        "# y members not in x\n",
        "y.difference(x)\n",
        "\n",
        "## Difference of two sets or lists\n",
        "x = set(pd.unique(df['Var']))\n",
        "y = set(pd.unique(df['Var1']))\n",
        "z = x-y (or) x.difference(y)"
      ],
      "execution_count": null,
      "outputs": []
    },
    {
      "cell_type": "code",
      "metadata": {
        "id": "SPSqOzFaxGwT"
      },
      "source": [
        "print(\"2 equal signs are used for comparision\")"
      ],
      "execution_count": null,
      "outputs": []
    },
    {
      "cell_type": "code",
      "metadata": {
        "id": "IHQDGeGKxGs9",
        "colab": {
          "base_uri": "https://localhost:8080/",
          "height": 51
        },
        "outputId": "9a0005ee-ff13-4beb-9bff-f0c29837366a"
      },
      "source": [
        "print(\"if else statement\")\n",
        "x = input(\"give a value to x:\")\n",
        "\n",
        "if x=='5':   # if x in {'4','5','6'}\n",
        "  print(f\"it is {x}\")\n",
        "elif x=='10':\n",
        "  print(f\"it is ({x}/2)\")\n",
        "else:\n",
        "  print(\"Nothing\")\n",
        "  "
      ],
      "execution_count": null,
      "outputs": [
        {
          "output_type": "stream",
          "text": [
            "give a value to x:14\n",
            "Nothing\n"
          ],
          "name": "stdout"
        }
      ]
    },
    {
      "cell_type": "code",
      "metadata": {
        "id": "J6qt-I_2xGe9",
        "colab": {
          "base_uri": "https://localhost:8080/",
          "height": 68
        },
        "outputId": "05c2551c-99d9-410a-fa7f-b73b832dde0e"
      },
      "source": [
        "for friend in [\"A\",\"B\",\"C\"]:\n",
        "  print(f\"{friend} is my friend\")"
      ],
      "execution_count": null,
      "outputs": [
        {
          "output_type": "stream",
          "text": [
            "A is my friend\n",
            "B is my friend\n",
            "C is my friend\n"
          ],
          "name": "stdout"
        }
      ]
    },
    {
      "cell_type": "code",
      "metadata": {
        "id": "baEgZaO_OtGF",
        "colab": {
          "base_uri": "https://localhost:8080/",
          "height": 34
        },
        "outputId": "598b300b-d682-40f8-e34a-c57cc0ce9742"
      },
      "source": [
        "grades = [35,67,98,100,100]\n",
        "total = 0\n",
        "amount = len(grades)\n",
        "\n",
        "for grade in grades:\n",
        "  total += grade\n",
        "print(total)"
      ],
      "execution_count": null,
      "outputs": [
        {
          "output_type": "stream",
          "text": [
            "400\n"
          ],
          "name": "stdout"
        }
      ]
    },
    {
      "cell_type": "code",
      "metadata": {
        "id": "D82VEKCUPWnY",
        "colab": {
          "base_uri": "https://localhost:8080/",
          "height": 34
        },
        "outputId": "4daa3981-bb92-4107-af73-4417f28aecf4"
      },
      "source": [
        "sum(grades)"
      ],
      "execution_count": null,
      "outputs": [
        {
          "output_type": "execute_result",
          "data": {
            "text/plain": [
              "400"
            ]
          },
          "metadata": {
            "tags": []
          },
          "execution_count": 75
        }
      ]
    },
    {
      "cell_type": "code",
      "metadata": {
        "id": "wYd9LS7B7U96",
        "colab": {
          "base_uri": "https://localhost:8080/",
          "height": 52
        },
        "outputId": "cdca1be1-dee8-4bba-cea2-1401e32257da"
      },
      "source": [
        "print(\"List Comprehension\")\n",
        "numbers = [1,3,5]\n",
        "doubled = [x*2 for x in numbers]\n",
        "doubled"
      ],
      "execution_count": null,
      "outputs": [
        {
          "output_type": "stream",
          "text": [
            "List Comprehension\n"
          ],
          "name": "stdout"
        },
        {
          "output_type": "execute_result",
          "data": {
            "text/plain": [
              "[2, 6, 10]"
            ]
          },
          "metadata": {
            "tags": []
          },
          "execution_count": 2
        }
      ]
    },
    {
      "cell_type": "code",
      "metadata": {
        "id": "yw8fApd37VAw",
        "colab": {
          "base_uri": "https://localhost:8080/",
          "height": 52
        },
        "outputId": "e8445360-f7ea-4d92-9457-0b71a92c5273"
      },
      "source": [
        "print(\"Extract words that start with S in the list\")\n",
        "friends = [\"Roy\" , \"Sandy\" , \"Sam\" ,\"Gau\"]\n",
        "starts_s = [x for x in friends if x.startswith(\"S\")]\n",
        "starts_s"
      ],
      "execution_count": null,
      "outputs": [
        {
          "output_type": "stream",
          "text": [
            "Extract words that start with S in the list\n"
          ],
          "name": "stdout"
        },
        {
          "output_type": "execute_result",
          "data": {
            "text/plain": [
              "['Sandy', 'Sam']"
            ]
          },
          "metadata": {
            "tags": []
          },
          "execution_count": 3
        }
      ]
    },
    {
      "cell_type": "code",
      "metadata": {
        "id": "XAZzoRUd7VD-",
        "colab": {
          "base_uri": "https://localhost:8080/",
          "height": 51
        },
        "outputId": "d95570c9-7f3f-4d9f-9649-fb30c45076a4"
      },
      "source": [
        "print(\"Dictionaries\")\n",
        "friend_ages = {\"Rolf\":24, \"Sandy\":27, \"Sam\": 30}\n",
        "friend_ages[\"Sandy\"]\n",
        "\n",
        "friend_ages[\"Bob\"] =25 #Modify or add an element to the dictionary"
      ],
      "execution_count": null,
      "outputs": [
        {
          "output_type": "stream",
          "text": [
            "Dictionaries\n"
          ],
          "name": "stdout"
        },
        {
          "output_type": "execute_result",
          "data": {
            "text/plain": [
              "27"
            ]
          },
          "metadata": {
            "tags": []
          },
          "execution_count": 1
        }
      ]
    },
    {
      "cell_type": "code",
      "metadata": {
        "id": "akqhBM4r7VHC",
        "colab": {
          "base_uri": "https://localhost:8080/",
          "height": 34
        },
        "outputId": "c7ed50c0-5b73-4b77-80bd-6122cce91252"
      },
      "source": [
        "friends = [\n",
        "           {\"name\": \"Rolf\", \"age\": 24},\n",
        "           {\"name\": \"Sandy\", \"age\": 27},\n",
        "           {\"name\": \"Sam\", \"age\": 30},\n",
        "]\n",
        "friends[1][\"name\"]"
      ],
      "execution_count": null,
      "outputs": [
        {
          "output_type": "execute_result",
          "data": {
            "text/plain": [
              "'Sandy'"
            ]
          },
          "metadata": {
            "tags": []
          },
          "execution_count": 3
        }
      ]
    },
    {
      "cell_type": "code",
      "metadata": {
        "id": "vBPGr23A7VKB",
        "colab": {
          "base_uri": "https://localhost:8080/",
          "height": 68
        },
        "outputId": "3df332c9-20c7-40fd-97fa-57d4181aac63"
      },
      "source": [
        "friend_ages = {\"Rolf\":24, \"Sandy\":27, \"Sam\": 30}\n",
        "\n",
        "for x in friend_ages:\n",
        "  print(x)"
      ],
      "execution_count": null,
      "outputs": [
        {
          "output_type": "stream",
          "text": [
            "Rolf\n",
            "Sandy\n",
            "Sam\n"
          ],
          "name": "stdout"
        }
      ]
    },
    {
      "cell_type": "code",
      "metadata": {
        "id": "d0OHcNIJ7VNE",
        "colab": {
          "base_uri": "https://localhost:8080/",
          "height": 204
        },
        "outputId": "f42c56ec-81c7-4375-b9bd-a4c6d30e4684"
      },
      "source": [
        "friend_ages = {\"Rolf\":24, \"Sandy\":27, \"Sam\": 30}\n",
        "\n",
        "for x in friend_ages:\n",
        "  print(f\"{x}: {friend_ages[x]}\")\n",
        "\n",
        "print(\"Same result\")\n",
        "for x,y in friend_ages.items():\n",
        "  print(f\"{x}: {y}\")\n",
        "\n",
        "print(friend_ages.values())\n",
        "print(sum(friend_ages.values()))\n",
        "\n",
        "print(friend_ages.items())\n",
        "\n",
        "print(list(friend_ages.items()))"
      ],
      "execution_count": null,
      "outputs": [
        {
          "output_type": "stream",
          "text": [
            "Rolf: 24\n",
            "Sandy: 27\n",
            "Sam: 30\n",
            "Same result\n",
            "Rolf: 24\n",
            "Sandy: 27\n",
            "Sam: 30\n",
            "dict_values([24, 27, 30])\n",
            "81\n",
            "dict_items([('Rolf', 24), ('Sandy', 27), ('Sam', 30)])\n",
            "[('Rolf', 24), ('Sandy', 27), ('Sam', 30)]\n"
          ],
          "name": "stdout"
        }
      ]
    },
    {
      "cell_type": "code",
      "metadata": {
        "id": "vipjGOo07VQc",
        "colab": {
          "base_uri": "https://localhost:8080/",
          "height": 34
        },
        "outputId": "264e5720-bdcd-4e2d-ef57-172993c08c50"
      },
      "source": [
        "# To ignore a variable - use underscore - https://healthedge.udemy.com/course/rest-api-flask-and-python/learn/lecture/15927666#overview\n",
        "person = (\"Sandy\", 27, \"DS\")\n",
        "name, _, profession = person\n",
        "print(name, profession)\n"
      ],
      "execution_count": null,
      "outputs": [
        {
          "output_type": "stream",
          "text": [
            "Sandy DS\n"
          ],
          "name": "stdout"
        }
      ]
    },
    {
      "cell_type": "code",
      "metadata": {
        "id": "Ln0ksYls7VTQ",
        "colab": {
          "base_uri": "https://localhost:8080/",
          "height": 51
        },
        "outputId": "b6530e44-c4b2-4731-f87b-fb7555d957a0"
      },
      "source": [
        "# Seperate a list into 2 elements: 1st and all other into 1\n",
        "# * is used for collectiong\n",
        "head, *tail = [1,2,3,4,5]\n",
        "print(head)\n",
        "print(tail)"
      ],
      "execution_count": null,
      "outputs": [
        {
          "output_type": "stream",
          "text": [
            "1\n",
            "[2, 3, 4, 5]\n"
          ],
          "name": "stdout"
        }
      ]
    },
    {
      "cell_type": "code",
      "metadata": {
        "id": "XDALFW606sf2",
        "colab": {
          "base_uri": "https://localhost:8080/",
          "height": 68
        },
        "outputId": "9e00ce4e-e236-40f3-a47c-0434dea12ee3"
      },
      "source": [
        "head, *tail, y = [1,2,3,4,5]\n",
        "print(head)\n",
        "print(tail)\n",
        "print(y)"
      ],
      "execution_count": null,
      "outputs": [
        {
          "output_type": "stream",
          "text": [
            "1\n",
            "[2, 3, 4]\n",
            "5\n"
          ],
          "name": "stdout"
        }
      ]
    },
    {
      "cell_type": "markdown",
      "metadata": {
        "id": "QZyIYdkw7Dzs"
      },
      "source": [
        "### Functions\n"
      ]
    },
    {
      "cell_type": "code",
      "metadata": {
        "id": "UAGrZGQa6sca"
      },
      "source": [
        "def hello():\n",
        "  print(\"Hello!\")"
      ],
      "execution_count": null,
      "outputs": []
    },
    {
      "cell_type": "code",
      "metadata": {
        "id": "4sk1g34Q6_3X"
      },
      "source": [
        "def age_in_secs():\n",
        "  age = int(input(\"Enter your age:\"))\n",
        "  age_secs = age*365*24*60*60\n",
        "  print(f\"Your age in seconds is {age_secs}\")"
      ],
      "execution_count": null,
      "outputs": []
    },
    {
      "cell_type": "code",
      "metadata": {
        "id": "PaSRgZpp7ADG",
        "colab": {
          "base_uri": "https://localhost:8080/",
          "height": 51
        },
        "outputId": "b11d2ed0-3c97-4a13-8cfc-d01e5a41fd11"
      },
      "source": [
        "age_in_secs()"
      ],
      "execution_count": null,
      "outputs": [
        {
          "output_type": "stream",
          "text": [
            "Enter your age:27\n",
            "Your age in seconds is 851472000\n"
          ],
          "name": "stdout"
        }
      ]
    },
    {
      "cell_type": "code",
      "metadata": {
        "id": "Ke5VL-EJ6sZM",
        "colab": {
          "base_uri": "https://localhost:8080/",
          "height": 34
        },
        "outputId": "c86f535c-53ed-4847-e7c4-fa90073b44d3"
      },
      "source": [
        "# positional Arguments\n",
        "def say_hello():\n",
        "  print(\"Hello Sandy!\")\n",
        "\n",
        "say_hello()"
      ],
      "execution_count": null,
      "outputs": [
        {
          "output_type": "stream",
          "text": [
            "Hello Sandy!\n"
          ],
          "name": "stdout"
        }
      ]
    },
    {
      "cell_type": "code",
      "metadata": {
        "id": "heCAEo2t6sWA",
        "colab": {
          "base_uri": "https://localhost:8080/",
          "height": 34
        },
        "outputId": "3d0e1356-22a4-4315-945e-d21cbbf246e3"
      },
      "source": [
        "def say_hello(name):\n",
        "  print(f\"Hello {name}\")\n",
        "\n",
        "say_hello(\"sandy\")"
      ],
      "execution_count": null,
      "outputs": [
        {
          "output_type": "stream",
          "text": [
            "Hello sandy\n"
          ],
          "name": "stdout"
        }
      ]
    },
    {
      "cell_type": "code",
      "metadata": {
        "id": "gIHDno_76sPu",
        "colab": {
          "base_uri": "https://localhost:8080/",
          "height": 34
        },
        "outputId": "0f21e6ee-b577-46c0-9f31-665234f2a654"
      },
      "source": [
        "def say_hello(name, surname):\n",
        "  print(f\"Hello {name} {surname}\")\n",
        "\n",
        "say_hello(\"sandy\", \"pashikanti\")"
      ],
      "execution_count": null,
      "outputs": [
        {
          "output_type": "stream",
          "text": [
            "Hello sandy pashikanti\n"
          ],
          "name": "stdout"
        }
      ]
    },
    {
      "cell_type": "code",
      "metadata": {
        "id": "h6A8x1oZ6sHJ",
        "colab": {
          "base_uri": "https://localhost:8080/",
          "height": 34
        },
        "outputId": "288744af-4151-421c-d048-bbfc17faa9e3"
      },
      "source": [
        "# When variables are mentioned, then \n",
        "def say_hello(name, surname):\n",
        "  print(f\"Hello {name} {surname}\")\n",
        "\n",
        "say_hello(surname=\"pashikanti\" , name=\"sandy\" )"
      ],
      "execution_count": null,
      "outputs": [
        {
          "output_type": "stream",
          "text": [
            "Hello sandy pashikanti\n"
          ],
          "name": "stdout"
        }
      ]
    },
    {
      "cell_type": "code",
      "metadata": {
        "id": "Br8W1Q-S6sC-"
      },
      "source": [
        "def addtwo(x, y=5): #Here y is default parameter, it takes the value mentioned \n",
        "\n",
        "def addtwo(x=5, y): # Gives ERROR as default parameters must be mentioned at the end\n",
        "\n",
        "def addtwo(y, x-3): # x is mentioned as a default parameter - and specified at the end"
      ],
      "execution_count": null,
      "outputs": []
    },
    {
      "cell_type": "code",
      "metadata": {
        "id": "3GndwUiU6r7D",
        "colab": {
          "base_uri": "https://localhost:8080/",
          "height": 68
        },
        "outputId": "acc4b5d2-273d-445e-bbd9-039e484f6e7d"
      },
      "source": [
        "def add2(x,y):\n",
        "  print(x+y)\n",
        "\n",
        "add2(5,8)\n",
        "print(add2(5,8)) # Here add2(5,8) is called and then the function returns None"
      ],
      "execution_count": null,
      "outputs": [
        {
          "output_type": "stream",
          "text": [
            "13\n",
            "13\n",
            "None\n"
          ],
          "name": "stdout"
        }
      ]
    },
    {
      "cell_type": "code",
      "metadata": {
        "id": "KphFFF5dxKY0",
        "colab": {
          "base_uri": "https://localhost:8080/",
          "height": 34
        },
        "outputId": "27cf26a4-38a3-4416-c7e0-398ce1c4f695"
      },
      "source": [
        "# Return statement in a function returns a value after the function is executed\n",
        "# Print statement in a function returns NONE after the function is executed\n",
        "def addtwo(x,y):\n",
        "  return x+y\n",
        "\n",
        "addtwo(5,8)\n",
        "print(addtwo(5,8))"
      ],
      "execution_count": null,
      "outputs": [
        {
          "output_type": "stream",
          "text": [
            "13\n"
          ],
          "name": "stdout"
        }
      ]
    },
    {
      "cell_type": "code",
      "metadata": {
        "id": "fQU8LAddxJov"
      },
      "source": [
        "def addtwo(x,y):\n",
        "  return x+y\n",
        "  print(x+y) # Print statement is not executed because it is after the return statement"
      ],
      "execution_count": null,
      "outputs": []
    },
    {
      "cell_type": "code",
      "metadata": {
        "id": "V_BvbeJn-IRt",
        "colab": {
          "base_uri": "https://localhost:8080/",
          "height": 34
        },
        "outputId": "2dd90232-0929-4279-8d87-9b1d960c93ec"
      },
      "source": [
        "# lambda function - Get input and return output\n",
        "addtwoNum = lambda x, y: x+y \n",
        "print(addtwoNum(5,7))"
      ],
      "execution_count": null,
      "outputs": [
        {
          "output_type": "stream",
          "text": [
            "12\n"
          ],
          "name": "stdout"
        }
      ]
    },
    {
      "cell_type": "code",
      "metadata": {
        "id": "9R6vzO-2-IFf",
        "colab": {
          "base_uri": "https://localhost:8080/",
          "height": 34
        },
        "outputId": "204f5529-ad5f-4189-f83a-3e1dad0d6b5c"
      },
      "source": [
        "# Calling 5,7 as x,y on lambda functions\n",
        "(lambda x, y: x+y)(5,7)"
      ],
      "execution_count": null,
      "outputs": [
        {
          "output_type": "execute_result",
          "data": {
            "text/plain": [
              "12"
            ]
          },
          "metadata": {
            "tags": []
          },
          "execution_count": 5
        }
      ]
    },
    {
      "cell_type": "code",
      "metadata": {
        "id": "jN60gLjk-Hyk"
      },
      "source": [
        "# Applying function on a sequence\n",
        "def double(x):\n",
        "  return x*2\n",
        "\n",
        "sequence = [1,3,5,9]\n",
        "\n",
        "# 1st way\n",
        "DoubledSequence = [double(x) for x in sequence]\n",
        "\n",
        "# 2nd way\n",
        "DoubledSequence = map(double, sequence)\n",
        "\n",
        "# 3rd way - lambda\n",
        "DoubledSequence = [(lambda x: x*2)(x) for x in sequence]\n",
        "DoubledSequence = map(lambda x: x*2, sequence)\n",
        "\n",
        "print(list(DoubledSequence))"
      ],
      "execution_count": null,
      "outputs": []
    },
    {
      "cell_type": "code",
      "metadata": {
        "id": "gcGdgMvDC8kR",
        "colab": {
          "base_uri": "https://localhost:8080/",
          "height": 34
        },
        "outputId": "c5028b90-54b2-46de-a943-79767834532e"
      },
      "source": [
        "# Multiple arguments - iterating more the previous value\n",
        "def multiply(*args):\n",
        "  print(args)\n",
        "\n",
        "multiply(1,3,5)"
      ],
      "execution_count": null,
      "outputs": [
        {
          "output_type": "stream",
          "text": [
            "(1, 3, 5)\n"
          ],
          "name": "stdout"
        }
      ]
    },
    {
      "cell_type": "code",
      "metadata": {
        "id": "MvLUfHFBC8nM",
        "colab": {
          "base_uri": "https://localhost:8080/",
          "height": 34
        },
        "outputId": "e85088d8-8364-433b-932c-1ceeb856475e"
      },
      "source": [
        "# Multiple arguments - iterating more the previous value\n",
        "def multiply(*args):\n",
        "  total=1\n",
        "  for arg in args:\n",
        "    total = total*arg\n",
        "  return total\n",
        "\n",
        "multiply(1,3,5)"
      ],
      "execution_count": null,
      "outputs": [
        {
          "output_type": "execute_result",
          "data": {
            "text/plain": [
              "15"
            ]
          },
          "metadata": {
            "tags": []
          },
          "execution_count": 15
        }
      ]
    },
    {
      "cell_type": "code",
      "metadata": {
        "id": "VC2mHa_OxJfu",
        "colab": {
          "base_uri": "https://localhost:8080/",
          "height": 34
        },
        "outputId": "5189f43d-fcab-4af6-b017-9e201c19133d"
      },
      "source": [
        "nums = [3,5]\n",
        "print(*nums)"
      ],
      "execution_count": null,
      "outputs": [
        {
          "output_type": "stream",
          "text": [
            "3 5\n"
          ],
          "name": "stdout"
        }
      ]
    },
    {
      "cell_type": "code",
      "metadata": {
        "id": "n9C9WoVKxJQs",
        "colab": {
          "base_uri": "https://localhost:8080/",
          "height": 34
        },
        "outputId": "3a00529c-0b51-499c-fc5d-da1a75b237f8"
      },
      "source": [
        "# Create dictionary\n",
        "def names(**kwargs):\n",
        "  print(kwargs)\n",
        "\n",
        "names(name=\"Sandy\", age=27)"
      ],
      "execution_count": null,
      "outputs": [
        {
          "output_type": "stream",
          "text": [
            "{'name': 'Sandy', 'age': 27}\n"
          ],
          "name": "stdout"
        }
      ]
    },
    {
      "cell_type": "code",
      "metadata": {
        "id": "439HML7P_Ekj"
      },
      "source": [
        ""
      ],
      "execution_count": null,
      "outputs": []
    },
    {
      "cell_type": "markdown",
      "metadata": {
        "id": "p1CGfWkxZ8AY"
      },
      "source": [
        "\n",
        "\n",
        "```\n",
        "# This is formatted as code\n",
        "```\n",
        "\n",
        "# Flask\n",
        "### https://github.com/schoolofcode-me/rest-api-sections/tree/master/section3"
      ]
    },
    {
      "cell_type": "code",
      "metadata": {
        "id": "68CpuPZCSQhE"
      },
      "source": [
        "!pip install flask"
      ],
      "execution_count": null,
      "outputs": []
    },
    {
      "cell_type": "code",
      "metadata": {
        "id": "L2SJkDlrSQeC"
      },
      "source": [
        "from flask import Flask"
      ],
      "execution_count": null,
      "outputs": []
    },
    {
      "cell_type": "code",
      "metadata": {
        "id": "_xQJxMjrSQkK"
      },
      "source": [
        "app = Flask(__name__) #Created an object called flask\n",
        "\n",
        "@app.route('/') # By default it is GET request\n",
        "def home():\n",
        "  return \"Hello, world!\"\n",
        "\n",
        "app.run(port=5000)"
      ],
      "execution_count": null,
      "outputs": []
    },
    {
      "cell_type": "code",
      "metadata": {
        "id": "7b3a6U7X6zMP"
      },
      "source": [
        "# Web server - Accepts web requests \n",
        "# GET Request - GET / HTTP/1.1 - 'GET' is verb, '/' is path, 'HTTP/1.1' is protocol\n",
        "# '/' is usually homepage path\n",
        "\n",
        "# GET - Retrieve sth - GET /item/1\n",
        "# POST - Recieve data and use it - POST /item\n",
        "# PUT - Make sure sth is there - PUT /item\n",
        "# DELETE - Remove sth - DELETE /item/1"
      ],
      "execution_count": null,
      "outputs": []
    },
    {
      "cell_type": "code",
      "metadata": {
        "id": "YBg1gwQJ6zGq"
      },
      "source": [
        "# REST API - responds with resources\n",
        "# Stateless - One request cannot depend on other requests i.e server knows only current request\n",
        "# Since it is Stateless - when a user logs into a web application - server does not know that the user is logged in - \n",
        "# - So web application  must send enough data to identify the user IN EVERY REQUEST, or else the server wont associate the request with the user\n"
      ],
      "execution_count": null,
      "outputs": []
    },
    {
      "cell_type": "code",
      "metadata": {
        "id": "Ti1d3-nN6y8G"
      },
      "source": [
        "# POST is used to receive data\n",
        "# GET is used to send back data\n",
        "from flask import jasonify\n",
        "\n",
        "app = Flask(__name__) #Created an object called flask\n",
        "stores = [\n",
        "          {\n",
        "           'name':'My Wonderful Store'\n",
        "           'items': [\n",
        "            {\n",
        "             'name': 'My Item'\n",
        "             'price': 15.99\n",
        "            } #\n",
        "           ]   \n",
        "          } #Single dictionary\n",
        "]\n",
        "\n",
        "# create store\n",
        "@app.route('/store', methods =['POST'])\n",
        "def create_store():\n",
        "  pass\n",
        "\n",
        "# GET store\n",
        "@app.route('/store/<string:name>')\n",
        "def get_store(name):\n",
        "  pass\n",
        "\n",
        "@app.route('/store')\n",
        "def get_stores():\n",
        "  return jsonify(stores)\n",
        "\n",
        "@app.route('/store/<string:name>/item', methods =['POST'])\n",
        "def create_item_in_store(name):\n",
        "  pass\n",
        "\n",
        "@app.route('/store/<string:name>/item')\n",
        "def get_items_in_store(name):\n",
        "  pass\n",
        "  \n",
        "\n",
        "\n",
        "app.run(port=5000)"
      ],
      "execution_count": null,
      "outputs": []
    },
    {
      "cell_type": "code",
      "metadata": {
        "id": "GXEOlAMF_EWx"
      },
      "source": [
        ""
      ],
      "execution_count": null,
      "outputs": []
    },
    {
      "cell_type": "code",
      "metadata": {
        "id": "U4178vSH_ECx",
        "colab": {
          "base_uri": "https://localhost:8080/"
        },
        "outputId": "66676857-b5dd-473f-caa8-07c47e8e290d"
      },
      "source": [
        "powersofTwo"
      ],
      "execution_count": null,
      "outputs": [
        {
          "output_type": "execute_result",
          "data": {
            "text/plain": [
              "[2, 4, 8, 16, 32]"
            ]
          },
          "metadata": {
            "tags": []
          },
          "execution_count": 9
        }
      ]
    },
    {
      "cell_type": "code",
      "metadata": {
        "id": "mGzquRO050gP"
      },
      "source": [
        "import numpy as np\n",
        "import math\n",
        "x = 3\n",
        "y = 19\n",
        "def powersofTwoBetwXY(x,y):\n",
        "  p=np.int(np.ceil(math.log2(x)))\n",
        "  q=np.int(np.ceil(math.log2(y)))\n",
        "  powersofTwo = []\n",
        "  for i in range(p,q):\n",
        "    x = pow(2,i) \n",
        "    powersofTwo.append(x)\n",
        "  print(powersofTwo)"
      ],
      "execution_count": null,
      "outputs": []
    },
    {
      "cell_type": "code",
      "metadata": {
        "colab": {
          "base_uri": "https://localhost:8080/"
        },
        "id": "Dmi9ofAUE12E",
        "outputId": "8efa3bdd-7eab-4a9c-c1a3-c78866d9feae"
      },
      "source": [
        "powersofTwoBetwXY(3,19)"
      ],
      "execution_count": null,
      "outputs": [
        {
          "output_type": "stream",
          "text": [
            "[4, 8, 16]\n"
          ],
          "name": "stdout"
        }
      ]
    },
    {
      "cell_type": "code",
      "metadata": {
        "id": "GjHpvSt350Zn"
      },
      "source": [
        "def nextPowerOf2(n): \n",
        "    count = 0; \n",
        "  \n",
        "    # First n in the below  \n",
        "    # condition is for the  \n",
        "    # case where n is 0 \n",
        "    if (n and not(n & (n - 1))): \n",
        "        return n \n",
        "      \n",
        "    while( n != 0): \n",
        "        n >>= 1\n",
        "        count += 1\n",
        "      \n",
        "    return 1 << count\n",
        "    return count; "
      ],
      "execution_count": null,
      "outputs": []
    },
    {
      "cell_type": "code",
      "metadata": {
        "id": "pRCXyPJ6_6Fp"
      },
      "source": [
        "def prime_factors_list(n):\n",
        "    result = list()\n",
        "    diviser = 2\n",
        "\n",
        "    if n <= 0:\n",
        "        return [] #empty list\n",
        "\n",
        "\n",
        "\n",
        "    if n == 1:\n",
        "        return [1]\n",
        "\n",
        "    \"\"\"We increment diviser when it does not divide n anymore\"\"\"\n",
        "    while n != 1:\n",
        "        if n % diviser == 0: # if 'diviser' divides n\n",
        "            n = n / diviser\n",
        "            result.append(diviser) # diviser works, we add it to the list\n",
        "        else:\n",
        "            diviser += 1 #diviser does not work, we try with a bigger one\n",
        "\n",
        "    return result"
      ],
      "execution_count": null,
      "outputs": []
    },
    {
      "cell_type": "code",
      "metadata": {
        "id": "GSSoIJ3H50N2",
        "colab": {
          "base_uri": "https://localhost:8080/"
        },
        "outputId": "2276bec7-824d-4eb2-9e40-1f0026268d4b"
      },
      "source": [
        "len(prime_factors_list(nextPowerOf2(19)))"
      ],
      "execution_count": null,
      "outputs": [
        {
          "output_type": "execute_result",
          "data": {
            "text/plain": [
              "5"
            ]
          },
          "metadata": {
            "tags": []
          },
          "execution_count": 22
        }
      ]
    },
    {
      "cell_type": "code",
      "metadata": {
        "colab": {
          "base_uri": "https://localhost:8080/",
          "height": 160
        },
        "id": "bZq55irl_H7M",
        "outputId": "9edef5f9-5d5f-41a4-9c1f-cdbdc6f86aea"
      },
      "source": [
        "exp(32,2)"
      ],
      "execution_count": null,
      "outputs": [
        {
          "output_type": "error",
          "ename": "NameError",
          "evalue": "ignored",
          "traceback": [
            "\u001b[0;31m---------------------------------------------------------------------------\u001b[0m",
            "\u001b[0;31mNameError\u001b[0m                                 Traceback (most recent call last)",
            "\u001b[0;32m<ipython-input-13-12cfc00bf97d>\u001b[0m in \u001b[0;36m<module>\u001b[0;34m()\u001b[0m\n\u001b[0;32m----> 1\u001b[0;31m \u001b[0mexp\u001b[0m\u001b[0;34m(\u001b[0m\u001b[0;36m32\u001b[0m\u001b[0;34m,\u001b[0m\u001b[0;36m2\u001b[0m\u001b[0;34m)\u001b[0m\u001b[0;34m\u001b[0m\u001b[0;34m\u001b[0m\u001b[0m\n\u001b[0m",
            "\u001b[0;31mNameError\u001b[0m: name 'exp' is not defined"
          ]
        }
      ]
    }
  ]
}