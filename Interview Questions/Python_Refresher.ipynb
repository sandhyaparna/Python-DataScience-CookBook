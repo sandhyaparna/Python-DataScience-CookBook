{
  "nbformat": 4,
  "nbformat_minor": 0,
  "metadata": {
    "colab": {
      "name": "Python Refresher.ipynb",
      "provenance": [],
      "collapsed_sections": [],
      "include_colab_link": true
    },
    "kernelspec": {
      "name": "python3",
      "display_name": "Python 3"
    }
  },
  "cells": [
    {
      "cell_type": "markdown",
      "metadata": {
        "id": "view-in-github",
        "colab_type": "text"
      },
      "source": [
        "<a href=\"https://colab.research.google.com/github/sandhyaparna/Python-DataScience-CookBook/blob/master/Interview%20Questions/Python_Refresher.ipynb\" target=\"_parent\"><img src=\"https://colab.research.google.com/assets/colab-badge.svg\" alt=\"Open In Colab\"/></a>"
      ]
    },
    {
      "cell_type": "markdown",
      "metadata": {
        "id": "yzhmL_YuUM0B"
      },
      "source": [
        "While loops: https://www.w3schools.com/python/python_while_loops.asp\r\n",
        "\r\n",
        "For loops: https://www.w3schools.com/python/python_for_loops.asp\r\n",
        "\r\n",
        "Regex: https://www.rexegg.com/regex-quickstart.html </br>\r\n",
        "http://www.pyregex.com/\r\n",
        "\r\n",
        "DataTime: https://strftime.org/\r\n"
      ]
    },
    {
      "cell_type": "markdown",
      "metadata": {
        "id": "el6H1Fq97IqF"
      },
      "source": [
        "* key words: True, False, None, and, or, not\r\n",
        "  * break (break out of the loop and passes the control to the statement following immediately after loop)\r\n",
        "  * pass (null statement, do nothing in a if statement)\r\n",
        "  * continue (skips the current iteration of the loop, but does not end the loop)\r\n",
        "  * class (to declare user defined classes)\r\n",
        "  * def (declare user defined functions\r\n",
        "  * if, elif, else\r\n",
        "  * del (used to delete a reference to an object)\r\n",
        "  * try (used for exception handling)\r\n",
        "  * except, raise, finally\r\n",
        "\r\n",
        "\r\n",
        "* Logical operators: and (&), or (|), not (~), XOR (^), in , not in, == checks for value, is checks whether they refer to the same object or not eg:type\r\n",
        "* Output formatting d for int, f for float values, o for octal values, E for exponential. General syntax is %[flags][width][.precision]type\r\n",
        "  * %2d if used on int=1, will be printed with a leading blank\r\n",
        "* Ternanry operator: \r\n",
        "  * [on_true] if [expression] else [on_false] \r\n",
        "  * print((lambda: b, lambda: a)[a < b]()) \r\n",
        "* Assign multiple values\r\n",
        "  * x, y, z = \"Orange\", \"Banana\", \"Cherry\"\r\n",
        "  * Unpack a list: fruits = [\"apple\", \"banana\", \"cherry\"]; x, y, z = fruits\r\n",
        "* String functions: var.split(\",\"); var.replca(\"word\",\"replacementword\"), To remove white space: a.strip() \r\n",
        "* Escape characters to give the desired result\r\n",
        "  * \\' : Single Quote\r\n",
        "  * \\\\ :Backslash\r\n",
        "  * \\n: new line\r\n",
        "  * \\t : tab\r\n",
        "\r\n"
      ]
    },
    {
      "cell_type": "markdown",
      "metadata": {
        "id": "im2chaBkdyVn"
      },
      "source": [
        "  Lists:\r\n",
        "  * append()\r\n",
        "  * insert\r\n",
        "  * extend: To append elements from another list to the current list\r\n",
        "  * remove()\r\n",
        "  * pop(2) : removes the specified index i.e. 2 in this case\r\n",
        "  * pop(): removes last item\r\n",
        "  * del list[2] : removes the specified index\r\n",
        "  * del list : del the entire list\r\n",
        "  * list.clear() : empties the list\r\n",
        "  * list.sort() : ascending\r\n",
        "  * list.sort(reverse = True) : descending\r\n",
        "  * list.sort() on string avlues gives all capital letter sorted first before lower case letters\r\n",
        "  * list.sort(key = str.lower) : To perform case-insensitive sort of the list\r\n",
        "  * list.reverse() : Reverse the order of the list items. similar to List[::-1]\r\n",
        "  * list.copy() : to copy lists\r\n",
        "  * list.count(): returns number of elements with the specified values\r\n",
        "  * list.index(\"sam\")\r\n"
      ]
    },
    {
      "cell_type": "code",
      "metadata": {
        "id": "jroZ2xLIeUvz"
      },
      "source": [
        "# Loop Through a List\r\n",
        "thislist = [\"apple\", \"banana\", \"cherry\"]\r\n",
        "for x in thislist:\r\n",
        "  print(x)"
      ],
      "execution_count": null,
      "outputs": []
    },
    {
      "cell_type": "code",
      "metadata": {
        "id": "d49_B02IeX8I"
      },
      "source": [
        "# Loop Through the Index Numbers\r\n",
        "thislist = [\"apple\", \"banana\", \"cherry\"]\r\n",
        "for i in range(len(thislist)):\r\n",
        "  print(thislist[i])"
      ],
      "execution_count": null,
      "outputs": []
    },
    {
      "cell_type": "code",
      "metadata": {
        "id": "hpi7GPjhekjE"
      },
      "source": [
        "# While loop to go through all the index numbers\r\n",
        "thislist = [\"apple\", \"banana\", \"cherry\"]\r\n",
        "i = 0\r\n",
        "while i < len(thislist):\r\n",
        "  print(thislist[i])\r\n",
        "  i = i + 1"
      ],
      "execution_count": null,
      "outputs": []
    },
    {
      "cell_type": "code",
      "metadata": {
        "colab": {
          "base_uri": "https://localhost:8080/"
        },
        "id": "AIkFBCbne69X",
        "outputId": "fabaa957-cf19-4bcd-ad41-ce3df273e47b"
      },
      "source": [
        "# List compreshension\r\n",
        "fruits = [\"apple\", \"banana\", \"cherry\", \"kiwi\", \"mango\"]\r\n",
        "newlist = [x for x in fruits if \"a\" in x]\r\n",
        "print(newlist)\r\n",
        "\r\n",
        "# Bigger version of the the above\r\n",
        "fruits = [\"apple\", \"banana\", \"cherry\", \"kiwi\", \"mango\"]\r\n",
        "newlist = []\r\n",
        "for x in fruits:\r\n",
        "  if \"a\" in x:\r\n",
        "    newlist.append(x)\r\n",
        "\r\n",
        "print(newlist)"
      ],
      "execution_count": null,
      "outputs": [
        {
          "output_type": "stream",
          "text": [
            "['apple', 'banana', 'mango']\n",
            "['apple', 'banana', 'mango']\n"
          ],
          "name": "stdout"
        }
      ]
    },
    {
      "cell_type": "code",
      "metadata": {
        "id": "OUhYbFbV-Amb"
      },
      "source": [
        "a = 200\r\n",
        "b = 33\r\n",
        "if b > a:\r\n",
        "  print(\"b is greater than a\")\r\n",
        "elif a == b:\r\n",
        "  print(\"a and b are equal\")\r\n",
        "else:\r\n",
        "  print(\"a is greater than b\")"
      ],
      "execution_count": null,
      "outputs": []
    },
    {
      "cell_type": "code",
      "metadata": {
        "id": "t__FkO9_-Hzo"
      },
      "source": [
        "x = 41\r\n",
        "if x > 10:\r\n",
        "  print(\"Above ten,\")\r\n",
        "  if x > 20:\r\n",
        "    print(\"and also above 20!\")\r\n",
        "  else:\r\n",
        "    print(\"but not above 20.\")"
      ],
      "execution_count": null,
      "outputs": []
    },
    {
      "cell_type": "code",
      "metadata": {
        "id": "DZKUi5Ku-J7j"
      },
      "source": [
        "# if statements cannot be empty, but if you for some reason have an if statement with no content, put in the pass statement to avoid getting an error\r\n",
        "a = 33\r\n",
        "b = 200\r\n",
        "\r\n",
        "if b > a:\r\n",
        "  pass"
      ],
      "execution_count": null,
      "outputs": []
    },
    {
      "cell_type": "code",
      "metadata": {
        "id": "EzC_eQLO-ygG"
      },
      "source": [
        "# With the break statement we can stop the loop even if the while condition is true:\r\n",
        "i = 1\r\n",
        "while i < 6:\r\n",
        "  print(i)\r\n",
        "  if i == 3:\r\n",
        "    break\r\n",
        "  i += 1"
      ],
      "execution_count": null,
      "outputs": []
    },
    {
      "cell_type": "code",
      "metadata": {
        "id": "PMk0vfB6_WIm"
      },
      "source": [
        "fruits = [\"apple\", \"banana\", \"cherry\"]\r\n",
        "for x in fruits:\r\n",
        "  print(x)\r\n",
        "  if x == \"banana\":\r\n",
        "    break"
      ],
      "execution_count": null,
      "outputs": []
    },
    {
      "cell_type": "code",
      "metadata": {
        "id": "m28kB5g8_BQY"
      },
      "source": [
        "# With the continue statement we can stop the current iteration, and continue with the next:\r\n",
        "# Continue to the next iteration if i is 3\r\n",
        "i = 0\r\n",
        "while i < 6:\r\n",
        "  i += 1\r\n",
        "  if i == 3:\r\n",
        "    continue\r\n",
        "  print(i)"
      ],
      "execution_count": null,
      "outputs": []
    },
    {
      "cell_type": "code",
      "metadata": {
        "id": "adshB3cH_bEQ"
      },
      "source": [
        "fruits = [\"apple\", \"banana\", \"cherry\"]\r\n",
        "for x in fruits:\r\n",
        "  if x == \"banana\":\r\n",
        "    continue\r\n",
        "  print(x)"
      ],
      "execution_count": null,
      "outputs": []
    },
    {
      "cell_type": "code",
      "metadata": {
        "colab": {
          "base_uri": "https://localhost:8080/"
        },
        "id": "iyq7fhru_OB5",
        "outputId": "d54f7aeb-2d5d-4d21-a83f-b45969db8918"
      },
      "source": [
        "i = 1\r\n",
        "while i < 6:\r\n",
        "  print(i)\r\n",
        "  i += 1\r\n",
        "else:\r\n",
        "  print(\"i is no longer less than 6\")"
      ],
      "execution_count": null,
      "outputs": [
        {
          "output_type": "stream",
          "text": [
            "1\n",
            "2\n",
            "3\n",
            "4\n",
            "5\n",
            "i is no longer less than 6\n"
          ],
          "name": "stdout"
        }
      ]
    },
    {
      "cell_type": "code",
      "metadata": {
        "colab": {
          "base_uri": "https://localhost:8080/"
        },
        "id": "dSjXTu96_Qik",
        "outputId": "2b646416-85c2-4d73-cdb6-2c901ef09d70"
      },
      "source": [
        "# Increment in sequence of 3 from 2 to 30\r\n",
        "for x in range(2, 30, 3):\r\n",
        "  print(x)"
      ],
      "execution_count": null,
      "outputs": [
        {
          "output_type": "stream",
          "text": [
            "2\n",
            "5\n",
            "8\n",
            "11\n",
            "14\n",
            "17\n",
            "20\n",
            "23\n",
            "26\n",
            "29\n"
          ],
          "name": "stdout"
        }
      ]
    },
    {
      "cell_type": "code",
      "metadata": {
        "colab": {
          "base_uri": "https://localhost:8080/"
        },
        "id": "67Pt1Vlacjo0",
        "outputId": "c1ef1670-32a2-4d2a-ee01-3eb3cdfc27c6"
      },
      "source": [
        "# python code to demonstrate working of enumerate() \r\n",
        "# Using enumerate():  enumerate() is used to loop through the containers printing the index number along with the value present in that particular index.\r\n",
        "for key, value in enumerate(['The', 'Big', 'Bang', 'Theory']): \r\n",
        "    print(key, value) \r\n",
        "\r\n",
        "for key, value in enumerate(['Geeks', 'for', 'Geeks', 'is', 'the', 'Best', 'Coding', 'Platform']): \r\n",
        "    print(value, end=' ') "
      ],
      "execution_count": null,
      "outputs": [
        {
          "output_type": "stream",
          "text": [
            "0 The\n",
            "1 Big\n",
            "2 Bang\n",
            "3 Theory\n",
            "Geeks for Geeks is the Best Coding Platform "
          ],
          "name": "stdout"
        }
      ]
    },
    {
      "cell_type": "code",
      "metadata": {
        "colab": {
          "base_uri": "https://localhost:8080/"
        },
        "id": "t_zjCb6Icx54",
        "outputId": "306fd725-c4b1-4f00-ec3f-115f80128d20"
      },
      "source": [
        "# Using zip(): zip() is used to combine 2 similar containers(list-list or dict-dict) printing the values sequentially. The loop exists only till the smaller container ends.\r\n",
        "# initializing list \r\n",
        "questions = ['name', 'colour', 'shape'] \r\n",
        "answers = ['apple', 'red', 'a circle'] \r\n",
        "  \r\n",
        "# using zip() to combine two containers  \r\n",
        "# and print values \r\n",
        "for question, answer in zip(questions, answers): \r\n",
        "    print('What is your {0}?  I am {1}.'.format(question, answer)) "
      ],
      "execution_count": null,
      "outputs": [
        {
          "output_type": "stream",
          "text": [
            "What is your name?  I am apple.\n",
            "What is your colour?  I am red.\n",
            "What is your shape?  I am a circle.\n"
          ],
          "name": "stdout"
        }
      ]
    },
    {
      "cell_type": "code",
      "metadata": {
        "colab": {
          "base_uri": "https://localhost:8080/"
        },
        "id": "6nbLMYJSdDxJ",
        "outputId": "cf4648da-dae8-4861-9dd1-b3f52c9f3035"
      },
      "source": [
        "d = { \"geeks\" : \"for\", \"only\" : \"geeks\" }\r\n",
        "      \r\n",
        "# using items to print the dictionary key-value pair \r\n",
        "print (\"The key value pair using items is : \") \r\n",
        "for i,j in d.items(): \r\n",
        "    print(i,j)"
      ],
      "execution_count": null,
      "outputs": [
        {
          "output_type": "stream",
          "text": [
            "The key value pair using items is : \n",
            "geeks for\n",
            "only geeks\n"
          ],
          "name": "stdout"
        }
      ]
    },
    {
      "cell_type": "markdown",
      "metadata": {
        "id": "nq38GRB6Hzst"
      },
      "source": [
        "Collections package\r\n"
      ]
    },
    {
      "cell_type": "code",
      "metadata": {
        "colab": {
          "base_uri": "https://localhost:8080/"
        },
        "id": "CISVeSR3HzVY",
        "outputId": "11c88635-c466-489c-fb03-db3223983450"
      },
      "source": [
        "# A Python program to show different ways to create \r\n",
        "# Counter \r\n",
        "from collections import Counter \r\n",
        "  \r\n",
        "# With sequence of items  \r\n",
        "print(Counter(['B','B','A','B','C','A','B','B','A','C'])) \r\n",
        "  \r\n",
        "# with dictionary \r\n",
        "print(Counter({'A':3, 'B':5, 'C':2})) \r\n",
        "  \r\n",
        "# with keyword arguments \r\n",
        "print(Counter(A=3, B=5, C=2)) "
      ],
      "execution_count": null,
      "outputs": [
        {
          "output_type": "stream",
          "text": [
            "Counter({'B': 5, 'A': 3, 'C': 2})\n",
            "Counter({'B': 5, 'A': 3, 'C': 2})\n",
            "Counter({'B': 5, 'A': 3, 'C': 2})\n"
          ],
          "name": "stdout"
        }
      ]
    },
    {
      "cell_type": "code",
      "metadata": {
        "colab": {
          "base_uri": "https://localhost:8080/"
        },
        "id": "JB03pZ-xfCHz",
        "outputId": "0d3a1d5d-3cb8-41a4-8aba-5ece8fa87521"
      },
      "source": [
        "# A Python program to demonstrate working of OrderedDict \r\n",
        "\"\"\"An OrderedDict is a dictionary subclass that remembers the order that keys were first inserted. The only difference between dict() and OrderedDict() is that:\r\n",
        "\r\n",
        "OrderedDict preserves the order in which the keys are inserted. A regular dict doesn’t track the insertion order, and iterating it gives the values in an arbitrary order. By contrast, the order the items are inserted is remembered by OrderedDict.\"\"\"\r\n",
        "from collections import OrderedDict \r\n",
        "  \r\n",
        "print(\"This is a Dict:\\n\") \r\n",
        "d = {} \r\n",
        "d['a'] = 1\r\n",
        "d['b'] = 2\r\n",
        "d['c'] = 3\r\n",
        "d['d'] = 4\r\n",
        "  \r\n",
        "for key, value in d.items(): \r\n",
        "    print(key, value) "
      ],
      "execution_count": null,
      "outputs": [
        {
          "output_type": "stream",
          "text": [
            "This is a Dict:\n",
            "\n",
            "a 1\n",
            "b 2\n",
            "c 3\n",
            "d 4\n"
          ],
          "name": "stdout"
        }
      ]
    },
    {
      "cell_type": "code",
      "metadata": {
        "colab": {
          "base_uri": "https://localhost:8080/"
        },
        "id": "CpIoAxUnfCEd",
        "outputId": "526debef-70bf-422b-c0c0-af60329221cb"
      },
      "source": [
        "# A Python program to demonstrate working of key  \r\n",
        "# value change in OrderedDict \r\n",
        "from collections import OrderedDict \r\n",
        "  \r\n",
        "print(\"Before:\\n\") \r\n",
        "od = OrderedDict() \r\n",
        "od['a'] = 1\r\n",
        "od['b'] = 2\r\n",
        "od['c'] = 3\r\n",
        "od['d'] = 4\r\n",
        "for key, value in od.items(): \r\n",
        "    print(key, value) \r\n",
        "  \r\n",
        "print(\"\\nAfter:\\n\") \r\n",
        "od['c'] = 5\r\n",
        "for key, value in od.items(): \r\n",
        "    print(key, value) "
      ],
      "execution_count": null,
      "outputs": [
        {
          "output_type": "stream",
          "text": [
            "Before:\n",
            "\n",
            "a 1\n",
            "b 2\n",
            "c 3\n",
            "d 4\n",
            "\n",
            "After:\n",
            "\n",
            "a 1\n",
            "b 2\n",
            "c 5\n",
            "d 4\n"
          ],
          "name": "stdout"
        }
      ]
    },
    {
      "cell_type": "code",
      "metadata": {
        "colab": {
          "base_uri": "https://localhost:8080/"
        },
        "id": "2yfMXYZLfXLN",
        "outputId": "a7fe2eb5-d9b9-480d-e3ba-5bea0904a6d5"
      },
      "source": [
        "# A Python program to demonstrate working of deletion  \r\n",
        "# re-inserion in OrderedDict \r\n",
        "from collections import OrderedDict \r\n",
        "  \r\n",
        "print(\"Before deleting:\\n\") \r\n",
        "od = OrderedDict() \r\n",
        "od['a'] = 1\r\n",
        "od['b'] = 2\r\n",
        "od['c'] = 3\r\n",
        "od['d'] = 4\r\n",
        "  \r\n",
        "for key, value in od.items(): \r\n",
        "    print(key, value) \r\n",
        "  \r\n",
        "print(\"\\nAfter deleting:\\n\") \r\n",
        "od.pop('c') \r\n",
        "for key, value in od.items(): \r\n",
        "    print(key, value) \r\n",
        "  \r\n",
        "print(\"\\nAfter re-inserting:\\n\") \r\n",
        "od['c'] = 3\r\n",
        "for key, value in od.items(): \r\n",
        "    print(key, value) "
      ],
      "execution_count": null,
      "outputs": [
        {
          "output_type": "stream",
          "text": [
            "Before deleting:\n",
            "\n",
            "a 1\n",
            "b 2\n",
            "c 3\n",
            "d 4\n",
            "\n",
            "After deleting:\n",
            "\n",
            "a 1\n",
            "b 2\n",
            "d 4\n",
            "\n",
            "After re-inserting:\n",
            "\n",
            "a 1\n",
            "b 2\n",
            "d 4\n",
            "c 3\n"
          ],
          "name": "stdout"
        }
      ]
    },
    {
      "cell_type": "code",
      "metadata": {
        "colab": {
          "base_uri": "https://localhost:8080/"
        },
        "id": "iJYxmtpyjNNI",
        "outputId": "8daccd43-a22e-4351-eab2-7fb20e6793ca"
      },
      "source": [
        "# ChainMap:Python contains a container called “ChainMap” which encapsulates many dictionaries into one unit. \r\n",
        "# importing collections for ChainMap operations \r\n",
        "import collections \r\n",
        "  \r\n",
        "# initializing dictionaries \r\n",
        "dic1 = { 'a' : 1, 'b' : 2 } \r\n",
        "dic2 = { 'b' : 3, 'c' : 4 } \r\n",
        "  \r\n",
        "# initializing ChainMap \r\n",
        "chain = collections.ChainMap(dic1, dic2) \r\n",
        "  \r\n",
        "# printing chainMap using maps \r\n",
        "print (\"All the ChainMap contents are : \") \r\n",
        "print (chain.maps) \r\n",
        "  \r\n",
        "# printing keys using keys() \r\n",
        "print (\"All keys of ChainMap are : \") \r\n",
        "print (list(chain.keys())) \r\n",
        "  \r\n",
        "# printing keys using keys() \r\n",
        "print (\"All values of ChainMap are : \") \r\n",
        "print (list(chain.values())) "
      ],
      "execution_count": null,
      "outputs": [
        {
          "output_type": "stream",
          "text": [
            "All the ChainMap contents are : \n",
            "[{'a': 1, 'b': 2}, {'b': 3, 'c': 4}]\n",
            "All keys of ChainMap are : \n",
            "['a', 'b', 'c']\n",
            "All values of ChainMap are : \n",
            "[1, 2, 4]\n"
          ],
          "name": "stdout"
        }
      ]
    },
    {
      "cell_type": "code",
      "metadata": {
        "colab": {
          "base_uri": "https://localhost:8080/"
        },
        "id": "ugx-ZGdHfTCD",
        "outputId": "7ec21b01-9238-434d-b972-7854692c0a81"
      },
      "source": [
        "# new_child() :- This function adds a new dictionary in the beginning of the ChainMap\r\n",
        "print(chain.new_child({ 'f' : 5 }))\r\n",
        "\r\n",
        "print(reversed(chain.maps))"
      ],
      "execution_count": null,
      "outputs": [
        {
          "output_type": "stream",
          "text": [
            "ChainMap({'f': 5}, {'a': 1, 'b': 2}, {'b': 3, 'c': 4})\n",
            "<list_reverseiterator object at 0x7fadf6098cc0>\n"
          ],
          "name": "stdout"
        }
      ]
    },
    {
      "cell_type": "code",
      "metadata": {
        "colab": {
          "base_uri": "https://localhost:8080/"
        },
        "id": "f8L6BIptfS-p",
        "outputId": "2b7beedf-6f16-43d2-ee82-09dcc27ef043"
      },
      "source": [
        "# Deque: Deque (Doubly Ended Queue) in Python is implemented using the module “collections“.\r\n",
        "# Deque is preferred over list in the cases where we need quicker append and pop operations from both the ends of container, as deque provides an O(1) time complexity for append and pop operations as compared to list which provides O(n) time complexity\r\n",
        "from collections import deque  \r\n",
        "      \r\n",
        "# Declaring deque  \r\n",
        "queue = deque(['name','age','DOB'])   \r\n",
        "      \r\n",
        "print(queue) \r\n",
        "\r\n",
        "# Python code to demonstrate working of  \r\n",
        "# append(), appendleft(), pop(), and popleft() \r\n",
        "  \r\n",
        "# importing \"collections\" for deque operations \r\n",
        "import collections \r\n",
        "  \r\n",
        "# initializing deque \r\n",
        "de = collections.deque([1,2,3]) \r\n",
        "  \r\n",
        "# using append() to insert element at right end  \r\n",
        "# inserts 4 at the end of deque \r\n",
        "de.append(4) \r\n",
        "  \r\n",
        "# printing modified deque \r\n",
        "print (\"The deque after appending at right is : \") \r\n",
        "print (de) \r\n",
        "  \r\n",
        "# using appendleft() to insert element at right end  \r\n",
        "# inserts 6 at the beginning of deque \r\n",
        "de.appendleft(6) \r\n",
        "  \r\n",
        "# printing modified deque \r\n",
        "print (\"The deque after appending at left is : \") \r\n",
        "print (de) \r\n",
        "  \r\n",
        "# using pop() to delete element from right end  \r\n",
        "# deletes 4 from the right end of deque \r\n",
        "de.pop() \r\n",
        "  \r\n",
        "# printing modified deque \r\n",
        "print (\"The deque after deleting from right is : \") \r\n",
        "print (de) \r\n",
        "  \r\n",
        "# using popleft() to delete element from left end  \r\n",
        "# deletes 6 from the left end of deque \r\n",
        "de.popleft() \r\n",
        "  \r\n",
        "# printing modified deque \r\n",
        "print (\"The deque after deleting from left is : \") \r\n",
        "print (de) \r\n"
      ],
      "execution_count": 2,
      "outputs": [
        {
          "output_type": "stream",
          "text": [
            "deque(['name', 'age', 'DOB'])\n",
            "The deque after appending at right is : \n",
            "deque([1, 2, 3, 4])\n",
            "The deque after appending at left is : \n",
            "deque([6, 1, 2, 3, 4])\n",
            "The deque after deleting from right is : \n",
            "deque([6, 1, 2, 3])\n",
            "The deque after deleting from left is : \n",
            "deque([1, 2, 3])\n"
          ],
          "name": "stdout"
        }
      ]
    },
    {
      "cell_type": "code",
      "metadata": {
        "colab": {
          "base_uri": "https://localhost:8080/"
        },
        "id": "6tfgdloykkd2",
        "outputId": "dccab622-d41c-47aa-c2dd-e03b33552788"
      },
      "source": [
        "# Python code to demonstrate working of  \r\n",
        "# insert(), index(), remove(), count() \r\n",
        "  \r\n",
        "# importing \"collections\" for deque operations \r\n",
        "import collections \r\n",
        "  \r\n",
        "# initializing deque \r\n",
        "de = collections.deque([1, 2, 3, 3, 4, 2, 4]) \r\n",
        "  \r\n",
        "# using index() to print the first occurrence of 4 \r\n",
        "print (\"The number 4 first occurs at a position : \") \r\n",
        "print (de.index(4,2,5)) \r\n",
        "  \r\n",
        "# using insert() to insert the value 3 at 5th position \r\n",
        "de.insert(4,3) \r\n",
        "  \r\n",
        "# printing modified deque \r\n",
        "print (\"The deque after inserting 3 at 5th position is : \") \r\n",
        "print (de) \r\n",
        "  \r\n",
        "# using count() to count the occurrences of 3 \r\n",
        "print (\"The count of 3 in deque is : \") \r\n",
        "print (de.count(3)) \r\n",
        "  \r\n",
        "# using remove() to remove the first occurrence of 3 \r\n",
        "de.remove(3) \r\n",
        "  \r\n",
        "# printing modified deque \r\n",
        "print (\"The deque after deleting first occurrence of 3 is : \") \r\n",
        "print (de) "
      ],
      "execution_count": null,
      "outputs": [
        {
          "output_type": "stream",
          "text": [
            "The number 4 first occurs at a position : \n",
            "4\n",
            "The deque after inserting 3 at 5th position is : \n",
            "deque([1, 2, 3, 3, 3, 4, 2, 4])\n",
            "The count of 3 in deque is : \n",
            "3\n",
            "The deque after deleting first occurrence of 3 is : \n",
            "deque([1, 2, 3, 3, 4, 2, 4])\n"
          ],
          "name": "stdout"
        }
      ]
    },
    {
      "cell_type": "code",
      "metadata": {
        "id": "9hHbqrRvfS7K"
      },
      "source": [
        "# Python code to demonstrate working of  \r\n",
        "# extend(), extendleft(), rotate(), reverse() \r\n",
        "  \r\n",
        "# importing \"collections\" for deque operations \r\n",
        "import collections \r\n",
        "  \r\n",
        "# initializing deque \r\n",
        "de = collections.deque([1, 2, 3,]) \r\n",
        "  \r\n",
        "# using extend() to add numbers to right end  \r\n",
        "# adds 4,5,6 to right end \r\n",
        "de.extend([4,5,6]) \r\n",
        "  \r\n",
        "# printing modified deque \r\n",
        "print (\"The deque after extending deque at end is : \") \r\n",
        "print (de) \r\n",
        "  \r\n",
        "# using extendleft() to add numbers to left end  \r\n",
        "# adds 7,8,9 to right end \r\n",
        "de.extendleft([7,8,9]) \r\n",
        "  \r\n",
        "# printing modified deque \r\n",
        "print (\"The deque after extending deque at beginning is : \") \r\n",
        "print (de) \r\n",
        "  \r\n",
        "# using rotate() to rotate the deque \r\n",
        "# rotates by 3 to left \r\n",
        "de.rotate(-3) \r\n",
        "  \r\n",
        "# printing modified deque \r\n",
        "print (\"The deque after rotating deque is : \") \r\n",
        "print (de) \r\n",
        "  \r\n",
        "# using reverse() to reverse the deque \r\n",
        "de.reverse() \r\n",
        "  \r\n",
        "# printing modified deque \r\n",
        "print (\"The deque after reversing deque is : \") \r\n",
        "print (de) "
      ],
      "execution_count": null,
      "outputs": []
    },
    {
      "cell_type": "code",
      "metadata": {
        "colab": {
          "base_uri": "https://localhost:8080/"
        },
        "id": "CKibU_nanrjb",
        "outputId": "a9023f78-ec30-4d40-d220-d18eee61a2b2"
      },
      "source": [
        "\"\"\" Heap queue (or heapq) in Python\r\n",
        "Heap data structure is mainly used to represent a priority queue. \r\n",
        "In Python, it is available using “heapq” module.\r\n",
        " The property of this data structure in Python is that each time the smallest of heap element is popped(min heap). \r\n",
        "Whenever elements are pushed or popped, heap structure in maintained. \r\n",
        "The heap[0] element also returns the smallest element each time.\"\"\"\r\n",
        "# heapify(iterable) :- This function is used to convert the iterable into a heap data structure. i.e. in heap order.\r\n",
        "\r\n",
        "# heappush(heap, ele) :- This function is used to insert the element mentioned in its arguments into heap. The order is adjusted, so as heap structure is maintained.\r\n",
        "\r\n",
        "# heappop(heap) :- This function is used to remove and return the smallest element from heap. The order is adjusted, so as heap structure is maintained.\r\n",
        "\r\n",
        "# importing \"heapq\" to implement heap queue \r\n",
        "import heapq \r\n",
        "  \r\n",
        "# initializing list \r\n",
        "li = [5, 7, 9, 1, 3] \r\n",
        "  \r\n",
        "# using heapify to convert list into heap \r\n",
        "heapq.heapify(li) \r\n",
        "  \r\n",
        "# printing created heap \r\n",
        "print (\"The created heap is : \",end=\"\") \r\n",
        "print (list(li)) \r\n",
        "  \r\n",
        "# using heappush() to push elements into heap \r\n",
        "# pushes 4 \r\n",
        "heapq.heappush(li,4) \r\n",
        "  \r\n",
        "# printing modified heap \r\n",
        "print (\"The modified heap after push is : \",end=\"\") \r\n",
        "print (list(li)) \r\n",
        "  \r\n",
        "# using heappop() to pop smallest element \r\n",
        "print (\"The popped and smallest element is : \",end=\"\") \r\n",
        "print (heapq.heappop(li)) "
      ],
      "execution_count": null,
      "outputs": [
        {
          "output_type": "stream",
          "text": [
            "The created heap is : [1, 3, 9, 7, 5]\n",
            "The modified heap after push is : [1, 3, 4, 7, 5, 9]\n",
            "The popped and smallest element is : 1\n"
          ],
          "name": "stdout"
        }
      ]
    },
    {
      "cell_type": "code",
      "metadata": {
        "id": "rJedqNzCnrf2"
      },
      "source": [
        "# heappushpop(heap, ele) :- This function combines the functioning of both push and pop operations in one statement, increasing efficiency. Heap order is maintained after this operation.\r\n",
        "\r\n",
        "# heapreplace(heap, ele) :- This function also inserts and pops element in one statement, but it is different from above function. In this, element is first popped, then the element is pushed.i.e, the value larger than the pushed value can be returned. heapreplace() returns the smallest value originally in heap regardless of the pushed element as opposed to heappushpop().\r\n",
        "# importing \"heapq\" to implement heap queue \r\n",
        "import heapq \r\n",
        "  \r\n",
        "# initializing list 1 \r\n",
        "li1 = [5, 7, 9, 4, 3] \r\n",
        "  \r\n",
        "# initializing list 2 \r\n",
        "li2 = [5, 7, 9, 4, 3] \r\n",
        "  \r\n",
        "# using heapify() to convert list into heap \r\n",
        "heapq.heapify(li1) \r\n",
        "heapq.heapify(li2) "
      ],
      "execution_count": null,
      "outputs": []
    },
    {
      "cell_type": "code",
      "metadata": {
        "id": "17IscmO_nrcU"
      },
      "source": [
        "# nlargest(k, iterable, key = fun) :- This function is used to return the k largest elements from the iterable specified and satisfying the key if mentioned.\r\n",
        "\r\n",
        "# nsmallest(k, iterable, key = fun) :- This function is used to return the k smallest elements from the iterable specified and satisfying the key if mentioned.\r\n",
        "\r\n",
        "# importing \"heapq\" to implement heap queue \r\n",
        "import heapq \r\n",
        "  \r\n",
        "# initializing list  \r\n",
        "li1 = [6, 7, 9, 4, 3, 5, 8, 10, 1] \r\n",
        "  \r\n",
        "# using heapify() to convert list into heap \r\n",
        "heapq.heapify(li1) \r\n",
        "  \r\n",
        "# using nlargest to print 3 largest numbers \r\n",
        "# prints 10, 9 and 8 \r\n",
        "print(\"The 3 largest numbers in list are : \",end=\"\") \r\n",
        "print(heapq.nlargest(3, li1)) \r\n",
        "  \r\n",
        "# using nsmallest to print 3 smallest numbers \r\n",
        "# prints 1, 3 and 4 \r\n",
        "print(\"The 3 smallest numbers in list are : \",end=\"\") \r\n",
        "print(heapq.nsmallest(3, li1)) "
      ],
      "execution_count": null,
      "outputs": []
    },
    {
      "cell_type": "code",
      "metadata": {
        "id": "seDWJbA_fCBP"
      },
      "source": [
        ""
      ],
      "execution_count": null,
      "outputs": []
    },
    {
      "cell_type": "code",
      "metadata": {
        "colab": {
          "base_uri": "https://localhost:8080/"
        },
        "id": "Apu6FYlBDhsN",
        "outputId": "a00b3c04-6b5d-43d6-d6a4-52bf2efc406e"
      },
      "source": [
        "\"\"\"If you do not know how many arguments that will be passed into your function, add a * before the parameter name in the function definition.\r\n",
        "This way the function will receive a tuple of arguments, and can access the items accordingly:\"\"\"\r\n",
        "def my_function(*kids):\r\n",
        "  print(\"The youngest child is \" + kids[2])\r\n",
        "my_function(\"Emil\", \"Tobias\", \"Linus\")"
      ],
      "execution_count": null,
      "outputs": [
        {
          "output_type": "stream",
          "text": [
            "The youngest child is Linus\n"
          ],
          "name": "stdout"
        }
      ]
    },
    {
      "cell_type": "code",
      "metadata": {
        "colab": {
          "base_uri": "https://localhost:8080/"
        },
        "id": "ldGOUU1PD5pV",
        "outputId": "e89e656c-4f26-4dc9-f76b-8b07bc10060b"
      },
      "source": [
        "\"\"\"If you do not know how many keyword arguments that will be passed into your function, add two asterisk: ** before the parameter name in the function definition.\r\n",
        "This way the function will receive a dictionary of arguments, and can access the items accordingly:\"\"\"\r\n",
        "def my_function(**kid):\r\n",
        "  print(\"His last name is \" + kid[\"lname\"])\r\n",
        "my_function(fname = \"Tobias\", lname = \"Refsnes\")"
      ],
      "execution_count": null,
      "outputs": [
        {
          "output_type": "stream",
          "text": [
            "His last name is Refsnes\n"
          ],
          "name": "stdout"
        }
      ]
    },
    {
      "cell_type": "code",
      "metadata": {
        "id": "2-bj0vqjEHYh"
      },
      "source": [
        "# Passing a list as an argument\r\n",
        "def my_function(food):\r\n",
        "  for x in food:\r\n",
        "    print(x)\r\n",
        "\r\n",
        "fruits = [\"apple\", \"banana\", \"cherry\"]\r\n",
        "my_function(fruits)"
      ],
      "execution_count": null,
      "outputs": []
    },
    {
      "cell_type": "code",
      "metadata": {
        "id": "Q3623irDEUnE"
      },
      "source": [
        "# Recursion\r\n",
        "def tri_recursion(k):\r\n",
        "  if(k > 0):\r\n",
        "    result = k + tri_recursion(k - 1)\r\n",
        "    print(result)\r\n",
        "  else:\r\n",
        "    result = 0\r\n",
        "  return result\r\n",
        "\r\n",
        "print(\"\\n\\nRecursion Example Results\")\r\n",
        "tri_recursion(6)"
      ],
      "execution_count": null,
      "outputs": []
    },
    {
      "cell_type": "code",
      "metadata": {
        "id": "XbNgHEtREfol"
      },
      "source": [
        "# Lambda: A lambda function can take any number of arguments, but can only have one expression\r\n",
        "x = lambda a : a + 10\r\n",
        "print(x(5))\r\n",
        "\r\n",
        "x = lambda a, b : a * b\r\n",
        "print(x(5, 6))"
      ],
      "execution_count": null,
      "outputs": []
    },
    {
      "cell_type": "code",
      "metadata": {
        "colab": {
          "base_uri": "https://localhost:8080/"
        },
        "id": "R_LOMHOAFRoV",
        "outputId": "41f3a372-c0b2-4cfe-a5c8-6fb16c706047"
      },
      "source": [
        "def myfunc(n):\r\n",
        "  return lambda a : a * n\r\n",
        "\r\n",
        "mydoubler = myfunc(2)\r\n",
        "\r\n",
        "print(mydoubler(11))\r\n",
        "print(myfunc(2))"
      ],
      "execution_count": null,
      "outputs": [
        {
          "output_type": "stream",
          "text": [
            "22\n",
            "<function myfunc.<locals>.<lambda> at 0x7fadf608cc80>\n"
          ],
          "name": "stdout"
        }
      ]
    },
    {
      "cell_type": "markdown",
      "metadata": {
        "id": "KjZNni52vDNE"
      },
      "source": [
        "Sets: Set items are unordered, unchangeable, and do not allow duplicate values.\r\n",
        "* len(set)\r\n",
        "* type(set)\r\n",
        "* set.add(\"item\")\r\n",
        "* set1.update(set2) : Add elements from set2 to set1\r\n",
        "* set1.remove(\"item\")\r\n",
        "* set1.discard(\"item\")\r\n",
        "* set.pop() : Remove last item\r\n",
        "* set.clear()\" empties the list\r\n",
        "* del set : will delete the set completely\r\n",
        "* set3 = set1.union(set2) \r\n",
        "* set1.update(set2) # modifies set1\r\n",
        "* set1.intersection_update(set2) # modifies set1\r\n",
        "* set3 = set1.intersection(set2) \r\n",
        "* set1.symmetric_difference_update(set2) # keep only the elements that are NOT present in both sets\r\n",
        "* set3 = set1.symmetric_difference_update(set2) # contains only the elements that are NOT present in both sets"
      ]
    },
    {
      "cell_type": "markdown",
      "metadata": {
        "id": "-Zsl5_TJ0NNu"
      },
      "source": [
        "Dictionary: \r\n",
        "* "
      ]
    },
    {
      "cell_type": "code",
      "metadata": {
        "colab": {
          "base_uri": "https://localhost:8080/"
        },
        "id": "uoq8Qmjf0WZ8",
        "outputId": "c0c734ec-b93e-4cd3-ff8c-072df3d41252"
      },
      "source": [
        "thisdict = {\r\n",
        "  \"brand\": \"Ford\",\r\n",
        "  \"model\": \"Mustang\",\r\n",
        "  \"year\": 1964\r\n",
        "}\r\n",
        "\r\n",
        "print(thisdict[\"model\"])\r\n",
        "print(thisdict.get(\"model\"))\r\n",
        "print(thisdict.keys())\r\n",
        "print(thisdict.values())\r\n",
        "print(thisdict.items())\r\n",
        "\r\n",
        "thisdict.update({\"year\": 2020}) #update values for keys\r\n",
        "print(thisdict)\r\n",
        "\r\n",
        "thisdict[\"year\"] = 2018\r\n",
        "print(thisdict)\r\n",
        "\r\n",
        "thisdict.update({\"color\": \"red\"})\r\n",
        "print(thisdict)\r\n",
        "\r\n",
        "thisdict.pop(\"model\") # Remove item with the mentioned key name\r\n",
        "print(thisdict)\r\n",
        "\r\n",
        "thisdict.popitem() # Removes the last inserted item\r\n",
        "print(thisdict)"
      ],
      "execution_count": null,
      "outputs": [
        {
          "output_type": "stream",
          "text": [
            "Mustang\n",
            "Mustang\n",
            "dict_keys(['brand', 'model', 'year'])\n",
            "dict_values(['Ford', 'Mustang', 1964])\n",
            "dict_items([('brand', 'Ford'), ('model', 'Mustang'), ('year', 1964)])\n",
            "{'brand': 'Ford', 'model': 'Mustang', 'year': 2020}\n",
            "{'brand': 'Ford', 'model': 'Mustang', 'year': 2018}\n",
            "{'brand': 'Ford', 'model': 'Mustang', 'year': 2018, 'color': 'red'}\n",
            "{'brand': 'Ford', 'year': 2018, 'color': 'red'}\n"
          ],
          "name": "stdout"
        }
      ]
    },
    {
      "cell_type": "code",
      "metadata": {
        "colab": {
          "base_uri": "https://localhost:8080/"
        },
        "id": "pJ7azfWD7S31",
        "outputId": "9f794733-a6ad-4d1c-fd55-8f5341f878ca"
      },
      "source": [
        "for x in thisdict:\r\n",
        "  print(thisdict[x])"
      ],
      "execution_count": null,
      "outputs": [
        {
          "output_type": "stream",
          "text": [
            "Ford\n",
            "2018\n",
            "red\n"
          ],
          "name": "stdout"
        }
      ]
    },
    {
      "cell_type": "code",
      "metadata": {
        "colab": {
          "base_uri": "https://localhost:8080/"
        },
        "id": "blF0r23I7WKd",
        "outputId": "49dd169c-4c2d-46f5-da55-539febc31c3c"
      },
      "source": [
        "for x in thisdict.values():\r\n",
        "  print(x)"
      ],
      "execution_count": null,
      "outputs": [
        {
          "output_type": "stream",
          "text": [
            "Ford\n",
            "2018\n",
            "red\n"
          ],
          "name": "stdout"
        }
      ]
    },
    {
      "cell_type": "code",
      "metadata": {
        "colab": {
          "base_uri": "https://localhost:8080/"
        },
        "id": "Ihl4HZ6e7ZAH",
        "outputId": "911d51fc-c01a-40c1-abdf-c998ef87d690"
      },
      "source": [
        "for x in thisdict.keys():\r\n",
        "  print(x)"
      ],
      "execution_count": null,
      "outputs": [
        {
          "output_type": "stream",
          "text": [
            "brand\n",
            "year\n",
            "color\n"
          ],
          "name": "stdout"
        }
      ]
    },
    {
      "cell_type": "code",
      "metadata": {
        "colab": {
          "base_uri": "https://localhost:8080/"
        },
        "id": "uxtOMxGT7a5u",
        "outputId": "7d52714a-edc1-40a3-c016-d8e4099ab85c"
      },
      "source": [
        "for x, y in thisdict.items():\r\n",
        "  print(x, y)"
      ],
      "execution_count": null,
      "outputs": [
        {
          "output_type": "stream",
          "text": [
            "brand Ford\n",
            "year 2018\n",
            "color red\n"
          ],
          "name": "stdout"
        }
      ]
    },
    {
      "cell_type": "code",
      "metadata": {
        "colab": {
          "base_uri": "https://localhost:8080/"
        },
        "id": "iaUnGBuf81rd",
        "outputId": "04921569-db4c-405c-d716-3946dc30c5b3"
      },
      "source": [
        "myfamily = {\r\n",
        "  \"child1\" : {\r\n",
        "    \"name\" : \"Emil\",\r\n",
        "    \"year\" : 2004\r\n",
        "  },\r\n",
        "  \"child2\" : {\r\n",
        "    \"name\" : \"Tobias\",\r\n",
        "    \"year\" : 2007\r\n",
        "  },\r\n",
        "  \"child3\" : {\r\n",
        "    \"name\" : \"Linus\",\r\n",
        "    \"year\" : 2011\r\n",
        "  }\r\n",
        "}\r\n",
        "print(myfamily[\"child1\"]['year'])\r\n",
        "print(myfamily[\"child1\"])"
      ],
      "execution_count": null,
      "outputs": [
        {
          "output_type": "stream",
          "text": [
            "2004\n",
            "{'name': 'Emil', 'year': 2004}\n"
          ],
          "name": "stdout"
        }
      ]
    },
    {
      "cell_type": "code",
      "metadata": {
        "colab": {
          "base_uri": "https://localhost:8080/"
        },
        "id": "tSFXYj1j83am",
        "outputId": "5ac5fd6e-5f72-42d4-9803-68a5f647c18a"
      },
      "source": [
        "List = ['G','E','E','K','S','F', 'O','R','G','E','E','K','S']\r\n",
        "print(\"\\nPrinting List in reverse: \",List[::-1]) "
      ],
      "execution_count": null,
      "outputs": [
        {
          "output_type": "stream",
          "text": [
            "\n",
            "Printing List in reverse:  ['S', 'K', 'E', 'E', 'G', 'R', 'O', 'F', 'S', 'K', 'E', 'E', 'G']\n"
          ],
          "name": "stdout"
        }
      ]
    },
    {
      "cell_type": "code",
      "metadata": {
        "id": "ZCBaWCdMcgdY"
      },
      "source": [
        ""
      ],
      "execution_count": null,
      "outputs": []
    },
    {
      "cell_type": "code",
      "metadata": {
        "colab": {
          "base_uri": "https://localhost:8080/"
        },
        "id": "3eo-sBAj6lwG",
        "outputId": "9f2e3cdc-fed7-4293-8518-5a824dcde562"
      },
      "source": [
        "### Operators in Python https://www.geeksforgeeks.org/python-operators/\r\n",
        "\r\n",
        "print(\"Floor division: \",124 // 100)\r\n",
        "print(\"Floor division: \",124 // 10)  \r\n",
        "\r\n",
        "print(\"Modulus or Remainder: \",124 % 10)  \r\n",
        "print(\"Modulus or Remainder: \",124 % 3)  \r\n",
        "\r\n",
        "print(\"Exponentiation: \",7 ** 3)  \r\n",
        "\r\n",
        "print('We have %2d %s containing %.2f gallons of %s' %(2, 'bottles', 2.5, 'milk'))\r\n",
        "\r\n",
        "print(\"Ternanry operator\")\r\n",
        "a, b = 10, 20\r\n",
        "min = a if a < b else b \r\n",
        "print(min) \r\n",
        "print((lambda: b, lambda: a)[a < b]()) #Format: (if condition is False, if condition is True)\r\n",
        "\r\n",
        "print(\"concatenate 2 strings: \",\"Geeks\"+\"For\")\r\n",
        "print(\"Repeat the String: \",\"Geeks\"*4)"
      ],
      "execution_count": null,
      "outputs": [
        {
          "output_type": "stream",
          "text": [
            "Floor division:  1\n",
            "Floor division:  12\n",
            "Modulus or Remainder:  4\n",
            "Modulus or Remainder:  1\n",
            "Exponentiation:  343\n",
            "We have  2 bottles containing 2.50 gallons of milk\n",
            "Ternanry operator\n",
            "10\n",
            "10\n",
            "concatenate 2 strings:  GeeksFor\n",
            "Repeat the String:  GeeksGeeksGeeksGeeks\n"
          ],
          "name": "stdout"
        }
      ]
    },
    {
      "cell_type": "code",
      "metadata": {
        "id": "ip1n3foW6pZ_",
        "colab": {
          "base_uri": "https://localhost:8080/"
        },
        "outputId": "974b3ddc-bbf1-48f9-a600-5fee7489d80f"
      },
      "source": [
        "# simple ifelse statement\r\n",
        "def __gt__(self, other): \r\n",
        "    if(self.a>other.a): \r\n",
        "        return True\r\n",
        "    else: \r\n",
        "        return False\r\n",
        "\r\n",
        "print(\"Any Returns true if any of the items is True\",any([False, False, False, False]))\r\n",
        "print(\"Any Returns true if any of the items is True\",any([False, True, False, False]))\r\n",
        "\r\n",
        "print(\"All Returns true if all of the items are True\",any([False, True, False, False]))\r\n",
        "print(\"All Returns true if all of the items are True\",all([True, True, True, True]))\r\n",
        "\r\n",
        "print(str(3))\r\n",
        "print(int(3))\r\n",
        "print(float(3))\r\n",
        "\r\n",
        "print(\"Multi word naming\")\r\n",
        "print(\"Camel Case:Each word, except the first, starts with a capital letter:\",\"myVariableName\")\r\n",
        "print(\"Pascal Case:Each word starts with a capital letter:\",\"MyVariableName\")\r\n",
        "print(\"Snake Case:Each word is separated by an underscore character:\",\"my_variable_name\")"
      ],
      "execution_count": null,
      "outputs": [
        {
          "output_type": "stream",
          "text": [
            "Any Returns true if any of the items is True False\n",
            "Any Returns true if any of the items is True True\n",
            "All Returns true if all of the items are True True\n",
            "All Returns true if all of the items are True True\n",
            "3\n",
            "3\n",
            "3.0\n",
            "Multi word naming\n",
            "Camel Case:Each word, except the first, starts with a capital letter: myVariableName\n",
            "Pascal Case:Each word starts with a capital letter: MyVariableName\n",
            "Snake Case:Each word is separated by an underscore character: my_variable_name\n"
          ],
          "name": "stdout"
        }
      ]
    },
    {
      "cell_type": "code",
      "metadata": {
        "id": "jL_TKW-d6pRI"
      },
      "source": [
        "import datetime\r\n",
        "\r\n",
        "x = datetime.datetime.now()\r\n",
        "print(x)\r\n",
        "print(x.year)\r\n",
        "print(x.strftime(\"%A\"))"
      ],
      "execution_count": null,
      "outputs": []
    },
    {
      "cell_type": "code",
      "metadata": {
        "id": "jfW8o39n6pFP"
      },
      "source": [
        ""
      ],
      "execution_count": null,
      "outputs": []
    },
    {
      "cell_type": "code",
      "metadata": {
        "id": "DD2B6a7zj7Cy"
      },
      "source": [
        "### Regular Expressions\r\n",
        "s1 = 'Python is an excellent language'\r\n",
        "s2 = 'I love the Python language. I also use Python to build applications at work!'\r\n",
        "\r\n",
        "import re\r\n",
        "pattern = 'python'\r\n",
        "# match only returns a match if regex match is found at the beginning of the string\r\n",
        "re.match(pattern, s1)\r\n",
        "\r\n",
        "# pattern is in lower case hence ignore case flag helps\r\n",
        "# in matching same pattern with different cases\r\n",
        "re.match(pattern, s1, flags=re.IGNORECASE)\r\n",
        "\r\n",
        "# printing matched string and its indices in the original string\r\n",
        "m = re.match(pattern, s1, flags=re.IGNORECASE)\r\n",
        "print('Found match {} ranging from index {} - {} in the string \"{}\"'.format(m.group(0), \r\n",
        "                                                                            m.start(), \r\n",
        "                                                                            m.end(), s1))\r\n",
        "                                                                            \r\n",
        "# match does not work when pattern is not there in the beginning of string s2\r\n",
        "re.match(pattern, s2, re.IGNORECASE)"
      ],
      "execution_count": null,
      "outputs": []
    },
    {
      "cell_type": "code",
      "metadata": {
        "id": "thb3h8fbkes8"
      },
      "source": [
        "name = \"Rolf\"\r\n",
        "\r\n",
        "print(name)\r\n",
        "print(name * 2)"
      ],
      "execution_count": null,
      "outputs": []
    },
    {
      "cell_type": "code",
      "metadata": {
        "id": "UQef3JTrRYyg",
        "colab": {
          "base_uri": "https://localhost:8080/",
          "height": 51
        },
        "outputId": "6b44fe4a-70f6-4f14-a091-37dda81b293d"
      },
      "source": [
        "print(\" f-strings are used to use dynamic variables \")\n",
        "\n",
        "name = \"Sandy\"\n",
        "print(f\"Hello, {name}\")"
      ],
      "execution_count": null,
      "outputs": [
        {
          "output_type": "stream",
          "text": [
            " f-strings are used to use dynamic variables \n",
            "Hello Sandy\n"
          ],
          "name": "stdout"
        }
      ]
    },
    {
      "cell_type": "code",
      "metadata": {
        "id": "6N4CIxGOkkQW",
        "colab": {
          "base_uri": "https://localhost:8080/",
          "height": 51
        },
        "outputId": "a07ca0a2-314c-4780-987c-f4b9ec457974"
      },
      "source": [
        "print(\"Use format function\")\n",
        "name = \"Sandhya\"\n",
        "print(\"Hello, {}\".format(name))\n",
        "print(\"Hello, {}\".format(\"Aparna\"))"
      ],
      "execution_count": null,
      "outputs": [
        {
          "output_type": "stream",
          "text": [
            "Hello Sandhya\n",
            "Hello Aparna\n"
          ],
          "name": "stdout"
        }
      ]
    },
    {
      "cell_type": "code",
      "metadata": {
        "id": "EfA2JULIklTD",
        "colab": {
          "base_uri": "https://localhost:8080/",
          "height": 34
        },
        "outputId": "42ae2a2f-e5a8-4e00-d1f0-43fcd1aa2061"
      },
      "source": [
        "print(\"Use 2 dynamic variables\")\n",
        "print(\"Hello {} {}\".format(\"Sandhya\",\"Aparna\"))"
      ],
      "execution_count": null,
      "outputs": [
        {
          "output_type": "stream",
          "text": [
            "Hello Sandhya Aparna\n"
          ],
          "name": "stdout"
        }
      ]
    },
    {
      "cell_type": "code",
      "metadata": {
        "id": "crWXH5KSkloG",
        "colab": {
          "base_uri": "https://localhost:8080/"
        },
        "outputId": "19b12e13-11b1-41db-9ae5-8e88241f1369"
      },
      "source": [
        "print(\"Based on user input -  Strings\")\n",
        "name = input(\"What is your name? : \")\n",
        "print(\"Hello {}\".format(name))"
      ],
      "execution_count": null,
      "outputs": [
        {
          "output_type": "stream",
          "text": [
            "Based on user input -  Strings\n",
            "What is your name? : SandhyaAparna\n",
            "Hello SandhyaAparna\n"
          ],
          "name": "stdout"
        }
      ]
    },
    {
      "cell_type": "code",
      "metadata": {
        "colab": {
          "base_uri": "https://localhost:8080/"
        },
        "id": "L7AQTSx9BTDf",
        "outputId": "39659a9d-3fcf-4edb-b3be-461b12bd880c"
      },
      "source": [
        "# Multiple inputs: split(), numbers are inputed using space\r\n",
        "x, y = input(\"Enter a two value: \").split()\r\n",
        "print(\"Number of boys: \", x)\r\n",
        "print(\"Number of girls: \", y)\r\n"
      ],
      "execution_count": null,
      "outputs": [
        {
          "output_type": "stream",
          "text": [
            "Enter a two value: 3 4\n",
            "Number of boys:  3\n",
            "Number of girls:  4\n",
            "\n"
          ],
          "name": "stdout"
        }
      ]
    },
    {
      "cell_type": "code",
      "metadata": {
        "colab": {
          "base_uri": "https://localhost:8080/"
        },
        "id": "zCEeLXh5k2JU",
        "outputId": "5b157778-ea9b-4834-9097-33eddc921a5f"
      },
      "source": [
        "### New Style - To combine string & numbers\r\n",
        "print('Hello {} {}, it is a great {} to meet you at {}'.format('Mr.', 'Jones', 'pleasure', 5))\r\n",
        "print('Hello {} {}, it is a great {} to meet you at {} o\\' clock'.format('Sir', 'Arthur', 'honor', 9))\r\n",
        "print('I have a {food_item} and a {drink_item} with me'.format(drink_item='soda', food_item='sandwich'))\r\n",
        "print('The {animal} has the following attributes: {attributes}'.format(animal='dog', attributes=['lazy', 'loyal']))"
      ],
      "execution_count": null,
      "outputs": [
        {
          "output_type": "stream",
          "text": [
            "Hello Mr. Jones, it is a great pleasure to meet you at 5\n",
            "Hello Sir Arthur, it is a great honor to meet you at 9 o' clock\n",
            "I have a sandwich and a soda with me\n",
            "The dog has the following attributes: ['lazy', 'loyal']\n"
          ],
          "name": "stdout"
        }
      ]
    },
    {
      "cell_type": "code",
      "metadata": {
        "id": "yIzId0Izklhq",
        "colab": {
          "base_uri": "https://localhost:8080/",
          "height": 68
        },
        "outputId": "a37464a6-c37b-4072-c770-44d18f633f80"
      },
      "source": [
        "print(\"Based on user input -  Numeric\")\n",
        "size = input(\"What is size of your house in sq ft : \") # Taken as string\n",
        "print(\"Sq meters =\",float(size)/10.8)"
      ],
      "execution_count": null,
      "outputs": [
        {
          "output_type": "stream",
          "text": [
            "Based on user input -  Numeric\n",
            "What is size of your house in sq ft : 502\n",
            "Sq meters = 46.48148148148148\n"
          ],
          "name": "stdout"
        }
      ]
    },
    {
      "cell_type": "code",
      "metadata": {
        "id": "lmDQqJP5klNV",
        "colab": {
          "base_uri": "https://localhost:8080/",
          "height": 51
        },
        "outputId": "079192ce-1c03-4c3a-cbec-7b11998de993"
      },
      "source": [
        "print(\"Restrict decimal places\")\n",
        "size = input(\"What is size of your house in sq ft : \")\n",
        "x = float(size)/10.8\n",
        "print(f\"Sq meters = {x:.2f}\")"
      ],
      "execution_count": null,
      "outputs": [
        {
          "output_type": "stream",
          "text": [
            "What is size of your house in sq ft : 500\n",
            "Sq meters = 46.30\n"
          ],
          "name": "stdout"
        }
      ]
    },
    {
      "cell_type": "code",
      "metadata": {
        "id": "XzLr4lMiklI_",
        "colab": {
          "base_uri": "https://localhost:8080/",
          "height": 68
        },
        "outputId": "a9760c1c-a7a4-475f-9b86-f6b9791ad4d2"
      },
      "source": [
        "print(\"Restrict decimal places -Without creating a variable\")\n",
        "size = float(input(\"What is size of your house in sq ft : \"))\n",
        "print(f\"Sq meters = {size/10.8:.2f}\")"
      ],
      "execution_count": null,
      "outputs": [
        {
          "output_type": "stream",
          "text": [
            "Without creating a variable\n",
            "What is size of your house in sq ft : 500\n",
            "Sq meters = 46.30\n"
          ],
          "name": "stdout"
        }
      ]
    },
    {
      "cell_type": "code",
      "metadata": {
        "colab": {
          "base_uri": "https://localhost:8080/"
        },
        "id": "dxNtJMVRlGZ0",
        "outputId": "bdb006b4-6a73-4577-808a-b5d398b87aa2"
      },
      "source": [
        "### Old style\r\n",
        "print('We have %d %s containing %.2f gallons of %s' %(2, 'bottles', 2.5, 'milk'))\r\n",
        "print('We have %d %s containing %.2f gallons of %s' %(5.21, 'jugs', 10.86763, 'juice'))"
      ],
      "execution_count": null,
      "outputs": [
        {
          "output_type": "stream",
          "text": [
            "We have 2 bottles containing 2.50 gallons of milk\n",
            "We have 5 jugs containing 10.87 gallons of juice\n"
          ],
          "name": "stdout"
        }
      ]
    },
    {
      "cell_type": "markdown",
      "metadata": {
        "id": "pmdjK6hVw-Vk"
      },
      "source": [
        "Difference between a list, a set, and a tuple.\r\n",
        "* Lists are enclosed in brackets: l = [1, 2, \"a\"]\r\n",
        "* Tuples are enclosed in parentheses: t = (1, 2, \"a\") - Tuples are faster and consume less memory. \r\n",
        "* Dictionaries are built with curly brackets:d = {\"a\":1, \"b\":2} - To initialize dict use dict() or {}\r\n",
        "* Sets are made using the set() builtin function - To initialize empty set using set function"
      ]
    },
    {
      "cell_type": "code",
      "metadata": {
        "id": "8WxfCMYPklEX",
        "colab": {
          "base_uri": "https://localhost:8080/"
        },
        "outputId": "66643f42-4ad2-4403-92c0-6a3abad3057a"
      },
      "source": [
        "list = [\"A\",\"B\",\"C\"] # Order is maintained\n",
        "Tuple = (\"A\",\"B\",\"C\") # Cannot add elements to Tuples or elements cannot be modified; Order is maintained\n",
        "Set = {\"A\",\"B\",\"C\"} # Set cannot have duplicate values, Order may or maynot be maintained\n",
        "\n",
        "print(list[0])\n",
        "print(Tuple[0])\n",
        "# print(set[0]) # Wrong becoz order is not maintained\n",
        "\n",
        "list[0] = \"E\" #One of its element can be modified\n",
        "print(list)\n",
        "# Tuple[0] = \"S\"  # This gives an error because tuples are \"immutable\". Tuples cannot be appended to because they are immutable.\n",
        "\n",
        "list.append(\"D\") #Adds at the end\n",
        "print(list)\n",
        "list.remove(\"B\")\n",
        "print(list)\n",
        "# Tuple[0] = \"D\" # Wrong becoz u cannot modify Tuple\n",
        "list.insert(1,\"B\") # Insert at index=1\n",
        "print(list)\n",
        "\n",
        "Set.add(\"D\")\n",
        "print(Set)"
      ],
      "execution_count": null,
      "outputs": [
        {
          "output_type": "stream",
          "text": [
            "A\n",
            "A\n",
            "['E', 'B', 'C']\n",
            "['E', 'B', 'C', 'D']\n",
            "['E', 'C', 'D']\n",
            "['E', 'B', 'C', 'D']\n",
            "{'D', 'B', 'A', 'C'}\n"
          ],
          "name": "stdout"
        }
      ]
    },
    {
      "cell_type": "code",
      "metadata": {
        "id": "yMl43uFvxG6_"
      },
      "source": [
        "### Set Operations ###\n",
        "# Both variables should be of same data type\n",
        "# x UNION y\n",
        "x.union(y)\n",
        "# x INTERSECTION y\n",
        "x.intersection(y)\n",
        "# x members not in y\n",
        "x.difference(y)\n",
        "# y members not in x\n",
        "y.difference(x)\n",
        "\n",
        "## Difference of two sets or lists\n",
        "x = set(pd.unique(df['Var']))\n",
        "y = set(pd.unique(df['Var1']))\n",
        "z = x-y (or) x.difference(y)"
      ],
      "execution_count": null,
      "outputs": []
    },
    {
      "cell_type": "code",
      "metadata": {
        "id": "SPSqOzFaxGwT",
        "colab": {
          "base_uri": "https://localhost:8080/"
        },
        "outputId": "9322072b-af96-401c-9540-e1e361a2a2a7"
      },
      "source": [
        "# -- Comparisons --\r\n",
        "print(5 == 5)  # True\r\n",
        "print(5 > 5)  # False\r\n",
        "print(10 != 10)  # False\r\n",
        "\r\n",
        "print(\"Comparisons operators: ==, !=, >, <, >=, <=\")"
      ],
      "execution_count": null,
      "outputs": [
        {
          "output_type": "stream",
          "text": [
            "True\n",
            "False\n",
            "False\n",
            "Comparisons operators: ==, !=, >, <, >=, <=\n"
          ],
          "name": "stdout"
        }
      ]
    },
    {
      "cell_type": "code",
      "metadata": {
        "id": "IHQDGeGKxGs9",
        "colab": {
          "base_uri": "https://localhost:8080/",
          "height": 51
        },
        "outputId": "9a0005ee-ff13-4beb-9bff-f0c29837366a"
      },
      "source": [
        "print(\"if else statement\")\n",
        "x = input(\"give a value to x:\")\n",
        "\n",
        "if x=='5':   # if x in {'4','5','6'}\n",
        "  print(f\"it is {x}\")\n",
        "elif x=='10':\n",
        "  print(f\"it is ({x}/2)\")\n",
        "else:\n",
        "  print(\"Nothing\")\n",
        "  \n",
        "day_of_week = input(\"What day of the week is it today? \").lower()\n",
        "if day_of_week == \"monday\":\n",
        "    print(\"Have a great start to your week!\")\n",
        "elif day_of_week == \"friday\":\n",
        "    print(\"It's ok to finish a bit early!\")\n",
        "else:\n",
        "    print(\"Full speed ahead!\")"
      ],
      "execution_count": null,
      "outputs": [
        {
          "output_type": "stream",
          "text": [
            "give a value to x:14\n",
            "Nothing\n"
          ],
          "name": "stdout"
        }
      ]
    },
    {
      "cell_type": "code",
      "metadata": {
        "colab": {
          "base_uri": "https://localhost:8080/"
        },
        "id": "wt4mO2B_0evS",
        "outputId": "00d64526-149f-4cc5-b5b2-0b490dacdf81"
      },
      "source": [
        "number = 7\r\n",
        "user_input = input(\"Enter 'y' if you would like to play: \")\r\n",
        "\r\n",
        "if user_input.lower() == \"y\":\r\n",
        "    user_number = int(input(\"Guess our number: \"))\r\n",
        "    if user_number == number:\r\n",
        "        print(\"You guessed correctly!\")\r\n",
        "    elif abs(number - user_number) == 1:\r\n",
        "        print(\"You were off by 1.\")\r\n",
        "    else:\r\n",
        "        print(\"Sorry, it's wrong!\")"
      ],
      "execution_count": null,
      "outputs": [
        {
          "output_type": "stream",
          "text": [
            "Enter 'y' if you would like to play: y\n",
            "Guess our number: 6\n",
            "You were off by 1.\n"
          ],
          "name": "stdout"
        }
      ]
    },
    {
      "cell_type": "markdown",
      "metadata": {
        "id": "9SuxwqFh09HU"
      },
      "source": [
        "Loops in Python\r\n",
        "* While loop - With the while loop we can execute a set of statements as long as a condition is true - https://www.w3schools.com/python/python_while_loops.asp </br>\r\n",
        "https://healthedge.udemy.com/course/rest-api-flask-and-python/learn/lecture/5960068#overview </br>\r\n",
        "  * Break, continue, else statements - https://www.w3schools.com/python/python_for_loops.asp\r\n",
        "* For Loop -     \r\n",
        "    \r\n",
        "Return error and keep continuing in for loop \r\n",
        "https://www.digitalocean.com/community/tutorials/how-to-use-break-continue-and-pass-statements-when-working-with-loops-in-python-3\r\n"
      ]
    },
    {
      "cell_type": "code",
      "metadata": {
        "colab": {
          "base_uri": "https://localhost:8080/"
        },
        "id": "7DMm4LFz13gU",
        "outputId": "4e328977-fa30-4408-a5e6-ce721776f5bf"
      },
      "source": [
        "# -- While loop --\r\n",
        "\r\n",
        "number = 7\r\n",
        "play = input(\"Would you like to play? (Y/n) \")\r\n",
        "\r\n",
        "while play != \"n\":\r\n",
        "    user_number = int(input(\"Guess our number: \"))\r\n",
        "    if user_number == number:\r\n",
        "        print(\"You guessed correctly!\")\r\n",
        "    elif abs(number - user_number) == 1:\r\n",
        "        print(\"You were off by 1.\")\r\n",
        "    else:\r\n",
        "        print(\"Sorry, it's wrong!\")\r\n",
        "\r\n",
        "    play = input(\"Would you like to play? (Y/n) \")\r\n"
      ],
      "execution_count": null,
      "outputs": [
        {
          "output_type": "stream",
          "text": [
            "Would you like to play? (Y/n) y\n",
            "Guess our number: 10\n",
            "Sorry, it's wrong!\n",
            "Would you like to play? (Y/n) n\n"
          ],
          "name": "stdout"
        }
      ]
    },
    {
      "cell_type": "code",
      "metadata": {
        "colab": {
          "base_uri": "https://localhost:8080/"
        },
        "id": "iIQUvqtB2Hzl",
        "outputId": "7a8e2f5f-5e71-4480-90dd-38b1c07d0ded"
      },
      "source": [
        "# -- The break keyword --\r\n",
        "\r\n",
        "while True:\r\n",
        "    play = input(\"Would you like to play? (Y/n) \")\r\n",
        "\r\n",
        "    if play == \"n\":\r\n",
        "        break  # Exit the loop\r\n",
        "\r\n",
        "    user_number = int(input(\"Guess our number: \"))\r\n",
        "    if user_number == number:\r\n",
        "        print(\"You guessed correctly!\")\r\n",
        "    elif abs(number - user_number) == 1:\r\n",
        "        print(\"You were off by 1.\")\r\n",
        "    else:\r\n",
        "        print(\"Sorry, it's wrong!\")"
      ],
      "execution_count": null,
      "outputs": [
        {
          "output_type": "stream",
          "text": [
            "Would you like to play? (Y/n) y\n",
            "Guess our number: 8\n",
            "You were off by 1.\n",
            "Would you like to play? (Y/n) n\n"
          ],
          "name": "stdout"
        }
      ]
    },
    {
      "cell_type": "code",
      "metadata": {
        "id": "J6qt-I_2xGe9",
        "colab": {
          "base_uri": "https://localhost:8080/"
        },
        "outputId": "2033c317-6aa2-44f6-c7a0-5236b5f8ec8e"
      },
      "source": [
        "# -- For loop --\n",
        "friends = [\"Rolf\", \"Jen\", \"Bob\", \"Anne\"]\n",
        "for friend in friends:\n",
        "    print(f\"{friend} is my friend.\")"
      ],
      "execution_count": null,
      "outputs": [
        {
          "output_type": "stream",
          "text": [
            "A is my friend\n",
            "B is my friend\n",
            "C is my friend\n"
          ],
          "name": "stdout"
        }
      ]
    },
    {
      "cell_type": "code",
      "metadata": {
        "id": "baEgZaO_OtGF",
        "colab": {
          "base_uri": "https://localhost:8080/"
        },
        "outputId": "240f5493-7640-4b3d-ddec-9e2001e91165"
      },
      "source": [
        "# -- For loop 2 -- Average\n",
        "grades = [35, 67, 98, 100, 100]\n",
        "total = 0\n",
        "amount = len(grades)\n",
        "\n",
        "for grade in grades:\n",
        "    total += grade\n",
        "\n",
        "print(total)\n",
        "print(total / amount)"
      ],
      "execution_count": null,
      "outputs": [
        {
          "output_type": "stream",
          "text": [
            "400\n",
            "80.0\n"
          ],
          "name": "stdout"
        }
      ]
    },
    {
      "cell_type": "code",
      "metadata": {
        "id": "D82VEKCUPWnY",
        "colab": {
          "base_uri": "https://localhost:8080/"
        },
        "outputId": "ffcef9e7-7535-4a48-c324-5cb9d7518789"
      },
      "source": [
        "# -- Rewritten using sum() --\r\n",
        "grades = [35, 67, 98, 100, 100]\r\n",
        "total = sum(grades)\r\n",
        "amount = len(grades)\r\n",
        "print(total)\r\n",
        "print(total / amount)"
      ],
      "execution_count": null,
      "outputs": [
        {
          "output_type": "stream",
          "text": [
            "400\n",
            "80.0\n"
          ],
          "name": "stdout"
        }
      ]
    },
    {
      "cell_type": "code",
      "metadata": {
        "id": "wYd9LS7B7U96",
        "colab": {
          "base_uri": "https://localhost:8080/",
          "height": 52
        },
        "outputId": "cdca1be1-dee8-4bba-cea2-1401e32257da"
      },
      "source": [
        "print(\"List Comprehension\")\n",
        "numbers = [1,3,5]\n",
        "doubled = [x*2 for x in numbers]\n",
        "doubled"
      ],
      "execution_count": null,
      "outputs": [
        {
          "output_type": "stream",
          "text": [
            "List Comprehension\n"
          ],
          "name": "stdout"
        },
        {
          "output_type": "execute_result",
          "data": {
            "text/plain": [
              "[2, 6, 10]"
            ]
          },
          "metadata": {
            "tags": []
          },
          "execution_count": 2
        }
      ]
    },
    {
      "cell_type": "code",
      "metadata": {
        "id": "yw8fApd37VAw",
        "colab": {
          "base_uri": "https://localhost:8080/",
          "height": 52
        },
        "outputId": "e8445360-f7ea-4d92-9457-0b71a92c5273"
      },
      "source": [
        "print(\"Extract words that start with S in the list\")\n",
        "friends = [\"Roy\" , \"Sandy\" , \"Sam\" ,\"Gau\"]\n",
        "starts_s = [x for x in friends if x.startswith(\"S\")]\n",
        "starts_s"
      ],
      "execution_count": null,
      "outputs": [
        {
          "output_type": "stream",
          "text": [
            "Extract words that start with S in the list\n"
          ],
          "name": "stdout"
        },
        {
          "output_type": "execute_result",
          "data": {
            "text/plain": [
              "['Sandy', 'Sam']"
            ]
          },
          "metadata": {
            "tags": []
          },
          "execution_count": 3
        }
      ]
    },
    {
      "cell_type": "code",
      "metadata": {
        "id": "XAZzoRUd7VD-",
        "colab": {
          "base_uri": "https://localhost:8080/"
        },
        "outputId": "f0208f02-c62e-46ba-97df-2080b4598d5b"
      },
      "source": [
        "print(\"Dictionaries\")\n",
        "friend_ages = {\"Rolf\":24, \"Sandy\":27, \"Sam\": 30}\n",
        "print(friend_ages[\"Sandy\"])\n",
        "\n",
        "friend_ages[\"Bob\"] =25 #Modify or add an element to the dictionary"
      ],
      "execution_count": null,
      "outputs": [
        {
          "output_type": "stream",
          "text": [
            "Dictionaries\n",
            "27\n"
          ],
          "name": "stdout"
        }
      ]
    },
    {
      "cell_type": "code",
      "metadata": {
        "colab": {
          "base_uri": "https://localhost:8080/"
        },
        "id": "6mDWHeb4Oz5R",
        "outputId": "19b51ce8-e6ff-4259-ba6e-82bfd09db38a"
      },
      "source": [
        "student = {'name':'Jose', 'school':'Computing','grades':(66, 77, 88)}\r\n",
        "\r\n",
        "# Assume the argument, data, is a dictionary.\r\n",
        "# Modify the grades variable so it accesses the 'grades' key of the data dictionary.\r\n",
        "def average_grade(data):\r\n",
        "    grades = data['grades']\r\n",
        "    return sum(grades) / len(grades)\r\n",
        "\r\n",
        "average_grade(student)\r\n"
      ],
      "execution_count": null,
      "outputs": [
        {
          "output_type": "execute_result",
          "data": {
            "text/plain": [
              "77.0"
            ]
          },
          "metadata": {
            "tags": []
          },
          "execution_count": 77
        }
      ]
    },
    {
      "cell_type": "code",
      "metadata": {
        "id": "1nY-fifbPxCi"
      },
      "source": [
        "def average_grade_all_students(student_list):\r\n",
        "    total = 0\r\n",
        "    count = 0\r\n",
        "    for student in student_list:\r\n",
        "        grades = student['grades']\r\n",
        "        count += len(grades)\r\n",
        "        total += sum(grades)\r\n",
        "\r\n",
        "    return total / count"
      ],
      "execution_count": null,
      "outputs": []
    },
    {
      "cell_type": "code",
      "metadata": {
        "id": "akqhBM4r7VHC",
        "colab": {
          "base_uri": "https://localhost:8080/",
          "height": 34
        },
        "outputId": "c7ed50c0-5b73-4b77-80bd-6122cce91252"
      },
      "source": [
        "friends = [\n",
        "           {\"name\": \"Rolf\", \"age\": 24},\n",
        "           {\"name\": \"Sandy\", \"age\": 27},\n",
        "           {\"name\": \"Sam\", \"age\": 30},\n",
        "]\n",
        "friends[1][\"name\"]"
      ],
      "execution_count": null,
      "outputs": [
        {
          "output_type": "execute_result",
          "data": {
            "text/plain": [
              "'Sandy'"
            ]
          },
          "metadata": {
            "tags": []
          },
          "execution_count": 3
        }
      ]
    },
    {
      "cell_type": "code",
      "metadata": {
        "id": "vBPGr23A7VKB",
        "colab": {
          "base_uri": "https://localhost:8080/"
        },
        "outputId": "b59850bc-c0c9-42c0-92d9-1f9baa6ca4ad"
      },
      "source": [
        "friend_ages = {\"Rolf\":24, \"Sandy\":27, \"Sam\": 30}\n",
        "\n",
        "for x in friend_ages:\n",
        "  print(x)"
      ],
      "execution_count": null,
      "outputs": [
        {
          "output_type": "stream",
          "text": [
            "Rolf\n",
            "Sandy\n",
            "Sam\n"
          ],
          "name": "stdout"
        }
      ]
    },
    {
      "cell_type": "code",
      "metadata": {
        "id": "d0OHcNIJ7VNE",
        "colab": {
          "base_uri": "https://localhost:8080/"
        },
        "outputId": "07525bdb-061b-4707-dcb3-ad0adbe0aab5"
      },
      "source": [
        "friend_ages = {\"Rolf\":24, \"Sandy\":27, \"Sam\": 30}\n",
        "\n",
        "for x in friend_ages:\n",
        "  print(f\"{x}: {friend_ages[x]}\")\n",
        "\n",
        "print(\"Same result\")\n",
        "for x,y in friend_ages.items():\n",
        "  print(f\"{x}: {y}\")\n",
        "\n",
        "print(friend_ages.keys())\n",
        "\n",
        "print(friend_ages.values())\n",
        "print(sum(friend_ages.values()))\n",
        "\n",
        "print(friend_ages.items())"
      ],
      "execution_count": null,
      "outputs": [
        {
          "output_type": "stream",
          "text": [
            "Rolf: 24\n",
            "Sandy: 27\n",
            "Sam: 30\n",
            "Same result\n",
            "Rolf: 24\n",
            "Sandy: 27\n",
            "Sam: 30\n",
            "dict_keys(['Rolf', 'Sandy', 'Sam'])\n",
            "dict_values([24, 27, 30])\n",
            "81\n",
            "dict_items([('Rolf', 24), ('Sandy', 27), ('Sam', 30)])\n"
          ],
          "name": "stdout"
        }
      ]
    },
    {
      "cell_type": "code",
      "metadata": {
        "colab": {
          "base_uri": "https://localhost:8080/"
        },
        "id": "BWbivM0qOd38",
        "outputId": "f2bad1bd-9335-472a-8d48-fc319a9000d7"
      },
      "source": [
        "friend_ages"
      ],
      "execution_count": null,
      "outputs": [
        {
          "output_type": "execute_result",
          "data": {
            "text/plain": [
              "{'Rolf': 24, 'Sam': 30, 'Sandy': 27}"
            ]
          },
          "metadata": {
            "tags": []
          },
          "execution_count": 68
        }
      ]
    },
    {
      "cell_type": "code",
      "metadata": {
        "id": "vipjGOo07VQc",
        "colab": {
          "base_uri": "https://localhost:8080/",
          "height": 34
        },
        "outputId": "264e5720-bdcd-4e2d-ef57-172993c08c50"
      },
      "source": [
        "# To ignore a variable - use underscore - https://healthedge.udemy.com/course/rest-api-flask-and-python/learn/lecture/15927666#overview\n",
        "person = (\"Sandy\", 27, \"DS\")\n",
        "name, _, profession = person\n",
        "print(name, profession)\n"
      ],
      "execution_count": null,
      "outputs": [
        {
          "output_type": "stream",
          "text": [
            "Sandy DS\n"
          ],
          "name": "stdout"
        }
      ]
    },
    {
      "cell_type": "code",
      "metadata": {
        "id": "Ln0ksYls7VTQ",
        "colab": {
          "base_uri": "https://localhost:8080/",
          "height": 51
        },
        "outputId": "b6530e44-c4b2-4731-f87b-fb7555d957a0"
      },
      "source": [
        "# Seperate a list into 2 elements: 1st and all other into 1\n",
        "# * is used for collectiong\n",
        "head, *tail = [1,2,3,4,5]\n",
        "print(head)\n",
        "print(tail)"
      ],
      "execution_count": null,
      "outputs": [
        {
          "output_type": "stream",
          "text": [
            "1\n",
            "[2, 3, 4, 5]\n"
          ],
          "name": "stdout"
        }
      ]
    },
    {
      "cell_type": "code",
      "metadata": {
        "id": "XDALFW606sf2",
        "colab": {
          "base_uri": "https://localhost:8080/",
          "height": 68
        },
        "outputId": "9e00ce4e-e236-40f3-a47c-0434dea12ee3"
      },
      "source": [
        "head, *tail, y = [1,2,3,4,5]\n",
        "print(head)\n",
        "print(tail)\n",
        "print(y)"
      ],
      "execution_count": null,
      "outputs": [
        {
          "output_type": "stream",
          "text": [
            "1\n",
            "[2, 3, 4]\n",
            "5\n"
          ],
          "name": "stdout"
        }
      ]
    },
    {
      "cell_type": "markdown",
      "metadata": {
        "id": "QZyIYdkw7Dzs"
      },
      "source": [
        "Functions\n"
      ]
    },
    {
      "cell_type": "code",
      "metadata": {
        "id": "UAGrZGQa6sca"
      },
      "source": [
        "def hello():\n",
        "  print(\"Hello!\")"
      ],
      "execution_count": null,
      "outputs": []
    },
    {
      "cell_type": "code",
      "metadata": {
        "id": "4sk1g34Q6_3X"
      },
      "source": [
        "def age_in_secs():\n",
        "  age = int(input(\"Enter your age:\"))\n",
        "  age_secs = age*365*24*60*60\n",
        "  print(f\"Your age in seconds is {age_secs}\")"
      ],
      "execution_count": null,
      "outputs": []
    },
    {
      "cell_type": "code",
      "metadata": {
        "id": "PaSRgZpp7ADG",
        "colab": {
          "base_uri": "https://localhost:8080/",
          "height": 51
        },
        "outputId": "b11d2ed0-3c97-4a13-8cfc-d01e5a41fd11"
      },
      "source": [
        "age_in_secs()"
      ],
      "execution_count": null,
      "outputs": [
        {
          "output_type": "stream",
          "text": [
            "Enter your age:27\n",
            "Your age in seconds is 851472000\n"
          ],
          "name": "stdout"
        }
      ]
    },
    {
      "cell_type": "code",
      "metadata": {
        "id": "Ke5VL-EJ6sZM",
        "colab": {
          "base_uri": "https://localhost:8080/",
          "height": 34
        },
        "outputId": "c86f535c-53ed-4847-e7c4-fa90073b44d3"
      },
      "source": [
        "# positional Arguments\n",
        "def say_hello():\n",
        "  print(\"Hello Sandy!\")\n",
        "\n",
        "say_hello()"
      ],
      "execution_count": null,
      "outputs": [
        {
          "output_type": "stream",
          "text": [
            "Hello Sandy!\n"
          ],
          "name": "stdout"
        }
      ]
    },
    {
      "cell_type": "code",
      "metadata": {
        "id": "heCAEo2t6sWA",
        "colab": {
          "base_uri": "https://localhost:8080/",
          "height": 34
        },
        "outputId": "3d0e1356-22a4-4315-945e-d21cbbf246e3"
      },
      "source": [
        "def say_hello(name):\n",
        "  print(f\"Hello {name}\")\n",
        "\n",
        "say_hello(\"sandy\")"
      ],
      "execution_count": null,
      "outputs": [
        {
          "output_type": "stream",
          "text": [
            "Hello sandy\n"
          ],
          "name": "stdout"
        }
      ]
    },
    {
      "cell_type": "code",
      "metadata": {
        "id": "gIHDno_76sPu",
        "colab": {
          "base_uri": "https://localhost:8080/",
          "height": 34
        },
        "outputId": "0f21e6ee-b577-46c0-9f31-665234f2a654"
      },
      "source": [
        "def say_hello(name, surname):\n",
        "  print(f\"Hello {name} {surname}\")\n",
        "\n",
        "say_hello(\"sandy\", \"pashikanti\")"
      ],
      "execution_count": null,
      "outputs": [
        {
          "output_type": "stream",
          "text": [
            "Hello sandy pashikanti\n"
          ],
          "name": "stdout"
        }
      ]
    },
    {
      "cell_type": "code",
      "metadata": {
        "id": "h6A8x1oZ6sHJ",
        "colab": {
          "base_uri": "https://localhost:8080/",
          "height": 34
        },
        "outputId": "288744af-4151-421c-d048-bbfc17faa9e3"
      },
      "source": [
        "# When variables are mentioned, then \n",
        "def say_hello(name, surname):\n",
        "  print(f\"Hello {name} {surname}\")\n",
        "\n",
        "say_hello(surname=\"pashikanti\" , name=\"sandy\" )"
      ],
      "execution_count": null,
      "outputs": [
        {
          "output_type": "stream",
          "text": [
            "Hello sandy pashikanti\n"
          ],
          "name": "stdout"
        }
      ]
    },
    {
      "cell_type": "code",
      "metadata": {
        "id": "Br8W1Q-S6sC-"
      },
      "source": [
        "def addtwo(x, y=5): #Here y is default parameter, it takes the value mentioned \n",
        "\n",
        "def addtwo(x=5, y): # Gives ERROR as default parameters must be mentioned at the end\n",
        "\n",
        "def addtwo(y, x-3): # x is mentioned as a default parameter - and specified at the end"
      ],
      "execution_count": null,
      "outputs": []
    },
    {
      "cell_type": "code",
      "metadata": {
        "colab": {
          "base_uri": "https://localhost:8080/"
        },
        "id": "57v8fWrO40pH",
        "outputId": "12156109-fe10-4f19-f85b-1691dac62d50"
      },
      "source": [
        "def add2(x,y):\r\n",
        "  print(x+y)\r\n",
        "\r\n",
        "add2(5,8)"
      ],
      "execution_count": null,
      "outputs": [
        {
          "output_type": "stream",
          "text": [
            "13\n"
          ],
          "name": "stdout"
        }
      ]
    },
    {
      "cell_type": "code",
      "metadata": {
        "colab": {
          "base_uri": "https://localhost:8080/"
        },
        "id": "bslRl7hv5Y6u",
        "outputId": "8fedb176-6078-4b26-d990-06a8d61b55be"
      },
      "source": [
        "def add2(x,y):\r\n",
        "  return x+y\r\n",
        "\r\n",
        "add2(5,8)"
      ],
      "execution_count": null,
      "outputs": [
        {
          "output_type": "execute_result",
          "data": {
            "text/plain": [
              "13"
            ]
          },
          "metadata": {
            "tags": []
          },
          "execution_count": 38
        }
      ]
    },
    {
      "cell_type": "code",
      "metadata": {
        "id": "3GndwUiU6r7D",
        "colab": {
          "base_uri": "https://localhost:8080/"
        },
        "outputId": "c1a5814d-499d-4d44-cdb3-050b04118a18"
      },
      "source": [
        "def add2(x,y):\n",
        "  print(x+y)\n",
        "\n",
        "add2(5,8)\n",
        "print(add2(5,8)) # Here add2(5,8) is called and then the function returns None"
      ],
      "execution_count": null,
      "outputs": [
        {
          "output_type": "stream",
          "text": [
            "13\n",
            "13\n",
            "None\n"
          ],
          "name": "stdout"
        }
      ]
    },
    {
      "cell_type": "code",
      "metadata": {
        "id": "KphFFF5dxKY0",
        "colab": {
          "base_uri": "https://localhost:8080/",
          "height": 34
        },
        "outputId": "27cf26a4-38a3-4416-c7e0-398ce1c4f695"
      },
      "source": [
        "# Return statement in a function returns a value after the function is executed\n",
        "# Print statement in a function returns NONE after the function is executed\n",
        "def addtwo(x,y):\n",
        "  return x+y\n",
        "\n",
        "addtwo(5,8)\n",
        "print(addtwo(5,8))"
      ],
      "execution_count": null,
      "outputs": [
        {
          "output_type": "stream",
          "text": [
            "13\n"
          ],
          "name": "stdout"
        }
      ]
    },
    {
      "cell_type": "code",
      "metadata": {
        "id": "fQU8LAddxJov"
      },
      "source": [
        "def addtwo(x,y):\n",
        "  return x+y\n",
        "  print(x+y) # Print statement is not executed because it is after the return statement"
      ],
      "execution_count": null,
      "outputs": []
    },
    {
      "cell_type": "code",
      "metadata": {
        "id": "V_BvbeJn-IRt",
        "colab": {
          "base_uri": "https://localhost:8080/",
          "height": 34
        },
        "outputId": "2dd90232-0929-4279-8d87-9b1d960c93ec"
      },
      "source": [
        "# lambda function - Get input and return output\n",
        "addtwoNum = lambda x, y: x+y \n",
        "print(addtwoNum(5,7))"
      ],
      "execution_count": null,
      "outputs": [
        {
          "output_type": "stream",
          "text": [
            "12\n"
          ],
          "name": "stdout"
        }
      ]
    },
    {
      "cell_type": "code",
      "metadata": {
        "id": "9R6vzO-2-IFf",
        "colab": {
          "base_uri": "https://localhost:8080/",
          "height": 34
        },
        "outputId": "204f5529-ad5f-4189-f83a-3e1dad0d6b5c"
      },
      "source": [
        "# Calling 5,7 as x,y on lambda functions\n",
        "(lambda x, y: x+y)(5,7)"
      ],
      "execution_count": null,
      "outputs": [
        {
          "output_type": "execute_result",
          "data": {
            "text/plain": [
              "12"
            ]
          },
          "metadata": {
            "tags": []
          },
          "execution_count": 5
        }
      ]
    },
    {
      "cell_type": "code",
      "metadata": {
        "colab": {
          "base_uri": "https://localhost:8080/"
        },
        "id": "ez6yM5zVIQPK",
        "outputId": "4dc9bf71-af60-414f-aed0-6815c4a3dfbd"
      },
      "source": [
        "sequence = [1, 3, 5, 9]\r\n",
        "\r\n",
        "doubled = set(map(lambda x: x * 2,sequence)) # Order is lost in sets\r\n",
        "print(doubled) \r\n",
        "print([*doubled])\r\n",
        "\r\n",
        "doubled = map(lambda x: x * 2,sequence) \r\n",
        "print([*doubled]) # Convert map to list"
      ],
      "execution_count": null,
      "outputs": [
        {
          "output_type": "stream",
          "text": [
            "{18, 2, 10, 6}\n",
            "[18, 2, 10, 6]\n",
            "[2, 6, 10, 18]\n"
          ],
          "name": "stdout"
        }
      ]
    },
    {
      "cell_type": "code",
      "metadata": {
        "id": "jN60gLjk-Hyk",
        "colab": {
          "base_uri": "https://localhost:8080/"
        },
        "outputId": "68ebf306-fad2-4e9c-fa0a-488e39d26af8"
      },
      "source": [
        "# Applying function on a sequence\n",
        "def double(x):\n",
        "  return x*2\n",
        "\n",
        "sequence = [1,3,5,9]\n",
        "\n",
        "# 1st way\n",
        "DoubledSequence = [double(x) for x in sequence]\n",
        "print(DoubledSequence)\n",
        "\n",
        "# 2nd way - map(function,array)\n",
        "# Convert map object to set and then to list\n",
        "DoubledSequence = map(double, sequence) \n",
        "print([*DoubledSequence]) # Convert map to list\n",
        "\n",
        "# 3rd way - lambda\n",
        "DoubledSequence = [(lambda x: x*2)(x) for x in sequence]\n",
        "print(DoubledSequence)\n",
        "DoubledSequence = map(lambda x: x*2, sequence) # Order is lost in sets\n",
        "print([*DoubledSequence]) # Convert map to list "
      ],
      "execution_count": null,
      "outputs": [
        {
          "output_type": "stream",
          "text": [
            "[2, 6, 10, 18]\n",
            "[2, 6, 10, 18]\n",
            "[2, 6, 10, 18]\n",
            "[2, 6, 10, 18]\n"
          ],
          "name": "stdout"
        }
      ]
    },
    {
      "cell_type": "code",
      "metadata": {
        "id": "gcGdgMvDC8kR",
        "colab": {
          "base_uri": "https://localhost:8080/",
          "height": 34
        },
        "outputId": "c5028b90-54b2-46de-a943-79767834532e"
      },
      "source": [
        "# Multiple arguments - iterating more the previous value\n",
        "def multiply(*args):\n",
        "  print(args)\n",
        "\n",
        "multiply(1,3,5)"
      ],
      "execution_count": null,
      "outputs": [
        {
          "output_type": "stream",
          "text": [
            "(1, 3, 5)\n"
          ],
          "name": "stdout"
        }
      ]
    },
    {
      "cell_type": "code",
      "metadata": {
        "id": "MvLUfHFBC8nM",
        "colab": {
          "base_uri": "https://localhost:8080/",
          "height": 34
        },
        "outputId": "e85088d8-8364-433b-932c-1ceeb856475e"
      },
      "source": [
        "# Multiple arguments - iterating more the previous value\n",
        "def multiply(*args):\n",
        "  total=1\n",
        "  for arg in args:\n",
        "    total = total*arg\n",
        "  return total\n",
        "\n",
        "multiply(1,3,5)"
      ],
      "execution_count": null,
      "outputs": [
        {
          "output_type": "execute_result",
          "data": {
            "text/plain": [
              "15"
            ]
          },
          "metadata": {
            "tags": []
          },
          "execution_count": 15
        }
      ]
    },
    {
      "cell_type": "code",
      "metadata": {
        "id": "VC2mHa_OxJfu",
        "colab": {
          "base_uri": "https://localhost:8080/",
          "height": 34
        },
        "outputId": "5189f43d-fcab-4af6-b017-9e201c19133d"
      },
      "source": [
        "nums = [3,5]\n",
        "print(*nums)"
      ],
      "execution_count": null,
      "outputs": [
        {
          "output_type": "stream",
          "text": [
            "3 5\n"
          ],
          "name": "stdout"
        }
      ]
    },
    {
      "cell_type": "code",
      "metadata": {
        "id": "n9C9WoVKxJQs",
        "colab": {
          "base_uri": "https://localhost:8080/",
          "height": 34
        },
        "outputId": "3a00529c-0b51-499c-fc5d-da1a75b237f8"
      },
      "source": [
        "# Create dictionary\n",
        "def names(**kwargs):\n",
        "  print(kwargs)\n",
        "\n",
        "names(name=\"Sandy\", age=27)"
      ],
      "execution_count": null,
      "outputs": [
        {
          "output_type": "stream",
          "text": [
            "{'name': 'Sandy', 'age': 27}\n"
          ],
          "name": "stdout"
        }
      ]
    },
    {
      "cell_type": "code",
      "metadata": {
        "colab": {
          "base_uri": "https://localhost:8080/"
        },
        "id": "16AYXyrXQuA4",
        "outputId": "24074bff-63d7-4dbb-e907-a0f75f4c23d8"
      },
      "source": [
        "class Student:\r\n",
        "    def __init__(self):\r\n",
        "        self.name = \"Rolf\"\r\n",
        "        self.grades = (89, 90, 93, 78, 90)\r\n",
        "\r\n",
        "print(Student().name)\r\n",
        "print(Student().grades)"
      ],
      "execution_count": null,
      "outputs": [
        {
          "output_type": "stream",
          "text": [
            "Rolf\n",
            "(89, 90, 93, 78, 90)\n"
          ],
          "name": "stdout"
        }
      ]
    },
    {
      "cell_type": "code",
      "metadata": {
        "id": "439HML7P_Ekj",
        "colab": {
          "base_uri": "https://localhost:8080/"
        },
        "outputId": "0bf20c07-1b21-4471-b5bc-e2e6c52d95c2"
      },
      "source": [
        "student = {\"name\": \"Rolf\", \"grades\": (89, 90, 93, 78, 90)}\r\n",
        "\r\n",
        "def average(sequence):\r\n",
        "    return sum(sequence) / len(sequence)\r\n",
        "\r\n",
        "print(average(student[\"grades\"]))"
      ],
      "execution_count": null,
      "outputs": [
        {
          "output_type": "stream",
          "text": [
            "88.0\n"
          ],
          "name": "stdout"
        }
      ]
    },
    {
      "cell_type": "code",
      "metadata": {
        "colab": {
          "base_uri": "https://localhost:8080/"
        },
        "id": "7izNS43aSH-e",
        "outputId": "2b7f4062-34e8-4bac-f6d7-053dc21d3abe"
      },
      "source": [
        "# But wouldn't it be nice if we could...\r\n",
        "# print(student.average()) ?\r\n",
        "\r\n",
        "class Student:\r\n",
        "    def __init__(self):\r\n",
        "        self.name = \"Rolf\"\r\n",
        "        self.grades = (89, 90, 93, 78, 90)\r\n",
        "\r\n",
        "    def average(self): #self is Student()\r\n",
        "        return sum(self.grades) / len(self.grades)\r\n",
        "\r\n",
        "student = Student()\r\n",
        "print(student.average())\r\n",
        "# Identical to Student.average(student)"
      ],
      "execution_count": null,
      "outputs": [
        {
          "output_type": "stream",
          "text": [
            "88.0\n"
          ],
          "name": "stdout"
        }
      ]
    },
    {
      "cell_type": "code",
      "metadata": {
        "colab": {
          "base_uri": "https://localhost:8080/"
        },
        "id": "_yuLFbxdSMSa",
        "outputId": "62f1c575-66b6-4a86-80ee-1691b70fbb78"
      },
      "source": [
        "# -- Parameters in __init__ --\r\n",
        "class Student:\r\n",
        "    def __init__(self, name, grades):\r\n",
        "        self.name = name\r\n",
        "        self.grades = grades\r\n",
        "\r\n",
        "    def average(self):\r\n",
        "        return sum(self.grades) / len(self.grades)\r\n",
        "\r\n",
        "\r\n",
        "student = Student(\"Bob\", (36, 67, 90, 100, 100))\r\n",
        "print(student.average())"
      ],
      "execution_count": null,
      "outputs": [
        {
          "output_type": "stream",
          "text": [
            "78.6\n"
          ],
          "name": "stdout"
        }
      ]
    },
    {
      "cell_type": "code",
      "metadata": {
        "colab": {
          "base_uri": "https://localhost:8080/"
        },
        "id": "v3QvMuD1SOos",
        "outputId": "4d5e7713-ecb7-4f8a-b9e6-284525b7e777"
      },
      "source": [
        "# -- Remember *args ? --\r\n",
        "class Student:\r\n",
        "    def __init__(self, name, *grades):\r\n",
        "        self.name = name\r\n",
        "        self.grades = grades\r\n",
        "\r\n",
        "    def average(self):\r\n",
        "        return sum(self.grades) / len(self.grades)\r\n",
        "\r\n",
        "\r\n",
        "student = Student(\"Bob\", 36, 67, 90, 100, 100)\r\n",
        "print(student.average())"
      ],
      "execution_count": null,
      "outputs": [
        {
          "output_type": "stream",
          "text": [
            "78.6\n"
          ],
          "name": "stdout"
        }
      ]
    },
    {
      "cell_type": "code",
      "metadata": {
        "id": "oJO578IWRuSC"
      },
      "source": [
        "# A function that lives inside a class is called a method.\r\n",
        "# So, methods are functions, but not all functions are methods.\r\n",
        "def average(sequence):\r\n",
        "    return sum(sequence) / len(sequence)\r\n",
        "\r\n",
        "class Student:\r\n",
        "    def __init__(self):  # method\r\n",
        "        self.name = \"Rolf\"\r\n",
        "        self.grades = (79, 90, 95, 99)\r\n",
        "    \r\n",
        "    def average(self):  # method\r\n",
        "        return sum(self.grades) / len(self.grades)  "
      ],
      "execution_count": null,
      "outputs": []
    },
    {
      "cell_type": "code",
      "metadata": {
        "colab": {
          "base_uri": "https://localhost:8080/"
        },
        "id": "ql0cR-iFR8cU",
        "outputId": "dff8cef6-a4f4-4bfa-8a6d-be5878430e2e"
      },
      "source": [
        "class Person:\r\n",
        "    def __init__(self, name, age):\r\n",
        "        self.name = name\r\n",
        "        self.age = age\r\n",
        "\r\n",
        "\r\n",
        "bob = Person(\"Bob\", 35)\r\n",
        "print(bob)  # Not the nicest thing to read!"
      ],
      "execution_count": null,
      "outputs": [
        {
          "output_type": "stream",
          "text": [
            "<__main__.Person object at 0x7fa07f0cec50>\n"
          ],
          "name": "stdout"
        }
      ]
    },
    {
      "cell_type": "code",
      "metadata": {
        "colab": {
          "base_uri": "https://localhost:8080/"
        },
        "id": "N4KuaSGKSgKT",
        "outputId": "2fccecd4-b43c-4619-f837-8acef3e11b3b"
      },
      "source": [
        "# -- __str__ --\r\n",
        "# The goal of __str__ is to return a nice, easy to read string for end users.\r\n",
        "class Person:\r\n",
        "    def __init__(self, name, age):\r\n",
        "        self.name = name\r\n",
        "        self.age = age\r\n",
        "\r\n",
        "    def __str__(self):\r\n",
        "        return f\"Person {self.name}, {self.age} years old\"\r\n",
        "\r\n",
        "\r\n",
        "bob = Person(\"Bob\", 35)\r\n",
        "print(bob)  # Much nicer"
      ],
      "execution_count": null,
      "outputs": [
        {
          "output_type": "stream",
          "text": [
            "Person Bob, 35 years old\n"
          ],
          "name": "stdout"
        }
      ]
    },
    {
      "cell_type": "code",
      "metadata": {
        "colab": {
          "base_uri": "https://localhost:8080/"
        },
        "id": "eiYqgejwSkNz",
        "outputId": "e350c0bc-05af-48af-c789-ba1136d87942"
      },
      "source": [
        "# -- __repr__ --\r\n",
        "# The goal of __repr__ is to be unambiguous, and if possible what it outputs should allow us to re-create an identical object.\r\n",
        "class Person:\r\n",
        "    def __init__(self, name, age):\r\n",
        "        self.name = name\r\n",
        "        self.age = age\r\n",
        "\r\n",
        "    def __repr__(self):\r\n",
        "        # I'm adding the < > just so it's clear that this is an object we're printing out!\r\n",
        "        return (\r\n",
        "            f\"<Person({self.name!r}, {self.age})>\"\r\n",
        "        )  # !r calls the __repr__ method of the thing.\r\n",
        "\r\n",
        "\r\n",
        "bob = Person(\"Bob\", 35)\r\n",
        "print(bob)  # Not as nice, but we could re-create \"Bob\" very easily."
      ],
      "execution_count": null,
      "outputs": [
        {
          "output_type": "stream",
          "text": [
            "<Person('Bob', 35)>\n"
          ],
          "name": "stdout"
        }
      ]
    },
    {
      "cell_type": "code",
      "metadata": {
        "colab": {
          "base_uri": "https://localhost:8080/"
        },
        "id": "DVjxKeBHS4FU",
        "outputId": "c36537ac-e5b4-4573-a7e7-a9c4cbda22c9"
      },
      "source": [
        "class ClassTest:\r\n",
        "    def instance_method(self):\r\n",
        "        print(f\"Called instance_method of {self}\")\r\n",
        "\r\n",
        "    @classmethod\r\n",
        "    def class_method(cls):\r\n",
        "        print(f\"Called class_method of {cls}\")\r\n",
        "\r\n",
        "    @staticmethod\r\n",
        "    def static_method():\r\n",
        "        print(f\"Called static_method. We don't get any object or class info here.\")\r\n",
        "\r\n",
        "\r\n",
        "instance = ClassTest()\r\n",
        "instance.instance_method()\r\n",
        "\r\n",
        "ClassTest.class_method()\r\n",
        "ClassTest.static_method()"
      ],
      "execution_count": null,
      "outputs": [
        {
          "output_type": "stream",
          "text": [
            "Called instance_method of <__main__.ClassTest object at 0x7fa07f0ceda0>\n",
            "Called class_method of <class '__main__.ClassTest'>\n",
            "Called static_method. We don't get any object or class info here.\n"
          ],
          "name": "stdout"
        }
      ]
    },
    {
      "cell_type": "code",
      "metadata": {
        "colab": {
          "base_uri": "https://localhost:8080/"
        },
        "id": "ci1ARYVlTAGP",
        "outputId": "28b04f43-286e-4f6c-a33b-e10faea48250"
      },
      "source": [
        "# -- What are they used for? --\r\n",
        "# Instance methods are used for most things. When you want to produce an action that uses the data stored in an object.\r\n",
        "# Static methods are used to just place a method inside a class because you feel it belongs there (i.e. for code organisation, mostly!)\r\n",
        "# Class methods are often used as factories.\r\n",
        "class Book:\r\n",
        "    TYPES = (\"hardcover\", \"paperback\")\r\n",
        "\r\n",
        "    def __init__(self, name, book_type, weight):\r\n",
        "        self.name = name\r\n",
        "        self.book_type = book_type\r\n",
        "        self.weight = weight\r\n",
        "\r\n",
        "    def __repr__(self):\r\n",
        "        return f\"<Book {self.name}, {self.book_type}, weighing {self.weight}g>\"\r\n",
        "\r\n",
        "    @classmethod\r\n",
        "    def hardcover(cls, name, page_weight):\r\n",
        "        return cls(name, cls.TYPES[0], page_weight + 100)\r\n",
        "\r\n",
        "    @classmethod\r\n",
        "    def paperback(cls, name, page_weight):\r\n",
        "        return cls(name, cls.TYPES[1], page_weight)\r\n",
        "\r\n",
        "\r\n",
        "heavy = Book.hardcover(\"Harry Potter\", 1500)\r\n",
        "light = Book.paperback(\"Python 101\", 600)\r\n",
        "\r\n",
        "print(heavy)\r\n",
        "print(light)"
      ],
      "execution_count": null,
      "outputs": [
        {
          "output_type": "stream",
          "text": [
            "<Book Harry Potter, hardcover, weighing 1600g>\n",
            "<Book Python 101, paperback, weighing 600g>\n"
          ],
          "name": "stdout"
        }
      ]
    },
    {
      "cell_type": "code",
      "metadata": {
        "id": "syn08A5bTM7B"
      },
      "source": [
        "class Device:\r\n",
        "    def __init__(self, name, connected_by):\r\n",
        "        self.name = name\r\n",
        "        self.connected_by = connected_by\r\n",
        "        self.connected = True\r\n",
        "\r\n",
        "    def __str__(self):\r\n",
        "        return f\"Device {self.name!r} ({self.connected_by})\"\r\n",
        "\r\n",
        "    def disconnect(self):\r\n",
        "        self.connected = False\r\n",
        "\r\n",
        "\r\n",
        "# printer = Device(\"Printer\", \"USB\")\r\n",
        "# print(printer)\r\n",
        "\r\n",
        "# We don't want to add printer-specific stuff to Device, so..."
      ],
      "execution_count": null,
      "outputs": []
    },
    {
      "cell_type": "code",
      "metadata": {
        "colab": {
          "base_uri": "https://localhost:8080/",
          "height": 407
        },
        "id": "zB8y4mCXTOaU",
        "outputId": "b5ed7f18-fd52-435f-ca5f-4e8162df8fd0"
      },
      "source": [
        "class Printer(Device):\r\n",
        "    def __init__(self, name, connected_by, capacity):\r\n",
        "        # super(Printer, self).__init__(name, connected_by)  - Python2.7\r\n",
        "        super().__init__(name, connected_by)  # Python3+\r\n",
        "        self.capacity = capacity\r\n",
        "        self.remaining_pages = capacity\r\n",
        "\r\n",
        "    def __str__(self):\r\n",
        "        return f\"{super().__str__()} ({self.remaining_pages} pages remaining)\"\r\n",
        "\r\n",
        "    def print(self, pages):\r\n",
        "        if not self.connected:\r\n",
        "            raise TypeError(\"Device is disconnected at this time, cannot print.\")\r\n",
        "        print(f\"Printing {pages} pages.\")\r\n",
        "        self.remaining_pages -= pages\r\n",
        "\r\n",
        "\r\n",
        "printer = Printer(\"Printer\", \"USB\", 500)\r\n",
        "printer.print(20)\r\n",
        "print(printer)\r\n",
        "printer.print(50)\r\n",
        "print(printer)\r\n",
        "printer.disconnect()\r\n",
        "printer.print(30)  # Error"
      ],
      "execution_count": null,
      "outputs": [
        {
          "output_type": "stream",
          "text": [
            "Printing 20 pages.\n",
            "Device 'Printer' (USB) (480 pages remaining)\n",
            "Printing 50 pages.\n",
            "Device 'Printer' (USB) (430 pages remaining)\n"
          ],
          "name": "stdout"
        },
        {
          "output_type": "error",
          "ename": "TypeError",
          "evalue": "ignored",
          "traceback": [
            "\u001b[0;31m---------------------------------------------------------------------------\u001b[0m",
            "\u001b[0;31mTypeError\u001b[0m                                 Traceback (most recent call last)",
            "\u001b[0;32m<ipython-input-98-40daf33683f0>\u001b[0m in \u001b[0;36m<module>\u001b[0;34m()\u001b[0m\n\u001b[1;32m     22\u001b[0m \u001b[0mprint\u001b[0m\u001b[0;34m(\u001b[0m\u001b[0mprinter\u001b[0m\u001b[0;34m)\u001b[0m\u001b[0;34m\u001b[0m\u001b[0;34m\u001b[0m\u001b[0m\n\u001b[1;32m     23\u001b[0m \u001b[0mprinter\u001b[0m\u001b[0;34m.\u001b[0m\u001b[0mdisconnect\u001b[0m\u001b[0;34m(\u001b[0m\u001b[0;34m)\u001b[0m\u001b[0;34m\u001b[0m\u001b[0;34m\u001b[0m\u001b[0m\n\u001b[0;32m---> 24\u001b[0;31m \u001b[0mprinter\u001b[0m\u001b[0;34m.\u001b[0m\u001b[0mprint\u001b[0m\u001b[0;34m(\u001b[0m\u001b[0;36m30\u001b[0m\u001b[0;34m)\u001b[0m  \u001b[0;31m# Error\u001b[0m\u001b[0;34m\u001b[0m\u001b[0;34m\u001b[0m\u001b[0m\n\u001b[0m",
            "\u001b[0;32m<ipython-input-98-40daf33683f0>\u001b[0m in \u001b[0;36mprint\u001b[0;34m(self, pages)\u001b[0m\n\u001b[1;32m     11\u001b[0m     \u001b[0;32mdef\u001b[0m \u001b[0mprint\u001b[0m\u001b[0;34m(\u001b[0m\u001b[0mself\u001b[0m\u001b[0;34m,\u001b[0m \u001b[0mpages\u001b[0m\u001b[0;34m)\u001b[0m\u001b[0;34m:\u001b[0m\u001b[0;34m\u001b[0m\u001b[0;34m\u001b[0m\u001b[0m\n\u001b[1;32m     12\u001b[0m         \u001b[0;32mif\u001b[0m \u001b[0;32mnot\u001b[0m \u001b[0mself\u001b[0m\u001b[0;34m.\u001b[0m\u001b[0mconnected\u001b[0m\u001b[0;34m:\u001b[0m\u001b[0;34m\u001b[0m\u001b[0;34m\u001b[0m\u001b[0m\n\u001b[0;32m---> 13\u001b[0;31m             \u001b[0;32mraise\u001b[0m \u001b[0mTypeError\u001b[0m\u001b[0;34m(\u001b[0m\u001b[0;34m\"Device is disconnected at this time, cannot print.\"\u001b[0m\u001b[0;34m)\u001b[0m\u001b[0;34m\u001b[0m\u001b[0;34m\u001b[0m\u001b[0m\n\u001b[0m\u001b[1;32m     14\u001b[0m         \u001b[0mprint\u001b[0m\u001b[0;34m(\u001b[0m\u001b[0;34mf\"Printing {pages} pages.\"\u001b[0m\u001b[0;34m)\u001b[0m\u001b[0;34m\u001b[0m\u001b[0;34m\u001b[0m\u001b[0m\n\u001b[1;32m     15\u001b[0m         \u001b[0mself\u001b[0m\u001b[0;34m.\u001b[0m\u001b[0mremaining_pages\u001b[0m \u001b[0;34m-=\u001b[0m \u001b[0mpages\u001b[0m\u001b[0;34m\u001b[0m\u001b[0;34m\u001b[0m\u001b[0m\n",
            "\u001b[0;31mTypeError\u001b[0m: Device is disconnected at this time, cannot print."
          ]
        }
      ]
    },
    {
      "cell_type": "code",
      "metadata": {
        "colab": {
          "base_uri": "https://localhost:8080/"
        },
        "id": "vRPwVdeikE-z",
        "outputId": "9eddb78f-6a88-4618-82ae-76fef6e1232a"
      },
      "source": [
        "### Dictionaries\r\n",
        "### Min and Max values frm Dictionaries:\r\n",
        "prices = {\r\n",
        "   'ACME': 45.23,\r\n",
        "   'AAPL': 612.78,\r\n",
        "   'IBM': 205.55,\r\n",
        "   'HPQ': 37.20,\r\n",
        "   'FB': 10.75\r\n",
        "}\r\n",
        "# Find min and max price\r\n",
        "min_price = min(zip(prices.values(), prices.keys()))\r\n",
        "max_price = max(zip(prices.values(), prices.keys()))\r\n",
        "print('min price:', min_price)\r\n",
        "print('max price:', max_price)\r\n",
        "# Sorted prices\r\n",
        "print('sorted prices:')\r\n",
        "prices_sorted = sorted(zip(prices.values(), prices.keys()))\r\n",
        "for price, name in prices_sorted:\r\n",
        "    print('    ', name, price)\r\n",
        "\r\n",
        "### Determine the most/top common words in a list\r\n",
        "words = [\r\n",
        "   'look', 'into', 'my', 'eyes', 'look', 'into', 'my', 'eyes',\r\n",
        "   'the', 'eyes', 'the', 'eyes', 'the', 'eyes', 'not', 'around', 'the',\r\n",
        "   'eyes', \"don't\", 'look', 'around', 'the', 'eyes', 'look', 'into',\r\n",
        "   'my', 'eyes', \"you're\", 'under']\r\n",
        "from collections import Counter\r\n",
        "word_counts = Counter(words)\r\n",
        "top_three = word_counts.most_common(3)\r\n",
        "print(top_three)\r\n",
        "# outputs [('eyes', 8), ('the', 5), ('look', 4)]\r\n",
        "# Example of merging in more words\r\n",
        "morewords = ['why','are','you','not','looking','in','my','eyes']\r\n",
        "word_counts.update(morewords)\r\n",
        "print(word_counts.most_common(3))\r\n",
        "\r\n",
        "### Extracting a subset from dictionary based on values or keys\r\n",
        "# example of extracting a subset from a dictionary\r\n",
        "from pprint import pprint\r\n",
        "prices = {\r\n",
        "   'ACME': 45.23,\r\n",
        "   'AAPL': 612.78,\r\n",
        "   'IBM': 205.55,\r\n",
        "   'HPQ': 37.20,\r\n",
        "   'FB': 10.75}\r\n",
        "# Make a dictionary of all prices over 200\r\n",
        "p1 = { key:value for key, value in prices.items() if value > 200 }\r\n",
        "print(\"All prices over 200\")\r\n",
        "pprint(p1)\r\n",
        "# Make a dictionary of tech stocks\r\n",
        "tech_names = { 'AAPL', 'IBM', 'HPQ', 'MSFT' }\r\n",
        "p2 = { key:value for key,value in prices.items() if key in tech_names }\r\n",
        "print(\"All techs\")\r\n",
        "pprint(p2)"
      ],
      "execution_count": null,
      "outputs": [
        {
          "output_type": "stream",
          "text": [
            "min price: (10.75, 'FB')\n",
            "max price: (612.78, 'AAPL')\n",
            "sorted prices:\n",
            "     FB 10.75\n",
            "     HPQ 37.2\n",
            "     ACME 45.23\n",
            "     IBM 205.55\n",
            "     AAPL 612.78\n",
            "[('eyes', 8), ('the', 5), ('look', 4)]\n",
            "[('eyes', 9), ('the', 5), ('look', 4)]\n",
            "All prices over 200\n",
            "{'AAPL': 612.78, 'IBM': 205.55}\n",
            "All techs\n",
            "{'AAPL': 612.78, 'HPQ': 37.2, 'IBM': 205.55}\n"
          ],
          "name": "stdout"
        }
      ]
    }
  ]
}