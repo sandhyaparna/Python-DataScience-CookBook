{
  "nbformat": 4,
  "nbformat_minor": 0,
  "metadata": {
    "colab": {
      "name": "Python Refresher.ipynb",
      "provenance": [],
      "collapsed_sections": [],
      "include_colab_link": true
    },
    "kernelspec": {
      "name": "python3",
      "display_name": "Python 3"
    }
  },
  "cells": [
    {
      "cell_type": "markdown",
      "metadata": {
        "id": "view-in-github",
        "colab_type": "text"
      },
      "source": [
        "<a href=\"https://colab.research.google.com/github/sandhyaparna/Python-DataScience-CookBook/blob/master/Interview%20Questions/Python_Refresher.ipynb\" target=\"_parent\"><img src=\"https://colab.research.google.com/assets/colab-badge.svg\" alt=\"Open In Colab\"/></a>"
      ]
    },
    {
      "cell_type": "markdown",
      "metadata": {
        "id": "aBzFhCO_mIpM"
      },
      "source": [
        "### Functions\r\n",
        "* The apply() function is used to apply a function along an axis of the DataFrame.\r\n",
        "* The applymap() function is used to apply a function to a Dataframe elementwise.\r\n"
      ]
    },
    {
      "cell_type": "code",
      "metadata": {
        "id": "vVal9LeWB45W",
        "outputId": "3e59e455-4d0c-4dd5-c906-c00db2239fb1",
        "colab": {
          "base_uri": "https://localhost:8080/",
          "height": 193
        }
      },
      "source": [
        "import pandas as pd\r\n",
        "import numpy as np\r\n",
        "df = pd.DataFrame(np.random.binomial(n=10, p=0.2, size=(100,3)), columns=list('xyz'))\r\n",
        "\r\n",
        "df['p'] = df['x'].apply(lambda x: x**2)\r\n",
        "df.head()"
      ],
      "execution_count": 120,
      "outputs": [
        {
          "output_type": "execute_result",
          "data": {
            "text/html": [
              "<div>\n",
              "<style scoped>\n",
              "    .dataframe tbody tr th:only-of-type {\n",
              "        vertical-align: middle;\n",
              "    }\n",
              "\n",
              "    .dataframe tbody tr th {\n",
              "        vertical-align: top;\n",
              "    }\n",
              "\n",
              "    .dataframe thead th {\n",
              "        text-align: right;\n",
              "    }\n",
              "</style>\n",
              "<table border=\"1\" class=\"dataframe\">\n",
              "  <thead>\n",
              "    <tr style=\"text-align: right;\">\n",
              "      <th></th>\n",
              "      <th>x</th>\n",
              "      <th>y</th>\n",
              "      <th>z</th>\n",
              "      <th>p</th>\n",
              "    </tr>\n",
              "  </thead>\n",
              "  <tbody>\n",
              "    <tr>\n",
              "      <th>0</th>\n",
              "      <td>0</td>\n",
              "      <td>1</td>\n",
              "      <td>5</td>\n",
              "      <td>0</td>\n",
              "    </tr>\n",
              "    <tr>\n",
              "      <th>1</th>\n",
              "      <td>2</td>\n",
              "      <td>0</td>\n",
              "      <td>4</td>\n",
              "      <td>4</td>\n",
              "    </tr>\n",
              "    <tr>\n",
              "      <th>2</th>\n",
              "      <td>1</td>\n",
              "      <td>3</td>\n",
              "      <td>1</td>\n",
              "      <td>1</td>\n",
              "    </tr>\n",
              "    <tr>\n",
              "      <th>3</th>\n",
              "      <td>2</td>\n",
              "      <td>3</td>\n",
              "      <td>1</td>\n",
              "      <td>4</td>\n",
              "    </tr>\n",
              "    <tr>\n",
              "      <th>4</th>\n",
              "      <td>2</td>\n",
              "      <td>3</td>\n",
              "      <td>0</td>\n",
              "      <td>4</td>\n",
              "    </tr>\n",
              "  </tbody>\n",
              "</table>\n",
              "</div>"
            ],
            "text/plain": [
              "   x  y  z  p\n",
              "0  0  1  5  0\n",
              "1  2  0  4  4\n",
              "2  1  3  1  1\n",
              "3  2  3  1  4\n",
              "4  2  3  0  4"
            ]
          },
          "metadata": {
            "tags": []
          },
          "execution_count": 120
        }
      ]
    },
    {
      "cell_type": "code",
      "metadata": {
        "id": "lyE2_a-vCgaL",
        "outputId": "4a651145-f1d4-4a10-b3e4-38b06b432e47",
        "colab": {
          "base_uri": "https://localhost:8080/",
          "height": 193
        }
      },
      "source": [
        "df = df.apply(lambda x: x**2,axis=1)\r\n",
        "df.head()"
      ],
      "execution_count": 121,
      "outputs": [
        {
          "output_type": "execute_result",
          "data": {
            "text/html": [
              "<div>\n",
              "<style scoped>\n",
              "    .dataframe tbody tr th:only-of-type {\n",
              "        vertical-align: middle;\n",
              "    }\n",
              "\n",
              "    .dataframe tbody tr th {\n",
              "        vertical-align: top;\n",
              "    }\n",
              "\n",
              "    .dataframe thead th {\n",
              "        text-align: right;\n",
              "    }\n",
              "</style>\n",
              "<table border=\"1\" class=\"dataframe\">\n",
              "  <thead>\n",
              "    <tr style=\"text-align: right;\">\n",
              "      <th></th>\n",
              "      <th>x</th>\n",
              "      <th>y</th>\n",
              "      <th>z</th>\n",
              "      <th>p</th>\n",
              "    </tr>\n",
              "  </thead>\n",
              "  <tbody>\n",
              "    <tr>\n",
              "      <th>0</th>\n",
              "      <td>0</td>\n",
              "      <td>1</td>\n",
              "      <td>25</td>\n",
              "      <td>0</td>\n",
              "    </tr>\n",
              "    <tr>\n",
              "      <th>1</th>\n",
              "      <td>4</td>\n",
              "      <td>0</td>\n",
              "      <td>16</td>\n",
              "      <td>16</td>\n",
              "    </tr>\n",
              "    <tr>\n",
              "      <th>2</th>\n",
              "      <td>1</td>\n",
              "      <td>9</td>\n",
              "      <td>1</td>\n",
              "      <td>1</td>\n",
              "    </tr>\n",
              "    <tr>\n",
              "      <th>3</th>\n",
              "      <td>4</td>\n",
              "      <td>9</td>\n",
              "      <td>1</td>\n",
              "      <td>16</td>\n",
              "    </tr>\n",
              "    <tr>\n",
              "      <th>4</th>\n",
              "      <td>4</td>\n",
              "      <td>9</td>\n",
              "      <td>0</td>\n",
              "      <td>16</td>\n",
              "    </tr>\n",
              "  </tbody>\n",
              "</table>\n",
              "</div>"
            ],
            "text/plain": [
              "   x  y   z   p\n",
              "0  0  1  25   0\n",
              "1  4  0  16  16\n",
              "2  1  9   1   1\n",
              "3  4  9   1  16\n",
              "4  4  9   0  16"
            ]
          },
          "metadata": {
            "tags": []
          },
          "execution_count": 121
        }
      ]
    },
    {
      "cell_type": "code",
      "metadata": {
        "colab": {
          "base_uri": "https://localhost:8080/"
        },
        "id": "jhP_aku0tJJH",
        "outputId": "660a18be-df1e-4943-c3d0-00792b118143"
      },
      "source": [
        "# Column wise\r\n",
        "df.apply(lambda x: x.sum(), axis=0)"
      ],
      "execution_count": null,
      "outputs": [
        {
          "output_type": "execute_result",
          "data": {
            "text/plain": [
              "x    172\n",
              "y    202\n",
              "z    203\n",
              "dtype: int64"
            ]
          },
          "metadata": {
            "tags": []
          },
          "execution_count": 43
        }
      ]
    },
    {
      "cell_type": "code",
      "metadata": {
        "colab": {
          "base_uri": "https://localhost:8080/",
          "height": 198
        },
        "id": "Ztatqa8esyKa",
        "outputId": "da97fab0-0f20-4cf1-f3da-66f7a54196da"
      },
      "source": [
        "#  performs the Lambda function on the DataFrame elementwise\r\n",
        "df.applymap(lambda x: x*10).head()"
      ],
      "execution_count": null,
      "outputs": [
        {
          "output_type": "execute_result",
          "data": {
            "text/html": [
              "<div>\n",
              "<style scoped>\n",
              "    .dataframe tbody tr th:only-of-type {\n",
              "        vertical-align: middle;\n",
              "    }\n",
              "\n",
              "    .dataframe tbody tr th {\n",
              "        vertical-align: top;\n",
              "    }\n",
              "\n",
              "    .dataframe thead th {\n",
              "        text-align: right;\n",
              "    }\n",
              "</style>\n",
              "<table border=\"1\" class=\"dataframe\">\n",
              "  <thead>\n",
              "    <tr style=\"text-align: right;\">\n",
              "      <th></th>\n",
              "      <th>x</th>\n",
              "      <th>y</th>\n",
              "      <th>z</th>\n",
              "    </tr>\n",
              "  </thead>\n",
              "  <tbody>\n",
              "    <tr>\n",
              "      <th>0</th>\n",
              "      <td>30</td>\n",
              "      <td>10</td>\n",
              "      <td>70</td>\n",
              "    </tr>\n",
              "    <tr>\n",
              "      <th>1</th>\n",
              "      <td>30</td>\n",
              "      <td>20</td>\n",
              "      <td>20</td>\n",
              "    </tr>\n",
              "    <tr>\n",
              "      <th>2</th>\n",
              "      <td>20</td>\n",
              "      <td>10</td>\n",
              "      <td>40</td>\n",
              "    </tr>\n",
              "    <tr>\n",
              "      <th>3</th>\n",
              "      <td>10</td>\n",
              "      <td>10</td>\n",
              "      <td>0</td>\n",
              "    </tr>\n",
              "    <tr>\n",
              "      <th>4</th>\n",
              "      <td>10</td>\n",
              "      <td>20</td>\n",
              "      <td>10</td>\n",
              "    </tr>\n",
              "  </tbody>\n",
              "</table>\n",
              "</div>"
            ],
            "text/plain": [
              "    x   y   z\n",
              "0  30  10  70\n",
              "1  30  20  20\n",
              "2  20  10  40\n",
              "3  10  10   0\n",
              "4  10  20  10"
            ]
          },
          "metadata": {
            "tags": []
          },
          "execution_count": 42
        }
      ]
    },
    {
      "cell_type": "code",
      "metadata": {
        "colab": {
          "base_uri": "https://localhost:8080/",
          "height": 198
        },
        "id": "ODc7Q5ceoGhi",
        "outputId": "6a7c6322-92cf-4e92-abbf-cdc6a387f50b"
      },
      "source": [
        "def cm_to_mm(cm):\r\n",
        "    mm = cm * 10\r\n",
        "    return mm\r\n",
        "df.apply(cm_to_mm).head()"
      ],
      "execution_count": null,
      "outputs": [
        {
          "output_type": "execute_result",
          "data": {
            "text/html": [
              "<div>\n",
              "<style scoped>\n",
              "    .dataframe tbody tr th:only-of-type {\n",
              "        vertical-align: middle;\n",
              "    }\n",
              "\n",
              "    .dataframe tbody tr th {\n",
              "        vertical-align: top;\n",
              "    }\n",
              "\n",
              "    .dataframe thead th {\n",
              "        text-align: right;\n",
              "    }\n",
              "</style>\n",
              "<table border=\"1\" class=\"dataframe\">\n",
              "  <thead>\n",
              "    <tr style=\"text-align: right;\">\n",
              "      <th></th>\n",
              "      <th>x</th>\n",
              "      <th>y</th>\n",
              "      <th>z</th>\n",
              "    </tr>\n",
              "  </thead>\n",
              "  <tbody>\n",
              "    <tr>\n",
              "      <th>0</th>\n",
              "      <td>30</td>\n",
              "      <td>10</td>\n",
              "      <td>70</td>\n",
              "    </tr>\n",
              "    <tr>\n",
              "      <th>1</th>\n",
              "      <td>30</td>\n",
              "      <td>20</td>\n",
              "      <td>20</td>\n",
              "    </tr>\n",
              "    <tr>\n",
              "      <th>2</th>\n",
              "      <td>20</td>\n",
              "      <td>10</td>\n",
              "      <td>40</td>\n",
              "    </tr>\n",
              "    <tr>\n",
              "      <th>3</th>\n",
              "      <td>10</td>\n",
              "      <td>10</td>\n",
              "      <td>0</td>\n",
              "    </tr>\n",
              "    <tr>\n",
              "      <th>4</th>\n",
              "      <td>10</td>\n",
              "      <td>20</td>\n",
              "      <td>10</td>\n",
              "    </tr>\n",
              "  </tbody>\n",
              "</table>\n",
              "</div>"
            ],
            "text/plain": [
              "    x   y   z\n",
              "0  30  10  70\n",
              "1  30  20  20\n",
              "2  20  10  40\n",
              "3  10  10   0\n",
              "4  10  20  10"
            ]
          },
          "metadata": {
            "tags": []
          },
          "execution_count": 40
        }
      ]
    },
    {
      "cell_type": "code",
      "metadata": {
        "colab": {
          "base_uri": "https://localhost:8080/"
        },
        "id": "Ib_keKu7mIAl",
        "outputId": "baa46f90-041f-475a-89cb-aee538efc013"
      },
      "source": [
        "def sum_square(a,b):\r\n",
        "  return (a+b)**2\r\n",
        "\r\n",
        "# apply() performs the Lambda function along an axis of a DataFrame\r\n",
        "\r\n",
        "# Apply function on df where the function uses all the columns of the dataframe\r\n",
        "# When there are 3 columns but sum_square uses only 2 variables, it is applied on only first 2 columns of df\r\n",
        "print(\"sum sq on first 2 columns \\n\",df.apply(lambda row: sum_square(row[0], row[1]), raw=True, axis=1).head())\r\n",
        "\r\n",
        "# Apply on 1st and 3rd  columns\r\n",
        "print(\"\\nsum sq on 1st & 3rd columns \\n\",df.apply(lambda row: sum_square(row[0], row[2]), raw=True, axis=1).head())\r\n",
        "\r\n",
        "# Apply a function on ONLY single variable\r\n",
        "print(\"\\nsq on 1st column \\n\",df['x'].map(lambda p: p**2).head())"
      ],
      "execution_count": 126,
      "outputs": [
        {
          "output_type": "stream",
          "text": [
            "sum sq on first 2 columns \n",
            " 0      1\n",
            "1     16\n",
            "2    100\n",
            "3    169\n",
            "4    169\n",
            "dtype: int64\n",
            "\n",
            "sum sq on 1st & 3rd columns \n",
            " 0    625\n",
            "1    400\n",
            "2      4\n",
            "3     25\n",
            "4     16\n",
            "dtype: int64\n",
            "\n",
            "sq on 1st column \n",
            " 0     0\n",
            "1    16\n",
            "2     1\n",
            "3    16\n",
            "4    16\n",
            "Name: x, dtype: int64\n"
          ],
          "name": "stdout"
        }
      ]
    },
    {
      "cell_type": "markdown",
      "metadata": {
        "id": "im2chaBkdyVn"
      },
      "source": [
        "  ### Lists:\r\n",
        "  * list.append(x) - add item at the end\r\n",
        "  * list.insert(at index, x)\r\n",
        "  * list.extend(list2) : To append elements from another list to the current list\r\n",
        "  * list1 + list2 : combines two lists, similar to extend but creates a new list instead of modifying list1\r\n",
        "  * list.remove(item) : removes item when it appears for the first time\r\n",
        "  * list.pop(index) : pop(2) removes the specified index i.e. 2 in this case\r\n",
        "  * list.pop(): removes last item\r\n",
        "  * del list[2] : removes the item at specified index\r\n",
        "  * del list[2:5]\r\n",
        "  * del list : del the entire list\r\n",
        "  * list.clear() : empties the list similar to del list[:]\r\n",
        "  * list.sort() : ascending\r\n",
        "  * list.sort(reverse = True) : descending\r\n",
        "  * list.sort() on string avlues gives all capital letter sorted first before lower case letters\r\n",
        "  * list.sort(key = str.lower) : To perform case-insensitive sort of the list. lower cased and upper cased are sorted by the letter but for same letter lower case comes before upper case\r\n",
        "  * sorted(list)\r\n",
        "  * list.reverse() : Reverse the order of the list items. similar to List[::-1]\r\n",
        "  * list1 = list[:] : shallow copy\r\n",
        "  * list.copy() : to copy lists, shallow copy\r\n",
        "  * list.deepcopy() : deep copy\r\n",
        "  * list.count(item): returns number of elements with the specified values\r\n",
        "  * list.index(\"sam\") : returns index of the item, list.index(x[, start[, end]])\r\n",
        "  * list[start index : end index : step]\r\n",
        "  * len(list)\r\n",
        "  * set(list) - Remove duplicates from list\r\n",
        "  * sum(list) - adds numbers within the list\r\n",
        "  * max(list)\r\n",
        "  * min(list)\r\n",
        "  * list[0] = list[-n] , where n is len(list). positive indexes of a list are from 0 to n-1. negative indexes of a list are from -1 to -n\r\n",
        "  * list[n-1] = list[-1]\r\n",
        "  * Modify values with assignment list[1:3] = [11,12], list[3] = 13\r\n",
        "  * list1 = ['a','b','c'], list2 = [1,2,3], \r\n",
        "  lst = list(zip(list1,list2)) = [('a', 1), ('b', 2), ('c', 3)]\r\n",
        "  * enumerate(list) gives index and value at that respective index : for index,val in enumerate(list)\r\n",
        "  * \",\".join(list) : returns a string with list elements seperated by comma\r\n",
        "\r\n"
      ]
    },
    {
      "cell_type": "code",
      "metadata": {
        "colab": {
          "base_uri": "https://localhost:8080/"
        },
        "id": "DBbI8T7WI-3J",
        "outputId": "3db5f000-9b87-42d1-e4fb-9c44a6944a35"
      },
      "source": [
        "lst = [1,2,3]\r\n",
        "lst.extend([4,5])\r\n",
        "print(lst)\r\n",
        "print(lst[:-1])\r\n",
        "print(lst[1:-1])\r\n",
        "print(lst[::2])\r\n",
        "print(lst[::-1]) # step size is -1\r\n",
        "print(lst[::-2]) # step size is -2\r\n",
        "print(lst[:])\r\n",
        "\r\n",
        "word = 'aeioubcdfg'\r\n",
        "print(word [:3]) #indexes 0,1&2\r\n",
        "print(word[0:3])\r\n",
        "print(word [3:])\r\n",
        "\r\n",
        "a = [0,1,2,3,4,5,6,7,8,9]\r\n",
        "print(a[:2])\r\n",
        "print(a[8:])\r\n",
        "print(a[2:8])\r\n",
        "print(a[2:8:2]) #list[start:stop:step]\r\n",
        "\r\n",
        "print([i for i in range(10)])\r\n",
        "print([i for i in range(2,10)])\r\n",
        "print([i for i in range(2,10,2)])\r\n",
        "print([i for i in range(2, 30, 3)])"
      ],
      "execution_count": null,
      "outputs": [
        {
          "output_type": "stream",
          "text": [
            "[1, 2, 3, 4, 5]\n",
            "[1, 2, 3, 4]\n",
            "[2, 3, 4]\n",
            "[1, 3, 5]\n",
            "[5, 4, 3, 2, 1]\n",
            "[5, 3, 1]\n",
            "[1, 2, 3, 4, 5]\n",
            "aei\n",
            "aei\n",
            "oubcdfg\n",
            "[0, 1]\n",
            "[8, 9]\n",
            "[2, 3, 4, 5, 6, 7]\n",
            "[2, 4, 6]\n",
            "[0, 1, 2, 3, 4, 5, 6, 7, 8, 9]\n",
            "[2, 3, 4, 5, 6, 7, 8, 9]\n",
            "[2, 4, 6, 8]\n",
            "[2, 5, 8, 11, 14, 17, 20, 23, 26, 29]\n"
          ],
          "name": "stdout"
        }
      ]
    },
    {
      "cell_type": "code",
      "metadata": {
        "colab": {
          "base_uri": "https://localhost:8080/"
        },
        "id": "lOk91aTy8QB2",
        "outputId": "1baa9cae-ef96-4443-87d4-9c0fa6ae50d4"
      },
      "source": [
        "def foo (i= []):\r\n",
        "    i.append (1)\r\n",
        "    return i\r\n",
        "print(foo ()) # appends 1 first time\r\n",
        "print(foo ()) # appends 1 again"
      ],
      "execution_count": null,
      "outputs": [
        {
          "output_type": "stream",
          "text": [
            "[1]\n",
            "[1, 1]\n"
          ],
          "name": "stdout"
        }
      ]
    },
    {
      "cell_type": "code",
      "metadata": {
        "colab": {
          "base_uri": "https://localhost:8080/"
        },
        "id": "8PwLDm909n6H",
        "outputId": "46adc8b3-20a5-47cd-a30c-03f9953cd817"
      },
      "source": [
        "# Zip when using 2 or more arrays in loops\r\n",
        "a = ['a','b','c']\r\n",
        "b = [1,2,3]\r\n",
        "print([(k,v) for k,v in zip(a,b)])\r\n",
        "\r\n",
        "# zip using 3 arrays: similar to transpose of a matrix\r\n",
        "a = ['a','b','c']\r\n",
        "b = [1,2,3]\r\n",
        "c = ['p','q','r']\r\n",
        "print([(x,y,z) for x,y,z in zip(a,b,c)],\"\\n\")\r\n",
        "\r\n",
        "# Using enumerate():  enumerate() is used to loop through the containers printing the index number along with the value present in that particular index.\r\n",
        "# enumerate() is used to create index and its corresponding value of a list\r\n",
        "for key, value in enumerate(['The', 'Big', 'Bang', 'Theory']): \r\n",
        "    print(key, value) \r\n",
        "\r\n",
        "for key, value in enumerate(['Geeks', 'for', 'Geeks', 'is', 'the', 'Best', 'Coding', 'Platform']): \r\n",
        "    print(value, end=' ') "
      ],
      "execution_count": null,
      "outputs": [
        {
          "output_type": "stream",
          "text": [
            "[('a', 1), ('b', 2), ('c', 3)]\n",
            "[('a', 1, 'p'), ('b', 2, 'q'), ('c', 3, 'r')] \n",
            "\n",
            "0 The\n",
            "1 Big\n",
            "2 Bang\n",
            "3 Theory\n",
            "Geeks for Geeks is the Best Coding Platform "
          ],
          "name": "stdout"
        }
      ]
    },
    {
      "cell_type": "code",
      "metadata": {
        "id": "s5pGqmim6cJv",
        "colab": {
          "base_uri": "https://localhost:8080/"
        },
        "outputId": "fba8db6c-9783-458f-f4cd-7ac8f6efb503"
      },
      "source": [
        "# Seperate a list into 2 elements: 1st and all other into 1\r\n",
        "# * is used for collectiong\r\n",
        "head, *tail = [1,2,3,4,5]\r\n",
        "print(head)\r\n",
        "print(tail,\"\\n\")\r\n",
        "\r\n",
        "head, *tail, y = [1,2,3,4,5]\r\n",
        "print(head)\r\n",
        "print(tail)\r\n",
        "print(y,\"\\n\")\r\n",
        "\r\n",
        "nums = [3,5]\r\n",
        "print(*nums)\r\n",
        "\r\n",
        "x, y, z = \"Orange\", \"Banana\", \"Cherry\"\r\n",
        "print(\"\\n\",x,y,z)\r\n",
        "fruits = [\"apple\", \"banana\", \"cherry\"]; x, y, z = fruits\r\n",
        "print(\"\\n\",x,y,z)\r\n",
        "print(fruits)"
      ],
      "execution_count": 18,
      "outputs": [
        {
          "output_type": "stream",
          "text": [
            "1\n",
            "[2, 3, 4, 5] \n",
            "\n",
            "1\n",
            "[2, 3, 4]\n",
            "5 \n",
            "\n",
            "3 5\n",
            "\n",
            " Orange Banana Cherry\n",
            "\n",
            " apple banana cherry\n",
            "['apple', 'banana', 'cherry']\n"
          ],
          "name": "stdout"
        }
      ]
    },
    {
      "cell_type": "code",
      "metadata": {
        "id": "OoSht8HEM2NN",
        "colab": {
          "base_uri": "https://localhost:8080/"
        },
        "outputId": "e85d0a1c-a4b9-4142-b087-8ade45380237"
      },
      "source": [
        "print(\"Loop Through a List of unique values\")\r\n",
        "thislist = [\"apple\", \"banana\", \"cherry\", \"banana\"]\r\n",
        "for x in set(thislist): # Order is lost in sets\r\n",
        "  print(x)\r\n",
        "\r\n",
        "print(\"\\nLoop Through the Index Numbers\")\r\n",
        "thislist = [\"apple\", \"banana\", \"cherry\"]\r\n",
        "for i in range(len(thislist)):\r\n",
        "  print(thislist[i])\r\n",
        "\r\n",
        "print(\"\\nWhile loop to go through all the index numbers\")\r\n",
        "thislist = [\"apple\", \"banana\", \"cherry\"]\r\n",
        "i = 0\r\n",
        "while i < len(thislist):\r\n",
        "  print(thislist[i])\r\n",
        "  i = i + 1\r\n",
        "\r\n",
        "print(\"\\nTo ignore a variable - use underscore\") #https://healthedge.udemy.com/course/rest-api-flask-and-python/learn/lecture/15927666#overview\r\n",
        "person = (\"Sandy\", 27, \"DS\")\r\n",
        "name, _, profession = person\r\n",
        "print(name, profession)"
      ],
      "execution_count": 14,
      "outputs": [
        {
          "output_type": "stream",
          "text": [
            "Loop Through a List of unique values\n",
            "cherry\n",
            "banana\n",
            "apple\n",
            "\n",
            "Loop Through the Index Numbers\n",
            "apple\n",
            "banana\n",
            "cherry\n",
            "\n",
            "While loop to go through all the index numbers\n",
            "apple\n",
            "banana\n",
            "cherry\n",
            "\n",
            "To ignore a variable - use underscore\n",
            "Sandy DS\n"
          ],
          "name": "stdout"
        }
      ]
    },
    {
      "cell_type": "markdown",
      "metadata": {
        "id": "WLPs-brQxHdo"
      },
      "source": [
        "### Stacks\r\n",
        "* Similar to objects putting into a bucket\r\n",
        "* Last In Fist Out\r\n",
        "* list.append() - Add objects to the end\r\n",
        "* list.pop() - Starts removing last objects first\r\n"
      ]
    },
    {
      "cell_type": "markdown",
      "metadata": {
        "id": "X30fC8I-xRzZ"
      },
      "source": [
        "### Queue\r\n",
        "* Similar to objects in line\r\n",
        "* First In First out\r\n",
        "* To remove first element: list.pop(0)\r\n",
        "\r\n",
        "#### Deque\r\n",
        "* Queue in Python can be implemented using deque class from the collections module.\r\n",
        "* Queue is FIFO where as Deque can be FIFO or LIFO as as deque provides an O(1) time complexity for append and pop operations on either ends as compared to list which provides O(n) time complexity\r\n",
        "* Deque is preferred over list in the cases where we need quicker append and pop operations from both the ends of container\r\n",
        "\r\n",
        "\r\n",
        "\r\n",
        "* de = collections.deque([1,2,3]) \r\n",
        "* de.append(x) :  insert x at the end\r\n",
        "* de.appendleft(x) : insert x at the beginning\r\n",
        "* de.pop() : removes x from the end\r\n",
        "* de.popleft() :  removes x from the beginning\r\n",
        "* de.count(x)\r\n",
        "* de.remove(x)\r\n",
        "* de.extend(de1)\r\n",
        "* de.extendleft(de1)\r\n",
        "* de.index(ele, beg, end) \r\n",
        "* de.insert(index,value) "
      ]
    },
    {
      "cell_type": "code",
      "metadata": {
        "colab": {
          "base_uri": "https://localhost:8080/"
        },
        "id": "f8L6BIptfS-p",
        "outputId": "50a8ad66-b46e-4dc0-d089-cb12a18d790d"
      },
      "source": [
        "# Deque: Deque (Doubly Ended Queue) in Python is implemented using the module “collections“.\r\n",
        "# append(), appendleft(), pop(), and popleft() \r\n",
        "\r\n",
        "from collections import deque  \r\n",
        "queue = deque(['name','age','DOB'])   \r\n",
        "\r\n",
        "# importing \"collections\" for deque operations \r\n",
        "import collections \r\n",
        "de = collections.deque([1,2,3]) \r\n",
        "\r\n",
        "de.append(4) \r\n",
        "print(de,\"\\n\")\r\n",
        "\r\n",
        "# using appendleft() inserts 6 at the beginning of deque \r\n",
        "de.appendleft(6) \r\n",
        "print(de,\"\\n\")\r\n",
        "  \r\n",
        "# using pop()  deletes 4 from the right end of deque \r\n",
        "de.pop() \r\n",
        "print(de,\"\\n\")\r\n",
        "\r\n",
        "# using popleft() deletes 6 from the left end of deque \r\n",
        "de.popleft() \r\n",
        "print(de,\"\\n\")"
      ],
      "execution_count": null,
      "outputs": [
        {
          "output_type": "stream",
          "text": [
            "deque([1, 2, 3, 4]) \n",
            "\n",
            "deque([6, 1, 2, 3, 4]) \n",
            "\n",
            "deque([6, 1, 2, 3]) \n",
            "\n",
            "deque([1, 2, 3]) \n",
            "\n"
          ],
          "name": "stdout"
        }
      ]
    },
    {
      "cell_type": "code",
      "metadata": {
        "colab": {
          "base_uri": "https://localhost:8080/"
        },
        "id": "6tfgdloykkd2",
        "outputId": "e8d4a22d-879c-44fd-9495-d41769b78cf2"
      },
      "source": [
        "# Python code to demonstrate working of  \r\n",
        "# insert(), index(), remove(), count() \r\n",
        "  \r\n",
        "# importing \"collections\" for deque operations \r\n",
        "import collections \r\n",
        "de = collections.deque([1, 2, 3, 3, 4, 2, 4]) \r\n",
        "  \r\n",
        "# using index() to print the first occurrence of 4 \r\n",
        "print (\"The number 4 first occurs at index : \",de.index(4,2,5),\"\\n\")  # index(ele, beg, end)\r\n",
        "  \r\n",
        "# using insert() to insert the value 3 at index=4\r\n",
        "de.insert(4,3) #index,value\r\n",
        "  \r\n",
        "# printing modified deque \r\n",
        "print (\"The deque after inserting 3 at 5th position is : \",de,\"\\n\") \r\n",
        "  \r\n",
        "# using count() to count the occurrences of 3 \r\n",
        "print (\"The count of 3 in deque is : \",de.count(3),\"\\n\") \r\n",
        "  \r\n",
        "# using remove() to remove the first occurrence of 3 \r\n",
        "de.remove(3) \r\n",
        "# printing modified deque \r\n",
        "print (\"The deque after deleting first occurrence of 3 is : \",de,\"\\n\") "
      ],
      "execution_count": null,
      "outputs": [
        {
          "output_type": "stream",
          "text": [
            "The number 4 first occurs at index :  4 \n",
            "\n",
            "The deque after inserting 3 at 5th position is :  deque([1, 2, 3, 3, 3, 4, 2, 4]) \n",
            "\n",
            "The count of 3 in deque is :  3 \n",
            "\n",
            "The deque after deleting first occurrence of 3 is :  deque([1, 2, 3, 3, 4, 2, 4]) \n",
            "\n"
          ],
          "name": "stdout"
        }
      ]
    },
    {
      "cell_type": "code",
      "metadata": {
        "id": "8xDZxLslKI7g",
        "colab": {
          "base_uri": "https://localhost:8080/"
        },
        "outputId": "2e4e630e-e643-4ef6-f5b6-e1bc4cc23e66"
      },
      "source": [
        "# rotate() :- This function rotates the deque by the number specified in arguments. If the number specified is negative, rotation occurs to left. Else rotation is to right.  \r\n",
        "\r\n",
        "import collections \r\n",
        "de = collections.deque([1, 2, 3, 4, 5]) \r\n",
        "de.rotate(1) # 5 is moved to beginning\r\n",
        "print(de)\r\n",
        "\r\n",
        "de.rotate(-1) # 5 is moved back to end\r\n",
        "print(de)\r\n",
        "\r\n",
        "de.rotate(-2) # 1 & 2 are moved to end\r\n",
        "print(de)\r\n",
        "\r\n",
        "de.rotate(-3) # 3,4,5 are moved to end\r\n",
        "print(de)\r\n",
        "\r\n",
        "de.rotate(2) # 4,5 are moved to beginning\r\n",
        "print(de)"
      ],
      "execution_count": null,
      "outputs": [
        {
          "output_type": "stream",
          "text": [
            "deque([5, 1, 2, 3, 4])\n",
            "deque([1, 2, 3, 4, 5])\n",
            "deque([3, 4, 5, 1, 2])\n",
            "deque([1, 2, 3, 4, 5])\n"
          ],
          "name": "stdout"
        }
      ]
    },
    {
      "cell_type": "code",
      "metadata": {
        "id": "9hHbqrRvfS7K",
        "colab": {
          "base_uri": "https://localhost:8080/"
        },
        "outputId": "414580ca-dae3-45f3-e9a2-36fa4ccd8c88"
      },
      "source": [
        "# Python code to demonstrate working of  \r\n",
        "# extend(), extendleft(), rotate(), reverse() \r\n",
        "  \r\n",
        "# importing \"collections\" for deque operations \r\n",
        "import collections \r\n",
        "de = collections.deque([1, 2, 3,]) \r\n",
        "  \r\n",
        "# using extend() to add numbers to right end  \r\n",
        "# adds 4,5,6 to right end \r\n",
        "de.extend([4,5,6]) \r\n",
        "  \r\n",
        "# printing modified deque \r\n",
        "print (\"The deque after extending deque at end is : \") \r\n",
        "print (de) \r\n",
        "  \r\n",
        "# using extendleft() to add numbers to left end  \r\n",
        "# adds 7,8,9 to right end \r\n",
        "de.extendleft([7,8,9]) \r\n",
        "  \r\n",
        "# printing modified deque \r\n",
        "print (\"The deque after extending deque at beginning is : \") \r\n",
        "print (de) \r\n",
        "  \r\n",
        "# using rotate() to rotate the deque \r\n",
        "# rotates by 3 to left \r\n",
        "de.rotate(-3) \r\n",
        "  \r\n",
        "# printing modified deque \r\n",
        "print (\"The deque after rotating deque is : \") \r\n",
        "print (de) \r\n",
        "  \r\n",
        "# using reverse() to reverse the deque \r\n",
        "de.reverse() \r\n",
        "  \r\n",
        "# printing modified deque \r\n",
        "print (\"The deque after reversing deque is : \") \r\n",
        "print (de) "
      ],
      "execution_count": null,
      "outputs": [
        {
          "output_type": "stream",
          "text": [
            "The deque after extending deque at end is : \n",
            "deque([1, 2, 3, 4, 5, 6])\n",
            "The deque after extending deque at beginning is : \n",
            "deque([9, 8, 7, 1, 2, 3, 4, 5, 6])\n",
            "The deque after rotating deque is : \n",
            "deque([1, 2, 3, 4, 5, 6, 9, 8, 7])\n",
            "The deque after reversing deque is : \n",
            "deque([7, 8, 9, 6, 5, 4, 3, 2, 1])\n"
          ],
          "name": "stdout"
        }
      ]
    },
    {
      "cell_type": "markdown",
      "metadata": {
        "id": "-xB9ekXD6O9h"
      },
      "source": [
        "### Heap queue or heapq : \r\n",
        "* Heap data structure is mainly used to represent a priority queue. In Python, it is available using “heapq” module.\r\n",
        "* Min heap: Min value of the entire set is the root node. Min is popped out first. Min Heap is a special tree structure in which each parent node is less than or equal to its child node.  A Binary Heap is either Min Heap or Max Heap. In a Min Binary Heap, the key at root must be minimum among all keys present in Binary Heap. The same property must be recursively true for all nodes in Binary Tree. Max Binary Heap is similar to MinHeap. Order of numbers is not maintained at a level and comparision is only between a decision node and its leaf nodes, left & right branches maintains heap structure independently\r\n",
        "* If each parent node is greater than or equal to its child node then it is called a max heap. The highest key is in the root node\r\n",
        "\r\n",
        "\r\n",
        "* heapify(iterable) : convert list into a heap data structure\r\n",
        "* heappush(heap, ele) : To insert the element into heap. Heap structure is maintained.\r\n",
        "* heappop(heap) :- Remove and return the smallest element from heap.heap structure is maintained.\r\n",
        "* heappushpop(heap, ele) : both push and pop operations, increasing efficiency. Heap order is maintained after this operation.\r\n",
        "* heapreplace(heap, ele) : Pop and return the smallest item from the heap, and also push the new item. \r\n",
        "* nlargest(k, iterable, key = fun) : return k largest elements \r\n",
        "* nsmallest(k, iterable, key = fun) : return the k smallest elements \r\n",
        "* list(heapq.merge(li1,li2)) : Merge k sorted lists to generate a sorted list \r\n"
      ]
    },
    {
      "cell_type": "code",
      "metadata": {
        "colab": {
          "base_uri": "https://localhost:8080/"
        },
        "id": "CKibU_nanrjb",
        "outputId": "a710793d-024f-4947-83b6-1665378e310f"
      },
      "source": [
        "\"\"\" The property of this data structure in Python is that each time the smallest of heap element is popped(min heap). \r\n",
        "Whenever elements are pushed or popped, heap structure in maintained. \r\n",
        "The heap[0] element also returns the smallest element each time.\"\"\"\r\n",
        "# Building heap structure: https://towardsdatascience.com/data-structure-heap-23d4c78a6962\r\n",
        "\r\n",
        "# importing \"heapq\" to implement heap queue \r\n",
        "import heapq \r\n",
        "  \r\n",
        "# initializing list \r\n",
        "li = [5, 7, 9, 1, 3] \r\n",
        "  \r\n",
        "# using heapify to convert list into heap \r\n",
        "heapq.heapify(li) \r\n",
        "  \r\n",
        "# printing created heap \r\n",
        "print (\"The created heap is : \",end=\"\") \r\n",
        "print (list(li)) \r\n",
        "  \r\n",
        "print(\"heap[0]=\",li[0])\r\n",
        "\r\n",
        "# using heappush() to push elements into heap \r\n",
        "# pushes 4 \r\n",
        "heapq.heappush(li,4) \r\n",
        "  \r\n",
        "# printing modified heap \r\n",
        "print (\"The modified heap after push is : \",end=\"\") \r\n",
        "print (list(li)) \r\n",
        "  \r\n",
        "# using heappop() to pop smallest element \r\n",
        "print (\"The popped and smallest element is : \",end=\"\") \r\n",
        "print (heapq.heappop(li)) \r\n",
        "\r\n",
        "# using nlargest to print 3 largest numbers \r\n",
        "print(\"The 3 largest numbers in list are : \",end=\"\") \r\n",
        "print(heapq.nlargest(3, li)) \r\n",
        "  \r\n",
        "# using nsmallest to print 3 smallest numbers \r\n",
        "print(\"The 3 smallest numbers in list are : \",end=\"\") \r\n",
        "print(heapq.nsmallest(3, li)) \r\n",
        "\r\n",
        "# Merge 2 sorted lists\r\n",
        "li1 = [4,8,10]\r\n",
        "li2 = [1,2,6,12]\r\n",
        "print(list(heapq.merge(li1,li2)))\r\n",
        "\r\n"
      ],
      "execution_count": null,
      "outputs": [
        {
          "output_type": "stream",
          "text": [
            "The created heap is : [1, 3, 9, 7, 5]\n",
            "heap[0]= 1\n",
            "The modified heap after push is : [1, 3, 4, 7, 5, 9]\n",
            "The popped and smallest element is : 1\n",
            "The 3 largest numbers in list are : [9, 7, 5]\n",
            "The 3 smallest numbers in list are : [3, 4, 5]\n",
            "[1, 2, 4, 6, 8, 10, 12]\n"
          ],
          "name": "stdout"
        }
      ]
    },
    {
      "cell_type": "markdown",
      "metadata": {
        "id": "JK9PsU8dH4UY"
      },
      "source": [
        "### operations/math\r\n",
        "https://www.geeksforgeeks.org/python-operators/\r\n",
        "* // : Floor division : 124 //100 =1\r\n",
        "* % : Remainder\r\n",
        "* ** : Exponentiation \r\n",
        "* abs(-5)\r\n",
        "* round(3.57,1)\r\n",
        "* pow(4,3) : 4**3: 4 power of 3\r\n",
        "* sin(pi/4)\r\n",
        "* sqrt(81)\r\n",
        "* log(e**2)\r\n",
        "* ceil(12.4) = 13\r\n",
        "* floor(12.4) = 12\r\n",
        "\r\n",
        "* !=\r\n",
        "* and, or, not\r\n",
        "* in, not in\r\n",
        "* a,b = b,a : swapping\r\n",
        "* Escape characters to give the desired result\r\n",
        "  * \\' : Single Quote\r\n",
        "  * \\\\ :Backslash\r\n",
        "  * \\n: new line\r\n",
        "  * \\t : tab\r\n",
        "\r\n"
      ]
    },
    {
      "cell_type": "code",
      "metadata": {
        "id": "eMOiQLAkOpNz",
        "colab": {
          "base_uri": "https://localhost:8080/"
        },
        "outputId": "834112cf-b7ff-4831-a638-de9c12e05963"
      },
      "source": [
        "print(\"Floor division: \",124 // 100)\r\n",
        "print(\"Floor division: \",124 // 10)  \r\n",
        "\r\n",
        "print(\"Modulus or Remainder: \",124 % 10)  \r\n",
        "print(\"Modulus or Remainder: \",124 % 3)  \r\n",
        "\r\n",
        "print(\"Exponentiation: \",7 ** 3)  \r\n",
        "\r\n",
        "print('We have %2d %s containing %.2f gallons of %s' %(2, 'bottles', 2.5, 'milk'))\r\n",
        "\r\n",
        "print(\"Ternanry operator\")\r\n",
        "a, b = 10, 20\r\n",
        "min = a if a < b else b \r\n",
        "print(min) \r\n",
        "print((lambda: b, lambda: a)[a < b]()) #Format: (if condition is False, if condition is True)"
      ],
      "execution_count": null,
      "outputs": [
        {
          "output_type": "stream",
          "text": [
            "Floor division:  1\n",
            "Floor division:  12\n",
            "Modulus or Remainder:  4\n",
            "Modulus or Remainder:  1\n",
            "Exponentiation:  343\n",
            "We have  2 bottles containing 2.50 gallons of milk\n",
            "Ternanry operator\n",
            "10\n",
            "10\n",
            "concatenate 2 strings:  GeeksFor\n",
            "Repeat the String:  GeeksGeeksGeeksGeeks\n"
          ],
          "name": "stdout"
        }
      ]
    },
    {
      "cell_type": "code",
      "metadata": {
        "id": "SPSqOzFaxGwT",
        "colab": {
          "base_uri": "https://localhost:8080/"
        },
        "outputId": "af700662-7ce6-4f54-f2ab-40451959e7f3"
      },
      "source": [
        "# -- Comparisons --\r\n",
        "print(5 == 5)  # True\r\n",
        "print(5 > 5)  # False\r\n",
        "print(10 != 10)  # False\r\n",
        "\r\n",
        "print(\"Comparisons operators: ==, !=, >, <, >=, <=\")"
      ],
      "execution_count": null,
      "outputs": [
        {
          "output_type": "stream",
          "text": [
            "True\n",
            "False\n",
            "False\n",
            "Comparisons operators: ==, !=, >, <, >=, <=\n"
          ],
          "name": "stdout"
        }
      ]
    },
    {
      "cell_type": "markdown",
      "metadata": {
        "id": "VuB1h1aXQW7r"
      },
      "source": [
        "### Conversion\r\n",
        "* type(expression)\r\n",
        "* int(\"15\") : 15\r\n",
        "* float(\"-13\") \" -13.0\r\n",
        "* str(x) : \"..\"\r\n",
        "* list(\"abc\") : ['a','b','c']\r\n",
        "* string.split() : split string by whitespace and generates each word as item in a list\r\n",
        "* string.split(\",\") : split string by comma and generates list\r\n",
        "* \",\".join(list) : returns a string with list elements seperated by comma"
      ]
    },
    {
      "cell_type": "code",
      "metadata": {
        "id": "-QQF5G-GMT5_",
        "colab": {
          "base_uri": "https://localhost:8080/"
        },
        "outputId": "c5f9b8f3-caa6-42ac-9c42-10ee5cc3cae2"
      },
      "source": [
        "print(\",\".join(['The', 'Big', 'Bang', 'Theory']))"
      ],
      "execution_count": null,
      "outputs": [
        {
          "output_type": "stream",
          "text": [
            "The,Big,Bang,Theory\n"
          ],
          "name": "stdout"
        }
      ]
    },
    {
      "cell_type": "code",
      "metadata": {
        "id": "ip1n3foW6pZ_",
        "colab": {
          "base_uri": "https://localhost:8080/"
        },
        "outputId": "bff5edc9-e62b-4dbe-f732-06bef1ace00f"
      },
      "source": [
        "# simple ifelse statement\r\n",
        "print(\"Any Returns true if any of the items is True\",any([False, False, False, False]))\r\n",
        "print(\"Any Returns true if any of the items is True\",any([False, True, False, False]))\r\n",
        "print(\"All Returns true if all of the items are True\",any([False, True, False, False]))\r\n",
        "print(\"All Returns true if all of the items are True\",all([True, True, True, True]))\r\n",
        "\r\n",
        "print(str(3))\r\n",
        "print(int(3))\r\n",
        "print(float(3))\r\n",
        "\r\n",
        "print(\"\\nMulti word naming\")\r\n",
        "print(\"Camel Case:Each word, except the first, starts with a capital letter:\",\"myVariableName\")\r\n",
        "print(\"Pascal Case:Each word starts with a capital letter:\",\"MyVariableName\")\r\n",
        "print(\"Snake Case:Each word is separated by an underscore character:\",\"my_variable_name\")"
      ],
      "execution_count": 19,
      "outputs": [
        {
          "output_type": "stream",
          "text": [
            "Any Returns true if any of the items is True False\n",
            "Any Returns true if any of the items is True True\n",
            "All Returns true if all of the items are True True\n",
            "All Returns true if all of the items are True True\n",
            "3\n",
            "3\n",
            "3.0\n",
            "\n",
            "Multi word naming\n",
            "Camel Case:Each word, except the first, starts with a capital letter: myVariableName\n",
            "Pascal Case:Each word starts with a capital letter: MyVariableName\n",
            "Snake Case:Each word is separated by an underscore character: my_variable_name\n"
          ],
          "name": "stdout"
        }
      ]
    },
    {
      "cell_type": "markdown",
      "metadata": {
        "id": "hbVAvvy4T4dY"
      },
      "source": [
        "### String Operations\r\n",
        "* s*5 : sssss\r\n",
        "* s1+s2 : concatenate\r\n",
        "* s.find('x')\r\n",
        "* s.index('x')\r\n",
        "* s.count('x')\r\n",
        "* s.split(\",\")\r\n",
        "* s.replace(\"word\",\"replacementword\")\r\n",
        "* s.strip()\r\n",
        "* s.lstrip()\r\n",
        "* s.rstrip()\r\n",
        "* s.upper()\r\n",
        "* s.lower()\r\n",
        "* s.title()\r\n",
        "* s.capitalize()\r\n",
        "* s.join()\r\n",
        "* '''sfj /n sdvb''' : multi line string\r\n",
        "* \\ is escape character\r\n"
      ]
    },
    {
      "cell_type": "code",
      "metadata": {
        "id": "IZZRKWFfJ1Wi",
        "colab": {
          "base_uri": "https://localhost:8080/"
        },
        "outputId": "5f3f1bfb-c71d-4a85-adf8-3f2aaed41c33"
      },
      "source": [
        "print(\"concatenate 2 strings: \",\"Geeks\"+\"For\")\r\n",
        "print(\"Repeat the String: \",\"Geeks\"*4)\r\n",
        "\r\n",
        "s = 'A string with     white space'\r\n",
        "print(''.join(s.split()))\r\n",
        "\r\n",
        "s = 'A string with     white space'\r\n",
        "print(s.replace(' ', ''))"
      ],
      "execution_count": null,
      "outputs": [
        {
          "output_type": "stream",
          "text": [
            "concatenate 2 strings:  GeeksFor\n",
            "Repeat the String:  GeeksGeeksGeeksGeeks\n",
            "Astringwithwhitespace\n",
            "Astringwithwhitespace\n"
          ],
          "name": "stdout"
        }
      ]
    },
    {
      "cell_type": "markdown",
      "metadata": {
        "id": "pmdjK6hVw-Vk"
      },
      "source": [
        "Difference between a list, a set, and a tuple.\r\n",
        "* Lists are enclosed in brackets: l = [1, 2, \"a\"]\r\n",
        "* Tuples are enclosed in parentheses: t = (1, 2, \"a\") - Tuples are faster and consume less memory. \r\n",
        "* Dictionaries are built with curly brackets:d = {\"a\":1, \"b\":2} - To initialize dict use dict() or {}\r\n",
        "* Sets are made using the set() builtin function - To initialize empty set using set function"
      ]
    },
    {
      "cell_type": "code",
      "metadata": {
        "id": "Oby_Am20x5zC",
        "colab": {
          "base_uri": "https://localhost:8080/"
        },
        "outputId": "cc9c30c9-8482-4147-b2d7-ab26758c116d"
      },
      "source": [
        "list = [\"A\",\"B\",\"C\"] # Order is maintained\r\n",
        "Tuple = (\"A\",\"B\",\"C\") # Cannot add elements to Tuples or elements cannot be modified; Order is maintained\r\n",
        "Set = {\"A\",\"B\",\"C\"} # Set cannot have duplicate values, Order may or maynot be maintained\r\n",
        "\r\n",
        "print(list[0])\r\n",
        "print(Tuple[0])\r\n",
        "# print(set[0]) # Wrong becoz order is not maintained\r\n",
        "\r\n",
        "list[0] = \"E\" #One of its element can be modified\r\n",
        "print(list)\r\n",
        "# Tuple[0] = \"S\"  # This gives an error because tuples are \"immutable\". Tuples cannot be appended to because they are immutable.\r\n",
        "\r\n",
        "list.append(\"D\") #Adds at the end\r\n",
        "print(list)\r\n",
        "list.remove(\"B\")\r\n",
        "print(list)\r\n",
        "# Tuple[0] = \"D\" # Wrong becoz u cannot modify Tuple\r\n",
        "list.insert(1,\"B\") # Insert at index=1\r\n",
        "print(list)\r\n",
        "\r\n",
        "Set.add(\"D\")\r\n",
        "print(Set)"
      ],
      "execution_count": null,
      "outputs": [
        {
          "output_type": "stream",
          "text": [
            "A\n",
            "A\n",
            "['E', 'B', 'C']\n",
            "['E', 'B', 'C', 'D']\n",
            "['E', 'C', 'D']\n",
            "['E', 'B', 'C', 'D']\n",
            "{'D', 'C', 'A', 'B'}\n"
          ],
          "name": "stdout"
        }
      ]
    },
    {
      "cell_type": "markdown",
      "metadata": {
        "id": "GfrcCp95Xahg"
      },
      "source": [
        "### Sets \r\n",
        "Set items are unordered, unchangeable, and do not allow duplicate values.\r\n",
        "* len(set)\r\n",
        "* type(set)\r\n",
        "* set.add(\"item\")\r\n",
        "* set1.update(set2) : Add elements from set2 to set1\r\n",
        "* set1.remove(\"item\")\r\n",
        "* set1.discard(\"item\")\r\n",
        "* set.pop() : Remove last item\r\n",
        "* set.clear()\" empties the list\r\n",
        "* del set : will delete the set completely\r\n",
        "* set3 = set1.union(set2) \r\n",
        "* set1.update(set2) # modifies set1\r\n",
        "* set1.intersection_update(set2) # modifies set1\r\n",
        "* set3 = set1.intersection(set2) \r\n",
        "* set1.symmetric_difference_update(set2) # keep only the elements that are NOT present in both sets\r\n",
        "* set3 = set1.symmetric_difference_update(set2) # contains only the elements that are NOT present in both sets: x^y\r\n",
        "\r\n",
        "Set Operations: Both variables should be of same data type\r\n",
        "* x.union(y) : x|y\r\n",
        "* x.intersection(y) : x&y\r\n",
        "* x.difference(y) : x-y\r\n",
        "* y.difference(x)\r\n",
        "\r\n",
        "Difference of two sets or lists\r\n",
        "* x = set(pd.unique(df['Var']))\r\n",
        "* y = set(pd.unique(df['Var1']))\r\n",
        "* z = x-y \r\n",
        "* x.difference(y)"
      ]
    },
    {
      "cell_type": "markdown",
      "metadata": {
        "id": "bqkNk6LSLi7T"
      },
      "source": [
        "### Dictionary\r\n",
        "* dict(zip(list1,list2)) : returns dictionary\r\n",
        "* i, j in d.tems()\r\n",
        "* d.keys()\r\n",
        "* d.values()\r\n"
      ]
    },
    {
      "cell_type": "code",
      "metadata": {
        "id": "TyI47nEIf2Wx",
        "outputId": "07483003-f3ab-4eb5-e3b5-5c817b74f295",
        "colab": {
          "base_uri": "https://localhost:8080/"
        }
      },
      "source": [
        "key = ['a','b','c']\r\n",
        "value = [1,2,3]\r\n",
        "print(dict(zip(key,value)))"
      ],
      "execution_count": 3,
      "outputs": [
        {
          "output_type": "stream",
          "text": [
            "{'a': 1, 'b': 2, 'c': 3}\n"
          ],
          "name": "stdout"
        }
      ]
    },
    {
      "cell_type": "code",
      "metadata": {
        "id": "_YIUuveIy2Fp",
        "colab": {
          "base_uri": "https://localhost:8080/"
        },
        "outputId": "f7dc333d-b257-4ef1-af17-18dc42f9441f"
      },
      "source": [
        "d = { \"geeks\" : \"for\", \"only\" : \"geeks\" }\r\n",
        "      \r\n",
        "# using items to print the dictionary key-value pair \r\n",
        "print (\"The key value pair using items is : \") \r\n",
        "for i,j in d.items(): \r\n",
        "    print(i,j)"
      ],
      "execution_count": null,
      "outputs": [
        {
          "output_type": "stream",
          "text": [
            "The key value pair using items is : \n",
            "geeks for\n",
            "only geeks\n"
          ],
          "name": "stdout"
        }
      ]
    },
    {
      "cell_type": "code",
      "metadata": {
        "id": "4A-EmWjhZUmu",
        "colab": {
          "base_uri": "https://localhost:8080/"
        },
        "outputId": "b20d054d-155b-4b10-9731-f7145cbba11d"
      },
      "source": [
        "d = {'id':7, 'name':'Shiba', 'color':'brown', 'speed':'very slow'}\r\n",
        "list(d) # Extracting only keys"
      ],
      "execution_count": null,
      "outputs": [
        {
          "output_type": "execute_result",
          "data": {
            "text/plain": [
              "['id', 'name', 'color', 'speed']"
            ]
          },
          "metadata": {
            "tags": []
          },
          "execution_count": 14
        }
      ]
    },
    {
      "cell_type": "code",
      "metadata": {
        "colab": {
          "base_uri": "https://localhost:8080/"
        },
        "id": "rPffSEXI9nxS",
        "outputId": "af51ecf6-255c-4c6f-dcb4-ec3355fce38e"
      },
      "source": [
        "d = {'z':3, 'd':4, 'b':2, 'x':1}\r\n",
        "sorted(d.items()) # Sorted based on keys"
      ],
      "execution_count": null,
      "outputs": [
        {
          "output_type": "execute_result",
          "data": {
            "text/plain": [
              "[('b', 2), ('d', 4), ('x', 1), ('z', 3)]"
            ]
          },
          "metadata": {
            "tags": []
          },
          "execution_count": 1
        }
      ]
    },
    {
      "cell_type": "code",
      "metadata": {
        "id": "fIH8mlY1wjU1",
        "colab": {
          "base_uri": "https://localhost:8080/"
        },
        "outputId": "8a712fec-ce64-467f-e459-143bf43421f6"
      },
      "source": [
        "print(sorted(d.values()))\r\n",
        "print(sorted(d.keys()))"
      ],
      "execution_count": null,
      "outputs": [
        {
          "output_type": "stream",
          "text": [
            "[1, 2, 3, 4]\n",
            "['b', 'd', 'x', 'z']\n"
          ],
          "name": "stdout"
        }
      ]
    },
    {
      "cell_type": "code",
      "metadata": {
        "colab": {
          "base_uri": "https://localhost:8080/"
        },
        "id": "uoq8Qmjf0WZ8",
        "outputId": "2a2222db-38c0-4c0a-d952-c7a61ceb2150"
      },
      "source": [
        "thisdict = {\"brand\": \"Ford\",\"model\": \"Mustang\",\"year\": 1964}\r\n",
        "\r\n",
        "print(thisdict[\"model\"])\r\n",
        "print(thisdict.get(\"model\"))\r\n",
        "print(thisdict.keys())\r\n",
        "print(thisdict.values())\r\n",
        "print(thisdict.items())\r\n",
        "\r\n",
        "thisdict.update({\"year\": 2020}) #update values for keys\r\n",
        "print(thisdict)\r\n",
        "\r\n",
        "thisdict[\"year\"] = 2018\r\n",
        "print(thisdict)\r\n",
        "\r\n",
        "thisdict.update({\"color\": \"red\"})\r\n",
        "print(thisdict)\r\n",
        "\r\n",
        "thisdict.pop(\"model\") # Remove item with the mentioned key name\r\n",
        "print(thisdict)\r\n",
        "\r\n",
        "thisdict.popitem() # Removes the last inserted item\r\n",
        "print(thisdict)\r\n",
        "\r\n",
        "print(\"\\n\")\r\n",
        "for x in thisdict:\r\n",
        "  print(x)\r\n",
        "  print(thisdict[x])\r\n",
        "  print(f\"{x}: {thisdict[x]}\",\"\\n\")"
      ],
      "execution_count": 1,
      "outputs": [
        {
          "output_type": "stream",
          "text": [
            "Mustang\n",
            "Mustang\n",
            "dict_keys(['brand', 'model', 'year'])\n",
            "dict_values(['Ford', 'Mustang', 1964])\n",
            "dict_items([('brand', 'Ford'), ('model', 'Mustang'), ('year', 1964)])\n",
            "{'brand': 'Ford', 'model': 'Mustang', 'year': 2020}\n",
            "{'brand': 'Ford', 'model': 'Mustang', 'year': 2018}\n",
            "{'brand': 'Ford', 'model': 'Mustang', 'year': 2018, 'color': 'red'}\n",
            "{'brand': 'Ford', 'year': 2018, 'color': 'red'}\n",
            "{'brand': 'Ford', 'year': 2018}\n",
            "\n",
            "\n",
            "brand\n",
            "Ford\n",
            "brand: Ford \n",
            "\n",
            "year\n",
            "2018\n",
            "year: 2018 \n",
            "\n"
          ],
          "name": "stdout"
        }
      ]
    },
    {
      "cell_type": "code",
      "metadata": {
        "id": "fiag7xz3cufU",
        "colab": {
          "base_uri": "https://localhost:8080/"
        },
        "outputId": "9847c286-d3a0-4072-d6c5-f9462213a131"
      },
      "source": [
        "### Extracting a subset from dictionary based on values or keys\r\n",
        "# example of extracting a subset from a dictionary\r\n",
        "from pprint import pprint\r\n",
        "prices = {'ACME': 45.23,   'AAPL': 612.78,   'IBM': 205.55,   'HPQ': 37.20,   'FB': 10.75}\r\n",
        "\r\n",
        "# Make a dictionary of all prices over 200\r\n",
        "p1 = { key:value for key, value in prices.items() if value > 200 }\r\n",
        "print(\"All prices over 200\")\r\n",
        "pprint(p1)\r\n",
        "\r\n",
        "# Make a dictionary of tech stocks\r\n",
        "tech_names = { 'AAPL', 'IBM', 'HPQ', 'MSFT' }\r\n",
        "p2 = { key:value for key,value in prices.items() if key in tech_names }\r\n",
        "print(\"All techs\")\r\n",
        "pprint(p2)"
      ],
      "execution_count": 15,
      "outputs": [
        {
          "output_type": "stream",
          "text": [
            "All prices over 200\n",
            "{'AAPL': 612.78, 'IBM': 205.55}\n",
            "All techs\n",
            "{'AAPL': 612.78, 'HPQ': 37.2, 'IBM': 205.55}\n"
          ],
          "name": "stdout"
        }
      ]
    },
    {
      "cell_type": "code",
      "metadata": {
        "id": "xjwRnWkN08Iv",
        "colab": {
          "base_uri": "https://localhost:8080/"
        },
        "outputId": "7d92e184-f6bd-4c2e-d021-a1d504717ba6"
      },
      "source": [
        "# Dictionaries within a dictionary\r\n",
        "myfamily = {\r\n",
        "  \"child1\" : {\"name\" : \"Emil\",\"year\" : 2004},\r\n",
        "  \"child2\" : {\"name\" : \"Tobias\",\"year\" : 2007},\r\n",
        "  \"child3\" : {\"name\" : \"Linus\",\"year\" : 2011} \r\n",
        "  }\r\n",
        "print(myfamily[\"child1\"]['year'])\r\n",
        "print(myfamily[\"child1\"])\r\n",
        "\r\n",
        "print(\"\\nDictionaries within a list\")\r\n",
        "friends = [{\"name\": \"Rolf\", \"age\": 24},\r\n",
        "           {\"name\": \"Sandy\", \"age\": 27},\r\n",
        "           {\"name\": \"Sam\", \"age\": 30},]\r\n",
        "print(friends[1][\"name\"])\r\n"
      ],
      "execution_count": null,
      "outputs": [
        {
          "output_type": "stream",
          "text": [
            "2004\n",
            "{'name': 'Emil', 'year': 2004}\n",
            "\n",
            "Dictionaries within a list\n",
            "Sandy\n"
          ],
          "name": "stdout"
        }
      ]
    },
    {
      "cell_type": "code",
      "metadata": {
        "id": "x1yzW2m044E9",
        "colab": {
          "base_uri": "https://localhost:8080/"
        },
        "outputId": "c73ba188-f84e-4b78-fbb7-ceae9226071d"
      },
      "source": [
        "# Create dictionary\r\n",
        "def names(**kwargs):\r\n",
        "  print(kwargs)\r\n",
        "\r\n",
        "names(name=\"Sandy\", age=27)"
      ],
      "execution_count": null,
      "outputs": [
        {
          "output_type": "stream",
          "text": [
            "{'name': 'Sandy', 'age': 27}\n"
          ],
          "name": "stdout"
        }
      ]
    },
    {
      "cell_type": "markdown",
      "metadata": {
        "id": "cfJBZseZhT8J"
      },
      "source": [
        "### Counter\r\n",
        "* c.update() \r\n",
        "* list(c.elements()) : keys with counts>0\r\n",
        "* c.most_common(3) : n most frequently encountered input values and their respective counts"
      ]
    },
    {
      "cell_type": "code",
      "metadata": {
        "id": "6ldlYZuygbow",
        "outputId": "0a356fcf-4b1e-4e3e-8122-cfad806dcdde",
        "colab": {
          "base_uri": "https://localhost:8080/"
        }
      },
      "source": [
        "from collections import Counter \r\n",
        "  \r\n",
        "# With sequence of items  \r\n",
        "print(Counter(['B','B','A','B','C','A','B','B','A','C'])) \r\n",
        "  \r\n",
        "# with dictionary \r\n",
        "print(Counter({'A':3, 'B':5, 'C':2})) \r\n",
        "  \r\n",
        "# with keyword arguments \r\n",
        "print(Counter(A=3, B=5, C=2)) "
      ],
      "execution_count": 4,
      "outputs": [
        {
          "output_type": "stream",
          "text": [
            "Counter({'B': 5, 'A': 3, 'C': 2})\n",
            "Counter({'B': 5, 'A': 3, 'C': 2})\n",
            "Counter({'B': 5, 'A': 3, 'C': 2})\n"
          ],
          "name": "stdout"
        }
      ]
    },
    {
      "cell_type": "code",
      "metadata": {
        "id": "H-Vh1m69hcSw",
        "outputId": "45ce4cdc-95c3-46cf-daf9-9d95b7b42e8a",
        "colab": {
          "base_uri": "https://localhost:8080/"
        }
      },
      "source": [
        "import collections\r\n",
        "\r\n",
        "c = collections.Counter()\r\n",
        "print('Initial :', c)\r\n",
        "\r\n",
        "c.update('abcdaab')\r\n",
        "print('Sequence:', c)\r\n",
        "\r\n",
        "c.update({'a':1, 'd':5})\r\n",
        "print('Dict    :', c)\r\n",
        "\r\n",
        "c['z'] =0\r\n",
        "print(\"\\n\",c)\r\n",
        "print(list(c.elements())) # items with counts less than 0 are not included\r\n",
        "print(c.most_common(3))"
      ],
      "execution_count": 11,
      "outputs": [
        {
          "output_type": "stream",
          "text": [
            "Initial : Counter()\n",
            "Sequence: Counter({'a': 3, 'b': 2, 'c': 1, 'd': 1})\n",
            "Dict    : Counter({'d': 6, 'a': 4, 'b': 2, 'c': 1})\n",
            "\n",
            " Counter({'d': 6, 'a': 4, 'b': 2, 'c': 1, 'z': 0})\n",
            "['a', 'a', 'a', 'a', 'b', 'b', 'c', 'd', 'd', 'd', 'd', 'd', 'd']\n",
            "[('d', 6), ('a', 4), ('b', 2)]\n"
          ],
          "name": "stdout"
        }
      ]
    },
    {
      "cell_type": "markdown",
      "metadata": {
        "id": "9R9QjXrsw403"
      },
      "source": [
        "### List Comprehension\r\n",
        "https://realpython.com/list-comprehension-python/\r\n",
        "* map(function,list) : applies function to the list and returns the list\r\n",
        "* Instead of for loops and map() use list comprehension\r\n",
        "\r\n",
        "\r\n",
        "* filter(fn, list)\r\n",
        "* list_function = [fn(i) for i in list]  ; [expression for member in iterable]\r\n",
        "* list_filtered = [fn(i) for i in list if i > 0] ; [expression for member in iterable (if conditional)]\r\n",
        "* new_list = [expression (if conditional) for member in iterable] ; to modify values in list\r\n",
        "* walrus operator"
      ]
    },
    {
      "cell_type": "code",
      "metadata": {
        "id": "peSwTNHJku5D",
        "colab": {
          "base_uri": "https://localhost:8080/"
        },
        "outputId": "964af792-2359-4f32-c409-c387ff3d348f"
      },
      "source": [
        "print(list(map(lambda x: x**2, range(10))))\r\n",
        "print([x**2 for x in range(10)])"
      ],
      "execution_count": null,
      "outputs": [
        {
          "output_type": "stream",
          "text": [
            "[0, 1, 4, 9, 16, 25, 36, 49, 64, 81]\n",
            "[0, 1, 4, 9, 16, 25, 36, 49, 64, 81]\n"
          ],
          "name": "stdout"
        }
      ]
    },
    {
      "cell_type": "code",
      "metadata": {
        "id": "Dy7ws4LCmPHR",
        "colab": {
          "base_uri": "https://localhost:8080/"
        },
        "outputId": "4e2845d6-e1b9-4fbb-b956-fd4a164196fd"
      },
      "source": [
        "original_prices = [1.25, -9.45, 10.22, 3.78, -5.92, 1.16]\r\n",
        "print([i**2 for i in original_prices])\r\n",
        "print([i for i in original_prices if i>0]) # data is filtered\r\n",
        "print([i if i > 0 else 0 for i in original_prices])\r\n",
        "\r\n",
        "print(\"\\n Create sets: \",{i for i in original_prices if i>0})\r\n",
        "print(\"\\n Create Dictionaries: \",{i: i * i for i in range(10)})"
      ],
      "execution_count": null,
      "outputs": [
        {
          "output_type": "stream",
          "text": [
            "[1.5625, 89.30249999999998, 104.4484, 14.2884, 35.0464, 1.3456]\n",
            "[1.25, 10.22, 3.78, 1.16]\n",
            "[1.25, 0, 10.22, 3.78, 0, 1.16]\n",
            "\n",
            " Create sets:  {1.25, 10.22, 3.78, 1.16}\n",
            "\n",
            " Create Dictionaries:  {0: 0, 1: 1, 2: 4, 3: 9, 4: 16, 5: 25, 6: 36, 7: 49, 8: 64, 9: 81}\n"
          ],
          "name": "stdout"
        }
      ]
    },
    {
      "cell_type": "code",
      "metadata": {
        "id": "7U0Rgydmrnnx",
        "colab": {
          "base_uri": "https://localhost:8080/",
          "height": 129
        },
        "outputId": "9ad22128-dca6-422c-b470-b1ba2fbf2fe6"
      },
      "source": [
        "# walrus operator (:=)\r\n",
        "import random\r\n",
        "def get_weather_data():\r\n",
        "    return random.randrange(90, 110)\r\n",
        "hot_temps = [temp for _ in range(20) if (temp := get_weather_data()) >= 100] #assignment of variables starting in python 3.8\r\n",
        "hot_temps"
      ],
      "execution_count": null,
      "outputs": [
        {
          "output_type": "error",
          "ename": "SyntaxError",
          "evalue": "ignored",
          "traceback": [
            "\u001b[0;36m  File \u001b[0;32m\"<ipython-input-22-65aef3763fbe>\"\u001b[0;36m, line \u001b[0;32m4\u001b[0m\n\u001b[0;31m    hot_temps = [temp for _ in range(20) if (temp := get_weather_data()) >= 100] #assignment of variables starting in python 3.8\u001b[0m\n\u001b[0m                                                  ^\u001b[0m\n\u001b[0;31mSyntaxError\u001b[0m\u001b[0;31m:\u001b[0m invalid syntax\n"
          ]
        }
      ]
    },
    {
      "cell_type": "code",
      "metadata": {
        "id": "ALOx1IS_sb9B",
        "colab": {
          "base_uri": "https://localhost:8080/"
        },
        "outputId": "50f83bac-3571-41d1-fbb6-d56a3bb293dc"
      },
      "source": [
        "print(\"create lists for each key with in a dictionary\")\r\n",
        "cities = ['Austin', 'Tacoma', 'Topeka', 'Sacramento', 'Charlotte']\r\n",
        "temps = {city: [_ for _ in range(7)] for city in cities}\r\n",
        "temps"
      ],
      "execution_count": null,
      "outputs": [
        {
          "output_type": "stream",
          "text": [
            "create lists for each key with in a dictionary\n"
          ],
          "name": "stdout"
        },
        {
          "output_type": "execute_result",
          "data": {
            "text/plain": [
              "{'Austin': [0, 1, 2, 3, 4, 5, 6],\n",
              " 'Charlotte': [0, 1, 2, 3, 4, 5, 6],\n",
              " 'Sacramento': [0, 1, 2, 3, 4, 5, 6],\n",
              " 'Tacoma': [0, 1, 2, 3, 4, 5, 6],\n",
              " 'Topeka': [0, 1, 2, 3, 4, 5, 6]}"
            ]
          },
          "metadata": {
            "tags": []
          },
          "execution_count": 24
        }
      ]
    },
    {
      "cell_type": "code",
      "metadata": {
        "id": "kTRoNuVvtL_z",
        "colab": {
          "base_uri": "https://localhost:8080/"
        },
        "outputId": "618dfff0-a0e5-4061-e590-0aae994a82f2"
      },
      "source": [
        "print(\"Matrix\")\r\n",
        "matrix = [[i for i in range(5)] for _ in range(6)] # for _ in range(6) creates rows, inner [i for i in range(5)] creates \r\n",
        "matrix"
      ],
      "execution_count": null,
      "outputs": [
        {
          "output_type": "stream",
          "text": [
            "Matrix\n"
          ],
          "name": "stdout"
        },
        {
          "output_type": "execute_result",
          "data": {
            "text/plain": [
              "[[0, 1, 2, 3, 4],\n",
              " [0, 1, 2, 3, 4],\n",
              " [0, 1, 2, 3, 4],\n",
              " [0, 1, 2, 3, 4],\n",
              " [0, 1, 2, 3, 4],\n",
              " [0, 1, 2, 3, 4]]"
            ]
          },
          "metadata": {
            "tags": []
          },
          "execution_count": 26
        }
      ]
    },
    {
      "cell_type": "code",
      "metadata": {
        "id": "c0x4gISlwHlS",
        "colab": {
          "base_uri": "https://localhost:8080/"
        },
        "outputId": "bcd7d828-f81d-4dff-b397-d922d68236a7"
      },
      "source": [
        "print(\"Transpose of a matrix\")\r\n",
        "matrix = [[1, 2], [3,4], [5,6], [7,8]]\r\n",
        "transpose = [[row[i] for row in matrix] for i in range(2)] #range(2) as there are 0,1 indexed columns\r\n",
        "print (transpose)"
      ],
      "execution_count": null,
      "outputs": [
        {
          "output_type": "stream",
          "text": [
            "Transpose of a matrix\n",
            "[[1, 3, 5, 7], [2, 4, 6, 8]]\n"
          ],
          "name": "stdout"
        }
      ]
    },
    {
      "cell_type": "code",
      "metadata": {
        "id": "Cqi_nS88w-hC",
        "colab": {
          "base_uri": "https://localhost:8080/"
        },
        "outputId": "e44c43fe-6af8-4c0b-9fc7-140c24bae777"
      },
      "source": [
        "print(\"Transpose of a matrix\")\r\n",
        "list(zip(*matrix))"
      ],
      "execution_count": null,
      "outputs": [
        {
          "output_type": "stream",
          "text": [
            "Transpose of a matrix\n"
          ],
          "name": "stdout"
        },
        {
          "output_type": "execute_result",
          "data": {
            "text/plain": [
              "[(1, 3, 5, 7), (2, 4, 6, 8)]"
            ]
          },
          "metadata": {
            "tags": []
          },
          "execution_count": 31
        }
      ]
    },
    {
      "cell_type": "code",
      "metadata": {
        "id": "aRswqOdqvQju",
        "colab": {
          "base_uri": "https://localhost:8080/"
        },
        "outputId": "34e98717-cd19-4559-89a7-e601abf3ea01"
      },
      "source": [
        "# flatten a matrix\r\n",
        "matrix = [\r\n",
        "    [0, 0, 0],\r\n",
        "    [1, 1, 1],\r\n",
        "    [2, 2, 2],\r\n",
        "]\r\n",
        "flat = [num for row in matrix for num in row]\r\n",
        "flat"
      ],
      "execution_count": null,
      "outputs": [
        {
          "output_type": "execute_result",
          "data": {
            "text/plain": [
              "[0, 0, 0, 1, 1, 1, 2, 2, 2]"
            ]
          },
          "metadata": {
            "tags": []
          },
          "execution_count": 27
        }
      ]
    },
    {
      "cell_type": "markdown",
      "metadata": {
        "id": "MxsmDtoTwYYo"
      },
      "source": [
        "### if-else statements\r\n",
        "* Equals: a == b\r\n",
        "* Not Equals: a != b\r\n",
        "* Less than: a < b\r\n",
        "* Less than or equal to: a <= b\r\n",
        "* Greater than: a > b\r\n",
        "* Greater than or equal to: a >= b\r\n",
        "* a > b and c > a\r\n",
        "* a > b OR c > a\r\n",
        "* if bool(x)==Ture is same as if x:\r\n",
        "* if bool(x)==False is same as if not x:\r\n"
      ]
    },
    {
      "cell_type": "code",
      "metadata": {
        "id": "OUhYbFbV-Amb",
        "colab": {
          "base_uri": "https://localhost:8080/"
        },
        "outputId": "35686f9b-a40c-4700-9057-f83d913bdbf0"
      },
      "source": [
        "a = 200\r\n",
        "b = 33\r\n",
        "if b > a:\r\n",
        "  print(\"b is greater than a\")\r\n",
        "elif a == b:\r\n",
        "  print(\"a and b are equal\")\r\n",
        "else:\r\n",
        "  print(\"a is greater than b\")"
      ],
      "execution_count": 14,
      "outputs": [
        {
          "output_type": "stream",
          "text": [
            "a is greater than b\n"
          ],
          "name": "stdout"
        }
      ]
    },
    {
      "cell_type": "code",
      "metadata": {
        "id": "efEqBJGcjYU3",
        "outputId": "961f3a8b-fba0-4a7f-ae6f-ea820d468f52",
        "colab": {
          "base_uri": "https://localhost:8080/"
        }
      },
      "source": [
        "# One-line statement\r\n",
        "a = 200\r\n",
        "b = 33\r\n",
        "if a > b: print(\"a is greater than b\")"
      ],
      "execution_count": 13,
      "outputs": [
        {
          "output_type": "stream",
          "text": [
            "a is greater than b\n"
          ],
          "name": "stdout"
        }
      ]
    },
    {
      "cell_type": "markdown",
      "metadata": {
        "id": "Sc0Dc3f8lDTC"
      },
      "source": [
        "### Loops\r\n",
        "*  key words: True, False, None, and, or, not\r\n",
        "  * break (break out of the loop and passes the control to the statement following immediately after loop)\r\n",
        "  * pass (null statement, do nothing in a if statement)\r\n",
        "  * continue (skips the current iteration of the loop, but does not end the loop)\r\n",
        "  * class (to declare user defined classes)\r\n",
        "  * def (declare user defined functions)\r\n",
        "  * if, elif, else\r\n",
        "  * del (used to delete a reference to an object)\r\n",
        "  * try (used for exception handling)\r\n",
        "  * except, raise, finally"
      ]
    },
    {
      "cell_type": "code",
      "metadata": {
        "id": "3hUIMmxmZZZe",
        "colab": {
          "base_uri": "https://localhost:8080/"
        },
        "outputId": "d06aecb5-d3f9-47ef-bc0b-36bc869259b7"
      },
      "source": [
        "# continue forces the loop to start at the next iteration while pass means \"there is no code to execute here\" and will continue through the remainder or the loop body. \r\n",
        "# continue will jump back to the top of the loop. pass will continue processing\r\n",
        "# if statements cannot be empty, but if you for some reason have an if statement with no content, put in the pass statement to avoid getting an error\r\n",
        "a = [1,2,3,4,5]\r\n",
        "for i in a:\r\n",
        "    if i > 3:\r\n",
        "        pass\r\n",
        "    print(i)"
      ],
      "execution_count": 15,
      "outputs": [
        {
          "output_type": "stream",
          "text": [
            "1\n",
            "2\n",
            "3\n",
            "4\n",
            "5\n"
          ],
          "name": "stdout"
        }
      ]
    },
    {
      "cell_type": "code",
      "metadata": {
        "id": "Yp9Zmad2k9yU",
        "outputId": "1ad604bf-7be1-4b75-9710-224b95162df8",
        "colab": {
          "base_uri": "https://localhost:8080/"
        }
      },
      "source": [
        "# continue forces the loop to start at the next iteration\r\n",
        "for i in a:\r\n",
        "    if i < 3:\r\n",
        "        continue\r\n",
        "    print(i)"
      ],
      "execution_count": 16,
      "outputs": [
        {
          "output_type": "stream",
          "text": [
            "3\n",
            "4\n",
            "5\n"
          ],
          "name": "stdout"
        }
      ]
    },
    {
      "cell_type": "code",
      "metadata": {
        "id": "keZ_aEv-k_pU",
        "outputId": "f79ba672-f53a-48cc-d552-9d1d8be0a3a0",
        "colab": {
          "base_uri": "https://localhost:8080/"
        }
      },
      "source": [
        "# With the break statement we can stop the loop even if the while condition is true:\r\n",
        "for i in a:\r\n",
        "    if i == 3:\r\n",
        "        break\r\n",
        "    print(i)  "
      ],
      "execution_count": 17,
      "outputs": [
        {
          "output_type": "stream",
          "text": [
            "1\n",
            "2\n"
          ],
          "name": "stdout"
        }
      ]
    },
    {
      "cell_type": "code",
      "metadata": {
        "id": "OqdbpKCipYT3",
        "outputId": "058d77e8-de51-4838-dc64-fc876df2c6ee",
        "colab": {
          "base_uri": "https://localhost:8080/"
        }
      },
      "source": [
        "# Nested for loop\r\n",
        "adj = [\"red\", \"big\", \"tasty\"]\r\n",
        "fruits = [\"apple\", \"banana\", \"cherry\"]\r\n",
        "for x in adj:\r\n",
        "  for y in fruits:\r\n",
        "    print(x, y)"
      ],
      "execution_count": 11,
      "outputs": [
        {
          "output_type": "stream",
          "text": [
            "red apple\n",
            "red banana\n",
            "red cherry\n",
            "big apple\n",
            "big banana\n",
            "big cherry\n",
            "tasty apple\n",
            "tasty banana\n",
            "tasty cherry\n"
          ],
          "name": "stdout"
        }
      ]
    },
    {
      "cell_type": "code",
      "metadata": {
        "id": "sCUns7wtpr5_",
        "outputId": "85cf233f-bc41-464b-e0a3-87e6bb11d6e4",
        "colab": {
          "base_uri": "https://localhost:8080/"
        }
      },
      "source": [
        "i = 1\r\n",
        "while i < 6:\r\n",
        "  print(i)\r\n",
        "  i += 1"
      ],
      "execution_count": 12,
      "outputs": [
        {
          "output_type": "stream",
          "text": [
            "1\n",
            "2\n",
            "3\n",
            "4\n",
            "5\n"
          ],
          "name": "stdout"
        }
      ]
    },
    {
      "cell_type": "code",
      "metadata": {
        "id": "wgl8o0fLpu1_",
        "outputId": "5523e60d-9395-421a-eb40-dc1ba5efc49a",
        "colab": {
          "base_uri": "https://localhost:8080/"
        }
      },
      "source": [
        "# else clause in while loop\r\n",
        "n = 5\r\n",
        "while n > 0:\r\n",
        "    n -= 1\r\n",
        "    print(n)\r\n",
        "else:\r\n",
        "    print('Loop done.')"
      ],
      "execution_count": 19,
      "outputs": [
        {
          "output_type": "stream",
          "text": [
            "4\n",
            "3\n",
            "2\n",
            "1\n",
            "0\n",
            "Loop done.\n"
          ],
          "name": "stdout"
        }
      ]
    },
    {
      "cell_type": "markdown",
      "metadata": {
        "id": "DDR0VYz1pztU"
      },
      "source": [
        "### Functions\r\n",
        "* def addtwo(x, y=5): #Here y is default parameter, it takes the value mentioned \r\n",
        "* def addtwo(x=5, y): # Gives ERROR as default parameters must be mentioned at the end\r\n",
        "* def addtwo(y, x-3): # x is mentioned as a default parameter - and specified at the end"
      ]
    },
    {
      "cell_type": "code",
      "metadata": {
        "id": "KphFFF5dxKY0",
        "colab": {
          "base_uri": "https://localhost:8080/"
        },
        "outputId": "8c63e555-c86e-44e3-9854-825ab88203c8"
      },
      "source": [
        "# Return statement in a function returns a value after the function is executed\n",
        "# Print statement in a function returns NONE after the function is executed\n",
        "def addtwo(x,y):\n",
        "  return x+y\n",
        "  print(x+y) # Print statement is not executed because it is after the return statement\n",
        "\n",
        "print(addtwo(5,8))"
      ],
      "execution_count": null,
      "outputs": [
        {
          "output_type": "execute_result",
          "data": {
            "text/plain": [
              "13"
            ]
          },
          "metadata": {
            "tags": []
          },
          "execution_count": 5
        }
      ]
    },
    {
      "cell_type": "code",
      "metadata": {
        "id": "V_BvbeJn-IRt",
        "colab": {
          "base_uri": "https://localhost:8080/"
        },
        "outputId": "b17e73cf-8106-44ea-89c5-0b7f2d1bcd65"
      },
      "source": [
        "# lambda function - Get input and return output\n",
        "# Lambda: A lambda function can take any number of arguments, but can only have one expression\n",
        "addtwoNum = lambda x, y: x+y \n",
        "print(addtwoNum(5,7))\n",
        "\n",
        "# Calling 5,7 as x,y on lambda functions\n",
        "print((lambda x, y: x+y)(3,7))\n",
        "\n",
        "sequence = [1, 3, 5, 9]\n",
        "doubled = set(map(lambda x: x * 2,sequence)) # Order is lost in sets\n",
        "print(\"set\",doubled) \n",
        "print(\"list\",[*doubled])\n",
        "\n",
        "doubled = map(lambda x: x * 2,sequence) # function is applied on sequence in order\n",
        "print([*doubled]) # Convert map to list"
      ],
      "execution_count": null,
      "outputs": [
        {
          "output_type": "stream",
          "text": [
            "12\n",
            "10\n",
            "set {18, 2, 10, 6}\n",
            "list [18, 2, 10, 6]\n",
            "[2, 6, 10, 18]\n"
          ],
          "name": "stdout"
        }
      ]
    },
    {
      "cell_type": "code",
      "metadata": {
        "id": "jN60gLjk-Hyk",
        "colab": {
          "base_uri": "https://localhost:8080/"
        },
        "outputId": "e7cbe41a-e342-46a0-8f74-13ab337cdd3e"
      },
      "source": [
        "# Applying function on a sequence\n",
        "def double(x):\n",
        "  return x*2\n",
        "\n",
        "sequence = [1,3,5,9]\n",
        "\n",
        "# 1st way\n",
        "DoubledSequence = [double(x) for x in sequence]\n",
        "print(DoubledSequence)\n",
        "\n",
        "# 2nd way - map(function,array)\n",
        "# Convert map object to set and then to list\n",
        "DoubledSequence = map(double, sequence) \n",
        "print([*DoubledSequence]) # Convert map to list\n",
        "\n",
        "# 3rd way - lambda\n",
        "DoubledSequence = [(lambda x: x*2)(x) for x in sequence]\n",
        "print(DoubledSequence)\n",
        "DoubledSequence = map(lambda x: x*2, sequence) # Order is lost in sets\n",
        "print([*DoubledSequence]) # Convert map to list "
      ],
      "execution_count": null,
      "outputs": [
        {
          "output_type": "stream",
          "text": [
            "[2, 6, 10, 18]\n",
            "[2, 6, 10, 18]\n",
            "[2, 6, 10, 18]\n",
            "[2, 6, 10, 18]\n"
          ],
          "name": "stdout"
        }
      ]
    },
    {
      "cell_type": "code",
      "metadata": {
        "id": "MvLUfHFBC8nM",
        "colab": {
          "base_uri": "https://localhost:8080/"
        },
        "outputId": "d59b785e-88fc-4ac3-fcae-a5bcb4451427"
      },
      "source": [
        "# Multiple arguments - iterating more the previous value\n",
        "def multiply(*args):\n",
        "  total=1\n",
        "  for arg in args:\n",
        "    total = total*arg\n",
        "  return total\n",
        "\n",
        "multiply(1,3,5)"
      ],
      "execution_count": null,
      "outputs": [
        {
          "output_type": "execute_result",
          "data": {
            "text/plain": [
              "15"
            ]
          },
          "metadata": {
            "tags": []
          },
          "execution_count": 99
        }
      ]
    },
    {
      "cell_type": "code",
      "metadata": {
        "id": "1_5aknGIp51S"
      },
      "source": [
        "\"\"\"If you do not know how many arguments that will be passed into your function, add a * before the parameter name in the function definition.\r\n",
        "This way the function will receive a tuple of arguments, and can access the items accordingly:\"\"\"\r\n",
        "def my_function(*kids):\r\n",
        "  print(\"The youngest child is \" + kids[2])\r\n",
        "my_function(\"Emil\", \"Tobias\", \"Linus\")"
      ],
      "execution_count": null,
      "outputs": []
    },
    {
      "cell_type": "code",
      "metadata": {
        "id": "L7XW6VkCqFBN"
      },
      "source": [
        "\"\"\"If you do not know how many keyword arguments that will be passed into your function, add two asterisk: ** before the parameter name in the function definition.\r\n",
        "This way the function will receive a dictionary of arguments, and can access the items accordingly:\"\"\"\r\n",
        "def my_function(**kid):\r\n",
        "  print(\"His last name is \" + kid[\"lname\"])\r\n",
        "my_function(fname = \"Tobias\", lname = \"Refsnes\")"
      ],
      "execution_count": null,
      "outputs": []
    },
    {
      "cell_type": "markdown",
      "metadata": {
        "id": "goKF6YUH-qAS"
      },
      "source": [
        "### Recursion"
      ]
    },
    {
      "cell_type": "code",
      "metadata": {
        "id": "Q3623irDEUnE",
        "colab": {
          "base_uri": "https://localhost:8080/"
        },
        "outputId": "e8dec86f-8f67-47e4-89df-22dda3fb273f"
      },
      "source": [
        "# Recursion\r\n",
        "def tri_recursion(k):\r\n",
        "  if(k > 0):\r\n",
        "    result = k + tri_recursion(k - 1)\r\n",
        "    print(result)\r\n",
        "  else:\r\n",
        "    result = 0\r\n",
        "  return result\r\n",
        "\r\n",
        "print(\"Recursion Example Results\")\r\n",
        "tri_recursion(6)"
      ],
      "execution_count": 107,
      "outputs": [
        {
          "output_type": "stream",
          "text": [
            "Recursion Example Results\n",
            "1\n",
            "3\n",
            "6\n",
            "10\n",
            "15\n",
            "21\n"
          ],
          "name": "stdout"
        },
        {
          "output_type": "execute_result",
          "data": {
            "text/plain": [
              "21"
            ]
          },
          "metadata": {
            "tags": []
          },
          "execution_count": 107
        }
      ]
    },
    {
      "cell_type": "code",
      "metadata": {
        "id": "i7vBfZQz-zG8",
        "outputId": "7d51151a-a75f-436d-f3da-8637a04d5378",
        "colab": {
          "base_uri": "https://localhost:8080/"
        }
      },
      "source": [
        "def factorial(x):\r\n",
        "    \"\"\"This is a recursive function\r\n",
        "    to find the factorial of an integer\"\"\"\r\n",
        "    if x == 1:\r\n",
        "        return 1\r\n",
        "    else:\r\n",
        "        return (x * factorial(x-1))\r\n",
        "num = 3\r\n",
        "print(\"The factorial of\", num, \"is\", factorial(num))"
      ],
      "execution_count": 109,
      "outputs": [
        {
          "output_type": "stream",
          "text": [
            "The factorial of 3 is 6\n"
          ],
          "name": "stdout"
        }
      ]
    },
    {
      "cell_type": "code",
      "metadata": {
        "id": "5K7OjZp9_FRR",
        "outputId": "503ee545-2d0a-439e-9180-9406b25c6b87",
        "colab": {
          "base_uri": "https://localhost:8080/"
        }
      },
      "source": [
        "def recursive_fibonacci(n): \r\n",
        "   if n <= 1: \r\n",
        "       return n \r\n",
        "   else: \r\n",
        "       return(recursive_fibonacci(n-1) + recursive_fibonacci(n-2))\r\n",
        "recursive_fibonacci(10)"
      ],
      "execution_count": 110,
      "outputs": [
        {
          "output_type": "execute_result",
          "data": {
            "text/plain": [
              "55"
            ]
          },
          "metadata": {
            "tags": []
          },
          "execution_count": 110
        }
      ]
    },
    {
      "cell_type": "markdown",
      "metadata": {
        "id": "VQTpA35WzYGg"
      },
      "source": [
        "### Regular Expressions\r\n",
        "https://www.rexegg.com/regex-quickstart.html </br>\r\n",
        "http://www.pyregex.com/\r\n",
        "* re.search(regex_pattern, text) : Searches for first occurrence of the pattern and returns match obj\r\n",
        "* re.match(regex_pattern, text) : Searches only at the beginning of the text\r\n",
        "* re.findall(regex_pattern, text) : Returns a list containing all matches\r\n",
        "* re.finditer(regex_pattern, text) : Returns all occurrences as match objects\r\n",
        "* re.sub(regex_pattern, repl, string) : Substitutes all occurrences with 'new'\r\n",
        "* re.split(regex_pattern, text, maxsplit=0) : Use brackets in regex to include the matches\r\n",
        "* re.compile(pattern)\r\n"
      ]
    },
    {
      "cell_type": "code",
      "metadata": {
        "id": "0IlI90sN2KNd",
        "outputId": "fa9bb264-95b4-4663-b7a8-bbd966cf1d51",
        "colab": {
          "base_uri": "https://localhost:8080/"
        }
      },
      "source": [
        "import re\r\n",
        "\r\n",
        "# Search entire string and returns first match\r\n",
        "# printing matched string and its indices in the original string\r\n",
        "result = re.search(r'Analytics', 'AV Analytics Vidhya AV Analytics')\r\n",
        "print(result.group(0),result.start(),result.end())"
      ],
      "execution_count": 84,
      "outputs": [
        {
          "output_type": "stream",
          "text": [
            "Analytics 3 12\n"
          ],
          "name": "stdout"
        }
      ]
    },
    {
      "cell_type": "code",
      "metadata": {
        "id": "ySMCGvOS2Wis",
        "outputId": "df48869f-a306-42e0-a423-e98de66d80e8",
        "colab": {
          "base_uri": "https://localhost:8080/"
        }
      },
      "source": [
        "# pattern is in lower case hence ignore case flag helps in matching same pattern with different cases\r\n",
        "# printing matched string and its indices in the original string\r\n",
        "# match does not work when pattern is not there in the beginning of string\r\n",
        "result = re.match(r'av', 'AVAnalytics Vidhya AV', flags=re.IGNORECASE)\r\n",
        "print(result.group(0),result.start(),result.end())\r\n",
        "print(result)"
      ],
      "execution_count": 80,
      "outputs": [
        {
          "output_type": "stream",
          "text": [
            "AV 0 2\n",
            "<_sre.SRE_Match object; span=(0, 2), match='AV'>\n"
          ],
          "name": "stdout"
        }
      ]
    },
    {
      "cell_type": "code",
      "metadata": {
        "id": "DzQOVayw3GYu",
        "outputId": "42f2b5db-421b-4533-d469-9efb49facb49",
        "colab": {
          "base_uri": "https://localhost:8080/"
        }
      },
      "source": [
        "result = re.findall(r'AV', 'AV Analytics Vidhya AV')\r\n",
        "print(result)"
      ],
      "execution_count": 54,
      "outputs": [
        {
          "output_type": "stream",
          "text": [
            "['AV', 'AV']\n"
          ],
          "name": "stdout"
        }
      ]
    },
    {
      "cell_type": "code",
      "metadata": {
        "id": "gzPTShlT39gL",
        "outputId": "936eda22-91b8-41d7-b638-63e2bc78533f",
        "colab": {
          "base_uri": "https://localhost:8080/"
        }
      },
      "source": [
        "# re.sub(regex_pattern, repl, string)\r\n",
        "result=re.sub(r'India','the World','AV is largest Analytics community of India')\r\n",
        "print(result)"
      ],
      "execution_count": 61,
      "outputs": [
        {
          "output_type": "stream",
          "text": [
            "AV is largest Analytics community of the World\n"
          ],
          "name": "stdout"
        }
      ]
    },
    {
      "cell_type": "code",
      "metadata": {
        "id": "Yc4g7qSU3kkY",
        "outputId": "fe9a24e6-af23-4972-b973-e908a945cfbb",
        "colab": {
          "base_uri": "https://localhost:8080/"
        }
      },
      "source": [
        "result=re.split(r'y','Analytics Sandhya')\r\n",
        "print(result)\r\n",
        "print(re.split(r'y','Analytics Sandhya',maxsplit=1))"
      ],
      "execution_count": 60,
      "outputs": [
        {
          "output_type": "stream",
          "text": [
            "['Anal', 'tics Sandh', 'a']\n",
            "['Anal', 'tics Sandhya']\n"
          ],
          "name": "stdout"
        }
      ]
    },
    {
      "cell_type": "code",
      "metadata": {
        "id": "SKTWAXVX5CQa",
        "outputId": "02ebcbff-54e5-45b0-b1c1-fe314751944a",
        "colab": {
          "base_uri": "https://localhost:8080/"
        }
      },
      "source": [
        "result = re.finditer(r'AV', 'AV Analytics Vidhya AV')\r\n",
        "for i in result:\r\n",
        "  print(i,i.start(),i.end())"
      ],
      "execution_count": 83,
      "outputs": [
        {
          "output_type": "stream",
          "text": [
            "<_sre.SRE_Match object; span=(0, 2), match='AV'> 0 2\n",
            "<_sre.SRE_Match object; span=(20, 22), match='AV'> 20 22\n"
          ],
          "name": "stdout"
        }
      ]
    },
    {
      "cell_type": "code",
      "metadata": {
        "id": "kK6boL3t4Xmr",
        "outputId": "91b5edeb-cd50-4ee0-e54e-bdfb0f77d0d7",
        "colab": {
          "base_uri": "https://localhost:8080/"
        }
      },
      "source": [
        "# re.compile(pattern)\r\n",
        "pattern=re.compile('AV')\r\n",
        "result=pattern.findall('AV Analytics Vidhya AV')\r\n",
        "print(result)"
      ],
      "execution_count": 64,
      "outputs": [
        {
          "output_type": "stream",
          "text": [
            "['AV', 'AV']\n"
          ],
          "name": "stdout"
        }
      ]
    },
    {
      "cell_type": "markdown",
      "metadata": {
        "id": "oztwWZxr6b_x"
      },
      "source": [
        "### DataTime: https://strftime.org/\r\n",
        "https://docs.python.org/3/library/datetime.html\r\n",
        "* strftime : Convert object to a string according to a given format \r\n",
        "  * strftime(format)\r\n",
        "* strptime : Parse a string into a datetime object given a corresponding format\r\n",
        "  * strptime(date_string, format)\r\n"
      ]
    },
    {
      "cell_type": "code",
      "metadata": {
        "id": "jL_TKW-d6pRI",
        "colab": {
          "base_uri": "https://localhost:8080/"
        },
        "outputId": "3bb3fc2b-1a08-4fa5-a3fe-4cdd76f656c6"
      },
      "source": [
        "import datetime\r\n",
        "\r\n",
        "x = datetime.datetime.now()\r\n",
        "print(x)\r\n",
        "print(x.year)\r\n",
        "print(x.strftime(\"%A\"))"
      ],
      "execution_count": 105,
      "outputs": [
        {
          "output_type": "stream",
          "text": [
            "2021-02-05 06:51:44.425734\n",
            "2021\n",
            "Friday\n"
          ],
          "name": "stdout"
        }
      ]
    },
    {
      "cell_type": "code",
      "metadata": {
        "id": "Kpm2xGeDi8AO",
        "outputId": "098c3bc1-5164-4818-b8ff-ed1e089a3553",
        "colab": {
          "base_uri": "https://localhost:8080/"
        }
      },
      "source": [
        "d = datetime.datetime(1992, 6, 30, 7, 28, 0)\r\n",
        "print(d.strftime(\"%d/%m/%y\"))"
      ],
      "execution_count": 102,
      "outputs": [
        {
          "output_type": "stream",
          "text": [
            "30/06/92\n"
          ],
          "name": "stdout"
        }
      ]
    },
    {
      "cell_type": "code",
      "metadata": {
        "id": "EgWcRZ_w9Ept",
        "outputId": "de1f8b2e-3449-4d97-93a8-6ad3c8dcc1bd",
        "colab": {
          "base_uri": "https://localhost:8080/"
        }
      },
      "source": [
        "date_string = \"30 June, 1992\"\r\n",
        "datetime.datetime.strptime(date_string, \"%d %B, %Y\")"
      ],
      "execution_count": 106,
      "outputs": [
        {
          "output_type": "execute_result",
          "data": {
            "text/plain": [
              "datetime.datetime(1992, 6, 30, 0, 0)"
            ]
          },
          "metadata": {
            "tags": []
          },
          "execution_count": 106
        }
      ]
    },
    {
      "cell_type": "code",
      "metadata": {
        "id": "enoM5J717gaj",
        "outputId": "06c8585f-431e-42ee-b8da-a47eeeea4038",
        "colab": {
          "base_uri": "https://localhost:8080/"
        }
      },
      "source": [
        "from datetime import timedelta\r\n",
        "delta = timedelta(\r\n",
        "    days=50,\r\n",
        "    seconds=27,\r\n",
        "    microseconds=10,\r\n",
        "    milliseconds=29000,\r\n",
        "    minutes=5,\r\n",
        "    hours=8,\r\n",
        "    weeks=2)\r\n",
        "\r\n",
        "print(delta)\r\n",
        "delta"
      ],
      "execution_count": 92,
      "outputs": [
        {
          "output_type": "stream",
          "text": [
            "64 days, 8:05:56.000010\n"
          ],
          "name": "stdout"
        },
        {
          "output_type": "execute_result",
          "data": {
            "text/plain": [
              "datetime.timedelta(64, 29156, 10)"
            ]
          },
          "metadata": {
            "tags": []
          },
          "execution_count": 92
        }
      ]
    },
    {
      "cell_type": "markdown",
      "metadata": {
        "id": "BBoCJ5Zxpb0o"
      },
      "source": [
        "### Printing\r\n",
        "* f-strings\r\n",
        "* format function\r\n",
        "* %\r\n",
        "* d for int, f for float values, o for octal values, E for exponential.\r\n",
        "* General syntax is %[flags][width][.precision]type. %2d if used on int=1, will be printed with a leading blank\r\n"
      ]
    },
    {
      "cell_type": "code",
      "metadata": {
        "id": "UQef3JTrRYyg",
        "colab": {
          "base_uri": "https://localhost:8080/"
        },
        "outputId": "36ecdacb-d31b-4dde-daf2-02124d67e3a9"
      },
      "source": [
        "# f-strings\n",
        "print(\"f-strings are used to use dynamic variables:\")\n",
        "name = \"Sandy\"\n",
        "print(f\"Hello, {name}\")\n",
        "\n",
        "print(\"\\nRestrict decimal places\")\n",
        "size = input(\"What is size of your house in sq ft : \")\n",
        "x = float(size)/10.8\n",
        "print(f\"Sq meters = {x:.2f}\")\n",
        "print(f\"Sq ft = {x*10.8:.2f}\")"
      ],
      "execution_count": null,
      "outputs": [
        {
          "output_type": "stream",
          "text": [
            "f-strings are used to use dynamic variables:\n",
            "Hello, Sandy\n",
            "\n",
            "Restrict decimal places\n",
            "What is size of your house in sq ft : 100\n",
            "Sq meters = 9.26\n",
            "Sq ft = 100.00\n"
          ],
          "name": "stdout"
        }
      ]
    },
    {
      "cell_type": "code",
      "metadata": {
        "id": "tONheTPurORo",
        "colab": {
          "base_uri": "https://localhost:8080/"
        },
        "outputId": "44b51a4e-6831-4a0a-fb5d-ffe9c190eab8"
      },
      "source": [
        "# format\r\n",
        "print(\"Use format function:\")\r\n",
        "name = \"Sandhya\"\r\n",
        "print(\"Hello, {}\".format(name))\r\n",
        "print(\"Hello, {}\".format(\"Aparna\"))\r\n",
        "\r\n",
        "print(\"\\nUse 2 dynamic variables:\")\r\n",
        "print(\"Hello {} and {}\".format(\"Sandhya\",\"Aparna\"))\r\n",
        "\r\n",
        "print('Hello {} {}, it is a great {} to meet you at {} o\\' clock'.format('Sir', 'Arthur', 'honor', 9))\r\n",
        "print('I have a {food_item} and a {drink_item} with me'.format(drink_item='soda', food_item='sandwich'))\r\n",
        "print('The {animal} has the following attributes: {attributes}'.format(animal='dog', attributes=['lazy', 'loyal']))"
      ],
      "execution_count": null,
      "outputs": [
        {
          "output_type": "stream",
          "text": [
            "Use format function:\n",
            "Hello, Sandhya\n",
            "Hello, Aparna\n",
            "\n",
            "Use 2 dynamic variables:\n",
            "Hello Sandhya and Aparna\n",
            "Hello Sir Arthur, it is a great honor to meet you at 9 o' clock\n",
            "I have a sandwich and a soda with me\n",
            "The dog has the following attributes: ['lazy', 'loyal']\n"
          ],
          "name": "stdout"
        }
      ]
    },
    {
      "cell_type": "code",
      "metadata": {
        "colab": {
          "base_uri": "https://localhost:8080/"
        },
        "id": "L7AQTSx9BTDf",
        "outputId": "f297361d-c740-4b65-bb61-631ec5162cbb"
      },
      "source": [
        "# Input\r\n",
        "print(\"Based on user input -  Strings\")\r\n",
        "name = input(\"What is your name? : \")\r\n",
        "print(\"Hello {}\".format(name))\r\n",
        "\r\n",
        "# Multiple inputs: split(), numbers are inputed using space\r\n",
        "x, y = input(\"\\nMultiple Inputs:Enter a two value: \").split() # input x y\r\n",
        "print(\"Number of boys: \", x)\r\n",
        "print(\"Number of girls: \", y)"
      ],
      "execution_count": null,
      "outputs": [
        {
          "output_type": "stream",
          "text": [
            "Based on user input -  Strings\n",
            "What is your name? : x\n",
            "Hello x\n",
            "\n",
            "Multiple Inputs:Enter a two value: x y\n",
            "Number of boys:  x\n",
            "Number of girls:  y\n"
          ],
          "name": "stdout"
        }
      ]
    },
    {
      "cell_type": "code",
      "metadata": {
        "colab": {
          "base_uri": "https://localhost:8080/"
        },
        "id": "dxNtJMVRlGZ0",
        "outputId": "ddf92c51-88e8-4615-aeb7-868d5313a165"
      },
      "source": [
        "# % style\r\n",
        "print('We have %d %s containing %.2f gallons of %s' %(2, 'bottles', 2.5, 'milk'))\r\n",
        "print('We have %d %s containing %.2f gallons of %s' %(5.21, 'jugs', 10.86763, 'juice'))"
      ],
      "execution_count": null,
      "outputs": [
        {
          "output_type": "stream",
          "text": [
            "We have 2 bottles containing 2.50 gallons of milk\n",
            "We have 5 jugs containing 10.87 gallons of juice\n"
          ],
          "name": "stdout"
        }
      ]
    },
    {
      "cell_type": "code",
      "metadata": {
        "id": "xKsxV7_yxTT0",
        "colab": {
          "base_uri": "https://localhost:8080/"
        },
        "outputId": "d294b7ba-2034-4c43-9594-810b4e42ebc1"
      },
      "source": [
        "s = [1,2,3]\r\n",
        "for x in s:\r\n",
        "  print(x,sep=\"-\")\r\n",
        "\r\n",
        "print(1,2,3,sep='-')\r\n",
        "\r\n",
        "for x in s:\r\n",
        "  print(x,end=\"\") "
      ],
      "execution_count": null,
      "outputs": [
        {
          "output_type": "stream",
          "text": [
            "1\n",
            "2\n",
            "3\n",
            "1-2-3\n",
            "123"
          ],
          "name": "stdout"
        }
      ]
    },
    {
      "cell_type": "markdown",
      "metadata": {
        "id": "pTcWS9LCA5fI"
      },
      "source": [
        "### Collections\r\n"
      ]
    },
    {
      "cell_type": "code",
      "metadata": {
        "colab": {
          "base_uri": "https://localhost:8080/"
        },
        "id": "JB03pZ-xfCHz",
        "outputId": "47bd334b-b772-4257-eb77-b77ae88528b3"
      },
      "source": [
        "# A Python program to demonstrate working of OrderedDict \r\n",
        "\"\"\"An OrderedDict is a dictionary subclass that remembers the order that keys were first inserted. The only difference between dict() and OrderedDict() is that:\r\n",
        "\r\n",
        "OrderedDict preserves the order in which the keys are inserted. A regular dict doesn’t track the insertion order, and iterating it gives the values in an arbitrary order. By contrast, the order the items are inserted is remembered by OrderedDict.\"\"\"\r\n",
        "from collections import OrderedDict \r\n",
        "  \r\n",
        "print(\"This is a Dict:\\n\") \r\n",
        "d = {} \r\n",
        "d['a'] = 1\r\n",
        "d['b'] = 2\r\n",
        "d['c'] = 3\r\n",
        "d['d'] = 4\r\n",
        "  \r\n",
        "for key, value in d.items(): \r\n",
        "    print(key, value) "
      ],
      "execution_count": null,
      "outputs": [
        {
          "output_type": "stream",
          "text": [
            "This is a Dict:\n",
            "\n",
            "a 1\n",
            "b 2\n",
            "c 3\n",
            "d 4\n"
          ],
          "name": "stdout"
        }
      ]
    },
    {
      "cell_type": "code",
      "metadata": {
        "colab": {
          "base_uri": "https://localhost:8080/"
        },
        "id": "CpIoAxUnfCEd",
        "outputId": "3cf52b7f-6055-44d2-f15a-4f42df5ded28"
      },
      "source": [
        "# A Python program to demonstrate working of key  \r\n",
        "# value change in OrderedDict \r\n",
        "from collections import OrderedDict   \r\n",
        "  \r\n",
        "print(\"Before:\\n\") \r\n",
        "od = OrderedDict() \r\n",
        "od['a'] = 1\r\n",
        "od['b'] = 2\r\n",
        "od['c'] = 3\r\n",
        "od['d'] = 4\r\n",
        "for key, value in od.items(): \r\n",
        "    print(key, value) \r\n",
        "  \r\n",
        "print(\"\\nAfter:\\n\") \r\n",
        "od['c'] = 5\r\n",
        "for key, value in od.items(): \r\n",
        "    print(key, value) "
      ],
      "execution_count": null,
      "outputs": [
        {
          "output_type": "stream",
          "text": [
            "Before:\n",
            "\n",
            "a 1\n",
            "b 2\n",
            "c 3\n",
            "d 4\n",
            "\n",
            "After:\n",
            "\n",
            "a 1\n",
            "b 2\n",
            "c 5\n",
            "d 4\n"
          ],
          "name": "stdout"
        }
      ]
    },
    {
      "cell_type": "code",
      "metadata": {
        "colab": {
          "base_uri": "https://localhost:8080/"
        },
        "id": "2yfMXYZLfXLN",
        "outputId": "def9db78-c81a-41e6-bc38-06ab26dffc33"
      },
      "source": [
        "# A Python program to demonstrate working of deletion  \r\n",
        "# re-inserion in OrderedDict \r\n",
        "from collections import OrderedDict \r\n",
        "  \r\n",
        "print(\"Before deleting:\\n\") \r\n",
        "od = OrderedDict() \r\n",
        "od['a'] = 1\r\n",
        "od['b'] = 2\r\n",
        "od['c'] = 3\r\n",
        "od['d'] = 4\r\n",
        "  \r\n",
        "for key, value in od.items(): \r\n",
        "    print(key, value) \r\n",
        "  \r\n",
        "print(\"\\nAfter deleting:\\n\") \r\n",
        "od.pop('c') \r\n",
        "for key, value in od.items(): \r\n",
        "    print(key, value) \r\n",
        "  \r\n",
        "print(\"\\nAfter re-inserting:\\n\") \r\n",
        "od['c'] = 3\r\n",
        "for key, value in od.items(): \r\n",
        "    print(key, value) "
      ],
      "execution_count": null,
      "outputs": [
        {
          "output_type": "stream",
          "text": [
            "Before deleting:\n",
            "\n",
            "a 1\n",
            "b 2\n",
            "c 3\n",
            "d 4\n",
            "\n",
            "After deleting:\n",
            "\n",
            "a 1\n",
            "b 2\n",
            "d 4\n",
            "\n",
            "After re-inserting:\n",
            "\n",
            "a 1\n",
            "b 2\n",
            "d 4\n",
            "c 3\n"
          ],
          "name": "stdout"
        }
      ]
    },
    {
      "cell_type": "code",
      "metadata": {
        "colab": {
          "base_uri": "https://localhost:8080/"
        },
        "id": "iJYxmtpyjNNI",
        "outputId": "0c7d95f2-f0f7-425f-be8a-cdb9b10d7bb6"
      },
      "source": [
        "# ChainMap:Python contains a container called “ChainMap” which encapsulates many dictionaries into one unit. \r\n",
        "# importing collections for ChainMap operations \r\n",
        "import collections \r\n",
        "  \r\n",
        "# initializing dictionaries \r\n",
        "dic1 = { 'a' : 1, 'b' : 2 } \r\n",
        "dic2 = { 'b' : 3, 'c' : 4 } \r\n",
        "  \r\n",
        "# initializing ChainMap \r\n",
        "chain = collections.ChainMap(dic1, dic2) \r\n",
        "  \r\n",
        "# printing chainMap using maps \r\n",
        "print (\"All the ChainMap contents are : \") \r\n",
        "print (chain.maps) \r\n",
        "  \r\n",
        "# printing keys using keys() \r\n",
        "print (\"All keys of ChainMap are : \") \r\n",
        "print (list(chain.keys())) \r\n",
        "  \r\n",
        "# printing keys using keys() \r\n",
        "print (\"All values of ChainMap are : \") \r\n",
        "print (list(chain.values())) "
      ],
      "execution_count": null,
      "outputs": [
        {
          "output_type": "stream",
          "text": [
            "All the ChainMap contents are : \n",
            "[{'a': 1, 'b': 2}, {'b': 3, 'c': 4}]\n",
            "All keys of ChainMap are : \n",
            "['b', 'a', 'c']\n",
            "All values of ChainMap are : \n",
            "[2, 1, 4]\n"
          ],
          "name": "stdout"
        }
      ]
    },
    {
      "cell_type": "code",
      "metadata": {
        "colab": {
          "base_uri": "https://localhost:8080/"
        },
        "id": "ugx-ZGdHfTCD",
        "outputId": "c962a7ae-7d65-4347-8b73-38e5887a4bac"
      },
      "source": [
        "# new_child() :- This function adds a new dictionary in the beginning of the ChainMap\r\n",
        "print(chain.new_child({ 'f' : 5 }))\r\n",
        "\r\n",
        "print(reversed(chain.maps))"
      ],
      "execution_count": null,
      "outputs": [
        {
          "output_type": "stream",
          "text": [
            "ChainMap({'f': 5}, {'a': 1, 'b': 2}, {'b': 3, 'c': 4})\n",
            "<list_reverseiterator object at 0x7efd03fe5fd0>\n"
          ],
          "name": "stdout"
        }
      ]
    },
    {
      "cell_type": "markdown",
      "metadata": {
        "id": "j7faQBhJjJO3"
      },
      "source": [
        "### Class \r\n"
      ]
    },
    {
      "cell_type": "code",
      "metadata": {
        "colab": {
          "base_uri": "https://localhost:8080/"
        },
        "id": "16AYXyrXQuA4",
        "outputId": "024e5c26-cb85-46d7-eaf6-9865cee0bdbc"
      },
      "source": [
        "class Student:\r\n",
        "    def __init__(self):\r\n",
        "        self.name = \"Rolf\"\r\n",
        "        self.grades = (89, 90, 93, 78, 90)\r\n",
        "\r\n",
        "print(Student().name)\r\n",
        "print(Student().grades)"
      ],
      "execution_count": null,
      "outputs": [
        {
          "output_type": "stream",
          "text": [
            "Rolf\n",
            "(89, 90, 93, 78, 90)\n"
          ],
          "name": "stdout"
        }
      ]
    },
    {
      "cell_type": "code",
      "metadata": {
        "id": "439HML7P_Ekj",
        "colab": {
          "base_uri": "https://localhost:8080/"
        },
        "outputId": "d2648f53-66c6-40ae-81a6-3bf6de066157"
      },
      "source": [
        "student = {\"name\": \"Rolf\", \"grades\": (89, 90, 93, 78, 90)}\r\n",
        "\r\n",
        "def average(sequence):\r\n",
        "    return sum(sequence) / len(sequence)\r\n",
        "\r\n",
        "print(average(student[\"grades\"]))"
      ],
      "execution_count": null,
      "outputs": [
        {
          "output_type": "stream",
          "text": [
            "88.0\n"
          ],
          "name": "stdout"
        }
      ]
    },
    {
      "cell_type": "code",
      "metadata": {
        "colab": {
          "base_uri": "https://localhost:8080/"
        },
        "id": "7izNS43aSH-e",
        "outputId": "d1dbf89e-44e6-4b55-ad5a-165620f8c173"
      },
      "source": [
        "# But wouldn't it be nice if we could...\r\n",
        "# print(student.average()) ?\r\n",
        "\r\n",
        "class Student:\r\n",
        "    def __init__(self):\r\n",
        "        self.name = \"Rolf\"\r\n",
        "        self.grades = (89, 90, 93, 78, 90)\r\n",
        "\r\n",
        "    def average(self): #self is Student()\r\n",
        "        return sum(self.grades) / len(self.grades)\r\n",
        "\r\n",
        "student = Student()\r\n",
        "print(student.average())\r\n",
        "# Identical to Student.average(student)"
      ],
      "execution_count": null,
      "outputs": [
        {
          "output_type": "stream",
          "text": [
            "88.0\n"
          ],
          "name": "stdout"
        }
      ]
    },
    {
      "cell_type": "code",
      "metadata": {
        "colab": {
          "base_uri": "https://localhost:8080/"
        },
        "id": "_yuLFbxdSMSa",
        "outputId": "8ab43063-9cec-43ff-c1cb-840e610e87a1"
      },
      "source": [
        "# -- Parameters in __init__ --\r\n",
        "class Student:\r\n",
        "    def __init__(self, name, grades):\r\n",
        "        self.name = name\r\n",
        "        self.grades = grades\r\n",
        "\r\n",
        "    def average(self):\r\n",
        "        return sum(self.grades) / len(self.grades)\r\n",
        "\r\n",
        "\r\n",
        "student = Student(\"Bob\", (36, 67, 90, 100, 100))\r\n",
        "print(student.average())"
      ],
      "execution_count": null,
      "outputs": [
        {
          "output_type": "stream",
          "text": [
            "78.6\n"
          ],
          "name": "stdout"
        }
      ]
    },
    {
      "cell_type": "code",
      "metadata": {
        "colab": {
          "base_uri": "https://localhost:8080/"
        },
        "id": "v3QvMuD1SOos",
        "outputId": "231778c7-b730-40fe-9bb6-f3746e678e74"
      },
      "source": [
        "# -- Remember *args ? --\r\n",
        "class Student:\r\n",
        "    def __init__(self, name, *grades):\r\n",
        "        self.name = name\r\n",
        "        self.grades = grades\r\n",
        "\r\n",
        "    def average(self):\r\n",
        "        return sum(self.grades) / len(self.grades)\r\n",
        "\r\n",
        "\r\n",
        "student = Student(\"Bob\", 36, 67, 90, 100, 100)\r\n",
        "print(student.average())"
      ],
      "execution_count": null,
      "outputs": [
        {
          "output_type": "stream",
          "text": [
            "78.6\n"
          ],
          "name": "stdout"
        }
      ]
    },
    {
      "cell_type": "code",
      "metadata": {
        "id": "oJO578IWRuSC"
      },
      "source": [
        "# A function that lives inside a class is called a method.\r\n",
        "# So, methods are functions, but not all functions are methods.\r\n",
        "def average(sequence):\r\n",
        "    return sum(sequence) / len(sequence)\r\n",
        "\r\n",
        "class Student:\r\n",
        "    def __init__(self):  # method\r\n",
        "        self.name = \"Rolf\"\r\n",
        "        self.grades = (79, 90, 95, 99)\r\n",
        "    \r\n",
        "    def average(self):  # method\r\n",
        "        return sum(self.grades) / len(self.grades)  "
      ],
      "execution_count": null,
      "outputs": []
    },
    {
      "cell_type": "code",
      "metadata": {
        "colab": {
          "base_uri": "https://localhost:8080/"
        },
        "id": "ql0cR-iFR8cU",
        "outputId": "7b866caa-63c5-481d-ef7c-b80859d8a8a3"
      },
      "source": [
        "class Person:\r\n",
        "    def __init__(self, name, age):\r\n",
        "        self.name = name\r\n",
        "        self.age = age\r\n",
        "\r\n",
        "\r\n",
        "bob = Person(\"Bob\", 35)\r\n",
        "print(bob)  # Not the nicest thing to read!"
      ],
      "execution_count": null,
      "outputs": [
        {
          "output_type": "stream",
          "text": [
            "<__main__.Person object at 0x7efd037787f0>\n"
          ],
          "name": "stdout"
        }
      ]
    },
    {
      "cell_type": "code",
      "metadata": {
        "colab": {
          "base_uri": "https://localhost:8080/"
        },
        "id": "N4KuaSGKSgKT",
        "outputId": "230e6865-5538-4883-9b35-66e34f8e23ee"
      },
      "source": [
        "# -- __str__ --\r\n",
        "# The goal of __str__ is to return a nice, easy to read string for end users.\r\n",
        "class Person:\r\n",
        "    def __init__(self, name, age):\r\n",
        "        self.name = name\r\n",
        "        self.age = age\r\n",
        "\r\n",
        "    def __str__(self):\r\n",
        "        return f\"Person {self.name}, {self.age} years old\"\r\n",
        "\r\n",
        "\r\n",
        "bob = Person(\"Bob\", 35)\r\n",
        "print(bob)  # Much nicer"
      ],
      "execution_count": null,
      "outputs": [
        {
          "output_type": "stream",
          "text": [
            "Person Bob, 35 years old\n"
          ],
          "name": "stdout"
        }
      ]
    },
    {
      "cell_type": "code",
      "metadata": {
        "colab": {
          "base_uri": "https://localhost:8080/"
        },
        "id": "eiYqgejwSkNz",
        "outputId": "0fcbd64f-f011-4b41-813c-8f6612056280"
      },
      "source": [
        "# -- __repr__ --\r\n",
        "# The goal of __repr__ is to be unambiguous, and if possible what it outputs should allow us to re-create an identical object.\r\n",
        "class Person:\r\n",
        "    def __init__(self, name, age):\r\n",
        "        self.name = name\r\n",
        "        self.age = age\r\n",
        "\r\n",
        "    def __repr__(self):\r\n",
        "        # I'm adding the < > just so it's clear that this is an object we're printing out!\r\n",
        "        return (\r\n",
        "            f\"<Person({self.name!r}, {self.age})>\"\r\n",
        "        )  # !r calls the __repr__ method of the thing.\r\n",
        "\r\n",
        "\r\n",
        "bob = Person(\"Bob\", 35)\r\n",
        "print(bob)  # Not as nice, but we could re-create \"Bob\" very easily."
      ],
      "execution_count": null,
      "outputs": [
        {
          "output_type": "stream",
          "text": [
            "<Person('Bob', 35)>\n"
          ],
          "name": "stdout"
        }
      ]
    },
    {
      "cell_type": "code",
      "metadata": {
        "colab": {
          "base_uri": "https://localhost:8080/"
        },
        "id": "DVjxKeBHS4FU",
        "outputId": "ceed41ae-59db-4e30-bc4d-9fd2d011a88e"
      },
      "source": [
        "class ClassTest:\r\n",
        "    def instance_method(self):\r\n",
        "        print(f\"Called instance_method of {self}\")\r\n",
        "\r\n",
        "    @classmethod\r\n",
        "    def class_method(cls):\r\n",
        "        print(f\"Called class_method of {cls}\")\r\n",
        "\r\n",
        "    @staticmethod\r\n",
        "    def static_method():\r\n",
        "        print(f\"Called static_method. We don't get any object or class info here.\")\r\n",
        "\r\n",
        "\r\n",
        "instance = ClassTest()\r\n",
        "instance.instance_method()\r\n",
        "\r\n",
        "ClassTest.class_method()\r\n",
        "ClassTest.static_method()"
      ],
      "execution_count": null,
      "outputs": [
        {
          "output_type": "stream",
          "text": [
            "Called instance_method of <__main__.ClassTest object at 0x7efd03718940>\n",
            "Called class_method of <class '__main__.ClassTest'>\n",
            "Called static_method. We don't get any object or class info here.\n"
          ],
          "name": "stdout"
        }
      ]
    },
    {
      "cell_type": "code",
      "metadata": {
        "colab": {
          "base_uri": "https://localhost:8080/"
        },
        "id": "ci1ARYVlTAGP",
        "outputId": "55d41e7c-053f-45b4-f8eb-3403f36d674f"
      },
      "source": [
        "# -- What are they used for? --\r\n",
        "# Instance methods are used for most things. When you want to produce an action that uses the data stored in an object.\r\n",
        "# Static methods are used to just place a method inside a class because you feel it belongs there (i.e. for code organisation, mostly!)\r\n",
        "# Class methods are often used as factories.\r\n",
        "class Book:\r\n",
        "    TYPES = (\"hardcover\", \"paperback\")\r\n",
        "\r\n",
        "    def __init__(self, name, book_type, weight):\r\n",
        "        self.name = name\r\n",
        "        self.book_type = book_type\r\n",
        "        self.weight = weight\r\n",
        "\r\n",
        "    def __repr__(self):\r\n",
        "        return f\"<Book {self.name}, {self.book_type}, weighing {self.weight}g>\"\r\n",
        "\r\n",
        "    @classmethod\r\n",
        "    def hardcover(cls, name, page_weight):\r\n",
        "        return cls(name, cls.TYPES[0], page_weight + 100)\r\n",
        "\r\n",
        "    @classmethod\r\n",
        "    def paperback(cls, name, page_weight):\r\n",
        "        return cls(name, cls.TYPES[1], page_weight)\r\n",
        "\r\n",
        "\r\n",
        "heavy = Book.hardcover(\"Harry Potter\", 1500)\r\n",
        "light = Book.paperback(\"Python 101\", 600)\r\n",
        "\r\n",
        "print(heavy)\r\n",
        "print(light)"
      ],
      "execution_count": null,
      "outputs": [
        {
          "output_type": "stream",
          "text": [
            "<Book Harry Potter, hardcover, weighing 1600g>\n",
            "<Book Python 101, paperback, weighing 600g>\n"
          ],
          "name": "stdout"
        }
      ]
    },
    {
      "cell_type": "code",
      "metadata": {
        "id": "syn08A5bTM7B"
      },
      "source": [
        "class Device:\r\n",
        "    def __init__(self, name, connected_by):\r\n",
        "        self.name = name\r\n",
        "        self.connected_by = connected_by\r\n",
        "        self.connected = True\r\n",
        "\r\n",
        "    def __str__(self):\r\n",
        "        return f\"Device {self.name!r} ({self.connected_by})\"\r\n",
        "\r\n",
        "    def disconnect(self):\r\n",
        "        self.connected = False\r\n",
        "\r\n",
        "\r\n",
        "# printer = Device(\"Printer\", \"USB\")\r\n",
        "# print(printer)\r\n",
        "\r\n",
        "# We don't want to add printer-specific stuff to Device, so..."
      ],
      "execution_count": null,
      "outputs": []
    }
  ]
}