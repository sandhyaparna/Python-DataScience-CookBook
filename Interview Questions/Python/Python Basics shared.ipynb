{
 "cells": [
  {
   "cell_type": "markdown",
   "metadata": {},
   "source": [
    "# Copying in Immutable :\n"
   ]
  },
  {
   "cell_type": "markdown",
   "metadata": {},
   "source": [
    "# Immutable- No change happens under the same id"
   ]
  },
  {
   "cell_type": "markdown",
   "metadata": {},
   "source": [
    "In the below example; variable a,b are immutable. We can refer as immutable style of copying. "
   ]
  },
  {
   "cell_type": "markdown",
   "metadata": {},
   "source": [
    "Every time a new object is created, it will have a new memory address. Except when it is —\n",
    "1. a very short string\n",
    "2. an integer within [-5, 256]\n",
    "3. an empty immutable containers (e.g. tuples)"
   ]
  },
  {
   "cell_type": "code",
   "execution_count": 14,
   "metadata": {},
   "outputs": [
    {
     "data": {
      "text/plain": [
       "4543821232"
      ]
     },
     "execution_count": 14,
     "metadata": {},
     "output_type": "execute_result"
    }
   ],
   "source": [
    "a=10\n",
    "id(a)"
   ]
  },
  {
   "cell_type": "code",
   "execution_count": 15,
   "metadata": {},
   "outputs": [
    {
     "data": {
      "text/plain": [
       "4543821232"
      ]
     },
     "execution_count": 15,
     "metadata": {},
     "output_type": "execute_result"
    }
   ],
   "source": [
    "b=a\n",
    "id(b)"
   ]
  },
  {
   "cell_type": "code",
   "execution_count": 16,
   "metadata": {},
   "outputs": [
    {
     "name": "stdout",
     "output_type": "stream",
     "text": [
      "a 4543821072\n",
      "b 4543821232\n"
     ]
    }
   ],
   "source": [
    "a=5\n",
    "print('a',id(a))\n",
    "print('b',id(b))"
   ]
  },
  {
   "cell_type": "markdown",
   "metadata": {},
   "source": [
    "10 is stored in the same id as saved initially.  "
   ]
  },
  {
   "cell_type": "markdown",
   "metadata": {},
   "source": [
    "10 is immutable. That id will have 10 forever; it will not change (Immutable) . If the 'a' value changes, that will be stored in the new id. "
   ]
  },
  {
   "cell_type": "markdown",
   "metadata": {},
   "source": [
    "Where as in the list, if there is any change done; under the same id itself, the change happens. (Mutable)"
   ]
  },
  {
   "cell_type": "markdown",
   "metadata": {},
   "source": [
    "Mutablitity means change;  change happening under the same id.\n"
   ]
  },
  {
   "cell_type": "markdown",
   "metadata": {},
   "source": [
    "# Lists are mutable, strings are immutable "
   ]
  },
  {
   "cell_type": "markdown",
   "metadata": {},
   "source": [
    "# Python's Memory Management:"
   ]
  },
  {
   "cell_type": "markdown",
   "metadata": {},
   "source": [
    "Links\n",
    "\n",
    "1. http://foobarnbaz.com/2012/07/08/understanding-python-variables/\n",
    "2. https://towardsdatascience.com/assignment-shallow-or-deep-a-story-about-pythons-memory-management-b8fad87bfa6c\n",
    "\n",
    "Collections: https://towardsdatascience.com/pythons-collections-module-high-performance-container-data-types-cb4187afb5fc\n",
    "\n",
    "Mutable things have two type of copying things:\n",
    "1. Deep Copying\n",
    "2. Shallow Cpoying"
   ]
  },
  {
   "cell_type": "markdown",
   "metadata": {},
   "source": [
    "Shallow copy: New copied will have different id, but points to the same object\n",
    "\n",
    "Deep copy: New copied will have different id and also different object gets created \n",
    "\n",
    "https://www.geeksforgeeks.org/copy-python-deep-copy-shallow-copy/"
   ]
  },
  {
   "cell_type": "markdown",
   "metadata": {},
   "source": [
    "The difference between shallow and deep copying is only relevant for compound objects (objects that contain other objects, like lists or class instances):\n",
    "- A shallow copy constructs a new compound object and then (to the extent possible) inserts references into it to the objects found in the original.\n",
    "- A deep copy constructs a new compound object and then, recursively, inserts copies into it of the objects found in the original."
   ]
  },
  {
   "cell_type": "markdown",
   "metadata": {},
   "source": [
    "# Normal Copying, Deep Copying & Shallow Copying"
   ]
  },
  {
   "cell_type": "code",
   "execution_count": 76,
   "metadata": {},
   "outputs": [
    {
     "name": "stdout",
     "output_type": "stream",
     "text": [
      "a: 4607105376 ele: 4543820944 4607452736 4543821008\n",
      "b: 4607105376 ele: 4543820944 4607452736 4543821008\n",
      "c: 4607104496 ele: 4543820944 4607452736 4543821008\n",
      "d: 4607176288 ele: 4543820944 4607397792 4543821008\n",
      "[1, [10, 11, 20], 3]\n",
      "[1, [10, 11, 20], 3]\n",
      "[1, [10, 11, 20], 3]\n",
      "[1, [10, 11], 3]\n",
      "a: 4607105376 ele: 4543820944 4607452736 4543821008\n",
      "b: 4607105376 ele: 4543820944 4607452736 4543821008\n",
      "c: 4607104496 ele: 4543820944 4607452736 4543821008\n",
      "d: 4607176288 ele: 4543820944 4607397792 4543821008\n"
     ]
    }
   ],
   "source": [
    "a = [1,[10,11],3]\n",
    "b=a\n",
    "c = copy.copy(a)\n",
    "d = copy.deepcopy(a)\n",
    "print(\"a:\",id(a),\"ele:\",id(a[0]),id(a[1]),id(a[2]))\n",
    "print(\"b:\",id(b),\"ele:\",id(b[0]),id(b[1]),id(b[2]))\n",
    "print(\"c:\",id(c),\"ele:\",id(c[0]),id(c[1]),id(c[2]))\n",
    "print(\"d:\",id(d),\"ele:\",id(d[0]),id(d[1]),id(d[2]))\n",
    "a[1].append(20)\n",
    "print(a)\n",
    "print(b)\n",
    "print(c)\n",
    "print(d)\n",
    "print(\"a:\",id(a),\"ele:\",id(a[0]),id(a[1]),id(a[2]))\n",
    "print(\"b:\",id(b),\"ele:\",id(b[0]),id(b[1]),id(b[2]))\n",
    "print(\"c:\",id(c),\"ele:\",id(c[0]),id(c[1]),id(c[2]))\n",
    "print(\"d:\",id(d),\"ele:\",id(d[0]),id(d[1]),id(d[2]))"
   ]
  },
  {
   "cell_type": "markdown",
   "metadata": {},
   "source": [
    "# Why create a shallow copy of a list?"
   ]
  },
  {
   "cell_type": "markdown",
   "metadata": {},
   "source": [
    "By normal copying if we change anything in b, also changes in a. So\n",
    "inorder to avoid that we do shallow copying."
   ]
  },
  {
   "cell_type": "code",
   "execution_count": 69,
   "metadata": {},
   "outputs": [
    {
     "name": "stdout",
     "output_type": "stream",
     "text": [
      "['chuck norris', 'bruce lee']\n",
      "['chuck norris', 'bruce lee']\n"
     ]
    }
   ],
   "source": [
    "round1 = ['chuck norris', 'bruce lee', 'sonny chiba']\n",
    "round2 = round1\n",
    "round2.remove('sonny chiba')\n",
    "print(round1) \n",
    "print(round2)"
   ]
  },
  {
   "cell_type": "code",
   "execution_count": 70,
   "metadata": {},
   "outputs": [
    {
     "name": "stdout",
     "output_type": "stream",
     "text": [
      "['chuck norris', 'bruce lee', 'sonny chiba']\n",
      "['chuck norris', 'bruce lee']\n"
     ]
    }
   ],
   "source": [
    "round1 = ['chuck norris', 'bruce lee', 'sonny chiba']\n",
    "round3= round1.copy()\n",
    "round3.remove('sonny chiba')\n",
    "print(round1) \n",
    "print(round3)"
   ]
  },
  {
   "cell_type": "markdown",
   "metadata": {},
   "source": [
    "# Do python lists store values or pointers?"
   ]
  },
  {
   "cell_type": "markdown",
   "metadata": {},
   "source": [
    "1. Python lists don't store any values themselves. They store pointers to the values stored elsewhere in memory. \n",
    "2. This allows lists to be mutable."
   ]
  },
  {
   "cell_type": "code",
   "execution_count": 20,
   "metadata": {},
   "outputs": [
    {
     "name": "stdout",
     "output_type": "stream",
     "text": [
      "4543820944\n"
     ]
    }
   ],
   "source": [
    "print(id(1))"
   ]
  },
  {
   "cell_type": "code",
   "execution_count": 21,
   "metadata": {},
   "outputs": [
    {
     "name": "stdout",
     "output_type": "stream",
     "text": [
      "4543820976\n"
     ]
    }
   ],
   "source": [
    "print(id(2))"
   ]
  },
  {
   "cell_type": "code",
   "execution_count": 23,
   "metadata": {},
   "outputs": [
    {
     "name": "stdout",
     "output_type": "stream",
     "text": [
      "4585367904\n"
     ]
    }
   ],
   "source": [
    "a=[1,2,3]\n",
    "print(id(a))"
   ]
  },
  {
   "cell_type": "code",
   "execution_count": 24,
   "metadata": {},
   "outputs": [
    {
     "name": "stdout",
     "output_type": "stream",
     "text": [
      "4543820944\n"
     ]
    }
   ],
   "source": [
    "print(id(a[0]))"
   ]
  },
  {
   "cell_type": "code",
   "execution_count": 25,
   "metadata": {},
   "outputs": [
    {
     "name": "stdout",
     "output_type": "stream",
     "text": [
      "4543820976\n"
     ]
    }
   ],
   "source": [
    "print(id(a[1]))"
   ]
  },
  {
   "cell_type": "markdown",
   "metadata": {},
   "source": [
    "So, if we add any new element in the list, the id of the new element (pointer)\n",
    "will add to the existing list. Thats why list is mutable. "
   ]
  },
  {
   "cell_type": "markdown",
   "metadata": {
    "collapsed": true
   },
   "source": [
    "# Difference between List and Tuple:"
   ]
  },
  {
   "cell_type": "markdown",
   "metadata": {},
   "source": [
    "1. Lists are mutable objects which means you can modify a list object after it has been created.\n",
    "\n",
    "2. Tuples, on the other hand, are immutable objects which means you can’t modify a tuple object after it’s been created.\n",
    "\n",
    "https://www.afternerd.com/blog/difference-between-list-tuple/\n",
    "\n",
    "Tuple is more memory efficient"
   ]
  },
  {
   "cell_type": "code",
   "execution_count": 20,
   "metadata": {},
   "outputs": [
    {
     "name": "stdout",
     "output_type": "stream",
     "text": [
      "4433299696\n",
      "4433299696\n"
     ]
    }
   ],
   "source": [
    "e=(1,2,3,4)\n",
    "print(id(e))\n",
    "f=e\n",
    "print(id(f))"
   ]
  },
  {
   "cell_type": "code",
   "execution_count": 21,
   "metadata": {},
   "outputs": [],
   "source": [
    "#e[0]=10\n",
    "#print(e,id(e))\n",
    "#print(f,id(f))"
   ]
  },
  {
   "cell_type": "markdown",
   "metadata": {},
   "source": [
    "# Numpy array and List: "
   ]
  },
  {
   "cell_type": "markdown",
   "metadata": {},
   "source": [
    "1. Numpy array provides fast and efficient operations on arrays of homogeneous data.\n",
    "2. Numpy array does element wise operations. List doesnot have this property. That's why we convert df columns into numpy arrays and do differences, sums.\n",
    "3. Elements of an array are stored contiguous in memory. All rows in an array should have same number of columns.   \n",
    "Where as list is not( list of list).\n",
    "4. Python list is by default 1 dimensional. But we can create an N-Dimensional list. But then too it will be 1 D list storing another 1D list. "
   ]
  },
  {
   "cell_type": "markdown",
   "metadata": {},
   "source": [
    "https://www.geeksforgeeks.org/python-lists-vs-numpy-arrays/"
   ]
  },
  {
   "cell_type": "markdown",
   "metadata": {},
   "source": [
    "Advantages of using Numpy Arrays Over Python Lists:\n",
    "\n",
    "1. consumes less memory.\n",
    "2. fast as compared to the python List.\n",
    "3. convenient to use."
   ]
  },
  {
   "cell_type": "markdown",
   "metadata": {},
   "source": [
    "# Element wise operation in numpy "
   ]
  },
  {
   "cell_type": "code",
   "execution_count": 13,
   "metadata": {},
   "outputs": [
    {
     "name": "stdout",
     "output_type": "stream",
     "text": [
      "[5 7 9]\n"
     ]
    }
   ],
   "source": [
    "import numpy as np\n",
    "a=np.array([1,2,3])\n",
    "b=np.array([4,5,6])\n",
    "print(a+b)"
   ]
  },
  {
   "cell_type": "markdown",
   "metadata": {},
   "source": [
    "# Element wise operation not performed in list \n"
   ]
  },
  {
   "cell_type": "code",
   "execution_count": 15,
   "metadata": {},
   "outputs": [
    {
     "data": {
      "text/plain": [
       "[1, 2, 3, 4, 5, 5]"
      ]
     },
     "execution_count": 15,
     "metadata": {},
     "output_type": "execute_result"
    }
   ],
   "source": [
    "l1=[1,2,3]\n",
    "l2=[4,5,5]\n",
    "l1+l2"
   ]
  },
  {
   "cell_type": "markdown",
   "metadata": {},
   "source": [
    "# Numpy Array"
   ]
  },
  {
   "cell_type": "markdown",
   "metadata": {},
   "source": [
    "https://likegeeks.com/numpy-array-tutorial/"
   ]
  },
  {
   "cell_type": "code",
   "execution_count": 43,
   "metadata": {},
   "outputs": [
    {
     "name": "stdout",
     "output_type": "stream",
     "text": [
      "[1 2 3]\n"
     ]
    }
   ],
   "source": [
    "import numpy\n",
    "a=numpy.array([1,2,3])\n",
    "print(a)"
   ]
  },
  {
   "cell_type": "code",
   "execution_count": 48,
   "metadata": {},
   "outputs": [
    {
     "name": "stdout",
     "output_type": "stream",
     "text": [
      "[ 1  2  3 10 11 12]\n",
      "[1 2 3]\n"
     ]
    }
   ],
   "source": [
    "a_1=numpy.append(a,[10,11,12])\n",
    "print(a_1)\n",
    "print(a)"
   ]
  },
  {
   "cell_type": "code",
   "execution_count": 58,
   "metadata": {},
   "outputs": [
    {
     "name": "stdout",
     "output_type": "stream",
     "text": [
      "[[ 1  2  3 10]\n",
      " [ 4  5  6 11]]\n"
     ]
    }
   ],
   "source": [
    "b_1=numpy.array([[1,2,3],[4,5,6]])\n",
    "b=numpy.array([[10],[11]])\n",
    "a_2=numpy.append(b_1,b,axis=1)\n",
    "\n",
    "print(a_2)"
   ]
  },
  {
   "cell_type": "markdown",
   "metadata": {},
   "source": [
    "# Hash Map"
   ]
  },
  {
   "cell_type": "markdown",
   "metadata": {},
   "source": [
    "This is similar to an object in JavaScript and a dictionary in Python language. \n",
    "\n",
    "In this type of data structure, you give the hash map a word or a key and it retrieves the definition or the value for you. \n",
    "\n",
    "Under the hood it works a lot like an array. The key gets run through the function called the “hashing function” that spills out the memory location for you.\n",
    "\n",
    "The way it’s different is that these memory locations need not be next to each other, rather can be anywhere. Therefore, there’s no issue with the increase in size.\n",
    "\n",
    "However, there is a different problem — depending on the hashing algorithm you use, two keys could hash to the same memory location. \n",
    "\n",
    "This is what’s known as a “collision” and there are multiple ways to resolve them but again, it’s all happening under the hood."
   ]
  },
  {
   "cell_type": "markdown",
   "metadata": {},
   "source": [
    "Search in Hash Maps is O(1). [Dictionary, sets]"
   ]
  },
  {
   "cell_type": "markdown",
   "metadata": {},
   "source": [
    "https://towardsdatascience.com/data-structures-simplified-and-classified-e0c1e304436b"
   ]
  },
  {
   "cell_type": "markdown",
   "metadata": {},
   "source": [
    "# Dictionary"
   ]
  },
  {
   "cell_type": "markdown",
   "metadata": {},
   "source": [
    "Keys are immutable, but the dictionary is mutable"
   ]
  },
  {
   "cell_type": "markdown",
   "metadata": {},
   "source": [
    "Why keys cannot have list, but can be tuple, int, str?\n",
    "As the dictionary keys are immutable, it cannot have mutable things. "
   ]
  },
  {
   "cell_type": "markdown",
   "metadata": {},
   "source": [
    "# Lambda"
   ]
  },
  {
   "cell_type": "markdown",
   "metadata": {},
   "source": [
    "Lambda function is inline fucntion.\n",
    "\n",
    "This function can have any number of arguments but only one expression, which is evaluated and returned."
   ]
  },
  {
   "cell_type": "markdown",
   "metadata": {},
   "source": [
    "Conceptually the lambda expression lambda x, y: x + y is the same as declaring a function with def, just written inline. The difference is I didn’t bind it to a name like add before I used it.\n",
    "\n",
    "\n",
    "I simply stated the expression I wanted to compute and then immediately evaluated it by calling it like a regular function."
   ]
  },
  {
   "cell_type": "markdown",
   "metadata": {},
   "source": [
    "Lambda definition does not include a “return” statement, it always contains an expression which is returned. \n",
    "We can also put a lambda definition anywhere a function is expected, and we don’t have to assign it to a variable at all. \n",
    "This is the simplicity of lambda functions."
   ]
  },
  {
   "cell_type": "markdown",
   "metadata": {},
   "source": [
    "Filter, Map, Reduce using Lambda"
   ]
  },
  {
   "cell_type": "markdown",
   "metadata": {},
   "source": [
    "# Map does only for single objects"
   ]
  },
  {
   "cell_type": "code",
   "execution_count": 13,
   "metadata": {},
   "outputs": [
    {
     "name": "stdout",
     "output_type": "stream",
     "text": [
      "[1, 4, 9, 16]\n"
     ]
    }
   ],
   "source": [
    "list_ = [1,2,3,4]\n",
    "print([x**2 for x in list_]) \n",
    "#this actually loads the complete list intiially and then iterates over"
   ]
  },
  {
   "cell_type": "code",
   "execution_count": 14,
   "metadata": {},
   "outputs": [
    {
     "name": "stdout",
     "output_type": "stream",
     "text": [
      "[1, 4, 9, 16]\n"
     ]
    }
   ],
   "source": [
    "print(list(map(lambda x : x**2 , list_)))\n",
    "#this function takes one at a time, and performs the action. Memory efficient\n"
   ]
  },
  {
   "cell_type": "markdown",
   "metadata": {},
   "source": [
    "# Reduce "
   ]
  },
  {
   "cell_type": "markdown",
   "metadata": {},
   "source": [
    "Given a function, reduce iterates over a sequence and calls the function on every element. \n",
    "The output from the previous element is passed as an argument when calling the function on the next element."
   ]
  },
  {
   "cell_type": "code",
   "execution_count": 81,
   "metadata": {},
   "outputs": [
    {
     "name": "stdout",
     "output_type": "stream",
     "text": [
      "10\n"
     ]
    }
   ],
   "source": [
    "import functools\n",
    "list_ = [1,2,3,4]\n",
    "#print([x**2 for x in list_])\n",
    "#this actually loads the complete list intiially and then iterates over\n",
    "#print(list(map(lambda x : x**2 , list_)))\n",
    "print(functools.reduce(lambda x,y : x+y, list_))\n",
    "#this takes two a time, and then calculates#memory efficient\n",
    "\n",
    "#takes sum_ and the next element\n",
    "def reduce_fn(list_):\n",
    "    sum_ = 0\n",
    "    for i in range(len(list_)):\n",
    "        sum_ = sum_ + a[i]\n",
    "    print(sum_) "
   ]
  },
  {
   "cell_type": "markdown",
   "metadata": {},
   "source": [
    "# Filter"
   ]
  },
  {
   "cell_type": "code",
   "execution_count": 17,
   "metadata": {},
   "outputs": [
    {
     "name": "stdout",
     "output_type": "stream",
     "text": [
      "[1, 3]\n"
     ]
    }
   ],
   "source": [
    "list_=[1,2,3,4]\n",
    "final_list = list(filter(lambda x: (x%2 != 0) , list_)) \n",
    "\n",
    "print(final_list)"
   ]
  },
  {
   "cell_type": "markdown",
   "metadata": {},
   "source": [
    "#Iterator and generators\n",
    "\n",
    "https://www.programiz.com/python-programming/iterator\n",
    "https://www.programiz.com/python-programming/generator\n",
    "https://www.youtube.com/watch?v=bD05uGo_sVI"
   ]
  },
  {
   "cell_type": "code",
   "execution_count": 74,
   "metadata": {},
   "outputs": [],
   "source": [
    "def gen_(list):\n",
    "    my_iter = iter(list)\n",
    "    #print(my_iter)\n",
    "    yield next(my_iter)\n",
    "    yield next(my_iter)\n",
    "    yield next(my_iter)\n",
    "    yield next(my_iter)"
   ]
  },
  {
   "cell_type": "code",
   "execution_count": 75,
   "metadata": {},
   "outputs": [
    {
     "name": "stdout",
     "output_type": "stream",
     "text": [
      "<generator object gen_ at 0x108010c50>\n"
     ]
    }
   ],
   "source": [
    "print(gen_([1,2,3,4]))"
   ]
  },
  {
   "cell_type": "code",
   "execution_count": 76,
   "metadata": {},
   "outputs": [
    {
     "name": "stdout",
     "output_type": "stream",
     "text": [
      "1\n",
      "2\n",
      "3\n",
      "4\n"
     ]
    }
   ],
   "source": [
    "for item in gen_([1,2,3,4]):\n",
    "    print(item)"
   ]
  },
  {
   "cell_type": "code",
   "execution_count": 82,
   "metadata": {},
   "outputs": [],
   "source": [
    "def iter_(list):\n",
    "    my_iter = iter(list)\n",
    "    #print(my_iter)\n",
    "    return next(my_iter)\n",
    "    return next(my_iter)\n",
    "    return next(my_iter)\n",
    "    return next(my_iter)"
   ]
  },
  {
   "cell_type": "code",
   "execution_count": 83,
   "metadata": {},
   "outputs": [
    {
     "data": {
      "text/plain": [
       "1"
      ]
     },
     "execution_count": 83,
     "metadata": {},
     "output_type": "execute_result"
    }
   ],
   "source": [
    "iter_([1,2,3,4])"
   ]
  },
  {
   "cell_type": "code",
   "execution_count": 87,
   "metadata": {},
   "outputs": [],
   "source": [
    "def iter_list_(list):\n",
    "    my_iter = iter(list)\n",
    "    i_l=[]\n",
    "    for i in range(len(list)):\n",
    "        i_l.append(next(my_iter))\n",
    "    return i_l        \n",
    "    "
   ]
  },
  {
   "cell_type": "code",
   "execution_count": 88,
   "metadata": {},
   "outputs": [
    {
     "data": {
      "text/plain": [
       "[1, 2, 3, 4]"
      ]
     },
     "execution_count": 88,
     "metadata": {},
     "output_type": "execute_result"
    }
   ],
   "source": [
    "iter_list_([1,2,3,4])"
   ]
  },
  {
   "cell_type": "markdown",
   "metadata": {},
   "source": [
    "# Decorators"
   ]
  },
  {
   "cell_type": "markdown",
   "metadata": {},
   "source": [
    "A function that takes another another funct as an arg, adds some kind of functionality and then return another function without changng\n",
    "rhe soure functionality"
   ]
  },
  {
   "cell_type": "markdown",
   "metadata": {},
   "source": [
    "# List Items "
   ]
  },
  {
   "cell_type": "markdown",
   "metadata": {},
   "source": [
    "1. Checking a list containing an element "
   ]
  },
  {
   "cell_type": "code",
   "execution_count": 2,
   "metadata": {},
   "outputs": [],
   "source": [
    "li=[1,2,3,'a','b','c']"
   ]
  },
  {
   "cell_type": "code",
   "execution_count": 3,
   "metadata": {},
   "outputs": [
    {
     "data": {
      "text/plain": [
       "True"
      ]
     },
     "execution_count": 3,
     "metadata": {},
     "output_type": "execute_result"
    }
   ],
   "source": [
    "'a' in li"
   ]
  },
  {
   "cell_type": "markdown",
   "metadata": {},
   "source": [
    "2. Iterating over multiple lists at same time: "
   ]
  },
  {
   "cell_type": "code",
   "execution_count": 4,
   "metadata": {},
   "outputs": [],
   "source": [
    "name = ['Snowball', 'Chewy', 'Bubbles', 'Gruff']\n",
    "animal = ['Cat', 'Dog', 'Fish', 'Goat']\n",
    "age = [1, 2, 2, 6]"
   ]
  },
  {
   "cell_type": "code",
   "execution_count": 5,
   "metadata": {},
   "outputs": [
    {
     "name": "stdout",
     "output_type": "stream",
     "text": [
      "Snowball likes Cat at 1 age\n",
      "Chewy likes Dog at 2 age\n",
      "Bubbles likes Fish at 2 age\n",
      "Gruff likes Goat at 6 age\n"
     ]
    }
   ],
   "source": [
    "for a,b,c in zip(name,animal,age):\n",
    "    print(\"%s likes %s at %s age\"%(a,b,c))"
   ]
  },
  {
   "cell_type": "code",
   "execution_count": 77,
   "metadata": {},
   "outputs": [
    {
     "data": {
      "text/plain": [
       "[('a', 1), ('b', 2), ('c', 3)]"
      ]
     },
     "execution_count": 77,
     "metadata": {},
     "output_type": "execute_result"
    }
   ],
   "source": [
    "alphabet = ['a', 'b', 'c']\n",
    "integers = [1, 2, 3]\n",
    "list(zip(alphabet, integers))"
   ]
  },
  {
   "cell_type": "markdown",
   "metadata": {},
   "source": [
    "3. Append & Extend"
   ]
  },
  {
   "cell_type": "code",
   "execution_count": 18,
   "metadata": {},
   "outputs": [
    {
     "name": "stdout",
     "output_type": "stream",
     "text": [
      "a [1, 2, 3, 4, [5, 6]]\n",
      "b [1, 2, 3, 4, 5, 6]\n"
     ]
    }
   ],
   "source": [
    "a=[1,2,3,4]\n",
    "b=[1,2,3,4]\n",
    "a.append([5,6])\n",
    "print(\"a\",a)\n",
    "b.extend([5,6])\n",
    "print(\"b\",b)\n"
   ]
  },
  {
   "cell_type": "markdown",
   "metadata": {},
   "source": [
    "4. Delete, Remove and pop"
   ]
  },
  {
   "cell_type": "markdown",
   "metadata": {},
   "source": [
    "1.  Delete an element in the list by index\n",
    "2. .remove() removes the first instance of a matching object. \n",
    "3. .pop() removes an object by its index.\n",
    "4. By default, pop removes the last element from a list if an index isn’t specified."
   ]
  },
  {
   "cell_type": "code",
   "execution_count": 56,
   "metadata": {},
   "outputs": [
    {
     "name": "stdout",
     "output_type": "stream",
     "text": [
      "['w', 'y', 'z']\n",
      "['z']\n"
     ]
    }
   ],
   "source": [
    "a=['w', 'x', 'y', 'z']\n",
    "del a[1]\n",
    "print(a)\n",
    "del a[:2]\n",
    "print(a)"
   ]
  },
  {
   "cell_type": "markdown",
   "metadata": {},
   "source": [
    "a = ['a', 'a', 'b', 'b', 'c', 'c']"
   ]
  },
  {
   "cell_type": "code",
   "execution_count": 45,
   "metadata": {},
   "outputs": [
    {
     "data": {
      "text/plain": [
       "['a', 'a', 'b', 'c', 'c']"
      ]
     },
     "execution_count": 45,
     "metadata": {},
     "output_type": "execute_result"
    }
   ],
   "source": [
    "a.remove('b')\n",
    "a"
   ]
  },
  {
   "cell_type": "code",
   "execution_count": 46,
   "metadata": {},
   "outputs": [
    {
     "data": {
      "text/plain": [
       "'a'"
      ]
     },
     "execution_count": 46,
     "metadata": {},
     "output_type": "execute_result"
    }
   ],
   "source": [
    "a.pop(1)"
   ]
  },
  {
   "cell_type": "code",
   "execution_count": 47,
   "metadata": {},
   "outputs": [
    {
     "data": {
      "text/plain": [
       "['a', 'b', 'c', 'c']"
      ]
     },
     "execution_count": 47,
     "metadata": {},
     "output_type": "execute_result"
    }
   ],
   "source": [
    "a"
   ]
  },
  {
   "cell_type": "markdown",
   "metadata": {},
   "source": [
    "5. Removing duplicate elements in a list"
   ]
  },
  {
   "cell_type": "code",
   "execution_count": 49,
   "metadata": {},
   "outputs": [
    {
     "data": {
      "text/plain": [
       "[1, 2, 3, 4, 5, 7]"
      ]
     },
     "execution_count": 49,
     "metadata": {},
     "output_type": "execute_result"
    }
   ],
   "source": [
    "li=[1,3,3,4,5,2,7,7]\n",
    "list(set(li))"
   ]
  },
  {
   "cell_type": "markdown",
   "metadata": {},
   "source": [
    "6. Find the index of the 1st matching element"
   ]
  },
  {
   "cell_type": "code",
   "execution_count": 51,
   "metadata": {},
   "outputs": [
    {
     "name": "stdout",
     "output_type": "stream",
     "text": [
      "0\n",
      "1\n"
     ]
    }
   ],
   "source": [
    "fruit=['pear', 'orange', 'apple', 'grapefruit', 'apple', 'pear']\n",
    "print(fruit.index('pear'))\n",
    "print(fruit.index('orange'))"
   ]
  },
  {
   "cell_type": "markdown",
   "metadata": {},
   "source": [
    "7. Remove all elements from a list"
   ]
  },
  {
   "cell_type": "code",
   "execution_count": 52,
   "metadata": {},
   "outputs": [
    {
     "name": "stdout",
     "output_type": "stream",
     "text": [
      "4584314912\n"
     ]
    }
   ],
   "source": [
    "fruit = ['pear', 'orange', 'apple']\n",
    "print(id(fruit))"
   ]
  },
  {
   "cell_type": "code",
   "execution_count": 55,
   "metadata": {},
   "outputs": [
    {
     "name": "stdout",
     "output_type": "stream",
     "text": [
      "[]\n",
      "4584314912\n"
     ]
    }
   ],
   "source": [
    "fruit.clear()\n",
    "print(fruit)\n",
    "print(id(fruit))\n"
   ]
  },
  {
   "cell_type": "markdown",
   "metadata": {},
   "source": [
    "8. Iterate over both the values in a list and their indices"
   ]
  },
  {
   "cell_type": "code",
   "execution_count": 57,
   "metadata": {},
   "outputs": [],
   "source": [
    "grocery_list = ['flour','cheese','carrots']\n"
   ]
  },
  {
   "cell_type": "code",
   "execution_count": 58,
   "metadata": {},
   "outputs": [
    {
     "name": "stdout",
     "output_type": "stream",
     "text": [
      "0 in flour\n",
      "1 in cheese\n",
      "2 in carrots\n"
     ]
    }
   ],
   "source": [
    "for i,v in enumerate(grocery_list):\n",
    "    print(\"%s in %s\"%(i,v))"
   ]
  },
  {
   "cell_type": "markdown",
   "metadata": {},
   "source": [
    "9. Count the occurrence of a specific object in a list"
   ]
  },
  {
   "cell_type": "code",
   "execution_count": 62,
   "metadata": {},
   "outputs": [
    {
     "data": {
      "text/plain": [
       "2"
      ]
     },
     "execution_count": 62,
     "metadata": {},
     "output_type": "execute_result"
    }
   ],
   "source": [
    "pets = ['dog','cat','fish','fish','cat']\n",
    "pets.count('fish')"
   ]
  },
  {
   "cell_type": "markdown",
   "metadata": {},
   "source": [
    "10. Insert a value at specific index in an existing list"
   ]
  },
  {
   "cell_type": "code",
   "execution_count": 80,
   "metadata": {},
   "outputs": [
    {
     "data": {
      "text/plain": [
       "['a', 'b', 'HERE', 'c', 'd', 'e']"
      ]
     },
     "execution_count": 80,
     "metadata": {},
     "output_type": "execute_result"
    }
   ],
   "source": [
    "li = ['a','b','c','d','e']\n",
    "li.insert(2, 'HERE')\n",
    "li"
   ]
  },
  {
   "cell_type": "markdown",
   "metadata": {},
   "source": [
    "11. List to Dictionaries using counter"
   ]
  },
  {
   "cell_type": "code",
   "execution_count": 82,
   "metadata": {},
   "outputs": [
    {
     "data": {
      "text/plain": [
       "Counter({'blue': 1, 'pink': 2, 'green': 2, 'yellow': 1, 'orange': 1})"
      ]
     },
     "execution_count": 82,
     "metadata": {},
     "output_type": "execute_result"
    }
   ],
   "source": [
    "from collections import Counter\n",
    "li = ['blue', 'pink', 'green', 'green', 'yellow', 'pink', 'orange']\n",
    "Counter(li)"
   ]
  },
  {
   "cell_type": "markdown",
   "metadata": {},
   "source": [
    "12. Sort and Sorted"
   ]
  },
  {
   "cell_type": "markdown",
   "metadata": {},
   "source": [
    "i) sort() modifies the list in place. \n",
    "\n",
    "ii) sorted() returns a new list in reverse order."
   ]
  },
  {
   "cell_type": "markdown",
   "metadata": {},
   "source": [
    "13. List as Stack \n",
    "\n",
    "Stack - LIFO"
   ]
  },
  {
   "cell_type": "code",
   "execution_count": 91,
   "metadata": {},
   "outputs": [
    {
     "name": "stdout",
     "output_type": "stream",
     "text": [
      "['Jess', 'Todd', 'Yuan']\n",
      "Yuan\n",
      "['Jess', 'Todd']\n"
     ]
    }
   ],
   "source": [
    "stack = []\n",
    "stack.append('Jess')\n",
    "stack.append('Todd')\n",
    "stack.append('Yuan')\n",
    "print(stack) ss\n",
    "print(stack.pop()) #=> Yuan\n",
    "print(stack) "
   ]
  },
  {
   "cell_type": "markdown",
   "metadata": {},
   "source": [
    "One benefit of a stack is that elements can be added and removed in O(1) time \n",
    "because the list does not need to be iterated over."
   ]
  },
  {
   "cell_type": "code",
   "execution_count": null,
   "metadata": {},
   "outputs": [],
   "source": []
  }
 ],
 "metadata": {
  "kernelspec": {
   "display_name": "Python 3",
   "language": "python",
   "name": "python3"
  },
  "language_info": {
   "codemirror_mode": {
    "name": "ipython",
    "version": 3
   },
   "file_extension": ".py",
   "mimetype": "text/x-python",
   "name": "python",
   "nbconvert_exporter": "python",
   "pygments_lexer": "ipython3",
   "version": "3.7.4"
  }
 },
 "nbformat": 4,
 "nbformat_minor": 2
}
