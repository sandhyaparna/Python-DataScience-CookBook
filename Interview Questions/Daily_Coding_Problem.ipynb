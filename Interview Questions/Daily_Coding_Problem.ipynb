{
  "nbformat": 4,
  "nbformat_minor": 0,
  "metadata": {
    "colab": {
      "name": "Daily Coding Problem.ipynb",
      "provenance": [],
      "authorship_tag": "ABX9TyP68kvZyVaR39v59o/3KQK3",
      "include_colab_link": true
    },
    "kernelspec": {
      "name": "python3",
      "display_name": "Python 3"
    }
  },
  "cells": [
    {
      "cell_type": "markdown",
      "metadata": {
        "id": "view-in-github",
        "colab_type": "text"
      },
      "source": [
        "<a href=\"https://colab.research.google.com/github/sandhyaparna/Python-DataScience-CookBook/blob/master/Interview%20Questions/Daily_Coding_Problem.ipynb\" target=\"_parent\"><img src=\"https://colab.research.google.com/assets/colab-badge.svg\" alt=\"Open In Colab\"/></a>"
      ]
    },
    {
      "cell_type": "code",
      "metadata": {
        "id": "hDYaos3pjqI9",
        "colab": {
          "base_uri": "https://localhost:8080/"
        },
        "outputId": "dc7db42f-4e86-401c-b913-34200b3ee2e4"
      },
      "source": [
        "# Given a list of numbers and a number k, return whether any two numbers from the list add up to k.\r\n",
        "# For example, given [10, 15, 3, 7] and k of 17, return true since 10 + 7 is 17.\r\n",
        "# Bonus: Can you do this in one pass?\r\n",
        "\r\n",
        "# k is the final number. for i in arr, subtract i from k and check if k-i is in the remaining part of the arr or not.\r\n",
        "k=17\r\n",
        "arr = [15,  10, 3, 7]\r\n",
        "arr_outcome = False\r\n",
        "for i in range(len(arr)-1):\r\n",
        "  if k-arr[i] in arr[i+1:]:\r\n",
        "    arr_outcome=True\r\n",
        "    break\r\n",
        "  else:\r\n",
        "    arr_outcome=False\r\n",
        "print(arr_outcome)"
      ],
      "execution_count": 18,
      "outputs": [
        {
          "output_type": "stream",
          "text": [
            "True\n"
          ],
          "name": "stdout"
        }
      ]
    },
    {
      "cell_type": "code",
      "metadata": {
        "colab": {
          "base_uri": "https://localhost:8080/"
        },
        "id": "gKz0yJkCpp-q",
        "outputId": "79b48154-2514-4f5d-8983-6079afdafd13"
      },
      "source": [
        "# Given an array of integers, return a new array such that each element at index i of the new array is the product of all the numbers in the original array except the one at i.\r\n",
        "# For example, if our input was [1, 2, 3, 4, 5], the expected output would be [120, 60, 40, 30, 24]. If our input was [3, 2, 1], the expected output would be [2, 3, 6].\r\n",
        "# Follow-up: what if you can't use division?\r\n",
        "arr = [1, 2, 3, 4, 5]\r\n",
        "Multiplied = 1\r\n",
        "new_arr = []\r\n",
        "for i in arr:\r\n",
        "  Multiplied *= i\r\n",
        "print(Multiplied)\r\n",
        "\r\n",
        "for i in arr:\r\n",
        "  new_arr.append(int(Multiplied/i))\r\n",
        "print(new_arr)"
      ],
      "execution_count": 22,
      "outputs": [
        {
          "output_type": "stream",
          "text": [
            "120\n",
            "[120, 60, 40, 30, 24]\n"
          ],
          "name": "stdout"
        }
      ]
    },
    {
      "cell_type": "code",
      "metadata": {
        "colab": {
          "base_uri": "https://localhost:8080/"
        },
        "id": "JeLKGTSqJ6Re",
        "outputId": "0a034599-e676-4a49-f56d-5d7df8cdbe82"
      },
      "source": [
        "# Given an array of integers, find the first missing positive integer in linear time and constant space. In other words, find the lowest positive integer that does not exist in the array. The array can contain duplicates and negative numbers as well.\r\n",
        "# For example, the input [3, 4, -1, 1] should give 2. The input [1, 2, 0] should give 3.\r\n",
        "arr = [3, 4, -1, 1]\r\n",
        "# Create a range of numbers between 1 & max(arr) and simultaneously check if a number is part of the arr or not\r\n",
        "for i in range(1,max(arr)):\r\n",
        "  if i not in arr:\r\n",
        "    print(i)\r\n",
        "    break"
      ],
      "execution_count": 24,
      "outputs": [
        {
          "output_type": "stream",
          "text": [
            "2\n"
          ],
          "name": "stdout"
        }
      ]
    },
    {
      "cell_type": "code",
      "metadata": {
        "colab": {
          "base_uri": "https://localhost:8080/"
        },
        "id": "uqgBGRyVJ6IT",
        "outputId": "95b6a909-62b2-43e6-d7e6-7965a3cc2e86"
      },
      "source": [
        "strg ='1234'\r\n",
        "char_strg = []\r\n",
        "for i in range(len(strg)):\r\n",
        "  for j in range(len(strg)):\r\n",
        "    if j+1>i:\r\n",
        "      char_strg.append(strg[i:j+1])\r\n",
        "print(char_strg)"
      ],
      "execution_count": 44,
      "outputs": [
        {
          "output_type": "stream",
          "text": [
            "['1', '12', '123', '1234', '2', '23', '234', '3', '34', '4']\n"
          ],
          "name": "stdout"
        }
      ]
    },
    {
      "cell_type": "code",
      "metadata": {
        "id": "ZH6K-Z2ARHbf"
      },
      "source": [
        "# Given the mapping a = 1, b = 2, ... z = 26, and an encoded message, count the number of ways it can be decoded.\r\n",
        "# For example, the message '111' would give 3, since it could be decoded as 'aaa', 'ka', and 'ak'.\r\n",
        "# You can assume that the message are decodable. For example, '001' is not allowed.\r\n",
        "\r\n",
        "\r\n",
        "\r\n"
      ],
      "execution_count": null,
      "outputs": []
    },
    {
      "cell_type": "code",
      "metadata": {
        "id": "E6qGJqOARyEr"
      },
      "source": [
        ""
      ],
      "execution_count": null,
      "outputs": []
    },
    {
      "cell_type": "code",
      "metadata": {
        "id": "PLBQRhPARJAI"
      },
      "source": [
        ""
      ],
      "execution_count": null,
      "outputs": []
    },
    {
      "cell_type": "code",
      "metadata": {
        "colab": {
          "base_uri": "https://localhost:8080/"
        },
        "id": "eJnEDcFGJ6OA",
        "outputId": "53479d56-1f7c-4ea9-86cb-869280b01fd1"
      },
      "source": [
        "# cons(a, b) constructs a pair, and car(pair) and cdr(pair) returns the first and last element of that pair. For example, car(cons(3, 4)) returns 3, and cdr(cons(3, 4)) returns 4.\r\n",
        "\r\n",
        "def cons(a, b):\r\n",
        "    def pair(f):\r\n",
        "        return f(a, b)\r\n",
        "    return pair\r\n",
        "\r\n",
        "\r\n"
      ],
      "execution_count": 26,
      "outputs": [
        {
          "output_type": "stream",
          "text": [
            "<function cons.<locals>.pair at 0x7fa911533b70>\n"
          ],
          "name": "stdout"
        }
      ]
    },
    {
      "cell_type": "markdown",
      "metadata": {
        "id": "gfKjdQQF9gie"
      },
      "source": [
        "### AlgoExpert"
      ]
    },
    {
      "cell_type": "code",
      "metadata": {
        "id": "gO1aQJat9gEl",
        "outputId": "706dd8af-e3da-44eb-9f49-5045706a6010",
        "colab": {
          "base_uri": "https://localhost:8080/"
        }
      },
      "source": [
        "# Validate Subsequence\r\n",
        "# Given two non-empty arrays of integers, write a function that determines whether the second array is a subsequence of the first one.\r\n",
        "# A subsequence of an array is a set of numbers that aren’t necessarily adjacent in the array but that are in the same order as they appear in the array.\r\n",
        "# For example these numbers [2, 3, 5] are a subsequence of the array: [1, 2, 3, 4, 5]\r\n",
        "# array = [5, 1, 22, 25, 6, -1, 8, 10] sequence = [1, 6, -1, 10]\r\n",
        "array = [1, 1, 6, 1] # [5, 1, 22, 25, 6, -1, 8, 10] # [1, 2, 3, 4, 5]\r\n",
        "sequence = [1, 1, 1, 6] #[5, 1, 22, 25, 6, -1, 8, 10] #[1, 6, -1, -1] # [2, 4, 5] \r\n",
        "j=-1\r\n",
        "valid_seq = True\r\n",
        "for i in sequence:\r\n",
        "  print(i,j)\r\n",
        "  if i in array[j+1:]:\r\n",
        "    j = array.index(i)\r\n",
        "  else:\r\n",
        "    valid_seq = False\r\n",
        "    break\r\n",
        "print(valid_seq)\r\n",
        "    "
      ],
      "execution_count": 22,
      "outputs": [
        {
          "output_type": "stream",
          "text": [
            "1 -1\n",
            "1 0\n",
            "1 0\n",
            "6 0\n",
            "True\n"
          ],
          "name": "stdout"
        }
      ]
    }
  ]
}