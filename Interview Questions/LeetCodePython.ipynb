{
  "nbformat": 4,
  "nbformat_minor": 0,
  "metadata": {
    "colab": {
      "name": "LeetCodePython.ipynb",
      "provenance": [],
      "collapsed_sections": [],
      "authorship_tag": "ABX9TyM/OSBNR/F/K6iAY4Y2pQj9",
      "include_colab_link": true
    },
    "kernelspec": {
      "name": "python3",
      "display_name": "Python 3"
    }
  },
  "cells": [
    {
      "cell_type": "markdown",
      "metadata": {
        "id": "view-in-github",
        "colab_type": "text"
      },
      "source": [
        "<a href=\"https://colab.research.google.com/github/sandhyaparna/Python-DataScience-CookBook/blob/master/Interview%20Questions/LeetCodePython.ipynb\" target=\"_parent\"><img src=\"https://colab.research.google.com/assets/colab-badge.svg\" alt=\"Open In Colab\"/></a>"
      ]
    },
    {
      "cell_type": "code",
      "metadata": {
        "colab": {
          "base_uri": "https://localhost:8080/"
        },
        "id": "dk_h9pws8YL-",
        "outputId": "5fdd7998-e3e9-4288-de08-96487a31066b"
      },
      "source": [
        "# Given an array of integers nums and an integer target, return indices of the two numbers such that they add up to target.\r\n",
        "nums=[2,7,11,15]\r\n",
        "target = 9\r\n",
        "\r\n",
        "class Solution:\r\n",
        "    for i in range(len(nums)-1):\r\n",
        "        for j in range(i+1,len(nums)):\r\n",
        "          if target==nums[i]+nums[j]:\r\n",
        "            print(i,j)"
      ],
      "execution_count": null,
      "outputs": [
        {
          "output_type": "stream",
          "text": [
            "0 1\n"
          ],
          "name": "stdout"
        }
      ]
    },
    {
      "cell_type": "code",
      "metadata": {
        "colab": {
          "base_uri": "https://localhost:8080/"
        },
        "id": "K9r3kab593Ib",
        "outputId": "fd5ce317-4d58-4da4-affd-ff413c2e347e"
      },
      "source": [
        "l1 = [9,9,9,9,9,9,9]\r\n",
        "l2 = [9,9,9,9]\r\n",
        "# l1 = [2,4,3]\r\n",
        "# l2 = [5,6,4]\r\n",
        "l1_sum=0\r\n",
        "l2_sum=0\r\n",
        "l3=[]\r\n",
        "for i in range(len(l1)):\r\n",
        "    l1_sum += l1[i]*pow(10,i)\r\n",
        "for i in range(len(l2)):\r\n",
        "    l1_sum += l2[i]*pow(10,i)\r\n",
        "for x in str(l1_sum):\r\n",
        "    l3.insert(0,int(x))\r\n",
        "print(l3)"
      ],
      "execution_count": null,
      "outputs": [
        {
          "output_type": "stream",
          "text": [
            "[8, 9, 9, 9, 0, 0, 0, 1]\n"
          ],
          "name": "stdout"
        }
      ]
    },
    {
      "cell_type": "code",
      "metadata": {
        "colab": {
          "base_uri": "https://localhost:8080/"
        },
        "id": "M_sUiwEkFpoz",
        "outputId": "9357a9bc-fc63-4a60-b028-36e7ca223de7"
      },
      "source": [
        "# Distinct/Unique characters in a string\r\n",
        "# Using counter\r\n",
        "s = \"pwwkew\"\r\n",
        "l = []\r\n",
        "for i in range(len(s)):\r\n",
        "  if s[i] not in l:\r\n",
        "    l.append(s[i])\r\n",
        "print(l)"
      ],
      "execution_count": null,
      "outputs": [
        {
          "output_type": "stream",
          "text": [
            "['p', 'w', 'k', 'e']\n"
          ],
          "name": "stdout"
        }
      ]
    },
    {
      "cell_type": "code",
      "metadata": {
        "id": "DQfApU4gFfU2",
        "outputId": "7aec9c73-4b2e-45e9-dec3-dae8c17ce877",
        "colab": {
          "base_uri": "https://localhost:8080/"
        }
      },
      "source": [
        "# Distinct/Unique characters in a string Using counter\r\n",
        "from collections import Counter\r\n",
        "char_count = Counter(\"pwwkew\")\r\n",
        "print(char_count)\r\n",
        "print([i for i,j in char_count.items()])"
      ],
      "execution_count": 17,
      "outputs": [
        {
          "output_type": "stream",
          "text": [
            "Counter({'w': 3, 'p': 1, 'k': 1, 'e': 1})\n",
            "['p', 'w', 'k', 'e']\n"
          ],
          "name": "stdout"
        }
      ]
    },
    {
      "cell_type": "code",
      "metadata": {
        "colab": {
          "base_uri": "https://localhost:8080/"
        },
        "id": "eTjoquUw_ULB",
        "outputId": "7a910a7d-581e-4083-be5d-afb06160e616"
      },
      "source": [
        "s = \"pwwkew\"\r\n",
        "l = []\r\n",
        "for i in range(len(s)):\r\n",
        "  if s[i] not in l:\r\n",
        "    l.append(s[i])\r\n",
        "      for j in l:"
      ],
      "execution_count": null,
      "outputs": [
        {
          "output_type": "stream",
          "text": [
            "[0]\n",
            "[1]\n",
            "[2]\n",
            "[3]\n",
            "[4]\n",
            "[5]\n"
          ],
          "name": "stdout"
        }
      ]
    },
    {
      "cell_type": "code",
      "metadata": {
        "colab": {
          "base_uri": "https://localhost:8080/"
        },
        "id": "ecTb5NBvJLYy",
        "outputId": "2fea66fe-11c7-41c2-cc14-01155a61b89a"
      },
      "source": [
        "s = \"pwwkew\"\r\n",
        "l = []\r\n",
        "for i in range(len(s)):\r\n",
        "  l.append(i)\r\n",
        "  for j in range(i+1,len(s)+1):\r\n",
        "    l.append(j)\r\n",
        "    print(l)"
      ],
      "execution_count": null,
      "outputs": [
        {
          "output_type": "stream",
          "text": [
            "[0, 1]\n",
            "[0, 1, 2]\n",
            "[0, 1, 2, 3]\n",
            "[0, 1, 2, 3, 4]\n",
            "[0, 1, 2, 3, 4, 5]\n",
            "[0, 1, 2, 3, 4, 5, 6]\n",
            "[0, 1, 2, 3, 4, 5, 6, 1, 2]\n",
            "[0, 1, 2, 3, 4, 5, 6, 1, 2, 3]\n",
            "[0, 1, 2, 3, 4, 5, 6, 1, 2, 3, 4]\n",
            "[0, 1, 2, 3, 4, 5, 6, 1, 2, 3, 4, 5]\n",
            "[0, 1, 2, 3, 4, 5, 6, 1, 2, 3, 4, 5, 6]\n",
            "[0, 1, 2, 3, 4, 5, 6, 1, 2, 3, 4, 5, 6, 2, 3]\n",
            "[0, 1, 2, 3, 4, 5, 6, 1, 2, 3, 4, 5, 6, 2, 3, 4]\n",
            "[0, 1, 2, 3, 4, 5, 6, 1, 2, 3, 4, 5, 6, 2, 3, 4, 5]\n",
            "[0, 1, 2, 3, 4, 5, 6, 1, 2, 3, 4, 5, 6, 2, 3, 4, 5, 6]\n",
            "[0, 1, 2, 3, 4, 5, 6, 1, 2, 3, 4, 5, 6, 2, 3, 4, 5, 6, 3, 4]\n",
            "[0, 1, 2, 3, 4, 5, 6, 1, 2, 3, 4, 5, 6, 2, 3, 4, 5, 6, 3, 4, 5]\n",
            "[0, 1, 2, 3, 4, 5, 6, 1, 2, 3, 4, 5, 6, 2, 3, 4, 5, 6, 3, 4, 5, 6]\n",
            "[0, 1, 2, 3, 4, 5, 6, 1, 2, 3, 4, 5, 6, 2, 3, 4, 5, 6, 3, 4, 5, 6, 4, 5]\n",
            "[0, 1, 2, 3, 4, 5, 6, 1, 2, 3, 4, 5, 6, 2, 3, 4, 5, 6, 3, 4, 5, 6, 4, 5, 6]\n",
            "[0, 1, 2, 3, 4, 5, 6, 1, 2, 3, 4, 5, 6, 2, 3, 4, 5, 6, 3, 4, 5, 6, 4, 5, 6, 5, 6]\n"
          ],
          "name": "stdout"
        }
      ]
    },
    {
      "cell_type": "code",
      "metadata": {
        "colab": {
          "base_uri": "https://localhost:8080/"
        },
        "id": "XZwpMvn54h6U",
        "outputId": "ad7c545d-437e-420f-a877-556abddc0825"
      },
      "source": [
        "num=[7,11,15,2]\r\n",
        "# To get index values - for i in range(len(num)-1)\r\n",
        "# To get actual values  - for i in range(num)\r\n",
        "\r\n",
        "for i in range(len(num)-1):\r\n",
        "  for j in num[i+1:]:\r\n",
        "    print(num[i],j)\r\n",
        "print(\"\\n\")\r\n",
        "for i in range(len(num)-1):\r\n",
        "  for j in range(i,len(num)-1):\r\n",
        "    print(num[i],num[j])\r\n",
        "print(\"\\n\")\r\n",
        "for i in range(len(num)-1):\r\n",
        "  for j in range(i+1,len(num)):\r\n",
        "    print(num[i],num[j])"
      ],
      "execution_count": null,
      "outputs": [
        {
          "output_type": "stream",
          "text": [
            "7 11\n",
            "7 15\n",
            "7 2\n",
            "11 15\n",
            "11 2\n",
            "15 2\n",
            "\n",
            "\n",
            "7 7\n",
            "7 11\n",
            "7 15\n",
            "11 11\n",
            "11 15\n",
            "15 15\n",
            "\n",
            "\n",
            "7 11\n",
            "7 15\n",
            "7 2\n",
            "11 15\n",
            "11 2\n",
            "15 2\n"
          ],
          "name": "stdout"
        }
      ]
    },
    {
      "cell_type": "code",
      "metadata": {
        "colab": {
          "base_uri": "https://localhost:8080/"
        },
        "id": "8GJNzaQP7FGD",
        "outputId": "62db3c3e-d475-4cf2-df08-9b622dfbeefb"
      },
      "source": [
        "for i in range(len(num)-1):\r\n",
        "  for j in range(i+1,len(num)):\r\n",
        "    if target==num[i]+num[j]:\r\n",
        "      print(i,j)"
      ],
      "execution_count": null,
      "outputs": [
        {
          "output_type": "stream",
          "text": [
            "0 3\n"
          ],
          "name": "stdout"
        }
      ]
    },
    {
      "cell_type": "code",
      "metadata": {
        "colab": {
          "base_uri": "https://localhost:8080/"
        },
        "id": "l80U2j7X4v6B",
        "outputId": "3caac595-2daa-439b-b8be-73802df67496"
      },
      "source": [
        "for i in range(len(num)-1):\r\n",
        "  for j in range(i,len(num)-1):\r\n",
        "    print(num[i],num[j])"
      ],
      "execution_count": null,
      "outputs": [
        {
          "output_type": "stream",
          "text": [
            "2 2\n",
            "2 7\n",
            "2 11\n",
            "7 7\n",
            "7 11\n",
            "11 11\n"
          ],
          "name": "stdout"
        }
      ]
    },
    {
      "cell_type": "code",
      "metadata": {
        "colab": {
          "base_uri": "https://localhost:8080/"
        },
        "id": "DctoVsO34z-f",
        "outputId": "1f923527-2242-4f14-8777-79fac70576e3"
      },
      "source": [
        "for i in range(len(num)-1):\r\n",
        "  for j in range(i+1,len(num)):\r\n",
        "    print(num[i],num[j])"
      ],
      "execution_count": null,
      "outputs": [
        {
          "output_type": "stream",
          "text": [
            "2 7\n",
            "2 11\n",
            "2 15\n",
            "7 11\n",
            "7 15\n",
            "11 15\n"
          ],
          "name": "stdout"
        }
      ]
    },
    {
      "cell_type": "markdown",
      "metadata": {
        "id": "7WRkiiiJIGRP"
      },
      "source": [
        "## xxx"
      ]
    },
    {
      "cell_type": "code",
      "metadata": {
        "id": "H6b0qNX1IPTv"
      },
      "source": [
        "def xorOperation (n, start):\r\n",
        "    xor_operator = start\r\n",
        "    for i in range(1,n):\r\n",
        "        xor_operator = (start+(2*i))^xor_operator\r\n",
        "    return xor_operator\r\n",
        "    \r\n",
        "xorOperation(4, 3)\r\n",
        "xorOperation(1, 7)\r\n",
        "xorOperation(10, 5)"
      ],
      "execution_count": null,
      "outputs": []
    },
    {
      "cell_type": "code",
      "metadata": {
        "id": "qguYclFIIJEX",
        "outputId": "00e6d3a7-dc55-4bfb-fdd8-ff6e46951e5b",
        "colab": {
          "base_uri": "https://localhost:8080/"
        }
      },
      "source": [
        "for i in range(5):\r\n",
        "  print(2*i)"
      ],
      "execution_count": 1,
      "outputs": [
        {
          "output_type": "stream",
          "text": [
            "0\n",
            "2\n",
            "4\n",
            "6\n",
            "8\n"
          ],
          "name": "stdout"
        }
      ]
    },
    {
      "cell_type": "code",
      "metadata": {
        "id": "14q1Cs6YIJKg",
        "outputId": "455c7445-d7f1-4839-b04e-54427693676c",
        "colab": {
          "base_uri": "https://localhost:8080/"
        }
      },
      "source": [
        "for i in range(5):\r\n",
        "  print(2*i+1)"
      ],
      "execution_count": 2,
      "outputs": [
        {
          "output_type": "stream",
          "text": [
            "1\n",
            "3\n",
            "5\n",
            "7\n",
            "9\n"
          ],
          "name": "stdout"
        }
      ]
    },
    {
      "cell_type": "code",
      "metadata": {
        "id": "Tl4xIe0oITHd",
        "outputId": "f1195d5a-b39e-4c73-d719-5a75de78b01c",
        "colab": {
          "base_uri": "https://localhost:8080/"
        }
      },
      "source": [
        "arr = [1,4,2,5,3]\r\n",
        "for i in range(len(arr)):\r\n",
        "  if i%2==0:\r\n",
        "    for j in range(0,(len(arr)//2)+1):\r\n",
        "      if 2*j+1>=i:\r\n",
        "        print(arr[i:(2*j)+1])\r\n",
        "  else:\r\n",
        "    for j in range(0,(len(arr)//2)+1):\r\n",
        "      if 2*j>i:\r\n",
        "        print(arr[i:(2*j)])"
      ],
      "execution_count": 21,
      "outputs": [
        {
          "output_type": "stream",
          "text": [
            "[1]\n",
            "[1, 4, 2]\n",
            "[1, 4, 2, 5, 3]\n",
            "[4]\n",
            "[4, 2, 5]\n",
            "[2]\n",
            "[2, 5, 3]\n",
            "[5]\n",
            "[3]\n"
          ],
          "name": "stdout"
        }
      ]
    },
    {
      "cell_type": "code",
      "metadata": {
        "id": "7PogbvteITEn",
        "outputId": "c7187f58-0cdf-4fa1-974b-64a4725b872f",
        "colab": {
          "base_uri": "https://localhost:8080/"
        }
      },
      "source": [
        "arr = [1,4,2,5,3]\r\n",
        "arr = [1,2]\r\n",
        "sum = 0\r\n",
        "for i in range(len(arr)):\r\n",
        "  if i%2==0:\r\n",
        "    for j in range(0,(len(arr)//2)+1):\r\n",
        "      if 2*j+1>=i and 2*j+1<=len(arr):\r\n",
        "        for z in arr[i:(2*j)+1]:\r\n",
        "          sum += z\r\n",
        "  else:\r\n",
        "    for j in range(0,(len(arr)//2)+1):\r\n",
        "      if 2*j>i and 2*j<=len(arr):\r\n",
        "        for z in arr[i:(2*j)]:\r\n",
        "          sum += z\r\n",
        "print(sum)"
      ],
      "execution_count": 30,
      "outputs": [
        {
          "output_type": "stream",
          "text": [
            "3\n"
          ],
          "name": "stdout"
        }
      ]
    },
    {
      "cell_type": "code",
      "metadata": {
        "id": "FI1tqSJTITBq",
        "outputId": "a67c32d8-39a9-4a00-9d4f-14bc7bd1a240",
        "colab": {
          "base_uri": "https://localhost:8080/"
        }
      },
      "source": [
        "arr = [1,4,2,5,3]\r\n",
        "for i,j in enumerate(arr):\r\n",
        "  print(i,j)"
      ],
      "execution_count": 32,
      "outputs": [
        {
          "output_type": "stream",
          "text": [
            "0 1\n",
            "1 4\n",
            "2 2\n",
            "3 5\n",
            "4 3\n"
          ],
          "name": "stdout"
        }
      ]
    },
    {
      "cell_type": "code",
      "metadata": {
        "id": "FgFWVtQbRdT2",
        "outputId": "0fb4061b-4dfe-4629-aa61-aad5b98ddbc3",
        "colab": {
          "base_uri": "https://localhost:8080/"
        }
      },
      "source": [
        "arr = [3,0,1,1,9,7]\r\n",
        "a = 7\r\n",
        "b = 2\r\n",
        "c = 3\r\n",
        "count=0\r\n",
        "for i in range(len(arr)-2):\r\n",
        "  for j in range(i+1,len(arr)-1):\r\n",
        "    for k in range(j+1,len(arr)):\r\n",
        "      if abs(arr[i]-arr[j])<=a and abs(arr[j]-arr[k])<=b and abs(arr[i]-arr[k])<=c:\r\n",
        "        count +=1\r\n",
        "print(count)"
      ],
      "execution_count": 44,
      "outputs": [
        {
          "output_type": "stream",
          "text": [
            "4\n"
          ],
          "name": "stdout"
        }
      ]
    },
    {
      "cell_type": "code",
      "metadata": {
        "id": "hrqbD65oViUc",
        "outputId": "ab427f97-261e-4511-c70c-730559c9cdc2",
        "colab": {
          "base_uri": "https://localhost:8080/"
        }
      },
      "source": [
        "# To count number of digits in a number. keep dividing the number till floor remainder is not 0, count the number of iterations\r\n",
        "n = 362068690\r\n",
        "count=1\r\n",
        "while n//10!=0:\r\n",
        "  n = n//10\r\n",
        "  count +=1\r\n",
        "print(count)\r\n"
      ],
      "execution_count": 49,
      "outputs": [
        {
          "output_type": "stream",
          "text": [
            "9\n"
          ],
          "name": "stdout"
        }
      ]
    },
    {
      "cell_type": "code",
      "metadata": {
        "id": "KkHaaON5ViRb",
        "outputId": "c4aa468b-d1c9-415b-c628-c8d355296e51",
        "colab": {
          "base_uri": "https://localhost:8080/"
        }
      },
      "source": [
        "9//10"
      ],
      "execution_count": 46,
      "outputs": [
        {
          "output_type": "execute_result",
          "data": {
            "text/plain": [
              "0"
            ]
          },
          "metadata": {
            "tags": []
          },
          "execution_count": 46
        }
      ]
    },
    {
      "cell_type": "code",
      "metadata": {
        "id": "u4uTvvhfaepm",
        "outputId": "be14a615-0ad6-4d7e-8b60-32798639cf97",
        "colab": {
          "base_uri": "https://localhost:8080/"
        }
      },
      "source": [
        "points = [[1,1],[3,4],[-1,0]]\r\n",
        "for i in range(len(points)-1):\r\n",
        "  print(points[i])"
      ],
      "execution_count": 52,
      "outputs": [
        {
          "output_type": "stream",
          "text": [
            "[1, 1]\n",
            "[3, 4]\n"
          ],
          "name": "stdout"
        }
      ]
    },
    {
      "cell_type": "code",
      "metadata": {
        "id": "wFSo1KdKViOq",
        "outputId": "c1fc99b6-bdf1-4ed0-8f0a-2e3974e88503",
        "colab": {
          "base_uri": "https://localhost:8080/"
        }
      },
      "source": [
        "points = [[1,1],[3,4],[-1,0]]\r\n",
        "steps=0\r\n",
        "for i in range(len(points)-1):\r\n",
        "  steps += max(abs(points[i][0]-points[i+1][0]),abs(points[i][1]-points[i+1][1]))\r\n",
        "print(steps)"
      ],
      "execution_count": 57,
      "outputs": [
        {
          "output_type": "stream",
          "text": [
            "7\n"
          ],
          "name": "stdout"
        }
      ]
    },
    {
      "cell_type": "code",
      "metadata": {
        "id": "yfIJPbRzliqX",
        "outputId": "c78b53c5-6793-4cc2-93cd-47c6581cdc89",
        "colab": {
          "base_uri": "https://localhost:8080/"
        }
      },
      "source": [
        "mat[0][::-1] #First list of the matrix is reversed"
      ],
      "execution_count": 108,
      "outputs": [
        {
          "output_type": "execute_result",
          "data": {
            "text/plain": [
              "[4, 3, 2, 1]"
            ]
          },
          "metadata": {
            "tags": []
          },
          "execution_count": 108
        }
      ]
    },
    {
      "cell_type": "code",
      "metadata": {
        "id": "4B15JpjXoNh1",
        "outputId": "f440fc9a-9880-427e-833b-6db4917b4fe6",
        "colab": {
          "base_uri": "https://localhost:8080/"
        }
      },
      "source": [
        "mat = [[14,7,18,6,3,20,15],\r\n",
        "       [5,4,3,17,7,13,4],\r\n",
        "       [14,11,14,2,3,10,12],\r\n",
        "       [9,17,20,16,14,1,16],\r\n",
        "       [4,10,20,12,4,17,14],\r\n",
        "       [5,20,19,11,5,4,12],\r\n",
        "       [10,4,11,11,13,4,6]]\r\n",
        "i=len(mat[0])\r\n",
        "j =len(mat)\r\n",
        "sum=0\r\n",
        "for a in range(i):\r\n",
        "  for b in range(j):\r\n",
        "    if a==b:\r\n",
        "      print(mat[a][b]) \r\n",
        "if j%2!=0 and j!=1:\r\n",
        "  for a in range(j):\r\n",
        "    if a!=(j//2):\r\n",
        "      rev = mat[a][::-1]\r\n",
        "      print(rev[a])\r\n",
        "elif j%2==0 and j!=1:\r\n",
        "  for a in range(j):\r\n",
        "    rev = mat[a][::-1]\r\n",
        "    print(rev[a])"
      ],
      "execution_count": 139,
      "outputs": [
        {
          "output_type": "stream",
          "text": [
            "14\n",
            "4\n",
            "14\n",
            "16\n",
            "4\n",
            "4\n",
            "6\n",
            "15\n",
            "13\n",
            "3\n",
            "20\n",
            "20\n",
            "10\n"
          ],
          "name": "stdout"
        }
      ]
    },
    {
      "cell_type": "code",
      "metadata": {
        "id": "hh7n1U2FnwwZ",
        "outputId": "48db16fb-47d7-4663-8bb6-a2529150f743",
        "colab": {
          "base_uri": "https://localhost:8080/"
        }
      },
      "source": [
        "mat = [[14,7,18,6,3,20,15],\r\n",
        "       [5,4,3,17,7,13,4],\r\n",
        "       [14,11,14,2,3,10,12],\r\n",
        "       [9,17,20,16,14,1,16],\r\n",
        "       [4,10,20,12,4,17,14],\r\n",
        "       [5,20,19,11,5,4,12],\r\n",
        "       [10,4,11,11,13,4,6]]\r\n",
        "i=len(mat[0])\r\n",
        "j =len(mat)\r\n",
        "sum=0\r\n",
        "for a in range(i):\r\n",
        "  for b in range(j):\r\n",
        "    if a==b:\r\n",
        "      sum += mat[a][b]\r\n",
        "if j%2!=0 and j!=1:\r\n",
        "  for a in range(j):\r\n",
        "    if a!=(j//2):\r\n",
        "      rev = mat[a][::-1]\r\n",
        "      sum += rev[a]\r\n",
        "elif j%2==0 and j!=1:\r\n",
        "  for a in range(j):\r\n",
        "    rev = mat[a][::-1]\r\n",
        "    sum += rev[a]\r\n",
        "print(sum)"
      ],
      "execution_count": 138,
      "outputs": [
        {
          "output_type": "stream",
          "text": [
            "143\n"
          ],
          "name": "stdout"
        }
      ]
    },
    {
      "cell_type": "code",
      "metadata": {
        "id": "hNSbMNaTqu-I",
        "outputId": "cc65263b-abeb-44c5-faf2-dedbe70ee59a",
        "colab": {
          "base_uri": "https://localhost:8080/"
        }
      },
      "source": [
        "mat = [[1,1,0],[1,0,1],[0,0,0]]\r\n",
        "for i in range(len(mat)):\r\n",
        "  mat[i] = mat[i][::-1]\r\n",
        "  \r\n",
        "# # Traversing through a matrix is done by lists within a matrix and then go through items with matrix\r\n",
        "for i in range(len(mat)): \r\n",
        "  for j in range(len(mat[0])):\r\n",
        "    if mat[i][j]==1:\r\n",
        "      mat[i][j]=0\r\n",
        "    else:\r\n",
        "      mat[i][j]=1\r\n",
        "print(mat)\r\n"
      ],
      "execution_count": 145,
      "outputs": [
        {
          "output_type": "stream",
          "text": [
            "[[1, 0, 0], [0, 1, 0], [1, 1, 1]]\n"
          ],
          "name": "stdout"
        }
      ]
    },
    {
      "cell_type": "code",
      "metadata": {
        "id": "BlP6i0LBrYnq",
        "outputId": "95c41e31-89a3-4f21-e98d-c79e5ffa1f8f",
        "colab": {
          "base_uri": "https://localhost:8080/"
        }
      },
      "source": [
        "height = [1,8,6,2,5,4,8,3,7]\r\n",
        "max = 0\r\n",
        "for i in range(len(height)-1):\r\n",
        "  for j in range(1,len(height)):\r\n",
        "    if min(height[i],height[j])*(j-i)>max:\r\n",
        "      max = min(height[i],height[j])*(j-i)\r\n",
        "print(max)\r\n",
        "\r\n",
        "\r\n"
      ],
      "execution_count": 2,
      "outputs": [
        {
          "output_type": "stream",
          "text": [
            "49\n"
          ],
          "name": "stdout"
        }
      ]
    },
    {
      "cell_type": "code",
      "metadata": {
        "id": "mc-VIv1kae9G",
        "outputId": "6a4e745a-da44-4e73-98cd-63010560cae9",
        "colab": {
          "base_uri": "https://localhost:8080/"
        }
      },
      "source": [
        "nums = [-1,0,1,2,-1,-4]\r\n",
        "new_nums = []\r\n",
        "for i in range(len(nums)-2):\r\n",
        "    for j in range(i+1,len(nums)-1):\r\n",
        "        for k in range(j+1,len(nums)):\r\n",
        "            if nums[i]+nums[j]+nums[k]==0:\r\n",
        "                new_nums.append([nums[i],nums[j],nums[k]])\r\n",
        "                print(nums[i],nums[j],nums[k])"
      ],
      "execution_count": 16,
      "outputs": [
        {
          "output_type": "stream",
          "text": [
            "-1 0 1\n",
            "-1 2 -1\n",
            "0 1 -1\n"
          ],
          "name": "stdout"
        }
      ]
    },
    {
      "cell_type": "code",
      "metadata": {
        "id": "Nya8OxydcZ7t"
      },
      "source": [
        ""
      ],
      "execution_count": null,
      "outputs": []
    },
    {
      "cell_type": "code",
      "metadata": {
        "id": "eFdHkYodcOzW"
      },
      "source": [
        "check if 2 array are "
      ],
      "execution_count": null,
      "outputs": []
    },
    {
      "cell_type": "code",
      "metadata": {
        "id": "2MDL8CqFViK7",
        "outputId": "d11ea7c1-499e-4558-8509-880db8eb001b",
        "colab": {
          "base_uri": "https://localhost:8080/"
        }
      },
      "source": [
        "# Not solved\r\n",
        "items = [[1,91],[1,92],[2,93],[2,97],[1,60],[2,77],[1,65],[1,87],[1,100],[2,100],[2,76]]\r\n",
        "List_keys = []\r\n",
        "for i in range(len(items)):\r\n",
        "    if items[i][0] not in List_keys:\r\n",
        "        List_keys.append(items[i][0])\r\n",
        "for i in List_keys:\r\n",
        "  if i in items[0]:\r\n",
        "    print(i)"
      ],
      "execution_count": 65,
      "outputs": [
        {
          "output_type": "stream",
          "text": [
            "1\n",
            "2\n"
          ],
          "name": "stdout"
        }
      ]
    }
  ]
}