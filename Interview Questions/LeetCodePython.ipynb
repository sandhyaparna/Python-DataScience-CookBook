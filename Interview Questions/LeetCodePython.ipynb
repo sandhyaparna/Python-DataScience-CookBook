{
  "nbformat": 4,
  "nbformat_minor": 0,
  "metadata": {
    "colab": {
      "name": "LeetCodePython.ipynb",
      "provenance": [],
      "collapsed_sections": [],
      "authorship_tag": "ABX9TyPWrG5mMc2011OJPgVhKKv4",
      "include_colab_link": true
    },
    "kernelspec": {
      "name": "python3",
      "display_name": "Python 3"
    }
  },
  "cells": [
    {
      "cell_type": "markdown",
      "metadata": {
        "id": "view-in-github",
        "colab_type": "text"
      },
      "source": [
        "<a href=\"https://colab.research.google.com/github/sandhyaparna/Python-DataScience-CookBook/blob/master/Interview%20Questions/LeetCodePython.ipynb\" target=\"_parent\"><img src=\"https://colab.research.google.com/assets/colab-badge.svg\" alt=\"Open In Colab\"/></a>"
      ]
    },
    {
      "cell_type": "code",
      "metadata": {
        "colab": {
          "base_uri": "https://localhost:8080/"
        },
        "id": "dk_h9pws8YL-",
        "outputId": "5fdd7998-e3e9-4288-de08-96487a31066b"
      },
      "source": [
        "# Given an array of integers nums and an integer target, return indices of the two numbers such that they add up to target.\r\n",
        "nums=[2,7,11,15]\r\n",
        "target = 9\r\n",
        "\r\n",
        "class Solution:\r\n",
        "    for i in range(len(nums)-1):\r\n",
        "        for j in range(i+1,len(nums)):\r\n",
        "          if target==nums[i]+nums[j]:\r\n",
        "            print(i,j)"
      ],
      "execution_count": null,
      "outputs": [
        {
          "output_type": "stream",
          "text": [
            "0 1\n"
          ],
          "name": "stdout"
        }
      ]
    },
    {
      "cell_type": "code",
      "metadata": {
        "colab": {
          "base_uri": "https://localhost:8080/"
        },
        "id": "K9r3kab593Ib",
        "outputId": "fd5ce317-4d58-4da4-affd-ff413c2e347e"
      },
      "source": [
        "l1 = [9,9,9,9,9,9,9]\r\n",
        "l2 = [9,9,9,9]\r\n",
        "# l1 = [2,4,3]\r\n",
        "# l2 = [5,6,4]\r\n",
        "l1_sum=0\r\n",
        "l2_sum=0\r\n",
        "l3=[]\r\n",
        "for i in range(len(l1)):\r\n",
        "    l1_sum += l1[i]*pow(10,i)\r\n",
        "for i in range(len(l2)):\r\n",
        "    l1_sum += l2[i]*pow(10,i)\r\n",
        "for x in str(l1_sum):\r\n",
        "    l3.insert(0,int(x))\r\n",
        "print(l3)"
      ],
      "execution_count": null,
      "outputs": [
        {
          "output_type": "stream",
          "text": [
            "[8, 9, 9, 9, 0, 0, 0, 1]\n"
          ],
          "name": "stdout"
        }
      ]
    },
    {
      "cell_type": "code",
      "metadata": {
        "colab": {
          "base_uri": "https://localhost:8080/"
        },
        "id": "M_sUiwEkFpoz",
        "outputId": "9357a9bc-fc63-4a60-b028-36e7ca223de7"
      },
      "source": [
        "# Distinct/Unique characters in a string\r\n",
        "# Using counter\r\n",
        "s = \"pwwkew\"\r\n",
        "l = []\r\n",
        "for i in range(len(s)):\r\n",
        "  if s[i] not in l:\r\n",
        "    l.append(s[i])\r\n",
        "print(l)"
      ],
      "execution_count": null,
      "outputs": [
        {
          "output_type": "stream",
          "text": [
            "['p', 'w', 'k', 'e']\n"
          ],
          "name": "stdout"
        }
      ]
    },
    {
      "cell_type": "code",
      "metadata": {
        "id": "DQfApU4gFfU2",
        "colab": {
          "base_uri": "https://localhost:8080/"
        },
        "outputId": "7aec9c73-4b2e-45e9-dec3-dae8c17ce877"
      },
      "source": [
        "# Distinct/Unique characters in a string Using counter\r\n",
        "from collections import Counter\r\n",
        "char_count = Counter(\"pwwkew\")\r\n",
        "print(char_count)\r\n",
        "print([i for i,j in char_count.items()])"
      ],
      "execution_count": null,
      "outputs": [
        {
          "output_type": "stream",
          "text": [
            "Counter({'w': 3, 'p': 1, 'k': 1, 'e': 1})\n",
            "['p', 'w', 'k', 'e']\n"
          ],
          "name": "stdout"
        }
      ]
    },
    {
      "cell_type": "code",
      "metadata": {
        "colab": {
          "base_uri": "https://localhost:8080/"
        },
        "id": "eTjoquUw_ULB",
        "outputId": "7a910a7d-581e-4083-be5d-afb06160e616"
      },
      "source": [
        "s = \"pwwkew\"\r\n",
        "l = []\r\n",
        "for i in range(len(s)):\r\n",
        "  if s[i] not in l:\r\n",
        "    l.append(s[i])\r\n",
        "      for j in l:"
      ],
      "execution_count": null,
      "outputs": [
        {
          "output_type": "stream",
          "text": [
            "[0]\n",
            "[1]\n",
            "[2]\n",
            "[3]\n",
            "[4]\n",
            "[5]\n"
          ],
          "name": "stdout"
        }
      ]
    },
    {
      "cell_type": "code",
      "metadata": {
        "colab": {
          "base_uri": "https://localhost:8080/"
        },
        "id": "ecTb5NBvJLYy",
        "outputId": "2fea66fe-11c7-41c2-cc14-01155a61b89a"
      },
      "source": [
        "s = \"pwwkew\"\r\n",
        "l = []\r\n",
        "for i in range(len(s)):\r\n",
        "  l.append(i)\r\n",
        "  for j in range(i+1,len(s)+1):\r\n",
        "    l.append(j)\r\n",
        "    print(l)"
      ],
      "execution_count": null,
      "outputs": [
        {
          "output_type": "stream",
          "text": [
            "[0, 1]\n",
            "[0, 1, 2]\n",
            "[0, 1, 2, 3]\n",
            "[0, 1, 2, 3, 4]\n",
            "[0, 1, 2, 3, 4, 5]\n",
            "[0, 1, 2, 3, 4, 5, 6]\n",
            "[0, 1, 2, 3, 4, 5, 6, 1, 2]\n",
            "[0, 1, 2, 3, 4, 5, 6, 1, 2, 3]\n",
            "[0, 1, 2, 3, 4, 5, 6, 1, 2, 3, 4]\n",
            "[0, 1, 2, 3, 4, 5, 6, 1, 2, 3, 4, 5]\n",
            "[0, 1, 2, 3, 4, 5, 6, 1, 2, 3, 4, 5, 6]\n",
            "[0, 1, 2, 3, 4, 5, 6, 1, 2, 3, 4, 5, 6, 2, 3]\n",
            "[0, 1, 2, 3, 4, 5, 6, 1, 2, 3, 4, 5, 6, 2, 3, 4]\n",
            "[0, 1, 2, 3, 4, 5, 6, 1, 2, 3, 4, 5, 6, 2, 3, 4, 5]\n",
            "[0, 1, 2, 3, 4, 5, 6, 1, 2, 3, 4, 5, 6, 2, 3, 4, 5, 6]\n",
            "[0, 1, 2, 3, 4, 5, 6, 1, 2, 3, 4, 5, 6, 2, 3, 4, 5, 6, 3, 4]\n",
            "[0, 1, 2, 3, 4, 5, 6, 1, 2, 3, 4, 5, 6, 2, 3, 4, 5, 6, 3, 4, 5]\n",
            "[0, 1, 2, 3, 4, 5, 6, 1, 2, 3, 4, 5, 6, 2, 3, 4, 5, 6, 3, 4, 5, 6]\n",
            "[0, 1, 2, 3, 4, 5, 6, 1, 2, 3, 4, 5, 6, 2, 3, 4, 5, 6, 3, 4, 5, 6, 4, 5]\n",
            "[0, 1, 2, 3, 4, 5, 6, 1, 2, 3, 4, 5, 6, 2, 3, 4, 5, 6, 3, 4, 5, 6, 4, 5, 6]\n",
            "[0, 1, 2, 3, 4, 5, 6, 1, 2, 3, 4, 5, 6, 2, 3, 4, 5, 6, 3, 4, 5, 6, 4, 5, 6, 5, 6]\n"
          ],
          "name": "stdout"
        }
      ]
    },
    {
      "cell_type": "code",
      "metadata": {
        "colab": {
          "base_uri": "https://localhost:8080/"
        },
        "id": "XZwpMvn54h6U",
        "outputId": "ad7c545d-437e-420f-a877-556abddc0825"
      },
      "source": [
        "num=[7,11,15,2]\r\n",
        "# To get index values - for i in range(len(num)-1)\r\n",
        "# To get actual values  - for i in range(num)\r\n",
        "\r\n",
        "for i in range(len(num)-1):\r\n",
        "  for j in num[i+1:]:\r\n",
        "    print(num[i],j)\r\n",
        "print(\"\\n\")\r\n",
        "for i in range(len(num)-1):\r\n",
        "  for j in range(i,len(num)-1):\r\n",
        "    print(num[i],num[j])\r\n",
        "print(\"\\n\")\r\n",
        "for i in range(len(num)-1):\r\n",
        "  for j in range(i+1,len(num)):\r\n",
        "    print(num[i],num[j])"
      ],
      "execution_count": null,
      "outputs": [
        {
          "output_type": "stream",
          "text": [
            "7 11\n",
            "7 15\n",
            "7 2\n",
            "11 15\n",
            "11 2\n",
            "15 2\n",
            "\n",
            "\n",
            "7 7\n",
            "7 11\n",
            "7 15\n",
            "11 11\n",
            "11 15\n",
            "15 15\n",
            "\n",
            "\n",
            "7 11\n",
            "7 15\n",
            "7 2\n",
            "11 15\n",
            "11 2\n",
            "15 2\n"
          ],
          "name": "stdout"
        }
      ]
    },
    {
      "cell_type": "code",
      "metadata": {
        "colab": {
          "base_uri": "https://localhost:8080/"
        },
        "id": "8GJNzaQP7FGD",
        "outputId": "62db3c3e-d475-4cf2-df08-9b622dfbeefb"
      },
      "source": [
        "for i in range(len(num)-1):\r\n",
        "  for j in range(i+1,len(num)):\r\n",
        "    if target==num[i]+num[j]:\r\n",
        "      print(i,j)"
      ],
      "execution_count": null,
      "outputs": [
        {
          "output_type": "stream",
          "text": [
            "0 3\n"
          ],
          "name": "stdout"
        }
      ]
    },
    {
      "cell_type": "code",
      "metadata": {
        "colab": {
          "base_uri": "https://localhost:8080/"
        },
        "id": "l80U2j7X4v6B",
        "outputId": "3caac595-2daa-439b-b8be-73802df67496"
      },
      "source": [
        "for i in range(len(num)-1):\r\n",
        "  for j in range(i,len(num)-1):\r\n",
        "    print(num[i],num[j])"
      ],
      "execution_count": null,
      "outputs": [
        {
          "output_type": "stream",
          "text": [
            "2 2\n",
            "2 7\n",
            "2 11\n",
            "7 7\n",
            "7 11\n",
            "11 11\n"
          ],
          "name": "stdout"
        }
      ]
    },
    {
      "cell_type": "code",
      "metadata": {
        "colab": {
          "base_uri": "https://localhost:8080/"
        },
        "id": "DctoVsO34z-f",
        "outputId": "1f923527-2242-4f14-8777-79fac70576e3"
      },
      "source": [
        "for i in range(len(num)-1):\r\n",
        "  for j in range(i+1,len(num)):\r\n",
        "    print(num[i],num[j])"
      ],
      "execution_count": null,
      "outputs": [
        {
          "output_type": "stream",
          "text": [
            "2 7\n",
            "2 11\n",
            "2 15\n",
            "7 11\n",
            "7 15\n",
            "11 15\n"
          ],
          "name": "stdout"
        }
      ]
    },
    {
      "cell_type": "markdown",
      "metadata": {
        "id": "7WRkiiiJIGRP"
      },
      "source": [
        "## xxx"
      ]
    },
    {
      "cell_type": "code",
      "metadata": {
        "id": "H6b0qNX1IPTv"
      },
      "source": [
        "def xorOperation (n, start):\r\n",
        "    xor_operator = start\r\n",
        "    for i in range(1,n):\r\n",
        "        xor_operator = (start+(2*i))^xor_operator\r\n",
        "    return xor_operator\r\n",
        "    \r\n",
        "xorOperation(4, 3)\r\n",
        "xorOperation(1, 7)\r\n",
        "xorOperation(10, 5)"
      ],
      "execution_count": null,
      "outputs": []
    },
    {
      "cell_type": "code",
      "metadata": {
        "id": "qguYclFIIJEX",
        "colab": {
          "base_uri": "https://localhost:8080/"
        },
        "outputId": "00e6d3a7-dc55-4bfb-fdd8-ff6e46951e5b"
      },
      "source": [
        "for i in range(5):\r\n",
        "  print(2*i)"
      ],
      "execution_count": null,
      "outputs": [
        {
          "output_type": "stream",
          "text": [
            "0\n",
            "2\n",
            "4\n",
            "6\n",
            "8\n"
          ],
          "name": "stdout"
        }
      ]
    },
    {
      "cell_type": "code",
      "metadata": {
        "id": "14q1Cs6YIJKg",
        "colab": {
          "base_uri": "https://localhost:8080/"
        },
        "outputId": "455c7445-d7f1-4839-b04e-54427693676c"
      },
      "source": [
        "for i in range(5):\r\n",
        "  print(2*i+1)"
      ],
      "execution_count": null,
      "outputs": [
        {
          "output_type": "stream",
          "text": [
            "1\n",
            "3\n",
            "5\n",
            "7\n",
            "9\n"
          ],
          "name": "stdout"
        }
      ]
    },
    {
      "cell_type": "code",
      "metadata": {
        "id": "Tl4xIe0oITHd",
        "colab": {
          "base_uri": "https://localhost:8080/"
        },
        "outputId": "f1195d5a-b39e-4c73-d719-5a75de78b01c"
      },
      "source": [
        "arr = [1,4,2,5,3]\r\n",
        "for i in range(len(arr)):\r\n",
        "  if i%2==0:\r\n",
        "    for j in range(0,(len(arr)//2)+1):\r\n",
        "      if 2*j+1>=i:\r\n",
        "        print(arr[i:(2*j)+1])\r\n",
        "  else:\r\n",
        "    for j in range(0,(len(arr)//2)+1):\r\n",
        "      if 2*j>i:\r\n",
        "        print(arr[i:(2*j)])"
      ],
      "execution_count": null,
      "outputs": [
        {
          "output_type": "stream",
          "text": [
            "[1]\n",
            "[1, 4, 2]\n",
            "[1, 4, 2, 5, 3]\n",
            "[4]\n",
            "[4, 2, 5]\n",
            "[2]\n",
            "[2, 5, 3]\n",
            "[5]\n",
            "[3]\n"
          ],
          "name": "stdout"
        }
      ]
    },
    {
      "cell_type": "code",
      "metadata": {
        "id": "7PogbvteITEn",
        "colab": {
          "base_uri": "https://localhost:8080/"
        },
        "outputId": "c7187f58-0cdf-4fa1-974b-64a4725b872f"
      },
      "source": [
        "arr = [1,4,2,5,3]\r\n",
        "arr = [1,2]\r\n",
        "sum = 0\r\n",
        "for i in range(len(arr)):\r\n",
        "  if i%2==0:\r\n",
        "    for j in range(0,(len(arr)//2)+1):\r\n",
        "      if 2*j+1>=i and 2*j+1<=len(arr):\r\n",
        "        for z in arr[i:(2*j)+1]:\r\n",
        "          sum += z\r\n",
        "  else:\r\n",
        "    for j in range(0,(len(arr)//2)+1):\r\n",
        "      if 2*j>i and 2*j<=len(arr):\r\n",
        "        for z in arr[i:(2*j)]:\r\n",
        "          sum += z\r\n",
        "print(sum)"
      ],
      "execution_count": null,
      "outputs": [
        {
          "output_type": "stream",
          "text": [
            "3\n"
          ],
          "name": "stdout"
        }
      ]
    },
    {
      "cell_type": "code",
      "metadata": {
        "id": "FI1tqSJTITBq",
        "colab": {
          "base_uri": "https://localhost:8080/"
        },
        "outputId": "a67c32d8-39a9-4a00-9d4f-14bc7bd1a240"
      },
      "source": [
        "arr = [1,4,2,5,3]\r\n",
        "for i,j in enumerate(arr):\r\n",
        "  print(i,j)"
      ],
      "execution_count": null,
      "outputs": [
        {
          "output_type": "stream",
          "text": [
            "0 1\n",
            "1 4\n",
            "2 2\n",
            "3 5\n",
            "4 3\n"
          ],
          "name": "stdout"
        }
      ]
    },
    {
      "cell_type": "code",
      "metadata": {
        "id": "FgFWVtQbRdT2",
        "colab": {
          "base_uri": "https://localhost:8080/"
        },
        "outputId": "0fb4061b-4dfe-4629-aa61-aad5b98ddbc3"
      },
      "source": [
        "arr = [3,0,1,1,9,7]\r\n",
        "a = 7\r\n",
        "b = 2\r\n",
        "c = 3\r\n",
        "count=0\r\n",
        "for i in range(len(arr)-2):\r\n",
        "  for j in range(i+1,len(arr)-1):\r\n",
        "    for k in range(j+1,len(arr)):\r\n",
        "      if abs(arr[i]-arr[j])<=a and abs(arr[j]-arr[k])<=b and abs(arr[i]-arr[k])<=c:\r\n",
        "        count +=1\r\n",
        "print(count)"
      ],
      "execution_count": null,
      "outputs": [
        {
          "output_type": "stream",
          "text": [
            "4\n"
          ],
          "name": "stdout"
        }
      ]
    },
    {
      "cell_type": "code",
      "metadata": {
        "id": "hrqbD65oViUc",
        "colab": {
          "base_uri": "https://localhost:8080/"
        },
        "outputId": "ab427f97-261e-4511-c70c-730559c9cdc2"
      },
      "source": [
        "# To count number of digits in a number. keep dividing the number till floor remainder is not 0, count the number of iterations\r\n",
        "n = 362068690\r\n",
        "count=1\r\n",
        "while n//10!=0:\r\n",
        "  n = n//10\r\n",
        "  count +=1\r\n",
        "print(count)\r\n"
      ],
      "execution_count": null,
      "outputs": [
        {
          "output_type": "stream",
          "text": [
            "9\n"
          ],
          "name": "stdout"
        }
      ]
    },
    {
      "cell_type": "code",
      "metadata": {
        "id": "KkHaaON5ViRb",
        "colab": {
          "base_uri": "https://localhost:8080/"
        },
        "outputId": "c4aa468b-d1c9-415b-c628-c8d355296e51"
      },
      "source": [
        "9//10"
      ],
      "execution_count": null,
      "outputs": [
        {
          "output_type": "execute_result",
          "data": {
            "text/plain": [
              "0"
            ]
          },
          "metadata": {
            "tags": []
          },
          "execution_count": 46
        }
      ]
    },
    {
      "cell_type": "code",
      "metadata": {
        "id": "u4uTvvhfaepm",
        "colab": {
          "base_uri": "https://localhost:8080/"
        },
        "outputId": "be14a615-0ad6-4d7e-8b60-32798639cf97"
      },
      "source": [
        "points = [[1,1],[3,4],[-1,0]]\r\n",
        "for i in range(len(points)-1):\r\n",
        "  print(points[i])"
      ],
      "execution_count": null,
      "outputs": [
        {
          "output_type": "stream",
          "text": [
            "[1, 1]\n",
            "[3, 4]\n"
          ],
          "name": "stdout"
        }
      ]
    },
    {
      "cell_type": "code",
      "metadata": {
        "id": "wFSo1KdKViOq",
        "colab": {
          "base_uri": "https://localhost:8080/"
        },
        "outputId": "c1fc99b6-bdf1-4ed0-8f0a-2e3974e88503"
      },
      "source": [
        "points = [[1,1],[3,4],[-1,0]]\r\n",
        "steps=0\r\n",
        "for i in range(len(points)-1):\r\n",
        "  steps += max(abs(points[i][0]-points[i+1][0]),abs(points[i][1]-points[i+1][1]))\r\n",
        "print(steps)"
      ],
      "execution_count": null,
      "outputs": [
        {
          "output_type": "stream",
          "text": [
            "7\n"
          ],
          "name": "stdout"
        }
      ]
    },
    {
      "cell_type": "code",
      "metadata": {
        "id": "yfIJPbRzliqX",
        "colab": {
          "base_uri": "https://localhost:8080/"
        },
        "outputId": "c78b53c5-6793-4cc2-93cd-47c6581cdc89"
      },
      "source": [
        "mat[0][::-1] #First list of the matrix is reversed"
      ],
      "execution_count": null,
      "outputs": [
        {
          "output_type": "execute_result",
          "data": {
            "text/plain": [
              "[4, 3, 2, 1]"
            ]
          },
          "metadata": {
            "tags": []
          },
          "execution_count": 108
        }
      ]
    },
    {
      "cell_type": "code",
      "metadata": {
        "id": "4B15JpjXoNh1",
        "colab": {
          "base_uri": "https://localhost:8080/"
        },
        "outputId": "f440fc9a-9880-427e-833b-6db4917b4fe6"
      },
      "source": [
        "mat = [[14,7,18,6,3,20,15],\r\n",
        "       [5,4,3,17,7,13,4],\r\n",
        "       [14,11,14,2,3,10,12],\r\n",
        "       [9,17,20,16,14,1,16],\r\n",
        "       [4,10,20,12,4,17,14],\r\n",
        "       [5,20,19,11,5,4,12],\r\n",
        "       [10,4,11,11,13,4,6]]\r\n",
        "i=len(mat[0])\r\n",
        "j =len(mat)\r\n",
        "sum=0\r\n",
        "for a in range(i):\r\n",
        "  for b in range(j):\r\n",
        "    if a==b:\r\n",
        "      print(mat[a][b]) \r\n",
        "if j%2!=0 and j!=1:\r\n",
        "  for a in range(j):\r\n",
        "    if a!=(j//2):\r\n",
        "      rev = mat[a][::-1]\r\n",
        "      print(rev[a])\r\n",
        "elif j%2==0 and j!=1:\r\n",
        "  for a in range(j):\r\n",
        "    rev = mat[a][::-1]\r\n",
        "    print(rev[a])"
      ],
      "execution_count": null,
      "outputs": [
        {
          "output_type": "stream",
          "text": [
            "14\n",
            "4\n",
            "14\n",
            "16\n",
            "4\n",
            "4\n",
            "6\n",
            "15\n",
            "13\n",
            "3\n",
            "20\n",
            "20\n",
            "10\n"
          ],
          "name": "stdout"
        }
      ]
    },
    {
      "cell_type": "code",
      "metadata": {
        "id": "hh7n1U2FnwwZ",
        "colab": {
          "base_uri": "https://localhost:8080/"
        },
        "outputId": "48db16fb-47d7-4663-8bb6-a2529150f743"
      },
      "source": [
        "mat = [[14,7,18,6,3,20,15],\r\n",
        "       [5,4,3,17,7,13,4],\r\n",
        "       [14,11,14,2,3,10,12],\r\n",
        "       [9,17,20,16,14,1,16],\r\n",
        "       [4,10,20,12,4,17,14],\r\n",
        "       [5,20,19,11,5,4,12],\r\n",
        "       [10,4,11,11,13,4,6]]\r\n",
        "i=len(mat[0])\r\n",
        "j =len(mat)\r\n",
        "sum=0\r\n",
        "for a in range(i):\r\n",
        "  for b in range(j):\r\n",
        "    if a==b:\r\n",
        "      sum += mat[a][b]\r\n",
        "if j%2!=0 and j!=1:\r\n",
        "  for a in range(j):\r\n",
        "    if a!=(j//2):\r\n",
        "      rev = mat[a][::-1]\r\n",
        "      sum += rev[a]\r\n",
        "elif j%2==0 and j!=1:\r\n",
        "  for a in range(j):\r\n",
        "    rev = mat[a][::-1]\r\n",
        "    sum += rev[a]\r\n",
        "print(sum)"
      ],
      "execution_count": null,
      "outputs": [
        {
          "output_type": "stream",
          "text": [
            "143\n"
          ],
          "name": "stdout"
        }
      ]
    },
    {
      "cell_type": "code",
      "metadata": {
        "id": "hNSbMNaTqu-I",
        "colab": {
          "base_uri": "https://localhost:8080/"
        },
        "outputId": "cc65263b-abeb-44c5-faf2-dedbe70ee59a"
      },
      "source": [
        "mat = [[1,1,0],[1,0,1],[0,0,0]]\r\n",
        "for i in range(len(mat)):\r\n",
        "  mat[i] = mat[i][::-1]\r\n",
        "  \r\n",
        "# # Traversing through a matrix is done by lists within a matrix and then go through items with matrix\r\n",
        "for i in range(len(mat)): \r\n",
        "  for j in range(len(mat[0])):\r\n",
        "    if mat[i][j]==1:\r\n",
        "      mat[i][j]=0\r\n",
        "    else:\r\n",
        "      mat[i][j]=1\r\n",
        "print(mat)\r\n"
      ],
      "execution_count": null,
      "outputs": [
        {
          "output_type": "stream",
          "text": [
            "[[1, 0, 0], [0, 1, 0], [1, 1, 1]]\n"
          ],
          "name": "stdout"
        }
      ]
    },
    {
      "cell_type": "code",
      "metadata": {
        "id": "BlP6i0LBrYnq",
        "colab": {
          "base_uri": "https://localhost:8080/"
        },
        "outputId": "95c41e31-89a3-4f21-e98d-c79e5ffa1f8f"
      },
      "source": [
        "height = [1,8,6,2,5,4,8,3,7]\r\n",
        "max = 0\r\n",
        "for i in range(len(height)-1):\r\n",
        "  for j in range(1,len(height)):\r\n",
        "    if min(height[i],height[j])*(j-i)>max:\r\n",
        "      max = min(height[i],height[j])*(j-i)\r\n",
        "print(max)\r\n",
        "\r\n",
        "\r\n"
      ],
      "execution_count": null,
      "outputs": [
        {
          "output_type": "stream",
          "text": [
            "49\n"
          ],
          "name": "stdout"
        }
      ]
    },
    {
      "cell_type": "code",
      "metadata": {
        "id": "AQ4ZRfrhgsHI",
        "outputId": "5f207912-e2b6-41cd-b033-014f47a8b322",
        "colab": {
          "base_uri": "https://localhost:8080/"
        }
      },
      "source": [
        "# there are duplicates in this \r\n",
        "nums = [-1,0,1,2,-1,-4]\r\n",
        "for i in range(len(nums)-2):\r\n",
        "    for j in range(i+1,len(nums)-1):\r\n",
        "        for k in range(j+1,len(nums)):\r\n",
        "            if nums[i]+nums[j]+nums[k]==0:\r\n",
        "                print(nums[i],nums[j],nums[k])"
      ],
      "execution_count": 26,
      "outputs": [
        {
          "output_type": "stream",
          "text": [
            "-1 0 1\n",
            "-1 2 -1\n",
            "0 1 -1\n"
          ],
          "name": "stdout"
        }
      ]
    },
    {
      "cell_type": "code",
      "metadata": {
        "id": "mc-VIv1kae9G",
        "colab": {
          "base_uri": "https://localhost:8080/"
        },
        "outputId": "b201c32f-2682-4703-d6e9-a36b84bcba23"
      },
      "source": [
        "# 15. 3Sum - Use set function to remove duplicates i.e to check if [1,0,-1] is same as [-1,0,1]\r\n",
        "nums = [-1,0,1,2,-1,-4]\r\n",
        "new_nums = []\r\n",
        "for i in range(len(nums)-2):\r\n",
        "    for j in range(i+1,len(nums)-1):\r\n",
        "        for k in range(j+1,len(nums)):\r\n",
        "            if nums[i]+nums[j]+nums[k]==0 and set([nums[i],nums[j],nums[k]]) not in new_nums:\r\n",
        "                new_nums.append(set([nums[i],nums[j],nums[k]]))\r\n",
        "print(len(new_nums))"
      ],
      "execution_count": 28,
      "outputs": [
        {
          "output_type": "stream",
          "text": [
            "2\n"
          ],
          "name": "stdout"
        }
      ]
    },
    {
      "cell_type": "code",
      "metadata": {
        "id": "_iugYsslmNXx",
        "outputId": "e87d614b-595d-4f44-cad7-f4a602d22bb5",
        "colab": {
          "base_uri": "https://localhost:8080/"
        }
      },
      "source": [
        "# 1450\r\n",
        "startTime = [1,2,3]\r\n",
        "endTime = [3,2,7]\r\n",
        "queryTime = 4\r\n",
        "count = 0\r\n",
        "for i in range(len(startTime)):\r\n",
        "  if (endTime[i]>=queryTime) and (startTime[i]<=queryTime):\r\n",
        "      count +=1\r\n",
        "print(count)"
      ],
      "execution_count": 34,
      "outputs": [
        {
          "output_type": "stream",
          "text": [
            "1\n"
          ],
          "name": "stdout"
        }
      ]
    },
    {
      "cell_type": "code",
      "metadata": {
        "id": "yHqW0hYqpy42",
        "outputId": "6ec97c94-0034-4064-ccb5-2f76b05d8352",
        "colab": {
          "base_uri": "https://localhost:8080/"
        }
      },
      "source": [
        "n = 2\r\n",
        "arr = []\r\n",
        "if n%2==0:\r\n",
        "    for i in range(1,n//2+1):\r\n",
        "        arr.append(i) \r\n",
        "        arr.append(-i) \r\n",
        "else:\r\n",
        "    arr.append(0)\r\n",
        "    for i in range(1,n//2+1):\r\n",
        "        arr.append(i) \r\n",
        "        arr.append(-i)\r\n",
        "print(arr)"
      ],
      "execution_count": 49,
      "outputs": [
        {
          "output_type": "stream",
          "text": [
            "[1, -1]\n"
          ],
          "name": "stdout"
        }
      ]
    },
    {
      "cell_type": "code",
      "metadata": {
        "id": "En277cs_tp7P",
        "outputId": "5f164637-23b3-482d-9323-02e3424d3950",
        "colab": {
          "base_uri": "https://localhost:8080/",
          "height": 193
        }
      },
      "source": [
        "arr = [4,3,2,-1]\r\n",
        "for j in arr[::-1]:\r\n",
        "    while j<0:\r\n",
        "        count +=1"
      ],
      "execution_count": 51,
      "outputs": [
        {
          "output_type": "error",
          "ename": "KeyboardInterrupt",
          "evalue": "ignored",
          "traceback": [
            "\u001b[0;31m---------------------------------------------------------------------------\u001b[0m",
            "\u001b[0;31mKeyboardInterrupt\u001b[0m                         Traceback (most recent call last)",
            "\u001b[0;32m<ipython-input-51-abfd60d49d9a>\u001b[0m in \u001b[0;36m<module>\u001b[0;34m()\u001b[0m\n\u001b[1;32m      2\u001b[0m \u001b[0;32mfor\u001b[0m \u001b[0mj\u001b[0m \u001b[0;32min\u001b[0m \u001b[0marr\u001b[0m\u001b[0;34m[\u001b[0m\u001b[0;34m:\u001b[0m\u001b[0;34m:\u001b[0m\u001b[0;34m-\u001b[0m\u001b[0;36m1\u001b[0m\u001b[0;34m]\u001b[0m\u001b[0;34m:\u001b[0m\u001b[0;34m\u001b[0m\u001b[0;34m\u001b[0m\u001b[0m\n\u001b[1;32m      3\u001b[0m     \u001b[0;32mwhile\u001b[0m \u001b[0mj\u001b[0m\u001b[0;34m<\u001b[0m\u001b[0;36m0\u001b[0m\u001b[0;34m:\u001b[0m\u001b[0;34m\u001b[0m\u001b[0;34m\u001b[0m\u001b[0m\n\u001b[0;32m----> 4\u001b[0;31m         \u001b[0mcount\u001b[0m \u001b[0;34m+=\u001b[0m\u001b[0;36m1\u001b[0m\u001b[0;34m\u001b[0m\u001b[0;34m\u001b[0m\u001b[0m\n\u001b[0m",
            "\u001b[0;31mKeyboardInterrupt\u001b[0m: "
          ]
        }
      ]
    },
    {
      "cell_type": "code",
      "metadata": {
        "id": "rzOncexQ1619",
        "outputId": "4d580c26-c85b-4231-b5e0-eebc264b0e34",
        "colab": {
          "base_uri": "https://localhost:8080/"
        }
      },
      "source": [
        "prices = [8,4,6,2,3]\r\n",
        "new_prices =[]\r\n",
        "discountapplied = []\r\n",
        "for i in range(len(prices)):\r\n",
        "    discount=0\r\n",
        "    for j in range(i+1,len(prices)):\r\n",
        "        if prices[j]<=prices[i] and discount==0:\r\n",
        "            discount=prices[j]\r\n",
        "            new_prices.append(prices[i]-discount)\r\n",
        "            discountapplied.append(i)\r\n",
        "    if i not in discountapplied:\r\n",
        "        new_prices.append(prices[i])\r\n",
        "\r\n",
        "        # elif prices[j]>prices[i]:\r\n",
        "        #     new_prices.append(prices[i])\r\n",
        "print(new_prices)\r\n",
        "print(discountapplied)"
      ],
      "execution_count": 75,
      "outputs": [
        {
          "output_type": "stream",
          "text": [
            "[4, 2, 4, 2, 3]\n",
            "[0, 1, 2]\n"
          ],
          "name": "stdout"
        }
      ]
    },
    {
      "cell_type": "code",
      "metadata": {
        "id": "XiP1fe-q7U_8",
        "outputId": "f3eadaa5-c5d7-4990-cc11-651837f65f51",
        "colab": {
          "base_uri": "https://localhost:8080/"
        }
      },
      "source": [
        "for i in range(2,6,2):\r\n",
        "  print(i)"
      ],
      "execution_count": 77,
      "outputs": [
        {
          "output_type": "stream",
          "text": [
            "2\n",
            "4\n"
          ],
          "name": "stdout"
        }
      ]
    },
    {
      "cell_type": "code",
      "metadata": {
        "id": "04Pf8ov-zIAS",
        "outputId": "1d167c93-42c3-431d-9f7b-019dbf9d818b",
        "colab": {
          "base_uri": "https://localhost:8080/"
        }
      },
      "source": [
        "# Initialize list with list\r\n",
        "mat = []\r\n",
        "for i in range(5):\r\n",
        "  mat.append([])\r\n",
        "print(mat)"
      ],
      "execution_count": 93,
      "outputs": [
        {
          "output_type": "stream",
          "text": [
            "[[], [], [], [], []]\n"
          ],
          "name": "stdout"
        }
      ]
    },
    {
      "cell_type": "code",
      "metadata": {
        "id": "IPCumdBfQtzx",
        "outputId": "e1a61688-1a4b-4f1b-e252-3c0423efee1d",
        "colab": {
          "base_uri": "https://localhost:8080/"
        }
      },
      "source": [
        "# Initialize list with lists\r\n",
        "n = 5\r\n",
        "list_of_lists = [[] for i in range(5)] # Initialize list of list\r\n",
        "for i in range(n):\r\n",
        "  for j in range(i+1):\r\n",
        "    list_of_lists[i].append(1)\r\n",
        "print(list_of_lists)\r\n",
        "for i in \r\n"
      ],
      "execution_count": 103,
      "outputs": [
        {
          "output_type": "stream",
          "text": [
            "[[1], [1, 1], [1, 1, 1], [1, 1, 1, 1], [1, 1, 1, 1, 1]]\n"
          ],
          "name": "stdout"
        }
      ]
    },
    {
      "cell_type": "code",
      "metadata": {
        "id": "bBqVYlFztRli",
        "outputId": "95fb1ff9-f889-4b47-c7b6-a4c319ac0bd2",
        "colab": {
          "base_uri": "https://localhost:8080/"
        }
      },
      "source": [
        "# 1351\r\n",
        "grid = [[4,3,2,-1],[3,2,1,-1],[1,1,-1,-2],[-1,-1,-2,-3]]\r\n",
        "count=0\r\n",
        "for i in range(len(grid)):\r\n",
        "    for j in grid[i][::-1]:\r\n",
        "        if j<0:\r\n",
        "            count +=1\r\n",
        "print(count)"
      ],
      "execution_count": 79,
      "outputs": [
        {
          "output_type": "stream",
          "text": [
            "8\n"
          ],
          "name": "stdout"
        }
      ]
    },
    {
      "cell_type": "code",
      "metadata": {
        "id": "0meoXlRlEZG_",
        "outputId": "81fd4b06-eb3c-4b20-b695-aeeca7f3a93c",
        "colab": {
          "base_uri": "https://localhost:8080/"
        }
      },
      "source": [
        "# wrong - do it again\r\n",
        "nums = [3,3]\r\n",
        "target = 6\r\n",
        "\r\n",
        "sortednums = sorted(nums)\r\n",
        "Twosum_index = []\r\n",
        "i=0\r\n",
        "j=len(nums)-1\r\n",
        "while (i<j):\r\n",
        "    Twosum = sortednums[i]+sortednums[j]\r\n",
        "    if Twosum==target:\r\n",
        "        k = nums.index(sortednums[i])\r\n",
        "        Twosum_index.append(nums.index(sortednums[i]))\r\n",
        "        Twosum_index.append(nums[k+1:].index(sortednums[j])+1)\r\n",
        "        break\r\n",
        "    elif Twosum>target:\r\n",
        "        j -=1\r\n",
        "    else:\r\n",
        "        i += 1\r\n",
        "print(Twosum_index)"
      ],
      "execution_count": 121,
      "outputs": [
        {
          "output_type": "stream",
          "text": [
            "[0, 1]\n"
          ],
          "name": "stdout"
        }
      ]
    },
    {
      "cell_type": "code",
      "metadata": {
        "id": "Ll8ERmsaOAmn",
        "outputId": "19afcd64-2c26-425c-ecb1-1befb086c080",
        "colab": {
          "base_uri": "https://localhost:8080/"
        }
      },
      "source": [
        "# dynamic\r\n",
        "prices = [7,1,5,3,6,4]\r\n",
        "min_prices = prices[]\r\n",
        "for i in range(len(prices)-1):\r\n",
        "  min_value = min(prices[i],prices[i+1])\r\n",
        "  min_prices.append(min_value)\r\n",
        "print(min_prices)"
      ],
      "execution_count": 124,
      "outputs": [
        {
          "output_type": "stream",
          "text": [
            "[1, 1, 3, 3, 4]\n"
          ],
          "name": "stdout"
        }
      ]
    },
    {
      "cell_type": "code",
      "metadata": {
        "id": "uf-4vO_gG59J",
        "outputId": "16d4e412-fa15-4983-c20c-4949bafc7e97",
        "colab": {
          "base_uri": "https://localhost:8080/",
          "height": 160
        }
      },
      "source": [
        "nums[1\"]"
      ],
      "execution_count": 114,
      "outputs": [
        {
          "output_type": "error",
          "ename": "IndexError",
          "evalue": "ignored",
          "traceback": [
            "\u001b[0;31m---------------------------------------------------------------------------\u001b[0m",
            "\u001b[0;31mIndexError\u001b[0m                                Traceback (most recent call last)",
            "\u001b[0;32m<ipython-input-114-ebad7842b059>\u001b[0m in \u001b[0;36m<module>\u001b[0;34m()\u001b[0m\n\u001b[0;32m----> 1\u001b[0;31m \u001b[0msortednums\u001b[0m\u001b[0;34m[\u001b[0m\u001b[0;36m1\u001b[0m\u001b[0;34m:\u001b[0m\u001b[0;34m]\u001b[0m\u001b[0;34m[\u001b[0m\u001b[0;36m2\u001b[0m\u001b[0;34m]\u001b[0m\u001b[0;34m\u001b[0m\u001b[0;34m\u001b[0m\u001b[0m\n\u001b[0m",
            "\u001b[0;31mIndexError\u001b[0m: list index out of range"
          ]
        }
      ]
    },
    {
      "cell_type": "code",
      "metadata": {
        "id": "HapjR_ng7HPq"
      },
      "source": [
        "def threeSum(self, nums: List[int]) -> List[List[int]]:\r\n",
        "    new_set = []\r\n",
        "    new_array = []\r\n",
        "    for i in range(len(nums)-2):\r\n",
        "        for j in range(i+1,len(nums)-1):\r\n",
        "            for k in range(j+1,len(nums)):\r\n",
        "                if (nums[i]+nums[j]+nums[k]==0) and set([nums[i],nums[j],nums[k]]) not in new_set:\r\n",
        "                    new_set.append(set([nums[i],nums[j],nums[k]]))\r\n",
        "                    new_array.append([nums[i],nums[j],nums[k]])\r\n",
        "    return new_array"
      ],
      "execution_count": null,
      "outputs": []
    },
    {
      "cell_type": "code",
      "metadata": {
        "id": "2MDL8CqFViK7",
        "colab": {
          "base_uri": "https://localhost:8080/"
        },
        "outputId": "d11ea7c1-499e-4558-8509-880db8eb001b"
      },
      "source": [
        "# Not solved\r\n",
        "items = [[1,91],[1,92],[2,93],[2,97],[1,60],[2,77],[1,65],[1,87],[1,100],[2,100],[2,76]]\r\n",
        "List_keys = []\r\n",
        "for i in range(len(items)):\r\n",
        "    if items[i][0] not in List_keys:\r\n",
        "        List_keys.append(items[i][0])\r\n",
        "for i in List_keys:\r\n",
        "  if i in items[0]:\r\n",
        "    print(i)"
      ],
      "execution_count": null,
      "outputs": [
        {
          "output_type": "stream",
          "text": [
            "1\n",
            "2\n"
          ],
          "name": "stdout"
        }
      ]
    }
  ]
}