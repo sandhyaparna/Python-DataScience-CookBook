{
  "nbformat": 4,
  "nbformat_minor": 0,
  "metadata": {
    "colab": {
      "name": "LeetCodePython.ipynb",
      "provenance": [],
      "collapsed_sections": [],
      "authorship_tag": "ABX9TyNCri82Sa9U7AGDqN3MBdLc",
      "include_colab_link": true
    },
    "kernelspec": {
      "name": "python3",
      "display_name": "Python 3"
    }
  },
  "cells": [
    {
      "cell_type": "markdown",
      "metadata": {
        "id": "view-in-github",
        "colab_type": "text"
      },
      "source": [
        "<a href=\"https://colab.research.google.com/github/sandhyaparna/Python-DataScience-CookBook/blob/master/Interview%20Questions/LeetCodePython.ipynb\" target=\"_parent\"><img src=\"https://colab.research.google.com/assets/colab-badge.svg\" alt=\"Open In Colab\"/></a>"
      ]
    },
    {
      "cell_type": "code",
      "metadata": {
        "id": "Iff6RClBgq35",
        "outputId": "28909187-f0b8-430e-b759-ebdbf67dd5f0",
        "colab": {
          "base_uri": "https://localhost:8080/"
        }
      },
      "source": [
        "# 1480. Running Sum of 1d Array\r\n",
        "nums = [1,2,3,4]\r\n",
        "# Output: [1,3,6,10]\r\n",
        "Running_sum = []\r\n",
        "for i in range(len(nums)):\r\n",
        "  if i==0:\r\n",
        "    Running_sum.append(nums[i])\r\n",
        "  else:\r\n",
        "    Running_sum.append(nums[i]+Running_sum[i-1])\r\n",
        "print(Running_sum)"
      ],
      "execution_count": 3,
      "outputs": [
        {
          "output_type": "stream",
          "text": [
            "[1, 3, 6, 10]\n"
          ],
          "name": "stdout"
        }
      ]
    },
    {
      "cell_type": "code",
      "metadata": {
        "id": "PeH6h0fh8jki",
        "outputId": "5de3bbb0-41fb-4aad-bc18-a1132ce029a2",
        "colab": {
          "base_uri": "https://localhost:8080/"
        }
      },
      "source": [
        "# 1672. Richest Customer Wealth\r\n",
        "# You are given an m x n integer grid accounts where accounts[i][j] is the amount of money the i​​​​​​​​​​​th​​​​ customer has in the j​​​​​​​​​​​th​​​​ bank. Return the wealth that the richest customer has. \r\n",
        "# A customer's wealth is the amount of money they have in all their bank accounts. The richest customer is the customer that has the maximum wealth.\r\n",
        "accounts = [[2,8,7],[7,1,3],[1,9,5]] #[[1,2,3],[3,2,1]] #[[1,5],[7,3],[3,5]]\r\n",
        "# Output: 17 #6 #10\r\n",
        "max_accounts = sum(accounts[0])\r\n",
        "for i in range(len(accounts)):\r\n",
        "  if sum(accounts[i])>max_accounts:\r\n",
        "    max_accounts = sum(accounts[i])\r\n",
        "print(max_accounts)"
      ],
      "execution_count": 33,
      "outputs": [
        {
          "output_type": "stream",
          "text": [
            "17\n"
          ],
          "name": "stdout"
        }
      ]
    },
    {
      "cell_type": "code",
      "metadata": {
        "id": "Wu_oiB7F9xPZ",
        "outputId": "f8b32f11-b9c9-460f-e55a-15bf290d4995",
        "colab": {
          "base_uri": "https://localhost:8080/",
          "height": 232
        }
      },
      "source": [
        "# 1431. Kids With the Greatest Number of Candies\r\n",
        "# Given the array candies and the integer extraCandies, where candies[i] represents the number of candies that the ith kid has.\r\n",
        "# For each kid check if there is a way to distribute extraCandies among the kids such that he or she can have the greatest number of candies among them. Notice that multiple kids can have the greatest number of candies.\r\n",
        "candies = [2,3,5,1,3]\r\n",
        "extraCandies = 3\r\n",
        "# Output: [true,true,true,false,true] \r\n",
        "Greatest_candies = []\r\n",
        "for i in range(len(candies)):\r\n",
        "  if candies[i]+3 >= max(candies):\r\n",
        "    Greatest_candies.append(true)\r\n",
        "  else:\r\n",
        "    Greatest_candies.append(false)\r\n",
        "print(Greatest_candies)\r\n",
        "\r\n",
        "\r\n"
      ],
      "execution_count": 34,
      "outputs": [
        {
          "output_type": "error",
          "ename": "TypeError",
          "evalue": "ignored",
          "traceback": [
            "\u001b[0;31m---------------------------------------------------------------------------\u001b[0m",
            "\u001b[0;31mTypeError\u001b[0m                                 Traceback (most recent call last)",
            "\u001b[0;32m<ipython-input-34-077f8e736ec5>\u001b[0m in \u001b[0;36m<module>\u001b[0;34m()\u001b[0m\n\u001b[1;32m      7\u001b[0m \u001b[0mGreatest_candies\u001b[0m \u001b[0;34m=\u001b[0m \u001b[0;34m[\u001b[0m\u001b[0;34m]\u001b[0m\u001b[0;34m\u001b[0m\u001b[0;34m\u001b[0m\u001b[0m\n\u001b[1;32m      8\u001b[0m \u001b[0;32mfor\u001b[0m \u001b[0mi\u001b[0m \u001b[0;32min\u001b[0m \u001b[0mrange\u001b[0m\u001b[0;34m(\u001b[0m\u001b[0mlen\u001b[0m\u001b[0;34m(\u001b[0m\u001b[0mcandies\u001b[0m\u001b[0;34m)\u001b[0m\u001b[0;34m)\u001b[0m\u001b[0;34m:\u001b[0m\u001b[0;34m\u001b[0m\u001b[0;34m\u001b[0m\u001b[0m\n\u001b[0;32m----> 9\u001b[0;31m   \u001b[0;32mif\u001b[0m \u001b[0mcandies\u001b[0m\u001b[0;34m[\u001b[0m\u001b[0mi\u001b[0m\u001b[0;34m]\u001b[0m\u001b[0;34m+\u001b[0m\u001b[0;36m3\u001b[0m \u001b[0;34m>=\u001b[0m \u001b[0mmax\u001b[0m\u001b[0;34m(\u001b[0m\u001b[0mcandies\u001b[0m\u001b[0;34m)\u001b[0m\u001b[0;34m:\u001b[0m\u001b[0;34m\u001b[0m\u001b[0;34m\u001b[0m\u001b[0m\n\u001b[0m\u001b[1;32m     10\u001b[0m     \u001b[0mGreatest_candies\u001b[0m\u001b[0;34m.\u001b[0m\u001b[0mappend\u001b[0m\u001b[0;34m(\u001b[0m\u001b[0mtrue\u001b[0m\u001b[0;34m)\u001b[0m\u001b[0;34m\u001b[0m\u001b[0;34m\u001b[0m\u001b[0m\n\u001b[1;32m     11\u001b[0m   \u001b[0;32melse\u001b[0m\u001b[0;34m:\u001b[0m\u001b[0;34m\u001b[0m\u001b[0;34m\u001b[0m\u001b[0m\n",
            "\u001b[0;31mTypeError\u001b[0m: 'int' object is not callable"
          ]
        }
      ]
    },
    {
      "cell_type": "code",
      "metadata": {
        "id": "gp-eFQTkBXm0"
      },
      "source": [
        "max=1"
      ],
      "execution_count": 36,
      "outputs": []
    },
    {
      "cell_type": "code",
      "metadata": {
        "id": "4LlKS4Bh_XUM",
        "outputId": "c8f2125e-f0b3-4915-b056-9682e59b697e",
        "colab": {
          "base_uri": "https://localhost:8080/",
          "height": 180
        }
      },
      "source": [
        "candies = [2,3,5,1,3]\r\n",
        "a = max([2,3,5,1,3])"
      ],
      "execution_count": 37,
      "outputs": [
        {
          "output_type": "error",
          "ename": "TypeError",
          "evalue": "ignored",
          "traceback": [
            "\u001b[0;31m---------------------------------------------------------------------------\u001b[0m",
            "\u001b[0;31mTypeError\u001b[0m                                 Traceback (most recent call last)",
            "\u001b[0;32m<ipython-input-37-dc7556b2401b>\u001b[0m in \u001b[0;36m<module>\u001b[0;34m()\u001b[0m\n\u001b[1;32m      1\u001b[0m \u001b[0mcandies\u001b[0m \u001b[0;34m=\u001b[0m \u001b[0;34m[\u001b[0m\u001b[0;36m2\u001b[0m\u001b[0;34m,\u001b[0m\u001b[0;36m3\u001b[0m\u001b[0;34m,\u001b[0m\u001b[0;36m5\u001b[0m\u001b[0;34m,\u001b[0m\u001b[0;36m1\u001b[0m\u001b[0;34m,\u001b[0m\u001b[0;36m3\u001b[0m\u001b[0;34m]\u001b[0m\u001b[0;34m\u001b[0m\u001b[0;34m\u001b[0m\u001b[0m\n\u001b[0;32m----> 2\u001b[0;31m \u001b[0ma\u001b[0m \u001b[0;34m=\u001b[0m \u001b[0mmax\u001b[0m\u001b[0;34m(\u001b[0m\u001b[0;34m[\u001b[0m\u001b[0;36m2\u001b[0m\u001b[0;34m,\u001b[0m\u001b[0;36m3\u001b[0m\u001b[0;34m,\u001b[0m\u001b[0;36m5\u001b[0m\u001b[0;34m,\u001b[0m\u001b[0;36m1\u001b[0m\u001b[0;34m,\u001b[0m\u001b[0;36m3\u001b[0m\u001b[0;34m]\u001b[0m\u001b[0;34m)\u001b[0m\u001b[0;34m\u001b[0m\u001b[0;34m\u001b[0m\u001b[0m\n\u001b[0m",
            "\u001b[0;31mTypeError\u001b[0m: 'int' object is not callable"
          ]
        }
      ]
    },
    {
      "cell_type": "code",
      "metadata": {
        "id": "5wwdcfIsA-s3",
        "outputId": "1cb92a46-2530-4dda-91f8-375bc0dedc52",
        "colab": {
          "base_uri": "https://localhost:8080/",
          "height": 197
        }
      },
      "source": [
        "list1, list2 = [123, 'xyz', 'zara', 'abc'], [456, 700, 200]\r\n",
        "print(\"Max value element : \", max(list1))\r\n",
        "# print \"Max value element : \", max(list2)"
      ],
      "execution_count": 32,
      "outputs": [
        {
          "output_type": "error",
          "ename": "TypeError",
          "evalue": "ignored",
          "traceback": [
            "\u001b[0;31m---------------------------------------------------------------------------\u001b[0m",
            "\u001b[0;31mTypeError\u001b[0m                                 Traceback (most recent call last)",
            "\u001b[0;32m<ipython-input-32-e5c655d780d2>\u001b[0m in \u001b[0;36m<module>\u001b[0;34m()\u001b[0m\n\u001b[1;32m      1\u001b[0m \u001b[0mlist1\u001b[0m\u001b[0;34m,\u001b[0m \u001b[0mlist2\u001b[0m \u001b[0;34m=\u001b[0m \u001b[0;34m[\u001b[0m\u001b[0;36m123\u001b[0m\u001b[0;34m,\u001b[0m \u001b[0;34m'xyz'\u001b[0m\u001b[0;34m,\u001b[0m \u001b[0;34m'zara'\u001b[0m\u001b[0;34m,\u001b[0m \u001b[0;34m'abc'\u001b[0m\u001b[0;34m]\u001b[0m\u001b[0;34m,\u001b[0m \u001b[0;34m[\u001b[0m\u001b[0;36m456\u001b[0m\u001b[0;34m,\u001b[0m \u001b[0;36m700\u001b[0m\u001b[0;34m,\u001b[0m \u001b[0;36m200\u001b[0m\u001b[0;34m]\u001b[0m\u001b[0;34m\u001b[0m\u001b[0;34m\u001b[0m\u001b[0m\n\u001b[0;32m----> 2\u001b[0;31m \u001b[0mprint\u001b[0m\u001b[0;34m(\u001b[0m\u001b[0;34m\"Max value element : \"\u001b[0m\u001b[0;34m,\u001b[0m \u001b[0mmax\u001b[0m\u001b[0;34m(\u001b[0m\u001b[0mlist1\u001b[0m\u001b[0;34m)\u001b[0m\u001b[0;34m)\u001b[0m\u001b[0;34m\u001b[0m\u001b[0;34m\u001b[0m\u001b[0m\n\u001b[0m\u001b[1;32m      3\u001b[0m \u001b[0;31m# print \"Max value element : \", max(list2)\u001b[0m\u001b[0;34m\u001b[0m\u001b[0;34m\u001b[0m\u001b[0;34m\u001b[0m\u001b[0m\n",
            "\u001b[0;31mTypeError\u001b[0m: 'int' object is not callable"
          ]
        }
      ]
    },
    {
      "cell_type": "code",
      "metadata": {
        "colab": {
          "base_uri": "https://localhost:8080/"
        },
        "id": "dk_h9pws8YL-",
        "outputId": "5fdd7998-e3e9-4288-de08-96487a31066b"
      },
      "source": [
        "# Given an array of integers nums and an integer target, return indices of the two numbers such that they add up to target.\r\n",
        "nums=[2,7,11,15]\r\n",
        "target = 9\r\n",
        "\r\n",
        "class Solution:\r\n",
        "    for i in range(len(nums)-1):\r\n",
        "        for j in range(i+1,len(nums)):\r\n",
        "          if target==nums[i]+nums[j]:\r\n",
        "            print(i,j)"
      ],
      "execution_count": null,
      "outputs": [
        {
          "output_type": "stream",
          "text": [
            "0 1\n"
          ],
          "name": "stdout"
        }
      ]
    },
    {
      "cell_type": "code",
      "metadata": {
        "colab": {
          "base_uri": "https://localhost:8080/"
        },
        "id": "K9r3kab593Ib",
        "outputId": "f64614cf-b0af-44b2-afe4-95c41d041c0d"
      },
      "source": [
        "# sum of reversed digits of l1, l2 and get digits in sum as array\r\n",
        "# l1 = [9,9,9,9,9,9,9]\r\n",
        "# l2 = [9,9,9,9]\r\n",
        "l1 = [2,4,3]\r\n",
        "l2 = [5,6,4]\r\n",
        "l1_sum=0\r\n",
        "l2_sum=0\r\n",
        "l3=[]\r\n",
        "for i in range(len(l1)):\r\n",
        "    l1_sum += l1[i]*pow(10,i)\r\n",
        "for i in range(len(l2)):\r\n",
        "    l1_sum += l2[i]*pow(10,i)\r\n",
        "for x in str(l1_sum):\r\n",
        "    l3.insert(0,int(x))\r\n",
        "print(l3)"
      ],
      "execution_count": 5,
      "outputs": [
        {
          "output_type": "stream",
          "text": [
            "[7, 0, 8]\n"
          ],
          "name": "stdout"
        }
      ]
    },
    {
      "cell_type": "code",
      "metadata": {
        "colab": {
          "base_uri": "https://localhost:8080/"
        },
        "id": "M_sUiwEkFpoz",
        "outputId": "76d04f07-bf54-49f7-aa8e-b996fda4a6e9"
      },
      "source": [
        "# Distinct/Unique characters in a string\r\n",
        "s = \"pwwkew\"\r\n",
        "l = []\r\n",
        "for i in range(len(s)):\r\n",
        "  if s[i] not in l:\r\n",
        "    l.append(s[i])\r\n",
        "print(l)\r\n",
        "\r\n",
        "# Distinct/Unique characters in a string Using counter\r\n",
        "from collections import Counter\r\n",
        "char_count = Counter(\"pwwkew\")\r\n",
        "print(char_count)\r\n",
        "print([i for i,j in char_count.items()])"
      ],
      "execution_count": 2,
      "outputs": [
        {
          "output_type": "stream",
          "text": [
            "['p', 'w', 'k', 'e']\n",
            "Counter({'w': 3, 'p': 1, 'k': 1, 'e': 1})\n",
            "['p', 'w', 'k', 'e']\n"
          ],
          "name": "stdout"
        }
      ]
    },
    {
      "cell_type": "code",
      "metadata": {
        "colab": {
          "base_uri": "https://localhost:8080/"
        },
        "id": "ecTb5NBvJLYy",
        "outputId": "85d968e2-ce2a-4992-c767-c5f3bebeb2f3"
      },
      "source": [
        "s = \"pwwkew\"\r\n",
        "l = []\r\n",
        "for i in range(len(s)):\r\n",
        "  l.append(i)\r\n",
        "  for j in range(i+1,len(s)+1):\r\n",
        "    l.append(j)\r\n",
        "    print(l)"
      ],
      "execution_count": 6,
      "outputs": [
        {
          "output_type": "stream",
          "text": [
            "[0, 1]\n",
            "[0, 1, 2]\n",
            "[0, 1, 2, 3]\n",
            "[0, 1, 2, 3, 4]\n",
            "[0, 1, 2, 3, 4, 5]\n",
            "[0, 1, 2, 3, 4, 5, 6]\n",
            "[0, 1, 2, 3, 4, 5, 6, 1, 2]\n",
            "[0, 1, 2, 3, 4, 5, 6, 1, 2, 3]\n",
            "[0, 1, 2, 3, 4, 5, 6, 1, 2, 3, 4]\n",
            "[0, 1, 2, 3, 4, 5, 6, 1, 2, 3, 4, 5]\n",
            "[0, 1, 2, 3, 4, 5, 6, 1, 2, 3, 4, 5, 6]\n",
            "[0, 1, 2, 3, 4, 5, 6, 1, 2, 3, 4, 5, 6, 2, 3]\n",
            "[0, 1, 2, 3, 4, 5, 6, 1, 2, 3, 4, 5, 6, 2, 3, 4]\n",
            "[0, 1, 2, 3, 4, 5, 6, 1, 2, 3, 4, 5, 6, 2, 3, 4, 5]\n",
            "[0, 1, 2, 3, 4, 5, 6, 1, 2, 3, 4, 5, 6, 2, 3, 4, 5, 6]\n",
            "[0, 1, 2, 3, 4, 5, 6, 1, 2, 3, 4, 5, 6, 2, 3, 4, 5, 6, 3, 4]\n",
            "[0, 1, 2, 3, 4, 5, 6, 1, 2, 3, 4, 5, 6, 2, 3, 4, 5, 6, 3, 4, 5]\n",
            "[0, 1, 2, 3, 4, 5, 6, 1, 2, 3, 4, 5, 6, 2, 3, 4, 5, 6, 3, 4, 5, 6]\n",
            "[0, 1, 2, 3, 4, 5, 6, 1, 2, 3, 4, 5, 6, 2, 3, 4, 5, 6, 3, 4, 5, 6, 4, 5]\n",
            "[0, 1, 2, 3, 4, 5, 6, 1, 2, 3, 4, 5, 6, 2, 3, 4, 5, 6, 3, 4, 5, 6, 4, 5, 6]\n",
            "[0, 1, 2, 3, 4, 5, 6, 1, 2, 3, 4, 5, 6, 2, 3, 4, 5, 6, 3, 4, 5, 6, 4, 5, 6, 5, 6]\n"
          ],
          "name": "stdout"
        }
      ]
    },
    {
      "cell_type": "code",
      "metadata": {
        "id": "H6b0qNX1IPTv",
        "colab": {
          "base_uri": "https://localhost:8080/"
        },
        "outputId": "3e75f494-dec1-4a9a-8adf-727f24d58622"
      },
      "source": [
        "def xorOperation (n, start):\r\n",
        "    xor_operator = start\r\n",
        "    for i in range(1,n):\r\n",
        "        xor_operator = (start+(2*i))^xor_operator\r\n",
        "    return xor_operator\r\n",
        "    \r\n",
        "xorOperation(4, 3)\r\n",
        "xorOperation(1, 7)\r\n",
        "xorOperation(10, 5)"
      ],
      "execution_count": 4,
      "outputs": [
        {
          "output_type": "execute_result",
          "data": {
            "text/plain": [
              "2"
            ]
          },
          "metadata": {
            "tags": []
          },
          "execution_count": 4
        }
      ]
    },
    {
      "cell_type": "code",
      "metadata": {
        "id": "Tl4xIe0oITHd",
        "colab": {
          "base_uri": "https://localhost:8080/"
        },
        "outputId": "f1195d5a-b39e-4c73-d719-5a75de78b01c"
      },
      "source": [
        "# Extract items in even indices\r\n",
        "arr = [1,4,2,5,3]\r\n",
        "for i in range(len(arr)):\r\n",
        "  if i%2==0:\r\n",
        "    for j in range(0,(len(arr)//2)+1):\r\n",
        "      if 2*j+1>=i:\r\n",
        "        print(arr[i:(2*j)+1])\r\n",
        "  else:\r\n",
        "    for j in range(0,(len(arr)//2)+1):\r\n",
        "      if 2*j>i:\r\n",
        "        print(arr[i:(2*j)])"
      ],
      "execution_count": null,
      "outputs": [
        {
          "output_type": "stream",
          "text": [
            "[1]\n",
            "[1, 4, 2]\n",
            "[1, 4, 2, 5, 3]\n",
            "[4]\n",
            "[4, 2, 5]\n",
            "[2]\n",
            "[2, 5, 3]\n",
            "[5]\n",
            "[3]\n"
          ],
          "name": "stdout"
        }
      ]
    },
    {
      "cell_type": "code",
      "metadata": {
        "id": "7PogbvteITEn",
        "colab": {
          "base_uri": "https://localhost:8080/"
        },
        "outputId": "c7187f58-0cdf-4fa1-974b-64a4725b872f"
      },
      "source": [
        "arr = [1,4,2,5,3]\r\n",
        "arr = [1,2]\r\n",
        "sum = 0\r\n",
        "for i in range(len(arr)):\r\n",
        "  if i%2==0:\r\n",
        "    for j in range(0,(len(arr)//2)+1):\r\n",
        "      if 2*j+1>=i and 2*j+1<=len(arr):\r\n",
        "        for z in arr[i:(2*j)+1]:\r\n",
        "          sum += z\r\n",
        "  else:\r\n",
        "    for j in range(0,(len(arr)//2)+1):\r\n",
        "      if 2*j>i and 2*j<=len(arr):\r\n",
        "        for z in arr[i:(2*j)]:\r\n",
        "          sum += z\r\n",
        "print(sum)"
      ],
      "execution_count": null,
      "outputs": [
        {
          "output_type": "stream",
          "text": [
            "3\n"
          ],
          "name": "stdout"
        }
      ]
    },
    {
      "cell_type": "code",
      "metadata": {
        "id": "FgFWVtQbRdT2",
        "colab": {
          "base_uri": "https://localhost:8080/"
        },
        "outputId": "0fb4061b-4dfe-4629-aa61-aad5b98ddbc3"
      },
      "source": [
        "arr = [3,0,1,1,9,7]\r\n",
        "a = 7\r\n",
        "b = 2\r\n",
        "c = 3\r\n",
        "count=0\r\n",
        "for i in range(len(arr)-2):\r\n",
        "  for j in range(i+1,len(arr)-1):\r\n",
        "    for k in range(j+1,len(arr)):\r\n",
        "      if abs(arr[i]-arr[j])<=a and abs(arr[j]-arr[k])<=b and abs(arr[i]-arr[k])<=c:\r\n",
        "        count +=1\r\n",
        "print(count)"
      ],
      "execution_count": null,
      "outputs": [
        {
          "output_type": "stream",
          "text": [
            "4\n"
          ],
          "name": "stdout"
        }
      ]
    },
    {
      "cell_type": "code",
      "metadata": {
        "id": "hrqbD65oViUc",
        "colab": {
          "base_uri": "https://localhost:8080/"
        },
        "outputId": "18ad2568-e8d9-47cb-914c-2504e99c20e2"
      },
      "source": [
        "# To count number of digits in a number. keep dividing the number till floor remainder is not 0, count the number of iterations\r\n",
        "n = 362068690\r\n",
        "count=1\r\n",
        "while n//10!=0:\r\n",
        "  n = n//10\r\n",
        "  count +=1\r\n",
        "print(count)"
      ],
      "execution_count": 7,
      "outputs": [
        {
          "output_type": "stream",
          "text": [
            "9\n"
          ],
          "name": "stdout"
        }
      ]
    },
    {
      "cell_type": "code",
      "metadata": {
        "id": "wFSo1KdKViOq",
        "colab": {
          "base_uri": "https://localhost:8080/"
        },
        "outputId": "c1fc99b6-bdf1-4ed0-8f0a-2e3974e88503"
      },
      "source": [
        "# Mmax steps between any two points in the array\r\n",
        "points = [[1,1],[3,4],[-1,0]]\r\n",
        "steps=0\r\n",
        "for i in range(len(points)-1):\r\n",
        "  steps += max(abs(points[i][0]-points[i+1][0]),abs(points[i][1]-points[i+1][1]))\r\n",
        "print(steps)"
      ],
      "execution_count": null,
      "outputs": [
        {
          "output_type": "stream",
          "text": [
            "7\n"
          ],
          "name": "stdout"
        }
      ]
    },
    {
      "cell_type": "code",
      "metadata": {
        "id": "yfIJPbRzliqX",
        "colab": {
          "base_uri": "https://localhost:8080/"
        },
        "outputId": "c78b53c5-6793-4cc2-93cd-47c6581cdc89"
      },
      "source": [
        "mat[0][::-1] #First list of the matrix is reversed"
      ],
      "execution_count": null,
      "outputs": [
        {
          "output_type": "execute_result",
          "data": {
            "text/plain": [
              "[4, 3, 2, 1]"
            ]
          },
          "metadata": {
            "tags": []
          },
          "execution_count": 108
        }
      ]
    },
    {
      "cell_type": "code",
      "metadata": {
        "id": "4B15JpjXoNh1",
        "colab": {
          "base_uri": "https://localhost:8080/"
        },
        "outputId": "f440fc9a-9880-427e-833b-6db4917b4fe6"
      },
      "source": [
        "# Get the diagonal indexed items\r\n",
        "mat = [[14,7,18,6,3,20,15],\r\n",
        "       [5,4,3,17,7,13,4],\r\n",
        "       [14,11,14,2,3,10,12],\r\n",
        "       [9,17,20,16,14,1,16],\r\n",
        "       [4,10,20,12,4,17,14],\r\n",
        "       [5,20,19,11,5,4,12],\r\n",
        "       [10,4,11,11,13,4,6]]\r\n",
        "i=len(mat[0])\r\n",
        "j =len(mat)\r\n",
        "sum=0\r\n",
        "for a in range(i):\r\n",
        "  for b in range(j):\r\n",
        "    if a==b:\r\n",
        "      print(mat[a][b]) \r\n",
        "if j%2!=0 and j!=1:\r\n",
        "  for a in range(j):\r\n",
        "    if a!=(j//2):\r\n",
        "      rev = mat[a][::-1]\r\n",
        "      print(rev[a])\r\n",
        "elif j%2==0 and j!=1:\r\n",
        "  for a in range(j):\r\n",
        "    rev = mat[a][::-1]\r\n",
        "    print(rev[a])"
      ],
      "execution_count": null,
      "outputs": [
        {
          "output_type": "stream",
          "text": [
            "14\n",
            "4\n",
            "14\n",
            "16\n",
            "4\n",
            "4\n",
            "6\n",
            "15\n",
            "13\n",
            "3\n",
            "20\n",
            "20\n",
            "10\n"
          ],
          "name": "stdout"
        }
      ]
    },
    {
      "cell_type": "code",
      "metadata": {
        "id": "hh7n1U2FnwwZ",
        "colab": {
          "base_uri": "https://localhost:8080/"
        },
        "outputId": "48db16fb-47d7-4663-8bb6-a2529150f743"
      },
      "source": [
        "mat = [[14,7,18,6,3,20,15],\r\n",
        "       [5,4,3,17,7,13,4],\r\n",
        "       [14,11,14,2,3,10,12],\r\n",
        "       [9,17,20,16,14,1,16],\r\n",
        "       [4,10,20,12,4,17,14],\r\n",
        "       [5,20,19,11,5,4,12],\r\n",
        "       [10,4,11,11,13,4,6]]\r\n",
        "i=len(mat[0])\r\n",
        "j =len(mat)\r\n",
        "sum=0\r\n",
        "for a in range(i):\r\n",
        "  for b in range(j):\r\n",
        "    if a==b:\r\n",
        "      sum += mat[a][b]\r\n",
        "if j%2!=0 and j!=1:\r\n",
        "  for a in range(j):\r\n",
        "    if a!=(j//2):\r\n",
        "      rev = mat[a][::-1]\r\n",
        "      sum += rev[a]\r\n",
        "elif j%2==0 and j!=1:\r\n",
        "  for a in range(j):\r\n",
        "    rev = mat[a][::-1]\r\n",
        "    sum += rev[a]\r\n",
        "print(sum)"
      ],
      "execution_count": null,
      "outputs": [
        {
          "output_type": "stream",
          "text": [
            "143\n"
          ],
          "name": "stdout"
        }
      ]
    },
    {
      "cell_type": "code",
      "metadata": {
        "id": "hNSbMNaTqu-I",
        "colab": {
          "base_uri": "https://localhost:8080/"
        },
        "outputId": "cc65263b-abeb-44c5-faf2-dedbe70ee59a"
      },
      "source": [
        "# Reverse rows of matrix and then swap 0 for 1 and 1 for 0\r\n",
        "mat = [[1,1,0],[1,0,1],[0,0,0]]\r\n",
        "for i in range(len(mat)):\r\n",
        "  mat[i] = mat[i][::-1]\r\n",
        "  \r\n",
        "# # Traversing through a matrix is done by lists within a matrix and then go through items with matrix\r\n",
        "for i in range(len(mat)): \r\n",
        "  for j in range(len(mat[0])):\r\n",
        "    if mat[i][j]==1:\r\n",
        "      mat[i][j]=0\r\n",
        "    else:\r\n",
        "      mat[i][j]=1\r\n",
        "print(mat)\r\n"
      ],
      "execution_count": null,
      "outputs": [
        {
          "output_type": "stream",
          "text": [
            "[[1, 0, 0], [0, 1, 0], [1, 1, 1]]\n"
          ],
          "name": "stdout"
        }
      ]
    },
    {
      "cell_type": "code",
      "metadata": {
        "id": "BlP6i0LBrYnq",
        "colab": {
          "base_uri": "https://localhost:8080/"
        },
        "outputId": "95c41e31-89a3-4f21-e98d-c79e5ffa1f8f"
      },
      "source": [
        "height = [1,8,6,2,5,4,8,3,7]\r\n",
        "max = 0\r\n",
        "for i in range(len(height)-1):\r\n",
        "  for j in range(1,len(height)):\r\n",
        "    if min(height[i],height[j])*(j-i)>max:\r\n",
        "      max = min(height[i],height[j])*(j-i)\r\n",
        "print(max)"
      ],
      "execution_count": null,
      "outputs": [
        {
          "output_type": "stream",
          "text": [
            "49\n"
          ],
          "name": "stdout"
        }
      ]
    },
    {
      "cell_type": "code",
      "metadata": {
        "id": "AQ4ZRfrhgsHI",
        "colab": {
          "base_uri": "https://localhost:8080/"
        },
        "outputId": "5f207912-e2b6-41cd-b033-014f47a8b322"
      },
      "source": [
        "# there are duplicates in this \r\n",
        "nums = [-1,0,1,2,-1,-4]\r\n",
        "for i in range(len(nums)-2):\r\n",
        "    for j in range(i+1,len(nums)-1):\r\n",
        "        for k in range(j+1,len(nums)):\r\n",
        "            if nums[i]+nums[j]+nums[k]==0:\r\n",
        "                print(nums[i],nums[j],nums[k])"
      ],
      "execution_count": null,
      "outputs": [
        {
          "output_type": "stream",
          "text": [
            "-1 0 1\n",
            "-1 2 -1\n",
            "0 1 -1\n"
          ],
          "name": "stdout"
        }
      ]
    },
    {
      "cell_type": "code",
      "metadata": {
        "id": "mc-VIv1kae9G",
        "colab": {
          "base_uri": "https://localhost:8080/"
        },
        "outputId": "b201c32f-2682-4703-d6e9-a36b84bcba23"
      },
      "source": [
        "# 15. 3Sum - Use set function to remove duplicates i.e to check if [1,0,-1] is same as [-1,0,1]\r\n",
        "nums = [-1,0,1,2,-1,-4]\r\n",
        "new_nums = []\r\n",
        "for i in range(len(nums)-2):\r\n",
        "    for j in range(i+1,len(nums)-1):\r\n",
        "        for k in range(j+1,len(nums)):\r\n",
        "            if nums[i]+nums[j]+nums[k]==0 and set([nums[i],nums[j],nums[k]]) not in new_nums:\r\n",
        "                new_nums.append(set([nums[i],nums[j],nums[k]]))\r\n",
        "print(len(new_nums))"
      ],
      "execution_count": null,
      "outputs": [
        {
          "output_type": "stream",
          "text": [
            "2\n"
          ],
          "name": "stdout"
        }
      ]
    },
    {
      "cell_type": "code",
      "metadata": {
        "id": "_iugYsslmNXx",
        "colab": {
          "base_uri": "https://localhost:8080/"
        },
        "outputId": "e87d614b-595d-4f44-cad7-f4a602d22bb5"
      },
      "source": [
        "# 1450\r\n",
        "startTime = [1,2,3]\r\n",
        "endTime = [3,2,7]\r\n",
        "queryTime = 4\r\n",
        "count = 0\r\n",
        "for i in range(len(startTime)):\r\n",
        "  if (endTime[i]>=queryTime) and (startTime[i]<=queryTime):\r\n",
        "      count +=1\r\n",
        "print(count)"
      ],
      "execution_count": null,
      "outputs": [
        {
          "output_type": "stream",
          "text": [
            "1\n"
          ],
          "name": "stdout"
        }
      ]
    },
    {
      "cell_type": "code",
      "metadata": {
        "id": "yHqW0hYqpy42",
        "colab": {
          "base_uri": "https://localhost:8080/"
        },
        "outputId": "6ec97c94-0034-4064-ccb5-2f76b05d8352"
      },
      "source": [
        "n = 2\r\n",
        "arr = []\r\n",
        "if n%2==0:\r\n",
        "    for i in range(1,n//2+1):\r\n",
        "        arr.append(i) \r\n",
        "        arr.append(-i) \r\n",
        "else:\r\n",
        "    arr.append(0)\r\n",
        "    for i in range(1,n//2+1):\r\n",
        "        arr.append(i) \r\n",
        "        arr.append(-i)\r\n",
        "print(arr)"
      ],
      "execution_count": null,
      "outputs": [
        {
          "output_type": "stream",
          "text": [
            "[1, -1]\n"
          ],
          "name": "stdout"
        }
      ]
    },
    {
      "cell_type": "code",
      "metadata": {
        "id": "En277cs_tp7P",
        "colab": {
          "base_uri": "https://localhost:8080/",
          "height": 193
        },
        "outputId": "5f164637-23b3-482d-9323-02e3424d3950"
      },
      "source": [
        "arr = [4,3,2,-1]\r\n",
        "for j in arr[::-1]:\r\n",
        "    while j<0:\r\n",
        "        count +=1"
      ],
      "execution_count": null,
      "outputs": [
        {
          "output_type": "error",
          "ename": "KeyboardInterrupt",
          "evalue": "ignored",
          "traceback": [
            "\u001b[0;31m---------------------------------------------------------------------------\u001b[0m",
            "\u001b[0;31mKeyboardInterrupt\u001b[0m                         Traceback (most recent call last)",
            "\u001b[0;32m<ipython-input-51-abfd60d49d9a>\u001b[0m in \u001b[0;36m<module>\u001b[0;34m()\u001b[0m\n\u001b[1;32m      2\u001b[0m \u001b[0;32mfor\u001b[0m \u001b[0mj\u001b[0m \u001b[0;32min\u001b[0m \u001b[0marr\u001b[0m\u001b[0;34m[\u001b[0m\u001b[0;34m:\u001b[0m\u001b[0;34m:\u001b[0m\u001b[0;34m-\u001b[0m\u001b[0;36m1\u001b[0m\u001b[0;34m]\u001b[0m\u001b[0;34m:\u001b[0m\u001b[0;34m\u001b[0m\u001b[0;34m\u001b[0m\u001b[0m\n\u001b[1;32m      3\u001b[0m     \u001b[0;32mwhile\u001b[0m \u001b[0mj\u001b[0m\u001b[0;34m<\u001b[0m\u001b[0;36m0\u001b[0m\u001b[0;34m:\u001b[0m\u001b[0;34m\u001b[0m\u001b[0;34m\u001b[0m\u001b[0m\n\u001b[0;32m----> 4\u001b[0;31m         \u001b[0mcount\u001b[0m \u001b[0;34m+=\u001b[0m\u001b[0;36m1\u001b[0m\u001b[0;34m\u001b[0m\u001b[0;34m\u001b[0m\u001b[0m\n\u001b[0m",
            "\u001b[0;31mKeyboardInterrupt\u001b[0m: "
          ]
        }
      ]
    },
    {
      "cell_type": "code",
      "metadata": {
        "id": "rzOncexQ1619",
        "colab": {
          "base_uri": "https://localhost:8080/"
        },
        "outputId": "4d580c26-c85b-4231-b5e0-eebc264b0e34"
      },
      "source": [
        "prices = [8,4,6,2,3]\r\n",
        "new_prices =[]\r\n",
        "discountapplied = []\r\n",
        "for i in range(len(prices)):\r\n",
        "    discount=0\r\n",
        "    for j in range(i+1,len(prices)):\r\n",
        "        if prices[j]<=prices[i] and discount==0:\r\n",
        "            discount=prices[j]\r\n",
        "            new_prices.append(prices[i]-discount)\r\n",
        "            discountapplied.append(i)\r\n",
        "    if i not in discountapplied:\r\n",
        "        new_prices.append(prices[i])\r\n",
        "\r\n",
        "        # elif prices[j]>prices[i]:\r\n",
        "        #     new_prices.append(prices[i])\r\n",
        "print(new_prices)\r\n",
        "print(discountapplied)"
      ],
      "execution_count": null,
      "outputs": [
        {
          "output_type": "stream",
          "text": [
            "[4, 2, 4, 2, 3]\n",
            "[0, 1, 2]\n"
          ],
          "name": "stdout"
        }
      ]
    },
    {
      "cell_type": "code",
      "metadata": {
        "id": "04Pf8ov-zIAS",
        "colab": {
          "base_uri": "https://localhost:8080/"
        },
        "outputId": "1d167c93-42c3-431d-9f7b-019dbf9d818b"
      },
      "source": [
        "# Initialize list with list\r\n",
        "mat = []\r\n",
        "for i in range(5):\r\n",
        "  mat.append([])\r\n",
        "print(mat)"
      ],
      "execution_count": null,
      "outputs": [
        {
          "output_type": "stream",
          "text": [
            "[[], [], [], [], []]\n"
          ],
          "name": "stdout"
        }
      ]
    },
    {
      "cell_type": "code",
      "metadata": {
        "id": "IPCumdBfQtzx",
        "colab": {
          "base_uri": "https://localhost:8080/"
        },
        "outputId": "e1a61688-1a4b-4f1b-e252-3c0423efee1d"
      },
      "source": [
        "# Initialize list with lists\r\n",
        "n = 5\r\n",
        "list_of_lists = [[] for i in range(5)] # Initialize list of list\r\n",
        "for i in range(n):\r\n",
        "  for j in range(i+1):\r\n",
        "    list_of_lists[i].append(1)\r\n",
        "print(list_of_lists)\r\n",
        "for i in \r\n"
      ],
      "execution_count": null,
      "outputs": [
        {
          "output_type": "stream",
          "text": [
            "[[1], [1, 1], [1, 1, 1], [1, 1, 1, 1], [1, 1, 1, 1, 1]]\n"
          ],
          "name": "stdout"
        }
      ]
    },
    {
      "cell_type": "code",
      "metadata": {
        "id": "bBqVYlFztRli",
        "colab": {
          "base_uri": "https://localhost:8080/"
        },
        "outputId": "95fb1ff9-f889-4b47-c7b6-a4c319ac0bd2"
      },
      "source": [
        "# 1351\r\n",
        "grid = [[4,3,2,-1],[3,2,1,-1],[1,1,-1,-2],[-1,-1,-2,-3]]\r\n",
        "count=0\r\n",
        "for i in range(len(grid)):\r\n",
        "    for j in grid[i][::-1]:\r\n",
        "        if j<0:\r\n",
        "            count +=1\r\n",
        "print(count)"
      ],
      "execution_count": null,
      "outputs": [
        {
          "output_type": "stream",
          "text": [
            "8\n"
          ],
          "name": "stdout"
        }
      ]
    },
    {
      "cell_type": "code",
      "metadata": {
        "id": "0meoXlRlEZG_",
        "colab": {
          "base_uri": "https://localhost:8080/"
        },
        "outputId": "81fd4b06-eb3c-4b20-b695-aeeca7f3a93c"
      },
      "source": [
        "# wrong - do it again\r\n",
        "nums = [3,3]\r\n",
        "target = 6\r\n",
        "\r\n",
        "sortednums = sorted(nums)\r\n",
        "Twosum_index = []\r\n",
        "i=0\r\n",
        "j=len(nums)-1\r\n",
        "while (i<j):\r\n",
        "    Twosum = sortednums[i]+sortednums[j]\r\n",
        "    if Twosum==target:\r\n",
        "        k = nums.index(sortednums[i])\r\n",
        "        Twosum_index.append(nums.index(sortednums[i]))\r\n",
        "        Twosum_index.append(nums[k+1:].index(sortednums[j])+1)\r\n",
        "        break\r\n",
        "    elif Twosum>target:\r\n",
        "        j -=1\r\n",
        "    else:\r\n",
        "        i += 1\r\n",
        "print(Twosum_index)"
      ],
      "execution_count": null,
      "outputs": [
        {
          "output_type": "stream",
          "text": [
            "[0, 1]\n"
          ],
          "name": "stdout"
        }
      ]
    },
    {
      "cell_type": "code",
      "metadata": {
        "id": "Ll8ERmsaOAmn",
        "colab": {
          "base_uri": "https://localhost:8080/"
        },
        "outputId": "19afcd64-2c26-425c-ecb1-1befb086c080"
      },
      "source": [
        "# dynamic\r\n",
        "prices = [7,1,5,3,6,4]\r\n",
        "min_prices = prices[]\r\n",
        "for i in range(len(prices)-1):\r\n",
        "  min_value = min(prices[i],prices[i+1])\r\n",
        "  min_prices.append(min_value)\r\n",
        "print(min_prices)"
      ],
      "execution_count": null,
      "outputs": [
        {
          "output_type": "stream",
          "text": [
            "[1, 1, 3, 3, 4]\n"
          ],
          "name": "stdout"
        }
      ]
    },
    {
      "cell_type": "code",
      "metadata": {
        "id": "HapjR_ng7HPq"
      },
      "source": [
        "def threeSum(self, nums: List[int]) -> List[List[int]]:\r\n",
        "    new_set = []\r\n",
        "    new_array = []\r\n",
        "    for i in range(len(nums)-2):\r\n",
        "        for j in range(i+1,len(nums)-1):\r\n",
        "            for k in range(j+1,len(nums)):\r\n",
        "                if (nums[i]+nums[j]+nums[k]==0) and set([nums[i],nums[j],nums[k]]) not in new_set:\r\n",
        "                    new_set.append(set([nums[i],nums[j],nums[k]]))\r\n",
        "                    new_array.append([nums[i],nums[j],nums[k]])\r\n",
        "    return new_array"
      ],
      "execution_count": null,
      "outputs": []
    },
    {
      "cell_type": "code",
      "metadata": {
        "id": "2MDL8CqFViK7",
        "colab": {
          "base_uri": "https://localhost:8080/"
        },
        "outputId": "d11ea7c1-499e-4558-8509-880db8eb001b"
      },
      "source": [
        "# Not solved\r\n",
        "items = [[1,91],[1,92],[2,93],[2,97],[1,60],[2,77],[1,65],[1,87],[1,100],[2,100],[2,76]]\r\n",
        "List_keys = []\r\n",
        "for i in range(len(items)):\r\n",
        "    if items[i][0] not in List_keys:\r\n",
        "        List_keys.append(items[i][0])\r\n",
        "for i in List_keys:\r\n",
        "  if i in items[0]:\r\n",
        "    print(i)"
      ],
      "execution_count": null,
      "outputs": [
        {
          "output_type": "stream",
          "text": [
            "1\n",
            "2\n"
          ],
          "name": "stdout"
        }
      ]
    }
  ]
}