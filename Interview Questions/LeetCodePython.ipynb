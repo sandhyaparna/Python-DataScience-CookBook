{
  "nbformat": 4,
  "nbformat_minor": 0,
  "metadata": {
    "colab": {
      "name": "LeetCodePython.ipynb",
      "provenance": [],
      "collapsed_sections": [],
      "authorship_tag": "ABX9TyM36pO1IjJb+b4p7pmBVts2",
      "include_colab_link": true
    },
    "kernelspec": {
      "name": "python3",
      "display_name": "Python 3"
    }
  },
  "cells": [
    {
      "cell_type": "markdown",
      "metadata": {
        "id": "view-in-github",
        "colab_type": "text"
      },
      "source": [
        "<a href=\"https://colab.research.google.com/github/sandhyaparna/Python-DataScience-CookBook/blob/master/Interview%20Questions/LeetCodePython.ipynb\" target=\"_parent\"><img src=\"https://colab.research.google.com/assets/colab-badge.svg\" alt=\"Open In Colab\"/></a>"
      ]
    },
    {
      "cell_type": "code",
      "metadata": {
        "colab": {
          "base_uri": "https://localhost:8080/"
        },
        "id": "dk_h9pws8YL-",
        "outputId": "5fdd7998-e3e9-4288-de08-96487a31066b"
      },
      "source": [
        "# Given an array of integers nums and an integer target, return indices of the two numbers such that they add up to target.\r\n",
        "nums=[2,7,11,15]\r\n",
        "target = 9\r\n",
        "\r\n",
        "class Solution:\r\n",
        "    for i in range(len(nums)-1):\r\n",
        "        for j in range(i+1,len(nums)):\r\n",
        "          if target==nums[i]+nums[j]:\r\n",
        "            print(i,j)"
      ],
      "execution_count": 44,
      "outputs": [
        {
          "output_type": "stream",
          "text": [
            "0 1\n"
          ],
          "name": "stdout"
        }
      ]
    },
    {
      "cell_type": "code",
      "metadata": {
        "colab": {
          "base_uri": "https://localhost:8080/"
        },
        "id": "K9r3kab593Ib",
        "outputId": "fd5ce317-4d58-4da4-affd-ff413c2e347e"
      },
      "source": [
        "l1 = [9,9,9,9,9,9,9]\r\n",
        "l2 = [9,9,9,9]\r\n",
        "# l1 = [2,4,3]\r\n",
        "# l2 = [5,6,4]\r\n",
        "l1_sum=0\r\n",
        "l2_sum=0\r\n",
        "l3=[]\r\n",
        "for i in range(len(l1)):\r\n",
        "    l1_sum += l1[i]*pow(10,i)\r\n",
        "for i in range(len(l2)):\r\n",
        "    l1_sum += l2[i]*pow(10,i)\r\n",
        "for x in str(l1_sum):\r\n",
        "    l3.insert(0,int(x))\r\n",
        "print(l3)"
      ],
      "execution_count": 86,
      "outputs": [
        {
          "output_type": "stream",
          "text": [
            "[8, 9, 9, 9, 0, 0, 0, 1]\n"
          ],
          "name": "stdout"
        }
      ]
    },
    {
      "cell_type": "code",
      "metadata": {
        "colab": {
          "base_uri": "https://localhost:8080/"
        },
        "id": "M_sUiwEkFpoz",
        "outputId": "9357a9bc-fc63-4a60-b028-36e7ca223de7"
      },
      "source": [
        "# Distinct/Unique characters in a string\r\n",
        "s = \"pwwkew\"\r\n",
        "l = []\r\n",
        "for i in range(len(s)):\r\n",
        "  if s[i] not in l:\r\n",
        "    l.append(s[i])\r\n",
        "print(l)"
      ],
      "execution_count": 136,
      "outputs": [
        {
          "output_type": "stream",
          "text": [
            "['p', 'w', 'k', 'e']\n"
          ],
          "name": "stdout"
        }
      ]
    },
    {
      "cell_type": "code",
      "metadata": {
        "colab": {
          "base_uri": "https://localhost:8080/"
        },
        "id": "eTjoquUw_ULB",
        "outputId": "7a910a7d-581e-4083-be5d-afb06160e616"
      },
      "source": [
        "s = \"pwwkew\"\r\n",
        "l = []\r\n",
        "for i in range(len(s)):\r\n",
        "  if s[i] not in l:\r\n",
        "    l.append(s[i])\r\n",
        "      for j in l:\r\n",
        "        \r\n",
        "  "
      ],
      "execution_count": 134,
      "outputs": [
        {
          "output_type": "stream",
          "text": [
            "[0]\n",
            "[1]\n",
            "[2]\n",
            "[3]\n",
            "[4]\n",
            "[5]\n"
          ],
          "name": "stdout"
        }
      ]
    },
    {
      "cell_type": "code",
      "metadata": {
        "colab": {
          "base_uri": "https://localhost:8080/"
        },
        "id": "ecTb5NBvJLYy",
        "outputId": "2fea66fe-11c7-41c2-cc14-01155a61b89a"
      },
      "source": [
        "s = \"pwwkew\"\r\n",
        "l = []\r\n",
        "for i in range(len(s)):\r\n",
        "  l.append(i)\r\n",
        "  for j in range(i+1,len(s)+1):\r\n",
        "    l.append(j)\r\n",
        "    print(l)"
      ],
      "execution_count": 131,
      "outputs": [
        {
          "output_type": "stream",
          "text": [
            "[0, 1]\n",
            "[0, 1, 2]\n",
            "[0, 1, 2, 3]\n",
            "[0, 1, 2, 3, 4]\n",
            "[0, 1, 2, 3, 4, 5]\n",
            "[0, 1, 2, 3, 4, 5, 6]\n",
            "[0, 1, 2, 3, 4, 5, 6, 1, 2]\n",
            "[0, 1, 2, 3, 4, 5, 6, 1, 2, 3]\n",
            "[0, 1, 2, 3, 4, 5, 6, 1, 2, 3, 4]\n",
            "[0, 1, 2, 3, 4, 5, 6, 1, 2, 3, 4, 5]\n",
            "[0, 1, 2, 3, 4, 5, 6, 1, 2, 3, 4, 5, 6]\n",
            "[0, 1, 2, 3, 4, 5, 6, 1, 2, 3, 4, 5, 6, 2, 3]\n",
            "[0, 1, 2, 3, 4, 5, 6, 1, 2, 3, 4, 5, 6, 2, 3, 4]\n",
            "[0, 1, 2, 3, 4, 5, 6, 1, 2, 3, 4, 5, 6, 2, 3, 4, 5]\n",
            "[0, 1, 2, 3, 4, 5, 6, 1, 2, 3, 4, 5, 6, 2, 3, 4, 5, 6]\n",
            "[0, 1, 2, 3, 4, 5, 6, 1, 2, 3, 4, 5, 6, 2, 3, 4, 5, 6, 3, 4]\n",
            "[0, 1, 2, 3, 4, 5, 6, 1, 2, 3, 4, 5, 6, 2, 3, 4, 5, 6, 3, 4, 5]\n",
            "[0, 1, 2, 3, 4, 5, 6, 1, 2, 3, 4, 5, 6, 2, 3, 4, 5, 6, 3, 4, 5, 6]\n",
            "[0, 1, 2, 3, 4, 5, 6, 1, 2, 3, 4, 5, 6, 2, 3, 4, 5, 6, 3, 4, 5, 6, 4, 5]\n",
            "[0, 1, 2, 3, 4, 5, 6, 1, 2, 3, 4, 5, 6, 2, 3, 4, 5, 6, 3, 4, 5, 6, 4, 5, 6]\n",
            "[0, 1, 2, 3, 4, 5, 6, 1, 2, 3, 4, 5, 6, 2, 3, 4, 5, 6, 3, 4, 5, 6, 4, 5, 6, 5, 6]\n"
          ],
          "name": "stdout"
        }
      ]
    },
    {
      "cell_type": "code",
      "metadata": {
        "colab": {
          "base_uri": "https://localhost:8080/"
        },
        "id": "XZwpMvn54h6U",
        "outputId": "ad7c545d-437e-420f-a877-556abddc0825"
      },
      "source": [
        "num=[7,11,15,2]\r\n",
        "# To get index values - for i in range(len(num)-1)\r\n",
        "# To get actual values  - for i in range(num)\r\n",
        "\r\n",
        "for i in range(len(num)-1):\r\n",
        "  for j in num[i+1:]:\r\n",
        "    print(num[i],j)\r\n",
        "print(\"\\n\")\r\n",
        "for i in range(len(num)-1):\r\n",
        "  for j in range(i,len(num)-1):\r\n",
        "    print(num[i],num[j])\r\n",
        "print(\"\\n\")\r\n",
        "for i in range(len(num)-1):\r\n",
        "  for j in range(i+1,len(num)):\r\n",
        "    print(num[i],num[j])"
      ],
      "execution_count": 37,
      "outputs": [
        {
          "output_type": "stream",
          "text": [
            "7 11\n",
            "7 15\n",
            "7 2\n",
            "11 15\n",
            "11 2\n",
            "15 2\n",
            "\n",
            "\n",
            "7 7\n",
            "7 11\n",
            "7 15\n",
            "11 11\n",
            "11 15\n",
            "15 15\n",
            "\n",
            "\n",
            "7 11\n",
            "7 15\n",
            "7 2\n",
            "11 15\n",
            "11 2\n",
            "15 2\n"
          ],
          "name": "stdout"
        }
      ]
    },
    {
      "cell_type": "code",
      "metadata": {
        "colab": {
          "base_uri": "https://localhost:8080/"
        },
        "id": "8GJNzaQP7FGD",
        "outputId": "62db3c3e-d475-4cf2-df08-9b622dfbeefb"
      },
      "source": [
        "for i in range(len(num)-1):\r\n",
        "  for j in range(i+1,len(num)):\r\n",
        "    if target==num[i]+num[j]:\r\n",
        "      print(i,j)"
      ],
      "execution_count": 32,
      "outputs": [
        {
          "output_type": "stream",
          "text": [
            "0 3\n"
          ],
          "name": "stdout"
        }
      ]
    },
    {
      "cell_type": "code",
      "metadata": {
        "colab": {
          "base_uri": "https://localhost:8080/"
        },
        "id": "l80U2j7X4v6B",
        "outputId": "3caac595-2daa-439b-b8be-73802df67496"
      },
      "source": [
        "for i in range(len(num)-1):\r\n",
        "  for j in range(i,len(num)-1):\r\n",
        "    print(num[i],num[j])"
      ],
      "execution_count": 23,
      "outputs": [
        {
          "output_type": "stream",
          "text": [
            "2 2\n",
            "2 7\n",
            "2 11\n",
            "7 7\n",
            "7 11\n",
            "11 11\n"
          ],
          "name": "stdout"
        }
      ]
    },
    {
      "cell_type": "code",
      "metadata": {
        "colab": {
          "base_uri": "https://localhost:8080/"
        },
        "id": "DctoVsO34z-f",
        "outputId": "1f923527-2242-4f14-8777-79fac70576e3"
      },
      "source": [
        "for i in range(len(num)-1):\r\n",
        "  for j in range(i+1,len(num)):\r\n",
        "    print(num[i],num[j])"
      ],
      "execution_count": 26,
      "outputs": [
        {
          "output_type": "stream",
          "text": [
            "2 7\n",
            "2 11\n",
            "2 15\n",
            "7 11\n",
            "7 15\n",
            "11 15\n"
          ],
          "name": "stdout"
        }
      ]
    }
  ]
}