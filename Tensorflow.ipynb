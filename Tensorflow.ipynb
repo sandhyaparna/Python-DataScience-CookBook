{
  "nbformat": 4,
  "nbformat_minor": 0,
  "metadata": {
    "colab": {
      "name": "Tensorflow.ipynb",
      "provenance": [],
      "collapsed_sections": [],
      "authorship_tag": "ABX9TyP+KrqKkAKQAqIcBa2P34No",
      "include_colab_link": true
    },
    "kernelspec": {
      "name": "python3",
      "display_name": "Python 3"
    }
  },
  "cells": [
    {
      "cell_type": "markdown",
      "metadata": {
        "id": "view-in-github",
        "colab_type": "text"
      },
      "source": [
        "<a href=\"https://colab.research.google.com/github/sandhyaparna/Python-DataScience-CookBook/blob/master/Tensorflow.ipynb\" target=\"_parent\"><img src=\"https://colab.research.google.com/assets/colab-badge.svg\" alt=\"Open In Colab\"/></a>"
      ]
    },
    {
      "cell_type": "markdown",
      "metadata": {
        "id": "MHZkMa5W9k0K"
      },
      "source": [
        "* Tensorflow is the most used library in development of Deep Learning models. Keras, on the other end, is a high-level API that is built on top of TensorFlow. In order to train your own custom neural networks, Keras required a backend. A backend is a computational engine — it builds the network graph/topology, runs the optimizers, and performs the actual number crunching. TensorFlow is the default backend starting from the release of Keras v1.1.0. (earlier it was Theano)\r\n",
        "* tf.keras - In Tensorflow 2, Keras is the official high-level API of TensorFlow for quick and easy model design and training.\r\n",
        "  * Standalone Keras. The standalone open source project that supports TensorFlow, Theano and CNTK backends.\r\n",
        "  * tf.keras. The Keras API integrated into TensorFlow 2."
      ]
    },
    {
      "cell_type": "code",
      "metadata": {
        "colab": {
          "base_uri": "https://localhost:8080/"
        },
        "id": "mtI4UrY9UawU",
        "outputId": "40cd99fb-7ea4-4a8d-cf93-8c6a583b5f57"
      },
      "source": [
        "import tensorflow as tf\r\n",
        "print(tf.__version__)"
      ],
      "execution_count": 4,
      "outputs": [
        {
          "output_type": "stream",
          "text": [
            "2.4.1\n"
          ],
          "name": "stdout"
        }
      ]
    },
    {
      "cell_type": "markdown",
      "metadata": {
        "id": "IFCd2iL4XZXQ"
      },
      "source": [
        "**The five steps in the life-cycle are as follows:** </br>\r\n",
        "https://machinelearningmastery.com/tensorflow-tutorial-deep-learning-with-tf-keras/\r\n",
        "* Define the model: defining the layers of the model, configuring each layer with a number of nodes and activation function, and connecting the layers together into a cohesive model.\r\n",
        "* Compile the model: select a loss function that you want to optimize, algorithm to perform the optimization procedure, and performance metrics to keep track of during the model training process.\r\n",
        "* Fit the model: number of epochs (loops through the training dataset) and the batch size (number of samples in an epoch used to estimate model error).\r\n",
        "* Evaluate the model: Evaluate model on hold-out dataset\r\n",
        "* Make predictions: Predict on new data\r\n",
        "\r\n",
        "\r\n",
        "\r\n",
        "Note: It is possible to bake this tf.nn.softmax in as the activation function for the last layer of the network. While this can make the model output more directly interpretable, this approach is discouraged as it's impossible to provide an exact and numerically stable loss calculation for all models when using a softmax output."
      ]
    },
    {
      "cell_type": "markdown",
      "metadata": {
        "id": "tkjJjYPXJ7Q_"
      },
      "source": [
        "#### Sequential API \r\n",
        "* A Sequential model is appropriate for a plain stack of layers where each layer has exactly one input tensor and one output tensor.\r\n",
        "* A Sequential model is not appropriate when:\r\n",
        "  * Your model has multiple inputs or multiple outputs\r\n",
        "  * Any of your layers has multiple inputs or multiple outputs\r\n",
        "  * You need to do layer sharing\r\n",
        "  * You want non-linear topology (e.g. a residual connection, a multi-branch model)"
      ]
    },
    {
      "cell_type": "code",
      "metadata": {
        "colab": {
          "base_uri": "https://localhost:8080/"
        },
        "id": "TW3SudWYUg9L",
        "outputId": "2bc2345c-5518-4660-b694-aa4e9457e61b"
      },
      "source": [
        "model = tf.keras.models.Sequential([\r\n",
        "  # Input shape is required to be able to create weights. When you instantiate a Sequential model without an input shape, it isn't \"built\": it has no weights \r\n",
        "  tf.keras.layers.Flatten(input_shape=(250, 250, 3)), # input_shape=(4,), the first layer can receive an `input_shape` argument and recommended best practice is to always specify the input shape of a Sequential model in advance if you know what it is. \r\n",
        "  tf.keras.layers.Dense(128, activation='relu'),\r\n",
        "  tf.keras.layers.Dropout(0.2),\r\n",
        "  tf.keras.layers.Dense(10)]) #the model returns a vector of \"logits\" or \"log-odds\" scores\r\n",
        "\r\n",
        "# # Using add\r\n",
        "# model = tf.keras.Sequential()\r\n",
        "# model.add(tf.keras.layers.Dense(2, activation=\"relu\"))\r\n",
        "# model.pop() # Removes lasyt layer\r\n",
        "\r\n",
        "model.compile(loss='binary_crossentropy', optimizer='adam', metrics=['accuracy'])\r\n",
        "\r\n",
        "x = tf.ones((1, 250, 250, 3))\r\n",
        "y = model(x)\r\n",
        "model.fit(x, y, epochs=100, batch_size=32, verbose=0)\r\n",
        "\r\n",
        "model.summary()\r\n"
      ],
      "execution_count": 6,
      "outputs": [
        {
          "output_type": "stream",
          "text": [
            "Model: \"sequential\"\n",
            "_________________________________________________________________\n",
            "Layer (type)                 Output Shape              Param #   \n",
            "=================================================================\n",
            "flatten (Flatten)            (None, 187500)            0         \n",
            "_________________________________________________________________\n",
            "dense (Dense)                (None, 128)               24000128  \n",
            "_________________________________________________________________\n",
            "dropout (Dropout)            (None, 128)               0         \n",
            "_________________________________________________________________\n",
            "dense_1 (Dense)              (None, 10)                1290      \n",
            "=================================================================\n",
            "Total params: 24,001,418\n",
            "Trainable params: 24,001,418\n",
            "Non-trainable params: 0\n",
            "_________________________________________________________________\n"
          ],
          "name": "stdout"
        }
      ]
    },
    {
      "cell_type": "code",
      "metadata": {
        "id": "hcNJTJGjmCqs"
      },
      "source": [
        "# Extracting the outputs of all intermediate layers in a Sequential model:\r\n",
        "feature_extractor = tf.keras.Model(\r\n",
        "    inputs=model.inputs,\r\n",
        "    outputs=[layer.output for layer in model.layers],)\r\n",
        "x = tf.ones((1, 250, 250, 3))\r\n",
        "print(\"All layers:\\n\",feature_extractor(x)) # 2 layers\r\n",
        "\r\n",
        "# example that only extract features from one layer:\r\n",
        "initial_model = tf.keras.Sequential(\r\n",
        "    [\r\n",
        "        tf.keras.Input(shape=(250, 250, 3)),\r\n",
        "        tf.keras.layers.Conv2D(32, 5, strides=2, activation=\"relu\"),\r\n",
        "        tf.keras.layers.Conv2D(32, 3, activation=\"relu\", name=\"my_intermediate_layer\"),\r\n",
        "        tf.keras.layers.Conv2D(32, 3, activation=\"relu\"),\r\n",
        "    ])\r\n",
        "feature_extractor = tf.keras.Model(\r\n",
        "    inputs=initial_model.inputs,\r\n",
        "    outputs=initial_model.get_layer(name=\"my_intermediate_layer\").output,)\r\n",
        "x = tf.ones((1, 250, 250, 3))\r\n",
        "print(\"One layer: \\n\",feature_extractor(x))\r\n",
        "# 187500 is 250*250*3"
      ],
      "execution_count": null,
      "outputs": []
    },
    {
      "cell_type": "markdown",
      "metadata": {
        "id": "BAD13tPtJ8UH"
      },
      "source": [
        "#### Functional API \r\n",
        "* The functional API can handle models with non-linear topology, shared layers, and even multiple inputs or outputs.\r\n",
        "\r\n"
      ]
    },
    {
      "cell_type": "code",
      "metadata": {
        "id": "oafu4KqeQn1j",
        "outputId": "739834bd-89e5-4b06-f98c-be306f40abcf",
        "colab": {
          "base_uri": "https://localhost:8080/"
        }
      },
      "source": [
        "inputs = tf.keras.Input(shape=(784,))\r\n",
        "dense = tf.keras.layers.Dense(64, activation=\"relu\")\r\n",
        "x = dense(inputs)\r\n",
        "x = tf.keras.layers.Dense(64, activation=\"relu\")(x)\r\n",
        "\r\n",
        "outputs = tf.keras.layers.Dense(10)(x)\r\n",
        "\r\n",
        "model = tf.keras.Model(inputs=inputs, outputs=outputs, name=\"model_name\")\r\n",
        "model.summary()\r\n",
        "\r\n",
        "# Fully Connected layers: Param #: (current layer neurons c * previous layer neurons p)+(current layer neurons)"
      ],
      "execution_count": 7,
      "outputs": [
        {
          "output_type": "stream",
          "text": [
            "Model: \"model_name\"\n",
            "_________________________________________________________________\n",
            "Layer (type)                 Output Shape              Param #   \n",
            "=================================================================\n",
            "input_2 (InputLayer)         [(None, 784)]             0         \n",
            "_________________________________________________________________\n",
            "dense_2 (Dense)              (None, 64)                50240     \n",
            "_________________________________________________________________\n",
            "dense_3 (Dense)              (None, 64)                4160      \n",
            "_________________________________________________________________\n",
            "dense_4 (Dense)              (None, 10)                650       \n",
            "=================================================================\n",
            "Total params: 55,050\n",
            "Trainable params: 55,050\n",
            "Non-trainable params: 0\n",
            "_________________________________________________________________\n"
          ],
          "name": "stdout"
        }
      ]
    },
    {
      "cell_type": "code",
      "metadata": {
        "id": "7kHQNfGIQnyH",
        "outputId": "f41a9dbd-fa9c-476a-d181-c92756b4878a",
        "colab": {
          "base_uri": "https://localhost:8080/"
        }
      },
      "source": [
        "encoder_input = tf.keras.Input(shape=(28, 28, 1), name=\"img\") # input_shape=(32,32,3) implies 32*32 color images. RGB = 3 channels\r\n",
        "x = tf.keras.layers.Conv2D(16, 3, activation=\"relu\")(encoder_input) # 16 filters in the layers, filter size is 3*3 # output shape is 28-3+1=26 size and 16 filters. Param # is ((3*3*1)+1)*16\r\n",
        "x = tf.keras.layers.Conv2D(32, 3, activation=\"relu\")(x) # 32 filters in the layers, filter size is 3*3\r\n",
        "x = tf.keras.layers.MaxPooling2D(3)(x) \r\n",
        "x = tf.keras.layers.Conv2D(32, 3, activation=\"relu\")(x)\r\n",
        "x = tf.keras.layers.Conv2D(16, 3, activation=\"relu\")(x)\r\n",
        "encoder_output = tf.keras.layers.GlobalMaxPooling2D()(x)\r\n",
        "\r\n",
        "encoder = tf.keras.Model(encoder_input, encoder_output, name=\"encoder\")\r\n",
        "encoder.summary()"
      ],
      "execution_count": 9,
      "outputs": [
        {
          "output_type": "stream",
          "text": [
            "Model: \"encoder\"\n",
            "_________________________________________________________________\n",
            "Layer (type)                 Output Shape              Param #   \n",
            "=================================================================\n",
            "img (InputLayer)             [(None, 28, 28, 1)]       0         \n",
            "_________________________________________________________________\n",
            "conv2d_4 (Conv2D)            (None, 26, 26, 16)        160       \n",
            "_________________________________________________________________\n",
            "conv2d_5 (Conv2D)            (None, 24, 24, 32)        4640      \n",
            "_________________________________________________________________\n",
            "max_pooling2d_1 (MaxPooling2 (None, 8, 8, 32)          0         \n",
            "_________________________________________________________________\n",
            "conv2d_6 (Conv2D)            (None, 6, 6, 32)          9248      \n",
            "_________________________________________________________________\n",
            "conv2d_7 (Conv2D)            (None, 4, 4, 16)          4624      \n",
            "_________________________________________________________________\n",
            "global_max_pooling2d_1 (Glob (None, 16)                0         \n",
            "=================================================================\n",
            "Total params: 18,672\n",
            "Trainable params: 18,672\n",
            "Non-trainable params: 0\n",
            "_________________________________________________________________\n"
          ],
          "name": "stdout"
        }
      ]
    },
    {
      "cell_type": "markdown",
      "metadata": {
        "id": "ImjDgyXA-Htt"
      },
      "source": [
        "#### Multilayer Perceptron Models\r\n",
        "* A Multilayer Perceptron model, or MLP for short, is a standard fully connected neural network model. It is comprised of layers of nodes where each node is connected to all outputs from the previous layer and the output of each node is connected to all inputs for nodes in the next layer.\r\n",
        "* An MLP is created by with one or more Dense layers. This model is appropriate for tabular data, that is data as it looks in a table or spreadsheet with one column for each variable and one row for each variable. There are three predictive modeling problems you may want to explore with an MLP; they are binary classification, multiclass classification, and regression\r\n",
        "\r\n"
      ]
    },
    {
      "cell_type": "code",
      "metadata": {
        "id": "4T9TWnIJ-Tbt"
      },
      "source": [
        "# MLP for Binary Classification\r\n",
        "# determine the number of input features\r\n",
        "n_features = X_train.shape[1]\r\n",
        "\r\n",
        "# define model\r\n",
        "model = Sequential()\r\n",
        "model.add(Dense(10, activation='relu', kernel_initializer='he_normal', input_shape=(n_features,)))\r\n",
        "model.add(Dense(8, activation='relu', kernel_initializer='he_normal'))\r\n",
        "model.add(Dense(1, activation='sigmoid'))\r\n",
        "\r\n",
        "# compile the model\r\n",
        "model.compile(optimizer='adam', loss='binary_crossentropy', metrics=['accuracy'])\r\n",
        "\r\n",
        "# fit the model\r\n",
        "model.fit(X_train, y_train, epochs=150, batch_size=32, verbose=0)\r\n",
        "\r\n",
        "# evaluate the model\r\n",
        "loss, acc = model.evaluate(X_test, y_test, verbose=0)\r\n",
        "print('Test Accuracy: %.3f' % acc)"
      ],
      "execution_count": null,
      "outputs": []
    },
    {
      "cell_type": "code",
      "metadata": {
        "id": "e0zdNzui-rp6"
      },
      "source": [
        "# MLP for Multiclass Classification\r\n",
        "# define model\r\n",
        "model = Sequential()\r\n",
        "model.add(Dense(10, activation='relu', kernel_initializer='he_normal', input_shape=(n_features,)))\r\n",
        "model.add(Dense(8, activation='relu', kernel_initializer='he_normal'))\r\n",
        "model.add(Dense(3, activation='softmax'))\r\n",
        "\r\n",
        "# compile the model\r\n",
        "model.compile(optimizer='adam', loss='sparse_categorical_crossentropy', metrics=['accuracy'])\r\n"
      ],
      "execution_count": null,
      "outputs": []
    },
    {
      "cell_type": "code",
      "metadata": {
        "id": "sIaXp84Y-6ro"
      },
      "source": [
        "# MLP for Regression\r\n",
        "# define model\r\n",
        "model = Sequential()\r\n",
        "model.add(Dense(10, activation='relu', kernel_initializer='he_normal', input_shape=(n_features,)))\r\n",
        "model.add(Dense(8, activation='relu', kernel_initializer='he_normal'))\r\n",
        "model.add(Dense(1))\r\n",
        "\r\n",
        "# compile the model\r\n",
        "model.compile(optimizer='adam', loss='mse')"
      ],
      "execution_count": null,
      "outputs": []
    },
    {
      "cell_type": "markdown",
      "metadata": {
        "id": "b8ssjGMsB7aG"
      },
      "source": [
        "####  Convolutional Neural Network Models\r\n",
        "* They are comprised of models with convolutional layers that extract features (called feature maps) and pooling layers that distill features down to the most salient elements.\r\n",
        "* Stride denotes how many steps we are moving in each steps in convolution.\r\n",
        "* Padding is a process of adding zeros to the input matrix symmetrically. Conv2D class can take one of two values: ‘valid’ or ‘same’.\r\n",
        "\r\n",
        "* Input & Output shapes: https://towardsdatascience.com/understanding-input-and-output-shapes-in-convolution-network-keras-f143923d56ca\r\n",
        "  * Outputshape: (batch_size, 28, 28, 1): when batch_size=None there is no batch size value in the input_shape argument, we could go with any batch size while fitting the data.\r\n",
        "  * You always have to feed a 4D array of shape (batch_size, height, width, depth) to the CNN.\r\n",
        "  * Output data from CNN is also a 4D array of shape (batch_size, height, width, depth).\r\n",
        "  * To add a Dense layer on top of the CNN layer, we have to change the 4D output of CNN to 2D using a Flatten layer.\r\n",
        "\r\n",
        "\r\n",
        "\r\n",
        "* Number of parameters in CNN: https://towardsdatascience.com/understanding-and-calculating-the-number-of-parameters-in-convolution-neural-networks-cnns-fc88790d530d\r\n",
        "  * ((m * n * d)+1)* k), = ((shape of width of the filter * shape of height of the filter * number of filters in the previous layer+1)*number of filters)\r\n",
        "  * Pool layer has got no learnable parameters because all it does is calculate a specific number, no backprop learning involved! Thus number of parameters = 0\r\n"
      ]
    },
    {
      "cell_type": "code",
      "metadata": {
        "id": "1sPMQrRbCJUu"
      },
      "source": [
        "# determine the shape of the input images\r\n",
        "in_shape = x_train.shape[1:]\r\n",
        "# determine the number of classes\r\n",
        "n_classes = len(unique(y_train))\r\n",
        "print(in_shape, n_classes)\r\n",
        "\r\n",
        "# normalize pixel values\r\n",
        "x_train = x_train.astype('float32') / 255.0\r\n",
        "x_test = x_test.astype('float32') / 255.0\r\n",
        "\r\n",
        "# define model\r\n",
        "model = Sequential()\r\n",
        "model.add(Conv2D(32, (3,3), activation='relu', kernel_initializer='he_uniform', input_shape=in_shape))\r\n",
        "model.add(MaxPool2D((2, 2)))\r\n",
        "model.add(Flatten())\r\n",
        "model.add(Dense(100, activation='relu', kernel_initializer='he_uniform'))\r\n",
        "model.add(Dropout(0.5))\r\n",
        "model.add(Dense(n_classes, activation='softmax'))\r\n",
        "\r\n",
        "# define loss and optimizer\r\n",
        "model.compile(optimizer='adam', loss='sparse_categorical_crossentropy', metrics=['accuracy'])\r\n",
        "\r\n",
        "# fit the model\r\n",
        "model.fit(x_train, y_train, epochs=10, batch_size=128, verbose=0)\r\n",
        "\r\n",
        "# evaluate the model\r\n",
        "loss, acc = model.evaluate(x_test, y_test, verbose=0)"
      ],
      "execution_count": null,
      "outputs": []
    },
    {
      "cell_type": "markdown",
      "metadata": {
        "id": "HN3VbBUKChG0"
      },
      "source": [
        "#### Recurrent Neural Network Models\r\n",
        "* They have proven to be very effective for natural language processing problems where sequences of text are provided as input to the model. RNNs have also seen some modest success for time series forecasting and speech recognition.\r\n",
        "* LSTMs expect each sample in the dataset to have two dimensions; the first is the number of time steps (in this case it is 5), and the second is the number of observations per time step (in this case it is 1).\r\n",
        "\r\n",
        "* Input and Output shapes in LSTM: https://shiva-verma.medium.com/understanding-input-and-output-shape-in-lstm-keras-c501ee95c65e\r\n",
        "  * The input of the LSTM is always is a 3D array. (batch_size, time_steps, units)\r\n",
        "  * The output of the LSTM could be a 2D array or 3D array depending upon the return_sequences argument.\r\n",
        "  * If return_sequence is False, the output is a 2D array. (batch_size, units)\r\n",
        "  * If return_sequence is True, the output is a 3D array. (batch_size, time_steps, units)\r\n"
      ]
    },
    {
      "cell_type": "code",
      "metadata": {
        "id": "j6qQrzQrCJnc"
      },
      "source": [
        "Input \t\t\t\tOutput\r\n",
        "1, 2, 3, 4, 5 \t\t6\r\n",
        "2, 3, 4, 5, 6 \t\t7\r\n",
        "3, 4, 5, 6, 7 \t\t8\r\n",
        "...\r\n",
        "# specify the window size\r\n",
        "n_steps = 5\r\n",
        "\r\n",
        "# define model\r\n",
        "model = Sequential()\r\n",
        "model.add(LSTM(100, activation='relu', kernel_initializer='he_normal', input_shape=(n_steps,1)))\r\n",
        "model.add(Dense(50, activation='relu', kernel_initializer='he_normal'))\r\n",
        "model.add(Dense(50, activation='relu', kernel_initializer='he_normal'))\r\n",
        "model.add(Dense(1))\r\n",
        "\r\n",
        "# compile the model\r\n",
        "model.compile(optimizer='adam', loss='mse', metrics=['mae'])\r\n",
        "\r\n",
        "# fit the model\r\n",
        "model.fit(X_train, y_train, epochs=350, batch_size=32, verbose=2, validation_data=(X_test, y_test))\r\n"
      ],
      "execution_count": null,
      "outputs": []
    },
    {
      "cell_type": "markdown",
      "metadata": {
        "id": "_mja5erzD61e"
      },
      "source": [
        "#### Visualize a Deep Learning Model"
      ]
    },
    {
      "cell_type": "code",
      "metadata": {
        "colab": {
          "base_uri": "https://localhost:8080/"
        },
        "id": "xEZ7DGO3D-Yl",
        "outputId": "27e88521-067d-4b7a-d354-80dc11d3eabc"
      },
      "source": [
        "# example of summarizing a model\r\n",
        "from tensorflow.keras import Sequential\r\n",
        "from tensorflow.keras.layers import Dense\r\n",
        "\r\n",
        "# define model\r\n",
        "model = Sequential()\r\n",
        "model.add(Dense(10, activation='relu', kernel_initializer='he_normal', input_shape=(8,)))\r\n",
        "model.add(Dense(8, activation='relu', kernel_initializer='he_normal'))\r\n",
        "model.add(Dense(1, activation='sigmoid'))\r\n",
        "\r\n",
        "# summarize the model\r\n",
        "model.summary()"
      ],
      "execution_count": null,
      "outputs": [
        {
          "output_type": "stream",
          "text": [
            "Model: \"sequential_20\"\n",
            "_________________________________________________________________\n",
            "Layer (type)                 Output Shape              Param #   \n",
            "=================================================================\n",
            "dense_31 (Dense)             (None, 10)                90        \n",
            "_________________________________________________________________\n",
            "dense_32 (Dense)             (None, 8)                 88        \n",
            "_________________________________________________________________\n",
            "dense_33 (Dense)             (None, 1)                 9         \n",
            "=================================================================\n",
            "Total params: 187\n",
            "Trainable params: 187\n",
            "Non-trainable params: 0\n",
            "_________________________________________________________________\n"
          ],
          "name": "stdout"
        }
      ]
    },
    {
      "cell_type": "code",
      "metadata": {
        "colab": {
          "base_uri": "https://localhost:8080/",
          "height": 422
        },
        "id": "1SLGtJ83DxzV",
        "outputId": "bbf82ffa-e090-4051-d004-8c8cfcf4d524"
      },
      "source": [
        "# example of plotting a model\r\n",
        "from tensorflow.keras import Sequential\r\n",
        "from tensorflow.keras.layers import Dense\r\n",
        "from tensorflow.keras.utils import plot_model\r\n",
        "\r\n",
        "# define model\r\n",
        "model = Sequential()\r\n",
        "model.add(Dense(10, activation='relu', kernel_initializer='he_normal', input_shape=(8,)))\r\n",
        "model.add(Dense(8, activation='relu', kernel_initializer='he_normal'))\r\n",
        "model.add(Dense(1, activation='sigmoid'))\r\n",
        "\r\n",
        "# summarize the model\r\n",
        "plot_model(model, 'model.png', show_shapes=True)"
      ],
      "execution_count": null,
      "outputs": [
        {
          "output_type": "execute_result",
          "data": {
            "image/png": "[encoded data removed]",
            "text/plain": [
              "<IPython.core.display.Image object>"
            ]
          },
          "metadata": {
            "tags": []
          },
          "execution_count": 33
        }
      ]
    },
    {
      "cell_type": "markdown",
      "metadata": {
        "id": "khIuzE-tLSaM"
      },
      "source": [
        "#### **Plot Model Learning Curves**\r\n",
        "https://machinelearningmastery.com/learning-curves-for-diagnosing-machine-learning-model-performance/\r\n",
        "* Learning curves are a plot of neural network model performance over time, such as calculated at the end of each training epoch.\r\n",
        "* Learning Curve: Line plot of learning (y-axis) over experience (x-axis).\r\n",
        "  * Train Learning Curve: Learning curve calculated from the training dataset that gives an idea of how well the model is learning.\r\n",
        "  * Validation Learning Curve: Learning curve calculated from a hold-out validation dataset that gives an idea of how well the model is generalizing.\r\n",
        "* create learning curves for multiple metrics, such as in the case of classification predictive modeling problems, where the model may be optimized according to cross-entropy loss and model performance is evaluated using classification accuracy. \r\n",
        "  * Optimization Learning Curves: Learning curves calculated on the metric by which the parameters of the model are being optimized, e.g. loss.\r\n",
        "  * Performance Learning Curves: Learning curves calculated on the metric by which the model will be evaluated and selected, e.g. accuracy."
      ]
    },
    {
      "cell_type": "code",
      "metadata": {
        "colab": {
          "base_uri": "https://localhost:8080/",
          "height": 312
        },
        "id": "TfmhNnZBNDhF",
        "outputId": "8e3f3b73-008a-420c-cd82-084fd70a9e13"
      },
      "source": [
        "# example of plotting learning curves\r\n",
        "from sklearn.datasets import make_classification\r\n",
        "from tensorflow.keras import Sequential\r\n",
        "from tensorflow.keras.layers import Dense\r\n",
        "from tensorflow.keras.optimizers import SGD\r\n",
        "from matplotlib import pyplot\r\n",
        "\r\n",
        "# create the dataset\r\n",
        "X, y = make_classification(n_samples=1000, n_classes=2, random_state=1)\r\n",
        "# determine the number of input features\r\n",
        "n_features = X.shape[1]\r\n",
        "\r\n",
        "# define model\r\n",
        "model = Sequential()\r\n",
        "model.add(Dense(10, activation='relu', kernel_initializer='he_normal', input_shape=(n_features,)))\r\n",
        "model.add(Dense(1, activation='sigmoid'))\r\n",
        "\r\n",
        "# compile the model\r\n",
        "sgd = SGD(learning_rate=0.001, momentum=0.8)\r\n",
        "model.compile(optimizer=sgd, loss='binary_crossentropy')\r\n",
        "\r\n",
        "# fit the model\r\n",
        "history = model.fit(X, y, epochs=100, batch_size=32, verbose=0, validation_split=0.3)\r\n",
        "# history.history has loss and val_loss only\r\n",
        "\r\n",
        "# plot learning curves\r\n",
        "pyplot.title('Learning Curves')\r\n",
        "pyplot.xlabel('Epoch')\r\n",
        "pyplot.ylabel('Cross Entropy')\r\n",
        "pyplot.plot(history.history['loss'], label='train')\r\n",
        "pyplot.plot(history.history['val_loss'], label='val')\r\n",
        "pyplot.legend()\r\n",
        "pyplot.show()"
      ],
      "execution_count": null,
      "outputs": [
        {
          "output_type": "stream",
          "text": [
            "<tensorflow.python.keras.callbacks.History object at 0x7f289477b470>\n"
          ],
          "name": "stdout"
        },
        {
          "output_type": "display_data",
          "data": {
            "image/png": "[encoded data removed]",
            "text/plain": [
              "<Figure size 432x288 with 1 Axes>"
            ]
          },
          "metadata": {
            "tags": [],
            "needs_background": "light"
          }
        }
      ]
    },
    {
      "cell_type": "markdown",
      "metadata": {
        "id": "8ebohYAvbFtk"
      },
      "source": [
        "#### **Save and Load Your Model**\r\n",
        "* This can be achieved using the save() function on the model to save the model. It can be loaded later using the load_model() function.\r\n",
        "* The model is saved in H5 format, an efficient array storage format. As such, you must ensure that the h5py library is installed on your workstation. \r\n",
        "\r\n",
        "\r\n",
        "\r\n"
      ]
    },
    {
      "cell_type": "code",
      "metadata": {
        "id": "A7L8rw3Gboly"
      },
      "source": [
        "# example of saving a fit model\r\n",
        "from sklearn.datasets import make_classification\r\n",
        "from tensorflow.keras import Sequential\r\n",
        "from tensorflow.keras.layers import Dense\r\n",
        "from tensorflow.keras.optimizers import SGD\r\n",
        "from tensorflow.keras.models import load_model\r\n",
        "\r\n",
        "# create the dataset\r\n",
        "X, y = make_classification(n_samples=1000, n_features=4, n_classes=2, random_state=1)\r\n",
        "\r\n",
        "# determine the number of input features\r\n",
        "n_features = X.shape[1]\r\n",
        "\r\n",
        "# define model\r\n",
        "model = Sequential()\r\n",
        "model.add(Dense(10, activation='relu', kernel_initializer='he_normal', input_shape=(n_features,)))\r\n",
        "model.add(Dense(1, activation='sigmoid'))\r\n",
        "\r\n",
        "# compile the model\r\n",
        "sgd = SGD(learning_rate=0.001, momentum=0.8)\r\n",
        "model.compile(optimizer=sgd, loss='binary_crossentropy')\r\n",
        "\r\n",
        "# fit the model\r\n",
        "model.fit(X, y, epochs=100, batch_size=32, verbose=0, validation_split=0.3)\r\n",
        "\r\n",
        "# save model to file\r\n",
        "model.save('model.h5')"
      ],
      "execution_count": null,
      "outputs": []
    },
    {
      "cell_type": "code",
      "metadata": {
        "colab": {
          "base_uri": "https://localhost:8080/"
        },
        "id": "KL0BxeeqbdTO",
        "outputId": "03a4c951-0e9b-4641-be93-b70fbb45377b"
      },
      "source": [
        "# load the model from file\r\n",
        "model = load_model('model.h5')\r\n",
        "# make a prediction\r\n",
        "row = [1.91518414, 1.14995454, -1.52847073, 0.79430654]\r\n",
        "yhat = model.predict([row])\r\n",
        "print('Predicted: %.3f' % yhat[0])"
      ],
      "execution_count": null,
      "outputs": [
        {
          "output_type": "stream",
          "text": [
            "Predicted: 0.858\n"
          ],
          "name": "stdout"
        }
      ]
    },
    {
      "cell_type": "markdown",
      "metadata": {
        "id": "dkMjZ1w0b9ec"
      },
      "source": [
        "#### **Get Better Model Performance**\r\n"
      ]
    },
    {
      "cell_type": "markdown",
      "metadata": {
        "id": "lZjLHqeQhKRG"
      },
      "source": [
        "* DropOut https://machinelearningmastery.com/dropout-for-regularizing-deep-neural-networks/\r\n",
        "  * Dropout regularization is a generic approach.\r\n",
        "  * Like other regularization methods, dropout is more effective on those problems where there is a limited amount of training data and the model is likely to overfit the training data. Problems where there is a large amount of training data may see less benefit from using dropout.\r\n",
        "  * It can be used with most, perhaps all, types of neural network models, not least the most common network types of Multilayer Perceptrons, Convolutional Neural Networks, and Long Short-Term Memory Recurrent Neural Networks.\r\n",
        "  * In the case of LSTMs, it may be desirable to use different dropout rates for the input and recurrent connections.\r\n",
        "  * Dropout Rate: 1.0 means no dropout, and 0.0 means no outputs from the layer. A good value for dropout in a hidden layer is between 0.5 and 0.8. Input layers use a larger dropout rate, such as of 0.8. test values between 1.0 and 0.1 in increments of 0.1\r\n",
        "  * A good rule of thumb is to divide the number of nodes in the layer before dropout by the proposed dropout rate and use that as the number of nodes in the new network that uses dropout. For example, a network with 100 nodes and a proposed dropout rate of 0.5 will require 200 nodes (100 / 0.5) when using dropout.\r\n",
        "  * Network weights will increase in size in response to the probabilistic removal (drop-out) of layer activations. Large weight size can be a sign of an unstable network. To counter this effect a weight constraint can be imposed to force the norm (magnitude) of all weights in a layer to be below a specified value. For example, the maximum norm constraint is recommended with a value between 3-4."
      ]
    },
    {
      "cell_type": "code",
      "metadata": {
        "id": "1tvro7uMSv-k"
      },
      "source": [
        "# Drop-out layer\r\n",
        "model = Sequential()\r\n",
        "model.add(Dense(10, activation='relu', kernel_initializer='he_normal', input_shape=(n_features,)))\r\n",
        "model.add(Dropout(0.5))\r\n",
        "model.add(Dense(1, activation='sigmoid'))"
      ],
      "execution_count": null,
      "outputs": []
    },
    {
      "cell_type": "markdown",
      "metadata": {
        "id": "kgENAjqkg_Pf"
      },
      "source": [
        "* Accelerate Training With Batch Normalization https://machinelearningmastery.com/batch-normalization-for-training-of-deep-neural-networks/ </br>\r\n",
        "https://www.tensorflow.org/addons/tutorials/layers_normalizations\r\n",
        "  * Batch normalization is a technique for training very deep neural networks that standardizes the inputs to a layer for each mini-batch. This has the effect of stabilizing the learning process and dramatically reducing the number of training epochs required to train deep networks.\r\n",
        "  * Batch normalization may be used on the inputs to the layer before or after the activation function in the previous layer. It may be more appropriate after the activation function if for s-shaped functions like the hyperbolic tangent and logistic function. It may be appropriate before the activation function for activations that may result in non-Gaussian distributions like the rectified linear activation function, the modern default for most network types.\r\n",
        "  * Use Large Learning Rates - Using batch normalization makes the network more stable during training. This may require the use of much larger than normal learning rates, that in turn may further speed up the learning process.\r\n",
        "  * Less Sensitive to Weight Initialization - The stability to training brought by batch normalization can make training deep networks less sensitive to the choice of weight initialization method.\r\n",
        "  * If the mean and standard deviations calculated for each input feature are calculated over the mini-batch instead of over the entire training dataset, then the batch size must be sufficiently representative of the range of each variable.\r\n",
        "  * Batch normalization offers some regularization effect, reducing generalization error, perhaps no longer requiring the use of dropout for regularization."
      ]
    },
    {
      "cell_type": "code",
      "metadata": {
        "id": "qk0cTP4ESvGX"
      },
      "source": [
        "# Batch Normalization layer is added prior to the layer you wish to have standardized inputs\r\n",
        "model = Sequential()\r\n",
        "model.add(Dense(10, activation='relu', kernel_initializer='he_normal', input_shape=(n_features,)))\r\n",
        "model.add(BatchNormalization())\r\n",
        "model.add(Dense(1, activation='sigmoid'))"
      ],
      "execution_count": null,
      "outputs": []
    },
    {
      "cell_type": "markdown",
      "metadata": {
        "id": "7oQlgC7KhFGV"
      },
      "source": [
        "* Halt Training at the Right Time With Early Stopping https://machinelearningmastery.com/early-stopping-to-avoid-overtraining-neural-network-models/\r\n",
        "  * Involves monitoring the loss on the training dataset and a validation dataset (a subset of the training set not used to fit the model). As soon as loss for the validation set starts to show signs of overfitting, the training process can be stopped.\r\n",
        "  * It is common to split the training dataset and use a subset, such as 30%, as a validation dataset used to monitor performance of the model during training. This validation set is not used to train the model. It is also common to use the loss on a validation dataset as the metric to monitor, although you may also use prediction error in the case of regression, or accuracy in the case of classification.\r\n",
        "  * Performance of the model is evaluated on the validation set at the end of each epoch, which adds an additional computational cost during training. This can be reduced by evaluating the model less frequently, such as every 2, 5, or 10 training epochs.\r\n",
        "  * Some more elaborate triggers may include:\r\n",
        "    * No change in metric over a given number of epochs.\r\n",
        "    * An absolute change in a metric.\r\n",
        "    * A decrease in performance observed over a given number of epochs.\r\n",
        "    * Average change in metric over a given number of epochs.\r\n",
        "  * Plot Learning Curves to Select a Trigger - Before using early stopping, it may be interesting to fit an under constrained model and monitor the performance of the model on a train and validation dataset.\r\n",
        "  * Repeating the early stopping procedure many times may result in the model overfitting the validation dataset."
      ]
    },
    {
      "cell_type": "code",
      "metadata": {
        "id": "uHLtsYpyeZ5k"
      },
      "source": [
        "# configure early stopping\r\n",
        "es = EarlyStopping(monitor='val_loss', patience=5)\r\n",
        "# fit the model\r\n",
        "history = model.fit(X, y, epochs=200, batch_size=32, verbose=0, validation_split=0.3, callbacks=[es])"
      ],
      "execution_count": null,
      "outputs": []
    },
    {
      "cell_type": "markdown",
      "metadata": {
        "id": "JGmY_-r4bJ0L"
      },
      "source": [
        "### **Loss Functions**\r\n",
        "\r\n",
        "Difference between loss and metrics\r\n",
        "* The loss function is that parameter one passes to Keras model.compile which is actually optimized while training the model . \r\n",
        "* metric is used for judging the performance of the model."
      ]
    },
    {
      "cell_type": "code",
      "metadata": {
        "id": "1GKDQqP_UhAL"
      },
      "source": [
        "### loss functions for Regression\r\n",
        "\r\n",
        "# Last layer of the model should be\r\n",
        "model.add(Dense(1, activation='linear'))\r\n",
        "\r\n",
        "# Mean Squared Error Loss - if the distribution of the target variable is Gaussian/Normal\r\n",
        "model.compile(loss='mean_squared_error', metrics=['mse']) \r\n",
        "\r\n",
        "# Mean Squared Logarithmic Error Loss - When target value has a spread of values and when predicting a large value, you may not want to punish a model as heavily as mean squared error.\r\n",
        "# first calculates the natural logarithm of each of the predicted values, then calculate the mean squared error\r\n",
        "model.compile(loss='mean_squared_logarithmic_error')\r\n",
        "\r\n",
        "# Mean Absolute Error Loss - When distribution of the target variable may be mostly Gaussian, but may have outliers, e.g. large or small values far from the mean value. it is more robust to outliers\r\n",
        "# It is calculated as the average of the absolute difference between the actual and predicted values\r\n",
        "model.compile(loss='mean_absolute_error')\r\n",
        "\r\n",
        "# The poisson loss function is used for regression when modeling count data. Use for data follows the poisson distribution. Ex: churn of customers next week. \r\n",
        "# Use the Poisson loss when you believe that the target value comes from a Poisson distribution and want to model the rate parameter conditioned on some input. \r\n",
        "# Examples of this are the number of customers that will enter a store on a given day, the number of emails that will arrive within the next hour, or how many customers that will churn next week.\r\n",
        "# Computes the Poisson loss between y_true and y_pred.\r\n",
        "# loss = y_pred - y_true * log(y_pred)\r\n",
        "model.compile(loss='mean_absolute_error')"
      ],
      "execution_count": null,
      "outputs": []
    },
    {
      "cell_type": "code",
      "metadata": {
        "id": "05QAUg0YUhDN"
      },
      "source": [
        "### loss functions for Classification\r\n",
        "\r\n",
        "# Binary Cross-Entropy Loss - It is intended for use with binary classification where the target values are in the set {0, 1}\r\n",
        "model.compile(loss='binary_crossentropy', metrics=['accuracy'])\r\n",
        "# Last layer of the model should be\r\n",
        "model.add(Dense(1, activation='sigmoid'))\r\n",
        "\r\n",
        "# Hinge Loss - It is intended for use with binary classification where the target values are in the set {-1, 1}. primarily developed for use with Support Vector Machine (SVM) models.\r\n",
        "# The hinge loss function encourages examples to have the correct sign, assigning more error when there is a difference in the sign between the actual and predicted class values.\r\n",
        "model.compile(loss='hinge')\r\n",
        "# Last layer of the model should be\r\n",
        "model.add(Dense(1, activation='tanh')) # Activation function is tanh as range is [-1,1]\r\n",
        "\r\n",
        "\r\n",
        "# Squared Hinge Loss - It is intended for use with binary classification where the target values are in the set {-1, 1}. \r\n",
        "# If using a hinge loss does result in better performance on a given binary classification problem, is likely that a squared hinge loss may be appropriate.\r\n",
        "# It has the effect of smoothing the surface of the error function and making it numerically easier to work with.\r\n",
        "model.compile(loss='squared_hinge')\r\n",
        "# Last layer of the model should be\r\n",
        "model.add(Dense(1, activation='tanh')) # Activation function is tanh as range is [-1,1]\r\n"
      ],
      "execution_count": null,
      "outputs": []
    },
    {
      "cell_type": "code",
      "metadata": {
        "id": "aSmnnXn1ePHW"
      },
      "source": [
        "### Multi-Class Classification Loss Functions\r\n",
        "\r\n",
        "# Last layer of the model should be\r\n",
        "model.add(Dense(n, activation='softmax')) # n (number of nodes) is number of classes. this means that the target variable must be one hot encoded before splitting into train and test and before fitting the model\r\n",
        "\r\n",
        "# Cross-entropy is the default loss function to use for multi-class classification problems where each class is assigned a unique integer value\r\n",
        "model.compile(loss='categorical_crossentropy')\r\n",
        "\r\n",
        "# Sparse Multiclass Cross-Entropy Loss: Sparse cross-entropy addresses this by performing the same cross-entropy calculation of error, without requiring that the target variable be one hot encoded prior to training.\r\n",
        "# For example, predicting words in a vocabulary may have tens or hundreds of thousands of categories, one for each label. This can mean that the target element of each training example may require a one hot encoded vector with tens or hundreds of thousands of zero values, requiring significant memory.\r\n",
        "model.compile(loss='sparse_categorical_crossentropy')\r\n",
        "\r\n",
        "# Kullback Leibler Divergence Loss\r\n",
        "# Kullback Leibler Divergence, or KL Divergence for short, is a measure of how one probability distribution differs from a baseline distribution\r\n",
        "# KL divergence loss function is more commonly used when using models that learn to approximate a more complex function than simply multi-class classification, such as in the case of an autoencoder used for learning a dense feature representation under a model that must reconstruct the original input. In this case, KL divergence loss would be preferred.\r\n",
        "\r\n",
        "model.compile(loss='kullback_leibler_divergence')\r\n",
        "\r\n"
      ],
      "execution_count": null,
      "outputs": []
    },
    {
      "cell_type": "markdown",
      "metadata": {
        "id": "N6ErmnpJzLJp"
      },
      "source": [
        ""
      ]
    }
  ]
}