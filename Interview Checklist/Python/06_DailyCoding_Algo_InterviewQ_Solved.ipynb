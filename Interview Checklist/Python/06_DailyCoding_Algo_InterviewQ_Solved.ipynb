{
  "nbformat": 4,
  "nbformat_minor": 0,
  "metadata": {
    "colab": {
      "name": "Daily Coding Problem.ipynb",
      "provenance": [],
      "authorship_tag": "ABX9TyMXk3j8XoKIEFTPkuh7QYTd",
      "include_colab_link": true
    },
    "kernelspec": {
      "name": "python3",
      "display_name": "Python 3"
    }
  },
  "cells": [
    {
      "cell_type": "markdown",
      "metadata": {
        "id": "view-in-github",
        "colab_type": "text"
      },
      "source": [
        "<a href=\"https://colab.research.google.com/github/sandhyaparna/Python-DataScience-CookBook/blob/master/Interview%20Checklist/Python/06_DailyCoding_Algo_InterviewQ_Solved.ipynb\" target=\"_parent\"><img src=\"https://colab.research.google.com/assets/colab-badge.svg\" alt=\"Open In Colab\"/></a>"
      ]
    },
    {
      "cell_type": "code",
      "metadata": {
        "id": "hDYaos3pjqI9",
        "colab": {
          "base_uri": "https://localhost:8080/"
        },
        "outputId": "dc7db42f-4e86-401c-b913-34200b3ee2e4"
      },
      "source": [
        "# Given a list of numbers and a number k, return whether any two numbers from the list add up to k.\n",
        "# For example, given [10, 15, 3, 7] and k of 17, return true since 10 + 7 is 17.\n",
        "# Bonus: Can you do this in one pass?\n",
        "\n",
        "# k is the final number. for i in arr, subtract i from k and check if k-i is in the remaining part of the arr or not.\n",
        "k=17\n",
        "arr = [15,  10, 3, 7]\n",
        "arr_outcome = False\n",
        "for i in range(len(arr)-1):\n",
        "  if k-arr[i] in arr[i+1:]:\n",
        "    arr_outcome=True\n",
        "    break\n",
        "  else:\n",
        "    arr_outcome=False\n",
        "print(arr_outcome)"
      ],
      "execution_count": null,
      "outputs": [
        {
          "output_type": "stream",
          "text": [
            "True\n"
          ],
          "name": "stdout"
        }
      ]
    },
    {
      "cell_type": "code",
      "metadata": {
        "colab": {
          "base_uri": "https://localhost:8080/"
        },
        "id": "gKz0yJkCpp-q",
        "outputId": "79b48154-2514-4f5d-8983-6079afdafd13"
      },
      "source": [
        "# Given an array of integers, return a new array such that each element at index i of the new array is the product of all the numbers in the original array except the one at i.\n",
        "# For example, if our input was [1, 2, 3, 4, 5], the expected output would be [120, 60, 40, 30, 24]. If our input was [3, 2, 1], the expected output would be [2, 3, 6].\n",
        "# Follow-up: what if you can't use division?\n",
        "arr = [1, 2, 3, 4, 5]\n",
        "Multiplied = 1\n",
        "new_arr = []\n",
        "for i in arr:\n",
        "  Multiplied *= i\n",
        "print(Multiplied)\n",
        "\n",
        "for i in arr:\n",
        "  new_arr.append(int(Multiplied/i))\n",
        "print(new_arr)"
      ],
      "execution_count": null,
      "outputs": [
        {
          "output_type": "stream",
          "text": [
            "120\n",
            "[120, 60, 40, 30, 24]\n"
          ],
          "name": "stdout"
        }
      ]
    },
    {
      "cell_type": "code",
      "metadata": {
        "colab": {
          "base_uri": "https://localhost:8080/"
        },
        "id": "JeLKGTSqJ6Re",
        "outputId": "0a034599-e676-4a49-f56d-5d7df8cdbe82"
      },
      "source": [
        "# Given an array of integers, find the first missing positive integer in linear time and constant space. In other words, find the lowest positive integer that does not exist in the array. The array can contain duplicates and negative numbers as well.\n",
        "# For example, the input [3, 4, -1, 1] should give 2. The input [1, 2, 0] should give 3.\n",
        "arr = [3, 4, -1, 1]\n",
        "# Create a range of numbers between 1 & max(arr) and simultaneously check if a number is part of the arr or not\n",
        "for i in range(1,max(arr)):\n",
        "  if i not in arr:\n",
        "    print(i)\n",
        "    break"
      ],
      "execution_count": null,
      "outputs": [
        {
          "output_type": "stream",
          "text": [
            "2\n"
          ],
          "name": "stdout"
        }
      ]
    },
    {
      "cell_type": "code",
      "metadata": {
        "colab": {
          "base_uri": "https://localhost:8080/"
        },
        "id": "uqgBGRyVJ6IT",
        "outputId": "95b6a909-62b2-43e6-d7e6-7965a3cc2e86"
      },
      "source": [
        "strg ='1234'\n",
        "char_strg = []\n",
        "for i in range(len(strg)):\n",
        "  for j in range(len(strg)):\n",
        "    if j+1>i:\n",
        "      char_strg.append(strg[i:j+1])\n",
        "print(char_strg)"
      ],
      "execution_count": null,
      "outputs": [
        {
          "output_type": "stream",
          "text": [
            "['1', '12', '123', '1234', '2', '23', '234', '3', '34', '4']\n"
          ],
          "name": "stdout"
        }
      ]
    },
    {
      "cell_type": "code",
      "metadata": {
        "id": "ZH6K-Z2ARHbf"
      },
      "source": [
        "# Given the mapping a = 1, b = 2, ... z = 26, and an encoded message, count the number of ways it can be decoded.\n",
        "# For example, the message '111' would give 3, since it could be decoded as 'aaa', 'ka', and 'ak'.\n",
        "# You can assume that the message are decodable. For example, '001' is not allowed.\n",
        "\n",
        "\n",
        "\n"
      ],
      "execution_count": null,
      "outputs": []
    },
    {
      "cell_type": "code",
      "metadata": {
        "id": "E6qGJqOARyEr"
      },
      "source": [
        ""
      ],
      "execution_count": null,
      "outputs": []
    },
    {
      "cell_type": "code",
      "metadata": {
        "id": "PLBQRhPARJAI"
      },
      "source": [
        ""
      ],
      "execution_count": null,
      "outputs": []
    },
    {
      "cell_type": "code",
      "metadata": {
        "colab": {
          "base_uri": "https://localhost:8080/"
        },
        "id": "eJnEDcFGJ6OA",
        "outputId": "53479d56-1f7c-4ea9-86cb-869280b01fd1"
      },
      "source": [
        "# cons(a, b) constructs a pair, and car(pair) and cdr(pair) returns the first and last element of that pair. For example, car(cons(3, 4)) returns 3, and cdr(cons(3, 4)) returns 4.\n",
        "\n",
        "def cons(a, b):\n",
        "    def pair(f):\n",
        "        return f(a, b)\n",
        "    return pair\n",
        "\n",
        "\n"
      ],
      "execution_count": null,
      "outputs": [
        {
          "output_type": "stream",
          "text": [
            "<function cons.<locals>.pair at 0x7fa911533b70>\n"
          ],
          "name": "stdout"
        }
      ]
    },
    {
      "cell_type": "markdown",
      "metadata": {
        "id": "gfKjdQQF9gie"
      },
      "source": [
        "### AlgoExpert"
      ]
    },
    {
      "cell_type": "code",
      "metadata": {
        "id": "gO1aQJat9gEl",
        "colab": {
          "base_uri": "https://localhost:8080/"
        },
        "outputId": "3ba350f6-ea1b-4e2d-bbb6-02f9fd604d80"
      },
      "source": [
        "# Validate Subsequence\n",
        "# Given two non-empty arrays of integers, write a function that determines whether the second array is a subsequence of the first one.\n",
        "# A subsequence of an array is a set of numbers that aren’t necessarily adjacent in the array but that are in the same order as they appear in the array.\n",
        "# For example these numbers [2, 3, 5] are a subsequence of the array: [1, 2, 3, 4, 5]\n",
        "# array = [5, 1, 22, 25, 6, -1, 8, 10] sequence = [1, 6, -1, 10]\n",
        "array = [1, 1, 6, 1] # [5, 1, 22, 25, 6, -1, 8, 10] # [1, 2, 3, 4, 5]\n",
        "sequence = [1, 1, 1, 6] #[5, 1, 22, 25, 6, -1, 8, 10] #[1, 6, -1, -1] # [2, 4, 5] \n",
        "j=-1\n",
        "valid_seq = True\n",
        "for i in sequence:\n",
        "  print(i,j)\n",
        "  if i in array[j+1:]:\n",
        "    j = array.index(i,j+1) #array.index(item, stat, stop)\n",
        "  else:\n",
        "    valid_seq = False\n",
        "    break\n",
        "print(valid_seq)"
      ],
      "execution_count": null,
      "outputs": [
        {
          "output_type": "stream",
          "text": [
            "1 -1\n",
            "1 0\n",
            "1 1\n",
            "6 3\n",
            "False\n"
          ],
          "name": "stdout"
        }
      ]
    },
    {
      "cell_type": "code",
      "metadata": {
        "id": "_H0KHEeb60WB",
        "colab": {
          "base_uri": "https://localhost:8080/"
        },
        "outputId": "609382c8-0b76-4ca0-ce44-65ef0e586f8e"
      },
      "source": [
        "array = [1, 1, 6, 1] \n",
        "array.index(1,2)"
      ],
      "execution_count": null,
      "outputs": [
        {
          "output_type": "execute_result",
          "data": {
            "text/plain": [
              "3"
            ]
          },
          "metadata": {
            "tags": []
          },
          "execution_count": 9
        }
      ]
    },
    {
      "cell_type": "markdown",
      "metadata": {
        "id": "rGZFAWjdeYYC"
      },
      "source": [
        "# erik@interviewqs.com"
      ]
    },
    {
      "cell_type": "code",
      "metadata": {
        "id": "QYE1MTpCeZoo"
      },
      "source": [
        "### Question 1 - Fradulent retail accounts\n",
        "# store_account table, columns are: store_id, date, status, revenue\n",
        "# Here's some more information about the table:\n",
        "# The granularity of the table is store_id and day\n",
        "# Assume “close” and “fraud” are permanent labels\n",
        "# Active = daily revenue > 0\n",
        "# Accounts get labeled by Shopify as fraudulent and they no longer can sell product\n",
        "# Every day of the table has every store_id that has ever been used by Shopify\n",
        "# write code using Python (Pandas library) to show what percent of active stores were fraudulent by day.\n",
        "# Some clarifications:\n",
        "# We want one value for each day in the month.\n",
        "# A store can be fraudulent and active on same day. E.g. they could generate revenue until 10AM, then be flagged as fradulent from 10AM onward.\n",
        "### Answer\n",
        "Active_stores =  store_account[store_account.revenue>0]\n",
        "Active_stores['Fraud_Identifier'] = np.where(Active_stores.status==\"fraud\",1,0)\n",
        "Active_stores_Fraud = pd.DataFrame(Active_stores.groupby('date').agg({'Fraud_Identifier':['sum','count']})).reset_index()\n",
        "Active_stores_Fraud['Fraud_Percent'] = Active_stores_Fraud.sum/Active_stores_Fraud.count"
      ],
      "execution_count": null,
      "outputs": []
    },
    {
      "cell_type": "code",
      "metadata": {
        "id": "h1lBWisuec5S"
      },
      "source": [
        "### Question 2 - Calculating a moving average using Python. sliding window average.\n",
        "# You are given a list of numbers J and a single number p. Write a function to return the minimum and maximum averages of the sequences of p numbers in J\n",
        "### Answer\n",
        "import numpy as np\n",
        "J = [4, 4, 4, 9, 10, 11, 12]\n",
        "p = 3\n",
        "J = np.sort(J,axis=None)\n",
        "n = len(J)\n",
        "min_max_array = []\n",
        "for i in [0,n-p]:\n",
        "  min_max = np.mean(J[i:][0:p])\n",
        "  min_max_array.append(min_max)\n",
        "min_max_array"
      ],
      "execution_count": null,
      "outputs": []
    },
    {
      "cell_type": "code",
      "metadata": {
        "id": "knLI5hZtec2a"
      },
      "source": [
        "### Question 4 - Active users on a messaging application\n",
        "# The table contains send/receive message data for the application's users, and has the following schema:\n",
        "# time_stamp(#timestamp, epoch seconds)\t\n",
        "# sender_id(# id of the message sender)\t\n",
        "# receiver_id(# id of the message receiver)\n",
        "# What fraction of active users communicated with at least 15 unique people on March 1, 2018?\n",
        "### Answer\n",
        "# Caller A might call Caller B multiple times. If caller D calls A but not otherwise even then it is considered that A has communicated with B\n",
        "Message['time_stamp_Date'] = Message.time_stamp.dt.date #convert datetime to date var\n",
        "sender_to_receiver = Message.rename(columns={\"sender_id\":\"Communication1\",\"receiver_id\":\"Communication2\"})\n",
        "receiver_to_sender = Message.rename(columns={\"receiver_id\":\"Communication1\",\"sender_id\":\"Communication2\"})\n",
        "# This is we are counting both ways. If actual in Message are A-B,D-A.\n",
        "# Communication will produce A-B, D-A, B-A(left to right of A-B is generated), A-D(left to right of D-A is generated)\n",
        "Communication = pd.concat([sender_to_receiver,receiver_to_sender],axis=1).drop_duplicates()\n",
        "calculate count distinct per user and extract who has more than 15 unique users"
      ],
      "execution_count": null,
      "outputs": []
    },
    {
      "cell_type": "code",
      "metadata": {
        "id": "I0B9RNVceczv"
      },
      "source": [
        "### Question 5 - Employee survey results\n",
        "# If a question per employee has multiple actions at different timestamps i.e a person will first view, then answer or view and skip\n",
        "# And a skipped quesion might again appear (does a unanswered question reappear from random sample?)\n",
        "# Response rate = Number of people who answered / Number of people who got the question\n",
        "select TOP 1 A.questionID, \n",
        "from (select questionID, count(DISTINCT employee_id) as CountEmp\n",
        "from survey_logging\n",
        "group by questionID) as A LEFT JOIN\n",
        "(select questionID, isnull(count(DISTINCT employee_id),0) as CountEmpAnswered\n",
        "from survey_logging \n",
        "group by questionID\n",
        "HAVING action='answer') as B\n",
        "ON A.questionID=B.questionID\n",
        "order by (CountEmpAnswered/CountEmp)"
      ],
      "execution_count": null,
      "outputs": []
    },
    {
      "cell_type": "code",
      "metadata": {
        "id": "I2Dz0ubEecwr"
      },
      "source": [
        "### Question 8 - Checking whether elements in array can be made equal through multiplication\n",
        "# Given an array arr[], write a function to feed in the array elements check whether they can all be made equal by only multiplying the numbers by 2 or 7. (you can multiply by these #s as many times as you like)\n",
        "# If all elements can be made equal, return False, otherwise return True.\n",
        "# Example:arr[ ] = [128, 4, 2]\n",
        "# 128, 4*2*2*2*2*2 = 128, 2*2*2*2*2*2*2 = 128\n",
        "# -- True\n",
        "# arr[ ] = [65, 4, 2]\n",
        "# -- False\n",
        "### Answer\n",
        "Find prime factoriztion of that number and check if the values are only 2 or 7 \n",
        "https://paulrohan.medium.com/prime-factorization-of-a-number-in-python-and-why-we-check-upto-the-square-root-of-the-number-111de56541f"
      ],
      "execution_count": null,
      "outputs": []
    },
    {
      "cell_type": "code",
      "metadata": {
        "id": "CM0MHFwWect1"
      },
      "source": [
        "### Question 9 - Time for a response on a messaging application\n",
        "# self join such that A.receiver_id=B.sender_id AND B.receiver_id=A.sender_id AND A.timestamp<=B.timestamp\n",
        "# Extract B.timestamp-A.timestamp to check if it is less than 5 mins"
      ],
      "execution_count": null,
      "outputs": []
    },
    {
      "cell_type": "code",
      "metadata": {
        "id": "5yu_h6tVenLl"
      },
      "source": [
        "### Question 10 - Calculating student attendance using SQL\n",
        "select grade_level, sum(PresentStatus)/count(PresentStatus) as OverallAttendanceRate\n",
        "from (select date, grade_level, (case when attendance_status IN ('present', 'tardy') then 1 else 0 end) as PresentStatus\n",
        "from student_attendance_log as A LEFT JOIN student_demographic as B ON A.student_id=B.student_id\n",
        "group by date, grade_level\n",
        "HAVING date='2018-03-12') as P"
      ],
      "execution_count": null,
      "outputs": []
    },
    {
      "cell_type": "code",
      "metadata": {
        "id": "NvWoN72BenIb"
      },
      "source": [
        "### Question 12 - Finding the value closest to 0\n",
        "# You are given a list of Q 1D points, return the value in Q that is the closest to value j.\n",
        "# Q = [1, -1, -5, 2, 4, -2, 1] ; j = 3\n",
        "# We would return two values in this case: 2, 4\n",
        "import numpy as np\n",
        "Q = np.sort(Q,axis=None)\n",
        "Diff_array = []\n",
        "for i in range(0,len(Q)):\n",
        "  Diff_array.append(np.absolute(Q[i]-j))\n",
        "  min_Diff_array = np.min(Diff_array)\n",
        "  Nearest_to_j = [Q[j] for j in range(0,len(Diff_array)) if Diff_array[j]==min_Diff_array]"
      ],
      "execution_count": null,
      "outputs": []
    },
    {
      "cell_type": "code",
      "metadata": {
        "id": "V94Y8LKdenFh"
      },
      "source": [
        ""
      ],
      "execution_count": null,
      "outputs": []
    },
    {
      "cell_type": "markdown",
      "metadata": {
        "id": "VjDcwBHJ372s"
      },
      "source": [
        "# codecademy"
      ]
    },
    {
      "cell_type": "code",
      "metadata": {
        "id": "UMBjzHmQ3_l2"
      },
      "source": [
        "### Palindrome\n",
        "# \"aba\" or \"abba\" # \"simple\" palindromes\n",
        "# \"taco cat\" # palindrome with spaces\n",
        "# \"racecar!\" # palindrome with punctuation\n",
        "# \"able was I, ere I saw elba\" # both!\n",
        "\n",
        " what if we wanted to use recursion?\n",
        "def palindrome_1(str):\n",
        "  if len(str) <= 1:\n",
        "    return True\n",
        "  if str[0] != str[-1]:\n",
        "    return False\n",
        "  return palindrome_1(str[1:-1])\n",
        "\n",
        "# what if we didn't care about case?\n",
        "def palindrome_2(str):\n",
        "  lower = str.lower()\n",
        "  for i in range(len(str) // 2):\n",
        "    if lower[i] != lower[-i - 1]:\n",
        "      return False\n",
        "  return True\n",
        "\n",
        "# what if we wanted to ignore punctuation?\n",
        "def palindrome_3(str):\n",
        "  punctuation = [',', '!', '?', '.']\n",
        "  no_punc_str = str[:]\n",
        "  for punc in punctuation:\n",
        "    no_punc_str = no_punc_str.replace(punc, '')\n",
        "  for i in range(len(no_punc_str) // 2):\n",
        "    if no_punc_str[i] != no_punc_str[-i - 1]:\n",
        "      return False\n",
        "  return True \n",
        "\n",
        "# what if we wanted to ignore space?\n",
        "def palindrome_4(str):\n",
        "  no_space_str = str.replace(' ', '')\n",
        "  for i in range(len(no_space_str) // 2):\n",
        "    if no_space_str[i] != no_space_str[-i - 1]:\n",
        "      return False\n",
        "  return True "
      ],
      "execution_count": null,
      "outputs": []
    },
    {
      "cell_type": "code",
      "metadata": {
        "id": "2We8Bdwr3_iw"
      },
      "source": [
        ""
      ],
      "execution_count": null,
      "outputs": []
    },
    {
      "cell_type": "code",
      "metadata": {
        "id": "xMkxqSUL3_J7"
      },
      "source": [
        ""
      ],
      "execution_count": null,
      "outputs": []
    }
  ]
}