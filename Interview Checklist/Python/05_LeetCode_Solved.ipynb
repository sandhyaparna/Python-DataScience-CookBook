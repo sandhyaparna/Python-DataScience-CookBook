{
  "nbformat": 4,
  "nbformat_minor": 0,
  "metadata": {
    "colab": {
      "name": "LeetCodePython.ipynb",
      "provenance": [],
      "collapsed_sections": [],
      "authorship_tag": "ABX9TyOs18mejUdeROi5hLCg/y3K",
      "include_colab_link": true
    },
    "kernelspec": {
      "name": "python3",
      "display_name": "Python 3"
    }
  },
  "cells": [
    {
      "cell_type": "markdown",
      "metadata": {
        "id": "view-in-github",
        "colab_type": "text"
      },
      "source": [
        "<a href=\"https://colab.research.google.com/github/sandhyaparna/Python-DataScience-CookBook/blob/master/Interview%20Questions/LeetCodePython.ipynb\" target=\"_parent\"><img src=\"https://colab.research.google.com/assets/colab-badge.svg\" alt=\"Open In Colab\"/></a>"
      ]
    },
    {
      "cell_type": "code",
      "metadata": {
        "id": "Iff6RClBgq35",
        "colab": {
          "base_uri": "https://localhost:8080/"
        },
        "outputId": "28909187-f0b8-430e-b759-ebdbf67dd5f0"
      },
      "source": [
        "# 1480. Running Sum of 1d Array\r\n",
        "nums = [1,2,3,4]\r\n",
        "# Output: [1,3,6,10]\r\n",
        "Running_sum = []\r\n",
        "for i in range(len(nums)):\r\n",
        "  if i==0:\r\n",
        "    Running_sum.append(nums[i])\r\n",
        "  else:\r\n",
        "    Running_sum.append(nums[i]+Running_sum[i-1])\r\n",
        "print(Running_sum)"
      ],
      "execution_count": null,
      "outputs": [
        {
          "output_type": "stream",
          "text": [
            "[1, 3, 6, 10]\n"
          ],
          "name": "stdout"
        }
      ]
    },
    {
      "cell_type": "code",
      "metadata": {
        "id": "PeH6h0fh8jki",
        "colab": {
          "base_uri": "https://localhost:8080/"
        },
        "outputId": "5de3bbb0-41fb-4aad-bc18-a1132ce029a2"
      },
      "source": [
        "# 1672. Richest Customer Wealth\r\n",
        "# You are given an m x n integer grid accounts where accounts[i][j] is the amount of money the i​​​​​​​​​​​th​​​​ customer has in the j​​​​​​​​​​​th​​​​ bank. Return the wealth that the richest customer has. \r\n",
        "# A customer's wealth is the amount of money they have in all their bank accounts. The richest customer is the customer that has the maximum wealth.\r\n",
        "accounts = [[2,8,7],[7,1,3],[1,9,5]] #[[1,2,3],[3,2,1]] #[[1,5],[7,3],[3,5]]\r\n",
        "# Output: 17 #6 #10\r\n",
        "max_accounts = sum(accounts[0])\r\n",
        "for i in range(len(accounts)):\r\n",
        "  if sum(accounts[i])>max_accounts:\r\n",
        "    max_accounts = sum(accounts[i])\r\n",
        "print(max_accounts)"
      ],
      "execution_count": null,
      "outputs": [
        {
          "output_type": "stream",
          "text": [
            "17\n"
          ],
          "name": "stdout"
        }
      ]
    },
    {
      "cell_type": "code",
      "metadata": {
        "id": "Wu_oiB7F9xPZ",
        "colab": {
          "base_uri": "https://localhost:8080/"
        },
        "outputId": "3694f74c-9110-4f9f-e1cb-6393228f6f7c"
      },
      "source": [
        "# 1431. Kids With the Greatest Number of Candies\r\n",
        "# Given the array candies and the integer extraCandies, where candies[i] represents the number of candies that the ith kid has.\r\n",
        "# For each kid check if there is a way to distribute extraCandies among the kids such that he or she can have the greatest number of candies among them. Notice that multiple kids can have the greatest number of candies.\r\n",
        "candies = [2,3,5,1,3]\r\n",
        "extraCandies = 3\r\n",
        "# Output: [true,true,true,false,true] \r\n",
        "Greatest_candies = []\r\n",
        "for i in range(len(candies)):\r\n",
        "  if candies[i]+3 >= max(candies):\r\n",
        "    Greatest_candies.append(True)\r\n",
        "  else:\r\n",
        "    Greatest_candies.append(False)\r\n",
        "print(Greatest_candies)"
      ],
      "execution_count": null,
      "outputs": [
        {
          "output_type": "stream",
          "text": [
            "[True, True, True, False, True]\n"
          ],
          "name": "stdout"
        }
      ]
    },
    {
      "cell_type": "code",
      "metadata": {
        "colab": {
          "base_uri": "https://localhost:8080/"
        },
        "id": "SJYs0hwGCIVK",
        "outputId": "0ff1e903-833e-462f-f12d-1dc142eec8ef"
      },
      "source": [
        "# 1470. Shuffle the Array\r\n",
        "# Given the array nums consisting of 2n elements in the form [x1,x2,...,xn,y1,y2,...,yn].\r\n",
        "# Return the array in the form [x1,y1,x2,y2,...,xn,yn].\r\n",
        "nums = [2,5,1,3,4,7]\r\n",
        "n = 3\r\n",
        "# Output: [2,3,5,4,1,7] \r\n",
        "nums_shuffle = []\r\n",
        "for i in range(n):\r\n",
        "  # nums_shuffle.append(nums[i]) # Append can take only 1 number\r\n",
        "  # nums_shuffle.append(nums[n+i])\r\n",
        "  nums_shuffle.extend([nums[i],nums[n+i]]) # Use extend to append 2 numbers\r\n",
        "print(nums_shuffle)"
      ],
      "execution_count": null,
      "outputs": [
        {
          "output_type": "stream",
          "text": [
            "[2, 3, 5, 4, 1, 7]\n"
          ],
          "name": "stdout"
        }
      ]
    },
    {
      "cell_type": "code",
      "metadata": {
        "colab": {
          "base_uri": "https://localhost:8080/"
        },
        "id": "cnkeh9hhDuUR",
        "outputId": "ddb78972-dbe1-4942-db0c-f0bee211af63"
      },
      "source": [
        "# 1512. Number of Good Pairs\r\n",
        "# Given an array of integers nums.\r\n",
        "# A pair (i,j) is called good if nums[i] == nums[j] and i < j. Return the number of good pairs.\r\n",
        "nums = [1,1,1,1] #[1,2,3,1,1,3]\r\n",
        "# Output: 6 #4\r\n",
        "good_pairs = 0\r\n",
        "for i in range(len(nums)):\r\n",
        "  for j in range(i+1,len(nums)):\r\n",
        "    if nums[i] == nums[j]:\r\n",
        "      good_pairs += 1\r\n",
        "print(good_pairs)"
      ],
      "execution_count": null,
      "outputs": [
        {
          "output_type": "stream",
          "text": [
            "6\n"
          ],
          "name": "stdout"
        }
      ]
    },
    {
      "cell_type": "code",
      "metadata": {
        "colab": {
          "base_uri": "https://localhost:8080/"
        },
        "id": "SrJJ7acUEioU",
        "outputId": "c330a9aa-718f-4fb2-a3c1-62b743330b59"
      },
      "source": [
        "# 1365. How Many Numbers Are Smaller Than the Current Number\r\n",
        "# Given the array nums, for each nums[i] find out how many numbers in the array are smaller than it. \r\n",
        "nums = [8,1,2,2,3]\r\n",
        "# Output: [4,0,1,1,3]\r\n",
        "nums_smaller = []\r\n",
        "for i in range(len(nums)):\r\n",
        "  count=0\r\n",
        "  for j in range(len(nums)):\r\n",
        "    if i!=j and nums[j]<nums[i]: # i!=j\r\n",
        "      count += 1\r\n",
        "  nums_smaller.append(count)\r\n",
        "print(nums_smaller)"
      ],
      "execution_count": null,
      "outputs": [
        {
          "output_type": "stream",
          "text": [
            "[4, 0, 1, 1, 3]\n"
          ],
          "name": "stdout"
        }
      ]
    },
    {
      "cell_type": "code",
      "metadata": {
        "colab": {
          "base_uri": "https://localhost:8080/"
        },
        "id": "xbvyPMhxVoGK",
        "outputId": "85aa74a8-204d-4d2e-cb30-9b71f137e0fe"
      },
      "source": [
        "# 1313. Decompress Run-Length Encoded List\r\n",
        "nums = [1,1,2,3] #[1,2,3,4]\r\n",
        "# Output: [1,3,3] #[2,4,4,4]\r\n",
        "# Explanation: The first pair [1,2] means we have freq = 1 and val = 2 so we generate the array [2].\r\n",
        "# The second pair [3,4] means we have freq = 3 and val = 4 so we generate [4,4,4].\r\n",
        "# At the end the concatenation [2] + [4,4,4] is [2,4,4,4].\r\n",
        "nums_Decompress = []\r\n",
        "for i in range(0,len(nums)-1,2):\r\n",
        "  for j in range(nums[i]):\r\n",
        "    nums_Decompress.append(nums[i+1])\r\n",
        "print(nums_Decompress)"
      ],
      "execution_count": null,
      "outputs": [
        {
          "output_type": "stream",
          "text": [
            "[1, 3, 3]\n"
          ],
          "name": "stdout"
        }
      ]
    },
    {
      "cell_type": "code",
      "metadata": {
        "colab": {
          "base_uri": "https://localhost:8080/"
        },
        "id": "RLlokPwfYeYQ",
        "outputId": "e21e8495-23c1-46eb-9604-afe601881bb9"
      },
      "source": [
        "# 1389. Create Target Array in the Given Order\r\n",
        "# Given two arrays of integers nums and index. Your task is to create target array under the following rules:\r\n",
        "# Initially target array is empty.\r\n",
        "# From left to right read nums[i] and index[i], insert at index index[i] the value nums[i] in target array.\r\n",
        "# Repeat the previous step until there are no elements to read in nums and index.\r\n",
        "# Return the target array.\r\n",
        "nums = [0,1,2,3,4]\r\n",
        "index = [0,1,2,2,1]\r\n",
        "# Output: [0,4,1,3,2]\r\n",
        "nums_Target = []\r\n",
        "for i in range(len(nums)):\r\n",
        "   nums_Target.insert(index[i],nums[i])\r\n",
        "print(nums_Target)"
      ],
      "execution_count": null,
      "outputs": [
        {
          "output_type": "stream",
          "text": [
            "[0, 4, 1, 3, 2]\n"
          ],
          "name": "stdout"
        }
      ]
    },
    {
      "cell_type": "code",
      "metadata": {
        "id": "H6b0qNX1IPTv",
        "colab": {
          "base_uri": "https://localhost:8080/"
        },
        "outputId": "97098223-1361-4f71-b397-5f8667bf804a"
      },
      "source": [
        "# 1486. XOR Operation in an Array\r\n",
        "# XOR, also known as \"exclusive or\", compares two binary numbers bitwise. If both bits are the same, XOR outputs 0 . \r\n",
        "# If the bits are different, XOR outputs 1 . For instance, performing XOR on 6 and 3 (binary 110 and 011, respectively) results in 5 (binary 101).\r\n",
        "\r\n",
        "# Given an integer n and an integer start.\r\n",
        "# Define an array nums where nums[i] = start + 2*i (0-indexed) and n == nums.length.\r\n",
        "# Return the bitwise XOR of all elements of nums.\r\n",
        "def xorOperation (n, start):\r\n",
        "    xor_operator = start\r\n",
        "    for i in range(1,n):\r\n",
        "        xor_operator = (start+(2*i))^xor_operator\r\n",
        "    return xor_operator\r\n",
        "    \r\n",
        "print(xorOperation(4, 3))\r\n",
        "print(xorOperation(1, 7))\r\n",
        "print(xorOperation(10, 5))"
      ],
      "execution_count": null,
      "outputs": [
        {
          "output_type": "stream",
          "text": [
            "8\n",
            "7\n",
            "2\n"
          ],
          "name": "stdout"
        }
      ]
    },
    {
      "cell_type": "code",
      "metadata": {
        "colab": {
          "base_uri": "https://localhost:8080/"
        },
        "id": "8_BmpiwRueML",
        "outputId": "bb8f0601-3598-4c04-f9d6-9d89aa02e44c"
      },
      "source": [
        "# 1588. Sum of All Odd Length Subarrays\r\n",
        "# Given an array of positive integers arr, calculate the sum of all possible odd-length subarrays.\r\n",
        "# A subarray is a contiguous subsequence of the array.\r\n",
        "# Return the sum of all odd-length subarrays of arr.\r\n",
        "arr = [1,4,2,5,3]\r\n",
        "Output: 58\r\n",
        "arr_oddLenSum = 0\r\n",
        "for i in range(len(arr)):\r\n",
        "  for j in range(i+1,len(arr)+1,2):\r\n",
        "    arr_oddLenSum += sum(arr[i:j])\r\n",
        "print(arr_oddLenSum)"
      ],
      "execution_count": null,
      "outputs": [
        {
          "output_type": "stream",
          "text": [
            "58\n"
          ],
          "name": "stdout"
        }
      ]
    },
    {
      "cell_type": "code",
      "metadata": {
        "colab": {
          "base_uri": "https://localhost:8080/"
        },
        "id": "FlFAIhBbw3o9",
        "outputId": "f5b79cb2-2784-44e9-f29c-60cd6e5c059d"
      },
      "source": [
        "# 1732. Find the Highest Altitude\r\n",
        "# There is a biker going on a road trip. The road trip consists of n + 1 points at different altitudes. The biker starts his trip on point 0 with altitude equal 0.\r\n",
        "# You are given an integer array gain of length n where gain[i] is the net gain in altitude between points i​​​​​​ and i + 1 for all (0 <= i < n). Return the highest altitude of a point.\r\n",
        "gain =  [-4,-3,-2,-1,4,3,2] #[-5,1,5,0,-7]\r\n",
        "# Output: 0 # 1\r\n",
        "Altitude_gain = [0]\r\n",
        "for i in range(len(gain)):\r\n",
        "  Altitude_gain.append(gain[i]+Altitude_gain[i])\r\n",
        "print(Altitude_gain)\r\n",
        "print(max(Altitude_gain))"
      ],
      "execution_count": null,
      "outputs": [
        {
          "output_type": "stream",
          "text": [
            "[0, -4, -7, -9, -10, -6, -3, -1]\n",
            "0\n"
          ],
          "name": "stdout"
        }
      ]
    },
    {
      "cell_type": "code",
      "metadata": {
        "colab": {
          "base_uri": "https://localhost:8080/"
        },
        "id": "eWySVKOU0e0M",
        "outputId": "dae0ba7d-7f26-46dc-a498-79f408e2a577"
      },
      "source": [
        "# 1534. Count Good Triplets\r\n",
        "# Given an array of integers arr, and three integers a, b and c. You need to find the number of good triplets.\r\n",
        "# A triplet (arr[i], arr[j], arr[k]) is good if the following conditions are true:\r\n",
        "# 0 <= i < j < k < arr.length\r\n",
        "# |arr[i] - arr[j]| <= a\r\n",
        "# |arr[j] - arr[k]| <= b\r\n",
        "# |arr[i] - arr[k]| <= c\r\n",
        "# Where |x| denotes the absolute value of x.\r\n",
        "# Return the number of good triplets.\r\n",
        "arr,a,b,c = [3,0,1,1,9,7],7,2,3\r\n",
        "# Output: 4\r\n",
        "good_triplets = []\r\n",
        "for i in range(len(arr)):\r\n",
        "  for j in range(i+1,len(arr)):\r\n",
        "    for k in range(j+1,len(arr)):\r\n",
        "      if abs(arr[i]-arr[j])<=a and abs(arr[j]-arr[k])<=b and abs(arr[i]-arr[k])<=c:\r\n",
        "        good_triplets.append([arr[i],arr[j],arr[k]])\r\n",
        "print(len(good_triplets))"
      ],
      "execution_count": null,
      "outputs": [
        {
          "output_type": "stream",
          "text": [
            "4\n"
          ],
          "name": "stdout"
        }
      ]
    },
    {
      "cell_type": "code",
      "metadata": {
        "id": "wFSo1KdKViOq",
        "colab": {
          "base_uri": "https://localhost:8080/"
        },
        "outputId": "c1fc99b6-bdf1-4ed0-8f0a-2e3974e88503"
      },
      "source": [
        "# 1266. Minimum Time Visiting All Points\r\n",
        "# Return the minimum time in seconds to visit all the points in the order given by points.\r\n",
        "points = [[1,1],[3,4],[-1,0]]\r\n",
        "steps=0\r\n",
        "for i in range(len(points)-1):\r\n",
        "  steps += max(abs(points[i][0]-points[i+1][0]),abs(points[i][1]-points[i+1][1]))\r\n",
        "print(steps)"
      ],
      "execution_count": null,
      "outputs": [
        {
          "output_type": "stream",
          "text": [
            "7\n"
          ],
          "name": "stdout"
        }
      ]
    },
    {
      "cell_type": "code",
      "metadata": {
        "colab": {
          "base_uri": "https://localhost:8080/"
        },
        "id": "_FfuKvUa2NrC",
        "outputId": "d17383ed-8ca0-427b-fb83-b65f5214ce62"
      },
      "source": [
        "# 1295. Find Numbers with Even Number of Digits\r\n",
        "# Given an array nums of integers, return how many of them contain an even number of digits.\r\n",
        "nums = [12,345,2,6,7896]\r\n",
        "# Output: 2\r\n",
        "even_digits = 0\r\n",
        "for i in nums:\r\n",
        "  digits_num = 0\r\n",
        "  num = i\r\n",
        "  while num>0:\r\n",
        "    num = num//10\r\n",
        "    digits_num += 1\r\n",
        "  # print(digits_num)\r\n",
        "  if digits_num%2==0:\r\n",
        "    even_digits +=1\r\n",
        "print(even_digits)"
      ],
      "execution_count": null,
      "outputs": [
        {
          "output_type": "stream",
          "text": [
            "2\n"
          ],
          "name": "stdout"
        }
      ]
    },
    {
      "cell_type": "code",
      "metadata": {
        "colab": {
          "base_uri": "https://localhost:8080/"
        },
        "id": "H_Dgykwj4y0x",
        "outputId": "1f596a63-4c4c-4983-ce75-af089e93285f"
      },
      "source": [
        "# 1252. Cells with Odd Values in a Matrix\r\n",
        "# Given n and m which are the dimensions of a matrix initialized by zeros and given an array indices where indices[i] = [ri, ci]. For each pair of [ri, ci] you have to increment all cells in row ri and column ci by 1.\r\n",
        "# Return the number of cells with odd values in the matrix after applying the increment to all indices.\r\n",
        "n, m , indices = 2, 3, [[0,1],[1,1]]\r\n",
        "# n, m , indices = 2, 2, [[1,1],[0,0]]\r\n",
        "# Output: 6\r\n",
        "Matrix_oddValues = []\r\n",
        "# Output: 6\r\n",
        "Matrix_oddValues = [[0 for i in range(m)] for i in range(n)] # Initialize matrix with 0s\r\n",
        "for i in range(len(indices)):\r\n",
        "  for col in range(m):\r\n",
        "    Matrix_oddValues[indices[i][0]][col] +=1\r\n",
        "  for row in range(n):\r\n",
        "    Matrix_oddValues[row][indices[i][1]] +=1\r\n",
        "print(Matrix_oddValues)"
      ],
      "execution_count": null,
      "outputs": [
        {
          "output_type": "stream",
          "text": [
            "[[1, 3, 1], [1, 3, 1]]\n"
          ],
          "name": "stdout"
        }
      ]
    },
    {
      "cell_type": "code",
      "metadata": {
        "id": "dZ9peXr5H3hd",
        "colab": {
          "base_uri": "https://localhost:8080/"
        },
        "outputId": "a2203769-a59e-4a86-9ca5-feb8ece30b1a"
      },
      "source": [
        "# 1572. Matrix Diagonal Sum\r\n",
        "# Given a square matrix mat, return the sum of the matrix diagonals.\r\n",
        "# Only include the sum of all the elements on the primary diagonal and all the elements on the secondary diagonal that are not part of the primary diagonal.\r\n",
        "mat = [[1,2,3],[4,5,6],[7,8,9]]\r\n",
        "Diagonal_sum = 0\r\n",
        "# Output: 25\r\n",
        "for i in range(len(mat)):\r\n",
        "  Diagonal_sum += mat[i][i]\r\n",
        "  j = len(mat[0])-i-1\r\n",
        "  if i != j:\r\n",
        "    Diagonal_sum += mat[i][j]\r\n",
        "print(Diagonal_sum)"
      ],
      "execution_count": null,
      "outputs": [
        {
          "output_type": "stream",
          "text": [
            "25\n"
          ],
          "name": "stdout"
        }
      ]
    },
    {
      "cell_type": "code",
      "metadata": {
        "id": "EEhGYVc6Lf3X",
        "colab": {
          "base_uri": "https://localhost:8080/"
        },
        "outputId": "ca38e6c7-ef94-4ae0-efc5-3b6d6b2784fd"
      },
      "source": [
        "# 1086. High Five\r\n",
        "# Given a list of the scores of different students, items, where items[i] = [IDi, scorei] represents one score from a student with IDi, calculate each student's top five average.\r\n",
        "# Return the answer as an array of pairs result, where result[j] = [IDj, topFiveAveragej] represents the student with IDj and their top five average. Sort result by IDj in increasing order.\r\n",
        "# A student's top five average is calculated by taking the sum of their top five scores and dividing it by 5 using integer division.\r\n",
        "items = [[1,91],[1,92],[2,93],[2,97],[1,60],[2,77],[1,65],[1,87],[1,100],[2,100],[2,76]]\r\n",
        "# Output: [[1,87],[2,88]]\r\n",
        "items.sort(reverse=True) # [[2, 100], [2, 97], [2, 93], [2, 77], [2, 76], [1, 100], [1, 92], [1, 91], [1, 87], [1, 65], [1, 60]]\r\n",
        "IDs = []\r\n",
        "Output_IDs = []\r\n",
        "for i in range(len(items)):\r\n",
        "  if items[i][0] not in IDs:\r\n",
        "    IDs.append(items[i][0])\r\n",
        "    print(i) # First index of a new id after items have been sorted\r\n",
        "    Output_IDs.extend(items[i:i+5])\r\n",
        "print(Output_IDs)\r\n",
        "Output_Avg = []\r\n",
        "for i in range(0,len(Output_IDs),5):\r\n",
        "  Avg_ID = 0\r\n",
        "  Sum_ID = 0\r\n",
        "  for j in range(5):\r\n",
        "    Sum_ID += Output_IDs[i+j][1]\r\n",
        "  Avg_ID = Sum_ID//5\r\n",
        "  Output_Avg.append([Output_IDs[i][0],Avg_ID])\r\n",
        "Output_Avg.sort()\r\n",
        "print(Output_Avg)"
      ],
      "execution_count": null,
      "outputs": [
        {
          "output_type": "stream",
          "text": [
            "0\n",
            "5\n",
            "[[2, 100], [2, 97], [2, 93], [2, 77], [2, 76], [1, 100], [1, 92], [1, 91], [1, 87], [1, 65]]\n",
            "[[1, 87], [2, 88]]\n"
          ],
          "name": "stdout"
        }
      ]
    },
    {
      "cell_type": "code",
      "metadata": {
        "id": "Lv6fF0pGjHDk",
        "colab": {
          "base_uri": "https://localhost:8080/"
        },
        "outputId": "199ba65a-7397-48ce-d643-a92d7b9aa7fa"
      },
      "source": [
        "# 832. Flipping an Image\r\n",
        "# Given a binary matrix A, we want to flip the image horizontally, then invert it, and return the resulting image.\r\n",
        "# To flip an image horizontally means that each row of the image is reversed.  For example, flipping [1, 1, 0] horizontally results in [0, 1, 1].\r\n",
        "# To invert an image means that each 0 is replaced by 1, and each 1 is replaced by 0. For example, inverting [0, 1, 1] results in [1, 0, 0].\r\n",
        "Input = [[1,1,0,0],[1,0,0,1],[0,1,1,1],[1,0,1,0]] #[[1,1,0],[1,0,1],[0,0,0]]\r\n",
        "# Output: [[1,1,0,0],[0,1,1,0],[0,0,0,1],[1,0,1,0]] #[[1,0,0],[0,1,0],[1,1,1]]\r\n",
        "for i in range(len(Input)):\r\n",
        "  for j in range(len(Input[0])//2):\r\n",
        "    k = len(Input[0])-j-1\r\n",
        "    Input[i][j],Input[i][k] = Input[i][k],Input[i][j] # flip an image. can also be done using [::-1]\r\n",
        "  for l in range(len(Input[0])): # inverting image\r\n",
        "    if Input[i][l]==0:\r\n",
        "      Input[i][l]=1\r\n",
        "    else:\r\n",
        "      Input[i][l]=0\r\n",
        "print(Input)"
      ],
      "execution_count": null,
      "outputs": [
        {
          "output_type": "stream",
          "text": [
            "[[1, 1, 0, 0], [0, 1, 1, 0], [0, 0, 0, 1], [1, 0, 1, 0]]\n"
          ],
          "name": "stdout"
        }
      ]
    },
    {
      "cell_type": "code",
      "metadata": {
        "id": "j-7tH9xksWR1",
        "colab": {
          "base_uri": "https://localhost:8080/"
        },
        "outputId": "794de0df-567e-4c05-d148-771d94520795"
      },
      "source": [
        "# 1748. Sum of Unique Elements\r\n",
        "# You are given an integer array nums. The unique elements of an array are the elements that appear exactly once in the array.\r\n",
        "# Return the sum of all the unique elements of nums.\r\n",
        "nums = [1,2,3,2,4]\r\n",
        "# Output: 8\r\n",
        "uq_nums = []\r\n",
        "for i in range(len(nums)):\r\n",
        "  if i<len(nums)-1:\r\n",
        "    if (nums[i] not in nums[:i]) and (nums[i] not in nums[i+1:]):\r\n",
        "      uq_nums.append(nums[i])\r\n",
        "  if i==len(nums)-1:\r\n",
        "    if (nums[i] not in nums[:i]):\r\n",
        "      uq_nums.append(nums[i])\r\n",
        "print(sum(uq_nums))"
      ],
      "execution_count": null,
      "outputs": [
        {
          "output_type": "stream",
          "text": [
            "8\n"
          ],
          "name": "stdout"
        }
      ]
    },
    {
      "cell_type": "code",
      "metadata": {
        "id": "_iugYsslmNXx",
        "colab": {
          "base_uri": "https://localhost:8080/"
        },
        "outputId": "e87d614b-595d-4f44-cad7-f4a602d22bb5"
      },
      "source": [
        "# 1450. Number of Students Doing Homework at a Given Time\r\n",
        "# Given two integer arrays startTime and endTime and given an integer queryTime.\r\n",
        "# The ith student started doing their homework at the time startTime[i] and finished it at time endTime[i].\r\n",
        "# Return the number of students doing their homework at time queryTime. More formally, return the number of students where queryTime lays in the interval [startTime[i], endTime[i]] inclusive.\r\n",
        "startTime = [1,2,3]\r\n",
        "endTime = [3,2,7]\r\n",
        "queryTime = 4\r\n",
        "count = 0\r\n",
        "for i in range(len(startTime)):\r\n",
        "  if (endTime[i]>=queryTime) and (startTime[i]<=queryTime):\r\n",
        "      count +=1\r\n",
        "print(count)"
      ],
      "execution_count": null,
      "outputs": [
        {
          "output_type": "stream",
          "text": [
            "1\n"
          ],
          "name": "stdout"
        }
      ]
    },
    {
      "cell_type": "code",
      "metadata": {
        "id": "TIVpasEw1JEX",
        "colab": {
          "base_uri": "https://localhost:8080/"
        },
        "outputId": "ef8d703d-8792-45aa-e525-a5d91fa76043"
      },
      "source": [
        "# 1464. Maximum Product of Two Elements in an Array\r\n",
        "# Given the array of integers nums, you will choose two different indices i and j of that array. Return the maximum value of (nums[i]-1)*(nums[j]-1).\r\n",
        "nums = [1,5,4,5] #[3,4,5,2]\r\n",
        "# Output: 16 #12 \r\n",
        "max_ij = 0\r\n",
        "for i in range(len(nums)):\r\n",
        "  for j in range(i+1,len(nums)):\r\n",
        "    if ((nums[i]-1)*(nums[j]-1)) > max_ij:\r\n",
        "      max_ij = (nums[i]-1)*(nums[j]-1)\r\n",
        "print(max_ij)"
      ],
      "execution_count": null,
      "outputs": [
        {
          "output_type": "stream",
          "text": [
            "16\n"
          ],
          "name": "stdout"
        }
      ]
    },
    {
      "cell_type": "code",
      "metadata": {
        "id": "f2NvnOz37x0o",
        "colab": {
          "base_uri": "https://localhost:8080/"
        },
        "outputId": "9c5fd730-926c-4084-ef8a-04518b28f887"
      },
      "source": [
        "# 1304. Find N Unique Integers Sum up to Zero\r\n",
        "# Given an integer n, return any array containing n unique integers such that they add up to 0.\r\n",
        "n = 5\r\n",
        "# Output: [-7,-1,1,3,4]\r\n",
        "Uq_Ints = []\r\n",
        "for i in range(1,(n//2)+1):\r\n",
        "  Uq_Ints.extend([i,-i])\r\n",
        "if n%2!=0:\r\n",
        "  Uq_Ints.append(0)\r\n",
        "print(Uq_Ints)"
      ],
      "execution_count": null,
      "outputs": [
        {
          "output_type": "stream",
          "text": [
            "[1, -1, 2, -2, 0]\n"
          ],
          "name": "stdout"
        }
      ]
    },
    {
      "cell_type": "code",
      "metadata": {
        "id": "bBqVYlFztRli",
        "colab": {
          "base_uri": "https://localhost:8080/"
        },
        "outputId": "95fb1ff9-f889-4b47-c7b6-a4c319ac0bd2"
      },
      "source": [
        "# 1351. Count Negative Numbers in a Sorted Matrix\r\n",
        "# Given a m x n matrix grid which is sorted in non-increasing order both row-wise and column-wise, return the number of negative numbers in grid.\r\n",
        "grid = [[4,3,2,-1],[3,2,1,-1],[1,1,-1,-2],[-1,-1,-2,-3]]\r\n",
        "count=0\r\n",
        "for i in range(len(grid)):\r\n",
        "    for j in grid[i][::-1]:\r\n",
        "        if j<0:\r\n",
        "            count +=1\r\n",
        "print(count)"
      ],
      "execution_count": null,
      "outputs": [
        {
          "output_type": "stream",
          "text": [
            "8\n"
          ],
          "name": "stdout"
        }
      ]
    },
    {
      "cell_type": "code",
      "metadata": {
        "id": "IAkfILjv-4cH",
        "colab": {
          "base_uri": "https://localhost:8080/"
        },
        "outputId": "f1eebd92-3228-4a41-c37e-8595728d9679"
      },
      "source": [
        "# 1085. Sum of Digits in the Minimum Number\r\n",
        "# Given an array A of positive integers, let S be the sum of the digits of the minimal element of A.\r\n",
        "# Return 0 if S is odd, otherwise return 1.\r\n",
        "Input = [34,23,1,24,75,33,54,8] #[99,77,33,66,55]\r\n",
        "# Output: 0 #1\r\n",
        "min_Input = min(Input)\r\n",
        "min_sum = 0\r\n",
        "min_sum_odd_even = 0\r\n",
        "while min_Input>0:\r\n",
        "  min_sum += min_Input%10\r\n",
        "  min_Input = min_Input//10\r\n",
        "if min_sum%2 == 0:\r\n",
        "  min_sum_odd_even=1\r\n",
        "else:\r\n",
        "  min_sum_odd_even=0\r\n",
        "print(min_sum_odd_even)"
      ],
      "execution_count": null,
      "outputs": [
        {
          "output_type": "stream",
          "text": [
            "0\n"
          ],
          "name": "stdout"
        }
      ]
    },
    {
      "cell_type": "code",
      "metadata": {
        "id": "rzOncexQ1619",
        "colab": {
          "base_uri": "https://localhost:8080/"
        },
        "outputId": "855637d7-013c-4af8-a6e3-927e51752164"
      },
      "source": [
        "# 1475. Final Prices With a Special Discount in a Shop\r\n",
        "# Given the array prices where prices[i] is the price of the ith item in a shop. There is a special discount for items in the shop, if you buy the ith item, then you will receive a discount equivalent to prices[j] where j is the minimum index such that j > i and prices[j] <= prices[i], otherwise, you will not receive any discount at all.\r\n",
        "# Return an array where the ith element is the final price you will pay for the ith item of the shop considering the special discount.\r\n",
        "prices = [8,4,6,2,3]\r\n",
        "new_prices =[]\r\n",
        "discountapplied = []\r\n",
        "for i in range(len(prices)):\r\n",
        "    discount=0\r\n",
        "    for j in range(i+1,len(prices)):\r\n",
        "        if prices[j]<=prices[i] and discount==0:\r\n",
        "            discount=prices[j]\r\n",
        "            new_prices.append(prices[i]-discount)\r\n",
        "            discountapplied.append(i)\r\n",
        "    if i not in discountapplied:\r\n",
        "        new_prices.append(prices[i])\r\n",
        "\r\n",
        "        # elif prices[j]>prices[i]:\r\n",
        "        #     new_prices.append(prices[i])\r\n",
        "print(new_prices)\r\n",
        "print(discountapplied)"
      ],
      "execution_count": null,
      "outputs": [
        {
          "output_type": "stream",
          "text": [
            "[4, 2, 4, 2, 3]\n",
            "[0, 1, 2]\n"
          ],
          "name": "stdout"
        }
      ]
    },
    {
      "cell_type": "code",
      "metadata": {
        "id": "07TreFXOAYJ4",
        "colab": {
          "base_uri": "https://localhost:8080/"
        },
        "outputId": "7620d934-2c65-405b-83e0-00aa7b874cd0"
      },
      "source": [
        "# 905. Sort Array By Parity\r\n",
        "# Given an array A of non-negative integers, return an array consisting of all the even elements of A, followed by all the odd elements of A.\r\n",
        "# You may return any answer array that satisfies this condition.\r\n",
        "Input=[3,1,2,4]\r\n",
        "# Output: [2,4,3,1]\r\n",
        "list_even = []\r\n",
        "list_odd = []\r\n",
        "for i in Input:\r\n",
        "  if i%2==0:\r\n",
        "    list_even.append(i)\r\n",
        "  else:\r\n",
        "    list_odd.append(i)\r\n",
        "list_even.extend(list_odd)\r\n",
        "print(list_even)"
      ],
      "execution_count": null,
      "outputs": [
        {
          "output_type": "stream",
          "text": [
            "[2, 4, 3, 1]\n"
          ],
          "name": "stdout"
        }
      ]
    },
    {
      "cell_type": "code",
      "metadata": {
        "id": "Zc4WK_-tDDkA",
        "colab": {
          "base_uri": "https://localhost:8080/"
        },
        "outputId": "9bc79b81-e6ea-4ad7-a07f-054d14c47d2e"
      },
      "source": [
        "# 1742. Maximum Number of Balls in a Box\r\n",
        "# You are working in a ball factory where you have n balls numbered from lowLimit up to highLimit inclusive (i.e., n == highLimit - lowLimit + 1), and an infinite number of boxes numbered from 1 to infinity.\r\n",
        "# Your job at this factory is to put each ball in the box with a number equal to the sum of digits of the ball's number. For example, the ball number 321 will be put in the box number 3 + 2 + 1 = 6 and the ball number 10 will be put in the box number 1 + 0 = 1.\r\n",
        "# Given two integers lowLimit and highLimit, return the number of balls in the box with the most balls.\r\n",
        "lowLimit = 5 #1\r\n",
        "highLimit = 36 # 10\r\n",
        "# Output: 4 #2\r\n",
        "Bag = []\r\n",
        "for i in range(lowLimit,highLimit+1,1):\r\n",
        "  Sum_digits = 0\r\n",
        "  num = i\r\n",
        "  while num>0:\r\n",
        "    Sum_digits += num%10\r\n",
        "    num = num//10\r\n",
        "  Bag.append(Sum_digits)\r\n",
        "print(Bag)\r\n",
        "Max_Bag = 0\r\n",
        "for i in list(set(Bag)):\r\n",
        "  if i in Bag[Bag.index(i)+1:] and Bag.count(i)>Max_Bag:\r\n",
        "    Max_Bag=Bag.count(i)\r\n",
        "print(Max_Bag)"
      ],
      "execution_count": null,
      "outputs": [
        {
          "output_type": "stream",
          "text": [
            "[5, 6, 7, 8, 9, 1, 2, 3, 4, 5, 6, 7, 8, 9, 10, 2, 3, 4, 5, 6, 7, 8, 9, 10, 11, 3, 4, 5, 6, 7, 8, 9]\n",
            "4\n"
          ],
          "name": "stdout"
        }
      ]
    },
    {
      "cell_type": "code",
      "metadata": {
        "colab": {
          "base_uri": "https://localhost:8080/"
        },
        "id": "G5JepSg_7Lj1",
        "outputId": "35d8586a-3250-4ea9-95eb-76d1b4e53d99"
      },
      "source": [
        "# 1299. Replace Elements with Greatest Element on Right Side\r\n",
        "# Given an array arr, replace every element in that array with the greatest element among the elements to its right, and replace the last element with -1.\r\n",
        "arr = [17,18,5,4,6,1]\r\n",
        "# Output: [18,6,6,6,1,-1]\r\n",
        "Max_arr = []\r\n",
        "for i in range(len(arr)):\r\n",
        "  if i==len(arr)-1:\r\n",
        "    Max_arr.append(-1)\r\n",
        "  else:\r\n",
        "    Max_arr.append(max(arr[i+1:]))\r\n",
        "print(Max_arr)"
      ],
      "execution_count": null,
      "outputs": [
        {
          "output_type": "stream",
          "text": [
            "[18, 6, 6, 6, 1, -1]\n"
          ],
          "name": "stdout"
        }
      ]
    },
    {
      "cell_type": "code",
      "metadata": {
        "colab": {
          "base_uri": "https://localhost:8080/"
        },
        "id": "GMW9X_EU7vaW",
        "outputId": "9863bb69-b022-4484-8226-f62208c0f278"
      },
      "source": [
        "# 561. Array Partition I\r\n",
        "# Given an integer array nums of 2n integers, group these integers into n pairs (a1, b1), (a2, b2), ..., (an, bn) such that the sum of min(ai, bi) for all i is maximized. Return the maximized sum.\r\n",
        "nums = [6,2,6,5,1,2] #[1,4,3,2]\r\n",
        "# Output: 9 #4\r\n",
        "# arr length is 2n,pairs=n. To get max sum of min(a,b) of n pairs, sort array and choose the adjacent items as pairs, sum of numbers at even indices gives Max sum\r\n",
        "nums.sort()\r\n",
        "Max_sum = 0\r\n",
        "for i in range(len(nums)):\r\n",
        "  if i%2==0:\r\n",
        "    Max_sum += nums[i]\r\n",
        "print(Max_sum)"
      ],
      "execution_count": null,
      "outputs": [
        {
          "output_type": "stream",
          "text": [
            "9\n"
          ],
          "name": "stdout"
        }
      ]
    },
    {
      "cell_type": "code",
      "metadata": {
        "id": "XAiA3v2n8sXh",
        "colab": {
          "base_uri": "https://localhost:8080/"
        },
        "outputId": "9f4cfb99-310c-4d66-9546-24c15a7f7284"
      },
      "source": [
        "# 1460. Make Two Arrays Equal by Reversing Sub-arrays\r\n",
        "# Given two integer arrays of equal length target and arr.\r\n",
        "# In one step, you can select any non-empty sub-array of arr and reverse it. You are allowed to make any number of steps.\r\n",
        "# Return True if you can make arr equal to target, or False otherwise.\r\n",
        "target = [1,2,3,4]\r\n",
        "arr = [2,4,1,3]\r\n",
        "# Output: true\r\n",
        "# Target and arr should have same numbers and their freq should also be same\r\n",
        "from collections import Counter\r\n",
        "if Counter(target)==Counter(arr):\r\n",
        "  print(True)\r\n",
        "else:\r\n",
        "  print(False)"
      ],
      "execution_count": null,
      "outputs": [
        {
          "output_type": "stream",
          "text": [
            "True\n"
          ],
          "name": "stdout"
        }
      ]
    },
    {
      "cell_type": "code",
      "metadata": {
        "id": "-Jx1pb8k94gT",
        "colab": {
          "base_uri": "https://localhost:8080/"
        },
        "outputId": "05bba686-2a72-4a62-e20f-73f639dd9def"
      },
      "source": [
        "# 977. Squares of a Sorted Array\r\n",
        "# Given an integer array nums sorted in non-decreasing order, return an array of the squares of each number sorted in non-decreasing order.\r\n",
        "nums = [-4,-1,0,3,10]\r\n",
        "# Output: [0,1,9,16,100]\r\n",
        "nums.sort(key=abs) # Sort numbers by absolute value\r\n",
        "[x**2 for x in nums]"
      ],
      "execution_count": null,
      "outputs": [
        {
          "output_type": "execute_result",
          "data": {
            "text/plain": [
              "[0, 1, 9, 16, 100]"
            ]
          },
          "metadata": {
            "tags": []
          },
          "execution_count": 35
        }
      ]
    },
    {
      "cell_type": "code",
      "metadata": {
        "id": "vv6uW8B8FKip",
        "colab": {
          "base_uri": "https://localhost:8080/"
        },
        "outputId": "512f1cb9-3b40-4092-e953-85dddeaaf423"
      },
      "source": [
        "# 1051. Height Checker\r\n",
        "# Students are asked to stand in non-decreasing order of heights for an annual photo.\r\n",
        "# Return the minimum number of students that must move in order for all students to be standing in non-decreasing order of height.\r\n",
        "# Notice that when a group of students is selected they can reorder in any possible way between themselves and the non selected students remain on their seats.\r\n",
        "heights = [1,2,3,4,5] #[5,1,2,3,4] #[1,1,4,2,1,3]\r\n",
        "# Output:  0 #5 #3\r\n",
        "# Sort heights and compared sorted order with original and see how many of them are not in same positions\r\n",
        "heights_sorted = sorted(heights)\r\n",
        "positions = 0\r\n",
        "for i,j in zip(heights,heights_sorted):\r\n",
        "  if i!=j:\r\n",
        "    positions +=1\r\n",
        "print(positions)"
      ],
      "execution_count": null,
      "outputs": [
        {
          "output_type": "stream",
          "text": [
            "0\n"
          ],
          "name": "stdout"
        }
      ]
    },
    {
      "cell_type": "code",
      "metadata": {
        "id": "sC6N5K5IJlzg",
        "colab": {
          "base_uri": "https://localhost:8080/"
        },
        "outputId": "b9c0aad9-7e93-4de4-88c6-8507fe4b14ac"
      },
      "source": [
        "# Check for multiple ifelse conditions, if one of the condition is false return False, otherwise return True\r\n",
        "# 1502. Can Make Arithmetic Progression From Sequence\r\n",
        "# Given an array of numbers arr. A sequence of numbers is called an arithmetic progression if the difference between any two consecutive elements is the same.\r\n",
        "# Return true if the array can be rearranged to form an arithmetic progression, otherwise, return false.\r\n",
        "arr = [3,5,1,7,9]\r\n",
        "# Output: true\r\n",
        "# sort the arr and compare difference of i+1 & i\r\n",
        "arr.sort()\r\n",
        "Diff = arr[1]-arr[0]\r\n",
        "output = True\r\n",
        "for i in range(1,len(arr)-1):\r\n",
        "  if arr[i+1]-arr[i]==Diff: # CHecks all combinations\r\n",
        "    output = True \r\n",
        "  else:\r\n",
        "    output = False\r\n",
        "    break # if condition doesn't satisfy return False and break\r\n",
        "print(output)"
      ],
      "execution_count": null,
      "outputs": [
        {
          "output_type": "stream",
          "text": [
            "True\n"
          ],
          "name": "stdout"
        }
      ]
    },
    {
      "cell_type": "code",
      "metadata": {
        "id": "tB4oGCXcsOx4",
        "colab": {
          "base_uri": "https://localhost:8080/"
        },
        "outputId": "e13982bf-5297-4de3-b62c-6667488dee61"
      },
      "source": [
        "# 1380. Lucky Numbers in a Matrix\r\n",
        "# Given a m * n matrix of distinct numbers, return all lucky numbers in the matrix in any order.\r\n",
        "# A lucky number is an element of the matrix such that it is the minimum element in its row and maximum in its column.\r\n",
        "matrix = [[1,10,4,2],[9,3,8,7],[15,16,17,12]] # [[3,7,8],[9,11,13],[15,16,17]] # items in a row can be accessed\r\n",
        "# Output: [12] # [15]\r\n",
        "# To access items in a column inverse the matrix - use zip\r\n",
        "matrix_inv = list(zip(*matrix)) #inverse of a matrix\r\n",
        "m = len(matrix)\r\n",
        "n = len(matrix[0])\r\n",
        "Lucky_nums = []\r\n",
        "for i in range(m):\r\n",
        "  for j in range(n):\r\n",
        "    if matrix[i][j]==min(matrix[i]) and matrix[i][j]==max(matrix_inv[j]):\r\n",
        "      Lucky_nums.append(matrix[i][j])\r\n",
        "print(Lucky_nums)"
      ],
      "execution_count": null,
      "outputs": [
        {
          "output_type": "stream",
          "text": [
            "[12]\n"
          ],
          "name": "stdout"
        }
      ]
    },
    {
      "cell_type": "code",
      "metadata": {
        "id": "jq3MK3UixkXS",
        "colab": {
          "base_uri": "https://localhost:8080/"
        },
        "outputId": "14310ae3-483a-4286-e3f0-b5210d50175e"
      },
      "source": [
        "# 922. Sort Array By Parity II\r\n",
        "# Given an array A of non-negative integers, half of the integers in A are odd, and half of the integers are even.\r\n",
        "# Sort the array so that whenever A[i] is odd, i is odd; and whenever A[i] is even, i is even.\r\n",
        "# You may return any answer array that satisfies this condition.\r\n",
        "Input = [4,2,5,7]\r\n",
        "# Output: [4,5,2,7]\r\n",
        "Even = []\r\n",
        "Odd = []\r\n",
        "for i in Input:\r\n",
        "  if i%2==0:\r\n",
        "    Even.append(i)\r\n",
        "  else:\r\n",
        "    Odd.append(i)\r\n",
        "print(Even)\r\n",
        "print(Odd)\r\n",
        "Output = []\r\n",
        "for i,j in zip(Even,Odd):\r\n",
        "  Output.extend([i,j])\r\n",
        "print(Output)"
      ],
      "execution_count": null,
      "outputs": [
        {
          "output_type": "stream",
          "text": [
            "[4, 2]\n",
            "[5, 7]\n",
            "[4, 5, 2, 7]\n"
          ],
          "name": "stdout"
        }
      ]
    },
    {
      "cell_type": "code",
      "metadata": {
        "id": "y7raE-SZADT4",
        "colab": {
          "base_uri": "https://localhost:8080/"
        },
        "outputId": "d2d7a74b-a7a9-4b50-8d95-eae195f27cd7"
      },
      "source": [
        "# 1337. The K Weakest Rows in a Matrix\r\n",
        "# Given a m * n matrix mat of ones (representing soldiers) and zeros (representing civilians), return the indexes of the k weakest rows in the matrix ordered from the weakest to the strongest.\r\n",
        "# A row i is weaker than row j, if the number of soldiers in row i is less than the number of soldiers in row j, or they have the same number of soldiers but i is less than j. \r\n",
        "# Soldiers are always stand in the frontier of a row, that is, always ones may appear first and then zeros.\r\n",
        "mat = [[1,1,0,0,0],\r\n",
        " [1,1,1,1,0],\r\n",
        " [1,0,0,0,0],\r\n",
        " [1,1,0,0,0],\r\n",
        " [1,1,1,1,1]]\r\n",
        "k = 3\r\n",
        "# Output: [2,0,3]\r\n",
        "Soldiers = []\r\n",
        "for i in range(len(mat)):\r\n",
        "  Soldiers.append([sum(mat[i]),i])\r\n",
        "Soldiers.sort()\r\n",
        "print(Soldiers)\r\n",
        "list(list(zip(*Soldiers))[1][:k])"
      ],
      "execution_count": null,
      "outputs": [
        {
          "output_type": "stream",
          "text": [
            "[[1, 2], [2, 0], [2, 3], [4, 1], [5, 4]]\n"
          ],
          "name": "stdout"
        },
        {
          "output_type": "execute_result",
          "data": {
            "text/plain": [
              "[2, 0, 3]"
            ]
          },
          "metadata": {
            "tags": []
          },
          "execution_count": 89
        }
      ]
    },
    {
      "cell_type": "code",
      "metadata": {
        "id": "lUjK79S-FKET",
        "colab": {
          "base_uri": "https://localhost:8080/"
        },
        "outputId": "bea19875-9adf-43b2-b6ff-c885499f6b42"
      },
      "source": [
        "# 1491. Average Salary Excluding the Minimum and Maximum Salary\r\n",
        "# Given an array of unique integers salary where salary[i] is the salary of the employee i.\r\n",
        "# Return the average salary of employees excluding the minimum and maximum salary.\r\n",
        "salary = [8000,9000,2000,3000,6000,1000] #[4000,3000,1000,2000]\r\n",
        "# Output: 4750 #2500.00000\r\n",
        "salary.remove(min(salary))\r\n",
        "salary.remove(max(salary))\r\n",
        "print(sum(salary)/len(salary))"
      ],
      "execution_count": null,
      "outputs": [
        {
          "output_type": "stream",
          "text": [
            "4750.0\n"
          ],
          "name": "stdout"
        }
      ]
    },
    {
      "cell_type": "code",
      "metadata": {
        "id": "1r6wxqq2aT16",
        "colab": {
          "base_uri": "https://localhost:8080/"
        },
        "outputId": "c7a61f2b-fc76-4876-cd9d-906f154caa43"
      },
      "source": [
        "# 1122. Relative Sort Array\r\n",
        "# Given two arrays arr1 and arr2, the elements of arr2 are distinct, and all elements in arr2 are also in arr1.\r\n",
        "# Sort the elements of arr1 such that the relative ordering of items in arr1 are the same as in arr2.  Elements that don't appear in arr2 should be placed at the end of arr1 in ascending order.\r\n",
        "arr1 = [2,3,1,3,2,4,6,7,9,2,19]\r\n",
        "arr2 = [2,1,4,3,9,6]\r\n",
        "# Output: [2,2,2,1,4,3,3,9,6,7,19]\r\n",
        "arr1_sort = []\r\n",
        "for i in arr2:\r\n",
        "  if i in arr1:\r\n",
        "    for j in range(arr1.count(i)):\r\n",
        "      arr1_sort.append(i)\r\n",
        "print(arr1_sort)\r\n",
        "Distinct_arr1 = sorted(list(set(arr1).difference(set(arr2))))\r\n",
        "arr1_sort.extend(Distinct_arr1)\r\n",
        "print(Distinct_arr1)\r\n",
        "print(arr1_sort)"
      ],
      "execution_count": null,
      "outputs": [
        {
          "output_type": "stream",
          "text": [
            "[2, 2, 2, 1, 4, 3, 3, 9, 6]\n",
            "[7, 19]\n",
            "[2, 2, 2, 1, 4, 3, 3, 9, 6, 7, 19]\n"
          ],
          "name": "stdout"
        }
      ]
    },
    {
      "cell_type": "code",
      "metadata": {
        "id": "Aa6bAj97b4TG",
        "colab": {
          "base_uri": "https://localhost:8080/"
        },
        "outputId": "dc7e76a5-f80b-4368-da35-3ccbad167311"
      },
      "source": [
        "# Check for multiple ifelse conditions, if one of the condition is false return False, otherwise return True\r\n",
        "# 1160. Find Words That Can Be Formed by Characters\r\n",
        "# You are given an array of strings words and a string chars.\r\n",
        "# A string is good if it can be formed by characters from chars (each character can only be used once).\r\n",
        "# Return the sum of lengths of all good strings in words.\r\n",
        "words = [\"cat\",\"bt\",\"hat\",\"tree\"]\r\n",
        "chars = list(\"atach\")\r\n",
        "# Output: 6\r\n",
        "for i in words:\r\n",
        "  for j in i:\r\n",
        "    if j in chars:\r\n",
        "      chars.remove(j)\r\n",
        "    else:\r\n",
        "      words.remove(i) # if any of the characters of the word are not in chars, remove that word from the list implies the list remaining will have the words that has all characters satisfying the condition\r\n",
        "      break\r\n",
        "print(words)"
      ],
      "execution_count": null,
      "outputs": [
        {
          "output_type": "stream",
          "text": [
            "['cat', 'hat']\n"
          ],
          "name": "stdout"
        }
      ]
    },
    {
      "cell_type": "code",
      "metadata": {
        "id": "NP7kfBOBgXBC"
      },
      "source": [
        "# 509. Fibonacci Number\r\n",
        "# Fibonacci sequence\r\n",
        "Arr = [1,1]\r\n",
        "for i in range(2,8):\r\n",
        "  Arr.append(int(Arr[i-1]+Arr[i-2]))\r\n",
        "print(Arr)"
      ],
      "execution_count": null,
      "outputs": []
    },
    {
      "cell_type": "code",
      "metadata": {
        "id": "D-d6oM8NgbNS"
      },
      "source": [
        "# Fibonacci sequence : Bottom-up approach\r\n",
        "def fibo(n):\r\n",
        "   if n<=1:\r\n",
        "       return n\r\n",
        "   else:\r\n",
        "       return(fibo(n-1) + fibo(n-2))\r\n",
        "\r\n",
        "print(fibo(4))\r\n",
        "\r\n",
        "print(\"\\n\",\"Whole Sequence\")\r\n",
        "for i in range(1,8):\r\n",
        "  print(fibo(i))"
      ],
      "execution_count": null,
      "outputs": []
    },
    {
      "cell_type": "code",
      "metadata": {
        "id": "AeG6GGNlgg-g",
        "colab": {
          "base_uri": "https://localhost:8080/"
        },
        "outputId": "b5538e62-65fe-4cc3-953c-8dfb7a67d5f7"
      },
      "source": [
        "# 1133. Largest Unique Number\r\n",
        "# Given an array of integers A, return the largest integer that only occurs once.\r\n",
        "# If no integer occurs once, return -1.\r\n",
        "Input = [9,9,8,8] #[5,7,3,9,4,9,8,3,1]\r\n",
        "Output: -1 #8\r\n",
        "while len(Input)>0 and max(Input) in Input[Input.index(max(Input))+1:]:\r\n",
        "  for i in range(Input.count(max(Input))):\r\n",
        "    Input.remove(max(Input))\r\n",
        "  if Input == []:\r\n",
        "    print(-1)\r\n",
        "    break\r\n",
        "else:\r\n",
        "  print(max(Input))"
      ],
      "execution_count": null,
      "outputs": [
        {
          "output_type": "stream",
          "text": [
            "-1\n"
          ],
          "name": "stdout"
        }
      ]
    },
    {
      "cell_type": "code",
      "metadata": {
        "id": "cqB7m1nBol6W",
        "colab": {
          "base_uri": "https://localhost:8080/"
        },
        "outputId": "d497bd9e-d21b-47d0-f30a-9fcf01105aa9"
      },
      "source": [
        "# 1200. Minimum Absolute Difference\r\n",
        "# Given an array of distinct integers arr, find all pairs of elements with the minimum absolute difference of any two elements. \r\n",
        "# Return a list of pairs in ascending order(with respect to pairs), each pair [a, b] follows\r\n",
        "# a, b are from arr\r\n",
        "# a < b\r\n",
        "# b - a equals to the minimum absolute difference of any two elements in arr\r\n",
        "arr = [4,2,1,3] #[6,10,1,13,3] \r\n",
        "# Output: [[1,2],[2,3],[3,4]] #[[1,3]] \r\n",
        "Output_arr = []\r\n",
        "Min_Diff = abs(arr[1]-arr[0])\r\n",
        "for i in range(len(arr)-1):\r\n",
        "  for j in range(i+1,len(arr)):\r\n",
        "    if abs(arr[i]-arr[j])<=Min_Diff:\r\n",
        "      Min_Diff = abs(arr[i]-arr[j])\r\n",
        "      Output_arr.append((arr[i],arr[j]))\r\n",
        "print(Min_Diff)\r\n",
        "print(Output_arr)\r\n",
        "for i,j in Output_arr:\r\n",
        "  if abs(j-i) != Min_Diff:\r\n",
        "    Output_arr.remove((i,j))\r\n",
        "print(Output_arr)"
      ],
      "execution_count": null,
      "outputs": [
        {
          "output_type": "stream",
          "text": [
            "1\n",
            "[(4, 2), (4, 3), (2, 1), (2, 3)]\n",
            "[(4, 3), (2, 1), (2, 3)]\n"
          ],
          "name": "stdout"
        }
      ]
    },
    {
      "cell_type": "code",
      "metadata": {
        "id": "-DKTA6Z0t23E",
        "colab": {
          "base_uri": "https://localhost:8080/"
        },
        "outputId": "f1fde971-3bb9-4e17-a5ce-1bae9c60aa4a"
      },
      "source": [
        "# 1385. Find the Distance Value Between Two Arrays\r\n",
        "# Given two integer arrays arr1 and arr2, and the integer d, return the distance value between the two arrays.\r\n",
        "# The distance value is defined as the number of elements arr1[i] such that there is not any element arr2[j] where |arr1[i]-arr2[j]| <= d.\r\n",
        "arr1 = [4,5,8,6]\r\n",
        "arr2 = [10,9,1,8]\r\n",
        "d = 2\r\n",
        "# Output: 2\r\n",
        "for i in arr1:\r\n",
        "  for j in arr2:\r\n",
        "    if abs(i-j)>d:\r\n",
        "      pass\r\n",
        "    else:\r\n",
        "      arr1.remove(i) # even if one abs(i-j) <=d, remove i from arr1 and stop looping through j for that i. Go to next i\r\n",
        "      break\r\n",
        "print(arr1)"
      ],
      "execution_count": null,
      "outputs": [
        {
          "output_type": "stream",
          "text": [
            "[4, 5, 6]\n"
          ],
          "name": "stdout"
        }
      ]
    },
    {
      "cell_type": "code",
      "metadata": {
        "id": "P6MqXhwwvQPl",
        "colab": {
          "base_uri": "https://localhost:8080/"
        },
        "outputId": "6aacd75d-f9d1-4694-a4b9-4c0c4b64a2dd"
      },
      "source": [
        "# wrong\r\n",
        "# 766. Toeplitz Matrix\r\n",
        "# Given an m x n matrix, return true if the matrix is Toeplitz. Otherwise, return false.\r\n",
        "# A matrix is Toeplitz if every diagonal from top-left to bottom-right has the same elements.\r\n",
        "# in a 4*4 matrix, there are 7 diagonals,indices points are [(3,0)], [(2,0),(3,1)], [(1,0),(2,1),(3,2)], [(0,0),(1,1),(2,2),(3,3)], [(0,1),(1,2),(2,3)], [(0,2),(1,3)],[(0,3)]\r\n",
        "matrix = [[1,2,3,4],[5,1,2,3],[9,5,1,2]]\r\n",
        "m = len(matrix)\r\n",
        "n = len(matrix[0])\r\n",
        "# Output: true\r\n",
        "Output = True\r\n",
        "for i in range(m):\r\n",
        "  for j in range(n):\r\n",
        "    while (i==0 or j==0) and i+1<m and j+1<n:\r\n",
        "      # print(i,j)\r\n",
        "      if matrix[i+1][j+1]==matrix[i][j]:\r\n",
        "        Output=True\r\n",
        "        i +=1 \r\n",
        "        j +=1\r\n",
        "        # print(i,j)\r\n",
        "      else:\r\n",
        "        Output=False\r\n",
        "        break\r\n",
        "print(Output)"
      ],
      "execution_count": 130,
      "outputs": [
        {
          "output_type": "stream",
          "text": [
            "0 0\n",
            "1 1\n",
            "1 2\n",
            "1 3\n",
            "1 0\n",
            "2 1\n",
            "2 2\n",
            "2 3\n",
            "2 0\n",
            "2 1\n",
            "2 2\n",
            "2 3\n",
            "True\n"
          ],
          "name": "stdout"
        }
      ]
    },
    {
      "cell_type": "code",
      "metadata": {
        "id": "a-36EPbjsRK9",
        "colab": {
          "base_uri": "https://localhost:8080/"
        },
        "outputId": "9187dca4-ebcf-4596-de19-4997e5b38d46"
      },
      "source": [
        "# 1. Two Sum\r\n",
        "# Given an array of integers nums and an integer target, return indices of the two numbers such that they add up to target.\r\n",
        "# You may assume that each input would have exactly one solution, and you may not use the same element twice.\r\n",
        "nums=[2,7,11,15]\r\n",
        "target = 9\r\n",
        "\r\n",
        "class Solution:\r\n",
        "    for i in range(len(nums)-1):\r\n",
        "        for j in range(i+1,len(nums)):\r\n",
        "          if target==nums[i]+nums[j]:\r\n",
        "            print(i,j)"
      ],
      "execution_count": null,
      "outputs": [
        {
          "output_type": "stream",
          "text": [
            "0 1\n"
          ],
          "name": "stdout"
        }
      ]
    },
    {
      "cell_type": "code",
      "metadata": {
        "colab": {
          "base_uri": "https://localhost:8080/"
        },
        "id": "XICz5BoHt0G2",
        "outputId": "f6f7fdc4-d9b4-40cb-9c1d-a59de228364b"
      },
      "source": [
        "# Merge two sorted arrays\r\n",
        "Arr1 = [1, 3, 4, 6,11]\r\n",
        "Arr2 = [2, 5, 7, 10]\r\n",
        "# Output: [1, 2, 3, 4, 5, 6, 7, 10]\r\n",
        "i=0\r\n",
        "j=0\r\n",
        "Sorted_Arr = []\r\n",
        "while i<len(Arr1) and j<len(Arr2):\r\n",
        "  if Arr1[i] < Arr2[j]:\r\n",
        "    Sorted_Arr.append(Arr1[i])\r\n",
        "    i +=1  \r\n",
        "  else:\r\n",
        "    Sorted_Arr.append(Arr2[j])\r\n",
        "    j += 1\r\n",
        "print(i,j)\r\n",
        "print(Sorted_Arr)\r\n",
        "if i == len(Arr1) and j <len(Arr2): # when Arr1 loop is complete abnd not Arr2\r\n",
        "  Sorted_Arr.extend(Arr2[j:])\r\n",
        "if j == len(Arr2) and i <len(Arr1): # when Arr2 loop is complete and not Arr1\r\n",
        "  Sorted_Arr.extend(Arr1[i:])\r\n",
        "print(Sorted_Arr)"
      ],
      "execution_count": null,
      "outputs": [
        {
          "output_type": "stream",
          "text": [
            "4 4\n",
            "[1, 2, 3, 4, 5, 6, 7, 10]\n",
            "[1, 2, 3, 4, 5, 6, 7, 10, 11]\n"
          ],
          "name": "stdout"
        }
      ]
    },
    {
      "cell_type": "code",
      "metadata": {
        "colab": {
          "base_uri": "https://localhost:8080/"
        },
        "id": "2UC864S119rQ",
        "outputId": "697badb7-584d-4231-cf1a-2f94da306ed1"
      },
      "source": [
        "# 4. Median of Two Sorted Arrays - \r\n",
        "# Given two sorted arrays nums1 and nums2 of size m and n respectively, return the median of the two sorted arrays.\r\n",
        "# Follow up: The overall run time complexity should be O(log (m+n))\r\n",
        "\r\n",
        "# Use the sorted array generated above\r\n",
        "if len(Sorted_Arr)%2!=0:\r\n",
        "  print(Sorted_Arr[len(Sorted_Arr)//2])\r\n",
        "else:\r\n",
        "  print((Sorted_Arr[(len(Sorted_Arr)/2)-1]+Sorted_Arr[len(Sorted_Arr)/2])/2)"
      ],
      "execution_count": null,
      "outputs": [
        {
          "output_type": "stream",
          "text": [
            "5\n"
          ],
          "name": "stdout"
        }
      ]
    },
    {
      "cell_type": "code",
      "metadata": {
        "id": "BlP6i0LBrYnq",
        "colab": {
          "base_uri": "https://localhost:8080/"
        },
        "outputId": "95c41e31-89a3-4f21-e98d-c79e5ffa1f8f"
      },
      "source": [
        "11. Container With Most Water\r\n",
        "height = [1,8,6,2,5,4,8,3,7]\r\n",
        "max = 0\r\n",
        "for i in range(len(height)-1):\r\n",
        "  for j in range(1,len(height)):\r\n",
        "    if min(height[i],height[j])*(j-i)>max:\r\n",
        "      max = min(height[i],height[j])*(j-i)\r\n",
        "print(max)"
      ],
      "execution_count": null,
      "outputs": [
        {
          "output_type": "stream",
          "text": [
            "49\n"
          ],
          "name": "stdout"
        }
      ]
    },
    {
      "cell_type": "code",
      "metadata": {
        "id": "ABIVa0GnQD7t",
        "colab": {
          "base_uri": "https://localhost:8080/"
        },
        "outputId": "857e90a5-3ed9-47ae-df95-661d98183a7c"
      },
      "source": [
        "# 15. 3Sum\r\n",
        "# Given an array nums of n integers, are there elements a, b, c in nums such that a + b + c = 0? Find all unique triplets in the array which gives the sum of zero.\r\n",
        "# Notice that the solution set must not contain duplicate triplets.\r\n",
        "\r\n",
        "# there are duplicates in this \r\n",
        "# nums = [-1,0,1,2,-1,-4]\r\n",
        "# for i in range(len(nums)-2):\r\n",
        "#     for j in range(i+1,len(nums)-1):\r\n",
        "#         for k in range(j+1,len(nums)):\r\n",
        "#             if nums[i]+nums[j]+nums[k]==0:\r\n",
        "#                 print(nums[i],nums[j],nums[k])\r\n",
        "\r\n",
        "# Use set function to remove duplicates i.e to check if [1,0,-1] is same as [-1,0,1]\r\n",
        "nums = [-1,0,1,2,-1,-4]\r\n",
        "new_nums = []\r\n",
        "for i in range(len(nums)-2):\r\n",
        "    for j in range(i+1,len(nums)-1):\r\n",
        "        for k in range(j+1,len(nums)):\r\n",
        "            if nums[i]+nums[j]+nums[k]==0 and set([nums[i],nums[j],nums[k]]) not in new_nums:\r\n",
        "                new_nums.append(set([nums[i],nums[j],nums[k]]))\r\n",
        "print(new_nums)\r\n",
        "print(len(new_nums))"
      ],
      "execution_count": null,
      "outputs": [
        {
          "output_type": "stream",
          "text": [
            "[{0, 1, -1}, {2, -1}]\n",
            "2\n"
          ],
          "name": "stdout"
        }
      ]
    },
    {
      "cell_type": "code",
      "metadata": {
        "id": "mc-VIv1kae9G",
        "colab": {
          "base_uri": "https://localhost:8080/"
        },
        "outputId": "b201c32f-2682-4703-d6e9-a36b84bcba23"
      },
      "source": [
        "# 16. 3Sum Closest\r\n",
        "# Given an array nums of n integers and an integer target, find three integers in nums such that the sum is closest to target. Return the sum of the three integers. You may assume that each input would have exactly one solution.\r\n",
        "nums = [-1,2,1,-4]\r\n",
        "target = 1\r\n",
        "# Output: 2\r\n",
        "\r\n"
      ],
      "execution_count": null,
      "outputs": [
        {
          "output_type": "stream",
          "text": [
            "2\n"
          ],
          "name": "stdout"
        }
      ]
    },
    {
      "cell_type": "code",
      "metadata": {
        "id": "12EGRjkElLWr",
        "colab": {
          "base_uri": "https://localhost:8080/"
        },
        "outputId": "31fbaf5f-c22d-448c-c9ac-ff18fb3b8b6a"
      },
      "source": [
        "# pending\r\n",
        "# 1636. Sort Array by Increasing Frequency\r\n",
        "# Given an array of integers nums, sort the array in increasing order based on the frequency of the values. If multiple values have the same frequency, sort them in decreasing order.\r\n",
        "nums = [2,3,1,3,2]\r\n",
        "# Output: [1,3,3,2,2]\r\n",
        "sorted(dict(Counter(nums)).items())"
      ],
      "execution_count": null,
      "outputs": [
        {
          "output_type": "execute_result",
          "data": {
            "text/plain": [
              "[(1, 1), (2, 2), (3, 2)]"
            ]
          },
          "metadata": {
            "tags": []
          },
          "execution_count": 96
        }
      ]
    },
    {
      "cell_type": "code",
      "metadata": {
        "id": "pQyMIhF8F8jl",
        "colab": {
          "base_uri": "https://localhost:8080/"
        },
        "outputId": "d3f45f75-e1ae-4f89-9c09-b5e66182490e"
      },
      "source": [
        "# Pending\r\n",
        "# 1002. Find Common Characters\r\n",
        "# Given an array A of strings made only from lowercase letters, return a list of all characters that show up in all strings within the list (including duplicates).  \r\n",
        "# For example, if a character occurs 3 times in all strings but not 4 times, you need to include that character three times in the final answer.\r\n",
        "# You may return the answer in any order.\r\n",
        "Input=[\"bella\",\"label\",\"rollerl\"]\r\n",
        "# Output: [\"e\",\"l\",\"l\"]\r\n",
        "Input_counter = []\r\n",
        "for i in Input:\r\n",
        "  Input_counter.append(Counter(i))\r\n",
        "print(Input_counter)\r\n",
        "Intersection = []\r\n",
        "for i in Input_counter:\r\n",
        "  for j in i.items():\r\n",
        "    print(j)\r\n"
      ],
      "execution_count": null,
      "outputs": [
        {
          "output_type": "stream",
          "text": [
            "[Counter({'l': 2, 'b': 1, 'e': 1, 'a': 1}), Counter({'l': 2, 'a': 1, 'b': 1, 'e': 1}), Counter({'l': 3, 'r': 2, 'o': 1, 'e': 1})]\n",
            "('b', 1)\n",
            "('e', 1)\n",
            "('l', 2)\n",
            "('a', 1)\n",
            "('l', 2)\n",
            "('a', 1)\n",
            "('b', 1)\n",
            "('e', 1)\n",
            "('r', 2)\n",
            "('o', 1)\n",
            "('l', 3)\n",
            "('e', 1)\n"
          ],
          "name": "stdout"
        }
      ]
    },
    {
      "cell_type": "code",
      "metadata": {
        "id": "N5LU8T5kEeJb"
      },
      "source": [
        "# 1700. Number of Students Unable to Eat Lunch\r\n",
        "# The school cafeteria offers circular and square sandwiches at lunch break, referred to by numbers 0 and 1 respectively. All students stand in a queue. Each student either prefers square or circular sandwiches.\r\n",
        "# The number of sandwiches in the cafeteria is equal to the number of students. The sandwiches are placed in a stack. At each step:\r\n",
        "# If the student at the front of the queue prefers the sandwich on the top of the stack, they will take it and leave the queue.\r\n",
        "# Otherwise, they will leave it and go to the queue's end.\r\n",
        "# This continues until none of the queue students want to take the top sandwich and are thus unable to eat.\r\n",
        "# You are given two integer arrays students and sandwiches where sandwiches[i] is the type of the i​​​​​​th sandwich in the stack (i = 0 is the top of the stack) and \r\n",
        "# students[j] is the preference of the j​​​​​​th student in the initial queue (j = 0 is the front of the queue). Return the number of students that are unable to eat.\r\n",
        "students = [1,1,1,0,0,1]\r\n",
        "sandwiches = [1,0,0,0,1,1]\r\n",
        "# Output: 3\r\n"
      ],
      "execution_count": null,
      "outputs": []
    },
    {
      "cell_type": "code",
      "metadata": {
        "id": "gWHy9eCPI8wG"
      },
      "source": [
        "# 1217. Minimum Cost to Move Chips to The Same Position\r\n",
        "# We have n chips, where the position of the ith chip is position[i].\r\n",
        "# We need to move all the chips to the same position. In one step, we can change the position of the ith chip from position[i] to:\r\n",
        "# position[i] + 2 or position[i] - 2 with cost = 0.\r\n",
        "# position[i] + 1 or position[i] - 1 with cost = 1.\r\n",
        "# Return the minimum cost needed to move all the chips to the same position.\r\n"
      ],
      "execution_count": null,
      "outputs": []
    },
    {
      "cell_type": "code",
      "metadata": {
        "id": "yuiKYI-Ssarl"
      },
      "source": [
        "# 1656. Design an Ordered Stream\r\n",
        "# There is a stream of n (id, value) pairs arriving in an arbitrary order, where id is an integer between 1 and n and value is a string. No two pairs have the same id.\r\n",
        "# Design a stream that returns the values in increasing order of their IDs by returning a chunk (list) of values after each insertion. The concatenation of all the chunks should result in a list of the sorted values.\r\n",
        "# Implement the OrderedStream class:\r\n",
        "# OrderedStream(int n) Constructs the stream to take n values.\r\n",
        "# String[] insert(int id, String value) Inserts the pair (id, value) into the stream, then returns the largest possible chunk of currently inserted values that appear next in the order.\r\n",
        "Input= [\"OrderedStream\", \"insert\", \"insert\", \"insert\", \"insert\", \"insert\"]\r\n",
        "[[5], [3, \"ccccc\"], [1, \"aaaaa\"], [2, \"bbbbb\"], [5, \"eeeee\"], [4, \"ddddd\"]]\r\n",
        "# Output [null, [], [\"aaaaa\"], [\"bbbbb\", \"ccccc\"], [], [\"ddddd\", \"eeeee\"]]\r\n",
        "\r\n",
        "\r\n",
        "\r\n"
      ],
      "execution_count": null,
      "outputs": []
    },
    {
      "cell_type": "code",
      "metadata": {
        "colab": {
          "base_uri": "https://localhost:8080/"
        },
        "id": "dk_h9pws8YL-",
        "outputId": "271b1b13-707d-472f-d2ab-c6e80b4d8882"
      },
      "source": [
        ""
      ],
      "execution_count": null,
      "outputs": [
        {
          "output_type": "stream",
          "text": [
            "0 1\n"
          ],
          "name": "stdout"
        }
      ]
    },
    {
      "cell_type": "code",
      "metadata": {
        "colab": {
          "base_uri": "https://localhost:8080/"
        },
        "id": "K9r3kab593Ib",
        "outputId": "f64614cf-b0af-44b2-afe4-95c41d041c0d"
      },
      "source": [
        "# sum of reversed digits of l1, l2 and get digits in sum as array\r\n",
        "# l1 = [9,9,9,9,9,9,9]\r\n",
        "# l2 = [9,9,9,9]\r\n",
        "l1 = [2,4,3]\r\n",
        "l2 = [5,6,4]\r\n",
        "l1_sum=0\r\n",
        "l2_sum=0\r\n",
        "l3=[]\r\n",
        "for i in range(len(l1)):\r\n",
        "    l1_sum += l1[i]*pow(10,i)\r\n",
        "for i in range(len(l2)):\r\n",
        "    l1_sum += l2[i]*pow(10,i)\r\n",
        "for x in str(l1_sum):\r\n",
        "    l3.insert(0,int(x))\r\n",
        "print(l3)"
      ],
      "execution_count": null,
      "outputs": [
        {
          "output_type": "stream",
          "text": [
            "[7, 0, 8]\n"
          ],
          "name": "stdout"
        }
      ]
    },
    {
      "cell_type": "code",
      "metadata": {
        "colab": {
          "base_uri": "https://localhost:8080/"
        },
        "id": "M_sUiwEkFpoz",
        "outputId": "76d04f07-bf54-49f7-aa8e-b996fda4a6e9"
      },
      "source": [
        "# Distinct/Unique characters in a string\r\n",
        "s = \"pwwkew\"\r\n",
        "l = []\r\n",
        "for i in range(len(s)):\r\n",
        "  if s[i] not in l:\r\n",
        "    l.append(s[i])\r\n",
        "print(l)\r\n",
        "\r\n",
        "# Distinct/Unique characters in a string Using counter\r\n",
        "from collections import Counter\r\n",
        "char_count = Counter(\"pwwkew\")\r\n",
        "print(char_count)\r\n",
        "print([i for i,j in char_count.items()])"
      ],
      "execution_count": null,
      "outputs": [
        {
          "output_type": "stream",
          "text": [
            "['p', 'w', 'k', 'e']\n",
            "Counter({'w': 3, 'p': 1, 'k': 1, 'e': 1})\n",
            "['p', 'w', 'k', 'e']\n"
          ],
          "name": "stdout"
        }
      ]
    },
    {
      "cell_type": "code",
      "metadata": {
        "colab": {
          "base_uri": "https://localhost:8080/"
        },
        "id": "ecTb5NBvJLYy",
        "outputId": "85d968e2-ce2a-4992-c767-c5f3bebeb2f3"
      },
      "source": [
        "s = \"pwwkew\"\r\n",
        "l = []\r\n",
        "for i in range(len(s)):\r\n",
        "  l.append(i)\r\n",
        "  for j in range(i+1,len(s)+1):\r\n",
        "    l.append(j)\r\n",
        "    print(l)"
      ],
      "execution_count": null,
      "outputs": [
        {
          "output_type": "stream",
          "text": [
            "[0, 1]\n",
            "[0, 1, 2]\n",
            "[0, 1, 2, 3]\n",
            "[0, 1, 2, 3, 4]\n",
            "[0, 1, 2, 3, 4, 5]\n",
            "[0, 1, 2, 3, 4, 5, 6]\n",
            "[0, 1, 2, 3, 4, 5, 6, 1, 2]\n",
            "[0, 1, 2, 3, 4, 5, 6, 1, 2, 3]\n",
            "[0, 1, 2, 3, 4, 5, 6, 1, 2, 3, 4]\n",
            "[0, 1, 2, 3, 4, 5, 6, 1, 2, 3, 4, 5]\n",
            "[0, 1, 2, 3, 4, 5, 6, 1, 2, 3, 4, 5, 6]\n",
            "[0, 1, 2, 3, 4, 5, 6, 1, 2, 3, 4, 5, 6, 2, 3]\n",
            "[0, 1, 2, 3, 4, 5, 6, 1, 2, 3, 4, 5, 6, 2, 3, 4]\n",
            "[0, 1, 2, 3, 4, 5, 6, 1, 2, 3, 4, 5, 6, 2, 3, 4, 5]\n",
            "[0, 1, 2, 3, 4, 5, 6, 1, 2, 3, 4, 5, 6, 2, 3, 4, 5, 6]\n",
            "[0, 1, 2, 3, 4, 5, 6, 1, 2, 3, 4, 5, 6, 2, 3, 4, 5, 6, 3, 4]\n",
            "[0, 1, 2, 3, 4, 5, 6, 1, 2, 3, 4, 5, 6, 2, 3, 4, 5, 6, 3, 4, 5]\n",
            "[0, 1, 2, 3, 4, 5, 6, 1, 2, 3, 4, 5, 6, 2, 3, 4, 5, 6, 3, 4, 5, 6]\n",
            "[0, 1, 2, 3, 4, 5, 6, 1, 2, 3, 4, 5, 6, 2, 3, 4, 5, 6, 3, 4, 5, 6, 4, 5]\n",
            "[0, 1, 2, 3, 4, 5, 6, 1, 2, 3, 4, 5, 6, 2, 3, 4, 5, 6, 3, 4, 5, 6, 4, 5, 6]\n",
            "[0, 1, 2, 3, 4, 5, 6, 1, 2, 3, 4, 5, 6, 2, 3, 4, 5, 6, 3, 4, 5, 6, 4, 5, 6, 5, 6]\n"
          ],
          "name": "stdout"
        }
      ]
    },
    {
      "cell_type": "code",
      "metadata": {
        "id": "Tl4xIe0oITHd",
        "colab": {
          "base_uri": "https://localhost:8080/"
        },
        "outputId": "f1195d5a-b39e-4c73-d719-5a75de78b01c"
      },
      "source": [
        "# Extract items in even indices\r\n",
        "arr = [1,4,2,5,3]\r\n",
        "for i in range(len(arr)):\r\n",
        "  if i%2==0:\r\n",
        "    for j in range(0,(len(arr)//2)+1):\r\n",
        "      if 2*j+1>=i:\r\n",
        "        print(arr[i:(2*j)+1])\r\n",
        "  else:\r\n",
        "    for j in range(0,(len(arr)//2)+1):\r\n",
        "      if 2*j>i:\r\n",
        "        print(arr[i:(2*j)])"
      ],
      "execution_count": null,
      "outputs": [
        {
          "output_type": "stream",
          "text": [
            "[1]\n",
            "[1, 4, 2]\n",
            "[1, 4, 2, 5, 3]\n",
            "[4]\n",
            "[4, 2, 5]\n",
            "[2]\n",
            "[2, 5, 3]\n",
            "[5]\n",
            "[3]\n"
          ],
          "name": "stdout"
        }
      ]
    },
    {
      "cell_type": "code",
      "metadata": {
        "id": "7PogbvteITEn",
        "colab": {
          "base_uri": "https://localhost:8080/"
        },
        "outputId": "c7187f58-0cdf-4fa1-974b-64a4725b872f"
      },
      "source": [
        "arr = [1,4,2,5,3]\r\n",
        "arr = [1,2]\r\n",
        "sum = 0\r\n",
        "for i in range(len(arr)):\r\n",
        "  if i%2==0:\r\n",
        "    for j in range(0,(len(arr)//2)+1):\r\n",
        "      if 2*j+1>=i and 2*j+1<=len(arr):\r\n",
        "        for z in arr[i:(2*j)+1]:\r\n",
        "          sum += z\r\n",
        "  else:\r\n",
        "    for j in range(0,(len(arr)//2)+1):\r\n",
        "      if 2*j>i and 2*j<=len(arr):\r\n",
        "        for z in arr[i:(2*j)]:\r\n",
        "          sum += z\r\n",
        "print(sum)"
      ],
      "execution_count": null,
      "outputs": [
        {
          "output_type": "stream",
          "text": [
            "3\n"
          ],
          "name": "stdout"
        }
      ]
    },
    {
      "cell_type": "code",
      "metadata": {
        "id": "FgFWVtQbRdT2",
        "colab": {
          "base_uri": "https://localhost:8080/"
        },
        "outputId": "0fb4061b-4dfe-4629-aa61-aad5b98ddbc3"
      },
      "source": [
        "arr = [3,0,1,1,9,7]\r\n",
        "a = 7\r\n",
        "b = 2\r\n",
        "c = 3\r\n",
        "count=0\r\n",
        "for i in range(len(arr)-2):\r\n",
        "  for j in range(i+1,len(arr)-1):\r\n",
        "    for k in range(j+1,len(arr)):\r\n",
        "      if abs(arr[i]-arr[j])<=a and abs(arr[j]-arr[k])<=b and abs(arr[i]-arr[k])<=c:\r\n",
        "        count +=1\r\n",
        "print(count)"
      ],
      "execution_count": null,
      "outputs": [
        {
          "output_type": "stream",
          "text": [
            "4\n"
          ],
          "name": "stdout"
        }
      ]
    },
    {
      "cell_type": "code",
      "metadata": {
        "id": "hrqbD65oViUc",
        "colab": {
          "base_uri": "https://localhost:8080/"
        },
        "outputId": "18ad2568-e8d9-47cb-914c-2504e99c20e2"
      },
      "source": [
        "# To count number of digits in a number. keep dividing the number till floor remainder is not 0, count the number of iterations\r\n",
        "n = 362068690\r\n",
        "count=1\r\n",
        "while n//10!=0:\r\n",
        "  n = n//10\r\n",
        "  count +=1\r\n",
        "print(count)"
      ],
      "execution_count": null,
      "outputs": [
        {
          "output_type": "stream",
          "text": [
            "9\n"
          ],
          "name": "stdout"
        }
      ]
    },
    {
      "cell_type": "code",
      "metadata": {
        "id": "yfIJPbRzliqX",
        "colab": {
          "base_uri": "https://localhost:8080/"
        },
        "outputId": "c78b53c5-6793-4cc2-93cd-47c6581cdc89"
      },
      "source": [
        "mat[0][::-1] #First list of the matrix is reversed"
      ],
      "execution_count": null,
      "outputs": [
        {
          "output_type": "execute_result",
          "data": {
            "text/plain": [
              "[4, 3, 2, 1]"
            ]
          },
          "metadata": {
            "tags": []
          },
          "execution_count": 108
        }
      ]
    },
    {
      "cell_type": "code",
      "metadata": {
        "id": "4B15JpjXoNh1",
        "colab": {
          "base_uri": "https://localhost:8080/"
        },
        "outputId": "f440fc9a-9880-427e-833b-6db4917b4fe6"
      },
      "source": [
        "# Get the diagonal indexed items\r\n",
        "mat = [[14,7,18,6,3,20,15],\r\n",
        "       [5,4,3,17,7,13,4],\r\n",
        "       [14,11,14,2,3,10,12],\r\n",
        "       [9,17,20,16,14,1,16],\r\n",
        "       [4,10,20,12,4,17,14],\r\n",
        "       [5,20,19,11,5,4,12],\r\n",
        "       [10,4,11,11,13,4,6]]\r\n",
        "i=len(mat[0])\r\n",
        "j =len(mat)\r\n",
        "sum=0\r\n",
        "for a in range(i):\r\n",
        "  for b in range(j):\r\n",
        "    if a==b:\r\n",
        "      print(mat[a][b]) \r\n",
        "if j%2!=0 and j!=1:\r\n",
        "  for a in range(j):\r\n",
        "    if a!=(j//2):\r\n",
        "      rev = mat[a][::-1]\r\n",
        "      print(rev[a])\r\n",
        "elif j%2==0 and j!=1:\r\n",
        "  for a in range(j):\r\n",
        "    rev = mat[a][::-1]\r\n",
        "    print(rev[a])"
      ],
      "execution_count": null,
      "outputs": [
        {
          "output_type": "stream",
          "text": [
            "14\n",
            "4\n",
            "14\n",
            "16\n",
            "4\n",
            "4\n",
            "6\n",
            "15\n",
            "13\n",
            "3\n",
            "20\n",
            "20\n",
            "10\n"
          ],
          "name": "stdout"
        }
      ]
    },
    {
      "cell_type": "code",
      "metadata": {
        "id": "hh7n1U2FnwwZ",
        "colab": {
          "base_uri": "https://localhost:8080/"
        },
        "outputId": "48db16fb-47d7-4663-8bb6-a2529150f743"
      },
      "source": [
        "mat = [[14,7,18,6,3,20,15],\r\n",
        "       [5,4,3,17,7,13,4],\r\n",
        "       [14,11,14,2,3,10,12],\r\n",
        "       [9,17,20,16,14,1,16],\r\n",
        "       [4,10,20,12,4,17,14],\r\n",
        "       [5,20,19,11,5,4,12],\r\n",
        "       [10,4,11,11,13,4,6]]\r\n",
        "i=len(mat[0])\r\n",
        "j =len(mat)\r\n",
        "sum=0\r\n",
        "for a in range(i):\r\n",
        "  for b in range(j):\r\n",
        "    if a==b:\r\n",
        "      sum += mat[a][b]\r\n",
        "if j%2!=0 and j!=1:\r\n",
        "  for a in range(j):\r\n",
        "    if a!=(j//2):\r\n",
        "      rev = mat[a][::-1]\r\n",
        "      sum += rev[a]\r\n",
        "elif j%2==0 and j!=1:\r\n",
        "  for a in range(j):\r\n",
        "    rev = mat[a][::-1]\r\n",
        "    sum += rev[a]\r\n",
        "print(sum)"
      ],
      "execution_count": null,
      "outputs": [
        {
          "output_type": "stream",
          "text": [
            "143\n"
          ],
          "name": "stdout"
        }
      ]
    },
    {
      "cell_type": "code",
      "metadata": {
        "id": "hNSbMNaTqu-I",
        "colab": {
          "base_uri": "https://localhost:8080/"
        },
        "outputId": "cc65263b-abeb-44c5-faf2-dedbe70ee59a"
      },
      "source": [
        "# Reverse rows of matrix and then swap 0 for 1 and 1 for 0\r\n",
        "mat = [[1,1,0],[1,0,1],[0,0,0]]\r\n",
        "for i in range(len(mat)):\r\n",
        "  mat[i] = mat[i][::-1]\r\n",
        "  \r\n",
        "# # Traversing through a matrix is done by lists within a matrix and then go through items with matrix\r\n",
        "for i in range(len(mat)): \r\n",
        "  for j in range(len(mat[0])):\r\n",
        "    if mat[i][j]==1:\r\n",
        "      mat[i][j]=0\r\n",
        "    else:\r\n",
        "      mat[i][j]=1\r\n",
        "print(mat)\r\n"
      ],
      "execution_count": null,
      "outputs": [
        {
          "output_type": "stream",
          "text": [
            "[[1, 0, 0], [0, 1, 0], [1, 1, 1]]\n"
          ],
          "name": "stdout"
        }
      ]
    },
    {
      "cell_type": "code",
      "metadata": {
        "id": "yHqW0hYqpy42",
        "colab": {
          "base_uri": "https://localhost:8080/"
        },
        "outputId": "6ec97c94-0034-4064-ccb5-2f76b05d8352"
      },
      "source": [
        "n = 2\r\n",
        "arr = []\r\n",
        "if n%2==0:\r\n",
        "    for i in range(1,n//2+1):\r\n",
        "        arr.append(i) \r\n",
        "        arr.append(-i) \r\n",
        "else:\r\n",
        "    arr.append(0)\r\n",
        "    for i in range(1,n//2+1):\r\n",
        "        arr.append(i) \r\n",
        "        arr.append(-i)\r\n",
        "print(arr)"
      ],
      "execution_count": null,
      "outputs": [
        {
          "output_type": "stream",
          "text": [
            "[1, -1]\n"
          ],
          "name": "stdout"
        }
      ]
    },
    {
      "cell_type": "code",
      "metadata": {
        "id": "En277cs_tp7P",
        "colab": {
          "base_uri": "https://localhost:8080/",
          "height": 193
        },
        "outputId": "5f164637-23b3-482d-9323-02e3424d3950"
      },
      "source": [
        "arr = [4,3,2,-1]\r\n",
        "for j in arr[::-1]:\r\n",
        "    while j<0:\r\n",
        "        count +=1"
      ],
      "execution_count": null,
      "outputs": [
        {
          "output_type": "error",
          "ename": "KeyboardInterrupt",
          "evalue": "ignored",
          "traceback": [
            "\u001b[0;31m---------------------------------------------------------------------------\u001b[0m",
            "\u001b[0;31mKeyboardInterrupt\u001b[0m                         Traceback (most recent call last)",
            "\u001b[0;32m<ipython-input-51-abfd60d49d9a>\u001b[0m in \u001b[0;36m<module>\u001b[0;34m()\u001b[0m\n\u001b[1;32m      2\u001b[0m \u001b[0;32mfor\u001b[0m \u001b[0mj\u001b[0m \u001b[0;32min\u001b[0m \u001b[0marr\u001b[0m\u001b[0;34m[\u001b[0m\u001b[0;34m:\u001b[0m\u001b[0;34m:\u001b[0m\u001b[0;34m-\u001b[0m\u001b[0;36m1\u001b[0m\u001b[0;34m]\u001b[0m\u001b[0;34m:\u001b[0m\u001b[0;34m\u001b[0m\u001b[0;34m\u001b[0m\u001b[0m\n\u001b[1;32m      3\u001b[0m     \u001b[0;32mwhile\u001b[0m \u001b[0mj\u001b[0m\u001b[0;34m<\u001b[0m\u001b[0;36m0\u001b[0m\u001b[0;34m:\u001b[0m\u001b[0;34m\u001b[0m\u001b[0;34m\u001b[0m\u001b[0m\n\u001b[0;32m----> 4\u001b[0;31m         \u001b[0mcount\u001b[0m \u001b[0;34m+=\u001b[0m\u001b[0;36m1\u001b[0m\u001b[0;34m\u001b[0m\u001b[0;34m\u001b[0m\u001b[0m\n\u001b[0m",
            "\u001b[0;31mKeyboardInterrupt\u001b[0m: "
          ]
        }
      ]
    },
    {
      "cell_type": "code",
      "metadata": {
        "id": "04Pf8ov-zIAS",
        "colab": {
          "base_uri": "https://localhost:8080/"
        },
        "outputId": "1d167c93-42c3-431d-9f7b-019dbf9d818b"
      },
      "source": [
        "# Initialize list with list\r\n",
        "mat = []\r\n",
        "for i in range(5):\r\n",
        "  mat.append([])\r\n",
        "print(mat)"
      ],
      "execution_count": null,
      "outputs": [
        {
          "output_type": "stream",
          "text": [
            "[[], [], [], [], []]\n"
          ],
          "name": "stdout"
        }
      ]
    },
    {
      "cell_type": "code",
      "metadata": {
        "id": "IPCumdBfQtzx",
        "colab": {
          "base_uri": "https://localhost:8080/"
        },
        "outputId": "e1a61688-1a4b-4f1b-e252-3c0423efee1d"
      },
      "source": [
        "# Initialize list with lists\r\n",
        "n = 5\r\n",
        "list_of_lists = [[] for i in range(5)] # Initialize list of list\r\n",
        "for i in range(n):\r\n",
        "  for j in range(i+1):\r\n",
        "    list_of_lists[i].append(1)\r\n",
        "print(list_of_lists)\r\n",
        "for i in \r\n"
      ],
      "execution_count": null,
      "outputs": [
        {
          "output_type": "stream",
          "text": [
            "[[1], [1, 1], [1, 1, 1], [1, 1, 1, 1], [1, 1, 1, 1, 1]]\n"
          ],
          "name": "stdout"
        }
      ]
    },
    {
      "cell_type": "code",
      "metadata": {
        "id": "0meoXlRlEZG_",
        "colab": {
          "base_uri": "https://localhost:8080/"
        },
        "outputId": "81fd4b06-eb3c-4b20-b695-aeeca7f3a93c"
      },
      "source": [
        "# wrong - do it again\r\n",
        "nums = [3,3]\r\n",
        "target = 6\r\n",
        "\r\n",
        "sortednums = sorted(nums)\r\n",
        "Twosum_index = []\r\n",
        "i=0\r\n",
        "j=len(nums)-1\r\n",
        "while (i<j):\r\n",
        "    Twosum = sortednums[i]+sortednums[j]\r\n",
        "    if Twosum==target:\r\n",
        "        k = nums.index(sortednums[i])\r\n",
        "        Twosum_index.append(nums.index(sortednums[i]))\r\n",
        "        Twosum_index.append(nums[k+1:].index(sortednums[j])+1)\r\n",
        "        break\r\n",
        "    elif Twosum>target:\r\n",
        "        j -=1\r\n",
        "    else:\r\n",
        "        i += 1\r\n",
        "print(Twosum_index)"
      ],
      "execution_count": null,
      "outputs": [
        {
          "output_type": "stream",
          "text": [
            "[0, 1]\n"
          ],
          "name": "stdout"
        }
      ]
    },
    {
      "cell_type": "code",
      "metadata": {
        "id": "Ll8ERmsaOAmn",
        "colab": {
          "base_uri": "https://localhost:8080/"
        },
        "outputId": "19afcd64-2c26-425c-ecb1-1befb086c080"
      },
      "source": [
        "# dynamic\r\n",
        "prices = [7,1,5,3,6,4]\r\n",
        "min_prices = prices[]\r\n",
        "for i in range(len(prices)-1):\r\n",
        "  min_value = min(prices[i],prices[i+1])\r\n",
        "  min_prices.append(min_value)\r\n",
        "print(min_prices)"
      ],
      "execution_count": null,
      "outputs": [
        {
          "output_type": "stream",
          "text": [
            "[1, 1, 3, 3, 4]\n"
          ],
          "name": "stdout"
        }
      ]
    },
    {
      "cell_type": "code",
      "metadata": {
        "id": "HapjR_ng7HPq"
      },
      "source": [
        "def threeSum(self, nums: List[int]) -> List[List[int]]:\r\n",
        "    new_set = []\r\n",
        "    new_array = []\r\n",
        "    for i in range(len(nums)-2):\r\n",
        "        for j in range(i+1,len(nums)-1):\r\n",
        "            for k in range(j+1,len(nums)):\r\n",
        "                if (nums[i]+nums[j]+nums[k]==0) and set([nums[i],nums[j],nums[k]]) not in new_set:\r\n",
        "                    new_set.append(set([nums[i],nums[j],nums[k]]))\r\n",
        "                    new_array.append([nums[i],nums[j],nums[k]])\r\n",
        "    return new_array"
      ],
      "execution_count": null,
      "outputs": []
    },
    {
      "cell_type": "code",
      "metadata": {
        "id": "2MDL8CqFViK7",
        "colab": {
          "base_uri": "https://localhost:8080/"
        },
        "outputId": "d11ea7c1-499e-4558-8509-880db8eb001b"
      },
      "source": [
        "# Not solved\r\n",
        "items = [[1,91],[1,92],[2,93],[2,97],[1,60],[2,77],[1,65],[1,87],[1,100],[2,100],[2,76]]\r\n",
        "List_keys = []\r\n",
        "for i in range(len(items)):\r\n",
        "    if items[i][0] not in List_keys:\r\n",
        "        List_keys.append(items[i][0])\r\n",
        "for i in List_keys:\r\n",
        "  if i in items[0]:\r\n",
        "    print(i)"
      ],
      "execution_count": null,
      "outputs": [
        {
          "output_type": "stream",
          "text": [
            "1\n",
            "2\n"
          ],
          "name": "stdout"
        }
      ]
    }
  ]
}
