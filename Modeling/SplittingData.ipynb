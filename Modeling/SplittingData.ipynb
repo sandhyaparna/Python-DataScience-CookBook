{
  "nbformat": 4,
  "nbformat_minor": 0,
  "metadata": {
    "colab": {
      "name": "SplittingData.ipynb",
      "provenance": [],
      "collapsed_sections": [],
      "authorship_tag": "ABX9TyPovZ4pzN9vKqJiOT0gT5JE",
      "include_colab_link": true
    },
    "kernelspec": {
      "name": "python3",
      "display_name": "Python 3"
    }
  },
  "cells": [
    {
      "cell_type": "markdown",
      "metadata": {
        "id": "view-in-github",
        "colab_type": "text"
      },
      "source": [
        "<a href=\"https://colab.research.google.com/github/sandhyaparna/Python-DataScience-CookBook/blob/master/Modeling/SplittingData.ipynb\" target=\"_parent\"><img src=\"https://colab.research.google.com/assets/colab-badge.svg\" alt=\"Open In Colab\"/></a>"
      ]
    },
    {
      "cell_type": "code",
      "metadata": {
        "colab": {
          "base_uri": "https://localhost:8080/"
        },
        "id": "LdzUDNy664WA",
        "outputId": "b88128bf-3d80-47ef-d256-1eb996841041"
      },
      "source": [
        "!pip install pyfarmhash"
      ],
      "execution_count": null,
      "outputs": [
        {
          "output_type": "stream",
          "text": [
            "Collecting pyfarmhash\n",
            "\u001b[?25l  Downloading https://files.pythonhosted.org/packages/31/85/303d07e39cf506af7b0da997eee5f3b1ecbfb8ade0370ed5c0f4f96d8c96/pyfarmhash-0.2.2.tar.gz (99kB)\n",
            "\r\u001b[K     |███▎                            | 10kB 18.3MB/s eta 0:00:01\r\u001b[K     |██████▋                         | 20kB 17.0MB/s eta 0:00:01\r\u001b[K     |██████████                      | 30kB 9.2MB/s eta 0:00:01\r\u001b[K     |█████████████▏                  | 40kB 8.5MB/s eta 0:00:01\r\u001b[K     |████████████████▌               | 51kB 4.4MB/s eta 0:00:01\r\u001b[K     |███████████████████▉            | 61kB 4.9MB/s eta 0:00:01\r\u001b[K     |███████████████████████         | 71kB 5.0MB/s eta 0:00:01\r\u001b[K     |██████████████████████████▍     | 81kB 5.3MB/s eta 0:00:01\r\u001b[K     |█████████████████████████████▊  | 92kB 5.7MB/s eta 0:00:01\r\u001b[K     |████████████████████████████████| 102kB 4.2MB/s \n",
            "\u001b[?25hBuilding wheels for collected packages: pyfarmhash\n",
            "  Building wheel for pyfarmhash (setup.py) ... \u001b[?25l\u001b[?25hdone\n",
            "  Created wheel for pyfarmhash: filename=pyfarmhash-0.2.2-cp36-cp36m-linux_x86_64.whl size=66877 sha256=a24cd4a3b158054365208b4091ab60cd177209cc9ebb5d63bf24004e6e96b18c\n",
            "  Stored in directory: /root/.cache/pip/wheels/3f/41/10/80e03a3ffa9ba29a41eac65c4371ade0bd1e21dbdabb867c31\n",
            "Successfully built pyfarmhash\n",
            "Installing collected packages: pyfarmhash\n",
            "Successfully installed pyfarmhash-0.2.2\n"
          ],
          "name": "stdout"
        }
      ]
    },
    {
      "cell_type": "code",
      "metadata": {
        "id": "4gFVmrNV64TQ"
      },
      "source": [
        "# Import Libraries\r\n",
        "import numpy as np\r\n",
        "import pandas as pd\r\n",
        "import io\r\n",
        "from matplotlib import pyplot as plt\r\n",
        "import seaborn as sns"
      ],
      "execution_count": null,
      "outputs": []
    },
    {
      "cell_type": "code",
      "metadata": {
        "id": "WPV9LPQv64QC"
      },
      "source": [
        "pd.set_option('display.max_columns', None)  # or 1000\r\n",
        "pd.set_option('display.max_rows', None)"
      ],
      "execution_count": null,
      "outputs": []
    },
    {
      "cell_type": "code",
      "metadata": {
        "colab": {
          "resources": {
            "http://localhost:8080/nbextensions/google.colab/files.js": {
              "data": "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",
              "ok": true,
              "headers": [
                [
                  "content-type",
                  "application/javascript"
                ]
              ],
              "status": 200,
              "status_text": ""
            }
          },
          "base_uri": "https://localhost:8080/",
          "height": 72
        },
        "id": "Jzq6rxee64Mz",
        "outputId": "c75cab7e-96bd-411e-eb4d-264e6dbb550d"
      },
      "source": [
        "from google.colab import files\r\n",
        "uploaded = files.upload()"
      ],
      "execution_count": null,
      "outputs": [
        {
          "output_type": "display_data",
          "data": {
            "text/html": [
              "\n",
              "     <input type=\"file\" id=\"files-f6f70be7-a328-4113-8ab2-6fb690f0e843\" name=\"files[]\" multiple disabled\n",
              "        style=\"border:none\" />\n",
              "     <output id=\"result-f6f70be7-a328-4113-8ab2-6fb690f0e843\">\n",
              "      Upload widget is only available when the cell has been executed in the\n",
              "      current browser session. Please rerun this cell to enable.\n",
              "      </output>\n",
              "      <script src=\"/nbextensions/google.colab/files.js\"></script> "
            ],
            "text/plain": [
              "<IPython.core.display.HTML object>"
            ]
          },
          "metadata": {
            "tags": []
          }
        },
        {
          "output_type": "stream",
          "text": [
            "Saving employees.csv to employees.csv\n"
          ],
          "name": "stdout"
        }
      ]
    },
    {
      "cell_type": "code",
      "metadata": {
        "id": "dA7WDXeK6v5v"
      },
      "source": [
        "# specifying which ones are to be considered as missing values\r\n",
        "missing_value_formats = [\"n.a.\",\"?\",\"NA\",\"n/a\", \"na\", \"--\"]\r\n",
        "Employees = pd.read_csv(\"employees.csv\", na_values = missing_value_formats)"
      ],
      "execution_count": null,
      "outputs": []
    },
    {
      "cell_type": "code",
      "metadata": {
        "id": "VLdfg7ya7NVs"
      },
      "source": [
        "Employees['Date_of_Birth'] = [np.random.choice(pd.date_range(start='1990-01-01',end='2000-12-31')) for i in range(Employees.shape[0])]"
      ],
      "execution_count": null,
      "outputs": []
    },
    {
      "cell_type": "code",
      "metadata": {
        "id": "OLTeSK0e7uB7"
      },
      "source": [
        "Employees['Target'] = np.random.randint(0,2, size=Employees.shape[0]) "
      ],
      "execution_count": null,
      "outputs": []
    },
    {
      "cell_type": "code",
      "metadata": {
        "colab": {
          "base_uri": "https://localhost:8080/",
          "height": 197
        },
        "id": "hmSw4jm-7S7K",
        "outputId": "6b566264-c741-4ba9-ee51-bc1b6bf85b5a"
      },
      "source": [
        "Employees.head()"
      ],
      "execution_count": null,
      "outputs": [
        {
          "output_type": "execute_result",
          "data": {
            "text/html": [
              "<div>\n",
              "<style scoped>\n",
              "    .dataframe tbody tr th:only-of-type {\n",
              "        vertical-align: middle;\n",
              "    }\n",
              "\n",
              "    .dataframe tbody tr th {\n",
              "        vertical-align: top;\n",
              "    }\n",
              "\n",
              "    .dataframe thead th {\n",
              "        text-align: right;\n",
              "    }\n",
              "</style>\n",
              "<table border=\"1\" class=\"dataframe\">\n",
              "  <thead>\n",
              "    <tr style=\"text-align: right;\">\n",
              "      <th></th>\n",
              "      <th>First Name</th>\n",
              "      <th>Gender</th>\n",
              "      <th>Salary</th>\n",
              "      <th>Bonus %</th>\n",
              "      <th>Senior Management</th>\n",
              "      <th>Team</th>\n",
              "      <th>Date_of_Birth</th>\n",
              "      <th>Target</th>\n",
              "    </tr>\n",
              "  </thead>\n",
              "  <tbody>\n",
              "    <tr>\n",
              "      <th>0</th>\n",
              "      <td>Douglas</td>\n",
              "      <td>Male</td>\n",
              "      <td>97308.0</td>\n",
              "      <td>6.945</td>\n",
              "      <td>True</td>\n",
              "      <td>Marketing</td>\n",
              "      <td>1997-09-12</td>\n",
              "      <td>0</td>\n",
              "    </tr>\n",
              "    <tr>\n",
              "      <th>1</th>\n",
              "      <td>Thomas</td>\n",
              "      <td>Male</td>\n",
              "      <td>61933.0</td>\n",
              "      <td>NaN</td>\n",
              "      <td>True</td>\n",
              "      <td>NaN</td>\n",
              "      <td>1991-03-12</td>\n",
              "      <td>0</td>\n",
              "    </tr>\n",
              "    <tr>\n",
              "      <th>2</th>\n",
              "      <td>Maria</td>\n",
              "      <td>Female</td>\n",
              "      <td>130590.0</td>\n",
              "      <td>11.858</td>\n",
              "      <td>False</td>\n",
              "      <td>Finance</td>\n",
              "      <td>1992-12-10</td>\n",
              "      <td>1</td>\n",
              "    </tr>\n",
              "    <tr>\n",
              "      <th>3</th>\n",
              "      <td>Jerry</td>\n",
              "      <td>Male</td>\n",
              "      <td>NaN</td>\n",
              "      <td>9.340</td>\n",
              "      <td>True</td>\n",
              "      <td>Finance</td>\n",
              "      <td>1992-01-20</td>\n",
              "      <td>0</td>\n",
              "    </tr>\n",
              "    <tr>\n",
              "      <th>4</th>\n",
              "      <td>Larry</td>\n",
              "      <td>Male</td>\n",
              "      <td>101004.0</td>\n",
              "      <td>1.389</td>\n",
              "      <td>True</td>\n",
              "      <td>Client Services</td>\n",
              "      <td>1997-09-14</td>\n",
              "      <td>1</td>\n",
              "    </tr>\n",
              "  </tbody>\n",
              "</table>\n",
              "</div>"
            ],
            "text/plain": [
              "  First Name  Gender    Salary  Bonus % Senior Management             Team  \\\n",
              "0    Douglas    Male   97308.0    6.945              True        Marketing   \n",
              "1     Thomas    Male   61933.0      NaN              True              NaN   \n",
              "2      Maria  Female  130590.0   11.858             False          Finance   \n",
              "3      Jerry    Male       NaN    9.340              True          Finance   \n",
              "4      Larry    Male  101004.0    1.389              True  Client Services   \n",
              "\n",
              "  Date_of_Birth  Target  \n",
              "0    1997-09-12       0  \n",
              "1    1991-03-12       0  \n",
              "2    1992-12-10       1  \n",
              "3    1992-01-20       0  \n",
              "4    1997-09-14       1  "
            ]
          },
          "metadata": {
            "tags": []
          },
          "execution_count": 8
        }
      ]
    },
    {
      "cell_type": "code",
      "metadata": {
        "colab": {
          "base_uri": "https://localhost:8080/"
        },
        "id": "QG-7nmF27U_h",
        "outputId": "75418dcb-f2b3-4f05-e7fd-1d74b0b7d035"
      },
      "source": [
        "from sklearn.model_selection import train_test_split\r\n",
        "\r\n",
        "print(\"\\nSplitting 80% project_data into Train and remaining as Test data\")\r\n",
        "# Seperate Independant variables from Dependent variable\r\n",
        "X = Employees.drop(['Target'],axis=1)\r\n",
        "y = Employees[['Target']]\r\n",
        "\r\n",
        "# Splitting 80% project_data into Train and remaining as Test data. shuffle=True is default\r\n",
        "X_train, X_test, y_train, y_test = train_test_split(X, y, test_size=0.20, stratify=Employees.Target, random_state=42)\r\n",
        "\r\n",
        "# Train & Test data sets\r\n",
        "Train = pd.concat([X_train, y_train], axis=1)\r\n",
        "Test = pd.concat([X_test, y_test], axis=1)\r\n",
        "\r\n",
        "print(Train.shape)\r\n",
        "print(Test.shape)"
      ],
      "execution_count": null,
      "outputs": [
        {
          "output_type": "stream",
          "text": [
            "\n",
            "Splitting 80% project_data into Train and remaining as Test data\n",
            "(800, 8)\n",
            "(200, 8)\n"
          ],
          "name": "stdout"
        }
      ]
    },
    {
      "cell_type": "code",
      "metadata": {
        "colab": {
          "base_uri": "https://localhost:8080/"
        },
        "id": "7b1J29e09X7q",
        "outputId": "4f05bc12-effa-4bf0-a9ca-e6d7585d5fe9"
      },
      "source": [
        "pd.value_counts(Employees['First Name']).head()"
      ],
      "execution_count": null,
      "outputs": [
        {
          "output_type": "execute_result",
          "data": {
            "text/plain": [
              "Marilyn    11\n",
              "Jeremy     10\n",
              "Barbara    10\n",
              "Todd       10\n",
              "Irene       9\n",
              "Name: First Name, dtype: int64"
            ]
          },
          "metadata": {
            "tags": []
          },
          "execution_count": 10
        }
      ]
    },
    {
      "cell_type": "code",
      "metadata": {
        "colab": {
          "base_uri": "https://localhost:8080/"
        },
        "id": "cia3yvY_8FFL",
        "outputId": "2e9b403f-3302-400b-84cf-925b51129585"
      },
      "source": [
        "import random\r\n",
        "\r\n",
        "# Split data into Train and Test by First Name\r\n",
        "# Unique names are split into 80:20 ratio\r\n",
        "Names = pd.unique(Employees['First Name'])\r\n",
        "Train_Names = random.sample(list(Names),np.ceil(len(Names)*0.8).astype(int))\r\n",
        "Test_Names = set(Names).difference(set(Train_Names))\r\n",
        "\r\n",
        "Train = Employees[Employees['First Name'].isin(Train_Names)]\r\n",
        "Test = Employees[Employees['First Name'].isin(Test_Names)]\r\n",
        "\r\n",
        "print(Train.shape)\r\n",
        "print(Test.shape)"
      ],
      "execution_count": null,
      "outputs": [
        {
          "output_type": "stream",
          "text": [
            "(823, 8)\n",
            "(177, 8)\n"
          ],
          "name": "stdout"
        }
      ]
    },
    {
      "cell_type": "code",
      "metadata": {
        "colab": {
          "base_uri": "https://localhost:8080/"
        },
        "id": "HgEGfran99Nn",
        "outputId": "f3f068a7-140d-405e-a5d6-b2ad1d97437e"
      },
      "source": [
        "# Split first 80% rows into Train and remaining 20% rows into Test\r\n",
        "Train = Employees.iloc[:int(Employees.shape[0]*0.80)] #Extracting first 80%\r\n",
        "Test = Employees.iloc[int(Employees.shape[0]*0.80):] # Exracting remaining\r\n",
        "\r\n",
        "# First 80% of rows as Train and later as Test\r\n",
        "Train,Test = np.split(Employees, [int(.8 *len(Employees))])\r\n",
        "print(Train.shape)\r\n",
        "print(Test.shape)"
      ],
      "execution_count": null,
      "outputs": [
        {
          "output_type": "stream",
          "text": [
            "(800, 8)\n",
            "(200, 8)\n"
          ],
          "name": "stdout"
        }
      ]
    },
    {
      "cell_type": "code",
      "metadata": {
        "id": "vbt0QJ-r-W-S"
      },
      "source": [
        "# Splitting based on date variable\r\n",
        "# just filter the data"
      ],
      "execution_count": null,
      "outputs": []
    },
    {
      "cell_type": "markdown",
      "metadata": {
        "id": "MIxNwr2C_k4l"
      },
      "source": [
        "### FARM_FINGERPRINT \r\n",
        "* Open-source hashing algorithm that is implemented consistently in C++ (and hence: Java or Python) and in BigQuery SQL.\r\n",
        "* or example, if you are training a model to predict flight delays, the arrival delays of flights on the same day will be highly correlated with each other. This is called leakage, and it is an important problem to avoid when doing machine learning. All the flights on any given date will belong to the same split — train, valid, or test. This is repeatable regardless of things like the random seed."
      ]
    },
    {
      "cell_type": "code",
      "metadata": {
        "id": "8LpEdX4L_S-V"
      },
      "source": [
        "Employees['LoginDate'] = [np.random.choice(pd.date_range(start='2020-06-30',end='2020-07-15')) for i in range(Employees.shape[0])]"
      ],
      "execution_count": null,
      "outputs": []
    },
    {
      "cell_type": "code",
      "metadata": {
        "id": "uPHbBr7-Dobm"
      },
      "source": [
        "Employees = Employees.dropna()"
      ],
      "execution_count": null,
      "outputs": []
    },
    {
      "cell_type": "code",
      "metadata": {
        "id": "FJiQA9zlCd1E"
      },
      "source": [
        "# Hash - strings\r\n",
        "# Missing values are removed from the column on which we want to apply hash function\r\n",
        "import farmhash\r\n",
        "Employees['Name_Hash'] = Employees['First Name'].map(farmhash.hash64)\r\n",
        "# df.apply(lambda x: farmhash.hash64(x)) # on whole dataframe use apply"
      ],
      "execution_count": null,
      "outputs": []
    },
    {
      "cell_type": "code",
      "metadata": {
        "id": "RU3TOuWiIBMS"
      },
      "source": [
        "Employees['LoginDate_Hash'] = Employees['LoginDate'].astype(str).map(farmhash.hash64)"
      ],
      "execution_count": null,
      "outputs": []
    },
    {
      "cell_type": "code",
      "metadata": {
        "colab": {
          "base_uri": "https://localhost:8080/"
        },
        "id": "YrBtKmOmGFaK",
        "outputId": "139d8a3b-977a-434c-bfd5-4978f2d3511b"
      },
      "source": [
        "# split data based on hash column\r\n",
        "# if remainder <8 then train\r\n",
        "Train = Employees[abs(Employees.LoginDate_Hash%10)<8]\r\n",
        "Test = Employees[abs(Employees.LoginDate_Hash%10)>=8]\r\n",
        "print(Train.shape)\r\n",
        "print(Test.shape)"
      ],
      "execution_count": null,
      "outputs": [
        {
          "output_type": "stream",
          "text": [
            "(515, 11)\n",
            "(227, 11)\n"
          ],
          "name": "stdout"
        }
      ]
    },
    {
      "cell_type": "code",
      "metadata": {
        "colab": {
          "base_uri": "https://localhost:8080/"
        },
        "id": "TDh46wtXGvBD",
        "outputId": "d374959e-db5b-4bda-cf3a-56a9f1916303"
      },
      "source": [
        "np.unique(abs(Employees.LoginDate_Hash%10))"
      ],
      "execution_count": null,
      "outputs": [
        {
          "output_type": "execute_result",
          "data": {
            "text/plain": [
              "array([0, 1, 3, 5, 6, 7, 8, 9], dtype=uint64)"
            ]
          },
          "metadata": {
            "tags": []
          },
          "execution_count": 19
        }
      ]
    },
    {
      "cell_type": "code",
      "metadata": {
        "colab": {
          "base_uri": "https://localhost:8080/",
          "height": 197
        },
        "id": "ocGqjtWIDuIK",
        "outputId": "c8646c29-c14e-4e96-a123-1f40af97de3c"
      },
      "source": [
        "Employees.head()"
      ],
      "execution_count": null,
      "outputs": [
        {
          "output_type": "execute_result",
          "data": {
            "text/html": [
              "<div>\n",
              "<style scoped>\n",
              "    .dataframe tbody tr th:only-of-type {\n",
              "        vertical-align: middle;\n",
              "    }\n",
              "\n",
              "    .dataframe tbody tr th {\n",
              "        vertical-align: top;\n",
              "    }\n",
              "\n",
              "    .dataframe thead th {\n",
              "        text-align: right;\n",
              "    }\n",
              "</style>\n",
              "<table border=\"1\" class=\"dataframe\">\n",
              "  <thead>\n",
              "    <tr style=\"text-align: right;\">\n",
              "      <th></th>\n",
              "      <th>First Name</th>\n",
              "      <th>Gender</th>\n",
              "      <th>Salary</th>\n",
              "      <th>Bonus %</th>\n",
              "      <th>Senior Management</th>\n",
              "      <th>Team</th>\n",
              "      <th>Date_of_Birth</th>\n",
              "      <th>Target</th>\n",
              "      <th>LoginDate</th>\n",
              "      <th>Name_Hash</th>\n",
              "      <th>LoginDate_Hash</th>\n",
              "    </tr>\n",
              "  </thead>\n",
              "  <tbody>\n",
              "    <tr>\n",
              "      <th>0</th>\n",
              "      <td>Douglas</td>\n",
              "      <td>Male</td>\n",
              "      <td>97308.0</td>\n",
              "      <td>6.945</td>\n",
              "      <td>True</td>\n",
              "      <td>Marketing</td>\n",
              "      <td>1997-09-12</td>\n",
              "      <td>0</td>\n",
              "      <td>2020-07-04</td>\n",
              "      <td>13089925452571571431</td>\n",
              "      <td>5110218570070884505</td>\n",
              "    </tr>\n",
              "    <tr>\n",
              "      <th>2</th>\n",
              "      <td>Maria</td>\n",
              "      <td>Female</td>\n",
              "      <td>130590.0</td>\n",
              "      <td>11.858</td>\n",
              "      <td>False</td>\n",
              "      <td>Finance</td>\n",
              "      <td>1992-12-10</td>\n",
              "      <td>1</td>\n",
              "      <td>2020-07-13</td>\n",
              "      <td>7977770318440479964</td>\n",
              "      <td>12944729872673653367</td>\n",
              "    </tr>\n",
              "    <tr>\n",
              "      <th>4</th>\n",
              "      <td>Larry</td>\n",
              "      <td>Male</td>\n",
              "      <td>101004.0</td>\n",
              "      <td>1.389</td>\n",
              "      <td>True</td>\n",
              "      <td>Client Services</td>\n",
              "      <td>1997-09-14</td>\n",
              "      <td>1</td>\n",
              "      <td>2020-07-07</td>\n",
              "      <td>1017167388419051281</td>\n",
              "      <td>16496207191609800238</td>\n",
              "    </tr>\n",
              "    <tr>\n",
              "      <th>6</th>\n",
              "      <td>Ruby</td>\n",
              "      <td>Female</td>\n",
              "      <td>65476.0</td>\n",
              "      <td>10.012</td>\n",
              "      <td>True</td>\n",
              "      <td>Product</td>\n",
              "      <td>1993-05-05</td>\n",
              "      <td>0</td>\n",
              "      <td>2020-07-04</td>\n",
              "      <td>6548883630689698183</td>\n",
              "      <td>5110218570070884505</td>\n",
              "    </tr>\n",
              "    <tr>\n",
              "      <th>9</th>\n",
              "      <td>Frances</td>\n",
              "      <td>Female</td>\n",
              "      <td>139852.0</td>\n",
              "      <td>7.524</td>\n",
              "      <td>True</td>\n",
              "      <td>Business Development</td>\n",
              "      <td>1998-12-05</td>\n",
              "      <td>1</td>\n",
              "      <td>2020-07-05</td>\n",
              "      <td>4116071532306498785</td>\n",
              "      <td>17670039732204069343</td>\n",
              "    </tr>\n",
              "  </tbody>\n",
              "</table>\n",
              "</div>"
            ],
            "text/plain": [
              "  First Name  Gender    Salary  Bonus % Senior Management  \\\n",
              "0    Douglas    Male   97308.0    6.945              True   \n",
              "2      Maria  Female  130590.0   11.858             False   \n",
              "4      Larry    Male  101004.0    1.389              True   \n",
              "6       Ruby  Female   65476.0   10.012              True   \n",
              "9    Frances  Female  139852.0    7.524              True   \n",
              "\n",
              "                   Team Date_of_Birth  Target  LoginDate  \\\n",
              "0             Marketing    1997-09-12       0 2020-07-04   \n",
              "2               Finance    1992-12-10       1 2020-07-13   \n",
              "4       Client Services    1997-09-14       1 2020-07-07   \n",
              "6               Product    1993-05-05       0 2020-07-04   \n",
              "9  Business Development    1998-12-05       1 2020-07-05   \n",
              "\n",
              "              Name_Hash        LoginDate_Hash  \n",
              "0  13089925452571571431   5110218570070884505  \n",
              "2   7977770318440479964  12944729872673653367  \n",
              "4   1017167388419051281  16496207191609800238  \n",
              "6   6548883630689698183   5110218570070884505  \n",
              "9   4116071532306498785  17670039732204069343  "
            ]
          },
          "metadata": {
            "tags": []
          },
          "execution_count": 20
        }
      ]
    },
    {
      "cell_type": "code",
      "metadata": {
        "colab": {
          "base_uri": "https://localhost:8080/"
        },
        "id": "MOc0HkhqAAbf",
        "outputId": "2d3c696f-3083-4af9-aefe-0105fc6ea78c"
      },
      "source": [
        "import farmhash\r\n",
        "print(farmhash.hash64('6823339101'))"
      ],
      "execution_count": null,
      "outputs": [
        {
          "output_type": "stream",
          "text": [
            "17557133836170941146\n"
          ],
          "name": "stdout"
        }
      ]
    },
    {
      "cell_type": "code",
      "metadata": {
        "colab": {
          "base_uri": "https://localhost:8080/"
        },
        "id": "ZM-bXw4aBTYi",
        "outputId": "f458c69c-27f0-4e69-c7c7-900c80091bfc"
      },
      "source": [
        "print(farmhash.fingerprint64('6823339101'))"
      ],
      "execution_count": null,
      "outputs": [
        {
          "output_type": "stream",
          "text": [
            "17557133836170941146\n"
          ],
          "name": "stdout"
        }
      ]
    },
    {
      "cell_type": "code",
      "metadata": {
        "colab": {
          "base_uri": "https://localhost:8080/",
          "height": 35
        },
        "id": "_y44XcQ6FTqj",
        "outputId": "e296c19e-09d8-41d7-8295-a4f49f78bfe0"
      },
      "source": [
        "import hashlib\r\n",
        "# hashlib.md5(Test.encode('ascii')).hexdigest()\r\n",
        "\r\n",
        "hashlib.md5(('6823339101').encode()).hexdigest()"
      ],
      "execution_count": null,
      "outputs": [
        {
          "output_type": "execute_result",
          "data": {
            "application/vnd.google.colaboratory.intrinsic+json": {
              "type": "string"
            },
            "text/plain": [
              "'891e2039367d4a8cec11fab477538b8f'"
            ]
          },
          "metadata": {
            "tags": []
          },
          "execution_count": 23
        }
      ]
    },
    {
      "cell_type": "markdown",
      "metadata": {
        "id": "0HX8q-MbFVWf"
      },
      "source": [
        "### Cross-validation: manual upsample within folds is same as Using the imblearn pipeline https://kiwidamien.github.io/how-to-do-cross-validation-when-upsampling-data.html"
      ]
    },
    {
      "cell_type": "code",
      "metadata": {
        "id": "wX6eKRgTHpW0"
      },
      "source": [
        "import warnings\r\n",
        "warnings.simplefilter('ignore')\r\n",
        "\r\n",
        "from imblearn.pipeline import Pipeline, make_pipeline\r\n",
        "from sklearn.ensemble import RandomForestClassifier\r\n",
        "from sklearn.model_selection import cross_val_score,KFold,GridSearchCV\r\n",
        "from sklearn.metrics import recall_score"
      ],
      "execution_count": 49,
      "outputs": []
    },
    {
      "cell_type": "code",
      "metadata": {
        "id": "CKeAd4zsIIgc"
      },
      "source": [
        "# Extract only numeric variables\r\n",
        "Employees_Num = Employees.select_dtypes(include = np.number)\r\n",
        "\r\n",
        "# Seperate Independant variables from Dependent variable\r\n",
        "X = Employees_Num.drop(['Target'],axis=1)\r\n",
        "y = Employees_Num[['Target']]\r\n",
        "\r\n",
        "# Splitting 80% project_data into Train and remaining as Test data. shuffle=True is default\r\n",
        "X_train, X_test, y_train, y_test = train_test_split(X, y, test_size=0.20, stratify=Employees.Target, random_state=42)\r\n"
      ],
      "execution_count": 50,
      "outputs": []
    },
    {
      "cell_type": "code",
      "metadata": {
        "colab": {
          "base_uri": "https://localhost:8080/",
          "height": 197
        },
        "id": "zGI8gZGPJAnJ",
        "outputId": "0fb368f3-9c5d-4612-e1aa-7c06a3413082"
      },
      "source": [
        "Employees_Num.head()"
      ],
      "execution_count": 51,
      "outputs": [
        {
          "output_type": "execute_result",
          "data": {
            "text/html": [
              "<div>\n",
              "<style scoped>\n",
              "    .dataframe tbody tr th:only-of-type {\n",
              "        vertical-align: middle;\n",
              "    }\n",
              "\n",
              "    .dataframe tbody tr th {\n",
              "        vertical-align: top;\n",
              "    }\n",
              "\n",
              "    .dataframe thead th {\n",
              "        text-align: right;\n",
              "    }\n",
              "</style>\n",
              "<table border=\"1\" class=\"dataframe\">\n",
              "  <thead>\n",
              "    <tr style=\"text-align: right;\">\n",
              "      <th></th>\n",
              "      <th>Salary</th>\n",
              "      <th>Bonus %</th>\n",
              "      <th>Target</th>\n",
              "      <th>Name_Hash</th>\n",
              "      <th>LoginDate_Hash</th>\n",
              "    </tr>\n",
              "  </thead>\n",
              "  <tbody>\n",
              "    <tr>\n",
              "      <th>0</th>\n",
              "      <td>97308.0</td>\n",
              "      <td>6.945</td>\n",
              "      <td>0</td>\n",
              "      <td>13089925452571571431</td>\n",
              "      <td>5110218570070884505</td>\n",
              "    </tr>\n",
              "    <tr>\n",
              "      <th>2</th>\n",
              "      <td>130590.0</td>\n",
              "      <td>11.858</td>\n",
              "      <td>1</td>\n",
              "      <td>7977770318440479964</td>\n",
              "      <td>12944729872673653367</td>\n",
              "    </tr>\n",
              "    <tr>\n",
              "      <th>4</th>\n",
              "      <td>101004.0</td>\n",
              "      <td>1.389</td>\n",
              "      <td>1</td>\n",
              "      <td>1017167388419051281</td>\n",
              "      <td>16496207191609800238</td>\n",
              "    </tr>\n",
              "    <tr>\n",
              "      <th>6</th>\n",
              "      <td>65476.0</td>\n",
              "      <td>10.012</td>\n",
              "      <td>0</td>\n",
              "      <td>6548883630689698183</td>\n",
              "      <td>5110218570070884505</td>\n",
              "    </tr>\n",
              "    <tr>\n",
              "      <th>9</th>\n",
              "      <td>139852.0</td>\n",
              "      <td>7.524</td>\n",
              "      <td>1</td>\n",
              "      <td>4116071532306498785</td>\n",
              "      <td>17670039732204069343</td>\n",
              "    </tr>\n",
              "  </tbody>\n",
              "</table>\n",
              "</div>"
            ],
            "text/plain": [
              "     Salary  Bonus %  Target             Name_Hash        LoginDate_Hash\n",
              "0   97308.0    6.945       0  13089925452571571431   5110218570070884505\n",
              "2  130590.0   11.858       1   7977770318440479964  12944729872673653367\n",
              "4  101004.0    1.389       1   1017167388419051281  16496207191609800238\n",
              "6   65476.0   10.012       0   6548883630689698183   5110218570070884505\n",
              "9  139852.0    7.524       1   4116071532306498785  17670039732204069343"
            ]
          },
          "metadata": {
            "tags": []
          },
          "execution_count": 51
        }
      ]
    },
    {
      "cell_type": "code",
      "metadata": {
        "colab": {
          "base_uri": "https://localhost:8080/"
        },
        "id": "fhEmzJLPHspt",
        "outputId": "9af90f49-a0c8-42c2-aa2d-889d8ff6db22"
      },
      "source": [
        "imba_pipeline = make_pipeline(SMOTE(random_state=42), \r\n",
        "                              RandomForestClassifier(n_estimators=100, random_state=13))\r\n",
        "\r\n",
        "kf = KFold(n_splits=5, random_state=42, shuffle=False)\r\n",
        "cross_val_score(imba_pipeline, X_train, y_train, scoring='recall', cv=kf)\r\n",
        "# Returns Array of scores of the estimator for each run of the cross validation."
      ],
      "execution_count": 52,
      "outputs": [
        {
          "output_type": "execute_result",
          "data": {
            "text/plain": [
              "array([0.57377049, 0.50909091, 0.49315068, 0.51785714, 0.45454545])"
            ]
          },
          "metadata": {
            "tags": []
          },
          "execution_count": 52
        }
      ]
    },
    {
      "cell_type": "code",
      "metadata": {
        "id": "iJ0Yc_ZYJbol"
      },
      "source": [
        "# Hyperparameter Tuning\r\n",
        "params = {\r\n",
        "    'n_estimators': [50, 100, 200],\r\n",
        "    'max_depth': [4, 6, 10, 12],\r\n",
        "    'random_state': [13]\r\n",
        "}\r\n",
        "new_params = {'randomforestclassifier__' + key: params[key] for key in params}\r\n",
        "grid_imba = GridSearchCV(imba_pipeline, param_grid=new_params, cv=kf, scoring='recall', return_train_score=True)\r\n",
        "grid_imba.fit(X_train, y_train);"
      ],
      "execution_count": 53,
      "outputs": []
    },
    {
      "cell_type": "code",
      "metadata": {
        "colab": {
          "base_uri": "https://localhost:8080/"
        },
        "id": "mi7PZW3NKAOM",
        "outputId": "d4319e24-58ca-428d-c125-c227a1846b42"
      },
      "source": [
        "grid_imba.best_params_"
      ],
      "execution_count": 54,
      "outputs": [
        {
          "output_type": "execute_result",
          "data": {
            "text/plain": [
              "{'randomforestclassifier__max_depth': 10,\n",
              " 'randomforestclassifier__n_estimators': 200,\n",
              " 'randomforestclassifier__random_state': 13}"
            ]
          },
          "metadata": {
            "tags": []
          },
          "execution_count": 54
        }
      ]
    },
    {
      "cell_type": "code",
      "metadata": {
        "colab": {
          "base_uri": "https://localhost:8080/"
        },
        "id": "f46owBgcKDUd",
        "outputId": "12d848f9-0f24-428c-c2db-5a40c2531808"
      },
      "source": [
        "grid_imba.best_score_"
      ],
      "execution_count": 55,
      "outputs": [
        {
          "output_type": "execute_result",
          "data": {
            "text/plain": [
              "0.5023917919044799"
            ]
          },
          "metadata": {
            "tags": []
          },
          "execution_count": 55
        }
      ]
    },
    {
      "cell_type": "code",
      "metadata": {
        "colab": {
          "base_uri": "https://localhost:8080/"
        },
        "id": "8o1MCsEnKF4C",
        "outputId": "9dd11a0f-5996-4824-f940-d0d816f79e9c"
      },
      "source": [
        "y_test_predict = grid_imba.predict(X_test)\r\n",
        "recall_score(y_test, y_test_predict)"
      ],
      "execution_count": 56,
      "outputs": [
        {
          "output_type": "execute_result",
          "data": {
            "text/plain": [
              "0.3684210526315789"
            ]
          },
          "metadata": {
            "tags": []
          },
          "execution_count": 56
        }
      ]
    }
  ]
}